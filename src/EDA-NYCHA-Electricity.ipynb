{
 "cells": [
  {
   "cell_type": "code",
   "execution_count": 1,
   "metadata": {},
   "outputs": [
    {
     "data": {
      "text/html": [
       "<script type=\"text/javascript\">window.PlotlyConfig = {MathJaxConfig: 'local'};</script><script type=\"text/javascript\">if (window.MathJax) {MathJax.Hub.Config({SVG: {font: \"STIX-Web\"}});}</script><script>requirejs.config({paths: { 'plotly': ['https://cdn.plot.ly/plotly-latest.min']},});if(!window._Plotly) {require(['plotly'],function(plotly) {window._Plotly=plotly;});}</script>"
      ],
      "text/vnd.plotly.v1+html": [
       "<script type=\"text/javascript\">window.PlotlyConfig = {MathJaxConfig: 'local'};</script><script type=\"text/javascript\">if (window.MathJax) {MathJax.Hub.Config({SVG: {font: \"STIX-Web\"}});}</script><script>requirejs.config({paths: { 'plotly': ['https://cdn.plot.ly/plotly-latest.min']},});if(!window._Plotly) {require(['plotly'],function(plotly) {window._Plotly=plotly;});}</script>"
      ]
     },
     "metadata": {},
     "output_type": "display_data"
    }
   ],
   "source": [
    "from __future__ import division\n",
    "import pandas as pd\n",
    "import numpy as np\n",
    "import pandasql as pdsql\n",
    "from datetime import datetime\n",
    "from datetime import timedelta\n",
    "from dateutil.relativedelta import *\n",
    "\n",
    "# import matplotlib as mpl\n",
    "import matplotlib.pyplot as plt\n",
    "# Setup matplotlib to display in notebook:\n",
    "%matplotlib inline\n",
    "\n",
    "import plotly.plotly as py\n",
    "import plotly.graph_objs as go\n",
    "from plotly.offline import init_notebook_mode, iplot\n",
    "init_notebook_mode(connected=True)         # initiate notebook for offline plot\n"
   ]
  },
  {
   "cell_type": "markdown",
   "metadata": {},
   "source": [
    "### 1. Read in the data "
   ]
  },
  {
   "cell_type": "code",
   "execution_count": 2,
   "metadata": {
    "collapsed": true
   },
   "outputs": [],
   "source": [
    "df = pd.read_csv(\"../data/NYC Open Data - Electric_Consumption_And_Cost__2010_-__June_2018_.csv\", low_memory=False)"
   ]
  },
  {
   "cell_type": "code",
   "execution_count": 3,
   "metadata": {},
   "outputs": [
    {
     "data": {
      "text/plain": [
       "(313147, 27)"
      ]
     },
     "execution_count": 3,
     "metadata": {},
     "output_type": "execute_result"
    }
   ],
   "source": [
    "df.shape"
   ]
  },
  {
   "cell_type": "markdown",
   "metadata": {},
   "source": [
    "#### Check the number of empty values in each column"
   ]
  },
  {
   "cell_type": "code",
   "execution_count": 4,
   "metadata": {},
   "outputs": [
    {
     "data": {
      "text/plain": [
       "Development Name         146\n",
       "Borough                  146\n",
       "Account Name             146\n",
       "Location                9041\n",
       "Meter AMR                187\n",
       "Meter Scope           296588\n",
       "TDS #                   1717\n",
       "EDP                      146\n",
       "RC Code                  146\n",
       "Funding Source           146\n",
       "AMP #                   1657\n",
       "Vendor Name              146\n",
       "UMIS BILL ID             146\n",
       "Revenue Month            146\n",
       "Service Start Date       146\n",
       "Service End Date         146\n",
       "# days                   146\n",
       "Meter Number             146\n",
       "Estimated                146\n",
       "Current Charges          146\n",
       "Rate Class               146\n",
       "Bill Analyzed            146\n",
       "Consumption (KWH)        146\n",
       "KWH Charges              146\n",
       "Consumption (KW)         146\n",
       "KW Charges               146\n",
       "Other charges            146\n",
       "dtype: int64"
      ]
     },
     "execution_count": 4,
     "metadata": {},
     "output_type": "execute_result"
    }
   ],
   "source": [
    "df.isnull().sum()"
   ]
  },
  {
   "cell_type": "markdown",
   "metadata": {},
   "source": [
    "## Part I - General Data Cleaning"
   ]
  },
  {
   "cell_type": "markdown",
   "metadata": {},
   "source": [
    "### 2. Remove empty rows"
   ]
  },
  {
   "cell_type": "code",
   "execution_count": 5,
   "metadata": {
    "collapsed": true
   },
   "outputs": [],
   "source": [
    "mask = (pd.isna(df['Account Name']) == True)\n",
    "df.drop(mask[mask == True].index, axis = 0, inplace = True)"
   ]
  },
  {
   "cell_type": "markdown",
   "metadata": {},
   "source": [
    "### 3. Remove rows where electricity charges were estimated"
   ]
  },
  {
   "cell_type": "code",
   "execution_count": 6,
   "metadata": {
    "collapsed": true
   },
   "outputs": [],
   "source": [
    "df.drop(df.loc[df['Estimated'] == 'Y         '].index, axis = 0, inplace = True)"
   ]
  },
  {
   "cell_type": "markdown",
   "metadata": {},
   "source": [
    "#### Check data types of columns"
   ]
  },
  {
   "cell_type": "code",
   "execution_count": 7,
   "metadata": {},
   "outputs": [
    {
     "data": {
      "text/plain": [
       "Development Name       object\n",
       "Borough                object\n",
       "Account Name           object\n",
       "Location               object\n",
       "Meter AMR              object\n",
       "Meter Scope            object\n",
       "TDS #                 float64\n",
       "EDP                   float64\n",
       "RC Code                object\n",
       "Funding Source         object\n",
       "AMP #                  object\n",
       "Vendor Name            object\n",
       "UMIS BILL ID          float64\n",
       "Revenue Month          object\n",
       "Service Start Date     object\n",
       "Service End Date       object\n",
       "# days                float64\n",
       "Meter Number           object\n",
       "Estimated              object\n",
       "Current Charges        object\n",
       "Rate Class             object\n",
       "Bill Analyzed          object\n",
       "Consumption (KWH)     float64\n",
       "KWH Charges            object\n",
       "Consumption (KW)       object\n",
       "KW Charges             object\n",
       "Other charges          object\n",
       "dtype: object"
      ]
     },
     "execution_count": 7,
     "metadata": {},
     "output_type": "execute_result"
    }
   ],
   "source": [
    "df.dtypes"
   ]
  },
  {
   "cell_type": "markdown",
   "metadata": {},
   "source": [
    "#### Change column names for easy reference"
   ]
  },
  {
   "cell_type": "code",
   "execution_count": 8,
   "metadata": {
    "collapsed": true
   },
   "outputs": [],
   "source": [
    "df.columns = ['Development_Name', 'Borough', 'Account_Name', 'Location', 'Meter_AMR',\n",
    "       'Meter_Scope', 'TDS #', 'EDP', 'RC_Code', 'Funding_Source', 'AMP #',\n",
    "       'Vendor_Name', 'UMIS_BILL_ID', 'Revenue_Month', 'Service_Start_Date',\n",
    "       'Service_End_Date', '# days', 'Meter_Number', 'Estimated',\n",
    "       'Current_Charges', 'Rate_Class', 'Bill_Analyzed', 'Consumption_KWH',\n",
    "       'KWH_Charges', 'Consumption_KW', 'KW_Charges', 'Other_Charges']"
   ]
  },
  {
   "cell_type": "markdown",
   "metadata": {},
   "source": [
    "### 4. Data Type Converstion\n",
    "\n",
    "1. Change the following fields from string to numerical:\n",
    "    - \"Consumption_KW\", \"Current_Charges\", \"KWH_Charges\", \"KW_Charges\", \"Other_Charges\""
   ]
  },
  {
   "cell_type": "code",
   "execution_count": 9,
   "metadata": {
    "collapsed": true
   },
   "outputs": [],
   "source": [
    "df[\"Consumption_KW\"] = df[\"Consumption_KW\"].apply(lambda x: x.replace(\",\",\"\") if type(x) == str else str(x))\n",
    "df[\"Consumption_KW\"] = df[\"Consumption_KW\"].astype(float)"
   ]
  },
  {
   "cell_type": "code",
   "execution_count": 10,
   "metadata": {
    "collapsed": true
   },
   "outputs": [],
   "source": [
    "df[\"Current_Charges\"] = df[\"Current_Charges\"].apply(lambda x: x.replace(\"$\",\"\").replace(\",\",\"\").replace(\"(\",\"-\").replace(\")\",\"\") if type(x) == str else str(x))\n",
    "df[\"Current_Charges\"] = df[\"Current_Charges\"].astype(float)"
   ]
  },
  {
   "cell_type": "code",
   "execution_count": 11,
   "metadata": {
    "collapsed": true
   },
   "outputs": [],
   "source": [
    "df[\"KWH_Charges\"] = df[\"KWH_Charges\"].apply(lambda x: x.replace(\"$\",\"\").replace(\",\",\"\").replace(\"(\",\"-\").replace(\")\",\"\") if type(x) == str else str(x))\n",
    "df[\"KWH_Charges\"] = df[\"KWH_Charges\"].astype(float, inplace = True)"
   ]
  },
  {
   "cell_type": "code",
   "execution_count": 12,
   "metadata": {
    "collapsed": true
   },
   "outputs": [],
   "source": [
    "df[\"KW_Charges\"] = df[\"KW_Charges\"].apply(lambda x: x.replace(\"$\",\"\").replace(\",\",\"\").replace(\"(\",\"-\").replace(\")\",\"\") if type(x) == str else str(x))\n",
    "df[\"KW_Charges\"] = df[\"KW_Charges\"].astype(float, inplace = True)"
   ]
  },
  {
   "cell_type": "code",
   "execution_count": 13,
   "metadata": {
    "collapsed": true
   },
   "outputs": [],
   "source": [
    "df[\"Other_Charges\"] = df[\"Other_Charges\"].apply(lambda x: x.replace(\"$\",\"\").replace(\",\",\"\").replace(\"(\",\"-\").replace(\")\",\"\") if type(x) == str else str(x))\n",
    "df[\"Other_Charges\"] = df[\"Other_Charges\"].astype(float, inplace = True)"
   ]
  },
  {
   "cell_type": "markdown",
   "metadata": {},
   "source": [
    "##### More than 25% of the values for all except \"Curent Charges\" are 0, which seem unusual"
   ]
  },
  {
   "cell_type": "code",
   "execution_count": 14,
   "metadata": {},
   "outputs": [
    {
     "data": {
      "text/html": [
       "<div>\n",
       "<style scoped>\n",
       "    .dataframe tbody tr th:only-of-type {\n",
       "        vertical-align: middle;\n",
       "    }\n",
       "\n",
       "    .dataframe tbody tr th {\n",
       "        vertical-align: top;\n",
       "    }\n",
       "\n",
       "    .dataframe thead th {\n",
       "        text-align: right;\n",
       "    }\n",
       "</style>\n",
       "<table border=\"1\" class=\"dataframe\">\n",
       "  <thead>\n",
       "    <tr style=\"text-align: right;\">\n",
       "      <th></th>\n",
       "      <th>Consumption_KWH</th>\n",
       "      <th>Consumption_KW</th>\n",
       "      <th>Current_Charges</th>\n",
       "      <th>KWH_Charges</th>\n",
       "      <th>KW_Charges</th>\n",
       "      <th>Other_Charges</th>\n",
       "    </tr>\n",
       "  </thead>\n",
       "  <tbody>\n",
       "    <tr>\n",
       "      <th>count</th>\n",
       "      <td>2.612520e+05</td>\n",
       "      <td>261252.000000</td>\n",
       "      <td>261252.000000</td>\n",
       "      <td>261252.000000</td>\n",
       "      <td>261252.000000</td>\n",
       "      <td>261252.000000</td>\n",
       "    </tr>\n",
       "    <tr>\n",
       "      <th>mean</th>\n",
       "      <td>3.256572e+04</td>\n",
       "      <td>68.239881</td>\n",
       "      <td>4510.758176</td>\n",
       "      <td>1673.941416</td>\n",
       "      <td>1084.801607</td>\n",
       "      <td>1672.128898</td>\n",
       "    </tr>\n",
       "    <tr>\n",
       "      <th>std</th>\n",
       "      <td>5.307171e+04</td>\n",
       "      <td>122.266314</td>\n",
       "      <td>6630.228947</td>\n",
       "      <td>2921.443192</td>\n",
       "      <td>1807.808563</td>\n",
       "      <td>3626.935491</td>\n",
       "    </tr>\n",
       "    <tr>\n",
       "      <th>min</th>\n",
       "      <td>0.000000e+00</td>\n",
       "      <td>0.000000</td>\n",
       "      <td>-243.150000</td>\n",
       "      <td>0.000000</td>\n",
       "      <td>0.000000</td>\n",
       "      <td>-59396.430000</td>\n",
       "    </tr>\n",
       "    <tr>\n",
       "      <th>25%</th>\n",
       "      <td>0.000000e+00</td>\n",
       "      <td>0.000000</td>\n",
       "      <td>384.342500</td>\n",
       "      <td>0.000000</td>\n",
       "      <td>0.000000</td>\n",
       "      <td>0.000000</td>\n",
       "    </tr>\n",
       "    <tr>\n",
       "      <th>50%</th>\n",
       "      <td>1.136000e+04</td>\n",
       "      <td>31.510000</td>\n",
       "      <td>2536.945000</td>\n",
       "      <td>555.020000</td>\n",
       "      <td>448.370000</td>\n",
       "      <td>896.510000</td>\n",
       "    </tr>\n",
       "    <tr>\n",
       "      <th>75%</th>\n",
       "      <td>4.816000e+04</td>\n",
       "      <td>98.500000</td>\n",
       "      <td>6052.357500</td>\n",
       "      <td>2359.892500</td>\n",
       "      <td>1601.422500</td>\n",
       "      <td>2636.255000</td>\n",
       "    </tr>\n",
       "    <tr>\n",
       "      <th>max</th>\n",
       "      <td>1.779600e+06</td>\n",
       "      <td>16135.460000</td>\n",
       "      <td>329800.370000</td>\n",
       "      <td>195575.860000</td>\n",
       "      <td>78782.960000</td>\n",
       "      <td>134224.510000</td>\n",
       "    </tr>\n",
       "  </tbody>\n",
       "</table>\n",
       "</div>"
      ],
      "text/plain": [
       "       Consumption_KWH  Consumption_KW  Current_Charges    KWH_Charges  \\\n",
       "count     2.612520e+05   261252.000000    261252.000000  261252.000000   \n",
       "mean      3.256572e+04       68.239881      4510.758176    1673.941416   \n",
       "std       5.307171e+04      122.266314      6630.228947    2921.443192   \n",
       "min       0.000000e+00        0.000000      -243.150000       0.000000   \n",
       "25%       0.000000e+00        0.000000       384.342500       0.000000   \n",
       "50%       1.136000e+04       31.510000      2536.945000     555.020000   \n",
       "75%       4.816000e+04       98.500000      6052.357500    2359.892500   \n",
       "max       1.779600e+06    16135.460000    329800.370000  195575.860000   \n",
       "\n",
       "          KW_Charges  Other_Charges  \n",
       "count  261252.000000  261252.000000  \n",
       "mean     1084.801607    1672.128898  \n",
       "std      1807.808563    3626.935491  \n",
       "min         0.000000  -59396.430000  \n",
       "25%         0.000000       0.000000  \n",
       "50%       448.370000     896.510000  \n",
       "75%      1601.422500    2636.255000  \n",
       "max     78782.960000  134224.510000  "
      ]
     },
     "execution_count": 14,
     "metadata": {},
     "output_type": "execute_result"
    }
   ],
   "source": [
    "df[[\"Consumption_KWH\",  \"Consumption_KW\", \"Current_Charges\", \"KWH_Charges\", \"KW_Charges\", \"Other_Charges\"]].describe()"
   ]
  },
  {
   "cell_type": "markdown",
   "metadata": {},
   "source": [
    "2. Unify the format of \"Meter_Number\" field (some values exists in both numerical and string"
   ]
  },
  {
   "cell_type": "code",
   "execution_count": 15,
   "metadata": {
    "collapsed": true
   },
   "outputs": [],
   "source": [
    "df['Meter_Number'] = df['Meter_Number'].apply(lambda x: str(x) if type(x) == int else x)"
   ]
  },
  {
   "cell_type": "markdown",
   "metadata": {},
   "source": [
    "### 5.1 Convert Revenue_Month and Two dates to datetime type"
   ]
  },
  {
   "cell_type": "code",
   "execution_count": 16,
   "metadata": {
    "collapsed": true
   },
   "outputs": [],
   "source": [
    "df[\"Revenue_Month\"] = df[\"Revenue_Month\"].map(lambda x: datetime.strptime(x.split(\" \")[0], '%m/%d/%Y'))\n",
    "df['Service_Start_Date'] = df['Service_Start_Date'].map(lambda x: datetime.strptime(x, '%m/%d/%Y'))\n",
    "df['Service_End_Date'] = df['Service_End_Date'].map(lambda x: datetime.strptime(x, '%m/%d/%Y'))"
   ]
  },
  {
   "cell_type": "markdown",
   "metadata": {},
   "source": [
    "#### In some cases the Revenue_Month is not in the same revenue_year as the Service Start and End dates when those two are"
   ]
  },
  {
   "cell_type": "code",
   "execution_count": 17,
   "metadata": {
    "collapsed": true
   },
   "outputs": [],
   "source": [
    "df['start_date_year'] = df['Service_Start_Date'].apply(lambda x: datetime(x.year, 1, 1))\n",
    "\n",
    "df['end_date_year'] = df['Service_End_Date'].apply(lambda x: datetime(x.year, 1, 1))\n",
    "\n",
    "df['revenue_month_year'] = df['Revenue_Month'].apply(lambda x: datetime(x.year, 1, 1))\n",
    "\n",
    "mask = ((df['end_date_year'] == df['start_date_year']) & (df['revenue_month_year'] != df['end_date_year']))"
   ]
  },
  {
   "cell_type": "code",
   "execution_count": 18,
   "metadata": {},
   "outputs": [
    {
     "data": {
      "text/plain": [
       "False    261237\n",
       "True         15\n",
       "dtype: int64"
      ]
     },
     "execution_count": 18,
     "metadata": {},
     "output_type": "execute_result"
    }
   ],
   "source": [
    "mask.value_counts()"
   ]
  },
  {
   "cell_type": "code",
   "execution_count": 19,
   "metadata": {},
   "outputs": [
    {
     "data": {
      "text/html": [
       "<div>\n",
       "<style scoped>\n",
       "    .dataframe tbody tr th:only-of-type {\n",
       "        vertical-align: middle;\n",
       "    }\n",
       "\n",
       "    .dataframe tbody tr th {\n",
       "        vertical-align: top;\n",
       "    }\n",
       "\n",
       "    .dataframe thead th {\n",
       "        text-align: right;\n",
       "    }\n",
       "</style>\n",
       "<table border=\"1\" class=\"dataframe\">\n",
       "  <thead>\n",
       "    <tr style=\"text-align: right;\">\n",
       "      <th></th>\n",
       "      <th>Revenue_Month</th>\n",
       "      <th>Service_Start_Date</th>\n",
       "      <th>Service_End_Date</th>\n",
       "      <th>Meter_Number</th>\n",
       "    </tr>\n",
       "  </thead>\n",
       "  <tbody>\n",
       "    <tr>\n",
       "      <th>44361</th>\n",
       "      <td>2011-10-01</td>\n",
       "      <td>2010-09-22</td>\n",
       "      <td>2010-10-22</td>\n",
       "      <td>5934193</td>\n",
       "    </tr>\n",
       "    <tr>\n",
       "      <th>44362</th>\n",
       "      <td>2011-10-01</td>\n",
       "      <td>2010-09-22</td>\n",
       "      <td>2010-10-22</td>\n",
       "      <td>6439093</td>\n",
       "    </tr>\n",
       "    <tr>\n",
       "      <th>44363</th>\n",
       "      <td>2011-10-01</td>\n",
       "      <td>2010-09-22</td>\n",
       "      <td>2010-10-22</td>\n",
       "      <td>6443262</td>\n",
       "    </tr>\n",
       "    <tr>\n",
       "      <th>44364</th>\n",
       "      <td>2011-10-01</td>\n",
       "      <td>2010-09-22</td>\n",
       "      <td>2010-10-22</td>\n",
       "      <td>6443337</td>\n",
       "    </tr>\n",
       "    <tr>\n",
       "      <th>44365</th>\n",
       "      <td>2011-10-01</td>\n",
       "      <td>2010-09-22</td>\n",
       "      <td>2010-10-22</td>\n",
       "      <td>6443449</td>\n",
       "    </tr>\n",
       "    <tr>\n",
       "      <th>44366</th>\n",
       "      <td>2011-10-01</td>\n",
       "      <td>2010-09-22</td>\n",
       "      <td>2010-10-22</td>\n",
       "      <td>6443450</td>\n",
       "    </tr>\n",
       "    <tr>\n",
       "      <th>44367</th>\n",
       "      <td>2011-10-01</td>\n",
       "      <td>2010-09-22</td>\n",
       "      <td>2010-10-22</td>\n",
       "      <td>6443473</td>\n",
       "    </tr>\n",
       "    <tr>\n",
       "      <th>44368</th>\n",
       "      <td>2011-10-01</td>\n",
       "      <td>2010-09-22</td>\n",
       "      <td>2010-10-22</td>\n",
       "      <td>6443512</td>\n",
       "    </tr>\n",
       "    <tr>\n",
       "      <th>44369</th>\n",
       "      <td>2011-10-01</td>\n",
       "      <td>2010-09-22</td>\n",
       "      <td>2010-10-22</td>\n",
       "      <td>6443519</td>\n",
       "    </tr>\n",
       "    <tr>\n",
       "      <th>44370</th>\n",
       "      <td>2011-10-01</td>\n",
       "      <td>2010-09-22</td>\n",
       "      <td>2010-10-22</td>\n",
       "      <td>6443527</td>\n",
       "    </tr>\n",
       "    <tr>\n",
       "      <th>44371</th>\n",
       "      <td>2011-10-01</td>\n",
       "      <td>2010-09-22</td>\n",
       "      <td>2010-10-22</td>\n",
       "      <td>6443533</td>\n",
       "    </tr>\n",
       "    <tr>\n",
       "      <th>44372</th>\n",
       "      <td>2011-10-01</td>\n",
       "      <td>2010-09-22</td>\n",
       "      <td>2010-10-22</td>\n",
       "      <td>6883321</td>\n",
       "    </tr>\n",
       "    <tr>\n",
       "      <th>44373</th>\n",
       "      <td>2011-10-01</td>\n",
       "      <td>2010-09-22</td>\n",
       "      <td>2010-10-22</td>\n",
       "      <td>6883400</td>\n",
       "    </tr>\n",
       "    <tr>\n",
       "      <th>44374</th>\n",
       "      <td>2011-10-01</td>\n",
       "      <td>2010-09-22</td>\n",
       "      <td>2010-10-22</td>\n",
       "      <td>7272142</td>\n",
       "    </tr>\n",
       "    <tr>\n",
       "      <th>44375</th>\n",
       "      <td>2011-10-01</td>\n",
       "      <td>2010-09-22</td>\n",
       "      <td>2010-10-22</td>\n",
       "      <td>7838718</td>\n",
       "    </tr>\n",
       "  </tbody>\n",
       "</table>\n",
       "</div>"
      ],
      "text/plain": [
       "      Revenue_Month Service_Start_Date Service_End_Date Meter_Number\n",
       "44361    2011-10-01         2010-09-22       2010-10-22      5934193\n",
       "44362    2011-10-01         2010-09-22       2010-10-22      6439093\n",
       "44363    2011-10-01         2010-09-22       2010-10-22      6443262\n",
       "44364    2011-10-01         2010-09-22       2010-10-22      6443337\n",
       "44365    2011-10-01         2010-09-22       2010-10-22      6443449\n",
       "44366    2011-10-01         2010-09-22       2010-10-22      6443450\n",
       "44367    2011-10-01         2010-09-22       2010-10-22      6443473\n",
       "44368    2011-10-01         2010-09-22       2010-10-22      6443512\n",
       "44369    2011-10-01         2010-09-22       2010-10-22      6443519\n",
       "44370    2011-10-01         2010-09-22       2010-10-22      6443527\n",
       "44371    2011-10-01         2010-09-22       2010-10-22      6443533\n",
       "44372    2011-10-01         2010-09-22       2010-10-22      6883321\n",
       "44373    2011-10-01         2010-09-22       2010-10-22      6883400\n",
       "44374    2011-10-01         2010-09-22       2010-10-22      7272142\n",
       "44375    2011-10-01         2010-09-22       2010-10-22      7838718"
      ]
     },
     "execution_count": 19,
     "metadata": {},
     "output_type": "execute_result"
    }
   ],
   "source": [
    "df[mask][['Revenue_Month', 'Service_Start_Date', 'Service_End_Date', 'Meter_Number']].sort_values(['Revenue_Month', 'Service_Start_Date', 'Meter_Number'])"
   ]
  },
  {
   "cell_type": "markdown",
   "metadata": {},
   "source": [
    "#### Correct the cases where Revenue_Month is in the wrong year"
   ]
  },
  {
   "cell_type": "code",
   "execution_count": 20,
   "metadata": {
    "collapsed": true
   },
   "outputs": [],
   "source": [
    "df.loc[mask, \"Revenue_Month\"] = datetime.strptime('10/01/2010', '%m/%d/%Y')"
   ]
  },
  {
   "cell_type": "markdown",
   "metadata": {},
   "source": [
    "### 5.2 Clean up the Meter_Number field\n",
    "- remove the leadng zeros \n",
    "- remove white spaces\n",
    "- standardize the format for meter_numbers of the similar pattern"
   ]
  },
  {
   "cell_type": "code",
   "execution_count": 21,
   "metadata": {
    "collapsed": true
   },
   "outputs": [],
   "source": [
    "df['Meter_Number'] = df['Meter_Number'].apply(lambda x: x.lstrip(\"0\").strip(\" \"))"
   ]
  },
  {
   "cell_type": "code",
   "execution_count": 22,
   "metadata": {
    "collapsed": true
   },
   "outputs": [],
   "source": [
    "df['Meter_Length'] = df['Meter_Number'].apply(lambda x: len(x))"
   ]
  },
  {
   "cell_type": "code",
   "execution_count": 23,
   "metadata": {},
   "outputs": [
    {
     "data": {
      "text/plain": [
       "7     257942\n",
       "8       1847\n",
       "12       456\n",
       "5        427\n",
       "6        292\n",
       "18       287\n",
       "10         1\n",
       "Name: Meter_Length, dtype: int64"
      ]
     },
     "execution_count": 23,
     "metadata": {},
     "output_type": "execute_result"
    }
   ],
   "source": [
    "df['Meter_Length'].value_counts()"
   ]
  },
  {
   "cell_type": "code",
   "execution_count": 24,
   "metadata": {},
   "outputs": [
    {
     "data": {
      "text/plain": [
       "7860113_7500    68\n",
       "1860113_7500    68\n",
       "7860113_1600    66\n",
       "1860113_1600    66\n",
       "8096662-41.5    35\n",
       "8096662-58.5    35\n",
       "1096662-58.5    35\n",
       "1096662-41.5    35\n",
       "8096662 41-5    12\n",
       "8096662 58-5    12\n",
       "1096662 41-5    12\n",
       "1096662 58-5    12\n",
       "Name: Meter_Number, dtype: int64"
      ]
     },
     "execution_count": 24,
     "metadata": {},
     "output_type": "execute_result"
    }
   ],
   "source": [
    "df[df['Meter_Length'] == 12]['Meter_Number'].value_counts()"
   ]
  },
  {
   "cell_type": "code",
   "execution_count": 25,
   "metadata": {
    "collapsed": true
   },
   "outputs": [],
   "source": [
    "df.loc[df['Meter_Number'] == '1096662 41-5', 'Meter_Number'] = '1096662-41.5'\n",
    "\n",
    "df.loc[df['Meter_Number'] == '1096662 58-5', 'Meter_Number'] = '1096662-58.5'\n",
    "\n",
    "df.loc[df['Meter_Number'] == '8096662 41-5', 'Meter_Number'] = '8096662-41.5'\n",
    "\n",
    "df.loc[df['Meter_Number'] == '8096662 58-5', 'Meter_Number'] = '8096662-58.5'"
   ]
  },
  {
   "cell_type": "markdown",
   "metadata": {},
   "source": [
    "#### Check \"Meter Scope\": Do the row with a range value represent a \"Master Meter\" (i.e. its value is the sum of other related rows)? - No"
   ]
  },
  {
   "cell_type": "markdown",
   "metadata": {
    "collapsed": true
   },
   "source": [
    "df['Meter Scope'].value_counts()"
   ]
  },
  {
   "cell_type": "markdown",
   "metadata": {
    "collapsed": true
   },
   "source": [
    "df[(df['TDS #'] == 118) & (df[\"Revenue_Month\"] == '2010-02-01')][[\"Location\", \"Meter Scope\", \"Revenue_Month\", \"Current_Charges\"]]"
   ]
  },
  {
   "cell_type": "markdown",
   "metadata": {
    "collapsed": true
   },
   "source": [
    "df[(df['Meter Scope'] == 'Community Center')].groupby('Location').mean()"
   ]
  },
  {
   "cell_type": "markdown",
   "metadata": {
    "collapsed": true
   },
   "source": [
    "df[(df['Meter Scope'] == 'BLD 1 - 9')].groupby('Location').mean()"
   ]
  },
  {
   "cell_type": "markdown",
   "metadata": {},
   "source": [
    "### 6. Create an unique identifier for each building and remove unnecessary fields"
   ]
  },
  {
   "cell_type": "code",
   "execution_count": 26,
   "metadata": {
    "collapsed": true
   },
   "outputs": [],
   "source": [
    "# the combination of TDS# and Location uniquely determines a buildling\n",
    "# Use EDP or RC Code when TDS# is not available\n",
    "df['Building_ID'] = df['TDS #'].combine_first(df['EDP']).map(str).combine_first(df['RC_Code']) \\\n",
    "                    + \" - \" + df['Location'].map(lambda x: 'NA' if pd.isna(x) else x)"
   ]
  },
  {
   "cell_type": "code",
   "execution_count": 27,
   "metadata": {},
   "outputs": [
    {
     "data": {
      "text/plain": [
       "0.6323396567299007"
      ]
     },
     "execution_count": 27,
     "metadata": {},
     "output_type": "execute_result"
    }
   ],
   "source": [
    "# Building_ID alone is not the primary key of the data\n",
    "df.groupby(['Building_ID', 'Revenue_Month']).count().shape[0]/df.shape[0]"
   ]
  },
  {
   "cell_type": "code",
   "execution_count": 28,
   "metadata": {},
   "outputs": [
    {
     "data": {
      "text/plain": [
       "0.9987636458285487"
      ]
     },
     "execution_count": 28,
     "metadata": {},
     "output_type": "execute_result"
    }
   ],
   "source": [
    "# the combination of Building_ID, meter number and revenue month is still not a primary key\n",
    "df.groupby(['Building_ID', 'Meter_Number', 'Revenue_Month']).count().shape[0]/df.shape[0]"
   ]
  },
  {
   "cell_type": "code",
   "execution_count": 29,
   "metadata": {
    "collapsed": true
   },
   "outputs": [],
   "source": [
    "# Define a list of columns of interest\n",
    "cols = ['Account_Name', 'Location', 'Building_ID', 'Meter_Number',\n",
    "        'Revenue_Month', 'Service_Start_Date', 'Service_End_Date', '# days', \n",
    "       'Current_Charges','Consumption_KWH', 'KWH_Charges',\n",
    "       'Consumption_KW', 'KW_Charges', 'Other_Charges']\n",
    "df = df[cols]"
   ]
  },
  {
   "cell_type": "code",
   "execution_count": 30,
   "metadata": {},
   "outputs": [
    {
     "data": {
      "text/plain": [
       "0.9994870852663329"
      ]
     },
     "execution_count": 30,
     "metadata": {},
     "output_type": "execute_result"
    }
   ],
   "source": [
    "# the combination of Building_ID, meter number and revenue month is almost a primary key\n",
    "df.groupby(['Building_ID', 'Meter_Number', 'Revenue_Month', 'Service_Start_Date', 'Service_End_Date']).count().shape[0]/df.shape[0]"
   ]
  },
  {
   "cell_type": "markdown",
   "metadata": {},
   "source": [
    "### 7. Drop Duplicated rows and clean up to format of Meter_Number field"
   ]
  },
  {
   "cell_type": "code",
   "execution_count": 31,
   "metadata": {
    "collapsed": true
   },
   "outputs": [],
   "source": [
    "df = df.drop_duplicates()"
   ]
  },
  {
   "cell_type": "markdown",
   "metadata": {},
   "source": [
    "### 8. Check which combinations of the 5 fields (Building_ID, Meter, Month, StartDate, EndDate) has multiple rows and why"
   ]
  },
  {
   "cell_type": "code",
   "execution_count": 32,
   "metadata": {
    "collapsed": true
   },
   "outputs": [],
   "source": [
    "idx = df.groupby(['Building_ID', 'Meter_Number', 'Revenue_Month', 'Service_Start_Date', 'Service_End_Date']).count()['Account_Name'].reset_index()\n",
    "idx.columns = ['Building_ID', 'Meter_Number', 'Revenue_Month','Service_Start_Date', 'Service_End_Date', 'Counts']\n",
    "idx = idx[idx['Counts'] > 1]\n",
    "\n",
    "dupRows = idx.sort_values('Counts', ascending = False)\n",
    "\n",
    "a = pd.merge(dupRows.iloc[:, 0:3], df[cols], on = \\\n",
    "         ['Building_ID', 'Meter_Number', 'Revenue_Month'], how = 'inner')[cols]\\\n",
    "        .sort_values(['Building_ID', 'Meter_Number', 'Revenue_Month'])"
   ]
  },
  {
   "cell_type": "markdown",
   "metadata": {},
   "source": [
    "#### half of these problematic rows has zero values in the numerical fields of charges and consumptions"
   ]
  },
  {
   "cell_type": "code",
   "execution_count": 33,
   "metadata": {},
   "outputs": [
    {
     "data": {
      "text/html": [
       "<div>\n",
       "<style scoped>\n",
       "    .dataframe tbody tr th:only-of-type {\n",
       "        vertical-align: middle;\n",
       "    }\n",
       "\n",
       "    .dataframe tbody tr th {\n",
       "        vertical-align: top;\n",
       "    }\n",
       "\n",
       "    .dataframe thead th {\n",
       "        text-align: right;\n",
       "    }\n",
       "</style>\n",
       "<table border=\"1\" class=\"dataframe\">\n",
       "  <thead>\n",
       "    <tr style=\"text-align: right;\">\n",
       "      <th></th>\n",
       "      <th>Account_Name</th>\n",
       "      <th>Location</th>\n",
       "      <th>Building_ID</th>\n",
       "      <th>Meter_Number</th>\n",
       "      <th>Revenue_Month</th>\n",
       "      <th>Service_Start_Date</th>\n",
       "      <th>Service_End_Date</th>\n",
       "      <th># days</th>\n",
       "      <th>Current_Charges</th>\n",
       "      <th>Consumption_KWH</th>\n",
       "      <th>KWH_Charges</th>\n",
       "      <th>Consumption_KW</th>\n",
       "      <th>KW_Charges</th>\n",
       "      <th>Other_Charges</th>\n",
       "    </tr>\n",
       "  </thead>\n",
       "  <tbody>\n",
       "    <tr>\n",
       "      <th>0</th>\n",
       "      <td>KINGSBOROUGH</td>\n",
       "      <td>BLD 06</td>\n",
       "      <td>10.0 - BLD 06</td>\n",
       "      <td>1864559</td>\n",
       "      <td>2012-12-01</td>\n",
       "      <td>2012-11-21</td>\n",
       "      <td>2012-12-24</td>\n",
       "      <td>33.0</td>\n",
       "      <td>0.00</td>\n",
       "      <td>0.0</td>\n",
       "      <td>0.00</td>\n",
       "      <td>0.00</td>\n",
       "      <td>0.00</td>\n",
       "      <td>0.00</td>\n",
       "    </tr>\n",
       "    <tr>\n",
       "      <th>1</th>\n",
       "      <td>KINGSBOROUGH</td>\n",
       "      <td>BLD 06</td>\n",
       "      <td>10.0 - BLD 06</td>\n",
       "      <td>1864559</td>\n",
       "      <td>2012-12-01</td>\n",
       "      <td>2012-11-21</td>\n",
       "      <td>2012-12-24</td>\n",
       "      <td>33.0</td>\n",
       "      <td>0.00</td>\n",
       "      <td>0.0</td>\n",
       "      <td>0.00</td>\n",
       "      <td>54.43</td>\n",
       "      <td>1109.09</td>\n",
       "      <td>-1109.09</td>\n",
       "    </tr>\n",
       "    <tr>\n",
       "      <th>36</th>\n",
       "      <td>KINGSBOROUGH</td>\n",
       "      <td>BLD 06</td>\n",
       "      <td>10.0 - BLD 06</td>\n",
       "      <td>1864559</td>\n",
       "      <td>2013-01-01</td>\n",
       "      <td>2012-12-24</td>\n",
       "      <td>2013-01-24</td>\n",
       "      <td>31.0</td>\n",
       "      <td>0.00</td>\n",
       "      <td>0.0</td>\n",
       "      <td>0.00</td>\n",
       "      <td>0.00</td>\n",
       "      <td>0.00</td>\n",
       "      <td>0.00</td>\n",
       "    </tr>\n",
       "    <tr>\n",
       "      <th>37</th>\n",
       "      <td>KINGSBOROUGH</td>\n",
       "      <td>BLD 06</td>\n",
       "      <td>10.0 - BLD 06</td>\n",
       "      <td>1864559</td>\n",
       "      <td>2013-01-01</td>\n",
       "      <td>2012-12-24</td>\n",
       "      <td>2013-01-24</td>\n",
       "      <td>31.0</td>\n",
       "      <td>0.00</td>\n",
       "      <td>0.0</td>\n",
       "      <td>0.00</td>\n",
       "      <td>52.08</td>\n",
       "      <td>1105.73</td>\n",
       "      <td>-1105.73</td>\n",
       "    </tr>\n",
       "    <tr>\n",
       "      <th>40</th>\n",
       "      <td>KINGSBOROUGH</td>\n",
       "      <td>BLD 06</td>\n",
       "      <td>10.0 - BLD 06</td>\n",
       "      <td>1864559</td>\n",
       "      <td>2013-02-01</td>\n",
       "      <td>2013-01-24</td>\n",
       "      <td>2013-02-25</td>\n",
       "      <td>32.0</td>\n",
       "      <td>0.00</td>\n",
       "      <td>0.0</td>\n",
       "      <td>0.00</td>\n",
       "      <td>0.00</td>\n",
       "      <td>0.00</td>\n",
       "      <td>0.00</td>\n",
       "    </tr>\n",
       "    <tr>\n",
       "      <th>41</th>\n",
       "      <td>KINGSBOROUGH</td>\n",
       "      <td>BLD 06</td>\n",
       "      <td>10.0 - BLD 06</td>\n",
       "      <td>1864559</td>\n",
       "      <td>2013-02-01</td>\n",
       "      <td>2013-01-24</td>\n",
       "      <td>2013-02-25</td>\n",
       "      <td>32.0</td>\n",
       "      <td>0.00</td>\n",
       "      <td>0.0</td>\n",
       "      <td>0.00</td>\n",
       "      <td>52.94</td>\n",
       "      <td>1166.15</td>\n",
       "      <td>-1166.15</td>\n",
       "    </tr>\n",
       "    <tr>\n",
       "      <th>42</th>\n",
       "      <td>KINGSBOROUGH</td>\n",
       "      <td>BLD 06</td>\n",
       "      <td>10.0 - BLD 06</td>\n",
       "      <td>1864559</td>\n",
       "      <td>2013-03-01</td>\n",
       "      <td>2013-02-25</td>\n",
       "      <td>2013-03-26</td>\n",
       "      <td>29.0</td>\n",
       "      <td>0.00</td>\n",
       "      <td>0.0</td>\n",
       "      <td>0.00</td>\n",
       "      <td>0.00</td>\n",
       "      <td>0.00</td>\n",
       "      <td>0.00</td>\n",
       "    </tr>\n",
       "    <tr>\n",
       "      <th>43</th>\n",
       "      <td>KINGSBOROUGH</td>\n",
       "      <td>BLD 06</td>\n",
       "      <td>10.0 - BLD 06</td>\n",
       "      <td>1864559</td>\n",
       "      <td>2013-03-01</td>\n",
       "      <td>2013-02-25</td>\n",
       "      <td>2013-03-26</td>\n",
       "      <td>29.0</td>\n",
       "      <td>0.00</td>\n",
       "      <td>0.0</td>\n",
       "      <td>0.00</td>\n",
       "      <td>50.93</td>\n",
       "      <td>1169.81</td>\n",
       "      <td>-1169.81</td>\n",
       "    </tr>\n",
       "    <tr>\n",
       "      <th>44</th>\n",
       "      <td>KINGSBOROUGH</td>\n",
       "      <td>BLD 06</td>\n",
       "      <td>10.0 - BLD 06</td>\n",
       "      <td>1864559</td>\n",
       "      <td>2013-04-01</td>\n",
       "      <td>2013-03-26</td>\n",
       "      <td>2013-04-24</td>\n",
       "      <td>29.0</td>\n",
       "      <td>0.00</td>\n",
       "      <td>0.0</td>\n",
       "      <td>0.00</td>\n",
       "      <td>0.00</td>\n",
       "      <td>0.00</td>\n",
       "      <td>0.00</td>\n",
       "    </tr>\n",
       "    <tr>\n",
       "      <th>45</th>\n",
       "      <td>KINGSBOROUGH</td>\n",
       "      <td>BLD 06</td>\n",
       "      <td>10.0 - BLD 06</td>\n",
       "      <td>1864559</td>\n",
       "      <td>2013-04-01</td>\n",
       "      <td>2013-03-26</td>\n",
       "      <td>2013-04-24</td>\n",
       "      <td>29.0</td>\n",
       "      <td>0.00</td>\n",
       "      <td>0.0</td>\n",
       "      <td>0.00</td>\n",
       "      <td>51.46</td>\n",
       "      <td>1146.50</td>\n",
       "      <td>-1146.50</td>\n",
       "    </tr>\n",
       "    <tr>\n",
       "      <th>46</th>\n",
       "      <td>KINGSBOROUGH</td>\n",
       "      <td>BLD 06</td>\n",
       "      <td>10.0 - BLD 06</td>\n",
       "      <td>1864559</td>\n",
       "      <td>2013-05-01</td>\n",
       "      <td>2013-04-24</td>\n",
       "      <td>2013-05-23</td>\n",
       "      <td>29.0</td>\n",
       "      <td>0.00</td>\n",
       "      <td>0.0</td>\n",
       "      <td>0.00</td>\n",
       "      <td>0.00</td>\n",
       "      <td>0.00</td>\n",
       "      <td>0.00</td>\n",
       "    </tr>\n",
       "    <tr>\n",
       "      <th>47</th>\n",
       "      <td>KINGSBOROUGH</td>\n",
       "      <td>BLD 06</td>\n",
       "      <td>10.0 - BLD 06</td>\n",
       "      <td>1864559</td>\n",
       "      <td>2013-05-01</td>\n",
       "      <td>2013-04-24</td>\n",
       "      <td>2013-05-23</td>\n",
       "      <td>29.0</td>\n",
       "      <td>0.00</td>\n",
       "      <td>0.0</td>\n",
       "      <td>0.00</td>\n",
       "      <td>60.96</td>\n",
       "      <td>1235.82</td>\n",
       "      <td>-1235.82</td>\n",
       "    </tr>\n",
       "    <tr>\n",
       "      <th>48</th>\n",
       "      <td>KINGSBOROUGH</td>\n",
       "      <td>BLD 06</td>\n",
       "      <td>10.0 - BLD 06</td>\n",
       "      <td>1864559</td>\n",
       "      <td>2013-06-01</td>\n",
       "      <td>2013-05-23</td>\n",
       "      <td>2013-06-24</td>\n",
       "      <td>32.0</td>\n",
       "      <td>0.00</td>\n",
       "      <td>0.0</td>\n",
       "      <td>0.00</td>\n",
       "      <td>0.00</td>\n",
       "      <td>0.00</td>\n",
       "      <td>0.00</td>\n",
       "    </tr>\n",
       "    <tr>\n",
       "      <th>49</th>\n",
       "      <td>KINGSBOROUGH</td>\n",
       "      <td>BLD 06</td>\n",
       "      <td>10.0 - BLD 06</td>\n",
       "      <td>1864559</td>\n",
       "      <td>2013-06-01</td>\n",
       "      <td>2013-05-23</td>\n",
       "      <td>2013-06-24</td>\n",
       "      <td>32.0</td>\n",
       "      <td>2044.51</td>\n",
       "      <td>0.0</td>\n",
       "      <td>0.00</td>\n",
       "      <td>74.11</td>\n",
       "      <td>1301.37</td>\n",
       "      <td>743.14</td>\n",
       "    </tr>\n",
       "    <tr>\n",
       "      <th>50</th>\n",
       "      <td>KINGSBOROUGH</td>\n",
       "      <td>BLD 06</td>\n",
       "      <td>10.0 - BLD 06</td>\n",
       "      <td>1864559</td>\n",
       "      <td>2013-07-01</td>\n",
       "      <td>2013-06-24</td>\n",
       "      <td>2013-07-24</td>\n",
       "      <td>30.0</td>\n",
       "      <td>0.00</td>\n",
       "      <td>0.0</td>\n",
       "      <td>0.00</td>\n",
       "      <td>0.00</td>\n",
       "      <td>0.00</td>\n",
       "      <td>0.00</td>\n",
       "    </tr>\n",
       "    <tr>\n",
       "      <th>51</th>\n",
       "      <td>KINGSBOROUGH</td>\n",
       "      <td>BLD 06</td>\n",
       "      <td>10.0 - BLD 06</td>\n",
       "      <td>1864559</td>\n",
       "      <td>2013-07-01</td>\n",
       "      <td>2013-06-24</td>\n",
       "      <td>2013-07-24</td>\n",
       "      <td>30.0</td>\n",
       "      <td>2357.10</td>\n",
       "      <td>0.0</td>\n",
       "      <td>0.00</td>\n",
       "      <td>84.91</td>\n",
       "      <td>1491.02</td>\n",
       "      <td>866.08</td>\n",
       "    </tr>\n",
       "    <tr>\n",
       "      <th>38</th>\n",
       "      <td>KINGSBOROUGH</td>\n",
       "      <td>BLD 06</td>\n",
       "      <td>10.0 - BLD 06</td>\n",
       "      <td>1864559</td>\n",
       "      <td>2013-08-01</td>\n",
       "      <td>2013-07-24</td>\n",
       "      <td>2013-08-22</td>\n",
       "      <td>29.0</td>\n",
       "      <td>0.00</td>\n",
       "      <td>0.0</td>\n",
       "      <td>0.00</td>\n",
       "      <td>0.00</td>\n",
       "      <td>0.00</td>\n",
       "      <td>0.00</td>\n",
       "    </tr>\n",
       "    <tr>\n",
       "      <th>39</th>\n",
       "      <td>KINGSBOROUGH</td>\n",
       "      <td>BLD 06</td>\n",
       "      <td>10.0 - BLD 06</td>\n",
       "      <td>1864559</td>\n",
       "      <td>2013-08-01</td>\n",
       "      <td>2013-07-24</td>\n",
       "      <td>2013-08-22</td>\n",
       "      <td>29.0</td>\n",
       "      <td>1934.53</td>\n",
       "      <td>0.0</td>\n",
       "      <td>0.00</td>\n",
       "      <td>74.83</td>\n",
       "      <td>1314.01</td>\n",
       "      <td>620.52</td>\n",
       "    </tr>\n",
       "    <tr>\n",
       "      <th>52</th>\n",
       "      <td>KINGSBOROUGH</td>\n",
       "      <td>BLD 06</td>\n",
       "      <td>10.0 - BLD 06</td>\n",
       "      <td>1864559</td>\n",
       "      <td>2013-09-01</td>\n",
       "      <td>2013-08-22</td>\n",
       "      <td>2013-09-23</td>\n",
       "      <td>32.0</td>\n",
       "      <td>0.00</td>\n",
       "      <td>0.0</td>\n",
       "      <td>0.00</td>\n",
       "      <td>0.00</td>\n",
       "      <td>0.00</td>\n",
       "      <td>0.00</td>\n",
       "    </tr>\n",
       "    <tr>\n",
       "      <th>53</th>\n",
       "      <td>KINGSBOROUGH</td>\n",
       "      <td>BLD 06</td>\n",
       "      <td>10.0 - BLD 06</td>\n",
       "      <td>1864559</td>\n",
       "      <td>2013-09-01</td>\n",
       "      <td>2013-08-22</td>\n",
       "      <td>2013-09-23</td>\n",
       "      <td>32.0</td>\n",
       "      <td>2002.98</td>\n",
       "      <td>0.0</td>\n",
       "      <td>0.00</td>\n",
       "      <td>73.20</td>\n",
       "      <td>1285.39</td>\n",
       "      <td>717.59</td>\n",
       "    </tr>\n",
       "    <tr>\n",
       "      <th>56</th>\n",
       "      <td>JACKSON</td>\n",
       "      <td>NaN</td>\n",
       "      <td>120.0 - NA</td>\n",
       "      <td>1125615</td>\n",
       "      <td>2011-04-01</td>\n",
       "      <td>2011-03-25</td>\n",
       "      <td>2011-04-25</td>\n",
       "      <td>31.0</td>\n",
       "      <td>0.00</td>\n",
       "      <td>0.0</td>\n",
       "      <td>0.00</td>\n",
       "      <td>0.00</td>\n",
       "      <td>0.00</td>\n",
       "      <td>0.00</td>\n",
       "    </tr>\n",
       "    <tr>\n",
       "      <th>57</th>\n",
       "      <td>JACKSON</td>\n",
       "      <td>NaN</td>\n",
       "      <td>120.0 - NA</td>\n",
       "      <td>1125615</td>\n",
       "      <td>2011-04-01</td>\n",
       "      <td>2011-03-25</td>\n",
       "      <td>2011-04-25</td>\n",
       "      <td>31.0</td>\n",
       "      <td>10991.81</td>\n",
       "      <td>0.0</td>\n",
       "      <td>0.00</td>\n",
       "      <td>930.72</td>\n",
       "      <td>10991.81</td>\n",
       "      <td>0.00</td>\n",
       "    </tr>\n",
       "    <tr>\n",
       "      <th>58</th>\n",
       "      <td>LOW HOUSES</td>\n",
       "      <td>BLD 04</td>\n",
       "      <td>169.0 - BLD 04</td>\n",
       "      <td>8078330</td>\n",
       "      <td>2010-03-01</td>\n",
       "      <td>2010-02-25</td>\n",
       "      <td>2010-03-26</td>\n",
       "      <td>29.0</td>\n",
       "      <td>0.00</td>\n",
       "      <td>0.0</td>\n",
       "      <td>0.00</td>\n",
       "      <td>0.00</td>\n",
       "      <td>0.00</td>\n",
       "      <td>0.00</td>\n",
       "    </tr>\n",
       "    <tr>\n",
       "      <th>59</th>\n",
       "      <td>LOW HOUSES</td>\n",
       "      <td>BLD 04</td>\n",
       "      <td>169.0 - BLD 04</td>\n",
       "      <td>8078330</td>\n",
       "      <td>2010-03-01</td>\n",
       "      <td>2010-02-25</td>\n",
       "      <td>2010-03-26</td>\n",
       "      <td>29.0</td>\n",
       "      <td>9580.19</td>\n",
       "      <td>78240.0</td>\n",
       "      <td>4487.85</td>\n",
       "      <td>144.00</td>\n",
       "      <td>1872.00</td>\n",
       "      <td>3220.34</td>\n",
       "    </tr>\n",
       "    <tr>\n",
       "      <th>60</th>\n",
       "      <td>LOW HOUSES</td>\n",
       "      <td>BLD 04</td>\n",
       "      <td>169.0 - BLD 04</td>\n",
       "      <td>8078330</td>\n",
       "      <td>2010-04-01</td>\n",
       "      <td>2010-03-26</td>\n",
       "      <td>2010-04-26</td>\n",
       "      <td>31.0</td>\n",
       "      <td>0.00</td>\n",
       "      <td>0.0</td>\n",
       "      <td>0.00</td>\n",
       "      <td>0.00</td>\n",
       "      <td>0.00</td>\n",
       "      <td>0.00</td>\n",
       "    </tr>\n",
       "    <tr>\n",
       "      <th>61</th>\n",
       "      <td>LOW HOUSES</td>\n",
       "      <td>BLD 04</td>\n",
       "      <td>169.0 - BLD 04</td>\n",
       "      <td>8078330</td>\n",
       "      <td>2010-04-01</td>\n",
       "      <td>2010-03-26</td>\n",
       "      <td>2010-04-26</td>\n",
       "      <td>31.0</td>\n",
       "      <td>9713.55</td>\n",
       "      <td>71040.0</td>\n",
       "      <td>4074.85</td>\n",
       "      <td>140.80</td>\n",
       "      <td>1830.40</td>\n",
       "      <td>3808.30</td>\n",
       "    </tr>\n",
       "    <tr>\n",
       "      <th>62</th>\n",
       "      <td>LOW HOUSES</td>\n",
       "      <td>BLD 04</td>\n",
       "      <td>169.0 - BLD 04</td>\n",
       "      <td>8078330</td>\n",
       "      <td>2010-05-01</td>\n",
       "      <td>2010-04-26</td>\n",
       "      <td>2010-05-24</td>\n",
       "      <td>28.0</td>\n",
       "      <td>0.00</td>\n",
       "      <td>0.0</td>\n",
       "      <td>0.00</td>\n",
       "      <td>0.00</td>\n",
       "      <td>0.00</td>\n",
       "      <td>0.00</td>\n",
       "    </tr>\n",
       "    <tr>\n",
       "      <th>63</th>\n",
       "      <td>LOW HOUSES</td>\n",
       "      <td>BLD 04</td>\n",
       "      <td>169.0 - BLD 04</td>\n",
       "      <td>8078330</td>\n",
       "      <td>2010-05-01</td>\n",
       "      <td>2010-04-26</td>\n",
       "      <td>2010-05-24</td>\n",
       "      <td>28.0</td>\n",
       "      <td>10549.09</td>\n",
       "      <td>80000.0</td>\n",
       "      <td>4588.80</td>\n",
       "      <td>158.40</td>\n",
       "      <td>2059.20</td>\n",
       "      <td>3901.09</td>\n",
       "    </tr>\n",
       "    <tr>\n",
       "      <th>64</th>\n",
       "      <td>LOW HOUSES</td>\n",
       "      <td>BLD 04</td>\n",
       "      <td>169.0 - BLD 04</td>\n",
       "      <td>8078330</td>\n",
       "      <td>2010-06-01</td>\n",
       "      <td>2010-05-24</td>\n",
       "      <td>2010-06-23</td>\n",
       "      <td>30.0</td>\n",
       "      <td>0.00</td>\n",
       "      <td>0.0</td>\n",
       "      <td>0.00</td>\n",
       "      <td>0.00</td>\n",
       "      <td>0.00</td>\n",
       "      <td>0.00</td>\n",
       "    </tr>\n",
       "    <tr>\n",
       "      <th>65</th>\n",
       "      <td>LOW HOUSES</td>\n",
       "      <td>BLD 04</td>\n",
       "      <td>169.0 - BLD 04</td>\n",
       "      <td>8078330</td>\n",
       "      <td>2010-06-01</td>\n",
       "      <td>2010-05-24</td>\n",
       "      <td>2010-06-23</td>\n",
       "      <td>30.0</td>\n",
       "      <td>13699.87</td>\n",
       "      <td>100160.0</td>\n",
       "      <td>5745.18</td>\n",
       "      <td>200.00</td>\n",
       "      <td>2600.00</td>\n",
       "      <td>5354.69</td>\n",
       "    </tr>\n",
       "    <tr>\n",
       "      <th>...</th>\n",
       "      <td>...</td>\n",
       "      <td>...</td>\n",
       "      <td>...</td>\n",
       "      <td>...</td>\n",
       "      <td>...</td>\n",
       "      <td>...</td>\n",
       "      <td>...</td>\n",
       "      <td>...</td>\n",
       "      <td>...</td>\n",
       "      <td>...</td>\n",
       "      <td>...</td>\n",
       "      <td>...</td>\n",
       "      <td>...</td>\n",
       "      <td>...</td>\n",
       "    </tr>\n",
       "    <tr>\n",
       "      <th>4</th>\n",
       "      <td>THROGGS NECK</td>\n",
       "      <td>BLD 11</td>\n",
       "      <td>63.0 - BLD 11</td>\n",
       "      <td>8125318</td>\n",
       "      <td>2011-12-01</td>\n",
       "      <td>2011-11-22</td>\n",
       "      <td>2011-12-23</td>\n",
       "      <td>31.0</td>\n",
       "      <td>0.00</td>\n",
       "      <td>0.0</td>\n",
       "      <td>0.00</td>\n",
       "      <td>0.00</td>\n",
       "      <td>0.00</td>\n",
       "      <td>0.00</td>\n",
       "    </tr>\n",
       "    <tr>\n",
       "      <th>5</th>\n",
       "      <td>THROGGS NECK</td>\n",
       "      <td>BLD 11</td>\n",
       "      <td>63.0 - BLD 11</td>\n",
       "      <td>8125318</td>\n",
       "      <td>2011-12-01</td>\n",
       "      <td>2011-11-22</td>\n",
       "      <td>2011-12-23</td>\n",
       "      <td>31.0</td>\n",
       "      <td>3929.78</td>\n",
       "      <td>38880.0</td>\n",
       "      <td>2592.52</td>\n",
       "      <td>0.00</td>\n",
       "      <td>0.00</td>\n",
       "      <td>1337.26</td>\n",
       "    </tr>\n",
       "    <tr>\n",
       "      <th>6</th>\n",
       "      <td>THROGGS NECK</td>\n",
       "      <td>BLD 14</td>\n",
       "      <td>63.0 - BLD 14</td>\n",
       "      <td>8096579</td>\n",
       "      <td>2011-05-01</td>\n",
       "      <td>2011-04-25</td>\n",
       "      <td>2011-05-24</td>\n",
       "      <td>29.0</td>\n",
       "      <td>0.00</td>\n",
       "      <td>0.0</td>\n",
       "      <td>0.00</td>\n",
       "      <td>0.00</td>\n",
       "      <td>0.00</td>\n",
       "      <td>0.00</td>\n",
       "    </tr>\n",
       "    <tr>\n",
       "      <th>7</th>\n",
       "      <td>THROGGS NECK</td>\n",
       "      <td>BLD 14</td>\n",
       "      <td>63.0 - BLD 14</td>\n",
       "      <td>8096579</td>\n",
       "      <td>2011-05-01</td>\n",
       "      <td>2011-04-25</td>\n",
       "      <td>2011-05-24</td>\n",
       "      <td>29.0</td>\n",
       "      <td>5560.13</td>\n",
       "      <td>56160.0</td>\n",
       "      <td>3256.72</td>\n",
       "      <td>0.00</td>\n",
       "      <td>0.00</td>\n",
       "      <td>2303.41</td>\n",
       "    </tr>\n",
       "    <tr>\n",
       "      <th>8</th>\n",
       "      <td>THROGGS NECK</td>\n",
       "      <td>BLD 14</td>\n",
       "      <td>63.0 - BLD 14</td>\n",
       "      <td>8096579</td>\n",
       "      <td>2011-06-01</td>\n",
       "      <td>2011-05-24</td>\n",
       "      <td>2011-06-23</td>\n",
       "      <td>30.0</td>\n",
       "      <td>0.00</td>\n",
       "      <td>0.0</td>\n",
       "      <td>0.00</td>\n",
       "      <td>0.00</td>\n",
       "      <td>0.00</td>\n",
       "      <td>0.00</td>\n",
       "    </tr>\n",
       "    <tr>\n",
       "      <th>9</th>\n",
       "      <td>THROGGS NECK</td>\n",
       "      <td>BLD 14</td>\n",
       "      <td>63.0 - BLD 14</td>\n",
       "      <td>8096579</td>\n",
       "      <td>2011-06-01</td>\n",
       "      <td>2011-05-24</td>\n",
       "      <td>2011-06-23</td>\n",
       "      <td>30.0</td>\n",
       "      <td>5848.38</td>\n",
       "      <td>58080.0</td>\n",
       "      <td>3368.06</td>\n",
       "      <td>0.00</td>\n",
       "      <td>0.00</td>\n",
       "      <td>2480.32</td>\n",
       "    </tr>\n",
       "    <tr>\n",
       "      <th>10</th>\n",
       "      <td>THROGGS NECK</td>\n",
       "      <td>BLD 14</td>\n",
       "      <td>63.0 - BLD 14</td>\n",
       "      <td>8096579</td>\n",
       "      <td>2011-07-01</td>\n",
       "      <td>2011-06-23</td>\n",
       "      <td>2011-07-25</td>\n",
       "      <td>32.0</td>\n",
       "      <td>0.00</td>\n",
       "      <td>0.0</td>\n",
       "      <td>0.00</td>\n",
       "      <td>0.00</td>\n",
       "      <td>0.00</td>\n",
       "      <td>0.00</td>\n",
       "    </tr>\n",
       "    <tr>\n",
       "      <th>11</th>\n",
       "      <td>THROGGS NECK</td>\n",
       "      <td>BLD 14</td>\n",
       "      <td>63.0 - BLD 14</td>\n",
       "      <td>8096579</td>\n",
       "      <td>2011-07-01</td>\n",
       "      <td>2011-06-23</td>\n",
       "      <td>2011-07-25</td>\n",
       "      <td>32.0</td>\n",
       "      <td>11341.38</td>\n",
       "      <td>84800.0</td>\n",
       "      <td>6566.91</td>\n",
       "      <td>0.00</td>\n",
       "      <td>0.00</td>\n",
       "      <td>4774.47</td>\n",
       "    </tr>\n",
       "    <tr>\n",
       "      <th>12</th>\n",
       "      <td>THROGGS NECK</td>\n",
       "      <td>BLD 14</td>\n",
       "      <td>63.0 - BLD 14</td>\n",
       "      <td>8096579</td>\n",
       "      <td>2011-08-01</td>\n",
       "      <td>2011-07-25</td>\n",
       "      <td>2011-08-23</td>\n",
       "      <td>29.0</td>\n",
       "      <td>0.00</td>\n",
       "      <td>0.0</td>\n",
       "      <td>0.00</td>\n",
       "      <td>0.00</td>\n",
       "      <td>0.00</td>\n",
       "      <td>0.00</td>\n",
       "    </tr>\n",
       "    <tr>\n",
       "      <th>13</th>\n",
       "      <td>THROGGS NECK</td>\n",
       "      <td>BLD 14</td>\n",
       "      <td>63.0 - BLD 14</td>\n",
       "      <td>8096579</td>\n",
       "      <td>2011-08-01</td>\n",
       "      <td>2011-07-25</td>\n",
       "      <td>2011-08-23</td>\n",
       "      <td>29.0</td>\n",
       "      <td>8664.19</td>\n",
       "      <td>69280.0</td>\n",
       "      <td>5365.04</td>\n",
       "      <td>0.00</td>\n",
       "      <td>0.00</td>\n",
       "      <td>3299.15</td>\n",
       "    </tr>\n",
       "    <tr>\n",
       "      <th>14</th>\n",
       "      <td>THROGGS NECK</td>\n",
       "      <td>BLD 14</td>\n",
       "      <td>63.0 - BLD 14</td>\n",
       "      <td>8096579</td>\n",
       "      <td>2011-09-01</td>\n",
       "      <td>2011-08-23</td>\n",
       "      <td>2011-09-22</td>\n",
       "      <td>30.0</td>\n",
       "      <td>0.00</td>\n",
       "      <td>0.0</td>\n",
       "      <td>0.00</td>\n",
       "      <td>0.00</td>\n",
       "      <td>0.00</td>\n",
       "      <td>0.00</td>\n",
       "    </tr>\n",
       "    <tr>\n",
       "      <th>15</th>\n",
       "      <td>THROGGS NECK</td>\n",
       "      <td>BLD 14</td>\n",
       "      <td>63.0 - BLD 14</td>\n",
       "      <td>8096579</td>\n",
       "      <td>2011-09-01</td>\n",
       "      <td>2011-08-23</td>\n",
       "      <td>2011-09-22</td>\n",
       "      <td>30.0</td>\n",
       "      <td>6260.92</td>\n",
       "      <td>54080.0</td>\n",
       "      <td>4187.96</td>\n",
       "      <td>0.00</td>\n",
       "      <td>0.00</td>\n",
       "      <td>2072.96</td>\n",
       "    </tr>\n",
       "    <tr>\n",
       "      <th>2</th>\n",
       "      <td>THROGGS NECK</td>\n",
       "      <td>BLD 14</td>\n",
       "      <td>63.0 - BLD 14</td>\n",
       "      <td>8096579</td>\n",
       "      <td>2011-10-01</td>\n",
       "      <td>2011-09-22</td>\n",
       "      <td>2011-10-24</td>\n",
       "      <td>32.0</td>\n",
       "      <td>0.00</td>\n",
       "      <td>0.0</td>\n",
       "      <td>0.00</td>\n",
       "      <td>0.00</td>\n",
       "      <td>0.00</td>\n",
       "      <td>0.00</td>\n",
       "    </tr>\n",
       "    <tr>\n",
       "      <th>3</th>\n",
       "      <td>THROGGS NECK</td>\n",
       "      <td>BLD 14</td>\n",
       "      <td>63.0 - BLD 14</td>\n",
       "      <td>8096579</td>\n",
       "      <td>2011-10-01</td>\n",
       "      <td>2011-09-22</td>\n",
       "      <td>2011-10-24</td>\n",
       "      <td>32.0</td>\n",
       "      <td>5840.61</td>\n",
       "      <td>57600.0</td>\n",
       "      <td>3840.77</td>\n",
       "      <td>0.00</td>\n",
       "      <td>0.00</td>\n",
       "      <td>1999.84</td>\n",
       "    </tr>\n",
       "    <tr>\n",
       "      <th>16</th>\n",
       "      <td>THROGGS NECK</td>\n",
       "      <td>BLD 14</td>\n",
       "      <td>63.0 - BLD 14</td>\n",
       "      <td>8096579</td>\n",
       "      <td>2011-11-01</td>\n",
       "      <td>2011-10-24</td>\n",
       "      <td>2011-11-22</td>\n",
       "      <td>29.0</td>\n",
       "      <td>0.00</td>\n",
       "      <td>0.0</td>\n",
       "      <td>0.00</td>\n",
       "      <td>0.00</td>\n",
       "      <td>0.00</td>\n",
       "      <td>0.00</td>\n",
       "    </tr>\n",
       "    <tr>\n",
       "      <th>17</th>\n",
       "      <td>THROGGS NECK</td>\n",
       "      <td>BLD 14</td>\n",
       "      <td>63.0 - BLD 14</td>\n",
       "      <td>8096579</td>\n",
       "      <td>2011-11-01</td>\n",
       "      <td>2011-10-24</td>\n",
       "      <td>2011-11-22</td>\n",
       "      <td>29.0</td>\n",
       "      <td>6886.51</td>\n",
       "      <td>64960.0</td>\n",
       "      <td>4331.53</td>\n",
       "      <td>0.00</td>\n",
       "      <td>0.00</td>\n",
       "      <td>2554.98</td>\n",
       "    </tr>\n",
       "    <tr>\n",
       "      <th>20</th>\n",
       "      <td>THROGGS NECK</td>\n",
       "      <td>BLD 14</td>\n",
       "      <td>63.0 - BLD 14</td>\n",
       "      <td>8096579</td>\n",
       "      <td>2011-12-01</td>\n",
       "      <td>2011-11-22</td>\n",
       "      <td>2011-12-23</td>\n",
       "      <td>31.0</td>\n",
       "      <td>0.00</td>\n",
       "      <td>0.0</td>\n",
       "      <td>0.00</td>\n",
       "      <td>0.00</td>\n",
       "      <td>0.00</td>\n",
       "      <td>0.00</td>\n",
       "    </tr>\n",
       "    <tr>\n",
       "      <th>21</th>\n",
       "      <td>THROGGS NECK</td>\n",
       "      <td>BLD 14</td>\n",
       "      <td>63.0 - BLD 14</td>\n",
       "      <td>8096579</td>\n",
       "      <td>2011-12-01</td>\n",
       "      <td>2011-11-22</td>\n",
       "      <td>2011-12-23</td>\n",
       "      <td>31.0</td>\n",
       "      <td>6355.59</td>\n",
       "      <td>62880.0</td>\n",
       "      <td>4192.84</td>\n",
       "      <td>0.00</td>\n",
       "      <td>0.00</td>\n",
       "      <td>2162.75</td>\n",
       "    </tr>\n",
       "    <tr>\n",
       "      <th>22</th>\n",
       "      <td>DOUGLASS I/DOUGLASS II</td>\n",
       "      <td>DOUGLASS I BLD 05</td>\n",
       "      <td>82.0 - DOUGLASS I BLD 05</td>\n",
       "      <td>1478392</td>\n",
       "      <td>2014-02-01</td>\n",
       "      <td>2014-01-24</td>\n",
       "      <td>2014-02-25</td>\n",
       "      <td>32.0</td>\n",
       "      <td>0.00</td>\n",
       "      <td>0.0</td>\n",
       "      <td>0.00</td>\n",
       "      <td>0.00</td>\n",
       "      <td>0.00</td>\n",
       "      <td>0.00</td>\n",
       "    </tr>\n",
       "    <tr>\n",
       "      <th>23</th>\n",
       "      <td>DOUGLASS I/DOUGLASS II</td>\n",
       "      <td>DOUGLASS I BLD 05</td>\n",
       "      <td>82.0 - DOUGLASS I BLD 05</td>\n",
       "      <td>1478392</td>\n",
       "      <td>2014-02-01</td>\n",
       "      <td>2014-01-24</td>\n",
       "      <td>2014-02-25</td>\n",
       "      <td>32.0</td>\n",
       "      <td>0.00</td>\n",
       "      <td>0.0</td>\n",
       "      <td>0.00</td>\n",
       "      <td>85.20</td>\n",
       "      <td>2049.47</td>\n",
       "      <td>-2049.47</td>\n",
       "    </tr>\n",
       "    <tr>\n",
       "      <th>24</th>\n",
       "      <td>DOUGLASS I/DOUGLASS II</td>\n",
       "      <td>DOUGLASS I BLD 06</td>\n",
       "      <td>82.0 - DOUGLASS I BLD 06</td>\n",
       "      <td>1478413</td>\n",
       "      <td>2014-02-01</td>\n",
       "      <td>2014-01-24</td>\n",
       "      <td>2014-02-25</td>\n",
       "      <td>32.0</td>\n",
       "      <td>0.00</td>\n",
       "      <td>0.0</td>\n",
       "      <td>0.00</td>\n",
       "      <td>0.00</td>\n",
       "      <td>0.00</td>\n",
       "      <td>0.00</td>\n",
       "    </tr>\n",
       "    <tr>\n",
       "      <th>25</th>\n",
       "      <td>DOUGLASS I/DOUGLASS II</td>\n",
       "      <td>DOUGLASS I BLD 06</td>\n",
       "      <td>82.0 - DOUGLASS I BLD 06</td>\n",
       "      <td>1478413</td>\n",
       "      <td>2014-02-01</td>\n",
       "      <td>2014-01-24</td>\n",
       "      <td>2014-02-25</td>\n",
       "      <td>32.0</td>\n",
       "      <td>0.00</td>\n",
       "      <td>0.0</td>\n",
       "      <td>0.00</td>\n",
       "      <td>133.20</td>\n",
       "      <td>3204.10</td>\n",
       "      <td>-3204.10</td>\n",
       "    </tr>\n",
       "    <tr>\n",
       "      <th>26</th>\n",
       "      <td>DOUGLASS I/DOUGLASS II</td>\n",
       "      <td>DOUGLASS I BLD 07</td>\n",
       "      <td>82.0 - DOUGLASS I BLD 07</td>\n",
       "      <td>1478415</td>\n",
       "      <td>2014-02-01</td>\n",
       "      <td>2014-01-24</td>\n",
       "      <td>2014-02-25</td>\n",
       "      <td>32.0</td>\n",
       "      <td>0.00</td>\n",
       "      <td>0.0</td>\n",
       "      <td>0.00</td>\n",
       "      <td>0.00</td>\n",
       "      <td>0.00</td>\n",
       "      <td>0.00</td>\n",
       "    </tr>\n",
       "    <tr>\n",
       "      <th>27</th>\n",
       "      <td>DOUGLASS I/DOUGLASS II</td>\n",
       "      <td>DOUGLASS I BLD 07</td>\n",
       "      <td>82.0 - DOUGLASS I BLD 07</td>\n",
       "      <td>1478415</td>\n",
       "      <td>2014-02-01</td>\n",
       "      <td>2014-01-24</td>\n",
       "      <td>2014-02-25</td>\n",
       "      <td>32.0</td>\n",
       "      <td>0.00</td>\n",
       "      <td>0.0</td>\n",
       "      <td>0.00</td>\n",
       "      <td>132.72</td>\n",
       "      <td>3192.56</td>\n",
       "      <td>-3192.56</td>\n",
       "    </tr>\n",
       "    <tr>\n",
       "      <th>28</th>\n",
       "      <td>DOUGLASS I/DOUGLASS II</td>\n",
       "      <td>DOUGLASS I BLD 08</td>\n",
       "      <td>82.0 - DOUGLASS I BLD 08</td>\n",
       "      <td>1478390</td>\n",
       "      <td>2014-02-01</td>\n",
       "      <td>2014-01-24</td>\n",
       "      <td>2014-02-25</td>\n",
       "      <td>32.0</td>\n",
       "      <td>0.00</td>\n",
       "      <td>0.0</td>\n",
       "      <td>0.00</td>\n",
       "      <td>0.00</td>\n",
       "      <td>0.00</td>\n",
       "      <td>0.00</td>\n",
       "    </tr>\n",
       "    <tr>\n",
       "      <th>29</th>\n",
       "      <td>DOUGLASS I/DOUGLASS II</td>\n",
       "      <td>DOUGLASS I BLD 08</td>\n",
       "      <td>82.0 - DOUGLASS I BLD 08</td>\n",
       "      <td>1478390</td>\n",
       "      <td>2014-02-01</td>\n",
       "      <td>2014-01-24</td>\n",
       "      <td>2014-02-25</td>\n",
       "      <td>32.0</td>\n",
       "      <td>0.00</td>\n",
       "      <td>0.0</td>\n",
       "      <td>0.00</td>\n",
       "      <td>79.32</td>\n",
       "      <td>1908.03</td>\n",
       "      <td>-1908.03</td>\n",
       "    </tr>\n",
       "    <tr>\n",
       "      <th>30</th>\n",
       "      <td>DOUGLASS I/DOUGLASS II</td>\n",
       "      <td>DOUGLASS I BLD 09</td>\n",
       "      <td>82.0 - DOUGLASS I BLD 09</td>\n",
       "      <td>1478416</td>\n",
       "      <td>2014-02-01</td>\n",
       "      <td>2014-01-24</td>\n",
       "      <td>2014-02-25</td>\n",
       "      <td>32.0</td>\n",
       "      <td>0.00</td>\n",
       "      <td>0.0</td>\n",
       "      <td>0.00</td>\n",
       "      <td>0.00</td>\n",
       "      <td>0.00</td>\n",
       "      <td>0.00</td>\n",
       "    </tr>\n",
       "    <tr>\n",
       "      <th>31</th>\n",
       "      <td>DOUGLASS I/DOUGLASS II</td>\n",
       "      <td>DOUGLASS I BLD 09</td>\n",
       "      <td>82.0 - DOUGLASS I BLD 09</td>\n",
       "      <td>1478416</td>\n",
       "      <td>2014-02-01</td>\n",
       "      <td>2014-01-24</td>\n",
       "      <td>2014-02-25</td>\n",
       "      <td>32.0</td>\n",
       "      <td>0.00</td>\n",
       "      <td>0.0</td>\n",
       "      <td>0.00</td>\n",
       "      <td>175.92</td>\n",
       "      <td>4231.73</td>\n",
       "      <td>-4231.73</td>\n",
       "    </tr>\n",
       "    <tr>\n",
       "      <th>68</th>\n",
       "      <td>DOUGLASS I/DOUGLASS II</td>\n",
       "      <td>DOUGLASS I BLD 12</td>\n",
       "      <td>82.0 - DOUGLASS I BLD 12</td>\n",
       "      <td>1322194</td>\n",
       "      <td>2014-02-01</td>\n",
       "      <td>2014-01-24</td>\n",
       "      <td>2014-02-25</td>\n",
       "      <td>32.0</td>\n",
       "      <td>0.00</td>\n",
       "      <td>0.0</td>\n",
       "      <td>0.00</td>\n",
       "      <td>0.00</td>\n",
       "      <td>0.00</td>\n",
       "      <td>0.00</td>\n",
       "    </tr>\n",
       "    <tr>\n",
       "      <th>69</th>\n",
       "      <td>DOUGLASS I/DOUGLASS II</td>\n",
       "      <td>DOUGLASS I BLD 12</td>\n",
       "      <td>82.0 - DOUGLASS I BLD 12</td>\n",
       "      <td>1322194</td>\n",
       "      <td>2014-02-01</td>\n",
       "      <td>2014-01-24</td>\n",
       "      <td>2014-02-25</td>\n",
       "      <td>32.0</td>\n",
       "      <td>0.00</td>\n",
       "      <td>0.0</td>\n",
       "      <td>0.00</td>\n",
       "      <td>134.64</td>\n",
       "      <td>3238.74</td>\n",
       "      <td>-3238.74</td>\n",
       "    </tr>\n",
       "  </tbody>\n",
       "</table>\n",
       "<p>70 rows × 14 columns</p>\n",
       "</div>"
      ],
      "text/plain": [
       "              Account_Name           Location               Building_ID  \\\n",
       "0             KINGSBOROUGH             BLD 06             10.0 - BLD 06   \n",
       "1             KINGSBOROUGH             BLD 06             10.0 - BLD 06   \n",
       "36            KINGSBOROUGH             BLD 06             10.0 - BLD 06   \n",
       "37            KINGSBOROUGH             BLD 06             10.0 - BLD 06   \n",
       "40            KINGSBOROUGH             BLD 06             10.0 - BLD 06   \n",
       "41            KINGSBOROUGH             BLD 06             10.0 - BLD 06   \n",
       "42            KINGSBOROUGH             BLD 06             10.0 - BLD 06   \n",
       "43            KINGSBOROUGH             BLD 06             10.0 - BLD 06   \n",
       "44            KINGSBOROUGH             BLD 06             10.0 - BLD 06   \n",
       "45            KINGSBOROUGH             BLD 06             10.0 - BLD 06   \n",
       "46            KINGSBOROUGH             BLD 06             10.0 - BLD 06   \n",
       "47            KINGSBOROUGH             BLD 06             10.0 - BLD 06   \n",
       "48            KINGSBOROUGH             BLD 06             10.0 - BLD 06   \n",
       "49            KINGSBOROUGH             BLD 06             10.0 - BLD 06   \n",
       "50            KINGSBOROUGH             BLD 06             10.0 - BLD 06   \n",
       "51            KINGSBOROUGH             BLD 06             10.0 - BLD 06   \n",
       "38            KINGSBOROUGH             BLD 06             10.0 - BLD 06   \n",
       "39            KINGSBOROUGH             BLD 06             10.0 - BLD 06   \n",
       "52            KINGSBOROUGH             BLD 06             10.0 - BLD 06   \n",
       "53            KINGSBOROUGH             BLD 06             10.0 - BLD 06   \n",
       "56                 JACKSON                NaN                120.0 - NA   \n",
       "57                 JACKSON                NaN                120.0 - NA   \n",
       "58              LOW HOUSES             BLD 04            169.0 - BLD 04   \n",
       "59              LOW HOUSES             BLD 04            169.0 - BLD 04   \n",
       "60              LOW HOUSES             BLD 04            169.0 - BLD 04   \n",
       "61              LOW HOUSES             BLD 04            169.0 - BLD 04   \n",
       "62              LOW HOUSES             BLD 04            169.0 - BLD 04   \n",
       "63              LOW HOUSES             BLD 04            169.0 - BLD 04   \n",
       "64              LOW HOUSES             BLD 04            169.0 - BLD 04   \n",
       "65              LOW HOUSES             BLD 04            169.0 - BLD 04   \n",
       "..                     ...                ...                       ...   \n",
       "4             THROGGS NECK             BLD 11             63.0 - BLD 11   \n",
       "5             THROGGS NECK             BLD 11             63.0 - BLD 11   \n",
       "6             THROGGS NECK             BLD 14             63.0 - BLD 14   \n",
       "7             THROGGS NECK             BLD 14             63.0 - BLD 14   \n",
       "8             THROGGS NECK             BLD 14             63.0 - BLD 14   \n",
       "9             THROGGS NECK             BLD 14             63.0 - BLD 14   \n",
       "10            THROGGS NECK             BLD 14             63.0 - BLD 14   \n",
       "11            THROGGS NECK             BLD 14             63.0 - BLD 14   \n",
       "12            THROGGS NECK             BLD 14             63.0 - BLD 14   \n",
       "13            THROGGS NECK             BLD 14             63.0 - BLD 14   \n",
       "14            THROGGS NECK             BLD 14             63.0 - BLD 14   \n",
       "15            THROGGS NECK             BLD 14             63.0 - BLD 14   \n",
       "2             THROGGS NECK             BLD 14             63.0 - BLD 14   \n",
       "3             THROGGS NECK             BLD 14             63.0 - BLD 14   \n",
       "16            THROGGS NECK             BLD 14             63.0 - BLD 14   \n",
       "17            THROGGS NECK             BLD 14             63.0 - BLD 14   \n",
       "20            THROGGS NECK             BLD 14             63.0 - BLD 14   \n",
       "21            THROGGS NECK             BLD 14             63.0 - BLD 14   \n",
       "22  DOUGLASS I/DOUGLASS II  DOUGLASS I BLD 05  82.0 - DOUGLASS I BLD 05   \n",
       "23  DOUGLASS I/DOUGLASS II  DOUGLASS I BLD 05  82.0 - DOUGLASS I BLD 05   \n",
       "24  DOUGLASS I/DOUGLASS II  DOUGLASS I BLD 06  82.0 - DOUGLASS I BLD 06   \n",
       "25  DOUGLASS I/DOUGLASS II  DOUGLASS I BLD 06  82.0 - DOUGLASS I BLD 06   \n",
       "26  DOUGLASS I/DOUGLASS II  DOUGLASS I BLD 07  82.0 - DOUGLASS I BLD 07   \n",
       "27  DOUGLASS I/DOUGLASS II  DOUGLASS I BLD 07  82.0 - DOUGLASS I BLD 07   \n",
       "28  DOUGLASS I/DOUGLASS II  DOUGLASS I BLD 08  82.0 - DOUGLASS I BLD 08   \n",
       "29  DOUGLASS I/DOUGLASS II  DOUGLASS I BLD 08  82.0 - DOUGLASS I BLD 08   \n",
       "30  DOUGLASS I/DOUGLASS II  DOUGLASS I BLD 09  82.0 - DOUGLASS I BLD 09   \n",
       "31  DOUGLASS I/DOUGLASS II  DOUGLASS I BLD 09  82.0 - DOUGLASS I BLD 09   \n",
       "68  DOUGLASS I/DOUGLASS II  DOUGLASS I BLD 12  82.0 - DOUGLASS I BLD 12   \n",
       "69  DOUGLASS I/DOUGLASS II  DOUGLASS I BLD 12  82.0 - DOUGLASS I BLD 12   \n",
       "\n",
       "   Meter_Number Revenue_Month Service_Start_Date Service_End_Date  # days  \\\n",
       "0       1864559    2012-12-01         2012-11-21       2012-12-24    33.0   \n",
       "1       1864559    2012-12-01         2012-11-21       2012-12-24    33.0   \n",
       "36      1864559    2013-01-01         2012-12-24       2013-01-24    31.0   \n",
       "37      1864559    2013-01-01         2012-12-24       2013-01-24    31.0   \n",
       "40      1864559    2013-02-01         2013-01-24       2013-02-25    32.0   \n",
       "41      1864559    2013-02-01         2013-01-24       2013-02-25    32.0   \n",
       "42      1864559    2013-03-01         2013-02-25       2013-03-26    29.0   \n",
       "43      1864559    2013-03-01         2013-02-25       2013-03-26    29.0   \n",
       "44      1864559    2013-04-01         2013-03-26       2013-04-24    29.0   \n",
       "45      1864559    2013-04-01         2013-03-26       2013-04-24    29.0   \n",
       "46      1864559    2013-05-01         2013-04-24       2013-05-23    29.0   \n",
       "47      1864559    2013-05-01         2013-04-24       2013-05-23    29.0   \n",
       "48      1864559    2013-06-01         2013-05-23       2013-06-24    32.0   \n",
       "49      1864559    2013-06-01         2013-05-23       2013-06-24    32.0   \n",
       "50      1864559    2013-07-01         2013-06-24       2013-07-24    30.0   \n",
       "51      1864559    2013-07-01         2013-06-24       2013-07-24    30.0   \n",
       "38      1864559    2013-08-01         2013-07-24       2013-08-22    29.0   \n",
       "39      1864559    2013-08-01         2013-07-24       2013-08-22    29.0   \n",
       "52      1864559    2013-09-01         2013-08-22       2013-09-23    32.0   \n",
       "53      1864559    2013-09-01         2013-08-22       2013-09-23    32.0   \n",
       "56      1125615    2011-04-01         2011-03-25       2011-04-25    31.0   \n",
       "57      1125615    2011-04-01         2011-03-25       2011-04-25    31.0   \n",
       "58      8078330    2010-03-01         2010-02-25       2010-03-26    29.0   \n",
       "59      8078330    2010-03-01         2010-02-25       2010-03-26    29.0   \n",
       "60      8078330    2010-04-01         2010-03-26       2010-04-26    31.0   \n",
       "61      8078330    2010-04-01         2010-03-26       2010-04-26    31.0   \n",
       "62      8078330    2010-05-01         2010-04-26       2010-05-24    28.0   \n",
       "63      8078330    2010-05-01         2010-04-26       2010-05-24    28.0   \n",
       "64      8078330    2010-06-01         2010-05-24       2010-06-23    30.0   \n",
       "65      8078330    2010-06-01         2010-05-24       2010-06-23    30.0   \n",
       "..          ...           ...                ...              ...     ...   \n",
       "4       8125318    2011-12-01         2011-11-22       2011-12-23    31.0   \n",
       "5       8125318    2011-12-01         2011-11-22       2011-12-23    31.0   \n",
       "6       8096579    2011-05-01         2011-04-25       2011-05-24    29.0   \n",
       "7       8096579    2011-05-01         2011-04-25       2011-05-24    29.0   \n",
       "8       8096579    2011-06-01         2011-05-24       2011-06-23    30.0   \n",
       "9       8096579    2011-06-01         2011-05-24       2011-06-23    30.0   \n",
       "10      8096579    2011-07-01         2011-06-23       2011-07-25    32.0   \n",
       "11      8096579    2011-07-01         2011-06-23       2011-07-25    32.0   \n",
       "12      8096579    2011-08-01         2011-07-25       2011-08-23    29.0   \n",
       "13      8096579    2011-08-01         2011-07-25       2011-08-23    29.0   \n",
       "14      8096579    2011-09-01         2011-08-23       2011-09-22    30.0   \n",
       "15      8096579    2011-09-01         2011-08-23       2011-09-22    30.0   \n",
       "2       8096579    2011-10-01         2011-09-22       2011-10-24    32.0   \n",
       "3       8096579    2011-10-01         2011-09-22       2011-10-24    32.0   \n",
       "16      8096579    2011-11-01         2011-10-24       2011-11-22    29.0   \n",
       "17      8096579    2011-11-01         2011-10-24       2011-11-22    29.0   \n",
       "20      8096579    2011-12-01         2011-11-22       2011-12-23    31.0   \n",
       "21      8096579    2011-12-01         2011-11-22       2011-12-23    31.0   \n",
       "22      1478392    2014-02-01         2014-01-24       2014-02-25    32.0   \n",
       "23      1478392    2014-02-01         2014-01-24       2014-02-25    32.0   \n",
       "24      1478413    2014-02-01         2014-01-24       2014-02-25    32.0   \n",
       "25      1478413    2014-02-01         2014-01-24       2014-02-25    32.0   \n",
       "26      1478415    2014-02-01         2014-01-24       2014-02-25    32.0   \n",
       "27      1478415    2014-02-01         2014-01-24       2014-02-25    32.0   \n",
       "28      1478390    2014-02-01         2014-01-24       2014-02-25    32.0   \n",
       "29      1478390    2014-02-01         2014-01-24       2014-02-25    32.0   \n",
       "30      1478416    2014-02-01         2014-01-24       2014-02-25    32.0   \n",
       "31      1478416    2014-02-01         2014-01-24       2014-02-25    32.0   \n",
       "68      1322194    2014-02-01         2014-01-24       2014-02-25    32.0   \n",
       "69      1322194    2014-02-01         2014-01-24       2014-02-25    32.0   \n",
       "\n",
       "    Current_Charges  Consumption_KWH  KWH_Charges  Consumption_KW  KW_Charges  \\\n",
       "0              0.00              0.0         0.00            0.00        0.00   \n",
       "1              0.00              0.0         0.00           54.43     1109.09   \n",
       "36             0.00              0.0         0.00            0.00        0.00   \n",
       "37             0.00              0.0         0.00           52.08     1105.73   \n",
       "40             0.00              0.0         0.00            0.00        0.00   \n",
       "41             0.00              0.0         0.00           52.94     1166.15   \n",
       "42             0.00              0.0         0.00            0.00        0.00   \n",
       "43             0.00              0.0         0.00           50.93     1169.81   \n",
       "44             0.00              0.0         0.00            0.00        0.00   \n",
       "45             0.00              0.0         0.00           51.46     1146.50   \n",
       "46             0.00              0.0         0.00            0.00        0.00   \n",
       "47             0.00              0.0         0.00           60.96     1235.82   \n",
       "48             0.00              0.0         0.00            0.00        0.00   \n",
       "49          2044.51              0.0         0.00           74.11     1301.37   \n",
       "50             0.00              0.0         0.00            0.00        0.00   \n",
       "51          2357.10              0.0         0.00           84.91     1491.02   \n",
       "38             0.00              0.0         0.00            0.00        0.00   \n",
       "39          1934.53              0.0         0.00           74.83     1314.01   \n",
       "52             0.00              0.0         0.00            0.00        0.00   \n",
       "53          2002.98              0.0         0.00           73.20     1285.39   \n",
       "56             0.00              0.0         0.00            0.00        0.00   \n",
       "57         10991.81              0.0         0.00          930.72    10991.81   \n",
       "58             0.00              0.0         0.00            0.00        0.00   \n",
       "59          9580.19          78240.0      4487.85          144.00     1872.00   \n",
       "60             0.00              0.0         0.00            0.00        0.00   \n",
       "61          9713.55          71040.0      4074.85          140.80     1830.40   \n",
       "62             0.00              0.0         0.00            0.00        0.00   \n",
       "63         10549.09          80000.0      4588.80          158.40     2059.20   \n",
       "64             0.00              0.0         0.00            0.00        0.00   \n",
       "65         13699.87         100160.0      5745.18          200.00     2600.00   \n",
       "..              ...              ...          ...             ...         ...   \n",
       "4              0.00              0.0         0.00            0.00        0.00   \n",
       "5           3929.78          38880.0      2592.52            0.00        0.00   \n",
       "6              0.00              0.0         0.00            0.00        0.00   \n",
       "7           5560.13          56160.0      3256.72            0.00        0.00   \n",
       "8              0.00              0.0         0.00            0.00        0.00   \n",
       "9           5848.38          58080.0      3368.06            0.00        0.00   \n",
       "10             0.00              0.0         0.00            0.00        0.00   \n",
       "11         11341.38          84800.0      6566.91            0.00        0.00   \n",
       "12             0.00              0.0         0.00            0.00        0.00   \n",
       "13          8664.19          69280.0      5365.04            0.00        0.00   \n",
       "14             0.00              0.0         0.00            0.00        0.00   \n",
       "15          6260.92          54080.0      4187.96            0.00        0.00   \n",
       "2              0.00              0.0         0.00            0.00        0.00   \n",
       "3           5840.61          57600.0      3840.77            0.00        0.00   \n",
       "16             0.00              0.0         0.00            0.00        0.00   \n",
       "17          6886.51          64960.0      4331.53            0.00        0.00   \n",
       "20             0.00              0.0         0.00            0.00        0.00   \n",
       "21          6355.59          62880.0      4192.84            0.00        0.00   \n",
       "22             0.00              0.0         0.00            0.00        0.00   \n",
       "23             0.00              0.0         0.00           85.20     2049.47   \n",
       "24             0.00              0.0         0.00            0.00        0.00   \n",
       "25             0.00              0.0         0.00          133.20     3204.10   \n",
       "26             0.00              0.0         0.00            0.00        0.00   \n",
       "27             0.00              0.0         0.00          132.72     3192.56   \n",
       "28             0.00              0.0         0.00            0.00        0.00   \n",
       "29             0.00              0.0         0.00           79.32     1908.03   \n",
       "30             0.00              0.0         0.00            0.00        0.00   \n",
       "31             0.00              0.0         0.00          175.92     4231.73   \n",
       "68             0.00              0.0         0.00            0.00        0.00   \n",
       "69             0.00              0.0         0.00          134.64     3238.74   \n",
       "\n",
       "    Other_Charges  \n",
       "0            0.00  \n",
       "1        -1109.09  \n",
       "36           0.00  \n",
       "37       -1105.73  \n",
       "40           0.00  \n",
       "41       -1166.15  \n",
       "42           0.00  \n",
       "43       -1169.81  \n",
       "44           0.00  \n",
       "45       -1146.50  \n",
       "46           0.00  \n",
       "47       -1235.82  \n",
       "48           0.00  \n",
       "49         743.14  \n",
       "50           0.00  \n",
       "51         866.08  \n",
       "38           0.00  \n",
       "39         620.52  \n",
       "52           0.00  \n",
       "53         717.59  \n",
       "56           0.00  \n",
       "57           0.00  \n",
       "58           0.00  \n",
       "59        3220.34  \n",
       "60           0.00  \n",
       "61        3808.30  \n",
       "62           0.00  \n",
       "63        3901.09  \n",
       "64           0.00  \n",
       "65        5354.69  \n",
       "..            ...  \n",
       "4            0.00  \n",
       "5         1337.26  \n",
       "6            0.00  \n",
       "7         2303.41  \n",
       "8            0.00  \n",
       "9         2480.32  \n",
       "10           0.00  \n",
       "11        4774.47  \n",
       "12           0.00  \n",
       "13        3299.15  \n",
       "14           0.00  \n",
       "15        2072.96  \n",
       "2            0.00  \n",
       "3         1999.84  \n",
       "16           0.00  \n",
       "17        2554.98  \n",
       "20           0.00  \n",
       "21        2162.75  \n",
       "22           0.00  \n",
       "23       -2049.47  \n",
       "24           0.00  \n",
       "25       -3204.10  \n",
       "26           0.00  \n",
       "27       -3192.56  \n",
       "28           0.00  \n",
       "29       -1908.03  \n",
       "30           0.00  \n",
       "31       -4231.73  \n",
       "68           0.00  \n",
       "69       -3238.74  \n",
       "\n",
       "[70 rows x 14 columns]"
      ]
     },
     "execution_count": 33,
     "metadata": {},
     "output_type": "execute_result"
    }
   ],
   "source": [
    "a"
   ]
  },
  {
   "cell_type": "markdown",
   "metadata": {},
   "source": [
    "#### remove those rows from the dataset"
   ]
  },
  {
   "cell_type": "code",
   "execution_count": 34,
   "metadata": {
    "collapsed": true
   },
   "outputs": [],
   "source": [
    "df = df[~((df['Current_Charges'] == 0) & (df['KWH_Charges'] == 0) & (df['KW_Charges'] == 0) \\\n",
    "  & (df['Other_Charges'] == 0) & (df['Consumption_KWH'] == 0) & (df['Consumption_KW'] == 0))]"
   ]
  },
  {
   "cell_type": "markdown",
   "metadata": {},
   "source": [
    "#### we also don't care about entries that only has other_charges not equal to zero"
   ]
  },
  {
   "cell_type": "code",
   "execution_count": 35,
   "metadata": {
    "collapsed": true
   },
   "outputs": [],
   "source": [
    "df = df[~((df['Other_Charges'] != 0) & (df['KWH_Charges'] == 0) & (df['KW_Charges'] == 0) \\\n",
    "  & (df['Consumption_KWH'] == 0) & (df['Consumption_KW'] == 0))]"
   ]
  },
  {
   "cell_type": "code",
   "execution_count": 36,
   "metadata": {
    "collapsed": true
   },
   "outputs": [],
   "source": [
    "idx = df.groupby(['Building_ID', 'Meter_Number', 'Revenue_Month', 'Service_Start_Date', 'Service_End_Date']).count()['Account_Name'].reset_index()\n",
    "idx.columns = ['Building_ID', 'Meter_Number', 'Revenue_Month','Service_Start_Date', 'Service_End_Date', 'Counts']\n",
    "idx = idx[idx['Counts'] > 1]\n",
    "\n",
    "dupRows = idx.sort_values('Counts', ascending = False)\n",
    "\n",
    "a = pd.merge(dupRows.iloc[:, 0:3], df[cols], on = \\\n",
    "         ['Building_ID', 'Meter_Number', 'Revenue_Month'], how = 'inner')[cols]\\\n",
    "        .sort_values(['Building_ID', 'Meter_Number', 'Revenue_Month'])"
   ]
  },
  {
   "cell_type": "markdown",
   "metadata": {},
   "source": [
    "#### Only 2 rows left, seems a case of rebilling"
   ]
  },
  {
   "cell_type": "code",
   "execution_count": 37,
   "metadata": {},
   "outputs": [
    {
     "data": {
      "text/html": [
       "<div>\n",
       "<style scoped>\n",
       "    .dataframe tbody tr th:only-of-type {\n",
       "        vertical-align: middle;\n",
       "    }\n",
       "\n",
       "    .dataframe tbody tr th {\n",
       "        vertical-align: top;\n",
       "    }\n",
       "\n",
       "    .dataframe thead th {\n",
       "        text-align: right;\n",
       "    }\n",
       "</style>\n",
       "<table border=\"1\" class=\"dataframe\">\n",
       "  <thead>\n",
       "    <tr style=\"text-align: right;\">\n",
       "      <th></th>\n",
       "      <th>Account_Name</th>\n",
       "      <th>Location</th>\n",
       "      <th>Building_ID</th>\n",
       "      <th>Meter_Number</th>\n",
       "      <th>Revenue_Month</th>\n",
       "      <th>Service_Start_Date</th>\n",
       "      <th>Service_End_Date</th>\n",
       "      <th># days</th>\n",
       "      <th>Current_Charges</th>\n",
       "      <th>Consumption_KWH</th>\n",
       "      <th>KWH_Charges</th>\n",
       "      <th>Consumption_KW</th>\n",
       "      <th>KW_Charges</th>\n",
       "      <th>Other_Charges</th>\n",
       "    </tr>\n",
       "  </thead>\n",
       "  <tbody>\n",
       "    <tr>\n",
       "      <th>0</th>\n",
       "      <td>THROGGS NECK</td>\n",
       "      <td>BLD 11</td>\n",
       "      <td>63.0 - BLD 11</td>\n",
       "      <td>8125318</td>\n",
       "      <td>2011-10-01</td>\n",
       "      <td>2011-09-22</td>\n",
       "      <td>2011-10-24</td>\n",
       "      <td>32.0</td>\n",
       "      <td>1306.02</td>\n",
       "      <td>12880.0</td>\n",
       "      <td>858.84</td>\n",
       "      <td>0.0</td>\n",
       "      <td>0.0</td>\n",
       "      <td>447.18</td>\n",
       "    </tr>\n",
       "    <tr>\n",
       "      <th>1</th>\n",
       "      <td>THROGGS NECK</td>\n",
       "      <td>BLD 11</td>\n",
       "      <td>63.0 - BLD 11</td>\n",
       "      <td>8125318</td>\n",
       "      <td>2011-10-01</td>\n",
       "      <td>2011-09-22</td>\n",
       "      <td>2011-10-24</td>\n",
       "      <td>32.0</td>\n",
       "      <td>2693.18</td>\n",
       "      <td>26560.0</td>\n",
       "      <td>1771.02</td>\n",
       "      <td>0.0</td>\n",
       "      <td>0.0</td>\n",
       "      <td>922.16</td>\n",
       "    </tr>\n",
       "  </tbody>\n",
       "</table>\n",
       "</div>"
      ],
      "text/plain": [
       "   Account_Name Location    Building_ID Meter_Number Revenue_Month  \\\n",
       "0  THROGGS NECK   BLD 11  63.0 - BLD 11      8125318    2011-10-01   \n",
       "1  THROGGS NECK   BLD 11  63.0 - BLD 11      8125318    2011-10-01   \n",
       "\n",
       "  Service_Start_Date Service_End_Date  # days  Current_Charges  \\\n",
       "0         2011-09-22       2011-10-24    32.0          1306.02   \n",
       "1         2011-09-22       2011-10-24    32.0          2693.18   \n",
       "\n",
       "   Consumption_KWH  KWH_Charges  Consumption_KW  KW_Charges  Other_Charges  \n",
       "0          12880.0       858.84             0.0         0.0         447.18  \n",
       "1          26560.0      1771.02             0.0         0.0         922.16  "
      ]
     },
     "execution_count": 37,
     "metadata": {},
     "output_type": "execute_result"
    }
   ],
   "source": [
    "a"
   ]
  },
  {
   "cell_type": "markdown",
   "metadata": {},
   "source": [
    "### 9. save a copy of the original dataframe before further data cleaning with alterations and flag the rows with problems"
   ]
  },
  {
   "cell_type": "code",
   "execution_count": 38,
   "metadata": {
    "collapsed": true
   },
   "outputs": [],
   "source": [
    "df_orig = df"
   ]
  },
  {
   "cell_type": "code",
   "execution_count": 39,
   "metadata": {
    "collapsed": true
   },
   "outputs": [],
   "source": [
    "df_orig['flag'] = \"\""
   ]
  },
  {
   "cell_type": "code",
   "execution_count": 40,
   "metadata": {
    "collapsed": true
   },
   "outputs": [],
   "source": [
    "# df = df_orig.iloc[:, 0:15]"
   ]
  },
  {
   "cell_type": "markdown",
   "metadata": {},
   "source": [
    "#### update the flag in df_orig"
   ]
  },
  {
   "cell_type": "code",
   "execution_count": 41,
   "metadata": {},
   "outputs": [
    {
     "data": {
      "text/plain": [
       "          258674\n",
       "rebill         2\n",
       "Name: flag, dtype: int64"
      ]
     },
     "execution_count": 41,
     "metadata": {},
     "output_type": "execute_result"
    }
   ],
   "source": [
    "mask = (df_orig['Building_ID'] == '63.0 - BLD 11') & (df_orig['Meter_Number'] == '8125318') & (df_orig['Revenue_Month'] == '2011-10-01')\n",
    "df_orig.loc[mask, 'flag'] = 'rebill'\n",
    "df_orig = df_orig.iloc[:, 0:15]\n",
    "df_orig.flag.value_counts()"
   ]
  },
  {
   "cell_type": "markdown",
   "metadata": {},
   "source": [
    "#### Remove the entries with rebilling from the working dataset df"
   ]
  },
  {
   "cell_type": "code",
   "execution_count": 42,
   "metadata": {
    "collapsed": true
   },
   "outputs": [],
   "source": [
    "df = df[~mask]"
   ]
  },
  {
   "cell_type": "code",
   "execution_count": 43,
   "metadata": {
    "collapsed": true
   },
   "outputs": [],
   "source": [
    "del(a)"
   ]
  },
  {
   "cell_type": "markdown",
   "metadata": {},
   "source": [
    "### 10. Add a column for Revenue_Year and reorder the columns"
   ]
  },
  {
   "cell_type": "code",
   "execution_count": 44,
   "metadata": {
    "collapsed": true
   },
   "outputs": [],
   "source": [
    "df.loc[:, 'Revenue_Year'] = df['Revenue_Month'].dt.year"
   ]
  },
  {
   "cell_type": "code",
   "execution_count": 45,
   "metadata": {
    "collapsed": true
   },
   "outputs": [],
   "source": [
    "col_ordered = ['Account_Name', 'Location', 'Building_ID', 'Meter_Number',\n",
    "       'Revenue_Month', 'Revenue_Year', 'Service_Start_Date', 'Service_End_Date',\n",
    "       '# days', 'Consumption_KW', 'KW_Charges', \n",
    "       'Consumption_KWH', 'KWH_Charges', 'Other_Charges', 'Current_Charges']\n",
    "\n",
    "df = df[col_ordered]"
   ]
  },
  {
   "cell_type": "markdown",
   "metadata": {},
   "source": [
    "## Part II - Data Cleaning with alterations - aggregation, mapping"
   ]
  },
  {
   "cell_type": "markdown",
   "metadata": {},
   "source": [
    "### 11. Check the zero values in Current_Charges, KWH_Charges and KW_Charges"
   ]
  },
  {
   "cell_type": "markdown",
   "metadata": {},
   "source": [
    "#### High Percentage of rows have current_charges == 0"
   ]
  },
  {
   "cell_type": "code",
   "execution_count": 46,
   "metadata": {},
   "outputs": [
    {
     "name": "stdout",
     "output_type": "stream",
     "text": [
      "16.65%\n"
     ]
    }
   ],
   "source": [
    "print (\"{:.2%}\".format(df[df['Current_Charges'] == 0].shape[0]/df.shape[0]))"
   ]
  },
  {
   "cell_type": "markdown",
   "metadata": {},
   "source": [
    "#### when current_charges == 0, all kwh_charges == 0 (NaN correlation coefficients with all other variables) and kw_charges seems negatively correlated with other_charges"
   ]
  },
  {
   "cell_type": "code",
   "execution_count": 47,
   "metadata": {},
   "outputs": [
    {
     "data": {
      "text/html": [
       "<div>\n",
       "<style scoped>\n",
       "    .dataframe tbody tr th:only-of-type {\n",
       "        vertical-align: middle;\n",
       "    }\n",
       "\n",
       "    .dataframe tbody tr th {\n",
       "        vertical-align: top;\n",
       "    }\n",
       "\n",
       "    .dataframe thead th {\n",
       "        text-align: right;\n",
       "    }\n",
       "</style>\n",
       "<table border=\"1\" class=\"dataframe\">\n",
       "  <thead>\n",
       "    <tr style=\"text-align: right;\">\n",
       "      <th></th>\n",
       "      <th>KWH_Charges</th>\n",
       "      <th>KW_Charges</th>\n",
       "      <th>KWH_Charges</th>\n",
       "      <th>Other_Charges</th>\n",
       "    </tr>\n",
       "  </thead>\n",
       "  <tbody>\n",
       "    <tr>\n",
       "      <th>KWH_Charges</th>\n",
       "      <td>NaN</td>\n",
       "      <td>NaN</td>\n",
       "      <td>NaN</td>\n",
       "      <td>NaN</td>\n",
       "    </tr>\n",
       "    <tr>\n",
       "      <th>KW_Charges</th>\n",
       "      <td>NaN</td>\n",
       "      <td>1.000000</td>\n",
       "      <td>NaN</td>\n",
       "      <td>-0.694394</td>\n",
       "    </tr>\n",
       "    <tr>\n",
       "      <th>KWH_Charges</th>\n",
       "      <td>NaN</td>\n",
       "      <td>NaN</td>\n",
       "      <td>NaN</td>\n",
       "      <td>NaN</td>\n",
       "    </tr>\n",
       "    <tr>\n",
       "      <th>Other_Charges</th>\n",
       "      <td>NaN</td>\n",
       "      <td>-0.694394</td>\n",
       "      <td>NaN</td>\n",
       "      <td>1.000000</td>\n",
       "    </tr>\n",
       "  </tbody>\n",
       "</table>\n",
       "</div>"
      ],
      "text/plain": [
       "               KWH_Charges  KW_Charges  KWH_Charges  Other_Charges\n",
       "KWH_Charges            NaN         NaN          NaN            NaN\n",
       "KW_Charges             NaN    1.000000          NaN      -0.694394\n",
       "KWH_Charges            NaN         NaN          NaN            NaN\n",
       "Other_Charges          NaN   -0.694394          NaN       1.000000"
      ]
     },
     "execution_count": 47,
     "metadata": {},
     "output_type": "execute_result"
    }
   ],
   "source": [
    "df[df['Current_Charges'] == 0][['KWH_Charges', 'KW_Charges', 'KWH_Charges', 'Other_Charges']].corr()"
   ]
  },
  {
   "cell_type": "markdown",
   "metadata": {},
   "source": [
    "#### when current_charges == 0, 82% of the time kw_charges == - other_charges and kw_charges ==  other_charges otherwise"
   ]
  },
  {
   "cell_type": "code",
   "execution_count": 48,
   "metadata": {
    "collapsed": true
   },
   "outputs": [],
   "source": [
    "mask = (df['Other_Charges'] + df['KW_Charges'] == 0) & (df['Current_Charges'] == 0) & (df['KWH_Charges'] == 0)"
   ]
  },
  {
   "cell_type": "code",
   "execution_count": 49,
   "metadata": {},
   "outputs": [
    {
     "name": "stdout",
     "output_type": "stream",
     "text": [
      "82.30%\n"
     ]
    }
   ],
   "source": [
    "print(\"{:.2%}\".format(df[mask].shape[0]/df[df['Current_Charges'] == 0].shape[0]))"
   ]
  },
  {
   "cell_type": "code",
   "execution_count": 50,
   "metadata": {},
   "outputs": [
    {
     "data": {
      "text/plain": [
       "1.0"
      ]
     },
     "execution_count": 50,
     "metadata": {},
     "output_type": "execute_result"
    }
   ],
   "source": [
    "df[(df['Current_Charges'] == 0) & ((df['Other_Charges'] == df['KW_Charges']) \\\n",
    "        | (df['Other_Charges'] + df['KW_Charges'] == 0))].shape[0] / \\\n",
    "df[df['Current_Charges'] == 0].shape[0]"
   ]
  },
  {
   "cell_type": "markdown",
   "metadata": {},
   "source": [
    "#### correct the rows where Other_Charges == KW_Charges with Other_Charges = -KW_Charges"
   ]
  },
  {
   "cell_type": "code",
   "execution_count": 51,
   "metadata": {
    "collapsed": true
   },
   "outputs": [],
   "source": [
    "mask = (df['Current_Charges'] == 0) & ((df['Other_Charges'] == df['KW_Charges']) & (df['KW_Charges'] != 0))\n"
   ]
  },
  {
   "cell_type": "code",
   "execution_count": 52,
   "metadata": {
    "collapsed": true
   },
   "outputs": [],
   "source": [
    "df.loc[mask, 'KW_Charges'] = df.loc[mask, 'Other_Charges'] * (-1)"
   ]
  },
  {
   "cell_type": "code",
   "execution_count": 53,
   "metadata": {},
   "outputs": [
    {
     "data": {
      "text/html": [
       "<div>\n",
       "<style scoped>\n",
       "    .dataframe tbody tr th:only-of-type {\n",
       "        vertical-align: middle;\n",
       "    }\n",
       "\n",
       "    .dataframe tbody tr th {\n",
       "        vertical-align: top;\n",
       "    }\n",
       "\n",
       "    .dataframe thead th {\n",
       "        text-align: right;\n",
       "    }\n",
       "</style>\n",
       "<table border=\"1\" class=\"dataframe\">\n",
       "  <thead>\n",
       "    <tr style=\"text-align: right;\">\n",
       "      <th></th>\n",
       "      <th>Current_Charges</th>\n",
       "      <th>KW_Charges</th>\n",
       "      <th>KWH_Charges</th>\n",
       "      <th>Other_Charges</th>\n",
       "    </tr>\n",
       "  </thead>\n",
       "  <tbody>\n",
       "    <tr>\n",
       "      <th>Current_Charges</th>\n",
       "      <td>NaN</td>\n",
       "      <td>NaN</td>\n",
       "      <td>NaN</td>\n",
       "      <td>NaN</td>\n",
       "    </tr>\n",
       "    <tr>\n",
       "      <th>KW_Charges</th>\n",
       "      <td>NaN</td>\n",
       "      <td>1.0</td>\n",
       "      <td>NaN</td>\n",
       "      <td>-1.0</td>\n",
       "    </tr>\n",
       "    <tr>\n",
       "      <th>KWH_Charges</th>\n",
       "      <td>NaN</td>\n",
       "      <td>NaN</td>\n",
       "      <td>NaN</td>\n",
       "      <td>NaN</td>\n",
       "    </tr>\n",
       "    <tr>\n",
       "      <th>Other_Charges</th>\n",
       "      <td>NaN</td>\n",
       "      <td>-1.0</td>\n",
       "      <td>NaN</td>\n",
       "      <td>1.0</td>\n",
       "    </tr>\n",
       "  </tbody>\n",
       "</table>\n",
       "</div>"
      ],
      "text/plain": [
       "                 Current_Charges  KW_Charges  KWH_Charges  Other_Charges\n",
       "Current_Charges              NaN         NaN          NaN            NaN\n",
       "KW_Charges                   NaN         1.0          NaN           -1.0\n",
       "KWH_Charges                  NaN         NaN          NaN            NaN\n",
       "Other_Charges                NaN        -1.0          NaN            1.0"
      ]
     },
     "execution_count": 53,
     "metadata": {},
     "output_type": "execute_result"
    }
   ],
   "source": [
    "df[df['Current_Charges'] == 0][['Current_Charges', 'KW_Charges', 'KWH_Charges', 'Other_Charges']].corr()"
   ]
  },
  {
   "cell_type": "code",
   "execution_count": 54,
   "metadata": {},
   "outputs": [
    {
     "data": {
      "text/html": [
       "<div>\n",
       "<style scoped>\n",
       "    .dataframe tbody tr th:only-of-type {\n",
       "        vertical-align: middle;\n",
       "    }\n",
       "\n",
       "    .dataframe tbody tr th {\n",
       "        vertical-align: top;\n",
       "    }\n",
       "\n",
       "    .dataframe thead th {\n",
       "        text-align: right;\n",
       "    }\n",
       "</style>\n",
       "<table border=\"1\" class=\"dataframe\">\n",
       "  <thead>\n",
       "    <tr style=\"text-align: right;\">\n",
       "      <th></th>\n",
       "      <th>Current_Charges</th>\n",
       "      <th>KW_Charges</th>\n",
       "      <th>KWH_Charges</th>\n",
       "      <th>Other_Charges</th>\n",
       "    </tr>\n",
       "  </thead>\n",
       "  <tbody>\n",
       "    <tr>\n",
       "      <th>Current_Charges</th>\n",
       "      <td>NaN</td>\n",
       "      <td>NaN</td>\n",
       "      <td>NaN</td>\n",
       "      <td>NaN</td>\n",
       "    </tr>\n",
       "    <tr>\n",
       "      <th>KW_Charges</th>\n",
       "      <td>NaN</td>\n",
       "      <td>1.0</td>\n",
       "      <td>NaN</td>\n",
       "      <td>-1.0</td>\n",
       "    </tr>\n",
       "    <tr>\n",
       "      <th>KWH_Charges</th>\n",
       "      <td>NaN</td>\n",
       "      <td>NaN</td>\n",
       "      <td>NaN</td>\n",
       "      <td>NaN</td>\n",
       "    </tr>\n",
       "    <tr>\n",
       "      <th>Other_Charges</th>\n",
       "      <td>NaN</td>\n",
       "      <td>-1.0</td>\n",
       "      <td>NaN</td>\n",
       "      <td>1.0</td>\n",
       "    </tr>\n",
       "  </tbody>\n",
       "</table>\n",
       "</div>"
      ],
      "text/plain": [
       "                 Current_Charges  KW_Charges  KWH_Charges  Other_Charges\n",
       "Current_Charges              NaN         NaN          NaN            NaN\n",
       "KW_Charges                   NaN         1.0          NaN           -1.0\n",
       "KWH_Charges                  NaN         NaN          NaN            NaN\n",
       "Other_Charges                NaN        -1.0          NaN            1.0"
      ]
     },
     "execution_count": 54,
     "metadata": {},
     "output_type": "execute_result"
    }
   ],
   "source": [
    "df[df['Current_Charges'] == 0][['Current_Charges', 'KW_Charges', 'KWH_Charges', 'Other_Charges']].corr()"
   ]
  },
  {
   "cell_type": "code",
   "execution_count": null,
   "metadata": {
    "collapsed": true
   },
   "outputs": [],
   "source": []
  },
  {
   "cell_type": "markdown",
   "metadata": {},
   "source": [
    "#### update the flag in df_orig"
   ]
  },
  {
   "cell_type": "code",
   "execution_count": 55,
   "metadata": {},
   "outputs": [
    {
     "data": {
      "text/plain": [
       "                                      251049\n",
       "Sign of Other_Charges is incorrect      7625\n",
       "rebill                                     2\n",
       "Name: flag, dtype: int64"
      ]
     },
     "execution_count": 55,
     "metadata": {},
     "output_type": "execute_result"
    }
   ],
   "source": [
    "mask = (df_orig['Current_Charges'] == 0) & ((df_orig['Other_Charges'] == df_orig['KW_Charges']) & (df_orig['KW_Charges'] != 0))\n",
    "valid = df_orig[mask]['flag']\n",
    "df_orig.loc[mask, 'flag'] = valid.apply(lambda x: 'Sign of Other_Charges is incorrect' if x == \"\" else x + '; ' + 'Sign of Other_Charges is incorrect')\n",
    "\n",
    "df_orig = df_orig.iloc[:, 0:15]\n",
    "\n",
    "del( valid, mask)\n",
    "df_orig.flag.value_counts()"
   ]
  },
  {
   "cell_type": "code",
   "execution_count": null,
   "metadata": {
    "collapsed": true
   },
   "outputs": [],
   "source": []
  },
  {
   "cell_type": "markdown",
   "metadata": {},
   "source": [
    "### Calculate Metrics regarding zero-values and meter types - 1st time"
   ]
  },
  {
   "cell_type": "code",
   "execution_count": 56,
   "metadata": {},
   "outputs": [
    {
     "name": "stdout",
     "output_type": "stream",
     "text": [
      "perc of kw_only meters: 16.02%\n",
      "perc of kwh_only meters: 36.68%\n",
      "perc of kwh_and_kw meters: 47.30%\n",
      "perc of buildings with both kw_only and kwh_only meters: 30.34%\n",
      "perc of rows - current charges of zero: 16.65%\n",
      "perc of rows - kw charges of zero: 40.98%\n",
      "perc of rows - kwh charges of zero: 32.87%\n",
      "perc of rows - consumption/charge inconsistency: 4.46%\n",
      "perc of rows - sum of charges inconsistency: 26.47%\n"
     ]
    }
   ],
   "source": [
    "pysql = lambda q: pdsql.sqldf(q, globals())\n",
    "str1 = \"select Building_ID, Meter_Number \\\n",
    "        , sum(case when KWH_Charges == 0 and KW_Charges > 0 then 1 else 0 end) as count_kw_only \\\n",
    "        , sum(case when KW_Charges == 0 and KWH_Charges > 0 then 1 else 0 end) as count_kwh_only \\\n",
    "        , sum(Current_Charges) as total_current_charges \\\n",
    "        , count(*) as count \\\n",
    "        from df \\\n",
    "        group by df.Building_ID, df.Meter_Number\"\n",
    "df_meter_type = pysql(str1)\n",
    "\n",
    "\n",
    "df_meter_type['kwh_only'] = ((df_meter_type['count_kwh_only']/df_meter_type['count']) > 0.9) & (df_meter_type['count_kw_only'] == 0)\n",
    "df_meter_type['kw_only'] = ((df_meter_type['count_kw_only']/df_meter_type['count']) > 0.9) & (df_meter_type['count_kwh_only'] == 0)\n",
    "\n",
    "#### check the meters\n",
    "\n",
    "print(\"perc of kw_only meters:\", \"{:.2%}\".format(df_meter_type[(df_meter_type['kw_only'] == 1) & (df_meter_type['kwh_only'] == 0)].shape[0] / df_meter_type.shape[0]))\n",
    "\n",
    "print(\"perc of kwh_only meters:\", \"{:.2%}\".format(df_meter_type[(df_meter_type['kwh_only'] == 1) & (df_meter_type['kw_only'] == 0)].shape[0] / df_meter_type.shape[0]))\n",
    "\n",
    "print(\"perc of kwh_and_kw meters:\", \"{:.2%}\".format(df_meter_type[(df_meter_type['kwh_only'] == 0) & (df_meter_type['kw_only'] == 0)].shape[0] / df_meter_type.shape[0]))\n",
    "\n",
    "\n",
    "#### check the building_ids\n",
    "\n",
    "a = df_meter_type[df_meter_type['kwh_only'] == 1].groupby(['Building_ID']).agg('count').reset_index().iloc[:, 0:2]\n",
    "b =  df_meter_type[df_meter_type['kw_only'] == 1].groupby(['Building_ID']).agg('count').reset_index().iloc[:, 0:2]\n",
    "a.columns = ['Building_ID', 'Count']\n",
    "b.columns = ['Building_ID', 'Count']\n",
    "\n",
    "print(\"perc of buildings with both kw_only and kwh_only meters:\", \\\n",
    "     \"{:.2%}\".format(pd.merge(a, b, on = 'Building_ID', how = 'inner').shape[0] \\\n",
    "/ df_meter_type.groupby(['Building_ID']).agg('count').reset_index().shape[0]))\n",
    "\n",
    "\n",
    "#### Check the statistics of zero-value rows:\n",
    "\n",
    "print(\"perc of rows - current charges of zero:\", \"{:.2%}\".format(df[df['Current_Charges'] == 0].shape[0] / df.shape[0]))\n",
    "\n",
    "print(\"perc of rows - kw charges of zero:\", \"{:.2%}\".format(df[df['KW_Charges'] == 0].shape[0] / df.shape[0]))\n",
    "\n",
    "print(\"perc of rows - kwh charges of zero:\", \"{:.2%}\".format(df[df['KWH_Charges'] == 0].shape[0] / df.shape[0]))\n",
    "\n",
    "print(\"perc of rows - consumption/charge inconsistency:\", \\\n",
    "      \"{:.2%}\".format(df[((df['KWH_Charges'] == 0) ^ (df['Consumption_KWH'] == 0)) \\\n",
    "   | ((df['KW_Charges'] == 0) ^ (df['Consumption_KW'] == 0)) ].shape[0]\\\n",
    "    /df.shape[0]))\n",
    "\n",
    "print(\"perc of rows - sum of charges inconsistency:\", \\\n",
    "     \"{:.2%}\".format(1 - df[df['Current_Charges'] == df['KWH_Charges'] + df['KW_Charges'] + df['Other_Charges']].shape[0]\\\n",
    "    /df.shape[0]))"
   ]
  },
  {
   "cell_type": "code",
   "execution_count": null,
   "metadata": {
    "collapsed": true
   },
   "outputs": [],
   "source": []
  },
  {
   "cell_type": "markdown",
   "metadata": {},
   "source": [
    "### 12. Identify accounts that have separated meters for KW and KWH charges and combine the meters"
   ]
  },
  {
   "cell_type": "markdown",
   "metadata": {},
   "source": [
    "There are many cases where under the same Building_ID, two meter numbers differ only in the first digit and share the same service date ranges. Usually the larger meter number has zero values in all KW_Charges and the smaller one has zero values in all KWH_Charges. It seems reasonable to combined them.\n",
    "- (Exceptions do exist - some larger meter number have values in both KW and KWH)"
   ]
  },
  {
   "cell_type": "markdown",
   "metadata": {},
   "source": [
    "- Output:\n",
    "    - df (with consolidated meter numbers)"
   ]
  },
  {
   "cell_type": "code",
   "execution_count": 57,
   "metadata": {
    "collapsed": true
   },
   "outputs": [],
   "source": [
    "temp = df.groupby(['Building_ID', 'Meter_Number']).agg('count').reset_index()[['Building_ID', 'Meter_Number']]"
   ]
  },
  {
   "cell_type": "code",
   "execution_count": 58,
   "metadata": {
    "collapsed": true
   },
   "outputs": [],
   "source": [
    "pysql = lambda q: pdsql.sqldf(q, globals())\n",
    "str1 = \"select distinct l.Building_ID, l.Meter_Number, r.Meter_Number\\\n",
    "        from temp l join temp r on l.Building_ID = r.Building_ID and l.Meter_Number > r.Meter_Number \\\n",
    "        where substr(l.Meter_Number, 2, length(l.Meter_number)) == substr(r.Meter_Number, 2, length(r.Meter_number))\"\n",
    "df_meter_mapping = pysql(str1)\n",
    "\n",
    "df_meter_mapping.columns = ['Building_ID', 'Meter_Number_L', 'Meter_Number_S']"
   ]
  },
  {
   "cell_type": "markdown",
   "metadata": {},
   "source": [
    "#### 26.7% of the meter numbers can be mapped to another"
   ]
  },
  {
   "cell_type": "code",
   "execution_count": 59,
   "metadata": {},
   "outputs": [
    {
     "data": {
      "text/plain": [
       "0.26736884747822565"
      ]
     },
     "execution_count": 59,
     "metadata": {},
     "output_type": "execute_result"
    }
   ],
   "source": [
    "str1 = \"select count (distinct Meter_Number_S) as count_redudant_meters\\\n",
    "        from df_meter_mapping\"\n",
    "str2 = \"select count (distinct Meter_Number) as count_meters\\\n",
    "        from temp\"\n",
    "pysql(str1)['count_redudant_meters'][0]/pysql(str2)['count_meters'][0]\n"
   ]
  },
  {
   "cell_type": "code",
   "execution_count": 60,
   "metadata": {
    "collapsed": true
   },
   "outputs": [],
   "source": [
    "del(temp)"
   ]
  },
  {
   "cell_type": "code",
   "execution_count": 61,
   "metadata": {},
   "outputs": [
    {
     "data": {
      "text/html": [
       "<div>\n",
       "<style scoped>\n",
       "    .dataframe tbody tr th:only-of-type {\n",
       "        vertical-align: middle;\n",
       "    }\n",
       "\n",
       "    .dataframe tbody tr th {\n",
       "        vertical-align: top;\n",
       "    }\n",
       "\n",
       "    .dataframe thead th {\n",
       "        text-align: right;\n",
       "    }\n",
       "</style>\n",
       "<table border=\"1\" class=\"dataframe\">\n",
       "  <thead>\n",
       "    <tr style=\"text-align: right;\">\n",
       "      <th></th>\n",
       "      <th>Building_ID</th>\n",
       "      <th>Meter_Number_L</th>\n",
       "      <th>Meter_Number_S</th>\n",
       "    </tr>\n",
       "  </thead>\n",
       "  <tbody>\n",
       "    <tr>\n",
       "      <th>0</th>\n",
       "      <td>10.0 - BLD 01</td>\n",
       "      <td>7864550</td>\n",
       "      <td>1864550</td>\n",
       "    </tr>\n",
       "    <tr>\n",
       "      <th>1</th>\n",
       "      <td>10.0 - BLD 02</td>\n",
       "      <td>7864551</td>\n",
       "      <td>1864551</td>\n",
       "    </tr>\n",
       "    <tr>\n",
       "      <th>2</th>\n",
       "      <td>10.0 - BLD 03</td>\n",
       "      <td>8010023</td>\n",
       "      <td>1010023</td>\n",
       "    </tr>\n",
       "    <tr>\n",
       "      <th>3</th>\n",
       "      <td>10.0 - BLD 04</td>\n",
       "      <td>7864536</td>\n",
       "      <td>1864536</td>\n",
       "    </tr>\n",
       "    <tr>\n",
       "      <th>4</th>\n",
       "      <td>10.0 - BLD 05</td>\n",
       "      <td>8010026</td>\n",
       "      <td>1010026</td>\n",
       "    </tr>\n",
       "  </tbody>\n",
       "</table>\n",
       "</div>"
      ],
      "text/plain": [
       "     Building_ID Meter_Number_L Meter_Number_S\n",
       "0  10.0 - BLD 01        7864550        1864550\n",
       "1  10.0 - BLD 02        7864551        1864551\n",
       "2  10.0 - BLD 03        8010023        1010023\n",
       "3  10.0 - BLD 04        7864536        1864536\n",
       "4  10.0 - BLD 05        8010026        1010026"
      ]
     },
     "execution_count": 61,
     "metadata": {},
     "output_type": "execute_result"
    }
   ],
   "source": [
    "df_meter_mapping.head()"
   ]
  },
  {
   "cell_type": "markdown",
   "metadata": {},
   "source": [
    "#### check if the two meters correspond to KWH_Charges and KW_Charges respectively, by comparing to the df_meter_type table obtained above"
   ]
  },
  {
   "cell_type": "code",
   "execution_count": 62,
   "metadata": {
    "collapsed": true
   },
   "outputs": [],
   "source": [
    "temp = pd.merge(df_meter_mapping, df_meter_type, left_on = ['Building_ID', 'Meter_Number_S']\\\n",
    "         , right_on = ['Building_ID', 'Meter_Number'], how = 'left')\\\n",
    "        [['Building_ID', 'Meter_Number_S', 'count_kwh_only', 'count_kw_only', 'count', 'kwh_only', 'kw_only', 'Meter_Number_L']]\n",
    "\n",
    "temp.columns = ['Building_ID', 'Meter_Number_S', 'count_kwh_only_s', 'count_kw_only_s', 'count_s', 'kwh_only_s', 'kw_only_s',\n",
    "       'Meter_Number_L']\n",
    "\n",
    "temp = pd.merge(temp, df_meter_type, left_on = ['Building_ID', 'Meter_Number_L']\\\n",
    "         , right_on = ['Building_ID', 'Meter_Number'], how = 'left')\\\n",
    "        [['Building_ID', 'Meter_Number_S', 'count_kwh_only_s', 'count_kw_only_s', 'count_s', 'kwh_only_s', 'kw_only_s', 'Meter_Number_L', 'count_kwh_only', 'count_kw_only', 'count', 'kwh_only', 'kw_only']]\n",
    "\n",
    "temp.columns = ['Building_ID', 'Meter_Number_S', 'count_kwh_only_s', 'count_kw_only_s', 'count_s', 'kwh_only_s', 'kw_only_s',\n",
    "       'Meter_Number_L', 'count_kwh_only_l', 'count_kw_only_l', 'count_l', 'kwh_only_l', 'kw_only_l']"
   ]
  },
  {
   "cell_type": "code",
   "execution_count": 63,
   "metadata": {},
   "outputs": [
    {
     "data": {
      "text/html": [
       "<div>\n",
       "<style scoped>\n",
       "    .dataframe tbody tr th:only-of-type {\n",
       "        vertical-align: middle;\n",
       "    }\n",
       "\n",
       "    .dataframe tbody tr th {\n",
       "        vertical-align: top;\n",
       "    }\n",
       "\n",
       "    .dataframe thead th {\n",
       "        text-align: right;\n",
       "    }\n",
       "</style>\n",
       "<table border=\"1\" class=\"dataframe\">\n",
       "  <thead>\n",
       "    <tr style=\"text-align: right;\">\n",
       "      <th></th>\n",
       "      <th>Building_ID</th>\n",
       "      <th>Meter_Number_S</th>\n",
       "      <th>count_kwh_only_s</th>\n",
       "      <th>count_kw_only_s</th>\n",
       "      <th>count_s</th>\n",
       "      <th>kwh_only_s</th>\n",
       "      <th>kw_only_s</th>\n",
       "      <th>Meter_Number_L</th>\n",
       "      <th>count_kwh_only_l</th>\n",
       "      <th>count_kw_only_l</th>\n",
       "      <th>count_l</th>\n",
       "      <th>kwh_only_l</th>\n",
       "      <th>kw_only_l</th>\n",
       "    </tr>\n",
       "  </thead>\n",
       "  <tbody>\n",
       "    <tr>\n",
       "      <th>0</th>\n",
       "      <td>10.0 - BLD 01</td>\n",
       "      <td>1864550</td>\n",
       "      <td>0</td>\n",
       "      <td>90</td>\n",
       "      <td>99</td>\n",
       "      <td>False</td>\n",
       "      <td>True</td>\n",
       "      <td>7864550</td>\n",
       "      <td>97</td>\n",
       "      <td>0</td>\n",
       "      <td>97</td>\n",
       "      <td>True</td>\n",
       "      <td>False</td>\n",
       "    </tr>\n",
       "    <tr>\n",
       "      <th>1</th>\n",
       "      <td>10.0 - BLD 02</td>\n",
       "      <td>1864551</td>\n",
       "      <td>0</td>\n",
       "      <td>90</td>\n",
       "      <td>99</td>\n",
       "      <td>False</td>\n",
       "      <td>True</td>\n",
       "      <td>7864551</td>\n",
       "      <td>95</td>\n",
       "      <td>0</td>\n",
       "      <td>95</td>\n",
       "      <td>True</td>\n",
       "      <td>False</td>\n",
       "    </tr>\n",
       "    <tr>\n",
       "      <th>2</th>\n",
       "      <td>10.0 - BLD 03</td>\n",
       "      <td>1010023</td>\n",
       "      <td>0</td>\n",
       "      <td>90</td>\n",
       "      <td>99</td>\n",
       "      <td>False</td>\n",
       "      <td>True</td>\n",
       "      <td>8010023</td>\n",
       "      <td>97</td>\n",
       "      <td>0</td>\n",
       "      <td>97</td>\n",
       "      <td>True</td>\n",
       "      <td>False</td>\n",
       "    </tr>\n",
       "    <tr>\n",
       "      <th>3</th>\n",
       "      <td>10.0 - BLD 04</td>\n",
       "      <td>1864536</td>\n",
       "      <td>0</td>\n",
       "      <td>90</td>\n",
       "      <td>99</td>\n",
       "      <td>False</td>\n",
       "      <td>True</td>\n",
       "      <td>7864536</td>\n",
       "      <td>97</td>\n",
       "      <td>0</td>\n",
       "      <td>97</td>\n",
       "      <td>True</td>\n",
       "      <td>False</td>\n",
       "    </tr>\n",
       "    <tr>\n",
       "      <th>4</th>\n",
       "      <td>10.0 - BLD 05</td>\n",
       "      <td>1010026</td>\n",
       "      <td>0</td>\n",
       "      <td>0</td>\n",
       "      <td>1</td>\n",
       "      <td>False</td>\n",
       "      <td>False</td>\n",
       "      <td>8010026</td>\n",
       "      <td>21</td>\n",
       "      <td>0</td>\n",
       "      <td>21</td>\n",
       "      <td>True</td>\n",
       "      <td>False</td>\n",
       "    </tr>\n",
       "  </tbody>\n",
       "</table>\n",
       "</div>"
      ],
      "text/plain": [
       "     Building_ID Meter_Number_S  count_kwh_only_s  count_kw_only_s  count_s  \\\n",
       "0  10.0 - BLD 01        1864550                 0               90       99   \n",
       "1  10.0 - BLD 02        1864551                 0               90       99   \n",
       "2  10.0 - BLD 03        1010023                 0               90       99   \n",
       "3  10.0 - BLD 04        1864536                 0               90       99   \n",
       "4  10.0 - BLD 05        1010026                 0                0        1   \n",
       "\n",
       "   kwh_only_s  kw_only_s Meter_Number_L  count_kwh_only_l  count_kw_only_l  \\\n",
       "0       False       True        7864550                97                0   \n",
       "1       False       True        7864551                95                0   \n",
       "2       False       True        8010023                97                0   \n",
       "3       False       True        7864536                97                0   \n",
       "4       False      False        8010026                21                0   \n",
       "\n",
       "   count_l  kwh_only_l  kw_only_l  \n",
       "0       97        True      False  \n",
       "1       95        True      False  \n",
       "2       97        True      False  \n",
       "3       97        True      False  \n",
       "4       21        True      False  "
      ]
     },
     "execution_count": 63,
     "metadata": {},
     "output_type": "execute_result"
    }
   ],
   "source": [
    "temp.head()"
   ]
  },
  {
   "cell_type": "markdown",
   "metadata": {},
   "source": [
    "#### Nearly all the \"small\" meter_numbers are kw_only meters (they only have non-zero values in kw charges), it seems okay to map them to the \"large\" corresponding meter_numbers"
   ]
  },
  {
   "cell_type": "markdown",
   "metadata": {},
   "source": [
    "#### kwh_only_l means the \"larger\" meter_number only has non-zero values in KWH charges; Better doc needed here"
   ]
  },
  {
   "cell_type": "code",
   "execution_count": 64,
   "metadata": {},
   "outputs": [
    {
     "data": {
      "text/plain": [
       "0.059848484848484845"
      ]
     },
     "execution_count": 64,
     "metadata": {},
     "output_type": "execute_result"
    }
   ],
   "source": [
    "temp[(temp['kwh_only_l'] == False) & (temp['kw_only_l'] == False)].Meter_Number_S.nunique() / temp.Meter_Number_S.nunique()"
   ]
  },
  {
   "cell_type": "code",
   "execution_count": 65,
   "metadata": {},
   "outputs": [
    {
     "data": {
      "text/plain": [
       "0.43636363636363634"
      ]
     },
     "execution_count": 65,
     "metadata": {},
     "output_type": "execute_result"
    }
   ],
   "source": [
    "temp[(temp['kwh_only_s'] == False) & (temp['kw_only_s'] == False)].Meter_Number_S.nunique() / temp.Meter_Number_S.nunique()"
   ]
  },
  {
   "cell_type": "code",
   "execution_count": 66,
   "metadata": {},
   "outputs": [
    {
     "data": {
      "text/plain": [
       "0.0"
      ]
     },
     "execution_count": 66,
     "metadata": {},
     "output_type": "execute_result"
    }
   ],
   "source": [
    "temp[(temp['kwh_only_s'] == True) & (temp['kw_only_s'] == False)].Meter_Number_S.nunique() / temp.Meter_Number_S.nunique()"
   ]
  },
  {
   "cell_type": "code",
   "execution_count": 67,
   "metadata": {},
   "outputs": [
    {
     "data": {
      "text/plain": [
       "0.5636363636363636"
      ]
     },
     "execution_count": 67,
     "metadata": {},
     "output_type": "execute_result"
    }
   ],
   "source": [
    "temp[(temp['kwh_only_s'] == False) & (temp['kw_only_s'] == True)].Meter_Number_S.nunique() / temp.Meter_Number_S.nunique()"
   ]
  },
  {
   "cell_type": "markdown",
   "metadata": {},
   "source": [
    "#### Combine the meter numbers "
   ]
  },
  {
   "cell_type": "code",
   "execution_count": 68,
   "metadata": {
    "collapsed": true
   },
   "outputs": [],
   "source": [
    "temp = pd.merge(df, df_meter_mapping, left_on = ['Building_ID', 'Meter_Number'], right_on = ['Building_ID','Meter_Number_S'], how = 'left')\n",
    "temp['Meter_Number_New'] = temp['Meter_Number_L'].combine_first(temp['Meter_Number'])\n",
    "\n",
    "df = temp\n",
    "\n",
    "del(temp)"
   ]
  },
  {
   "cell_type": "code",
   "execution_count": 69,
   "metadata": {
    "collapsed": true
   },
   "outputs": [],
   "source": [
    "df.drop(['Meter_Number', 'Meter_Number_L', 'Meter_Number_S'], axis = 1, inplace = True)\n",
    "\n",
    "df.columns = ['Account_Name', 'Location', 'Building_ID', 'Revenue_Month',\n",
    "       'Revenue_Year', 'Service_Start_Date', 'Service_End_Date', '# days',\n",
    "       'Consumption_KW', 'KW_Charges', 'Consumption_KWH', 'KWH_Charges',\n",
    "       'Other_Charges', 'Current_Charges', 'Meter_Number']\n",
    "\n",
    "col_ordered = ['Account_Name', 'Location', 'Building_ID', 'Meter_Number', 'Revenue_Month',\n",
    "       'Revenue_Year', 'Service_Start_Date', 'Service_End_Date', '# days',\n",
    "       'Consumption_KW', 'KW_Charges', 'Consumption_KWH', 'KWH_Charges',\n",
    "       'Other_Charges', 'Current_Charges']\n",
    "\n",
    "df = df[col_ordered]"
   ]
  },
  {
   "cell_type": "code",
   "execution_count": 70,
   "metadata": {
    "collapsed": true
   },
   "outputs": [],
   "source": [
    "df_meter_mapping.to_pickle(\"../output/NYCHA_Electricity_2010_to_2018_df_meter_mapping\")"
   ]
  },
  {
   "cell_type": "code",
   "execution_count": null,
   "metadata": {
    "collapsed": true
   },
   "outputs": [],
   "source": []
  },
  {
   "cell_type": "markdown",
   "metadata": {},
   "source": [
    "### Calculate Metrics regarding zero-values and meter types - 2nd time"
   ]
  },
  {
   "cell_type": "code",
   "execution_count": 71,
   "metadata": {},
   "outputs": [
    {
     "name": "stdout",
     "output_type": "stream",
     "text": [
      "perc of kw_only meters: 1.30%\n",
      "perc of kwh_only meters: 15.82%\n",
      "perc of kwh_and_kw meters: 82.89%\n",
      "perc of buildings with both kw_only and kwh_only meters: 0.49%\n",
      "perc of rows - current charges of zero: 16.65%\n",
      "perc of rows - kw charges of zero: 40.98%\n",
      "perc of rows - kwh charges of zero: 32.87%\n",
      "perc of rows - consumption/charge inconsistency: 4.46%\n",
      "perc of rows - sum of charges inconsistency: 26.47%\n"
     ]
    }
   ],
   "source": [
    "pysql = lambda q: pdsql.sqldf(q, globals())\n",
    "str1 = \"select Building_ID, Meter_Number \\\n",
    "        , sum(case when KWH_Charges == 0 and KW_Charges > 0 then 1 else 0 end) as count_kw_only \\\n",
    "        , sum(case when KW_Charges == 0 and KWH_Charges > 0 then 1 else 0 end) as count_kwh_only \\\n",
    "        , sum(Current_Charges) as total_current_charges \\\n",
    "        , count(*) as count \\\n",
    "        from df \\\n",
    "        group by df.Building_ID, df.Meter_Number\"\n",
    "df_meter_type = pysql(str1)\n",
    "\n",
    "\n",
    "df_meter_type['kwh_only'] = ((df_meter_type['count_kwh_only']/df_meter_type['count']) > 0.9) & (df_meter_type['count_kw_only'] == 0)\n",
    "df_meter_type['kw_only'] = ((df_meter_type['count_kw_only']/df_meter_type['count']) > 0.9) & (df_meter_type['count_kwh_only'] == 0)\n",
    "\n",
    "#### check the meters\n",
    "\n",
    "print(\"perc of kw_only meters:\", \"{:.2%}\".format(df_meter_type[(df_meter_type['kw_only'] == 1) & (df_meter_type['kwh_only'] == 0)].shape[0] / df_meter_type.shape[0]))\n",
    "\n",
    "print(\"perc of kwh_only meters:\", \"{:.2%}\".format(df_meter_type[(df_meter_type['kwh_only'] == 1) & (df_meter_type['kw_only'] == 0)].shape[0] / df_meter_type.shape[0]))\n",
    "\n",
    "print(\"perc of kwh_and_kw meters:\", \"{:.2%}\".format(df_meter_type[(df_meter_type['kwh_only'] == 0) & (df_meter_type['kw_only'] == 0)].shape[0] / df_meter_type.shape[0]))\n",
    "\n",
    "\n",
    "#### check the building_ids\n",
    "\n",
    "a = df_meter_type[df_meter_type['kwh_only'] == 1].groupby(['Building_ID']).agg('count').reset_index().iloc[:, 0:2]\n",
    "b =  df_meter_type[df_meter_type['kw_only'] == 1].groupby(['Building_ID']).agg('count').reset_index().iloc[:, 0:2]\n",
    "a.columns = ['Building_ID', 'Count']\n",
    "b.columns = ['Building_ID', 'Count']\n",
    "\n",
    "print(\"perc of buildings with both kw_only and kwh_only meters:\", \\\n",
    "     \"{:.2%}\".format(pd.merge(a, b, on = 'Building_ID', how = 'inner').shape[0] \\\n",
    "/ df_meter_type.groupby(['Building_ID']).agg('count').reset_index().shape[0]))\n",
    "\n",
    "\n",
    "#### Check the statistics of zero-value rows:\n",
    "\n",
    "print(\"perc of rows - current charges of zero:\", \"{:.2%}\".format(df[df['Current_Charges'] == 0].shape[0] / df.shape[0]))\n",
    "\n",
    "print(\"perc of rows - kw charges of zero:\", \"{:.2%}\".format(df[df['KW_Charges'] == 0].shape[0] / df.shape[0]))\n",
    "\n",
    "print(\"perc of rows - kwh charges of zero:\", \"{:.2%}\".format(df[df['KWH_Charges'] == 0].shape[0] / df.shape[0]))\n",
    "\n",
    "print(\"perc of rows - consumption/charge inconsistency:\", \\\n",
    "      \"{:.2%}\".format(df[((df['KWH_Charges'] == 0) ^ (df['Consumption_KWH'] == 0)) \\\n",
    "   | ((df['KW_Charges'] == 0) ^ (df['Consumption_KW'] == 0)) ].shape[0]\\\n",
    "    /df.shape[0]))\n",
    "\n",
    "print(\"perc of rows - sum of charges inconsistency:\", \\\n",
    "     \"{:.2%}\".format(1 - df[df['Current_Charges'] == df['KWH_Charges'] + df['KW_Charges'] + df['Other_Charges']].shape[0]\\\n",
    "    /df.shape[0]))"
   ]
  },
  {
   "cell_type": "code",
   "execution_count": null,
   "metadata": {
    "collapsed": true
   },
   "outputs": [],
   "source": []
  },
  {
   "cell_type": "markdown",
   "metadata": {},
   "source": [
    "### 13. Find the accounts with switched meter numbers\n",
    "\n",
    "There are Building_ID's whose meter number changed over the years, need to find the mapping and consolidate the meter numbers (In some cases it's a many-to-many mapping, I'm excluding those cases for now)\n",
    "\n",
    "outputs: \n",
    "1. df_multiple_meter_switch (building_id's with many-to-many meter mapping, need to investigate later)\n",
    "2. df (with consolidated meter numbers)"
   ]
  },
  {
   "cell_type": "code",
   "execution_count": 72,
   "metadata": {
    "collapsed": true
   },
   "outputs": [],
   "source": [
    "a = df.groupby(['Building_ID']).agg({'Meter_Number': 'nunique'}).reset_index()\n",
    "\n",
    "a = a[a[\"Meter_Number\"]>1]\n",
    "\n",
    "a.columns = ['Building_ID', 'Counts']\n",
    "\n",
    "a = pd.merge(a, df, on = 'Building_ID', how = 'inner')[['Building_ID', 'Meter_Number', \"Revenue_Month\"]]\\\n",
    ".groupby(['Building_ID', 'Meter_Number']).agg({'Revenue_Month': ['max','min']}).reset_index()\n",
    "\n",
    "a.columns = a.columns.get_level_values(0)\n",
    "\n",
    "a.columns = ['Building_ID', 'Meter_Number', 'Max_Month', 'Min_Month']\n",
    "\n",
    "a['Max_Month_Next'] = a['Max_Month'].map(lambda x: x + relativedelta(months=+1))\n",
    "a['Min_Month_Prior'] = a['Min_Month'].map(lambda x: x - relativedelta(months=+1))\n",
    "df_switch_meter = a\n",
    "\n",
    "del(a)"
   ]
  },
  {
   "cell_type": "code",
   "execution_count": 73,
   "metadata": {
    "collapsed": true
   },
   "outputs": [],
   "source": [
    "str1 = \"select l.Building_ID, l.Meter_Number as Meter_Number_E, r.Meter_Number as Meter_Number_L \\\n",
    "        from df_switch_meter l join df_switch_meter r on l.Building_ID = r.Building_ID and l.Meter_Number != r.Meter_Number \\\n",
    "        where l.Max_Month == r.Min_Month_Prior\"\n",
    "a = pysql(str1)"
   ]
  },
  {
   "cell_type": "code",
   "execution_count": 74,
   "metadata": {
    "collapsed": true
   },
   "outputs": [],
   "source": [
    "df_meter_switch = pd.DataFrame(a['Building_ID'].value_counts() > 1).reset_index()\n",
    "df_meter_switch.columns = ['Building_ID', 'Dummy']\n",
    "\n",
    "df_single_meter_switch = df_meter_switch[df_meter_switch['Dummy'] == False]\n",
    "df_multiple_meter_switch = df_meter_switch[df_meter_switch['Dummy'] == True]"
   ]
  },
  {
   "cell_type": "code",
   "execution_count": 75,
   "metadata": {
    "collapsed": true
   },
   "outputs": [],
   "source": [
    "df_meter_switch = pd.merge(a, df_single_meter_switch, on = 'Building_ID', how = 'inner')[['Building_ID', 'Meter_Number_E', 'Meter_Number_L']]"
   ]
  },
  {
   "cell_type": "code",
   "execution_count": 76,
   "metadata": {
    "collapsed": true
   },
   "outputs": [],
   "source": [
    "del(a)"
   ]
  },
  {
   "cell_type": "markdown",
   "metadata": {},
   "source": [
    "#### 14% of the meters can be mapped to another meter"
   ]
  },
  {
   "cell_type": "code",
   "execution_count": 77,
   "metadata": {},
   "outputs": [
    {
     "data": {
      "text/plain": [
       "0.1404090657822001"
      ]
     },
     "execution_count": 77,
     "metadata": {},
     "output_type": "execute_result"
    }
   ],
   "source": [
    "df_meter_switch['Meter_Number_E'].count() / df['Meter_Number'].nunique()"
   ]
  },
  {
   "cell_type": "markdown",
   "metadata": {},
   "source": [
    "#### Combine the meter numbers "
   ]
  },
  {
   "cell_type": "code",
   "execution_count": 78,
   "metadata": {
    "collapsed": true
   },
   "outputs": [],
   "source": [
    "a = pd.merge(df, df_meter_switch, left_on = ['Building_ID', 'Meter_Number'], right_on = ['Building_ID', 'Meter_Number_E'], how = 'left')\n",
    "a['Meter_Number_New'] = a['Meter_Number_L'].combine_first(a['Meter_Number'])\n",
    "df = a\n",
    "\n",
    "df.drop(['Meter_Number', 'Meter_Number_L', 'Meter_Number_E'], axis = 1, inplace = True)\n",
    "df.columns = ['Account_Name', 'Location', 'Building_ID', 'Revenue_Month',\n",
    "       'Revenue_Year', 'Service_Start_Date', 'Service_End_Date', '# days',\n",
    "       'Consumption_KW', 'KW_Charges', 'Consumption_KWH', 'KWH_Charges',\n",
    "       'Other_Charges', 'Current_Charges', 'Meter_Number']\n",
    "col_ordered = ['Account_Name', 'Location', 'Building_ID', 'Meter_Number', 'Revenue_Month',\n",
    "       'Revenue_Year', 'Service_Start_Date', 'Service_End_Date', '# days',\n",
    "       'Consumption_KW', 'KW_Charges', 'Consumption_KWH', 'KWH_Charges',\n",
    "       'Other_Charges', 'Current_Charges']\n",
    "df = df[col_ordered]"
   ]
  },
  {
   "cell_type": "code",
   "execution_count": null,
   "metadata": {
    "collapsed": true
   },
   "outputs": [],
   "source": []
  },
  {
   "cell_type": "code",
   "execution_count": 79,
   "metadata": {
    "collapsed": true
   },
   "outputs": [],
   "source": [
    "df_multiple_meter_switch.to_pickle(\"../output/NYCHA_Electricity_2010_to_2018_df_multiple_meter_switch\")"
   ]
  },
  {
   "cell_type": "code",
   "execution_count": null,
   "metadata": {
    "collapsed": true
   },
   "outputs": [],
   "source": []
  },
  {
   "cell_type": "markdown",
   "metadata": {},
   "source": [
    "### 14. Consolidate data to Building-Meter-Service_Date_Range level\n",
    "After combinging the meter numbers in the 2 steps above, there are cases where 2 rows exist for the same Meter and Service Date ranges (1 row for KW charges, 1 row for KWH charges)"
   ]
  },
  {
   "cell_type": "code",
   "execution_count": 80,
   "metadata": {
    "collapsed": true
   },
   "outputs": [],
   "source": [
    "idx = df.groupby(['Building_ID', 'Meter_Number', 'Revenue_Month', 'Service_Start_Date', 'Service_End_Date']).agg(['count'])['Account_Name'].reset_index()\n",
    "idx = idx[idx['count'] > 1]"
   ]
  },
  {
   "cell_type": "code",
   "execution_count": 81,
   "metadata": {},
   "outputs": [
    {
     "data": {
      "text/plain": [
       "2    73940\n",
       "Name: count, dtype: int64"
      ]
     },
     "execution_count": 81,
     "metadata": {},
     "output_type": "execute_result"
    }
   ],
   "source": [
    "idx['count'].value_counts()"
   ]
  },
  {
   "cell_type": "markdown",
   "metadata": {},
   "source": [
    "#### see the example below, read starting from the 3rd row"
   ]
  },
  {
   "cell_type": "code",
   "execution_count": 82,
   "metadata": {},
   "outputs": [
    {
     "data": {
      "text/html": [
       "<div>\n",
       "<style scoped>\n",
       "    .dataframe tbody tr th:only-of-type {\n",
       "        vertical-align: middle;\n",
       "    }\n",
       "\n",
       "    .dataframe tbody tr th {\n",
       "        vertical-align: top;\n",
       "    }\n",
       "\n",
       "    .dataframe thead th {\n",
       "        text-align: right;\n",
       "    }\n",
       "</style>\n",
       "<table border=\"1\" class=\"dataframe\">\n",
       "  <thead>\n",
       "    <tr style=\"text-align: right;\">\n",
       "      <th></th>\n",
       "      <th>Account_Name</th>\n",
       "      <th>Location</th>\n",
       "      <th>Building_ID</th>\n",
       "      <th>Meter_Number</th>\n",
       "      <th>Revenue_Month</th>\n",
       "      <th>Revenue_Year</th>\n",
       "      <th>Service_Start_Date</th>\n",
       "      <th>Service_End_Date</th>\n",
       "      <th># days</th>\n",
       "      <th>Consumption_KW</th>\n",
       "      <th>KW_Charges</th>\n",
       "      <th>Consumption_KWH</th>\n",
       "      <th>KWH_Charges</th>\n",
       "      <th>Other_Charges</th>\n",
       "      <th>Current_Charges</th>\n",
       "    </tr>\n",
       "  </thead>\n",
       "  <tbody>\n",
       "    <tr>\n",
       "      <th>78374</th>\n",
       "      <td>CYPRESS HILLS</td>\n",
       "      <td>BLD 01</td>\n",
       "      <td>70.0 - BLD 01</td>\n",
       "      <td>8095173</td>\n",
       "      <td>2013-04-01</td>\n",
       "      <td>2013</td>\n",
       "      <td>2013-03-26</td>\n",
       "      <td>2013-04-24</td>\n",
       "      <td>29.0</td>\n",
       "      <td>0.00</td>\n",
       "      <td>0.00</td>\n",
       "      <td>45360.0</td>\n",
       "      <td>2339.67</td>\n",
       "      <td>4569.30</td>\n",
       "      <td>6908.97</td>\n",
       "    </tr>\n",
       "    <tr>\n",
       "      <th>78378</th>\n",
       "      <td>CYPRESS HILLS</td>\n",
       "      <td>BLD 01</td>\n",
       "      <td>70.0 - BLD 01</td>\n",
       "      <td>8095177</td>\n",
       "      <td>2013-04-01</td>\n",
       "      <td>2013</td>\n",
       "      <td>2013-03-26</td>\n",
       "      <td>2013-04-24</td>\n",
       "      <td>29.0</td>\n",
       "      <td>0.00</td>\n",
       "      <td>0.00</td>\n",
       "      <td>42720.0</td>\n",
       "      <td>2203.50</td>\n",
       "      <td>4303.35</td>\n",
       "      <td>6506.85</td>\n",
       "    </tr>\n",
       "    <tr>\n",
       "      <th>78388</th>\n",
       "      <td>CYPRESS HILLS</td>\n",
       "      <td>BLD 01</td>\n",
       "      <td>70.0 - BLD 01</td>\n",
       "      <td>8095173</td>\n",
       "      <td>2013-05-01</td>\n",
       "      <td>2013</td>\n",
       "      <td>2013-04-24</td>\n",
       "      <td>2013-05-23</td>\n",
       "      <td>29.0</td>\n",
       "      <td>90.53</td>\n",
       "      <td>2155.75</td>\n",
       "      <td>0.0</td>\n",
       "      <td>0.00</td>\n",
       "      <td>-2155.75</td>\n",
       "      <td>0.00</td>\n",
       "    </tr>\n",
       "    <tr>\n",
       "      <th>78402</th>\n",
       "      <td>CYPRESS HILLS</td>\n",
       "      <td>BLD 01</td>\n",
       "      <td>70.0 - BLD 01</td>\n",
       "      <td>8095173</td>\n",
       "      <td>2013-05-01</td>\n",
       "      <td>2013</td>\n",
       "      <td>2013-04-24</td>\n",
       "      <td>2013-05-23</td>\n",
       "      <td>29.0</td>\n",
       "      <td>0.00</td>\n",
       "      <td>0.00</td>\n",
       "      <td>65040.0</td>\n",
       "      <td>3354.76</td>\n",
       "      <td>5421.44</td>\n",
       "      <td>8776.20</td>\n",
       "    </tr>\n",
       "    <tr>\n",
       "      <th>78392</th>\n",
       "      <td>CYPRESS HILLS</td>\n",
       "      <td>BLD 01</td>\n",
       "      <td>70.0 - BLD 01</td>\n",
       "      <td>8095177</td>\n",
       "      <td>2013-05-01</td>\n",
       "      <td>2013</td>\n",
       "      <td>2013-04-24</td>\n",
       "      <td>2013-05-23</td>\n",
       "      <td>29.0</td>\n",
       "      <td>97.06</td>\n",
       "      <td>2311.25</td>\n",
       "      <td>0.0</td>\n",
       "      <td>0.00</td>\n",
       "      <td>-2311.25</td>\n",
       "      <td>0.00</td>\n",
       "    </tr>\n",
       "    <tr>\n",
       "      <th>78406</th>\n",
       "      <td>CYPRESS HILLS</td>\n",
       "      <td>BLD 01</td>\n",
       "      <td>70.0 - BLD 01</td>\n",
       "      <td>8095177</td>\n",
       "      <td>2013-05-01</td>\n",
       "      <td>2013</td>\n",
       "      <td>2013-04-24</td>\n",
       "      <td>2013-05-23</td>\n",
       "      <td>29.0</td>\n",
       "      <td>0.00</td>\n",
       "      <td>0.00</td>\n",
       "      <td>75840.0</td>\n",
       "      <td>3911.83</td>\n",
       "      <td>6321.71</td>\n",
       "      <td>10233.54</td>\n",
       "    </tr>\n",
       "    <tr>\n",
       "      <th>78416</th>\n",
       "      <td>CYPRESS HILLS</td>\n",
       "      <td>BLD 01</td>\n",
       "      <td>70.0 - BLD 01</td>\n",
       "      <td>8095173</td>\n",
       "      <td>2013-06-01</td>\n",
       "      <td>2013</td>\n",
       "      <td>2013-05-23</td>\n",
       "      <td>2013-06-24</td>\n",
       "      <td>32.0</td>\n",
       "      <td>116.16</td>\n",
       "      <td>2163.26</td>\n",
       "      <td>0.0</td>\n",
       "      <td>0.00</td>\n",
       "      <td>-2163.26</td>\n",
       "      <td>0.00</td>\n",
       "    </tr>\n",
       "    <tr>\n",
       "      <th>78430</th>\n",
       "      <td>CYPRESS HILLS</td>\n",
       "      <td>BLD 01</td>\n",
       "      <td>70.0 - BLD 01</td>\n",
       "      <td>8095173</td>\n",
       "      <td>2013-06-01</td>\n",
       "      <td>2013</td>\n",
       "      <td>2013-05-23</td>\n",
       "      <td>2013-06-24</td>\n",
       "      <td>32.0</td>\n",
       "      <td>0.00</td>\n",
       "      <td>0.00</td>\n",
       "      <td>90480.0</td>\n",
       "      <td>5100.36</td>\n",
       "      <td>6561.40</td>\n",
       "      <td>11661.76</td>\n",
       "    </tr>\n",
       "    <tr>\n",
       "      <th>78420</th>\n",
       "      <td>CYPRESS HILLS</td>\n",
       "      <td>BLD 01</td>\n",
       "      <td>70.0 - BLD 01</td>\n",
       "      <td>8095177</td>\n",
       "      <td>2013-06-01</td>\n",
       "      <td>2013</td>\n",
       "      <td>2013-05-23</td>\n",
       "      <td>2013-06-24</td>\n",
       "      <td>32.0</td>\n",
       "      <td>130.94</td>\n",
       "      <td>2438.51</td>\n",
       "      <td>0.0</td>\n",
       "      <td>0.00</td>\n",
       "      <td>-2438.51</td>\n",
       "      <td>0.00</td>\n",
       "    </tr>\n",
       "    <tr>\n",
       "      <th>78434</th>\n",
       "      <td>CYPRESS HILLS</td>\n",
       "      <td>BLD 01</td>\n",
       "      <td>70.0 - BLD 01</td>\n",
       "      <td>8095177</td>\n",
       "      <td>2013-06-01</td>\n",
       "      <td>2013</td>\n",
       "      <td>2013-05-23</td>\n",
       "      <td>2013-06-24</td>\n",
       "      <td>32.0</td>\n",
       "      <td>0.00</td>\n",
       "      <td>0.00</td>\n",
       "      <td>105360.0</td>\n",
       "      <td>5939.14</td>\n",
       "      <td>7640.52</td>\n",
       "      <td>13579.66</td>\n",
       "    </tr>\n",
       "  </tbody>\n",
       "</table>\n",
       "</div>"
      ],
      "text/plain": [
       "        Account_Name Location    Building_ID Meter_Number Revenue_Month  \\\n",
       "78374  CYPRESS HILLS   BLD 01  70.0 - BLD 01      8095173    2013-04-01   \n",
       "78378  CYPRESS HILLS   BLD 01  70.0 - BLD 01      8095177    2013-04-01   \n",
       "78388  CYPRESS HILLS   BLD 01  70.0 - BLD 01      8095173    2013-05-01   \n",
       "78402  CYPRESS HILLS   BLD 01  70.0 - BLD 01      8095173    2013-05-01   \n",
       "78392  CYPRESS HILLS   BLD 01  70.0 - BLD 01      8095177    2013-05-01   \n",
       "78406  CYPRESS HILLS   BLD 01  70.0 - BLD 01      8095177    2013-05-01   \n",
       "78416  CYPRESS HILLS   BLD 01  70.0 - BLD 01      8095173    2013-06-01   \n",
       "78430  CYPRESS HILLS   BLD 01  70.0 - BLD 01      8095173    2013-06-01   \n",
       "78420  CYPRESS HILLS   BLD 01  70.0 - BLD 01      8095177    2013-06-01   \n",
       "78434  CYPRESS HILLS   BLD 01  70.0 - BLD 01      8095177    2013-06-01   \n",
       "\n",
       "       Revenue_Year Service_Start_Date Service_End_Date  # days  \\\n",
       "78374          2013         2013-03-26       2013-04-24    29.0   \n",
       "78378          2013         2013-03-26       2013-04-24    29.0   \n",
       "78388          2013         2013-04-24       2013-05-23    29.0   \n",
       "78402          2013         2013-04-24       2013-05-23    29.0   \n",
       "78392          2013         2013-04-24       2013-05-23    29.0   \n",
       "78406          2013         2013-04-24       2013-05-23    29.0   \n",
       "78416          2013         2013-05-23       2013-06-24    32.0   \n",
       "78430          2013         2013-05-23       2013-06-24    32.0   \n",
       "78420          2013         2013-05-23       2013-06-24    32.0   \n",
       "78434          2013         2013-05-23       2013-06-24    32.0   \n",
       "\n",
       "       Consumption_KW  KW_Charges  Consumption_KWH  KWH_Charges  \\\n",
       "78374            0.00        0.00          45360.0      2339.67   \n",
       "78378            0.00        0.00          42720.0      2203.50   \n",
       "78388           90.53     2155.75              0.0         0.00   \n",
       "78402            0.00        0.00          65040.0      3354.76   \n",
       "78392           97.06     2311.25              0.0         0.00   \n",
       "78406            0.00        0.00          75840.0      3911.83   \n",
       "78416          116.16     2163.26              0.0         0.00   \n",
       "78430            0.00        0.00          90480.0      5100.36   \n",
       "78420          130.94     2438.51              0.0         0.00   \n",
       "78434            0.00        0.00         105360.0      5939.14   \n",
       "\n",
       "       Other_Charges  Current_Charges  \n",
       "78374        4569.30          6908.97  \n",
       "78378        4303.35          6506.85  \n",
       "78388       -2155.75             0.00  \n",
       "78402        5421.44          8776.20  \n",
       "78392       -2311.25             0.00  \n",
       "78406        6321.71         10233.54  \n",
       "78416       -2163.26             0.00  \n",
       "78430        6561.40         11661.76  \n",
       "78420       -2438.51             0.00  \n",
       "78434        7640.52         13579.66  "
      ]
     },
     "execution_count": 82,
     "metadata": {},
     "output_type": "execute_result"
    }
   ],
   "source": [
    "mask = (df['Building_ID'] == '70.0 - BLD 01') & (df['Revenue_Year'] == 2013) & ( (df['Meter_Number'] == '8095177') | (df['Meter_Number'] == '8095173'))\n",
    "df[mask].sort_values(['Service_Start_Date', 'Meter_Number']).head(10)"
   ]
  },
  {
   "cell_type": "markdown",
   "metadata": {},
   "source": [
    "#### remove the multiple rows by aggregating at building, meter, revenue month, service_date_range level"
   ]
  },
  {
   "cell_type": "code",
   "execution_count": 83,
   "metadata": {
    "collapsed": true
   },
   "outputs": [],
   "source": [
    "df = df.groupby(['Account_Name', 'Location', 'Building_ID', 'Meter_Number',\n",
    "       'Revenue_Month', 'Revenue_Year', 'Service_Start_Date',\n",
    "       'Service_End_Date', '# days']).\\\n",
    "    agg({'Consumption_KW': 'sum', 'KW_Charges': 'sum', 'Consumption_KWH': 'sum', 'KWH_Charges': 'sum', 'Other_Charges': 'sum', 'Current_Charges': 'sum'}).reset_index()"
   ]
  },
  {
   "cell_type": "code",
   "execution_count": null,
   "metadata": {
    "collapsed": true
   },
   "outputs": [],
   "source": []
  },
  {
   "cell_type": "markdown",
   "metadata": {},
   "source": [
    "### Calculate Metrics regarding zero-values and meter types - 3rd time"
   ]
  },
  {
   "cell_type": "code",
   "execution_count": 84,
   "metadata": {},
   "outputs": [
    {
     "name": "stdout",
     "output_type": "stream",
     "text": [
      "perc of kw_only meters: 0.78%\n",
      "perc of kwh_only meters: 16.81%\n",
      "perc of kwh_and_kw meters: 82.40%\n",
      "perc of buildings with both kw_only and kwh_only meters: 0.25%\n",
      "perc of rows - current charges of zero: 2.41%\n",
      "perc of rows - kw charges of zero: 17.36%\n",
      "perc of rows - kwh charges of zero: 5.58%\n",
      "perc of rows - consumption/charge inconsistency: 6.36%\n",
      "perc of rows - sum of charges inconsistency: 34.27%\n"
     ]
    }
   ],
   "source": [
    "pysql = lambda q: pdsql.sqldf(q, globals())\n",
    "str1 = \"select Building_ID, Meter_Number \\\n",
    "        , sum(case when KWH_Charges == 0 and KW_Charges > 0 then 1 else 0 end) as count_kw_only \\\n",
    "        , sum(case when KW_Charges == 0 and KWH_Charges > 0 then 1 else 0 end) as count_kwh_only \\\n",
    "        , sum(Current_Charges) as total_current_charges \\\n",
    "        , count(*) as count \\\n",
    "        from df \\\n",
    "        group by df.Building_ID, df.Meter_Number\"\n",
    "df_meter_type = pysql(str1)\n",
    "\n",
    "\n",
    "df_meter_type['kwh_only'] = ((df_meter_type['count_kwh_only']/df_meter_type['count']) > 0.9) & (df_meter_type['count_kw_only'] == 0)\n",
    "df_meter_type['kw_only'] = ((df_meter_type['count_kw_only']/df_meter_type['count']) > 0.9) & (df_meter_type['count_kwh_only'] == 0)\n",
    "\n",
    "#### check the meters\n",
    "\n",
    "print(\"perc of kw_only meters:\", \"{:.2%}\".format(df_meter_type[(df_meter_type['kw_only'] == 1) & (df_meter_type['kwh_only'] == 0)].shape[0] / df_meter_type.shape[0]))\n",
    "\n",
    "print(\"perc of kwh_only meters:\", \"{:.2%}\".format(df_meter_type[(df_meter_type['kwh_only'] == 1) & (df_meter_type['kw_only'] == 0)].shape[0] / df_meter_type.shape[0]))\n",
    "\n",
    "print(\"perc of kwh_and_kw meters:\", \"{:.2%}\".format(df_meter_type[(df_meter_type['kwh_only'] == 0) & (df_meter_type['kw_only'] == 0)].shape[0] / df_meter_type.shape[0]))\n",
    "\n",
    "\n",
    "#### check the building_ids\n",
    "\n",
    "a = df_meter_type[df_meter_type['kwh_only'] == 1].groupby(['Building_ID']).agg('count').reset_index().iloc[:, 0:2]\n",
    "b =  df_meter_type[df_meter_type['kw_only'] == 1].groupby(['Building_ID']).agg('count').reset_index().iloc[:, 0:2]\n",
    "a.columns = ['Building_ID', 'Count']\n",
    "b.columns = ['Building_ID', 'Count']\n",
    "\n",
    "print(\"perc of buildings with both kw_only and kwh_only meters:\", \\\n",
    "     \"{:.2%}\".format(pd.merge(a, b, on = 'Building_ID', how = 'inner').shape[0] \\\n",
    "/ df_meter_type.groupby(['Building_ID']).agg('count').reset_index().shape[0]))\n",
    "\n",
    "\n",
    "#### Check the statistics of zero-value rows:\n",
    "\n",
    "print(\"perc of rows - current charges of zero:\", \"{:.2%}\".format(df[df['Current_Charges'] == 0].shape[0] / df.shape[0]))\n",
    "\n",
    "print(\"perc of rows - kw charges of zero:\", \"{:.2%}\".format(df[df['KW_Charges'] == 0].shape[0] / df.shape[0]))\n",
    "\n",
    "print(\"perc of rows - kwh charges of zero:\", \"{:.2%}\".format(df[df['KWH_Charges'] == 0].shape[0] / df.shape[0]))\n",
    "\n",
    "print(\"perc of rows - consumption/charge inconsistency:\", \\\n",
    "      \"{:.2%}\".format(df[((df['KWH_Charges'] == 0) ^ (df['Consumption_KWH'] == 0)) \\\n",
    "   | ((df['KW_Charges'] == 0) ^ (df['Consumption_KW'] == 0)) ].shape[0]\\\n",
    "    /df.shape[0]))\n",
    "\n",
    "print(\"perc of rows - sum of charges inconsistency:\", \\\n",
    "     \"{:.2%}\".format(1 - df[df['Current_Charges'] == df['KWH_Charges'] + df['KW_Charges'] + df['Other_Charges']].shape[0]\\\n",
    "    /df.shape[0]))"
   ]
  },
  {
   "cell_type": "code",
   "execution_count": null,
   "metadata": {
    "collapsed": true
   },
   "outputs": [],
   "source": []
  },
  {
   "cell_type": "markdown",
   "metadata": {},
   "source": [
    "### 15. Consolidate data to Building-Meter-Revenue_Month level"
   ]
  },
  {
   "cell_type": "markdown",
   "metadata": {},
   "source": [
    "##### only need to work on the cases where multiple rows exist for the same builing_id, meter_number and revenue_month, due to different service_date_ranges, which might be concatenated in many cases"
   ]
  },
  {
   "cell_type": "code",
   "execution_count": 85,
   "metadata": {
    "collapsed": true
   },
   "outputs": [],
   "source": [
    "temp = df.groupby(['Building_ID', 'Meter_Number', 'Revenue_Month']).agg('count').reset_index().iloc[:, 0:4]\n",
    "temp.columns = ['Building_ID', 'Meter_Number', 'Revenue_Month', 'Row_Counts']"
   ]
  },
  {
   "cell_type": "code",
   "execution_count": 86,
   "metadata": {
    "collapsed": true
   },
   "outputs": [],
   "source": [
    "df_multiple = pd.merge(df, temp[temp['Row_Counts']  > 1], on = ['Building_ID', 'Meter_Number', 'Revenue_Month'], how = 'inner').iloc[:, 0:15]\n",
    "df_single = pd.merge(df, temp[temp['Row_Counts']  == 1], on = ['Building_ID', 'Meter_Number', 'Revenue_Month'], how = 'inner').iloc[:, 0:15]"
   ]
  },
  {
   "cell_type": "code",
   "execution_count": 87,
   "metadata": {
    "collapsed": true
   },
   "outputs": [],
   "source": [
    "# sort by building_id, revenue month, meter number\n",
    "df_multiple = df_multiple.sort_values(by = ['Meter_Number', 'Revenue_Month', 'Service_Start_Date'], ascending=[True, True, True])\n",
    "\n",
    "def merge_dates(grp):\n",
    "    # Find contiguous date groups, and get the first/last start/end date for each group.\n",
    "    dt_groups = (grp['Service_Start_Date'] != grp['Service_End_Date'].shift()).cumsum()\n",
    "    return grp.groupby(dt_groups).agg({'Service_Start_Date': 'first', 'Service_End_Date': 'last',\n",
    "        '# days':'sum', 'Consumption_KW':'sum', 'KW_Charges':'sum',\n",
    "       'Consumption_KWH':'sum', 'KWH_Charges':'sum', 'Other_Charges':'sum', 'Current_Charges':'sum'})\n",
    "\n",
    "# Perform a groupby and apply the merge_dates function, followed by formatting.\n",
    "df_multiple_concatenate = df_multiple.groupby(['Account_Name', 'Location', 'Building_ID', 'Meter_Number', 'Revenue_Month', 'Revenue_Year']).apply(merge_dates)\n",
    "df_multiple_concatenate = df_multiple_concatenate.reset_index().drop('level_6', axis = 1)\n",
    "df_multiple_concatenate = df_multiple_concatenate.reset_index().iloc[:, 1:16]"
   ]
  },
  {
   "cell_type": "code",
   "execution_count": 88,
   "metadata": {},
   "outputs": [
    {
     "data": {
      "text/html": [
       "<div>\n",
       "<style scoped>\n",
       "    .dataframe tbody tr th:only-of-type {\n",
       "        vertical-align: middle;\n",
       "    }\n",
       "\n",
       "    .dataframe tbody tr th {\n",
       "        vertical-align: top;\n",
       "    }\n",
       "\n",
       "    .dataframe thead th {\n",
       "        text-align: right;\n",
       "    }\n",
       "</style>\n",
       "<table border=\"1\" class=\"dataframe\">\n",
       "  <thead>\n",
       "    <tr style=\"text-align: right;\">\n",
       "      <th></th>\n",
       "      <th>Building_ID</th>\n",
       "      <th>Meter_Number</th>\n",
       "      <th>Revenue_Month</th>\n",
       "      <th>Count</th>\n",
       "    </tr>\n",
       "  </thead>\n",
       "  <tbody>\n",
       "    <tr>\n",
       "      <th>0</th>\n",
       "      <td>101.0 - BLD 02</td>\n",
       "      <td>7834072</td>\n",
       "      <td>2015-06-01</td>\n",
       "      <td>2</td>\n",
       "    </tr>\n",
       "    <tr>\n",
       "      <th>75</th>\n",
       "      <td>206.0 - BLD 02</td>\n",
       "      <td>7382886</td>\n",
       "      <td>2015-03-01</td>\n",
       "      <td>2</td>\n",
       "    </tr>\n",
       "    <tr>\n",
       "      <th>78</th>\n",
       "      <td>227.0 - BLD 01</td>\n",
       "      <td>8322190</td>\n",
       "      <td>2014-08-01</td>\n",
       "      <td>2</td>\n",
       "    </tr>\n",
       "    <tr>\n",
       "      <th>79</th>\n",
       "      <td>267.0 - BLD 01</td>\n",
       "      <td>8322189</td>\n",
       "      <td>2014-08-01</td>\n",
       "      <td>2</td>\n",
       "    </tr>\n",
       "    <tr>\n",
       "      <th>80</th>\n",
       "      <td>267.0 - BLD 03</td>\n",
       "      <td>8661312</td>\n",
       "      <td>2015-03-01</td>\n",
       "      <td>2</td>\n",
       "    </tr>\n",
       "    <tr>\n",
       "      <th>155</th>\n",
       "      <td>98.0 - BLD 15</td>\n",
       "      <td>99277502</td>\n",
       "      <td>2013-03-01</td>\n",
       "      <td>2</td>\n",
       "    </tr>\n",
       "  </tbody>\n",
       "</table>\n",
       "</div>"
      ],
      "text/plain": [
       "        Building_ID Meter_Number Revenue_Month  Count\n",
       "0    101.0 - BLD 02      7834072    2015-06-01      2\n",
       "75   206.0 - BLD 02      7382886    2015-03-01      2\n",
       "78   227.0 - BLD 01      8322190    2014-08-01      2\n",
       "79   267.0 - BLD 01      8322189    2014-08-01      2\n",
       "80   267.0 - BLD 03      8661312    2015-03-01      2\n",
       "155   98.0 - BLD 15     99277502    2013-03-01      2"
      ]
     },
     "execution_count": 88,
     "metadata": {},
     "output_type": "execute_result"
    }
   ],
   "source": [
    "idx = df_multiple_concatenate.groupby(['Building_ID', 'Meter_Number', 'Revenue_Month']).count().reset_index().iloc[:, 0:4]\n",
    "\n",
    "idx.columns = ['Building_ID', 'Meter_Number', 'Revenue_Month', 'Count']\n",
    "\n",
    "idx[idx['Count'] > 1]"
   ]
  },
  {
   "cell_type": "markdown",
   "metadata": {},
   "source": [
    "#### Only 6 meters have multiple entries under the same Revenue_Month that can't be concatenated. Again they are caused by the separated logging of KWH and KW charges"
   ]
  },
  {
   "cell_type": "code",
   "execution_count": 89,
   "metadata": {},
   "outputs": [
    {
     "data": {
      "text/html": [
       "<div>\n",
       "<style scoped>\n",
       "    .dataframe tbody tr th:only-of-type {\n",
       "        vertical-align: middle;\n",
       "    }\n",
       "\n",
       "    .dataframe tbody tr th {\n",
       "        vertical-align: top;\n",
       "    }\n",
       "\n",
       "    .dataframe thead th {\n",
       "        text-align: right;\n",
       "    }\n",
       "</style>\n",
       "<table border=\"1\" class=\"dataframe\">\n",
       "  <thead>\n",
       "    <tr style=\"text-align: right;\">\n",
       "      <th></th>\n",
       "      <th>Account_Name</th>\n",
       "      <th>Location</th>\n",
       "      <th>Building_ID</th>\n",
       "      <th>Meter_Number</th>\n",
       "      <th>Revenue_Month</th>\n",
       "      <th>Revenue_Year</th>\n",
       "      <th>Service_Start_Date</th>\n",
       "      <th>Service_End_Date</th>\n",
       "      <th># days</th>\n",
       "      <th>Consumption_KW</th>\n",
       "      <th>KW_Charges</th>\n",
       "      <th>Consumption_KWH</th>\n",
       "      <th>KWH_Charges</th>\n",
       "      <th>Other_Charges</th>\n",
       "      <th>Current_Charges</th>\n",
       "      <th>Count</th>\n",
       "    </tr>\n",
       "  </thead>\n",
       "  <tbody>\n",
       "    <tr>\n",
       "      <th>0</th>\n",
       "      <td>CASSIDY-LAFAYETTE</td>\n",
       "      <td>BLD 02</td>\n",
       "      <td>206.0 - BLD 02</td>\n",
       "      <td>7382886</td>\n",
       "      <td>2015-03-01</td>\n",
       "      <td>2015</td>\n",
       "      <td>2015-02-25</td>\n",
       "      <td>2015-03-26</td>\n",
       "      <td>29.0</td>\n",
       "      <td>0.00</td>\n",
       "      <td>0.00</td>\n",
       "      <td>156800.0</td>\n",
       "      <td>6399.01</td>\n",
       "      <td>0.00</td>\n",
       "      <td>6399.01</td>\n",
       "      <td>2</td>\n",
       "    </tr>\n",
       "    <tr>\n",
       "      <th>1</th>\n",
       "      <td>CASSIDY-LAFAYETTE</td>\n",
       "      <td>BLD 02</td>\n",
       "      <td>206.0 - BLD 02</td>\n",
       "      <td>7382886</td>\n",
       "      <td>2015-03-01</td>\n",
       "      <td>2015</td>\n",
       "      <td>2015-03-17</td>\n",
       "      <td>2015-03-26</td>\n",
       "      <td>9.0</td>\n",
       "      <td>249.12</td>\n",
       "      <td>5033.94</td>\n",
       "      <td>0.0</td>\n",
       "      <td>0.00</td>\n",
       "      <td>5033.94</td>\n",
       "      <td>10086.83</td>\n",
       "      <td>2</td>\n",
       "    </tr>\n",
       "    <tr>\n",
       "      <th>2</th>\n",
       "      <td>LEHMAN VILLAGE</td>\n",
       "      <td>BLD 02</td>\n",
       "      <td>101.0 - BLD 02</td>\n",
       "      <td>7834072</td>\n",
       "      <td>2015-06-01</td>\n",
       "      <td>2015</td>\n",
       "      <td>2015-05-26</td>\n",
       "      <td>2015-06-24</td>\n",
       "      <td>29.0</td>\n",
       "      <td>0.00</td>\n",
       "      <td>0.00</td>\n",
       "      <td>189200.0</td>\n",
       "      <td>8682.39</td>\n",
       "      <td>0.00</td>\n",
       "      <td>8682.39</td>\n",
       "      <td>2</td>\n",
       "    </tr>\n",
       "    <tr>\n",
       "      <th>3</th>\n",
       "      <td>LEHMAN VILLAGE</td>\n",
       "      <td>BLD 02</td>\n",
       "      <td>101.0 - BLD 02</td>\n",
       "      <td>7834072</td>\n",
       "      <td>2015-06-01</td>\n",
       "      <td>2015</td>\n",
       "      <td>2015-06-01</td>\n",
       "      <td>2015-06-24</td>\n",
       "      <td>23.0</td>\n",
       "      <td>460.32</td>\n",
       "      <td>5779.24</td>\n",
       "      <td>0.0</td>\n",
       "      <td>0.00</td>\n",
       "      <td>5779.24</td>\n",
       "      <td>12657.01</td>\n",
       "      <td>2</td>\n",
       "    </tr>\n",
       "    <tr>\n",
       "      <th>4</th>\n",
       "      <td>MORRISANIA AIR RIGHTS</td>\n",
       "      <td>BLD 01</td>\n",
       "      <td>267.0 - BLD 01</td>\n",
       "      <td>8322189</td>\n",
       "      <td>2014-08-01</td>\n",
       "      <td>2014</td>\n",
       "      <td>2014-07-24</td>\n",
       "      <td>2014-08-22</td>\n",
       "      <td>29.0</td>\n",
       "      <td>356.64</td>\n",
       "      <td>5592.12</td>\n",
       "      <td>0.0</td>\n",
       "      <td>0.00</td>\n",
       "      <td>7530.79</td>\n",
       "      <td>13122.91</td>\n",
       "      <td>2</td>\n",
       "    </tr>\n",
       "    <tr>\n",
       "      <th>5</th>\n",
       "      <td>MORRISANIA AIR RIGHTS</td>\n",
       "      <td>BLD 01</td>\n",
       "      <td>267.0 - BLD 01</td>\n",
       "      <td>8322189</td>\n",
       "      <td>2014-08-01</td>\n",
       "      <td>2014</td>\n",
       "      <td>2014-08-11</td>\n",
       "      <td>2014-08-22</td>\n",
       "      <td>11.0</td>\n",
       "      <td>0.00</td>\n",
       "      <td>0.00</td>\n",
       "      <td>209600.0</td>\n",
       "      <td>11844.50</td>\n",
       "      <td>0.00</td>\n",
       "      <td>11844.50</td>\n",
       "      <td>2</td>\n",
       "    </tr>\n",
       "    <tr>\n",
       "      <th>6</th>\n",
       "      <td>MORRISANIA AIR RIGHTS</td>\n",
       "      <td>BLD 03</td>\n",
       "      <td>267.0 - BLD 03</td>\n",
       "      <td>8661312</td>\n",
       "      <td>2015-03-01</td>\n",
       "      <td>2015</td>\n",
       "      <td>2015-02-25</td>\n",
       "      <td>2015-03-26</td>\n",
       "      <td>29.0</td>\n",
       "      <td>0.00</td>\n",
       "      <td>0.00</td>\n",
       "      <td>145600.0</td>\n",
       "      <td>5941.94</td>\n",
       "      <td>0.00</td>\n",
       "      <td>5941.94</td>\n",
       "      <td>2</td>\n",
       "    </tr>\n",
       "    <tr>\n",
       "      <th>7</th>\n",
       "      <td>MORRISANIA AIR RIGHTS</td>\n",
       "      <td>BLD 03</td>\n",
       "      <td>267.0 - BLD 03</td>\n",
       "      <td>8661312</td>\n",
       "      <td>2015-03-01</td>\n",
       "      <td>2015</td>\n",
       "      <td>2015-03-24</td>\n",
       "      <td>2015-03-26</td>\n",
       "      <td>2.0</td>\n",
       "      <td>251.04</td>\n",
       "      <td>5223.90</td>\n",
       "      <td>0.0</td>\n",
       "      <td>0.00</td>\n",
       "      <td>5223.90</td>\n",
       "      <td>8692.22</td>\n",
       "      <td>2</td>\n",
       "    </tr>\n",
       "    <tr>\n",
       "      <th>8</th>\n",
       "      <td>OCEAN BAY APARTMENTS (BAYSIDE)</td>\n",
       "      <td>BLD 15</td>\n",
       "      <td>98.0 - BLD 15</td>\n",
       "      <td>99277502</td>\n",
       "      <td>2013-03-01</td>\n",
       "      <td>2013</td>\n",
       "      <td>2013-02-19</td>\n",
       "      <td>2013-03-18</td>\n",
       "      <td>27.0</td>\n",
       "      <td>838.80</td>\n",
       "      <td>0.00</td>\n",
       "      <td>398400.0</td>\n",
       "      <td>40709.83</td>\n",
       "      <td>21376.77</td>\n",
       "      <td>62086.60</td>\n",
       "      <td>2</td>\n",
       "    </tr>\n",
       "    <tr>\n",
       "      <th>9</th>\n",
       "      <td>OCEAN BAY APARTMENTS (BAYSIDE)</td>\n",
       "      <td>BLD 15</td>\n",
       "      <td>98.0 - BLD 15</td>\n",
       "      <td>99277502</td>\n",
       "      <td>2013-03-01</td>\n",
       "      <td>2013</td>\n",
       "      <td>2013-03-19</td>\n",
       "      <td>2013-03-26</td>\n",
       "      <td>7.0</td>\n",
       "      <td>1.20</td>\n",
       "      <td>0.00</td>\n",
       "      <td>0.0</td>\n",
       "      <td>0.00</td>\n",
       "      <td>103.84</td>\n",
       "      <td>103.84</td>\n",
       "      <td>2</td>\n",
       "    </tr>\n",
       "    <tr>\n",
       "      <th>10</th>\n",
       "      <td>TWIN PARKS WEST (SITES 1 &amp; 2)</td>\n",
       "      <td>BLD 01</td>\n",
       "      <td>227.0 - BLD 01</td>\n",
       "      <td>8322190</td>\n",
       "      <td>2014-08-01</td>\n",
       "      <td>2014</td>\n",
       "      <td>2014-07-24</td>\n",
       "      <td>2014-07-30</td>\n",
       "      <td>6.0</td>\n",
       "      <td>0.00</td>\n",
       "      <td>0.00</td>\n",
       "      <td>265600.0</td>\n",
       "      <td>15009.06</td>\n",
       "      <td>0.00</td>\n",
       "      <td>15009.06</td>\n",
       "      <td>2</td>\n",
       "    </tr>\n",
       "    <tr>\n",
       "      <th>11</th>\n",
       "      <td>TWIN PARKS WEST (SITES 1 &amp; 2)</td>\n",
       "      <td>BLD 01</td>\n",
       "      <td>227.0 - BLD 01</td>\n",
       "      <td>8322190</td>\n",
       "      <td>2014-08-01</td>\n",
       "      <td>2014</td>\n",
       "      <td>2014-07-24</td>\n",
       "      <td>2014-08-22</td>\n",
       "      <td>29.0</td>\n",
       "      <td>485.28</td>\n",
       "      <td>7609.19</td>\n",
       "      <td>0.0</td>\n",
       "      <td>0.00</td>\n",
       "      <td>10280.47</td>\n",
       "      <td>17889.66</td>\n",
       "      <td>2</td>\n",
       "    </tr>\n",
       "  </tbody>\n",
       "</table>\n",
       "</div>"
      ],
      "text/plain": [
       "                      Account_Name Location     Building_ID Meter_Number  \\\n",
       "0                CASSIDY-LAFAYETTE   BLD 02  206.0 - BLD 02      7382886   \n",
       "1                CASSIDY-LAFAYETTE   BLD 02  206.0 - BLD 02      7382886   \n",
       "2                   LEHMAN VILLAGE   BLD 02  101.0 - BLD 02      7834072   \n",
       "3                   LEHMAN VILLAGE   BLD 02  101.0 - BLD 02      7834072   \n",
       "4            MORRISANIA AIR RIGHTS   BLD 01  267.0 - BLD 01      8322189   \n",
       "5            MORRISANIA AIR RIGHTS   BLD 01  267.0 - BLD 01      8322189   \n",
       "6            MORRISANIA AIR RIGHTS   BLD 03  267.0 - BLD 03      8661312   \n",
       "7            MORRISANIA AIR RIGHTS   BLD 03  267.0 - BLD 03      8661312   \n",
       "8   OCEAN BAY APARTMENTS (BAYSIDE)   BLD 15   98.0 - BLD 15     99277502   \n",
       "9   OCEAN BAY APARTMENTS (BAYSIDE)   BLD 15   98.0 - BLD 15     99277502   \n",
       "10   TWIN PARKS WEST (SITES 1 & 2)   BLD 01  227.0 - BLD 01      8322190   \n",
       "11   TWIN PARKS WEST (SITES 1 & 2)   BLD 01  227.0 - BLD 01      8322190   \n",
       "\n",
       "   Revenue_Month  Revenue_Year Service_Start_Date Service_End_Date  # days  \\\n",
       "0     2015-03-01          2015         2015-02-25       2015-03-26    29.0   \n",
       "1     2015-03-01          2015         2015-03-17       2015-03-26     9.0   \n",
       "2     2015-06-01          2015         2015-05-26       2015-06-24    29.0   \n",
       "3     2015-06-01          2015         2015-06-01       2015-06-24    23.0   \n",
       "4     2014-08-01          2014         2014-07-24       2014-08-22    29.0   \n",
       "5     2014-08-01          2014         2014-08-11       2014-08-22    11.0   \n",
       "6     2015-03-01          2015         2015-02-25       2015-03-26    29.0   \n",
       "7     2015-03-01          2015         2015-03-24       2015-03-26     2.0   \n",
       "8     2013-03-01          2013         2013-02-19       2013-03-18    27.0   \n",
       "9     2013-03-01          2013         2013-03-19       2013-03-26     7.0   \n",
       "10    2014-08-01          2014         2014-07-24       2014-07-30     6.0   \n",
       "11    2014-08-01          2014         2014-07-24       2014-08-22    29.0   \n",
       "\n",
       "    Consumption_KW  KW_Charges  Consumption_KWH  KWH_Charges  Other_Charges  \\\n",
       "0             0.00        0.00         156800.0      6399.01           0.00   \n",
       "1           249.12     5033.94              0.0         0.00        5033.94   \n",
       "2             0.00        0.00         189200.0      8682.39           0.00   \n",
       "3           460.32     5779.24              0.0         0.00        5779.24   \n",
       "4           356.64     5592.12              0.0         0.00        7530.79   \n",
       "5             0.00        0.00         209600.0     11844.50           0.00   \n",
       "6             0.00        0.00         145600.0      5941.94           0.00   \n",
       "7           251.04     5223.90              0.0         0.00        5223.90   \n",
       "8           838.80        0.00         398400.0     40709.83       21376.77   \n",
       "9             1.20        0.00              0.0         0.00         103.84   \n",
       "10            0.00        0.00         265600.0     15009.06           0.00   \n",
       "11          485.28     7609.19              0.0         0.00       10280.47   \n",
       "\n",
       "    Current_Charges  Count  \n",
       "0           6399.01      2  \n",
       "1          10086.83      2  \n",
       "2           8682.39      2  \n",
       "3          12657.01      2  \n",
       "4          13122.91      2  \n",
       "5          11844.50      2  \n",
       "6           5941.94      2  \n",
       "7           8692.22      2  \n",
       "8          62086.60      2  \n",
       "9            103.84      2  \n",
       "10         15009.06      2  \n",
       "11         17889.66      2  "
      ]
     },
     "execution_count": 89,
     "metadata": {},
     "output_type": "execute_result"
    }
   ],
   "source": [
    "pd.merge(df, idx[idx['Count'] > 1], on = ['Building_ID', 'Meter_Number', 'Revenue_Month'], how = 'inner')"
   ]
  },
  {
   "cell_type": "markdown",
   "metadata": {},
   "source": [
    "#### Remove them from the working dataset"
   ]
  },
  {
   "cell_type": "code",
   "execution_count": 90,
   "metadata": {
    "collapsed": true
   },
   "outputs": [],
   "source": [
    "temp = pd.merge(df_multiple_concatenate, idx[idx['Count'] > 1], on = ['Building_ID', 'Meter_Number', 'Revenue_Month'], how = 'left')\n",
    "\n",
    "temp = temp[temp.Count.isnull()].iloc[:, 0:15]"
   ]
  },
  {
   "cell_type": "markdown",
   "metadata": {},
   "source": [
    "#### Create the new working dataset df at Building-Meter-Revenue_Month level"
   ]
  },
  {
   "cell_type": "code",
   "execution_count": 91,
   "metadata": {
    "collapsed": true
   },
   "outputs": [],
   "source": [
    "df = df_single.append(temp)"
   ]
  },
  {
   "cell_type": "code",
   "execution_count": 92,
   "metadata": {},
   "outputs": [
    {
     "data": {
      "text/plain": [
       "1    180020\n",
       "Name: Account_Name, dtype: int64"
      ]
     },
     "execution_count": 92,
     "metadata": {},
     "output_type": "execute_result"
    }
   ],
   "source": [
    "df.groupby(['Building_ID', 'Meter_Number', 'Revenue_Month']).agg('count')\\\n",
    ".reset_index()['Account_Name'].value_counts()"
   ]
  },
  {
   "cell_type": "code",
   "execution_count": null,
   "metadata": {
    "collapsed": true
   },
   "outputs": [],
   "source": []
  },
  {
   "cell_type": "markdown",
   "metadata": {},
   "source": [
    "### Calculate Metrics regarding zero-values and meter types - 4th time"
   ]
  },
  {
   "cell_type": "code",
   "execution_count": 93,
   "metadata": {},
   "outputs": [
    {
     "name": "stdout",
     "output_type": "stream",
     "text": [
      "perc of kw_only meters: 0.78%\n",
      "perc of kwh_only meters: 16.85%\n",
      "perc of kwh_and_kw meters: 82.37%\n",
      "perc of buildings with both kw_only and kwh_only meters: 0.25%\n",
      "perc of rows - current charges of zero: 2.41%\n",
      "perc of rows - kw charges of zero: 17.35%\n",
      "perc of rows - kwh charges of zero: 5.57%\n",
      "perc of rows - consumption/charge inconsistency: 6.33%\n",
      "perc of rows - sum of charges inconsistency: 34.28%\n"
     ]
    }
   ],
   "source": [
    "pysql = lambda q: pdsql.sqldf(q, globals())\n",
    "str1 = \"select Building_ID, Meter_Number \\\n",
    "        , sum(case when KWH_Charges == 0 and KW_Charges > 0 then 1 else 0 end) as count_kw_only \\\n",
    "        , sum(case when KW_Charges == 0 and KWH_Charges > 0 then 1 else 0 end) as count_kwh_only \\\n",
    "        , sum(Current_Charges) as total_current_charges \\\n",
    "        , count(*) as count \\\n",
    "        from df \\\n",
    "        group by df.Building_ID, df.Meter_Number\"\n",
    "df_meter_type = pysql(str1)\n",
    "\n",
    "\n",
    "df_meter_type['kwh_only'] = ((df_meter_type['count_kwh_only']/df_meter_type['count']) > 0.9) & (df_meter_type['count_kw_only'] == 0)\n",
    "df_meter_type['kw_only'] = ((df_meter_type['count_kw_only']/df_meter_type['count']) > 0.9) & (df_meter_type['count_kwh_only'] == 0)\n",
    "\n",
    "#### check the meters\n",
    "\n",
    "print(\"perc of kw_only meters:\", \"{:.2%}\".format(df_meter_type[(df_meter_type['kw_only'] == 1) & (df_meter_type['kwh_only'] == 0)].shape[0] / df_meter_type.shape[0]))\n",
    "\n",
    "print(\"perc of kwh_only meters:\", \"{:.2%}\".format(df_meter_type[(df_meter_type['kwh_only'] == 1) & (df_meter_type['kw_only'] == 0)].shape[0] / df_meter_type.shape[0]))\n",
    "\n",
    "print(\"perc of kwh_and_kw meters:\", \"{:.2%}\".format(df_meter_type[(df_meter_type['kwh_only'] == 0) & (df_meter_type['kw_only'] == 0)].shape[0] / df_meter_type.shape[0]))\n",
    "\n",
    "\n",
    "#### check the building_ids\n",
    "\n",
    "a = df_meter_type[df_meter_type['kwh_only'] == 1].groupby(['Building_ID']).agg('count').reset_index().iloc[:, 0:2]\n",
    "b =  df_meter_type[df_meter_type['kw_only'] == 1].groupby(['Building_ID']).agg('count').reset_index().iloc[:, 0:2]\n",
    "a.columns = ['Building_ID', 'Count']\n",
    "b.columns = ['Building_ID', 'Count']\n",
    "\n",
    "print(\"perc of buildings with both kw_only and kwh_only meters:\", \\\n",
    "     \"{:.2%}\".format(pd.merge(a, b, on = 'Building_ID', how = 'inner').shape[0] \\\n",
    "/ df_meter_type.groupby(['Building_ID']).agg('count').reset_index().shape[0]))\n",
    "\n",
    "\n",
    "#### Check the statistics of zero-value rows:\n",
    "\n",
    "print(\"perc of rows - current charges of zero:\", \"{:.2%}\".format(df[df['Current_Charges'] == 0].shape[0] / df.shape[0]))\n",
    "\n",
    "print(\"perc of rows - kw charges of zero:\", \"{:.2%}\".format(df[df['KW_Charges'] == 0].shape[0] / df.shape[0]))\n",
    "\n",
    "print(\"perc of rows - kwh charges of zero:\", \"{:.2%}\".format(df[df['KWH_Charges'] == 0].shape[0] / df.shape[0]))\n",
    "\n",
    "print(\"perc of rows - consumption/charge inconsistency:\", \\\n",
    "      \"{:.2%}\".format(df[((df['KWH_Charges'] == 0) ^ (df['Consumption_KWH'] == 0)) \\\n",
    "   | ((df['KW_Charges'] == 0) ^ (df['Consumption_KW'] == 0)) ].shape[0]\\\n",
    "    /df.shape[0]))\n",
    "\n",
    "print(\"perc of rows - sum of charges inconsistency:\", \\\n",
    "     \"{:.2%}\".format(1 - df[df['Current_Charges'] == df['KWH_Charges'] + df['KW_Charges'] + df['Other_Charges']].shape[0]\\\n",
    "    /df.shape[0]))"
   ]
  },
  {
   "cell_type": "code",
   "execution_count": 94,
   "metadata": {},
   "outputs": [
    {
     "name": "stdout",
     "output_type": "stream",
     "text": [
      "perc of rows - consumption/charge inconsistency: 0.34%\n",
      "perc of rows - consumption/charge inconsistency: 5.86%\n",
      "perc of rows - KWH Charges negative: 0.00%\n",
      "perc of rows - KW Charges negative: 4.10%\n"
     ]
    }
   ],
   "source": [
    "print(\"perc of rows - consumption/charge inconsistency:\", \\\n",
    "      \"{:.2%}\".format(df[((df['KWH_Charges'] == 0) & (df['Consumption_KWH'] != 0))].shape[0]\\\n",
    "    /df.shape[0]))\n",
    "\n",
    "print(\"perc of rows - consumption/charge inconsistency:\", \\\n",
    "      \"{:.2%}\".format(df[((df['KW_Charges'] == 0) & (df['Consumption_KW'] != 0))].shape[0]\\\n",
    "    /df.shape[0]))\n",
    "\n",
    "print(\"perc of rows - KWH Charges negative:\", \\\n",
    "     \"{:.2%}\".format(df[df['KWH_Charges'] < 0].shape[0]\\\n",
    "    /df.shape[0]))\n",
    "\n",
    "print(\"perc of rows - KW Charges negative:\", \\\n",
    "     \"{:.2%}\".format(df[df['KW_Charges'] < 0].shape[0]\\\n",
    "    /df.shape[0]))"
   ]
  },
  {
   "cell_type": "code",
   "execution_count": null,
   "metadata": {
    "collapsed": true
   },
   "outputs": [],
   "source": []
  },
  {
   "cell_type": "markdown",
   "metadata": {},
   "source": [
    "### 16. Find the gaps between service date ranges\n",
    "\n",
    "We'd like to know how many account have gaps (> 5 days) in their billing windows"
   ]
  },
  {
   "cell_type": "markdown",
   "metadata": {},
   "source": [
    "#### concatenate service date ranges for each builing_id and  meter_number, across all years"
   ]
  },
  {
   "cell_type": "code",
   "execution_count": 95,
   "metadata": {
    "collapsed": true
   },
   "outputs": [],
   "source": [
    "# sort by building_id, meter number\n",
    "df = df.sort_values(by = ['Building_ID', 'Meter_Number', 'Service_Start_Date'], ascending=[True, True, True])\n",
    "\n",
    "def merge_dates(grp):\n",
    "    # Find contiguous date groups, and get the first/last start/end date for each group.\n",
    "    dt_groups = (grp['Service_Start_Date'] != grp['Service_End_Date'].shift()).cumsum()\n",
    "    return grp.groupby(dt_groups).agg({'Service_Start_Date': 'first', 'Service_End_Date': 'last'})\n",
    "\n",
    "# Perform a groupby and apply the merge_dates function, followed by formatting.\n",
    "df_gap = df.groupby(['Building_ID', 'Meter_Number']).apply(merge_dates)\n",
    "df_gap = df_gap.reset_index().drop('level_2', axis = 1)\n",
    "df_gap = df_gap.reset_index()\n",
    "df_gap.columns = ['rowNum', 'Building_ID', 'Meter_Number', \n",
    "       'Service_Start_Date', 'Service_End_Date']\n",
    "\n",
    "df_gap['nextRowNum'] = df_gap['rowNum'].map(lambda x: x+1)\n",
    "\n",
    "# Join the dataframe with itself to find the gap between service ranges\n",
    "df_gap = pd.merge(df_gap, df_gap[['Building_ID', 'Meter_Number', 'nextRowNum', 'Service_End_Date']],\\\n",
    "        left_on = ['Building_ID', 'Meter_Number', 'rowNum'], right_on = ['Building_ID', 'Meter_Number', 'nextRowNum'], how = 'left')\n",
    "\n",
    "# consecutive days of billing for the same meter number\n",
    "df_gap['consecutive_days'] = \\\n",
    "df_gap[['Service_End_Date_x', 'Service_Start_Date']].apply(lambda x: (x[0] - x[1]).days, axis = 1)\n",
    "\n",
    "# number of days elapsed since the previous service range\n",
    "df_gap['gap_days'] = \\\n",
    "df_gap[['Service_Start_Date', 'Service_End_Date_y']].apply(lambda x: (x[0] - x[1]).days, axis = 1)\n",
    "\n",
    "\n",
    "# Rename and reorder the columns\n",
    "df_gap = df_gap[['Building_ID', 'Meter_Number', 'Service_Start_Date', 'Service_End_Date_x', 'consecutive_days', 'gap_days']]\n",
    "df_gap.columns = ['Building_ID', 'Meter_Number', 'Service_Start_Date', 'Service_End_Date', 'consecutive_days', 'gap_days']\n",
    "\n",
    "df_gap['Building_Meter'] = df_gap['Building_ID'] + df_gap['Meter_Number']"
   ]
  },
  {
   "cell_type": "markdown",
   "metadata": {},
   "source": [
    "#### How frequent does a meter has gaps of at least 3 days through all the years ? ~83.2%"
   ]
  },
  {
   "cell_type": "code",
   "execution_count": 96,
   "metadata": {},
   "outputs": [
    {
     "data": {
      "text/plain": [
       "0.8322010869565217"
      ]
     },
     "execution_count": 96,
     "metadata": {},
     "output_type": "execute_result"
    }
   ],
   "source": [
    "df_gap[df_gap['gap_days'] >= 3]['Building_Meter'].nunique() / df_gap['Building_Meter'].nunique()"
   ]
  },
  {
   "cell_type": "markdown",
   "metadata": {},
   "source": [
    "#### Overlapping service date ranges - 0.71% of the meter accounts"
   ]
  },
  {
   "cell_type": "code",
   "execution_count": 97,
   "metadata": {},
   "outputs": [
    {
     "data": {
      "text/html": [
       "<div>\n",
       "<style scoped>\n",
       "    .dataframe tbody tr th:only-of-type {\n",
       "        vertical-align: middle;\n",
       "    }\n",
       "\n",
       "    .dataframe tbody tr th {\n",
       "        vertical-align: top;\n",
       "    }\n",
       "\n",
       "    .dataframe thead th {\n",
       "        text-align: right;\n",
       "    }\n",
       "</style>\n",
       "<table border=\"1\" class=\"dataframe\">\n",
       "  <thead>\n",
       "    <tr style=\"text-align: right;\">\n",
       "      <th></th>\n",
       "      <th>Building_ID</th>\n",
       "      <th>Meter_Number</th>\n",
       "      <th>Service_Start_Date</th>\n",
       "      <th>Service_End_Date</th>\n",
       "      <th>consecutive_days</th>\n",
       "      <th>gap_days</th>\n",
       "      <th>Building_Meter</th>\n",
       "    </tr>\n",
       "  </thead>\n",
       "  <tbody>\n",
       "    <tr>\n",
       "      <th>8624</th>\n",
       "      <td>4.0 - RED HOOK EAST BLD 05</td>\n",
       "      <td>6505127</td>\n",
       "      <td>2010-12-23</td>\n",
       "      <td>2011-03-25</td>\n",
       "      <td>92</td>\n",
       "      <td>-33.0</td>\n",
       "      <td>4.0 - RED HOOK EAST BLD 056505127</td>\n",
       "    </tr>\n",
       "    <tr>\n",
       "      <th>8633</th>\n",
       "      <td>4.0 - RED HOOK EAST BLD 06</td>\n",
       "      <td>6867327</td>\n",
       "      <td>2010-12-23</td>\n",
       "      <td>2011-03-25</td>\n",
       "      <td>92</td>\n",
       "      <td>-33.0</td>\n",
       "      <td>4.0 - RED HOOK EAST BLD 066867327</td>\n",
       "    </tr>\n",
       "    <tr>\n",
       "      <th>8641</th>\n",
       "      <td>4.0 - RED HOOK EAST BLD 07</td>\n",
       "      <td>5704938</td>\n",
       "      <td>2010-12-23</td>\n",
       "      <td>2011-03-25</td>\n",
       "      <td>92</td>\n",
       "      <td>-33.0</td>\n",
       "      <td>4.0 - RED HOOK EAST BLD 075704938</td>\n",
       "    </tr>\n",
       "    <tr>\n",
       "      <th>8649</th>\n",
       "      <td>4.0 - RED HOOK EAST BLD 08</td>\n",
       "      <td>6505249</td>\n",
       "      <td>2010-12-23</td>\n",
       "      <td>2011-03-25</td>\n",
       "      <td>92</td>\n",
       "      <td>-33.0</td>\n",
       "      <td>4.0 - RED HOOK EAST BLD 086505249</td>\n",
       "    </tr>\n",
       "    <tr>\n",
       "      <th>8658</th>\n",
       "      <td>4.0 - RED HOOK EAST BLD 09</td>\n",
       "      <td>6311451</td>\n",
       "      <td>2010-12-23</td>\n",
       "      <td>2011-03-25</td>\n",
       "      <td>92</td>\n",
       "      <td>-33.0</td>\n",
       "      <td>4.0 - RED HOOK EAST BLD 096311451</td>\n",
       "    </tr>\n",
       "    <tr>\n",
       "      <th>8667</th>\n",
       "      <td>4.0 - RED HOOK EAST BLD 10</td>\n",
       "      <td>6566619</td>\n",
       "      <td>2010-12-23</td>\n",
       "      <td>2011-03-25</td>\n",
       "      <td>92</td>\n",
       "      <td>-33.0</td>\n",
       "      <td>4.0 - RED HOOK EAST BLD 106566619</td>\n",
       "    </tr>\n",
       "    <tr>\n",
       "      <th>8676</th>\n",
       "      <td>4.0 - RED HOOK EAST BLD 11</td>\n",
       "      <td>6025513</td>\n",
       "      <td>2010-12-23</td>\n",
       "      <td>2011-03-25</td>\n",
       "      <td>92</td>\n",
       "      <td>-33.0</td>\n",
       "      <td>4.0 - RED HOOK EAST BLD 116025513</td>\n",
       "    </tr>\n",
       "    <tr>\n",
       "      <th>8684</th>\n",
       "      <td>4.0 - RED HOOK EAST BLD 12</td>\n",
       "      <td>6025507</td>\n",
       "      <td>2010-12-23</td>\n",
       "      <td>2011-03-25</td>\n",
       "      <td>92</td>\n",
       "      <td>-33.0</td>\n",
       "      <td>4.0 - RED HOOK EAST BLD 126025507</td>\n",
       "    </tr>\n",
       "    <tr>\n",
       "      <th>8693</th>\n",
       "      <td>4.0 - RED HOOK EAST BLD 13</td>\n",
       "      <td>6505117</td>\n",
       "      <td>2010-12-23</td>\n",
       "      <td>2011-03-25</td>\n",
       "      <td>92</td>\n",
       "      <td>-33.0</td>\n",
       "      <td>4.0 - RED HOOK EAST BLD 136505117</td>\n",
       "    </tr>\n",
       "    <tr>\n",
       "      <th>8701</th>\n",
       "      <td>4.0 - RED HOOK EAST BLD 14</td>\n",
       "      <td>6147237</td>\n",
       "      <td>2010-12-23</td>\n",
       "      <td>2011-03-25</td>\n",
       "      <td>92</td>\n",
       "      <td>-33.0</td>\n",
       "      <td>4.0 - RED HOOK EAST BLD 146147237</td>\n",
       "    </tr>\n",
       "    <tr>\n",
       "      <th>8719</th>\n",
       "      <td>4.0 - RED HOOK EAST BLD 26</td>\n",
       "      <td>6651509</td>\n",
       "      <td>2010-12-23</td>\n",
       "      <td>2011-03-25</td>\n",
       "      <td>92</td>\n",
       "      <td>-33.0</td>\n",
       "      <td>4.0 - RED HOOK EAST BLD 266651509</td>\n",
       "    </tr>\n",
       "    <tr>\n",
       "      <th>8724</th>\n",
       "      <td>4.0 - RED HOOK EAST BLD 26</td>\n",
       "      <td>6651525</td>\n",
       "      <td>2010-12-23</td>\n",
       "      <td>2011-03-25</td>\n",
       "      <td>92</td>\n",
       "      <td>-33.0</td>\n",
       "      <td>4.0 - RED HOOK EAST BLD 266651525</td>\n",
       "    </tr>\n",
       "    <tr>\n",
       "      <th>8737</th>\n",
       "      <td>4.0 - RED HOOK EAST BLD 28</td>\n",
       "      <td>5076830</td>\n",
       "      <td>2010-12-23</td>\n",
       "      <td>2011-03-25</td>\n",
       "      <td>92</td>\n",
       "      <td>-33.0</td>\n",
       "      <td>4.0 - RED HOOK EAST BLD 285076830</td>\n",
       "    </tr>\n",
       "    <tr>\n",
       "      <th>9705</th>\n",
       "      <td>51.0 - BLD 01</td>\n",
       "      <td>99267717</td>\n",
       "      <td>2012-11-24</td>\n",
       "      <td>2013-04-24</td>\n",
       "      <td>151</td>\n",
       "      <td>-3.0</td>\n",
       "      <td>51.0 - BLD 0199267717</td>\n",
       "    </tr>\n",
       "    <tr>\n",
       "      <th>9717</th>\n",
       "      <td>51.0 - BLD 02</td>\n",
       "      <td>96737637</td>\n",
       "      <td>2012-11-24</td>\n",
       "      <td>2013-12-23</td>\n",
       "      <td>394</td>\n",
       "      <td>-3.0</td>\n",
       "      <td>51.0 - BLD 0296737637</td>\n",
       "    </tr>\n",
       "    <tr>\n",
       "      <th>9736</th>\n",
       "      <td>51.0 - BLD 03</td>\n",
       "      <td>99267716</td>\n",
       "      <td>2012-11-24</td>\n",
       "      <td>2014-12-23</td>\n",
       "      <td>759</td>\n",
       "      <td>-3.0</td>\n",
       "      <td>51.0 - BLD 0399267716</td>\n",
       "    </tr>\n",
       "    <tr>\n",
       "      <th>9746</th>\n",
       "      <td>51.0 - BLD 04</td>\n",
       "      <td>99267714</td>\n",
       "      <td>2012-11-24</td>\n",
       "      <td>2014-12-23</td>\n",
       "      <td>759</td>\n",
       "      <td>-3.0</td>\n",
       "      <td>51.0 - BLD 0499267714</td>\n",
       "    </tr>\n",
       "    <tr>\n",
       "      <th>9763</th>\n",
       "      <td>51.0 - BLD 06</td>\n",
       "      <td>96747190</td>\n",
       "      <td>2012-11-24</td>\n",
       "      <td>2014-12-23</td>\n",
       "      <td>759</td>\n",
       "      <td>-3.0</td>\n",
       "      <td>51.0 - BLD 0696747190</td>\n",
       "    </tr>\n",
       "    <tr>\n",
       "      <th>9771</th>\n",
       "      <td>51.0 - BLD 07</td>\n",
       "      <td>96747169</td>\n",
       "      <td>2012-11-24</td>\n",
       "      <td>2014-12-23</td>\n",
       "      <td>759</td>\n",
       "      <td>-3.0</td>\n",
       "      <td>51.0 - BLD 0796747169</td>\n",
       "    </tr>\n",
       "    <tr>\n",
       "      <th>12562</th>\n",
       "      <td>79.0 - RED HOOK WEST BLD 02</td>\n",
       "      <td>7209879</td>\n",
       "      <td>2010-12-23</td>\n",
       "      <td>2011-03-25</td>\n",
       "      <td>92</td>\n",
       "      <td>-33.0</td>\n",
       "      <td>79.0 - RED HOOK WEST BLD 027209879</td>\n",
       "    </tr>\n",
       "    <tr>\n",
       "      <th>12573</th>\n",
       "      <td>79.0 - RED HOOK WEST BLD 03</td>\n",
       "      <td>6477455</td>\n",
       "      <td>2010-12-23</td>\n",
       "      <td>2011-03-25</td>\n",
       "      <td>92</td>\n",
       "      <td>-33.0</td>\n",
       "      <td>79.0 - RED HOOK WEST BLD 036477455</td>\n",
       "    </tr>\n",
       "  </tbody>\n",
       "</table>\n",
       "</div>"
      ],
      "text/plain": [
       "                       Building_ID Meter_Number Service_Start_Date  \\\n",
       "8624    4.0 - RED HOOK EAST BLD 05      6505127         2010-12-23   \n",
       "8633    4.0 - RED HOOK EAST BLD 06      6867327         2010-12-23   \n",
       "8641    4.0 - RED HOOK EAST BLD 07      5704938         2010-12-23   \n",
       "8649    4.0 - RED HOOK EAST BLD 08      6505249         2010-12-23   \n",
       "8658    4.0 - RED HOOK EAST BLD 09      6311451         2010-12-23   \n",
       "8667    4.0 - RED HOOK EAST BLD 10      6566619         2010-12-23   \n",
       "8676    4.0 - RED HOOK EAST BLD 11      6025513         2010-12-23   \n",
       "8684    4.0 - RED HOOK EAST BLD 12      6025507         2010-12-23   \n",
       "8693    4.0 - RED HOOK EAST BLD 13      6505117         2010-12-23   \n",
       "8701    4.0 - RED HOOK EAST BLD 14      6147237         2010-12-23   \n",
       "8719    4.0 - RED HOOK EAST BLD 26      6651509         2010-12-23   \n",
       "8724    4.0 - RED HOOK EAST BLD 26      6651525         2010-12-23   \n",
       "8737    4.0 - RED HOOK EAST BLD 28      5076830         2010-12-23   \n",
       "9705                 51.0 - BLD 01     99267717         2012-11-24   \n",
       "9717                 51.0 - BLD 02     96737637         2012-11-24   \n",
       "9736                 51.0 - BLD 03     99267716         2012-11-24   \n",
       "9746                 51.0 - BLD 04     99267714         2012-11-24   \n",
       "9763                 51.0 - BLD 06     96747190         2012-11-24   \n",
       "9771                 51.0 - BLD 07     96747169         2012-11-24   \n",
       "12562  79.0 - RED HOOK WEST BLD 02      7209879         2010-12-23   \n",
       "12573  79.0 - RED HOOK WEST BLD 03      6477455         2010-12-23   \n",
       "\n",
       "      Service_End_Date  consecutive_days  gap_days  \\\n",
       "8624        2011-03-25                92     -33.0   \n",
       "8633        2011-03-25                92     -33.0   \n",
       "8641        2011-03-25                92     -33.0   \n",
       "8649        2011-03-25                92     -33.0   \n",
       "8658        2011-03-25                92     -33.0   \n",
       "8667        2011-03-25                92     -33.0   \n",
       "8676        2011-03-25                92     -33.0   \n",
       "8684        2011-03-25                92     -33.0   \n",
       "8693        2011-03-25                92     -33.0   \n",
       "8701        2011-03-25                92     -33.0   \n",
       "8719        2011-03-25                92     -33.0   \n",
       "8724        2011-03-25                92     -33.0   \n",
       "8737        2011-03-25                92     -33.0   \n",
       "9705        2013-04-24               151      -3.0   \n",
       "9717        2013-12-23               394      -3.0   \n",
       "9736        2014-12-23               759      -3.0   \n",
       "9746        2014-12-23               759      -3.0   \n",
       "9763        2014-12-23               759      -3.0   \n",
       "9771        2014-12-23               759      -3.0   \n",
       "12562       2011-03-25                92     -33.0   \n",
       "12573       2011-03-25                92     -33.0   \n",
       "\n",
       "                           Building_Meter  \n",
       "8624    4.0 - RED HOOK EAST BLD 056505127  \n",
       "8633    4.0 - RED HOOK EAST BLD 066867327  \n",
       "8641    4.0 - RED HOOK EAST BLD 075704938  \n",
       "8649    4.0 - RED HOOK EAST BLD 086505249  \n",
       "8658    4.0 - RED HOOK EAST BLD 096311451  \n",
       "8667    4.0 - RED HOOK EAST BLD 106566619  \n",
       "8676    4.0 - RED HOOK EAST BLD 116025513  \n",
       "8684    4.0 - RED HOOK EAST BLD 126025507  \n",
       "8693    4.0 - RED HOOK EAST BLD 136505117  \n",
       "8701    4.0 - RED HOOK EAST BLD 146147237  \n",
       "8719    4.0 - RED HOOK EAST BLD 266651509  \n",
       "8724    4.0 - RED HOOK EAST BLD 266651525  \n",
       "8737    4.0 - RED HOOK EAST BLD 285076830  \n",
       "9705                51.0 - BLD 0199267717  \n",
       "9717                51.0 - BLD 0296737637  \n",
       "9736                51.0 - BLD 0399267716  \n",
       "9746                51.0 - BLD 0499267714  \n",
       "9763                51.0 - BLD 0696747190  \n",
       "9771                51.0 - BLD 0796747169  \n",
       "12562  79.0 - RED HOOK WEST BLD 027209879  \n",
       "12573  79.0 - RED HOOK WEST BLD 036477455  "
      ]
     },
     "execution_count": 97,
     "metadata": {},
     "output_type": "execute_result"
    }
   ],
   "source": [
    "mask = df_gap['gap_days'] < 0\n",
    "df_gap[mask]"
   ]
  },
  {
   "cell_type": "code",
   "execution_count": 98,
   "metadata": {},
   "outputs": [
    {
     "name": "stdout",
     "output_type": "stream",
     "text": [
      "Perc of meters with overlapping service date ranges: 0.71%\n"
     ]
    }
   ],
   "source": [
    "print(\"Perc of meters with overlapping service date ranges:\", \"{:.2%}\".format(df_gap[mask]['Building_Meter'].agg('nunique')/df_gap['Building_Meter'].agg('nunique')))"
   ]
  },
  {
   "cell_type": "code",
   "execution_count": 99,
   "metadata": {},
   "outputs": [
    {
     "data": {
      "text/plain": [
       "-33.0    15\n",
       "-3.0      6\n",
       "Name: gap_days, dtype: int64"
      ]
     },
     "execution_count": 99,
     "metadata": {},
     "output_type": "execute_result"
    }
   ],
   "source": [
    "df_gap[mask].gap_days.value_counts()"
   ]
  },
  {
   "cell_type": "markdown",
   "metadata": {},
   "source": [
    "#### Examples"
   ]
  },
  {
   "cell_type": "code",
   "execution_count": 100,
   "metadata": {},
   "outputs": [
    {
     "data": {
      "text/html": [
       "<div>\n",
       "<style scoped>\n",
       "    .dataframe tbody tr th:only-of-type {\n",
       "        vertical-align: middle;\n",
       "    }\n",
       "\n",
       "    .dataframe tbody tr th {\n",
       "        vertical-align: top;\n",
       "    }\n",
       "\n",
       "    .dataframe thead th {\n",
       "        text-align: right;\n",
       "    }\n",
       "</style>\n",
       "<table border=\"1\" class=\"dataframe\">\n",
       "  <thead>\n",
       "    <tr style=\"text-align: right;\">\n",
       "      <th></th>\n",
       "      <th>Account_Name</th>\n",
       "      <th>Location</th>\n",
       "      <th>Building_ID</th>\n",
       "      <th>Meter_Number</th>\n",
       "      <th>Revenue_Month</th>\n",
       "      <th>Revenue_Year</th>\n",
       "      <th>Service_Start_Date</th>\n",
       "      <th>Service_End_Date</th>\n",
       "      <th># days</th>\n",
       "      <th>Consumption_KW</th>\n",
       "      <th>KW_Charges</th>\n",
       "      <th>Consumption_KWH</th>\n",
       "      <th>KWH_Charges</th>\n",
       "      <th>Other_Charges</th>\n",
       "      <th>Current_Charges</th>\n",
       "    </tr>\n",
       "  </thead>\n",
       "  <tbody>\n",
       "    <tr>\n",
       "      <th>124886</th>\n",
       "      <td>RED HOOK EAST/RED HOOK WEST</td>\n",
       "      <td>RED HOOK WEST BLD 03</td>\n",
       "      <td>79.0 - RED HOOK WEST BLD 03</td>\n",
       "      <td>6477455</td>\n",
       "      <td>2011-01-01</td>\n",
       "      <td>2011</td>\n",
       "      <td>2010-12-23</td>\n",
       "      <td>2011-01-25</td>\n",
       "      <td>33.0</td>\n",
       "      <td>38.0</td>\n",
       "      <td>494.00</td>\n",
       "      <td>22080.0</td>\n",
       "      <td>1266.51</td>\n",
       "      <td>1148.79</td>\n",
       "      <td>2909.30</td>\n",
       "    </tr>\n",
       "    <tr>\n",
       "      <th>124887</th>\n",
       "      <td>RED HOOK EAST/RED HOOK WEST</td>\n",
       "      <td>RED HOOK WEST BLD 03</td>\n",
       "      <td>79.0 - RED HOOK WEST BLD 03</td>\n",
       "      <td>6477455</td>\n",
       "      <td>2011-03-01</td>\n",
       "      <td>2011</td>\n",
       "      <td>2010-12-23</td>\n",
       "      <td>2011-03-25</td>\n",
       "      <td>92.0</td>\n",
       "      <td>40.4</td>\n",
       "      <td>530.86</td>\n",
       "      <td>19040.0</td>\n",
       "      <td>1104.13</td>\n",
       "      <td>1111.10</td>\n",
       "      <td>2746.09</td>\n",
       "    </tr>\n",
       "    <tr>\n",
       "      <th>124888</th>\n",
       "      <td>RED HOOK EAST/RED HOOK WEST</td>\n",
       "      <td>RED HOOK WEST BLD 03</td>\n",
       "      <td>79.0 - RED HOOK WEST BLD 03</td>\n",
       "      <td>6477455</td>\n",
       "      <td>2011-07-01</td>\n",
       "      <td>2011</td>\n",
       "      <td>2011-06-23</td>\n",
       "      <td>2011-07-25</td>\n",
       "      <td>32.0</td>\n",
       "      <td>61.2</td>\n",
       "      <td>531.22</td>\n",
       "      <td>31640.0</td>\n",
       "      <td>2450.20</td>\n",
       "      <td>2097.54</td>\n",
       "      <td>5078.96</td>\n",
       "    </tr>\n",
       "  </tbody>\n",
       "</table>\n",
       "</div>"
      ],
      "text/plain": [
       "                       Account_Name              Location  \\\n",
       "124886  RED HOOK EAST/RED HOOK WEST  RED HOOK WEST BLD 03   \n",
       "124887  RED HOOK EAST/RED HOOK WEST  RED HOOK WEST BLD 03   \n",
       "124888  RED HOOK EAST/RED HOOK WEST  RED HOOK WEST BLD 03   \n",
       "\n",
       "                        Building_ID Meter_Number Revenue_Month  Revenue_Year  \\\n",
       "124886  79.0 - RED HOOK WEST BLD 03      6477455    2011-01-01          2011   \n",
       "124887  79.0 - RED HOOK WEST BLD 03      6477455    2011-03-01          2011   \n",
       "124888  79.0 - RED HOOK WEST BLD 03      6477455    2011-07-01          2011   \n",
       "\n",
       "       Service_Start_Date Service_End_Date  # days  Consumption_KW  \\\n",
       "124886         2010-12-23       2011-01-25    33.0            38.0   \n",
       "124887         2010-12-23       2011-03-25    92.0            40.4   \n",
       "124888         2011-06-23       2011-07-25    32.0            61.2   \n",
       "\n",
       "        KW_Charges  Consumption_KWH  KWH_Charges  Other_Charges  \\\n",
       "124886      494.00          22080.0      1266.51        1148.79   \n",
       "124887      530.86          19040.0      1104.13        1111.10   \n",
       "124888      531.22          31640.0      2450.20        2097.54   \n",
       "\n",
       "        Current_Charges  \n",
       "124886          2909.30  \n",
       "124887          2746.09  \n",
       "124888          5078.96  "
      ]
     },
     "execution_count": 100,
     "metadata": {},
     "output_type": "execute_result"
    }
   ],
   "source": [
    "mask = (df['Building_ID'] == '79.0 - RED HOOK WEST BLD 03') \\\n",
    "& ((df['Meter_Number'] == '6477455')|(df['Meter_Number'] == '6477455') ) \\\n",
    "& (df['Revenue_Year'] == 2011)\n",
    "\n",
    "df[mask].sort_values(['Revenue_Month', 'Service_Start_Date', 'Meter_Number'])"
   ]
  },
  {
   "cell_type": "markdown",
   "metadata": {},
   "source": [
    "### Summarize gaps by days"
   ]
  },
  {
   "cell_type": "code",
   "execution_count": 101,
   "metadata": {
    "collapsed": true
   },
   "outputs": [],
   "source": [
    "df_gap_summary = df_gap[df_gap['gap_days'] > 0].groupby('Building_Meter').agg({'consecutive_days':'sum', 'gap_days':'sum'}).reset_index()\n",
    "\n",
    "df_gap_summary['perc_gap'] = df_gap_summary['gap_days']/(df_gap_summary['consecutive_days'] + df_gap_summary['gap_days'])"
   ]
  },
  {
   "cell_type": "markdown",
   "metadata": {},
   "source": [
    "#### Only 29.3% of the meters have % of missing days less than 10%"
   ]
  },
  {
   "cell_type": "code",
   "execution_count": 102,
   "metadata": {},
   "outputs": [
    {
     "data": {
      "text/plain": [
       "0.2936378466557912"
      ]
     },
     "execution_count": 102,
     "metadata": {},
     "output_type": "execute_result"
    }
   ],
   "source": [
    "df_gap_summary[df_gap_summary['perc_gap'] < 0.1].shape[0]/ df_gap_summary.shape[0]"
   ]
  },
  {
   "cell_type": "markdown",
   "metadata": {},
   "source": [
    "#### For those who doesn't have gaps longer than 5 days, most of them just have one revenue_month reported "
   ]
  },
  {
   "cell_type": "code",
   "execution_count": 103,
   "metadata": {
    "collapsed": true
   },
   "outputs": [],
   "source": [
    "pysql = lambda q: pdsql.sqldf(q, globals())\n",
    "str1 = \"select a.m1 as Building_Meter from \\\n",
    "        (select distinct Building_Meter as m1\\\n",
    "        from df_gap) a \\\n",
    "        left join \\\n",
    "        (select distinct Building_Meter as m2, 1 as ind\\\n",
    "        from df_gap where gap_days >= 5) b \\\n",
    "        on a.m1 == b.m2 where b.ind is null \\\n",
    "        \"\n",
    "a = pysql(str1)"
   ]
  },
  {
   "cell_type": "markdown",
   "metadata": {},
   "source": [
    "#### Only two metes have almost no gap in all 8 years"
   ]
  },
  {
   "cell_type": "code",
   "execution_count": 104,
   "metadata": {
    "scrolled": true
   },
   "outputs": [
    {
     "data": {
      "text/plain": [
       "1.0    2\n",
       "Name: gap_days, dtype: int64"
      ]
     },
     "execution_count": 104,
     "metadata": {},
     "output_type": "execute_result"
    }
   ],
   "source": [
    "pd.merge(a, df_gap, on = 'Building_Meter', how = 'inner').gap_days.value_counts()"
   ]
  },
  {
   "cell_type": "markdown",
   "metadata": {},
   "source": [
    "#### Save the data for later use"
   ]
  },
  {
   "cell_type": "code",
   "execution_count": 105,
   "metadata": {
    "collapsed": true
   },
   "outputs": [],
   "source": [
    "df_gap.to_pickle(\"../output/NYCHA_Electricity_2010_to_2018_df_service_range_gaps\")\n",
    "df_gap_summary.to_pickle(\"../output/NYCHA_Electricity_2010_to_2018_df_service_range_gaps_summary\")"
   ]
  },
  {
   "cell_type": "code",
   "execution_count": null,
   "metadata": {
    "collapsed": true
   },
   "outputs": [],
   "source": []
  },
  {
   "cell_type": "markdown",
   "metadata": {},
   "source": [
    "### 17. Summarize gaps by months (since we found that most of the cases, service date ranges either missed the entire month, or covers the whole month)"
   ]
  },
  {
   "cell_type": "code",
   "execution_count": 106,
   "metadata": {},
   "outputs": [
    {
     "ename": "NameError",
     "evalue": "name 'df_gap_month' is not defined",
     "output_type": "error",
     "traceback": [
      "\u001b[0;31m---------------------------------------------------------------------------\u001b[0m",
      "\u001b[0;31mNameError\u001b[0m                                 Traceback (most recent call last)",
      "\u001b[0;32m<ipython-input-106-151c49ec22d3>\u001b[0m in \u001b[0;36m<module>\u001b[0;34m()\u001b[0m\n\u001b[0;32m----> 1\u001b[0;31m \u001b[0mdf_gap_month\u001b[0m\u001b[0;34m.\u001b[0m\u001b[0mcolumns\u001b[0m\u001b[0;34m\u001b[0m\u001b[0m\n\u001b[0m",
      "\u001b[0;31mNameError\u001b[0m: name 'df_gap_month' is not defined"
     ]
    }
   ],
   "source": [
    "#df_gap_month.columns"
   ]
  },
  {
   "cell_type": "code",
   "execution_count": 107,
   "metadata": {},
   "outputs": [
    {
     "name": "stderr",
     "output_type": "stream",
     "text": [
      "/Users/crystal-pro/anaconda3/lib/python3.6/site-packages/pandas/core/indexing.py:362: SettingWithCopyWarning:\n",
      "\n",
      "\n",
      "A value is trying to be set on a copy of a slice from a DataFrame.\n",
      "Try using .loc[row_indexer,col_indexer] = value instead\n",
      "\n",
      "See the caveats in the documentation: http://pandas.pydata.org/pandas-docs/stable/indexing.html#indexing-view-versus-copy\n",
      "\n",
      "/Users/crystal-pro/anaconda3/lib/python3.6/site-packages/pandas/core/indexing.py:543: SettingWithCopyWarning:\n",
      "\n",
      "\n",
      "A value is trying to be set on a copy of a slice from a DataFrame.\n",
      "Try using .loc[row_indexer,col_indexer] = value instead\n",
      "\n",
      "See the caveats in the documentation: http://pandas.pydata.org/pandas-docs/stable/indexing.html#indexing-view-versus-copy\n",
      "\n"
     ]
    }
   ],
   "source": [
    "# sort by building_id, meter number and revenue month\n",
    "df = df.sort_values(by = ['Building_ID', 'Meter_Number', 'Revenue_Month'], ascending=[True, True, True])\n",
    "a = df[['Building_ID', 'Meter_Number', 'Revenue_Month']]\n",
    "a.loc[:, 'Next_Revenue_Month'] = a['Revenue_Month'].map(lambda x: x + relativedelta(months=+1))\n",
    "\n",
    "def merge_months(grp):\n",
    "    # Find contiguous date groups, and get the first/last start/end date for each group.\n",
    "    dt_groups = (grp['Revenue_Month'] != grp['Next_Revenue_Month'].shift()).cumsum()\n",
    "    return grp.groupby(dt_groups).agg({'Revenue_Month': 'first', 'Next_Revenue_Month': 'last'})\n",
    "\n",
    "# Perform a groupby and apply the merge_dates function, followed by formatting.\n",
    "df_gap_month = a.groupby(['Building_ID', 'Meter_Number']).apply(merge_months)\n",
    "df_gap_month = df_gap_month.reset_index().drop('level_2', axis =1)\n",
    "\n",
    "df_gap_month.columns = ['Building_ID', 'Meter_Number', \n",
    "       'Revenue_Month_Start', 'Revenue_Month_End']\n",
    "    \n",
    "df_gap_month.loc[:, 'Consecutive_Months'] = \\\n",
    "(df_gap_month['Revenue_Month_End'].dt.year - df_gap_month['Revenue_Month_Start'].dt.year) * 12 + \\\n",
    "(df_gap_month['Revenue_Month_End'].dt.month - df_gap_month['Revenue_Month_Start'].dt.month)\n",
    "\n",
    "df_gap_month['Building_Meter'] = df_gap_month['Building_ID'] + df_gap_month['Meter_Number']"
   ]
  },
  {
   "cell_type": "code",
   "execution_count": 108,
   "metadata": {
    "collapsed": true
   },
   "outputs": [],
   "source": [
    "a = pd.merge(df.groupby(['Building_ID', 'Meter_Number']).agg({'Revenue_Month':'max'}).reset_index() \\\n",
    ", df.groupby(['Building_ID', 'Meter_Number']).agg({'Revenue_Month':'min'}).reset_index() \\\n",
    ", on = ['Building_ID', 'Meter_Number'], how = 'inner' \\\n",
    ")\n",
    "\n",
    "\n",
    "a.columns = ['Building_ID', 'Meter_Number', 'Revenue_Month_max', 'Revenue_Month_min']\n",
    "\n",
    "a.loc[:, 'Span_Months'] = \\\n",
    "(a['Revenue_Month_max'].dt.year - a['Revenue_Month_min'].dt.year) * 12 + \\\n",
    "(a['Revenue_Month_max'].dt.month - a['Revenue_Month_min'].dt.month) + 1\n",
    "\n",
    "df_gap_month_summary = \\\n",
    "pd.merge(df_gap_month.groupby(['Building_ID', 'Meter_Number']).agg({'Consecutive_Months':'sum'}).reset_index()\\\n",
    ", a, on = ['Building_ID', 'Meter_Number'], how = 'inner')\n",
    "\n",
    "del(a)"
   ]
  },
  {
   "cell_type": "code",
   "execution_count": 109,
   "metadata": {
    "collapsed": true
   },
   "outputs": [],
   "source": [
    "cols = ['Building_ID', 'Meter_Number', 'Consecutive_Months', 'Span_Months']\n",
    "df_gap_month_summary = df_gap_month_summary[cols]\n",
    "\n",
    "df_gap_month_summary.loc[:, 'Consecutive_Months_Perc'] = \\\n",
    "df_gap_month_summary['Consecutive_Months'] / df_gap_month_summary['Span_Months']"
   ]
  },
  {
   "cell_type": "markdown",
   "metadata": {},
   "source": [
    "#### Save the data for later use"
   ]
  },
  {
   "cell_type": "code",
   "execution_count": 110,
   "metadata": {
    "collapsed": true
   },
   "outputs": [],
   "source": [
    "df_gap_month.to_pickle(\"../output/NYCHA_Electricity_2010_to_2018_df_revenue_month_gaps\")\n",
    "df_gap_month_summary.to_pickle(\"../output/NYCHA_Electricity_2010_to_2018_df_revenue_month_gaps_summary\")"
   ]
  },
  {
   "cell_type": "code",
   "execution_count": null,
   "metadata": {
    "collapsed": true
   },
   "outputs": [],
   "source": []
  },
  {
   "cell_type": "markdown",
   "metadata": {},
   "source": [
    "### 17. Combine rows to the Building-Meter-Month level and Building-Month level; add new aggregation metrics\n",
    "\n",
    "We need to analyze anamolous values of charges and consumptions at the Building-Meter-Month level and Building-Month level"
   ]
  },
  {
   "cell_type": "code",
   "execution_count": 111,
   "metadata": {
    "collapsed": true
   },
   "outputs": [],
   "source": [
    "df_combined_meter = df\n",
    "\n",
    "df_combined_building = pd.pivot_table(df, values = ['Current_Charges','Consumption_KWH', 'KWH_Charges',\\\n",
    "       'Consumption_KW', 'KW_Charges', 'Other_Charges'], index=['Account_Name', 'Location', 'Building_ID',\n",
    "       'Revenue_Month'], aggfunc = np.sum).reset_index()"
   ]
  },
  {
   "cell_type": "code",
   "execution_count": 112,
   "metadata": {
    "collapsed": true
   },
   "outputs": [],
   "source": [
    "df_combined_meter['Total_Charges'] = df_combined_meter['KW_Charges'] + df_combined_meter['KWH_Charges']\n",
    "df_combined_meter['Total_Energy_Rate'] = df_combined_meter['Total_Charges']/df_combined_meter['Consumption_KWH']\n",
    "\n",
    "df_combined_meter['Building_Meter'] = df_combined_meter['Building_ID'] + df_combined_meter['Meter_Number']"
   ]
  },
  {
   "cell_type": "code",
   "execution_count": 113,
   "metadata": {
    "collapsed": true
   },
   "outputs": [],
   "source": [
    "df_combined_building['Total_Charges'] = df_combined_building['KW_Charges'] + df_combined_building['KWH_Charges']\n",
    "df_combined_building['Total_Energy_Rate'] = df_combined_building['Total_Charges']/df_combined_building['Consumption_KWH']"
   ]
  },
  {
   "cell_type": "code",
   "execution_count": null,
   "metadata": {},
   "outputs": [],
   "source": [
    "df_combined_building.shape"
   ]
  },
  {
   "cell_type": "code",
   "execution_count": null,
   "metadata": {},
   "outputs": [],
   "source": [
    "df_combined_building.head()"
   ]
  },
  {
   "cell_type": "code",
   "execution_count": null,
   "metadata": {},
   "outputs": [],
   "source": [
    "df_combined_meter.shape"
   ]
  },
  {
   "cell_type": "code",
   "execution_count": null,
   "metadata": {},
   "outputs": [],
   "source": [
    "df_combined_meter.head()"
   ]
  },
  {
   "cell_type": "markdown",
   "metadata": {},
   "source": [
    "### 18. Save the cleaned data to the output folder"
   ]
  },
  {
   "cell_type": "code",
   "execution_count": 114,
   "metadata": {
    "collapsed": true
   },
   "outputs": [],
   "source": [
    "# original data after general data cleansing\n",
    "df_orig.to_pickle(\"../output/NYCHA_Electricity_2010_to_2018_df_original_dataset\")"
   ]
  },
  {
   "cell_type": "code",
   "execution_count": 115,
   "metadata": {
    "collapsed": true
   },
   "outputs": [],
   "source": [
    "# data at Building_ID, Meter_Number, Revenue_Month level\n",
    "df.to_pickle(\"../output/NYCHA_Electricity_2010_to_2018_CleanedDF\")"
   ]
  },
  {
   "cell_type": "code",
   "execution_count": 116,
   "metadata": {
    "collapsed": true
   },
   "outputs": [],
   "source": [
    "# data at Building_ID, Meter_Number, Revenue_Month level\n",
    "df_combined_meter.to_pickle(\"../output/NYCHA_Electricity_2010_to_2018_df_combined_meter\")"
   ]
  },
  {
   "cell_type": "code",
   "execution_count": 117,
   "metadata": {
    "collapsed": true
   },
   "outputs": [],
   "source": [
    "# data at Building_ID, Meter_Number level\n",
    "df_combined_building.to_pickle(\"../output/NYCHA_Electricity_2010_to_2018_df_combined_building\")"
   ]
  },
  {
   "cell_type": "code",
   "execution_count": null,
   "metadata": {
    "collapsed": true
   },
   "outputs": [],
   "source": []
  },
  {
   "cell_type": "markdown",
   "metadata": {},
   "source": [
    "### 19. Prorate consumption_KWH into Bill_Month"
   ]
  },
  {
   "cell_type": "code",
   "execution_count": 171,
   "metadata": {
    "collapsed": true
   },
   "outputs": [],
   "source": [
    "def prorate_consumption(df_input):\n",
    "    day_counter = 1\n",
    "    temp_holder = []\n",
    "    while df_input['Service_Start_Date'] + timedelta(days=day_counter) <= df_input['Service_End_Date']:\n",
    "        temp_holder.append([df_input['Building_Meter'],\n",
    "                            df_input['Revenue_Month'],\n",
    "                            df_input['Consumption_KWH']/df_input['# days'],\n",
    "                            pd.to_datetime('-'.\n",
    "                                           join([str((df_input['Service_Start_Date'] + timedelta(days=day_counter)).year),\n",
    "                                                 str((df_input['Service_Start_Date'] + timedelta(days=day_counter)).month)]))])\n",
    "        day_counter = day_counter + 1\n",
    "        \n",
    "    return np.asarray(temp_holder)\n",
    "#return pd.DataFrame(temp_holder, columns=['Building_Meter','Revenue_Month','Prorate_Bill','Bill_Month']).groupby(['Building_Meter','Revenue_Month','Bill_Month']).sum().reset_index()"
   ]
  },
  {
   "cell_type": "code",
   "execution_count": 189,
   "metadata": {
    "collapsed": true
   },
   "outputs": [],
   "source": [
    "def prorate_monthly(df_input):\n",
    "    daily_data = prorate_consumption(df_input)\n",
    "    return pd.DataFrame(daily_data, columns=['Building_Meter','Revenue_Month','Prorate_Bill','Bill_Month']).groupby(['Building_Meter','Revenue_Month','Bill_Month']).sum().reset_index()"
   ]
  },
  {
   "cell_type": "code",
   "execution_count": 211,
   "metadata": {
    "scrolled": true
   },
   "outputs": [
    {
     "name": "stdout",
     "output_type": "stream",
     "text": [
      "CPU times: user 30min 40s, sys: 9.55 s, total: 30min 50s\n",
      "Wall time: 30min 59s\n"
     ]
    }
   ],
   "source": [
    "%%time\n",
    "\n",
    "combined_prorated_df = prorate_monthly(df_combined_meter.iloc[0,:])\n",
    "for iteration in range(0,11):\n",
    "    sliced_combined_meter = df_combined_meter.iloc[iteration*18000:(iteration+1)*18000,:]\n",
    "    combined_prorated_list = prorate_monthly(sliced_combined_meter.iloc[0,:])\n",
    "    for i in range(1,sliced_combined_meter.shape[0]):\n",
    "\n",
    "        combined_prorated_list = combined_prorated_list.append(prorate_monthly(sliced_combined_meter.iloc[i,:]))\n",
    "    combined_prorated_df = combined_prorated_df.append(combined_prorated_list)"
   ]
  },
  {
   "cell_type": "code",
   "execution_count": 259,
   "metadata": {
    "collapsed": true
   },
   "outputs": [],
   "source": [
    "combined_prorated_df2 = combined_prorated_df.iloc[2:,:]\n",
    "merged_combined_prorated_df = pd.merge(combined_prorated_df2, df_combined_meter, how='left',\n",
    "                                       left_on=['Building_Meter','Revenue_Month'], \n",
    "                                       right_on=['Building_Meter','Revenue_Month'])"
   ]
  },
  {
   "cell_type": "code",
   "execution_count": 260,
   "metadata": {},
   "outputs": [
    {
     "data": {
      "text/html": [
       "<div>\n",
       "<style scoped>\n",
       "    .dataframe tbody tr th:only-of-type {\n",
       "        vertical-align: middle;\n",
       "    }\n",
       "\n",
       "    .dataframe tbody tr th {\n",
       "        vertical-align: top;\n",
       "    }\n",
       "\n",
       "    .dataframe thead th {\n",
       "        text-align: right;\n",
       "    }\n",
       "</style>\n",
       "<table border=\"1\" class=\"dataframe\">\n",
       "  <thead>\n",
       "    <tr style=\"text-align: right;\">\n",
       "      <th></th>\n",
       "      <th>Building_Meter</th>\n",
       "      <th>Revenue_Month</th>\n",
       "      <th>Bill_Month</th>\n",
       "      <th>Prorate_Bill</th>\n",
       "      <th>Account_Name</th>\n",
       "      <th>Location</th>\n",
       "      <th>Building_ID</th>\n",
       "      <th>Meter_Number</th>\n",
       "      <th>Revenue_Year</th>\n",
       "      <th>Service_Start_Date</th>\n",
       "      <th>Service_End_Date</th>\n",
       "      <th># days</th>\n",
       "      <th>Consumption_KW</th>\n",
       "      <th>KW_Charges</th>\n",
       "      <th>Consumption_KWH</th>\n",
       "      <th>KWH_Charges</th>\n",
       "      <th>Other_Charges</th>\n",
       "      <th>Current_Charges</th>\n",
       "      <th>Total_Charges</th>\n",
       "      <th>Total_Energy_Rate</th>\n",
       "    </tr>\n",
       "  </thead>\n",
       "  <tbody>\n",
       "    <tr>\n",
       "      <th>0</th>\n",
       "      <td>1.0 - BLD 017836716</td>\n",
       "      <td>2010-01-01</td>\n",
       "      <td>2009-12-01</td>\n",
       "      <td>185.818182</td>\n",
       "      <td>FIRST HOUSES</td>\n",
       "      <td>BLD 01</td>\n",
       "      <td>1.0 - BLD 01</td>\n",
       "      <td>7836716</td>\n",
       "      <td>2010</td>\n",
       "      <td>2009-12-24</td>\n",
       "      <td>2010-01-26</td>\n",
       "      <td>33.0</td>\n",
       "      <td>3.84</td>\n",
       "      <td>41.28</td>\n",
       "      <td>876.0</td>\n",
       "      <td>52.64</td>\n",
       "      <td>60.36</td>\n",
       "      <td>154.28</td>\n",
       "      <td>93.92</td>\n",
       "      <td>0.107215</td>\n",
       "    </tr>\n",
       "    <tr>\n",
       "      <th>1</th>\n",
       "      <td>1.0 - BLD 017836716</td>\n",
       "      <td>2010-01-01</td>\n",
       "      <td>2010-01-01</td>\n",
       "      <td>690.181818</td>\n",
       "      <td>FIRST HOUSES</td>\n",
       "      <td>BLD 01</td>\n",
       "      <td>1.0 - BLD 01</td>\n",
       "      <td>7836716</td>\n",
       "      <td>2010</td>\n",
       "      <td>2009-12-24</td>\n",
       "      <td>2010-01-26</td>\n",
       "      <td>33.0</td>\n",
       "      <td>3.84</td>\n",
       "      <td>41.28</td>\n",
       "      <td>876.0</td>\n",
       "      <td>52.64</td>\n",
       "      <td>60.36</td>\n",
       "      <td>154.28</td>\n",
       "      <td>93.92</td>\n",
       "      <td>0.107215</td>\n",
       "    </tr>\n",
       "    <tr>\n",
       "      <th>2</th>\n",
       "      <td>1.0 - BLD 017836716</td>\n",
       "      <td>2010-02-01</td>\n",
       "      <td>2010-01-01</td>\n",
       "      <td>118.000000</td>\n",
       "      <td>FIRST HOUSES</td>\n",
       "      <td>BLD 01</td>\n",
       "      <td>1.0 - BLD 01</td>\n",
       "      <td>7836716</td>\n",
       "      <td>2010</td>\n",
       "      <td>2010-01-26</td>\n",
       "      <td>2010-02-25</td>\n",
       "      <td>30.0</td>\n",
       "      <td>1.68</td>\n",
       "      <td>18.06</td>\n",
       "      <td>708.0</td>\n",
       "      <td>42.54</td>\n",
       "      <td>36.64</td>\n",
       "      <td>97.24</td>\n",
       "      <td>60.60</td>\n",
       "      <td>0.085593</td>\n",
       "    </tr>\n",
       "    <tr>\n",
       "      <th>3</th>\n",
       "      <td>1.0 - BLD 017836716</td>\n",
       "      <td>2010-02-01</td>\n",
       "      <td>2010-02-01</td>\n",
       "      <td>590.000000</td>\n",
       "      <td>FIRST HOUSES</td>\n",
       "      <td>BLD 01</td>\n",
       "      <td>1.0 - BLD 01</td>\n",
       "      <td>7836716</td>\n",
       "      <td>2010</td>\n",
       "      <td>2010-01-26</td>\n",
       "      <td>2010-02-25</td>\n",
       "      <td>30.0</td>\n",
       "      <td>1.68</td>\n",
       "      <td>18.06</td>\n",
       "      <td>708.0</td>\n",
       "      <td>42.54</td>\n",
       "      <td>36.64</td>\n",
       "      <td>97.24</td>\n",
       "      <td>60.60</td>\n",
       "      <td>0.085593</td>\n",
       "    </tr>\n",
       "    <tr>\n",
       "      <th>4</th>\n",
       "      <td>1.0 - BLD 017836716</td>\n",
       "      <td>2010-03-01</td>\n",
       "      <td>2010-02-01</td>\n",
       "      <td>85.655172</td>\n",
       "      <td>FIRST HOUSES</td>\n",
       "      <td>BLD 01</td>\n",
       "      <td>1.0 - BLD 01</td>\n",
       "      <td>7836716</td>\n",
       "      <td>2010</td>\n",
       "      <td>2010-02-25</td>\n",
       "      <td>2010-03-26</td>\n",
       "      <td>29.0</td>\n",
       "      <td>2.88</td>\n",
       "      <td>30.96</td>\n",
       "      <td>828.0</td>\n",
       "      <td>49.75</td>\n",
       "      <td>57.31</td>\n",
       "      <td>138.02</td>\n",
       "      <td>80.71</td>\n",
       "      <td>0.097476</td>\n",
       "    </tr>\n",
       "  </tbody>\n",
       "</table>\n",
       "</div>"
      ],
      "text/plain": [
       "        Building_Meter Revenue_Month Bill_Month  Prorate_Bill  Account_Name  \\\n",
       "0  1.0 - BLD 017836716    2010-01-01 2009-12-01    185.818182  FIRST HOUSES   \n",
       "1  1.0 - BLD 017836716    2010-01-01 2010-01-01    690.181818  FIRST HOUSES   \n",
       "2  1.0 - BLD 017836716    2010-02-01 2010-01-01    118.000000  FIRST HOUSES   \n",
       "3  1.0 - BLD 017836716    2010-02-01 2010-02-01    590.000000  FIRST HOUSES   \n",
       "4  1.0 - BLD 017836716    2010-03-01 2010-02-01     85.655172  FIRST HOUSES   \n",
       "\n",
       "  Location   Building_ID Meter_Number  Revenue_Year Service_Start_Date  \\\n",
       "0   BLD 01  1.0 - BLD 01      7836716          2010         2009-12-24   \n",
       "1   BLD 01  1.0 - BLD 01      7836716          2010         2009-12-24   \n",
       "2   BLD 01  1.0 - BLD 01      7836716          2010         2010-01-26   \n",
       "3   BLD 01  1.0 - BLD 01      7836716          2010         2010-01-26   \n",
       "4   BLD 01  1.0 - BLD 01      7836716          2010         2010-02-25   \n",
       "\n",
       "  Service_End_Date  # days  Consumption_KW  KW_Charges  Consumption_KWH  \\\n",
       "0       2010-01-26    33.0            3.84       41.28            876.0   \n",
       "1       2010-01-26    33.0            3.84       41.28            876.0   \n",
       "2       2010-02-25    30.0            1.68       18.06            708.0   \n",
       "3       2010-02-25    30.0            1.68       18.06            708.0   \n",
       "4       2010-03-26    29.0            2.88       30.96            828.0   \n",
       "\n",
       "   KWH_Charges  Other_Charges  Current_Charges  Total_Charges  \\\n",
       "0        52.64          60.36           154.28          93.92   \n",
       "1        52.64          60.36           154.28          93.92   \n",
       "2        42.54          36.64            97.24          60.60   \n",
       "3        42.54          36.64            97.24          60.60   \n",
       "4        49.75          57.31           138.02          80.71   \n",
       "\n",
       "   Total_Energy_Rate  \n",
       "0           0.107215  \n",
       "1           0.107215  \n",
       "2           0.085593  \n",
       "3           0.085593  \n",
       "4           0.097476  "
      ]
     },
     "execution_count": 260,
     "metadata": {},
     "output_type": "execute_result"
    }
   ],
   "source": [
    "merged_combined_prorated_df.head()"
   ]
  },
  {
   "cell_type": "code",
   "execution_count": 263,
   "metadata": {},
   "outputs": [],
   "source": [
    "df_prorated_combined_meter = merged_combined_prorated_df.groupby(['Building_Meter','Account_Name','Location',\n",
    "                                                                    'Building_ID','Meter_Number',\n",
    "                                                                    'Bill_Month']).agg({'Prorate_Bill':'sum'}).reset_index()"
   ]
  },
  {
   "cell_type": "code",
   "execution_count": 265,
   "metadata": {
    "scrolled": true
   },
   "outputs": [],
   "source": [
    "# data at Building_ID, Meter_Number level\n",
    "df_prorated_combined_meter.to_pickle(\"../output/NYCHA_Electricity_2010_to_2018_df_prorated_combined_meter\")"
   ]
  },
  {
   "cell_type": "code",
   "execution_count": null,
   "metadata": {
    "collapsed": true
   },
   "outputs": [],
   "source": []
  },
  {
   "cell_type": "code",
   "execution_count": null,
   "metadata": {
    "collapsed": true
   },
   "outputs": [],
   "source": []
  },
  {
   "cell_type": "code",
   "execution_count": null,
   "metadata": {
    "collapsed": true
   },
   "outputs": [],
   "source": []
  },
  {
   "cell_type": "code",
   "execution_count": null,
   "metadata": {
    "collapsed": true
   },
   "outputs": [],
   "source": []
  },
  {
   "cell_type": "markdown",
   "metadata": {},
   "source": [
    "## To continue the work:"
   ]
  },
  {
   "cell_type": "code",
   "execution_count": null,
   "metadata": {},
   "outputs": [],
   "source": [
    "from __future__ import division\n",
    "import pandas as pd\n",
    "import numpy as np\n",
    "import pandasql as pdsql\n",
    "from datetime import datetime\n",
    "from dateutil.relativedelta import *\n",
    "\n",
    "# import matplotlib as mpl\n",
    "import matplotlib.pyplot as plt\n",
    "# Setup matplotlib to display in notebook:\n",
    "%matplotlib inline\n",
    "\n",
    "import plotly.plotly as py\n",
    "import plotly.graph_objs as go\n",
    "from plotly.offline import init_notebook_mode, iplot\n",
    "init_notebook_mode(connected=True)         # initiate notebook for offline plot\n"
   ]
  },
  {
   "cell_type": "code",
   "execution_count": null,
   "metadata": {
    "collapsed": true
   },
   "outputs": [],
   "source": [
    "df_orig = pd.read_pickle(\"../output/NYCHA_Electricity_2010_to_2018_df_original_dataset\")\n",
    "\n",
    "df = pd.read_pickle(\"../output/NYCHA_Electricity_2010_to_2018_CleanedDF\")\n",
    "\n",
    "df_combined_meter = pd.read_pickle(\"../output/NYCHA_Electricity_2010_to_2018_df_combined_meter\")\n",
    "df_combined_building = pd.read_pickle(\"../output/NYCHA_Electricity_2010_to_2018_df_combined_building\")\n",
    "\n",
    "df_gap = pd.read_pickle(\"../output/NYCHA_Electricity_2010_to_2018_df_service_range_gaps\")\n",
    "df_gap_summary = pd.read_pickle(\"../output/NYCHA_Electricity_2010_to_2018_df_service_range_gaps_summary\")\n",
    "\n",
    "df_gap_month = pd.read_pickle(\"../output/NYCHA_Electricity_2010_to_2018_df_revenue_month_gaps\")\n",
    "df_gap_month_summary = pd.read_pickle(\"../output/NYCHA_Electricity_2010_to_2018_df_revenue_month_gaps_summary\")"
   ]
  },
  {
   "cell_type": "code",
   "execution_count": null,
   "metadata": {
    "scrolled": true
   },
   "outputs": [],
   "source": [
    "df.head()"
   ]
  },
  {
   "cell_type": "code",
   "execution_count": null,
   "metadata": {
    "collapsed": true
   },
   "outputs": [],
   "source": []
  },
  {
   "cell_type": "markdown",
   "metadata": {},
   "source": [
    "#### Use SQL to explore the data"
   ]
  },
  {
   "cell_type": "code",
   "execution_count": null,
   "metadata": {
    "collapsed": true
   },
   "outputs": [],
   "source": [
    "pysql = lambda q: pdsql.sqldf(q, globals())\n",
    "str1 = \"select count(*) \\\n",
    "        from df \\\n",
    "        \"\n",
    "temp = pysql(str1)"
   ]
  },
  {
   "cell_type": "markdown",
   "metadata": {},
   "source": [
    "#### How many meters per building?"
   ]
  },
  {
   "cell_type": "code",
   "execution_count": null,
   "metadata": {
    "collapsed": true
   },
   "outputs": [],
   "source": [
    "df.groupby('Building_ID').agg({'Meter_Number':'nunique'}).reset_index()['Meter_Number'].value_counts()"
   ]
  },
  {
   "cell_type": "markdown",
   "metadata": {},
   "source": [
    "#### Summary Statistics "
   ]
  },
  {
   "cell_type": "code",
   "execution_count": null,
   "metadata": {
    "collapsed": true
   },
   "outputs": [],
   "source": [
    "df[[\"Consumption_KWH\",  \"Consumption_KW\", \"Current_Charges\", \"KWH_Charges\", \"KW_Charges\", \"Other_Charges\"]].describe()"
   ]
  },
  {
   "cell_type": "markdown",
   "metadata": {},
   "source": [
    "#### Perc of accounts with no missing data for all months"
   ]
  },
  {
   "cell_type": "code",
   "execution_count": null,
   "metadata": {
    "collapsed": true
   },
   "outputs": [],
   "source": [
    "a = df_gap.groupby('Building_Meter').agg({'gap_days':'sum'}).reset_index()"
   ]
  },
  {
   "cell_type": "code",
   "execution_count": null,
   "metadata": {},
   "outputs": [],
   "source": [
    "a[a['gap_days'] == 0].shape[0]/a.shape[0]"
   ]
  },
  {
   "cell_type": "code",
   "execution_count": null,
   "metadata": {
    "collapsed": true
   },
   "outputs": [],
   "source": [
    "del(a)"
   ]
  },
  {
   "cell_type": "markdown",
   "metadata": {},
   "source": [
    "#### Trendline of % of accounts with missing data by revenue month"
   ]
  },
  {
   "cell_type": "code",
   "execution_count": null,
   "metadata": {
    "collapsed": true
   },
   "outputs": [],
   "source": [
    "# list of unique meters\n",
    "meters = df.Building_Meter.value_counts().index.values\n",
    "\n",
    "end = df['Revenue_Month'].max()\n",
    "start = df['Revenue_Month'].min()\n",
    "diff = (end.year - start.year) * 12 + end.month - start.month\n",
    "# list of unique months\n",
    "months = [start + relativedelta(months=x) for x in range(0, diff + 1)]\n",
    "\n",
    "# create a matrix to record the months that should have billing data for each meter\n",
    "matrix_month_meter = np.zeros((len(months), len(meters)))\n",
    "\n",
    "for j in range(len(meters)):\n",
    "    mask = (df['Building_Meter'] == meters[j])\n",
    "    start = df[mask]['Revenue_Month'].min()\n",
    "    end = df[mask]['Revenue_Month'].max()\n",
    "    start_index = months.index(start)\n",
    "    end_index = months.index(end)\n",
    "    # update the matrix value for months that meter j should have data available\n",
    "    matrix_month_meter[start_index:end_index + 1, j] = 1\n",
    "\n",
    "# for each month, calculate the number of meters that should have billing data\n",
    "df_month_meter = pd.DataFrame({'Revenue_Month':months, 'meters_count':list(matrix_month_meter.sum(axis = 1))})"
   ]
  },
  {
   "cell_type": "code",
   "execution_count": null,
   "metadata": {
    "collapsed": true
   },
   "outputs": [],
   "source": [
    "temp = df_combined_meter.groupby(['Revenue_Month']).agg({'Building_Meter':'nunique'}).reset_index()\n",
    "temp.columns = ['Revenue_Month', 'meters_with_data_count']\n",
    "temp = pd.merge(temp, df_month_meter, on = 'Revenue_Month', how = 'inner')\n",
    "\n",
    "temp['meter_with_data_perc'] = round(temp['meters_with_data_count'] / temp['meters_count'], 4)\n",
    "temp = temp.sort_values('Revenue_Month')\n",
    "temp['meters_missing_data_count'] = temp['meters_count']  - temp['meters_with_data_count']\n",
    "\n",
    "df_data_completeness_by_month = temp"
   ]
  },
  {
   "cell_type": "code",
   "execution_count": null,
   "metadata": {},
   "outputs": [],
   "source": [
    "# Create a trace\n",
    "trace1 = go.Bar(\n",
    "    x = df_data_completeness_by_month.Revenue_Month,\n",
    "    y = df_data_completeness_by_month.meters_count,\n",
    "    name = '# of Meters that should have data in the month', \n",
    "    marker=dict(\n",
    "        color='rgba(204,204,204,1)'\n",
    "    ),\n",
    "    yaxis= 'y'\n",
    ")\n",
    "\n",
    "trace2 = go.Scatter(\n",
    "    x = df_data_completeness_by_month.Revenue_Month,\n",
    "    y = 1 - df_data_completeness_by_month.meter_with_data_perc,\n",
    "    name = '% of Meters with missing data',\n",
    "    yaxis = 'y2'\n",
    ")\n",
    "\n",
    "data = [trace1, trace2]\n",
    "\n",
    "layout = go.Layout(\n",
    "    title='Trend Line of Data Compleness',\n",
    "    yaxis=dict(\n",
    "        title='# of Meters that should have data in the month',\n",
    "        tickformat=\",\",\n",
    "    ),\n",
    "    yaxis2=dict(\n",
    "        title='% of Meters with missing data',\n",
    "        tickformat=\".1%\",\n",
    "        side='right',\n",
    "        overlaying='y',\n",
    "    ), \n",
    "    legend=dict(x = -0.05, y=1.5)\n",
    ")\n",
    "fig = go.Figure(data=data, layout=layout)\n",
    "iplot(fig)"
   ]
  },
  {
   "cell_type": "markdown",
   "metadata": {},
   "source": [
    "#### Trendline of % of accounts with billing gaps (no data or 3+ days of gap) by revenue month"
   ]
  },
  {
   "cell_type": "code",
   "execution_count": null,
   "metadata": {},
   "outputs": [],
   "source": [
    "df['gaps'] = (df['Service_End_Date'] - df['Service_Start_Date']).dt.days\n",
    "\n",
    "df['gaps'] = df['gaps'].map(lambda x: max(0, 31-x))\n",
    "\n",
    "df.gaps.value_counts().sort_index().head()"
   ]
  },
  {
   "cell_type": "code",
   "execution_count": null,
   "metadata": {
    "collapsed": true
   },
   "outputs": [],
   "source": [
    "meters_missing_3_days = [df[(df['gaps'] > 3) & (df['Revenue_Month'] ==  month)].Building_Meter.nunique() for month in months]\n",
    "\n",
    "df_gap_3days_by_month = pd.DataFrame({'Revenue_Month':months, 'meters_3days_count':meters_missing_3_days})\n",
    "\n",
    "df_data_completeness_by_month = pd.merge(df_data_completeness_by_month, df_gap_3days_by_month)\n",
    "\n",
    "df_data_completeness_by_month['meter_gaps_days_perc'] = (df_data_completeness_by_month['meters_3days_count'] \\\n",
    "                                                        + df_data_completeness_by_month['meters_missing_data_count']) \\\n",
    "                                                        /df_data_completeness_by_month['meters_count']"
   ]
  },
  {
   "cell_type": "code",
   "execution_count": null,
   "metadata": {
    "scrolled": false
   },
   "outputs": [],
   "source": [
    "# Create a trace\n",
    "trace1 = go.Bar(\n",
    "    x = df_data_completeness_by_month.Revenue_Month,\n",
    "    y = df_data_completeness_by_month.meters_count,\n",
    "    name = '# of Accounts that should have data in the month', \n",
    "    marker=dict(\n",
    "        color='rgba(204,204,204,1)'\n",
    "    ),\n",
    "    yaxis= 'y'\n",
    ")\n",
    "\n",
    "trace2 = go.Scatter(\n",
    "    x = df_data_completeness_by_month.Revenue_Month,\n",
    "    y = 1 - df_data_completeness_by_month.meter_with_data_perc,\n",
    "    name = '% of Accounts with no data',\n",
    "    yaxis = 'y2'\n",
    ")\n",
    "\n",
    "trace3 = go.Scatter(\n",
    "    x = df_data_completeness_by_month.Revenue_Month,\n",
    "    y = df_data_completeness_by_month.meter_gaps_days_perc,\n",
    "    name = '% of Accounts with no data or 3+ days of gap', \n",
    "    yaxis= 'y2'\n",
    ")\n",
    "\n",
    "data = [trace1, trace2, trace3]\n",
    "\n",
    "layout = go.Layout(\n",
    "    title='Trend Line of Data Incompleness',\n",
    "    yaxis=dict(\n",
    "        title='# of Accounts that should have data in the month',\n",
    "        tickformat=\",\",\n",
    "    ),\n",
    "    yaxis2=dict(\n",
    "        title='% of Accounts',\n",
    "        tickformat=\".1%\",\n",
    "        side='right',\n",
    "        overlaying='y',\n",
    "    ), \n",
    "    legend=dict(x = -0.05, y= -0.4)\n",
    ")\n",
    "fig = go.Figure(data=data, layout=layout)\n",
    "iplot(fig)"
   ]
  },
  {
   "cell_type": "markdown",
   "metadata": {},
   "source": [
    "##### average % of accounts that have no data or 3+ days of gap"
   ]
  },
  {
   "cell_type": "code",
   "execution_count": null,
   "metadata": {},
   "outputs": [],
   "source": [
    "np.mean(df_data_completeness_by_month.meter_gaps_days_perc)"
   ]
  },
  {
   "cell_type": "markdown",
   "metadata": {},
   "source": [
    "#### Trend Line of Average Energy Charges"
   ]
  },
  {
   "cell_type": "code",
   "execution_count": null,
   "metadata": {},
   "outputs": [],
   "source": [
    "# Create a trace\n",
    "\n",
    "# Create traces\n",
    "trace1 = go.Scatter(\n",
    "    x = temp.Revenue_Month,\n",
    "    y = temp.Total_Charges,\n",
    "#     mode = 'lines',\n",
    "    name = 'Avg. Total Charge'\n",
    ")\n",
    "trace2 = go.Scatter(\n",
    "    x = temp.Revenue_Month,\n",
    "    y = temp.Total_Energy_Rate,\n",
    "#     mode = 'lines+markers',\n",
    "    name = 'Avg. Total Charge Rate', \n",
    "    yaxis='y2'\n",
    ")\n",
    "\n",
    "data = [trace1, trace2]\n",
    "\n",
    "layout = go.Layout(\n",
    "    title='Trend Line of Average Energy Charges',\n",
    "    yaxis=dict(\n",
    "        title='Avg. Total Charges($)',\n",
    "        tickformat=\",\"\n",
    "    ),\n",
    "    yaxis2=dict(\n",
    "        title='Avg. Total Charge Rates($/KWH)',\n",
    "        titlefont=dict(\n",
    "            color='rgb(148, 103, 189)'\n",
    "        ),\n",
    "        tickfont=dict(\n",
    "            color='rgb(148, 103, 189)'\n",
    "        ),\n",
    "#         tickformat=\".2%\",\n",
    "        overlaying='y',\n",
    "        side='right'\n",
    "    ),\n",
    "    legend=dict(x=-.1, y=1.2)\n",
    ")\n",
    "fig = go.Figure(data=data, layout=layout)\n",
    "iplot(fig)"
   ]
  },
  {
   "cell_type": "markdown",
   "metadata": {},
   "source": [
    "#### Trend Line of Average KW and KWH Charges"
   ]
  },
  {
   "cell_type": "code",
   "execution_count": null,
   "metadata": {
    "scrolled": true
   },
   "outputs": [],
   "source": [
    "# Create a trace\n",
    "\n",
    "# Create traces\n",
    "trace1 = go.Scatter(\n",
    "    x = temp.Revenue_Month,\n",
    "    y = temp.KWH_Charges,\n",
    "#     mode = 'lines',\n",
    "    name = 'Avg. KWH Charges'\n",
    ")\n",
    "trace2 = go.Scatter(\n",
    "    x = temp.Revenue_Month,\n",
    "    y = temp.KW_Charges,\n",
    "#     mode = 'lines+markers',\n",
    "    name = 'Avg. KW Charges', \n",
    "    yaxis='y2'\n",
    ")\n",
    "\n",
    "data = [trace1, trace2]\n",
    "\n",
    "layout = go.Layout(\n",
    "    title='Trend Line of Average KW and KWH Charges',\n",
    "    yaxis=dict(\n",
    "        title='Avg. KWH Charges($)',\n",
    "        tickformat=\",\"\n",
    "    ),\n",
    "    yaxis2=dict(\n",
    "        title='Avg. KW Charges($)',\n",
    "        titlefont=dict(\n",
    "            color='rgb(148, 103, 189)'\n",
    "        ),\n",
    "        tickfont=dict(\n",
    "            color='rgb(148, 103, 189)'\n",
    "        ),\n",
    "        tickformat=\",\",\n",
    "        overlaying='y',\n",
    "        side='right'\n",
    "    ),\n",
    "    legend=dict(x=-.1, y=1.2)\n",
    ")\n",
    "fig = go.Figure(data=data, layout=layout)\n",
    "iplot(fig)"
   ]
  },
  {
   "cell_type": "markdown",
   "metadata": {},
   "source": [
    "## Q&A with Linnea:"
   ]
  },
  {
   "cell_type": "markdown",
   "metadata": {},
   "source": [
    "1. why would \"Consumption_KW\" be zero?\n",
    "    - KW and KWH should be both positive, unless there are some related bills that already covers it\n",
    "    - Maybe one account was separated into multiple meters?\n",
    "2. What's the \"Other Charges\"?\n",
    "    - negative values to adjust for the payments from previous month\n",
    "    - taxes, fee for meter-reading, little fees charged by utilities and states (e.g. system benefit charge), credit (state got a better deal after charging the clients)"
   ]
  },
  {
   "cell_type": "markdown",
   "metadata": {},
   "source": [
    "## To Do:"
   ]
  },
  {
   "cell_type": "markdown",
   "metadata": {},
   "source": [
    "1. Statistical & Graphical Analysis on the combined datasets\n",
    "2. Summarize all types of entries that doesn't make sense; flag and ignore them\n",
    "   - Cases where other == kw and kwh == 0, why?\n",
    "   - Cases where other == current and (kw!=0 or kwh != 0)\n",
    "   - Negative values in KWH, KW\n",
    "   - Inconsistency between consumption & charges\n",
    "   - KW charge is offset by negative \"other charge\" (16.7%)\n",
    "   - Meter accounts that only have non-zero values in either KW (0.8%) or KWH (16.9%) charges\n",
    "3. Calendarize the bills (calculate avg. daily cost and consumption and multiple by # of days) All analyses on missing data and gaps should be based on calendarized bills\n",
    "4. Starting from 2015, does data quality get better? less meters are missing data? (Government required companies to submit utility data since that time)\n",
    "5. January are more likely to miss data. Why? Check if that's true. \n",
    "6. Check the distribution of % of accounts with gaps days == 3, May 2010 and May 2010 have really high %...\n",
    "6. Check the relationship between Building_ID and Account_Name. Are they 1-on-1 mapping?\n",
    "6. Check anomalies in the following order\n",
    "    - KWH (consumption) .. only compare where there are months of data (ignore the gap month), or we can also use usage per day and then exclude the days with no consumption(instead of using the pro-rated value)\n",
    "    - KWH_Charges\n",
    "    - KW (capacity) consumption and charges (difference in daytime vs. nighttime, summer vs. winter, whole summer is at capacity, we will have really high charges for summer capacity use) (Later Metrics defined below)"
   ]
  },
  {
   "cell_type": "markdown",
   "metadata": {},
   "source": [
    "####  Metrics to consider later"
   ]
  },
  {
   "cell_type": "markdown",
   "metadata": {},
   "source": [
    "1) total capacity (kW) for all the meters for the month (building level aggregate)\n",
    "\n",
    "2) Max kW value for the month (both building level and account level)\n",
    "\n",
    "3) Max kW for each meter for the previous 12 months\n",
    "\n",
    "4) Sum of the Max kW for each individual meter\n",
    "\n",
    "5) The variance of Total Charge (sum of KWH_charge and KW_charge) at both account level and building level"
   ]
  },
  {
   "cell_type": "code",
   "execution_count": null,
   "metadata": {
    "collapsed": true
   },
   "outputs": [],
   "source": []
  },
  {
   "cell_type": "markdown",
   "metadata": {},
   "source": [
    "#### Edge case examples"
   ]
  },
  {
   "cell_type": "markdown",
   "metadata": {},
   "source": [
    "##### 1. Check where df_combined_meter['Total_Charges'] < 0 or df_combined_meter['Consumption_KWH'] == 0"
   ]
  },
  {
   "cell_type": "code",
   "execution_count": null,
   "metadata": {
    "collapsed": true
   },
   "outputs": [],
   "source": [
    "mask = (df_combined_meter['Consumption_KWH'] > 0) & (df_combined_meter['Total_Charges'] > 0)\n",
    "\n",
    "mask = df_combined_meter['Consumption_KWH'] > 0\n",
    "temp = df_combined_meter[mask].groupby(['Revenue_Month']).agg({\\\n",
    "        'Total_Charges':'mean', 'Total_Energy_Rate': 'mean', 'KWH_Charges':'mean', 'KW_Charges':'mean'}).reset_index()\n",
    "\n",
    "temp.columns = ['Revenue_Month', 'Total_Charges', 'Total_Energy_Rate', 'KWH_Charges', 'KW_Charges']\n",
    "\n",
    "temp = temp.sort_values('Revenue_Month')"
   ]
  },
  {
   "cell_type": "markdown",
   "metadata": {},
   "source": [
    "#### 2. Check where other_charges is not zero, but all other metrics are zero"
   ]
  },
  {
   "cell_type": "code",
   "execution_count": null,
   "metadata": {},
   "outputs": [],
   "source": [
    "df[(df['Other_Charges'] != 0) & (df['Current_Charges'] == df['Other_Charges']) & (~((df['KWH_Charges'] == 0) & (df['KW_Charges'] == 0) \\\n",
    "  & (df['Consumption_KWH'] == 0) & (df['Consumption_KW'] == 0)))]"
   ]
  }
 ],
 "metadata": {
  "kernelspec": {
   "display_name": "Python 3",
   "language": "python",
   "name": "python3"
  },
  "language_info": {
   "codemirror_mode": {
    "name": "ipython",
    "version": 3
   },
   "file_extension": ".py",
   "mimetype": "text/x-python",
   "name": "python",
   "nbconvert_exporter": "python",
   "pygments_lexer": "ipython3",
   "version": "3.6.2"
  }
 },
 "nbformat": 4,
 "nbformat_minor": 2
}
