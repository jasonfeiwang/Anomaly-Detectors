{
 "cells": [
  {
   "cell_type": "markdown",
   "metadata": {},
   "source": [
    "## Objectives"
   ]
  },
  {
   "cell_type": "markdown",
   "metadata": {},
   "source": [
    "This notebook details the process to detect outliers in multiple time series data using the time series decomposition method.\n",
    "- Input: a csv file that contains three columns: Account (account id), Month (calendar month), Value (numerical column to detect outliers from)"
   ]
  },
  {
   "cell_type": "markdown",
   "metadata": {},
   "source": [
    "## Load packages"
   ]
  },
  {
   "cell_type": "code",
   "execution_count": 1,
   "metadata": {
    "collapsed": true
   },
   "outputs": [
    {
     "name": "stderr",
     "output_type": "stream",
     "text": [
      "── Attaching packages ─────────────────────────────────────── tidyverse 1.2.1 ──\n",
      "✔ ggplot2 3.1.0     ✔ purrr   0.2.5\n",
      "✔ tibble  2.0.1     ✔ dplyr   0.7.8\n",
      "✔ tidyr   0.8.2     ✔ stringr 1.3.1\n",
      "✔ readr   1.3.1     ✔ forcats 0.3.0\n",
      "── Conflicts ────────────────────────────────────────── tidyverse_conflicts() ──\n",
      "✖ dplyr::filter() masks stats::filter()\n",
      "✖ dplyr::lag()    masks stats::lag()\n"
     ]
    }
   ],
   "source": [
    "library(tidyverse)\n",
    "library(anomalize)\n",
    "library(ggQC)"
   ]
  },
  {
   "cell_type": "markdown",
   "metadata": {},
   "source": [
    "## Read in dataset"
   ]
  },
  {
   "cell_type": "code",
   "execution_count": 2,
   "metadata": {
    "collapsed": true
   },
   "outputs": [
    {
     "name": "stderr",
     "output_type": "stream",
     "text": [
      "Warning message:\n",
      "“Missing column names filled in: 'X1' [1]”Parsed with column specification:\n",
      "cols(\n",
      "  X1 = col_double(),\n",
      "  Account = col_character(),\n",
      "  Month = col_date(format = \"\"),\n",
      "  Value = col_double()\n",
      ")\n"
     ]
    }
   ],
   "source": [
    "# read in the csv file which contains the prorated and imputed KWH_Consumption data for NYCHA accounts\n",
    "tb_all = read_csv(\"../output/NYCHA_TS.csv\")\n",
    "\n",
    "# filter out unnecessary columns\n",
    "tb_all = select(tb_all, c('Account', 'Month', 'Value'))"
   ]
  },
  {
   "cell_type": "markdown",
   "metadata": {},
   "source": [
    "### Get the list of accounts in the input file"
   ]
  },
  {
   "cell_type": "code",
   "execution_count": 3,
   "metadata": {},
   "outputs": [],
   "source": [
    "accounts = tb_all %>% group_by(Account) \n",
    "accounts <- accounts %>% summarise(counts = n(), na_counts = sum(is.na(Value)))\n",
    "accounts <- mutate(accounts, na_perc = na_counts/counts)"
   ]
  },
  {
   "cell_type": "markdown",
   "metadata": {},
   "source": [
    "### Fill the missing values in the \"Value\" column with 0"
   ]
  },
  {
   "cell_type": "code",
   "execution_count": 4,
   "metadata": {},
   "outputs": [],
   "source": [
    "tb_all <- mutate(tb_all, Value = ifelse(is.na(Value), 0, Value))"
   ]
  },
  {
   "cell_type": "markdown",
   "metadata": {},
   "source": [
    "### Define a function to calculate the deviation of a residual from the limit values"
   ]
  },
  {
   "cell_type": "code",
   "execution_count": 5,
   "metadata": {},
   "outputs": [],
   "source": [
    "cal_dev <- function(residual, upper, lower) {\n",
    "  if (residual < lower) {\n",
    "    return(lower - residual)\n",
    "  } else if (residual > upper) {\n",
    "    return(residual - upper)\n",
    "  } else {\n",
    "    return (NA)\n",
    "  }\n",
    "}"
   ]
  },
  {
   "cell_type": "code",
   "execution_count": null,
   "metadata": {},
   "outputs": [],
   "source": [
    "ts = select(filter(tb_all, Account == accounts$Account[[i]]), 'Month', 'Value')\n",
    "\n",
    "# apply STL decomposition\n",
    "ts_anomalized <- ts %>%\n",
    "    time_decompose(Value, merge = TRUE, method = 'stl')\n",
    "\n",
    "# rename and reorder the columns of the resulting dataframe\n",
    "ts_anomalized$Account = accounts$Account[[i]]\n",
    "ts_anomalized$Missing_Value = ts_anomalized$Value == 0\n",
    "ts_anomalized <- rename(ts_anomalized, Calendar_Month = Month, Total = Value, Trend = trend, Seasonal = season\n",
    "   , Residual = remainder)\n",
    "ts_anomalized <- ts_anomalized[, c('Account', 'Calendar_Month', 'Missing_Value', 'Total', 'Trend', 'Seasonal', 'Residual')]\n",
    "\n",
    "\n",
    "# Calculate residuals\n",
    "iqr_3X <- ts_anomalized %>%\n",
    "        anomalize(Residual, method = 'iqr', alpha = 0.05)\n",
    "\n",
    "iqr_3X <- iqr_3X[, c('Account', 'Calendar_Month', 'Residual', 'Residual_l1', 'Residual_l2', 'anomaly')]\n",
    "iqr_3X <- rename(iqr_3X, Lower = Residual_l1, Upper = Residual_l2, Anomaly = anomaly)\n",
    "iqr_3X <- mutate(iqr_3X, Anomaly = ifelse(Anomaly == \"Yes\", TRUE, FALSE))\n",
    "\n",
    "iqr_6X <- ts_anomalized %>%\n",
    "        anomalize(Residual, method = 'iqr', alpha = 0.025)\n",
    "\n",
    "iqr_6X <- iqr_6X[, c('Account', 'Calendar_Month', 'Residual', 'Residual_l1', 'Residual_l2', 'anomaly')]\n",
    "iqr_6X <- rename(iqr_6X, Lower = Residual_l1, Upper = Residual_l2, Anomaly = anomaly)\n",
    "iqr_6X <- mutate(iqr_6X, Anomaly = ifelse(Anomaly == \"Yes\", TRUE, FALSE))\n",
    "\n",
    "ctrl_limits <- QC_Lines(data = ts_anomalized$Residual, method = \"XmR\")  \n",
    "ctrl_limits <- ctrl_limits[, c('xBar_one_LCL', 'xBar_one_UCL')]\n",
    "ctrl_limits <- rename(ctrl_limits, Lower= xBar_one_LCL, Upper = xBar_one_UCL)\n",
    "xmr_mean <- cbind(ts_anomalized[, c('Account', 'Calendar_Month', 'Residual')], ctrl_limits)\n",
    "\n",
    "\n",
    "# Add deviation from limit, rank of outlier and outlier indicator (for XmR only)\n",
    "iqr_3X$Dev <- mapply(cal_dev, iqr_3X$Residual, iqr_3X$Upper, iqr_3X$Lower)\n",
    "iqr_3X <- arrange(iqr_3X, desc(Dev))\n",
    "iqr_3X$Rank = seq(1:nrow(iqr_3X))\n",
    "iqr_3X[is.na(iqr_3X$Dev), ]$Rank <- NA\n",
    "\n",
    "iqr_6X$Dev <- mapply(cal_dev, iqr_6X$Residual, iqr_6X$Upper, iqr_6X$Lower)\n",
    "iqr_6X <- arrange(iqr_6X, desc(Dev))\n",
    "iqr_6X$Rank = seq(1:nrow(iqr_6X))\n",
    "iqr_6X[is.na(iqr_6X$Dev), ]$Rank <- NA\n",
    "\n",
    "xmr_mean$Dev <- mapply(cal_dev, xmr_mean$Residual, xmr_mean$Upper, xmr_mean$Lower)\n",
    "xmr_mean <- arrange(xmr_mean, desc(Dev))\n",
    "xmr_mean$Rank = seq(1:nrow(xmr_mean))\n",
    "xmr_mean[is.na(xmr_mean$Dev), ]$Rank <- NA\n",
    "xmr_mean <- mutate(xmr_mean, Anomaly = ifelse(is.na(Dev), FALSE, TRUE))\n",
    "\n",
    "\n",
    "# rename the columns\n",
    "iqr_3X <- rename(iqr_3X, Lower_3X = Lower, Upper_3X = Upper, Anomaly_3X = Anomaly, Dev_3X = Dev, Rank_3X = Rank)\n",
    "iqr_6X <- rename(iqr_6X, Lower_6X = Lower, Upper_6X = Upper, Anomaly_6X = Anomaly, Dev_6X = Dev, Rank_6X = Rank)\n",
    "xmr_mean <- rename(xmr_mean, Lower_xmr = Lower, Upper_xmr = Upper, Anomaly_xmr = Anomaly, Dev_xmr = Dev, Rank_xmr = Rank)\n",
    "\n",
    "\n",
    "# Combine the results of 3 methods\n",
    "result <- \n",
    "ts_anomalized[c('Account', 'Calendar_Month', 'Missing_Value', 'Total', 'Trend', 'Seasonal', 'Residual')] %>% \n",
    "    inner_join(iqr_3X[, -3], by = c('Account', 'Calendar_Month')) %>%\n",
    "    inner_join(iqr_6X[, -3], by = c('Account', 'Calendar_Month')) %>%\n",
    "    inner_join(xmr_mean[, -3], by = c('Account', 'Calendar_Month')) \n",
    "\n",
    "# considered as an outlier if \n",
    "#     1) STL_6X outputs it as an outliers OR\n",
    "#     2) STL_6X outputs it as a normal point but both other two methods output it as an outlier\n",
    "result <- mutate(result\n",
    "    , Anomaly_Voted = ifelse(((Anomaly_6X == TRUE) | ((Anomaly_6X == FALSE) & (Anomaly_xmr == TRUE & Anomaly_3X == TRUE))), TRUE, FALSE)\n",
    ")\n",
    "\n",
    "# weighted rank of the outlier\n",
    "results_stl[[i]] <- \n",
    "    mutate(result, Rank_Weighted = ifelse(is.na(Rank_6X), (Rank_3X + Rank_xmr)/2, Rank_6X))\n",
    "\n"
   ]
  },
  {
   "cell_type": "markdown",
   "metadata": {},
   "source": [
    "## Check the outliers"
   ]
  },
  {
   "cell_type": "markdown",
   "metadata": {},
   "source": [
    "### Find the index of a given account"
   ]
  },
  {
   "cell_type": "code",
   "execution_count": null,
   "metadata": {},
   "outputs": [],
   "source": [
    "account = '1.0 - BLD 03_7177432'\n",
    "i = match(account, accounts$Account)"
   ]
  },
  {
   "cell_type": "code",
   "execution_count": null,
   "metadata": {},
   "outputs": [],
   "source": [
    "# check the outliers identified for the given account\n",
    "arrange(select(filter(results_stl[[i]], Anomaly_Voted == TRUE)\n",
    "       , c('Account', 'Calendar_Month', 'Missing_Value', 'Total', 'Trend', 'Seasonal', 'Residual', 'Anomaly_3X'\n",
    "          , 'Anomaly_6X', 'Anomaly_xmr', 'Anomaly_Voted', 'Rank_Weighted'))\n",
    "       , Rank_Weighted)"
   ]
  },
  {
   "cell_type": "code",
   "execution_count": null,
   "metadata": {},
   "outputs": [],
   "source": [
    "arrange(select(filter(results_stl[[i]], Anomaly_Voted == TRUE)\n",
    "       , c('Account', 'Calendar_Month', 'Total', 'Anomaly_Voted', 'Rank_Weighted'))\n",
    "       , Rank_Weighted)"
   ]
  },
  {
   "cell_type": "markdown",
   "metadata": {},
   "source": [
    "## Visualize the outliers"
   ]
  },
  {
   "cell_type": "markdown",
   "metadata": {},
   "source": [
    "### XmR charts"
   ]
  },
  {
   "cell_type": "code",
   "execution_count": null,
   "metadata": {},
   "outputs": [],
   "source": [
    "x_Plot <- ggplot(results_stl[[i]], aes(x = Calendar_Month, y = Residual)) + geom_point() + geom_line() + \n",
    "  stat_QC(method = 'XmR', auto.label = T, label.digits = 2, show.1n2.sigma = F) \n",
    "\n",
    "mR_Plot <- ggplot(results_stl[[i]], aes(x = Calendar_Month, y = Residual)) + stat_mR() + stat_QC_labels(method=\"mR\")\n",
    "\n",
    "grid.arrange(x_Plot, mR_Plot, nrow=2)"
   ]
  },
  {
   "cell_type": "markdown",
   "metadata": {},
   "source": [
    "### IQR 3X"
   ]
  },
  {
   "cell_type": "markdown",
   "metadata": {},
   "source": [
    "#### plotting configuration for the flagged anomalies"
   ]
  },
  {
   "cell_type": "code",
   "execution_count": null,
   "metadata": {},
   "outputs": [],
   "source": [
    "# ploting function for anomaly plots\n",
    "ggsetup <- function(data) {\n",
    "    data %>%\n",
    "        ggplot(aes(rank, value, color = outlier)) +\n",
    "        geom_point() +\n",
    "        geom_line(aes(y = limit_upper), color = \"red\", linetype = 2) +\n",
    "        geom_line(aes(y = limit_lower), color = \"red\", linetype = 2) +\n",
    "        geom_text(aes(label = index), vjust = -1.25) +\n",
    "        theme_bw() +\n",
    "        scale_color_manual(values = c(\"No\" = \"#2c3e50\", \"Yes\" = \"#e31a1c\")) +\n",
    "        expand_limits(y = 13) +\n",
    "        theme(legend.position = \"bottom\")\n",
    "}"
   ]
  },
  {
   "cell_type": "code",
   "execution_count": null,
   "metadata": {},
   "outputs": [],
   "source": [
    "outliers <- iqr(results_stl[[i]]$Residual, verbose = TRUE, alpha = 0.05)$outlier_report\n",
    "outliers %>% \n",
    "    ggsetup() +\n",
    "    ggtitle(\"Interquartile Range Method (3X IQR) - Top outlers sorted by rank\") "
   ]
  },
  {
   "cell_type": "markdown",
   "metadata": {},
   "source": [
    "### IQR 6X"
   ]
  },
  {
   "cell_type": "code",
   "execution_count": null,
   "metadata": {},
   "outputs": [],
   "source": [
    "outliers <- iqr(results_stl[[i]]$Residual, verbose = TRUE, alpha = 0.025)$outlier_report\n",
    "outliers %>% \n",
    "    ggsetup() +\n",
    "    ggtitle(\"Interquartile Range Method (6X IQR) - Top outlers sorted by rank\") "
   ]
  },
  {
   "cell_type": "markdown",
   "metadata": {},
   "source": [
    "## Summarize the outliers detected in all accounts"
   ]
  },
  {
   "cell_type": "code",
   "execution_count": null,
   "metadata": {},
   "outputs": [],
   "source": [
    "points = lapply(results_stl, function(i) nrow(i))\n",
    "anoamly_counts = lapply(results_stl, function(i) nrow(filter(i, Anomaly_Voted == TRUE)))\n",
    "na_counts = lapply(results_stl, function(i) nrow(filter(i, Missing_Value == TRUE)))\n",
    "anomaly_non_na_counts = lapply(results_stl, function(i) nrow(filter(i, (Anomaly_Voted == TRUE) & (Missing_Value == FALSE))))\n",
    "anomaly_na_counts = lapply(results_stl, function(i) nrow(filter(i, (Anomaly_Voted == TRUE) & (Missing_Value == TRUE))))\n",
    "na_non_anomaly_counts = lapply(results_stl, function(i) nrow(filter(i, (Anomaly_Voted == FALSE) & (Missing_Value == TRUE))))\n",
    "\n",
    "summary_stl = tibble('account' = accounts$Account, 'points' = unlist(points)\n",
    "                     , 'na' = unlist(na_counts)\n",
    "                     , 'anomalies' = unlist(anoamly_counts), 'anomalies_non_na' = unlist(anomaly_non_na_counts)\n",
    "                     , 'anomalies_na' = unlist(anomaly_na_counts)\n",
    "                     , 'na_non_anomaly' = unlist(na_non_anomaly_counts)\n",
    "                    )"
   ]
  },
  {
   "cell_type": "code",
   "execution_count": null,
   "metadata": {},
   "outputs": [],
   "source": [
    "summary_stl <- mutate(summary_stl, na_perc = na/points)\n",
    "summary_stl = mutate(summary_stl, anom_perc = anomalies_non_na /(points))\n",
    "summary_stl = mutate(summary_stl, na_recall = anomalies_na /(na))\n",
    "summary(summary_stl$anom_perc)"
   ]
  },
  {
   "cell_type": "code",
   "execution_count": null,
   "metadata": {
    "scrolled": true
   },
   "outputs": [],
   "source": [
    "head(summary_stl)"
   ]
  },
  {
   "cell_type": "code",
   "execution_count": null,
   "metadata": {},
   "outputs": [],
   "source": [
    "hist(summary_stl$anom_perc * 100,\n",
    "      main=\"Frequency count of % of anomalies, Decomposition\",\n",
    "      xlab=\"% of anomalies detected\",\n",
    "      ylab=\"Absolute frequency\",\n",
    "#       breaks=100,\n",
    "      col=\"lightblue\",\n",
    "      freq=TRUE,                            # freq=FALSE means to plot density, not counts\n",
    "      xaxt=\"n\")                              # xaxt=\"n\" means \"x axis tick marks == no\"\n",
    "axis(side=1, at=seq(0, 50, by = 1))                        "
   ]
  }
 ],
 "metadata": {
  "kernelspec": {
   "display_name": "R",
   "language": "R",
   "name": "ir"
  },
  "language_info": {
   "codemirror_mode": "r",
   "file_extension": ".r",
   "mimetype": "text/x-r-source",
   "name": "R",
   "pygments_lexer": "r",
   "version": "3.5.2"
  }
 },
 "nbformat": 4,
 "nbformat_minor": 2
}
