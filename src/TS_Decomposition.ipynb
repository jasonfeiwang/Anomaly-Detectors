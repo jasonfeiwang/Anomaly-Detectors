{
 "cells": [
  {
   "cell_type": "markdown",
   "metadata": {},
   "source": [
    "Conclusion:\n",
    "- The stldecompose package assigns more variations of the time series to the residual part than the statsmodels.tra module. Therefore it's easier to detect the anomalies using the stldecompose package.\n",
    "- To apply STL decomposition, we need at least data in 12 consecutive months.\n"
   ]
  },
  {
   "cell_type": "code",
   "execution_count": null,
   "metadata": {},
   "outputs": [],
   "source": []
  },
  {
   "cell_type": "markdown",
   "metadata": {},
   "source": [
    "Questions/To-Do's:\n",
    "- how to systematically detect outliers in residuals for each ts? - For Loop over all meters with enough months of data\n",
    "- what about series with lots of missing data? Ignore for now\n",
    "- The Python package of Twitter Anomaly Detection algorithm is incorrect. Need to modify the seasonal_esd function; also it only returns anomaly indices, not the residual/seasonality components; seems can't detect the first anomaly in the 2nd example of account \"164.0 - BLD 01_96973681\"\n",
    "- STL decomposition can't detect level changes (I tested this with fake level change) - How to detect the \"level changes\" in all accounts?"
   ]
  },
  {
   "cell_type": "code",
   "execution_count": null,
   "metadata": {},
   "outputs": [],
   "source": []
  },
  {
   "cell_type": "markdown",
   "metadata": {},
   "source": [
    "## Import modules and the dataset"
   ]
  },
  {
   "cell_type": "code",
   "execution_count": 2,
   "metadata": {},
   "outputs": [],
   "source": [
    "import pandas as pd\n",
    "import numpy as np\n",
    "from statsmodels.tsa.seasonal import seasonal_decompose\n",
    "\n",
    "from matplotlib import pyplot\n",
    "import matplotlib.pylab as plt"
   ]
  },
  {
   "cell_type": "code",
   "execution_count": 3,
   "metadata": {},
   "outputs": [],
   "source": [
    "df = pd.read_pickle(\"../output/NYCHA_Electricity_2010_to_2018_df_prorated_kwh_imputed\")"
   ]
  },
  {
   "cell_type": "markdown",
   "metadata": {},
   "source": [
    "## Find the accounts with low percentage of missing data"
   ]
  },
  {
   "cell_type": "code",
   "execution_count": null,
   "metadata": {},
   "outputs": [],
   "source": [
    "max(df.Month)"
   ]
  },
  {
   "cell_type": "code",
   "execution_count": null,
   "metadata": {},
   "outputs": [],
   "source": [
    "mask = df['Month'] >= '2012-06-01 00:00:00'"
   ]
  },
  {
   "cell_type": "code",
   "execution_count": null,
   "metadata": {},
   "outputs": [],
   "source": [
    "df_back = df.copy()"
   ]
  },
  {
   "cell_type": "code",
   "execution_count": null,
   "metadata": {},
   "outputs": [],
   "source": [
    "df = df[mask]"
   ]
  },
  {
   "cell_type": "code",
   "execution_count": 4,
   "metadata": {},
   "outputs": [],
   "source": [
    "df_account_type = \\\n",
    "pd.merge(df.groupby('Building_Meter').agg({'Month':'count'}).reset_index(), \\\n",
    "df[df['Gap_Type'] != 'Full Month Gap'].groupby('Building_Meter').agg({'Month':'count'}).reset_index(), \\\n",
    "on = 'Building_Meter', how = 'inner')\n",
    "\n",
    "df_account_type.columns = ['Building_Meter', 'Months_Total', 'Months_With_Data']\n",
    "\n",
    "df_account_type['Perc_Months_With_Data'] = df_account_type['Months_With_Data'] / df_account_type['Months_Total']"
   ]
  },
  {
   "cell_type": "markdown",
   "metadata": {},
   "source": [
    "1,119 accounts have no missing data in the last 6 years."
   ]
  },
  {
   "cell_type": "code",
   "execution_count": 5,
   "metadata": {
    "collapsed": true
   },
   "outputs": [
    {
     "data": {
      "text/plain": [
       "1.000000    1133\n",
       "0.990291     121\n",
       "0.990196      16\n",
       "0.990099      13\n",
       "0.990000      13\n",
       "0.989899       1\n",
       "0.989796       1\n",
       "0.989691       1\n",
       "0.989583      15\n",
       "0.989474       1\n",
       "0.988636      22\n",
       "0.987805       1\n",
       "0.987654      31\n",
       "0.986486       1\n",
       "0.986301       1\n",
       "0.986111       1\n",
       "0.985915       1\n",
       "0.985714       3\n",
       "0.985294       2\n",
       "0.985075       5\n",
       "0.984615       1\n",
       "0.984375       1\n",
       "0.983607       3\n",
       "0.983051      13\n",
       "0.982759       2\n",
       "0.982456       1\n",
       "0.980769       2\n",
       "0.980583      77\n",
       "0.980392      17\n",
       "0.980198      11\n",
       "            ... \n",
       "0.380952       2\n",
       "0.371429       1\n",
       "0.363636       7\n",
       "0.352941       1\n",
       "0.351351       2\n",
       "0.333333       1\n",
       "0.326087       1\n",
       "0.324324       4\n",
       "0.323529       2\n",
       "0.311111       1\n",
       "0.297297       2\n",
       "0.285714       1\n",
       "0.280000       1\n",
       "0.270270       4\n",
       "0.266667       1\n",
       "0.264706       1\n",
       "0.261905       1\n",
       "0.260870       1\n",
       "0.260000       2\n",
       "0.259259       1\n",
       "0.240000       3\n",
       "0.224490       1\n",
       "0.220000       5\n",
       "0.205128       1\n",
       "0.200000       3\n",
       "0.153846       1\n",
       "0.148148       1\n",
       "0.140000       2\n",
       "0.111111       1\n",
       "0.080000       1\n",
       "Name: Perc_Months_With_Data, Length: 382, dtype: int64"
      ]
     },
     "execution_count": 5,
     "metadata": {},
     "output_type": "execute_result"
    }
   ],
   "source": [
    "df_account_type['Perc_Months_With_Data'].value_counts().sort_index(ascending = False)"
   ]
  },
  {
   "cell_type": "code",
   "execution_count": 6,
   "metadata": {},
   "outputs": [
    {
     "data": {
      "text/plain": [
       "<matplotlib.axes._subplots.AxesSubplot at 0x1c24730ef0>"
      ]
     },
     "execution_count": 6,
     "metadata": {},
     "output_type": "execute_result"
    },
    {
     "data": {
      "image/png": "[encoded data removed]",
      "text/plain": [
       "<Figure size 432x288 with 1 Axes>"
      ]
     },
     "metadata": {
      "needs_background": "light"
     },
     "output_type": "display_data"
    }
   ],
   "source": [
    "df_account_type['Perc_Months_With_Data'].hist(bins = 90)"
   ]
  },
  {
   "cell_type": "code",
   "execution_count": 7,
   "metadata": {},
   "outputs": [
    {
     "data": {
      "text/html": [
       "<div>\n",
       "<style scoped>\n",
       "    .dataframe tbody tr th:only-of-type {\n",
       "        vertical-align: middle;\n",
       "    }\n",
       "\n",
       "    .dataframe tbody tr th {\n",
       "        vertical-align: top;\n",
       "    }\n",
       "\n",
       "    .dataframe thead th {\n",
       "        text-align: right;\n",
       "    }\n",
       "</style>\n",
       "<table border=\"1\" class=\"dataframe\">\n",
       "  <thead>\n",
       "    <tr style=\"text-align: right;\">\n",
       "      <th></th>\n",
       "      <th>Building_Meter</th>\n",
       "      <th>Months_Total</th>\n",
       "      <th>Months_With_Data</th>\n",
       "      <th>Perc_Months_With_Data</th>\n",
       "    </tr>\n",
       "  </thead>\n",
       "  <tbody>\n",
       "    <tr>\n",
       "      <th>0</th>\n",
       "      <td>1.0 - BLD 01_7836716</td>\n",
       "      <td>103</td>\n",
       "      <td>90</td>\n",
       "      <td>0.873786</td>\n",
       "    </tr>\n",
       "    <tr>\n",
       "      <th>1</th>\n",
       "      <td>1.0 - BLD 01_7838586</td>\n",
       "      <td>103</td>\n",
       "      <td>87</td>\n",
       "      <td>0.844660</td>\n",
       "    </tr>\n",
       "    <tr>\n",
       "      <th>2</th>\n",
       "      <td>1.0 - BLD 02_7694040</td>\n",
       "      <td>103</td>\n",
       "      <td>90</td>\n",
       "      <td>0.873786</td>\n",
       "    </tr>\n",
       "    <tr>\n",
       "      <th>3</th>\n",
       "      <td>1.0 - BLD 03_7177432</td>\n",
       "      <td>103</td>\n",
       "      <td>89</td>\n",
       "      <td>0.864078</td>\n",
       "    </tr>\n",
       "    <tr>\n",
       "      <th>4</th>\n",
       "      <td>1.0 - BLD 04_7381828</td>\n",
       "      <td>103</td>\n",
       "      <td>90</td>\n",
       "      <td>0.873786</td>\n",
       "    </tr>\n",
       "  </tbody>\n",
       "</table>\n",
       "</div>"
      ],
      "text/plain": [
       "         Building_Meter  Months_Total  Months_With_Data  Perc_Months_With_Data\n",
       "0  1.0 - BLD 01_7836716           103                90               0.873786\n",
       "1  1.0 - BLD 01_7838586           103                87               0.844660\n",
       "2  1.0 - BLD 02_7694040           103                90               0.873786\n",
       "3  1.0 - BLD 03_7177432           103                89               0.864078\n",
       "4  1.0 - BLD 04_7381828           103                90               0.873786"
      ]
     },
     "execution_count": 7,
     "metadata": {},
     "output_type": "execute_result"
    }
   ],
   "source": [
    "df_account_type.head()"
   ]
  },
  {
   "cell_type": "code",
   "execution_count": 8,
   "metadata": {
    "scrolled": true
   },
   "outputs": [
    {
     "data": {
      "text/html": [
       "<div>\n",
       "<style scoped>\n",
       "    .dataframe tbody tr th:only-of-type {\n",
       "        vertical-align: middle;\n",
       "    }\n",
       "\n",
       "    .dataframe tbody tr th {\n",
       "        vertical-align: top;\n",
       "    }\n",
       "\n",
       "    .dataframe thead th {\n",
       "        text-align: right;\n",
       "    }\n",
       "</style>\n",
       "<table border=\"1\" class=\"dataframe\">\n",
       "  <thead>\n",
       "    <tr style=\"text-align: right;\">\n",
       "      <th></th>\n",
       "      <th>Perc_Months_With_Data</th>\n",
       "    </tr>\n",
       "  </thead>\n",
       "  <tbody>\n",
       "    <tr>\n",
       "      <th>mean</th>\n",
       "      <td>0.928082</td>\n",
       "    </tr>\n",
       "    <tr>\n",
       "      <th>std</th>\n",
       "      <td>0.120928</td>\n",
       "    </tr>\n",
       "  </tbody>\n",
       "</table>\n",
       "</div>"
      ],
      "text/plain": [
       "      Perc_Months_With_Data\n",
       "mean               0.928082\n",
       "std                0.120928"
      ]
     },
     "execution_count": 8,
     "metadata": {},
     "output_type": "execute_result"
    }
   ],
   "source": [
    "df_account_type[df_account_type['Months_Total'] == 73][['Perc_Months_With_Data']].describe().loc[['mean', 'std']]"
   ]
  },
  {
   "cell_type": "markdown",
   "metadata": {},
   "source": [
    "Focus on accounts that should have data in the most recent 6 years and % of missing months is low."
   ]
  },
  {
   "cell_type": "code",
   "execution_count": 10,
   "metadata": {},
   "outputs": [
    {
     "ename": "NameError",
     "evalue": "name 'df_back' is not defined",
     "output_type": "error",
     "traceback": [
      "\u001b[0;31m---------------------------------------------------------------------------\u001b[0m",
      "\u001b[0;31mNameError\u001b[0m                                 Traceback (most recent call last)",
      "\u001b[0;32m<ipython-input-10-6a688b3ddc69>\u001b[0m in \u001b[0;36m<module>\u001b[0;34m\u001b[0m\n\u001b[0;32m----> 1\u001b[0;31m mask = df_back['Building_Meter'].isin(\\\n\u001b[0m\u001b[1;32m      2\u001b[0m df_account_type[(df_account_type['Months_Total'] == 73) & (df_account_type['Perc_Months_With_Data'] > 0.974068 - 0.047920)].Building_Meter.values)\n",
      "\u001b[0;31mNameError\u001b[0m: name 'df_back' is not defined"
     ]
    }
   ],
   "source": [
    "mask = df_back['Building_Meter'].isin(\\\n",
    "df_account_type[(df_account_type['Months_Total'] == 73) & (df_account_type['Perc_Months_With_Data'] > 0.974068 - 0.047920)].Building_Meter.values)"
   ]
  },
  {
   "cell_type": "markdown",
   "metadata": {},
   "source": [
    "There are 941 such accounts in total."
   ]
  },
  {
   "cell_type": "code",
   "execution_count": null,
   "metadata": {},
   "outputs": [],
   "source": [
    "df = df_back[mask]"
   ]
  },
  {
   "cell_type": "code",
   "execution_count": null,
   "metadata": {},
   "outputs": [],
   "source": [
    "df.Building_Meter.nunique()"
   ]
  },
  {
   "cell_type": "code",
   "execution_count": null,
   "metadata": {},
   "outputs": [],
   "source": [
    "df.head()"
   ]
  },
  {
   "cell_type": "code",
   "execution_count": 21,
   "metadata": {},
   "outputs": [],
   "source": [
    "df.to_csv(\"../output/NYCHA_TS.csv\")"
   ]
  },
  {
   "cell_type": "code",
   "execution_count": 20,
   "metadata": {},
   "outputs": [
    {
     "data": {
      "text/plain": [
       "'/Users/feiwang/Desktop/capstone/anomalyDetectors/src'"
      ]
     },
     "execution_count": 20,
     "metadata": {},
     "output_type": "execute_result"
    }
   ],
   "source": [
    "pwd"
   ]
  },
  {
   "cell_type": "code",
   "execution_count": null,
   "metadata": {},
   "outputs": [],
   "source": []
  },
  {
   "cell_type": "code",
   "execution_count": 19,
   "metadata": {},
   "outputs": [
    {
     "data": {
      "text/html": [
       "<div>\n",
       "<style scoped>\n",
       "    .dataframe tbody tr th:only-of-type {\n",
       "        vertical-align: middle;\n",
       "    }\n",
       "\n",
       "    .dataframe tbody tr th {\n",
       "        vertical-align: top;\n",
       "    }\n",
       "\n",
       "    .dataframe thead th {\n",
       "        text-align: right;\n",
       "    }\n",
       "</style>\n",
       "<table border=\"1\" class=\"dataframe\">\n",
       "  <thead>\n",
       "    <tr style=\"text-align: right;\">\n",
       "      <th></th>\n",
       "      <th>Building_Meter</th>\n",
       "      <th>Month</th>\n",
       "      <th>Month_Type</th>\n",
       "      <th>Month_#_Days</th>\n",
       "      <th>Prorated_Days</th>\n",
       "      <th>Gap_Days</th>\n",
       "      <th>Gap_Type</th>\n",
       "      <th>Prorated_KWH</th>\n",
       "      <th>Imputed_KWH</th>\n",
       "    </tr>\n",
       "  </thead>\n",
       "  <tbody>\n",
       "  </tbody>\n",
       "</table>\n",
       "</div>"
      ],
      "text/plain": [
       "Empty DataFrame\n",
       "Columns: [Building_Meter, Month, Month_Type, Month_#_Days, Prorated_Days, Gap_Days, Gap_Type, Prorated_KWH, Imputed_KWH]\n",
       "Index: []"
      ]
     },
     "execution_count": 19,
     "metadata": {},
     "output_type": "execute_result"
    }
   ],
   "source": [
    "df[df['Building_Meter'] == '10.0 - NA_1864552']"
   ]
  },
  {
   "cell_type": "code",
   "execution_count": null,
   "metadata": {},
   "outputs": [],
   "source": []
  },
  {
   "cell_type": "code",
   "execution_count": null,
   "metadata": {},
   "outputs": [],
   "source": [
    "df_interpolate = df.interpolate(method='time')"
   ]
  },
  {
   "cell_type": "code",
   "execution_count": null,
   "metadata": {},
   "outputs": [],
   "source": [
    "mask = df_interpolate['Building_Meter'] == '1.0 - BLD 01_7836716'\n",
    "df_interpolate[mask]"
   ]
  },
  {
   "cell_type": "code",
   "execution_count": null,
   "metadata": {},
   "outputs": [],
   "source": []
  },
  {
   "cell_type": "markdown",
   "metadata": {},
   "source": [
    "## Time Series decomposition"
   ]
  },
  {
   "cell_type": "markdown",
   "metadata": {},
   "source": [
    "### seasonal_decompose package"
   ]
  },
  {
   "cell_type": "markdown",
   "metadata": {},
   "source": [
    "Exampe 1 - No gap month"
   ]
  },
  {
   "cell_type": "code",
   "execution_count": null,
   "metadata": {
    "scrolled": false
   },
   "outputs": [],
   "source": [
    "mask = df.Building_Meter == '165.0 - BLD 03_90327795'\n",
    "series = df.loc[mask, ['Month', 'Imputed_KWH']].set_index('Month')\n",
    "\n",
    "result = seasonal_decompose(series, model='additive')\n",
    "\n",
    "series = pd.concat([series, result.trend, result.seasonal, result.resid], axis = 1).reset_index()\n",
    "series.columns = ['Month', 'Observed', 'Trend', 'Seasonal', 'Residual']\n",
    "series['Seasonally_Adjusted'] = series.apply(lambda x: x['Observed'] - x['Seasonal'], axis = 1)\n",
    "\n",
    "# Meter with all the months' data. Outlier near Sep 2012\n",
    "\n",
    "result.plot()\n",
    "pyplot.show()\n",
    "result1 = result"
   ]
  },
  {
   "cell_type": "markdown",
   "metadata": {},
   "source": [
    "Example 2 - A few months's gap in between. Otherwise the variations seem normal."
   ]
  },
  {
   "cell_type": "code",
   "execution_count": null,
   "metadata": {},
   "outputs": [],
   "source": [
    "mask = df.Building_Meter == '164.0 - BLD 01_96973681'\n",
    "series = df.loc[mask, ['Month', 'Imputed_KWH']].set_index('Month')\n",
    "\n",
    "result = seasonal_decompose(series, model='additive')\n",
    "\n",
    "series = pd.concat([series, result.trend, result.seasonal, result.resid], axis = 1).reset_index()\n",
    "series.columns = ['Month', 'Observed', 'Trend', 'Seasonal', 'Residual']\n",
    "series['Seasonally_Adjusted'] = series.apply(lambda x: x['Observed'] - x['Seasonal'], axis = 1)\n",
    "\n",
    "result.plot()\n",
    "pyplot.show()\n",
    "result2 = result"
   ]
  },
  {
   "cell_type": "markdown",
   "metadata": {},
   "source": [
    "Example 3 - Number of months is too small - only 12"
   ]
  },
  {
   "cell_type": "code",
   "execution_count": null,
   "metadata": {},
   "outputs": [],
   "source": [
    "mask = df.Building_Meter == '1.0 - BLD 04_8638820'\n",
    "series = df.loc[mask, ['Month', 'Imputed_KWH']].set_index('Month')\n",
    "series.plot()\n",
    "\n",
    "result = seasonal_decompose(series, model='additive')\n",
    "\n",
    "series = pd.concat([series, result.trend, result.seasonal, result.resid], axis = 1).reset_index()\n",
    "series.columns = ['Month', 'Observed', 'Trend', 'Seasonal', 'Residual']\n",
    "series['Seasonally_Adjusted'] = series.apply(lambda x: x['Observed'] - x['Seasonal'], axis = 1)\n",
    "\n",
    "result.plot()\n",
    "pyplot.show()\n",
    "result3 = result"
   ]
  },
  {
   "cell_type": "code",
   "execution_count": null,
   "metadata": {},
   "outputs": [],
   "source": []
  },
  {
   "cell_type": "markdown",
   "metadata": {},
   "source": [
    "### stldecompose package"
   ]
  },
  {
   "cell_type": "markdown",
   "metadata": {},
   "source": [
    "Exampel 1"
   ]
  },
  {
   "cell_type": "code",
   "execution_count": null,
   "metadata": {},
   "outputs": [],
   "source": [
    "mask = df.Building_Meter == '165.0 - BLD 03_90327795'\n",
    "series = df.loc[mask, ['Month', 'Imputed_KWH']].set_index('Month')\n",
    "\n",
    "stl1 = decompose(series, period=12)\n",
    "\n",
    "stl1.plot();"
   ]
  },
  {
   "cell_type": "markdown",
   "metadata": {},
   "source": [
    "Example 2 - a gaps of 3 months missing data"
   ]
  },
  {
   "cell_type": "code",
   "execution_count": null,
   "metadata": {},
   "outputs": [],
   "source": [
    "mask = df.Building_Meter == '164.0 - BLD 01_96973681'\n",
    "series = df.loc[mask, ['Month', 'Imputed_KWH']].set_index('Month')\n",
    "\n",
    "stl2 = decompose(series, period=12)\n",
    "\n",
    "stl2.plot();"
   ]
  },
  {
   "cell_type": "markdown",
   "metadata": {},
   "source": [
    "Example 3 - Number of months is too small - only 12"
   ]
  },
  {
   "cell_type": "code",
   "execution_count": null,
   "metadata": {},
   "outputs": [],
   "source": [
    "mask = df.Building_Meter == '1.0 - BLD 04_8638820'\n",
    "series = df.loc[mask, ['Month', 'Imputed_KWH']].set_index('Month')\n",
    "\n",
    "stl3 = decompose(series, period=12)\n",
    "\n",
    "stl3.plot();"
   ]
  },
  {
   "cell_type": "code",
   "execution_count": null,
   "metadata": {},
   "outputs": [],
   "source": []
  },
  {
   "cell_type": "markdown",
   "metadata": {},
   "source": [
    "### sesd package"
   ]
  },
  {
   "cell_type": "code",
   "execution_count": null,
   "metadata": {},
   "outputs": [],
   "source": [
    "# R codes"
   ]
  },
  {
   "cell_type": "markdown",
   "metadata": {},
   "source": [
    "ts = select(filter(df, Building_Meter == '1.0 - BLD 01_7836716'), Month, Imputed_KWH)  \n",
    "res = AnomalyDetectionTs(ts, max_anoms=0.02, direction='both', plot=TRUE)  \n",
    "res$plot "
   ]
  },
  {
   "cell_type": "markdown",
   "metadata": {},
   "source": [
    "ts = select(filter(df, Building_Meter == '1.0 - BLD 01_7836716'), Month, Imputed_KWH)  \n",
    "res = AnomalyDetectionTs(ts, max_anoms=0.02, direction='both', plot=TRUE)  \n",
    "res$plot "
   ]
  },
  {
   "cell_type": "code",
   "execution_count": null,
   "metadata": {},
   "outputs": [],
   "source": [
    "accounts = unique(df$Building_Meter) "
   ]
  },
  {
   "cell_type": "code",
   "execution_count": null,
   "metadata": {},
   "outputs": [],
   "source": [
    "anoms <- rep(NA, length(accounts))"
   ]
  },
  {
   "cell_type": "code",
   "execution_count": null,
   "metadata": {},
   "outputs": [],
   "source": []
  },
  {
   "cell_type": "markdown",
   "metadata": {},
   "source": [
    "for (i in seq(1:5))\n",
    "{\n",
    "ts = select(filter(df, Building_Meter == account), Month, Imputed_KWH)  \n",
    "res = AnomalyDetectionTs(ts, max_anoms=0.02, direction='both', plot=FALSE)  \n",
    "anoms[i] <- res$anoms \n",
    "}"
   ]
  },
  {
   "cell_type": "code",
   "execution_count": null,
   "metadata": {},
   "outputs": [],
   "source": [
    "# Python codes"
   ]
  },
  {
   "cell_type": "code",
   "execution_count": null,
   "metadata": {},
   "outputs": [],
   "source": [
    "import statsmodels.api as sm"
   ]
  },
  {
   "cell_type": "markdown",
   "metadata": {},
   "source": [
    "Exampel 1"
   ]
  },
  {
   "cell_type": "code",
   "execution_count": null,
   "metadata": {},
   "outputs": [],
   "source": [
    "mask = df.Building_Meter == '165.0 - BLD 03_90327795'\n",
    "series = df.loc[mask, ['Month', 'Imputed_KWH']].set_index('Month').Imputed_KWH\n",
    "ts = series.values.ravel()\n",
    "outliers_indices = sesd.seasonal_esd(ts, seasonality = 12, hybrid=True, max_anomalies=10)\n",
    "for idx in outliers_indices:\n",
    "    print (\"Anomaly index: {0}, anomaly value: {1}\".format(idx, ts[idx]))"
   ]
  },
  {
   "cell_type": "code",
   "execution_count": null,
   "metadata": {},
   "outputs": [],
   "source": [
    "seasonality = 12\n",
    "hybrid = True\n",
    "max_anomalies = 10\n",
    "alpha = 0.05\n",
    "\n",
    "ts = np.array(ts)\n",
    "seasonal = seasonality or int(0.2 * len(ts)) # Seasonality is 20% of the ts if not given.\n",
    "decomp = sm.tsa.seasonal_decompose(ts, freq=seasonal)\n",
    "if hybrid:\n",
    "    mad      = np.median(np.abs(ts - np.median(ts)))\n",
    "    residual = ts - decomp.seasonal - mad\n",
    "else:\n",
    "    residual = ts - decomp.seasonal - np.median(ts)\n",
    "\n",
    "outliers = sesd.esd(residual, max_anomalies=max_anomalies, alpha=alpha)\n",
    "\n",
    "seasonal = decomp.seasonal\n",
    "trend = [np.median(ts) for i in range(len(ts))]\n",
    "resid = residual\n",
    "observed = ts\n",
    "\n",
    "# pd.DataFrame({'observed':ts\n",
    "#               , 'seasonal':decomp.seasonal\n",
    "#               , 'median':list([np.median(ts) for i in range(len(ts))])\n",
    "#               , 'residual':residual\n",
    "#              })"
   ]
  },
  {
   "cell_type": "code",
   "execution_count": null,
   "metadata": {},
   "outputs": [],
   "source": []
  },
  {
   "cell_type": "markdown",
   "metadata": {},
   "source": [
    "## Apply G-ESD Test to the residuals"
   ]
  },
  {
   "cell_type": "markdown",
   "metadata": {},
   "source": [
    "### Example 1"
   ]
  },
  {
   "cell_type": "markdown",
   "metadata": {},
   "source": [
    "### seasonal_decompose package"
   ]
  },
  {
   "cell_type": "code",
   "execution_count": null,
   "metadata": {},
   "outputs": [],
   "source": [
    "x = result1.resid.Imputed_KWH\n",
    "x.hist(bins = 100)"
   ]
  },
  {
   "cell_type": "code",
   "execution_count": null,
   "metadata": {},
   "outputs": [],
   "source": [
    "x = x[~np.isnan(x)]\n",
    "\n",
    "r = pyasl.generalizedESD(x, 5, 0.05, fullOutput=True)\n",
    "\n",
    "print(\"Number of outliers: \", r[0])\n",
    "print(\"Indices of outliers: \", r[1])\n",
    "# print(\"        R      Lambda\")\n",
    "# for i in range(len(r[2])):\n",
    "#     print(\"%2d  %8.5f  %8.5f\" % ((i+1), r[2][i], r[3][i]))\n",
    "\n",
    "# Plot the \"data\"\n",
    "plt.plot(x, 'b.')\n",
    "# and mark the outliers.\n",
    "for i in range(r[0]):\n",
    "    plt.plot(x.index[r[1][i]], x[r[1][i]], 'rp')\n",
    "plt.show()"
   ]
  },
  {
   "cell_type": "markdown",
   "metadata": {},
   "source": [
    "### stldecompose package"
   ]
  },
  {
   "cell_type": "code",
   "execution_count": null,
   "metadata": {},
   "outputs": [],
   "source": [
    "x = stl1.resid.Imputed_KWH\n",
    "x.hist(bins = 100)"
   ]
  },
  {
   "cell_type": "code",
   "execution_count": null,
   "metadata": {},
   "outputs": [],
   "source": [
    "x = x[~np.isnan(x)]\n",
    "\n",
    "r = pyasl.generalizedESD(x, 3, 0.05, fullOutput=True)\n",
    "\n",
    "print(\"Number of outliers: \", r[0])\n",
    "print(\"Indices of outliers: \", r[1])\n",
    "# print(\"        R      Lambda\")\n",
    "# for i in range(len(r[2])):\n",
    "#     print(\"%2d  %8.5f  %8.5f\" % ((i+1), r[2][i], r[3][i]))\n",
    "\n",
    "# Plot the \"data\"\n",
    "plt.plot(x, 'b.')\n",
    "# and mark the outliers.\n",
    "for i in range(r[0]):\n",
    "    plt.plot(x.index[r[1][i]], x[r[1][i]], 'rp')\n",
    "plt.show()"
   ]
  },
  {
   "cell_type": "code",
   "execution_count": null,
   "metadata": {},
   "outputs": [],
   "source": []
  },
  {
   "cell_type": "markdown",
   "metadata": {},
   "source": [
    "### Example 2"
   ]
  },
  {
   "cell_type": "markdown",
   "metadata": {},
   "source": [
    "### seasonal_decompose package"
   ]
  },
  {
   "cell_type": "code",
   "execution_count": null,
   "metadata": {},
   "outputs": [],
   "source": [
    "x = result2.resid.Imputed_KWH\n",
    "x.hist(bins = 100)"
   ]
  },
  {
   "cell_type": "code",
   "execution_count": null,
   "metadata": {},
   "outputs": [],
   "source": [
    "x = x[~np.isnan(x)]\n",
    "\n",
    "r = pyasl.generalizedESD(x, 5, 0.05, fullOutput=True)\n",
    "\n",
    "print(\"Number of outliers: \", r[0])\n",
    "print(\"Indices of outliers: \", r[1])\n",
    "# print(\"        R      Lambda\")\n",
    "# for i in range(len(r[2])):\n",
    "#     print(\"%2d  %8.5f  %8.5f\" % ((i+1), r[2][i], r[3][i]))\n",
    "\n",
    "# Plot the \"data\"\n",
    "plt.plot(x, 'b.')\n",
    "# and mark the outliers.\n",
    "for i in range(r[0]):\n",
    "    plt.plot(x.index[r[1][i]], x[r[1][i]], 'rp')\n",
    "plt.show()"
   ]
  },
  {
   "cell_type": "markdown",
   "metadata": {},
   "source": [
    "### stldecompose package"
   ]
  },
  {
   "cell_type": "code",
   "execution_count": null,
   "metadata": {},
   "outputs": [],
   "source": [
    "x = stl2.resid.Imputed_KWH\n",
    "x.hist(bins = 100)"
   ]
  },
  {
   "cell_type": "code",
   "execution_count": null,
   "metadata": {},
   "outputs": [],
   "source": [
    "x = x[~np.isnan(x)]\n",
    "\n",
    "r = pyasl.generalizedESD(x, 3, 0.05, fullOutput=True)\n",
    "\n",
    "print(\"Number of outliers: \", r[0])\n",
    "print(\"Indices of outliers: \", r[1])\n",
    "# print(\"        R      Lambda\")\n",
    "# for i in range(len(r[2])):\n",
    "#     print(\"%2d  %8.5f  %8.5f\" % ((i+1), r[2][i], r[3][i]))\n",
    "\n",
    "# Plot the \"data\"\n",
    "plt.plot(x, 'b.')\n",
    "# and mark the outliers.\n",
    "for i in range(r[0]):\n",
    "    plt.plot(x.index[r[1][i]], x[r[1][i]], 'rp')\n",
    "plt.show()"
   ]
  },
  {
   "cell_type": "code",
   "execution_count": null,
   "metadata": {},
   "outputs": [],
   "source": []
  }
 ],
 "metadata": {
  "kernelspec": {
   "display_name": "Python 3",
   "language": "python",
   "name": "python3"
  },
  "language_info": {
   "codemirror_mode": {
    "name": "ipython",
    "version": 3
   },
   "file_extension": ".py",
   "mimetype": "text/x-python",
   "name": "python",
   "nbconvert_exporter": "python",
   "pygments_lexer": "ipython3",
   "version": "3.6.7"
  }
 },
 "nbformat": 4,
 "nbformat_minor": 2
}
