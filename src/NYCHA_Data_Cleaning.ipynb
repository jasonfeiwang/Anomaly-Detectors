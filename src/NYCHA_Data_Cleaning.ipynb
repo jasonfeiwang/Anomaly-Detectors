{
 "cells": [
  {
   "cell_type": "markdown",
   "metadata": {},
   "source": [
    "## Objective"
   ]
  },
  {
   "cell_type": "markdown",
   "metadata": {},
   "source": [
    "The objective of this notebook is to get familiarity with the electricity usage data and conduct data cleaning and transformations in preparation for further statistical analyses and anomaly detection. More specifically, we need to:\n",
    "- Resolve the data quality issues and clean the dataset, such that there is only one row per account per billing period (an account is uniquely determined by the combination of building ID and meter number)\n",
    "- Prorate the KWH Consumption values use the calendar month, instead of the revenue month in the original dataset\n",
    "- Identify the billing gap per account per calendar month \n",
    "- Impute the KWH consumptions per account per calendar month"
   ]
  },
  {
   "cell_type": "markdown",
   "metadata": {},
   "source": [
    "## Known data quality issues according to  the domain knowledge expert\n",
    "1. Multiple account names might exist for the same building_id\n",
    "2. Meter number may switch over the years for the same account\n",
    "3. Overlapping/duplication of bills might exist"
   ]
  },
  {
   "cell_type": "markdown",
   "metadata": {},
   "source": [
    "## Data Cleaning Steps\n",
    "1. Read in data, create a dataframe to log the rows with issues\n",
    "2. Conduct general data cleaning - remove null rows, convert data types, set up a group of metrics to indicate data cleanliness\n",
    "3. Resolve the known issues & other issues discovered along the way\n",
    "4. Identify duplication and overlapping of bills\n",
    "5. Prorate the bills to calendar months\n",
    "6. Identify the billing gaps per calendar month\n",
    "7. Impute the KWH Consumption values per calendar month"
   ]
  },
  {
   "cell_type": "code",
   "execution_count": null,
   "metadata": {},
   "outputs": [],
   "source": []
  },
  {
   "cell_type": "markdown",
   "metadata": {},
   "source": [
    "## Step 1 - Read in data, create a dataframe to log the rows with issues"
   ]
  },
  {
   "cell_type": "markdown",
   "metadata": {},
   "source": [
    "Below is a list of Python packages required for data processing and analysis:"
   ]
  },
  {
   "cell_type": "code",
   "execution_count": 1,
   "metadata": {},
   "outputs": [
    {
     "data": {
      "text/html": [
       "<script type=\"text/javascript\">window.PlotlyConfig = {MathJaxConfig: 'local'};</script><script type=\"text/javascript\">if (window.MathJax) {MathJax.Hub.Config({SVG: {font: \"STIX-Web\"}});}</script><script>requirejs.config({paths: { 'plotly': ['https://cdn.plot.ly/plotly-latest.min']},});if(!window._Plotly) {require(['plotly'],function(plotly) {window._Plotly=plotly;});}</script>"
      ],
      "text/vnd.plotly.v1+html": [
       "<script type=\"text/javascript\">window.PlotlyConfig = {MathJaxConfig: 'local'};</script><script type=\"text/javascript\">if (window.MathJax) {MathJax.Hub.Config({SVG: {font: \"STIX-Web\"}});}</script><script>requirejs.config({paths: { 'plotly': ['https://cdn.plot.ly/plotly-latest.min']},});if(!window._Plotly) {require(['plotly'],function(plotly) {window._Plotly=plotly;});}</script>"
      ]
     },
     "metadata": {},
     "output_type": "display_data"
    }
   ],
   "source": [
    "import pandas as pd\n",
    "import numpy as np\n",
    "import pandasql as pdsql\n",
    "import math\n",
    "\n",
    "from datetime import timedelta, datetime\n",
    "from dateutil.relativedelta import *\n",
    "\n",
    "import plotly.plotly as py\n",
    "import plotly.graph_objs as go\n",
    "from plotly.offline import init_notebook_mode, iplot\n",
    "# initiate notebook for offline plot\n",
    "init_notebook_mode(connected=True)         "
   ]
  },
  {
   "cell_type": "markdown",
   "metadata": {},
   "source": [
    "### 1.1  Read in the data "
   ]
  },
  {
   "cell_type": "code",
   "execution_count": 2,
   "metadata": {},
   "outputs": [],
   "source": [
    "df = pd.read_csv(\"../data/NYC Open Data - Electric_Consumption_And_Cost__2010_-__June_2018_.csv\", low_memory=False)"
   ]
  },
  {
   "cell_type": "code",
   "execution_count": 3,
   "metadata": {},
   "outputs": [
    {
     "data": {
      "text/plain": [
       "(313147, 27)"
      ]
     },
     "execution_count": 3,
     "metadata": {},
     "output_type": "execute_result"
    }
   ],
   "source": [
    "df.shape"
   ]
  },
  {
   "cell_type": "markdown",
   "metadata": {},
   "source": [
    "Check the column names."
   ]
  },
  {
   "cell_type": "code",
   "execution_count": 4,
   "metadata": {},
   "outputs": [
    {
     "data": {
      "text/plain": [
       "Index(['Development Name', 'Borough', 'Account Name', 'Location', 'Meter AMR',\n",
       "       'Meter Scope', 'TDS #', 'EDP', 'RC Code', 'Funding Source', 'AMP #',\n",
       "       'Vendor Name', 'UMIS BILL ID', 'Revenue Month', 'Service Start Date',\n",
       "       'Service End Date', '# days', 'Meter Number', 'Estimated',\n",
       "       'Current Charges', 'Rate Class', 'Bill Analyzed', 'Consumption (KWH)',\n",
       "       'KWH Charges', 'Consumption (KW)', 'KW Charges', 'Other charges'],\n",
       "      dtype='object')"
      ]
     },
     "execution_count": 4,
     "metadata": {},
     "output_type": "execute_result"
    }
   ],
   "source": [
    "df.columns"
   ]
  },
  {
   "cell_type": "markdown",
   "metadata": {},
   "source": [
    "Change column names for easy reference."
   ]
  },
  {
   "cell_type": "code",
   "execution_count": 5,
   "metadata": {},
   "outputs": [],
   "source": [
    "df.columns = ['Development_Name', 'Borough', 'Account_Name', 'Location', 'Meter_AMR',\n",
    "       'Meter_Scope', 'TDS #', 'EDP', 'RC_Code', 'Funding_Source', 'AMP #',\n",
    "       'Vendor_Name', 'UMIS_BILL_ID', 'Revenue_Month', 'Service_Start_Date',\n",
    "       'Service_End_Date', '# days', 'Meter_Number', 'Estimated',\n",
    "       'Current_Charges', 'Rate_Class', 'Bill_Analyzed', 'Consumption_KWH',\n",
    "       'KWH_Charges', 'Consumption_KW', 'KW_Charges', 'Other_Charges']"
   ]
  },
  {
   "cell_type": "markdown",
   "metadata": {},
   "source": [
    "Check the number of empty values in each column. It seems there are 146 rows that contains null values only."
   ]
  },
  {
   "cell_type": "code",
   "execution_count": 6,
   "metadata": {},
   "outputs": [
    {
     "data": {
      "text/plain": [
       "Development_Name         146\n",
       "Borough                  146\n",
       "Account_Name             146\n",
       "Location                9041\n",
       "Meter_AMR                187\n",
       "Meter_Scope           296588\n",
       "TDS #                   1717\n",
       "EDP                      146\n",
       "RC_Code                  146\n",
       "Funding_Source           146\n",
       "AMP #                   1657\n",
       "Vendor_Name              146\n",
       "UMIS_BILL_ID             146\n",
       "Revenue_Month            146\n",
       "Service_Start_Date       146\n",
       "Service_End_Date         146\n",
       "# days                   146\n",
       "Meter_Number             146\n",
       "Estimated                146\n",
       "Current_Charges          146\n",
       "Rate_Class               146\n",
       "Bill_Analyzed            146\n",
       "Consumption_KWH          146\n",
       "KWH_Charges              146\n",
       "Consumption_KW           146\n",
       "KW_Charges               146\n",
       "Other_Charges            146\n",
       "dtype: int64"
      ]
     },
     "execution_count": 6,
     "metadata": {},
     "output_type": "execute_result"
    }
   ],
   "source": [
    "df.isnull().sum()"
   ]
  },
  {
   "cell_type": "markdown",
   "metadata": {},
   "source": [
    "### 1.2  Save a copy of the dataframe before data cleaning to flag the rows with problems"
   ]
  },
  {
   "cell_type": "markdown",
   "metadata": {},
   "source": [
    "Save df as df_orig before data cleaning and use the index as a unique row identifier to connect the two dataframes."
   ]
  },
  {
   "cell_type": "code",
   "execution_count": 7,
   "metadata": {},
   "outputs": [],
   "source": [
    "df = df.reset_index()"
   ]
  },
  {
   "cell_type": "code",
   "execution_count": 8,
   "metadata": {},
   "outputs": [
    {
     "data": {
      "text/plain": [
       "Index(['index', 'Development_Name', 'Borough', 'Account_Name', 'Location',\n",
       "       'Meter_AMR', 'Meter_Scope', 'TDS #', 'EDP', 'RC_Code', 'Funding_Source',\n",
       "       'AMP #', 'Vendor_Name', 'UMIS_BILL_ID', 'Revenue_Month',\n",
       "       'Service_Start_Date', 'Service_End_Date', '# days', 'Meter_Number',\n",
       "       'Estimated', 'Current_Charges', 'Rate_Class', 'Bill_Analyzed',\n",
       "       'Consumption_KWH', 'KWH_Charges', 'Consumption_KW', 'KW_Charges',\n",
       "       'Other_Charges'],\n",
       "      dtype='object')"
      ]
     },
     "execution_count": 8,
     "metadata": {},
     "output_type": "execute_result"
    }
   ],
   "source": [
    "df.columns"
   ]
  },
  {
   "cell_type": "code",
   "execution_count": 9,
   "metadata": {},
   "outputs": [],
   "source": [
    "df.columns = ['row', 'Development_Name', 'Borough', 'Account_Name', 'Location',\n",
    "       'Meter_AMR', 'Meter_Scope', 'TDS #', 'EDP', 'RC_Code', 'Funding_Source',\n",
    "       'AMP #', 'Vendor_Name', 'UMIS_BILL_ID', 'Revenue_Month',\n",
    "       'Service_Start_Date', 'Service_End_Date', '# days', 'Meter_Number',\n",
    "       'Estimated', 'Current_Charges', 'Rate_Class', 'Bill_Analyzed',\n",
    "       'Consumption_KWH', 'KWH_Charges', 'Consumption_KW', 'KW_Charges',\n",
    "       'Other_Charges']"
   ]
  },
  {
   "cell_type": "code",
   "execution_count": 10,
   "metadata": {},
   "outputs": [],
   "source": [
    "df_orig = df.copy()"
   ]
  },
  {
   "cell_type": "markdown",
   "metadata": {},
   "source": [
    "Create a data frame to log the rows with data quality issues."
   ]
  },
  {
   "cell_type": "code",
   "execution_count": 11,
   "metadata": {},
   "outputs": [],
   "source": [
    "df_flags = pd.DataFrame(columns = ['row', 'flag'])"
   ]
  },
  {
   "cell_type": "code",
   "execution_count": null,
   "metadata": {},
   "outputs": [],
   "source": []
  },
  {
   "cell_type": "markdown",
   "metadata": {},
   "source": [
    "## Step 2 - General Data Cleaning"
   ]
  },
  {
   "cell_type": "markdown",
   "metadata": {},
   "source": [
    "### 2.1 Remove empty rows"
   ]
  },
  {
   "cell_type": "markdown",
   "metadata": {},
   "source": [
    "Find the rows that contains null values only."
   ]
  },
  {
   "cell_type": "code",
   "execution_count": 12,
   "metadata": {},
   "outputs": [],
   "source": [
    "mask = (pd.isna(df['Account_Name']) == True)"
   ]
  },
  {
   "cell_type": "code",
   "execution_count": 13,
   "metadata": {},
   "outputs": [
    {
     "data": {
      "text/plain": [
       "146"
      ]
     },
     "execution_count": 13,
     "metadata": {},
     "output_type": "execute_result"
    }
   ],
   "source": [
    "mask.sum()"
   ]
  },
  {
   "cell_type": "markdown",
   "metadata": {},
   "source": [
    "Remove the problematic rows from the working datafrome df and log them in the df_flags dataframe."
   ]
  },
  {
   "cell_type": "code",
   "execution_count": 14,
   "metadata": {},
   "outputs": [],
   "source": [
    "df_flags = pd.concat([df_flags, pd.DataFrame({'row':df[mask].row.values, 'flag':'NULL Values in all columns'})])\n",
    "df = df[~mask]"
   ]
  },
  {
   "cell_type": "markdown",
   "metadata": {},
   "source": [
    "All the rows with only null values have been removed. All the columns of interest do not have null values."
   ]
  },
  {
   "cell_type": "code",
   "execution_count": 15,
   "metadata": {},
   "outputs": [
    {
     "data": {
      "text/plain": [
       "row                        0\n",
       "Development_Name           0\n",
       "Borough                    0\n",
       "Account_Name               0\n",
       "Location                8895\n",
       "Meter_AMR                 41\n",
       "Meter_Scope           296442\n",
       "TDS #                   1571\n",
       "EDP                        0\n",
       "RC_Code                    0\n",
       "Funding_Source             0\n",
       "AMP #                   1511\n",
       "Vendor_Name                0\n",
       "UMIS_BILL_ID               0\n",
       "Revenue_Month              0\n",
       "Service_Start_Date         0\n",
       "Service_End_Date           0\n",
       "# days                     0\n",
       "Meter_Number               0\n",
       "Estimated                  0\n",
       "Current_Charges            0\n",
       "Rate_Class                 0\n",
       "Bill_Analyzed              0\n",
       "Consumption_KWH            0\n",
       "KWH_Charges                0\n",
       "Consumption_KW             0\n",
       "KW_Charges                 0\n",
       "Other_Charges              0\n",
       "dtype: int64"
      ]
     },
     "execution_count": 15,
     "metadata": {},
     "output_type": "execute_result"
    }
   ],
   "source": [
    "df.isnull().sum()"
   ]
  },
  {
   "cell_type": "markdown",
   "metadata": {},
   "source": [
    "### 2.2 Remove rows for which electricity charges were estimated"
   ]
  },
  {
   "cell_type": "code",
   "execution_count": 16,
   "metadata": {},
   "outputs": [
    {
     "data": {
      "text/plain": [
       "N             260863\n",
       "Y              51749\n",
       "NA               389\n",
       "Name: Estimated, dtype: int64"
      ]
     },
     "execution_count": 16,
     "metadata": {},
     "output_type": "execute_result"
    }
   ],
   "source": [
    "df['Estimated'].value_counts()"
   ]
  },
  {
   "cell_type": "code",
   "execution_count": 17,
   "metadata": {},
   "outputs": [
    {
     "data": {
      "text/plain": [
       "array(['N         ', 'Y         ', 'NA        '], dtype=object)"
      ]
     },
     "execution_count": 17,
     "metadata": {},
     "output_type": "execute_result"
    }
   ],
   "source": [
    "df['Estimated'].value_counts().index.values"
   ]
  },
  {
   "cell_type": "markdown",
   "metadata": {},
   "source": [
    "Identify & log the problematic rows, delete them from the working dataframe df."
   ]
  },
  {
   "cell_type": "code",
   "execution_count": 18,
   "metadata": {},
   "outputs": [],
   "source": [
    "mask = (df['Estimated'] ==  'N         ')\n",
    "\n",
    "df_flags = pd.concat([df_flags, pd.DataFrame({'row':df[mask].row.values, 'flag':'Inaccurate Values of Charges'})])\n",
    "df = df[mask]"
   ]
  },
  {
   "cell_type": "markdown",
   "metadata": {},
   "source": [
    "### 2.3 Data Type Converstion"
   ]
  },
  {
   "cell_type": "markdown",
   "metadata": {},
   "source": [
    "Check data types of fields. All timestamp fields and some numerical fields are stored as objects and thus need to be converted."
   ]
  },
  {
   "cell_type": "code",
   "execution_count": 19,
   "metadata": {},
   "outputs": [
    {
     "name": "stdout",
     "output_type": "stream",
     "text": [
      "<class 'pandas.core.frame.DataFrame'>\n",
      "Int64Index: 260863 entries, 0 to 313146\n",
      "Data columns (total 28 columns):\n",
      "row                   260863 non-null int64\n",
      "Development_Name      260863 non-null object\n",
      "Borough               260863 non-null object\n",
      "Account_Name          260863 non-null object\n",
      "Location              254029 non-null object\n",
      "Meter_AMR             260840 non-null object\n",
      "Meter_Scope           15032 non-null object\n",
      "TDS #                 259446 non-null float64\n",
      "EDP                   260863 non-null float64\n",
      "RC_Code               260863 non-null object\n",
      "Funding_Source        260863 non-null object\n",
      "AMP #                 259500 non-null object\n",
      "Vendor_Name           260863 non-null object\n",
      "UMIS_BILL_ID          260863 non-null float64\n",
      "Revenue_Month         260863 non-null object\n",
      "Service_Start_Date    260863 non-null object\n",
      "Service_End_Date      260863 non-null object\n",
      "# days                260863 non-null float64\n",
      "Meter_Number          260863 non-null object\n",
      "Estimated             260863 non-null object\n",
      "Current_Charges       260863 non-null object\n",
      "Rate_Class            260863 non-null object\n",
      "Bill_Analyzed         260863 non-null object\n",
      "Consumption_KWH       260863 non-null float64\n",
      "KWH_Charges           260863 non-null object\n",
      "Consumption_KW        260863 non-null object\n",
      "KW_Charges            260863 non-null object\n",
      "Other_Charges         260863 non-null object\n",
      "dtypes: float64(5), int64(1), object(22)\n",
      "memory usage: 57.7+ MB\n"
     ]
    }
   ],
   "source": [
    "df.info()"
   ]
  },
  {
   "cell_type": "markdown",
   "metadata": {},
   "source": [
    "2.3.1. Change these fields from object to numerical:\n",
    "\"Consumption_KW\", \"Current_Charges\", \"KWH_Charges\", \"KW_Charges\", \"Other_Charges\""
   ]
  },
  {
   "cell_type": "code",
   "execution_count": 20,
   "metadata": {},
   "outputs": [],
   "source": [
    "df[\"Consumption_KW\"] = df[\"Consumption_KW\"].apply(lambda x: x.replace(\",\",\"\") if type(x) == str else str(x))\n",
    "df[\"Consumption_KW\"] = df[\"Consumption_KW\"].astype(float)"
   ]
  },
  {
   "cell_type": "code",
   "execution_count": 21,
   "metadata": {},
   "outputs": [],
   "source": [
    "df[\"Current_Charges\"] = df[\"Current_Charges\"].apply(lambda x: x.replace(\"$\",\"\").replace(\",\",\"\").replace(\"(\",\"-\").replace(\")\",\"\") if type(x) == str else str(x))\n",
    "df[\"Current_Charges\"] = df[\"Current_Charges\"].astype(float)"
   ]
  },
  {
   "cell_type": "code",
   "execution_count": 22,
   "metadata": {},
   "outputs": [],
   "source": [
    "df[\"KWH_Charges\"] = df[\"KWH_Charges\"].apply(lambda x: x.replace(\"$\",\"\").replace(\",\",\"\").replace(\"(\",\"-\").replace(\")\",\"\") if type(x) == str else str(x))\n",
    "df[\"KWH_Charges\"] = df[\"KWH_Charges\"].astype(float, inplace = True)"
   ]
  },
  {
   "cell_type": "code",
   "execution_count": 23,
   "metadata": {},
   "outputs": [],
   "source": [
    "df[\"KW_Charges\"] = df[\"KW_Charges\"].apply(lambda x: x.replace(\"$\",\"\").replace(\",\",\"\").replace(\"(\",\"-\").replace(\")\",\"\") if type(x) == str else str(x))\n",
    "df[\"KW_Charges\"] = df[\"KW_Charges\"].astype(float, inplace = True)"
   ]
  },
  {
   "cell_type": "code",
   "execution_count": 24,
   "metadata": {},
   "outputs": [],
   "source": [
    "df[\"Other_Charges\"] = df[\"Other_Charges\"].apply(lambda x: x.replace(\"$\",\"\").replace(\",\",\"\").replace(\"(\",\"-\").replace(\")\",\"\") if type(x) == str else str(x))\n",
    "df[\"Other_Charges\"] = df[\"Other_Charges\"].astype(float, inplace = True)"
   ]
  },
  {
   "cell_type": "markdown",
   "metadata": {},
   "source": [
    "2.3.2. Convert Revenue_Month and service date fields to datetime type."
   ]
  },
  {
   "cell_type": "code",
   "execution_count": 25,
   "metadata": {},
   "outputs": [],
   "source": [
    "df[\"Revenue_Month\"] = df[\"Revenue_Month\"].map(lambda x: datetime.strptime(x.split(\" \")[0], '%m/%d/%Y'))\n",
    "df['Service_Start_Date'] = df['Service_Start_Date'].map(lambda x: datetime.strptime(x, '%m/%d/%Y'))\n",
    "df['Service_End_Date'] = df['Service_End_Date'].map(lambda x: datetime.strptime(x, '%m/%d/%Y'))"
   ]
  },
  {
   "cell_type": "markdown",
   "metadata": {},
   "source": [
    "### 2.4 Clean up the Meter_Number field"
   ]
  },
  {
   "cell_type": "markdown",
   "metadata": {},
   "source": [
    "Remove leading zeros:"
   ]
  },
  {
   "cell_type": "code",
   "execution_count": 26,
   "metadata": {},
   "outputs": [],
   "source": [
    "df['Meter_Number'] = df['Meter_Number'].apply(lambda x: x.lstrip(\"0\").strip(\" \"))"
   ]
  },
  {
   "cell_type": "markdown",
   "metadata": {},
   "source": [
    "Remove white spaces:"
   ]
  },
  {
   "cell_type": "code",
   "execution_count": 27,
   "metadata": {},
   "outputs": [],
   "source": [
    "df['Meter_Length'] = df['Meter_Number'].apply(lambda x: len(x))"
   ]
  },
  {
   "cell_type": "markdown",
   "metadata": {},
   "source": [
    "Standardize the format for meter_numbers with the similar patterns:"
   ]
  },
  {
   "cell_type": "code",
   "execution_count": 28,
   "metadata": {},
   "outputs": [
    {
     "data": {
      "text/plain": [
       "7     257568\n",
       "8       1847\n",
       "12       456\n",
       "5        412\n",
       "6        292\n",
       "18       287\n",
       "10         1\n",
       "Name: Meter_Length, dtype: int64"
      ]
     },
     "execution_count": 28,
     "metadata": {},
     "output_type": "execute_result"
    }
   ],
   "source": [
    "df['Meter_Length'].value_counts()"
   ]
  },
  {
   "cell_type": "markdown",
   "metadata": {},
   "source": [
    "Certain meter numbers are recorded in different formats that need to be standardized."
   ]
  },
  {
   "cell_type": "code",
   "execution_count": 29,
   "metadata": {},
   "outputs": [
    {
     "data": {
      "text/plain": [
       "1860113_7500    68\n",
       "7860113_7500    68\n",
       "1860113_1600    66\n",
       "7860113_1600    66\n",
       "8096662-41.5    35\n",
       "1096662-58.5    35\n",
       "8096662-58.5    35\n",
       "1096662-41.5    35\n",
       "1096662 41-5    12\n",
       "8096662 58-5    12\n",
       "1096662 58-5    12\n",
       "8096662 41-5    12\n",
       "Name: Meter_Number, dtype: int64"
      ]
     },
     "execution_count": 29,
     "metadata": {},
     "output_type": "execute_result"
    }
   ],
   "source": [
    "df[df['Meter_Length'] == 12]['Meter_Number'].value_counts()"
   ]
  },
  {
   "cell_type": "code",
   "execution_count": 30,
   "metadata": {},
   "outputs": [],
   "source": [
    "mask = df['Meter_Number'] == '1096662 41-5'\n",
    "df_flags = pd.concat([df_flags, pd.DataFrame({'row':df[mask].row.values, 'flag':'Inconsistent Format of Meter_Number'})])\n",
    "df.loc[mask, 'Meter_Number'] = '1096662 41.5'"
   ]
  },
  {
   "cell_type": "code",
   "execution_count": 31,
   "metadata": {},
   "outputs": [],
   "source": [
    "mask = df['Meter_Number'] == '1096662 58-5'\n",
    "df_flags = pd.concat([df_flags, pd.DataFrame({'row':df[mask].row.values, 'flag':'Inconsistent Format of Meter_Number'})])\n",
    "df.loc[mask, 'Meter_Number'] = '1096662-58.5'"
   ]
  },
  {
   "cell_type": "code",
   "execution_count": 32,
   "metadata": {},
   "outputs": [],
   "source": [
    "mask = df['Meter_Number'] == '8096662 41-5'\n",
    "df_flags = pd.concat([df_flags, pd.DataFrame({'row':df[mask].row.values, 'flag':'Inconsistent Format of Meter_Number'})])\n",
    "df.loc[mask, 'Meter_Number'] = '8096662-41.5'"
   ]
  },
  {
   "cell_type": "code",
   "execution_count": 33,
   "metadata": {},
   "outputs": [],
   "source": [
    "mask = df['Meter_Number'] == '8096662 58-5'\n",
    "df_flags = pd.concat([df_flags, pd.DataFrame({'row':df[mask].row.values, 'flag':'Inconsistent Format of Meter_Number'})])\n",
    "df.loc[mask, 'Meter_Number'] = '8096662-58.5'"
   ]
  },
  {
   "cell_type": "markdown",
   "metadata": {},
   "source": [
    "### 2.5 Correct values of the Revenue_Month field"
   ]
  },
  {
   "cell_type": "markdown",
   "metadata": {},
   "source": [
    "In some cases the Revenue_Month is not in the same year as the Service Start and End dates when those two are and we will manually correct them."
   ]
  },
  {
   "cell_type": "code",
   "execution_count": 34,
   "metadata": {},
   "outputs": [],
   "source": [
    "df['start_date_year'] = df['Service_Start_Date'].apply(lambda x: datetime(x.year, 1, 1))\n",
    "df['end_date_year'] = df['Service_End_Date'].apply(lambda x: datetime(x.year, 1, 1))\n",
    "df['revenue_month_year'] = df['Revenue_Month'].apply(lambda x: datetime(x.year, 1, 1))\n",
    "\n",
    "mask = ((df['end_date_year'] == df['start_date_year']) & (df['revenue_month_year'] != df['end_date_year']))"
   ]
  },
  {
   "cell_type": "code",
   "execution_count": 35,
   "metadata": {},
   "outputs": [
    {
     "data": {
      "text/html": [
       "<div>\n",
       "<style scoped>\n",
       "    .dataframe tbody tr th:only-of-type {\n",
       "        vertical-align: middle;\n",
       "    }\n",
       "\n",
       "    .dataframe tbody tr th {\n",
       "        vertical-align: top;\n",
       "    }\n",
       "\n",
       "    .dataframe thead th {\n",
       "        text-align: right;\n",
       "    }\n",
       "</style>\n",
       "<table border=\"1\" class=\"dataframe\">\n",
       "  <thead>\n",
       "    <tr style=\"text-align: right;\">\n",
       "      <th></th>\n",
       "      <th>Revenue_Month</th>\n",
       "      <th>Service_Start_Date</th>\n",
       "      <th>Service_End_Date</th>\n",
       "      <th>Meter_Number</th>\n",
       "    </tr>\n",
       "  </thead>\n",
       "  <tbody>\n",
       "    <tr>\n",
       "      <th>44361</th>\n",
       "      <td>2011-10-01</td>\n",
       "      <td>2010-09-22</td>\n",
       "      <td>2010-10-22</td>\n",
       "      <td>5934193</td>\n",
       "    </tr>\n",
       "    <tr>\n",
       "      <th>44362</th>\n",
       "      <td>2011-10-01</td>\n",
       "      <td>2010-09-22</td>\n",
       "      <td>2010-10-22</td>\n",
       "      <td>6439093</td>\n",
       "    </tr>\n",
       "    <tr>\n",
       "      <th>44363</th>\n",
       "      <td>2011-10-01</td>\n",
       "      <td>2010-09-22</td>\n",
       "      <td>2010-10-22</td>\n",
       "      <td>6443262</td>\n",
       "    </tr>\n",
       "    <tr>\n",
       "      <th>44364</th>\n",
       "      <td>2011-10-01</td>\n",
       "      <td>2010-09-22</td>\n",
       "      <td>2010-10-22</td>\n",
       "      <td>6443337</td>\n",
       "    </tr>\n",
       "    <tr>\n",
       "      <th>44365</th>\n",
       "      <td>2011-10-01</td>\n",
       "      <td>2010-09-22</td>\n",
       "      <td>2010-10-22</td>\n",
       "      <td>6443449</td>\n",
       "    </tr>\n",
       "    <tr>\n",
       "      <th>44366</th>\n",
       "      <td>2011-10-01</td>\n",
       "      <td>2010-09-22</td>\n",
       "      <td>2010-10-22</td>\n",
       "      <td>6443450</td>\n",
       "    </tr>\n",
       "    <tr>\n",
       "      <th>44367</th>\n",
       "      <td>2011-10-01</td>\n",
       "      <td>2010-09-22</td>\n",
       "      <td>2010-10-22</td>\n",
       "      <td>6443473</td>\n",
       "    </tr>\n",
       "    <tr>\n",
       "      <th>44368</th>\n",
       "      <td>2011-10-01</td>\n",
       "      <td>2010-09-22</td>\n",
       "      <td>2010-10-22</td>\n",
       "      <td>6443512</td>\n",
       "    </tr>\n",
       "    <tr>\n",
       "      <th>44369</th>\n",
       "      <td>2011-10-01</td>\n",
       "      <td>2010-09-22</td>\n",
       "      <td>2010-10-22</td>\n",
       "      <td>6443519</td>\n",
       "    </tr>\n",
       "    <tr>\n",
       "      <th>44370</th>\n",
       "      <td>2011-10-01</td>\n",
       "      <td>2010-09-22</td>\n",
       "      <td>2010-10-22</td>\n",
       "      <td>6443527</td>\n",
       "    </tr>\n",
       "    <tr>\n",
       "      <th>44371</th>\n",
       "      <td>2011-10-01</td>\n",
       "      <td>2010-09-22</td>\n",
       "      <td>2010-10-22</td>\n",
       "      <td>6443533</td>\n",
       "    </tr>\n",
       "    <tr>\n",
       "      <th>44372</th>\n",
       "      <td>2011-10-01</td>\n",
       "      <td>2010-09-22</td>\n",
       "      <td>2010-10-22</td>\n",
       "      <td>6883321</td>\n",
       "    </tr>\n",
       "    <tr>\n",
       "      <th>44373</th>\n",
       "      <td>2011-10-01</td>\n",
       "      <td>2010-09-22</td>\n",
       "      <td>2010-10-22</td>\n",
       "      <td>6883400</td>\n",
       "    </tr>\n",
       "    <tr>\n",
       "      <th>44374</th>\n",
       "      <td>2011-10-01</td>\n",
       "      <td>2010-09-22</td>\n",
       "      <td>2010-10-22</td>\n",
       "      <td>7272142</td>\n",
       "    </tr>\n",
       "    <tr>\n",
       "      <th>44375</th>\n",
       "      <td>2011-10-01</td>\n",
       "      <td>2010-09-22</td>\n",
       "      <td>2010-10-22</td>\n",
       "      <td>7838718</td>\n",
       "    </tr>\n",
       "  </tbody>\n",
       "</table>\n",
       "</div>"
      ],
      "text/plain": [
       "      Revenue_Month Service_Start_Date Service_End_Date Meter_Number\n",
       "44361    2011-10-01         2010-09-22       2010-10-22      5934193\n",
       "44362    2011-10-01         2010-09-22       2010-10-22      6439093\n",
       "44363    2011-10-01         2010-09-22       2010-10-22      6443262\n",
       "44364    2011-10-01         2010-09-22       2010-10-22      6443337\n",
       "44365    2011-10-01         2010-09-22       2010-10-22      6443449\n",
       "44366    2011-10-01         2010-09-22       2010-10-22      6443450\n",
       "44367    2011-10-01         2010-09-22       2010-10-22      6443473\n",
       "44368    2011-10-01         2010-09-22       2010-10-22      6443512\n",
       "44369    2011-10-01         2010-09-22       2010-10-22      6443519\n",
       "44370    2011-10-01         2010-09-22       2010-10-22      6443527\n",
       "44371    2011-10-01         2010-09-22       2010-10-22      6443533\n",
       "44372    2011-10-01         2010-09-22       2010-10-22      6883321\n",
       "44373    2011-10-01         2010-09-22       2010-10-22      6883400\n",
       "44374    2011-10-01         2010-09-22       2010-10-22      7272142\n",
       "44375    2011-10-01         2010-09-22       2010-10-22      7838718"
      ]
     },
     "execution_count": 35,
     "metadata": {},
     "output_type": "execute_result"
    }
   ],
   "source": [
    "df[mask][['Revenue_Month', 'Service_Start_Date', 'Service_End_Date', 'Meter_Number']].sort_values(['Revenue_Month', 'Service_Start_Date', 'Meter_Number'])"
   ]
  },
  {
   "cell_type": "markdown",
   "metadata": {},
   "source": [
    "Log these rows in the df_flag dataset."
   ]
  },
  {
   "cell_type": "code",
   "execution_count": 36,
   "metadata": {},
   "outputs": [],
   "source": [
    "df_flags = pd.concat([df_flags, pd.DataFrame({'row':df[mask].row.values, 'flag':'Revenue_Month in wrong year'})])"
   ]
  },
  {
   "cell_type": "markdown",
   "metadata": {},
   "source": [
    "Correct the cases where Revenue_Month is in the wrong year."
   ]
  },
  {
   "cell_type": "code",
   "execution_count": 37,
   "metadata": {},
   "outputs": [],
   "source": [
    "df.loc[mask, \"Revenue_Month\"] = datetime.strptime('10/01/2010', '%m/%d/%Y')"
   ]
  },
  {
   "cell_type": "markdown",
   "metadata": {},
   "source": [
    "Remove the calculated fields."
   ]
  },
  {
   "cell_type": "code",
   "execution_count": 38,
   "metadata": {},
   "outputs": [],
   "source": [
    "df.drop(['start_date_year', 'end_date_year', 'revenue_month_year'], axis = 1, inplace = True)"
   ]
  },
  {
   "cell_type": "markdown",
   "metadata": {},
   "source": [
    "### 2.6 Create an unique identifier for each account and remove unnecessary columns"
   ]
  },
  {
   "cell_type": "markdown",
   "metadata": {},
   "source": [
    "According to the domain knowledge expert, each account can be uniquely determined by the combination building id and meter number. The combination of TDS # and Location uniquely determines a buildling and we can use EDP or RC_Code when TDS# is not available."
   ]
  },
  {
   "cell_type": "code",
   "execution_count": 39,
   "metadata": {},
   "outputs": [],
   "source": [
    "df['Building_ID'] = df['TDS #'].combine_first(df['EDP']).map(str).combine_first(df['RC_Code']) \\\n",
    "                    + \" - \" + df['Location'].map(lambda x: 'NA' if pd.isna(x) else x)"
   ]
  },
  {
   "cell_type": "markdown",
   "metadata": {},
   "source": [
    "Define a list of columns of interest."
   ]
  },
  {
   "cell_type": "code",
   "execution_count": 40,
   "metadata": {},
   "outputs": [],
   "source": [
    "cols = ['row', 'Account_Name', 'Location', 'Building_ID', 'Meter_Number',\n",
    "        'Revenue_Month', 'Service_Start_Date', 'Service_End_Date', '# days', \n",
    "       'Current_Charges','Consumption_KWH', 'KWH_Charges',\n",
    "       'Consumption_KW', 'KW_Charges', 'Other_Charges']\n",
    "df = df[cols]"
   ]
  },
  {
   "cell_type": "markdown",
   "metadata": {},
   "source": [
    "Building_ID alone is not the primary key of the data."
   ]
  },
  {
   "cell_type": "code",
   "execution_count": 41,
   "metadata": {},
   "outputs": [
    {
     "data": {
      "text/plain": [
       "0.6327382572461407"
      ]
     },
     "execution_count": 41,
     "metadata": {},
     "output_type": "execute_result"
    }
   ],
   "source": [
    "df.groupby(['Building_ID', 'Revenue_Month']).count().shape[0]/df.shape[0]"
   ]
  },
  {
   "cell_type": "markdown",
   "metadata": {},
   "source": [
    "The combination of Building_ID, meter number and revenue month is almost a primary key."
   ]
  },
  {
   "cell_type": "code",
   "execution_count": 42,
   "metadata": {},
   "outputs": [
    {
     "data": {
      "text/plain": [
       "0.9988039698999092"
      ]
     },
     "execution_count": 42,
     "metadata": {},
     "output_type": "execute_result"
    }
   ],
   "source": [
    "df.groupby(['Building_ID', 'Meter_Number', 'Revenue_Month']).count().shape[0]/df.shape[0]"
   ]
  },
  {
   "cell_type": "markdown",
   "metadata": {},
   "source": [
    "Adding the Billing range (specified by Service_Start_Date and Service_End_Date fields) helped a tiny bit."
   ]
  },
  {
   "cell_type": "code",
   "execution_count": 43,
   "metadata": {},
   "outputs": [
    {
     "data": {
      "text/plain": [
       "0.999528488133618"
      ]
     },
     "execution_count": 43,
     "metadata": {},
     "output_type": "execute_result"
    }
   ],
   "source": [
    "df.groupby(['Building_ID', 'Meter_Number', 'Revenue_Month', 'Service_Start_Date', 'Service_End_Date']).count().shape[0]/df.shape[0]"
   ]
  },
  {
   "cell_type": "markdown",
   "metadata": {},
   "source": [
    "Actually adding \"Revenue_Month\" did not increase granularity; It can be uniquely determined by Service_Start_Date and Service_End_Date."
   ]
  },
  {
   "cell_type": "code",
   "execution_count": 44,
   "metadata": {},
   "outputs": [
    {
     "data": {
      "text/plain": [
       "0.999528488133618"
      ]
     },
     "execution_count": 44,
     "metadata": {},
     "output_type": "execute_result"
    }
   ],
   "source": [
    "df.groupby(['Building_ID', 'Meter_Number', 'Service_Start_Date', 'Service_End_Date']).count().shape[0]/df.shape[0]"
   ]
  },
  {
   "cell_type": "markdown",
   "metadata": {},
   "source": [
    "### 2.7 Ensure the 4 fields (Building_ID, Meter_Number, Service_Start_Date, Service_End_Date) uniquely determines each row"
   ]
  },
  {
   "cell_type": "code",
   "execution_count": 45,
   "metadata": {},
   "outputs": [],
   "source": [
    "idx = df.groupby(['Building_ID', 'Meter_Number', 'Service_Start_Date', 'Service_End_Date']).count()['Account_Name'].reset_index()\n",
    "idx.columns = ['Building_ID', 'Meter_Number', 'Service_Start_Date', 'Service_End_Date', 'Counts']\n",
    "idx = idx[idx['Counts'] > 1]\n",
    "\n",
    "dupRows = idx.sort_values('Counts', ascending = False)\n",
    "\n",
    "temp = pd.merge(dupRows, df, on = \\\n",
    "         ['Building_ID', 'Meter_Number', 'Service_Start_Date', 'Service_End_Date'], how = 'inner')[cols]\\\n",
    "        .sort_values(['Building_ID', 'Meter_Number', 'Service_Start_Date', 'Service_End_Date'])"
   ]
  },
  {
   "cell_type": "code",
   "execution_count": 46,
   "metadata": {},
   "outputs": [
    {
     "data": {
      "text/plain": [
       "(246, 15)"
      ]
     },
     "execution_count": 46,
     "metadata": {},
     "output_type": "execute_result"
    }
   ],
   "source": [
    "temp.shape"
   ]
  },
  {
   "cell_type": "markdown",
   "metadata": {},
   "source": [
    "Lots of these rows have zero values in all the numerical fields of charges and consumptions."
   ]
  },
  {
   "cell_type": "code",
   "execution_count": 47,
   "metadata": {},
   "outputs": [
    {
     "data": {
      "text/html": [
       "<div>\n",
       "<style scoped>\n",
       "    .dataframe tbody tr th:only-of-type {\n",
       "        vertical-align: middle;\n",
       "    }\n",
       "\n",
       "    .dataframe tbody tr th {\n",
       "        vertical-align: top;\n",
       "    }\n",
       "\n",
       "    .dataframe thead th {\n",
       "        text-align: right;\n",
       "    }\n",
       "</style>\n",
       "<table border=\"1\" class=\"dataframe\">\n",
       "  <thead>\n",
       "    <tr style=\"text-align: right;\">\n",
       "      <th></th>\n",
       "      <th>row</th>\n",
       "      <th>Account_Name</th>\n",
       "      <th>Location</th>\n",
       "      <th>Building_ID</th>\n",
       "      <th>Meter_Number</th>\n",
       "      <th>Revenue_Month</th>\n",
       "      <th>Service_Start_Date</th>\n",
       "      <th>Service_End_Date</th>\n",
       "      <th># days</th>\n",
       "      <th>Current_Charges</th>\n",
       "      <th>Consumption_KWH</th>\n",
       "      <th>KWH_Charges</th>\n",
       "      <th>Consumption_KW</th>\n",
       "      <th>KW_Charges</th>\n",
       "      <th>Other_Charges</th>\n",
       "    </tr>\n",
       "  </thead>\n",
       "  <tbody>\n",
       "    <tr>\n",
       "      <th>0</th>\n",
       "      <td>75177</td>\n",
       "      <td>KINGSBOROUGH</td>\n",
       "      <td>BLD 06</td>\n",
       "      <td>10.0 - BLD 06</td>\n",
       "      <td>1864559</td>\n",
       "      <td>2012-12-01</td>\n",
       "      <td>2012-11-21</td>\n",
       "      <td>2012-12-24</td>\n",
       "      <td>33.0</td>\n",
       "      <td>0.0</td>\n",
       "      <td>0.0</td>\n",
       "      <td>0.0</td>\n",
       "      <td>0.00</td>\n",
       "      <td>0.00</td>\n",
       "      <td>0.00</td>\n",
       "    </tr>\n",
       "    <tr>\n",
       "      <th>1</th>\n",
       "      <td>75178</td>\n",
       "      <td>KINGSBOROUGH</td>\n",
       "      <td>BLD 06</td>\n",
       "      <td>10.0 - BLD 06</td>\n",
       "      <td>1864559</td>\n",
       "      <td>2012-12-01</td>\n",
       "      <td>2012-11-21</td>\n",
       "      <td>2012-12-24</td>\n",
       "      <td>33.0</td>\n",
       "      <td>0.0</td>\n",
       "      <td>0.0</td>\n",
       "      <td>0.0</td>\n",
       "      <td>54.43</td>\n",
       "      <td>1109.09</td>\n",
       "      <td>-1109.09</td>\n",
       "    </tr>\n",
       "    <tr>\n",
       "      <th>124</th>\n",
       "      <td>111642</td>\n",
       "      <td>KINGSBOROUGH</td>\n",
       "      <td>BLD 06</td>\n",
       "      <td>10.0 - BLD 06</td>\n",
       "      <td>1864559</td>\n",
       "      <td>2013-01-01</td>\n",
       "      <td>2012-12-24</td>\n",
       "      <td>2013-01-24</td>\n",
       "      <td>31.0</td>\n",
       "      <td>0.0</td>\n",
       "      <td>0.0</td>\n",
       "      <td>0.0</td>\n",
       "      <td>0.00</td>\n",
       "      <td>0.00</td>\n",
       "      <td>0.00</td>\n",
       "    </tr>\n",
       "    <tr>\n",
       "      <th>125</th>\n",
       "      <td>111643</td>\n",
       "      <td>KINGSBOROUGH</td>\n",
       "      <td>BLD 06</td>\n",
       "      <td>10.0 - BLD 06</td>\n",
       "      <td>1864559</td>\n",
       "      <td>2013-01-01</td>\n",
       "      <td>2012-12-24</td>\n",
       "      <td>2013-01-24</td>\n",
       "      <td>31.0</td>\n",
       "      <td>0.0</td>\n",
       "      <td>0.0</td>\n",
       "      <td>0.0</td>\n",
       "      <td>52.08</td>\n",
       "      <td>1105.73</td>\n",
       "      <td>-1105.73</td>\n",
       "    </tr>\n",
       "    <tr>\n",
       "      <th>180</th>\n",
       "      <td>111676</td>\n",
       "      <td>KINGSBOROUGH</td>\n",
       "      <td>BLD 06</td>\n",
       "      <td>10.0 - BLD 06</td>\n",
       "      <td>1864559</td>\n",
       "      <td>2013-02-01</td>\n",
       "      <td>2013-01-24</td>\n",
       "      <td>2013-02-25</td>\n",
       "      <td>32.0</td>\n",
       "      <td>0.0</td>\n",
       "      <td>0.0</td>\n",
       "      <td>0.0</td>\n",
       "      <td>0.00</td>\n",
       "      <td>0.00</td>\n",
       "      <td>0.00</td>\n",
       "    </tr>\n",
       "    <tr>\n",
       "      <th>181</th>\n",
       "      <td>111677</td>\n",
       "      <td>KINGSBOROUGH</td>\n",
       "      <td>BLD 06</td>\n",
       "      <td>10.0 - BLD 06</td>\n",
       "      <td>1864559</td>\n",
       "      <td>2013-02-01</td>\n",
       "      <td>2013-01-24</td>\n",
       "      <td>2013-02-25</td>\n",
       "      <td>32.0</td>\n",
       "      <td>0.0</td>\n",
       "      <td>0.0</td>\n",
       "      <td>0.0</td>\n",
       "      <td>52.94</td>\n",
       "      <td>1166.15</td>\n",
       "      <td>-1166.15</td>\n",
       "    </tr>\n",
       "    <tr>\n",
       "      <th>178</th>\n",
       "      <td>111710</td>\n",
       "      <td>KINGSBOROUGH</td>\n",
       "      <td>BLD 06</td>\n",
       "      <td>10.0 - BLD 06</td>\n",
       "      <td>1864559</td>\n",
       "      <td>2013-03-01</td>\n",
       "      <td>2013-02-25</td>\n",
       "      <td>2013-03-26</td>\n",
       "      <td>29.0</td>\n",
       "      <td>0.0</td>\n",
       "      <td>0.0</td>\n",
       "      <td>0.0</td>\n",
       "      <td>0.00</td>\n",
       "      <td>0.00</td>\n",
       "      <td>0.00</td>\n",
       "    </tr>\n",
       "    <tr>\n",
       "      <th>179</th>\n",
       "      <td>111711</td>\n",
       "      <td>KINGSBOROUGH</td>\n",
       "      <td>BLD 06</td>\n",
       "      <td>10.0 - BLD 06</td>\n",
       "      <td>1864559</td>\n",
       "      <td>2013-03-01</td>\n",
       "      <td>2013-02-25</td>\n",
       "      <td>2013-03-26</td>\n",
       "      <td>29.0</td>\n",
       "      <td>0.0</td>\n",
       "      <td>0.0</td>\n",
       "      <td>0.0</td>\n",
       "      <td>50.93</td>\n",
       "      <td>1169.81</td>\n",
       "      <td>-1169.81</td>\n",
       "    </tr>\n",
       "    <tr>\n",
       "      <th>176</th>\n",
       "      <td>111744</td>\n",
       "      <td>KINGSBOROUGH</td>\n",
       "      <td>BLD 06</td>\n",
       "      <td>10.0 - BLD 06</td>\n",
       "      <td>1864559</td>\n",
       "      <td>2013-04-01</td>\n",
       "      <td>2013-03-26</td>\n",
       "      <td>2013-04-24</td>\n",
       "      <td>29.0</td>\n",
       "      <td>0.0</td>\n",
       "      <td>0.0</td>\n",
       "      <td>0.0</td>\n",
       "      <td>0.00</td>\n",
       "      <td>0.00</td>\n",
       "      <td>0.00</td>\n",
       "    </tr>\n",
       "    <tr>\n",
       "      <th>177</th>\n",
       "      <td>111745</td>\n",
       "      <td>KINGSBOROUGH</td>\n",
       "      <td>BLD 06</td>\n",
       "      <td>10.0 - BLD 06</td>\n",
       "      <td>1864559</td>\n",
       "      <td>2013-04-01</td>\n",
       "      <td>2013-03-26</td>\n",
       "      <td>2013-04-24</td>\n",
       "      <td>29.0</td>\n",
       "      <td>0.0</td>\n",
       "      <td>0.0</td>\n",
       "      <td>0.0</td>\n",
       "      <td>51.46</td>\n",
       "      <td>1146.50</td>\n",
       "      <td>-1146.50</td>\n",
       "    </tr>\n",
       "  </tbody>\n",
       "</table>\n",
       "</div>"
      ],
      "text/plain": [
       "        row  Account_Name Location    Building_ID Meter_Number Revenue_Month  \\\n",
       "0     75177  KINGSBOROUGH   BLD 06  10.0 - BLD 06      1864559    2012-12-01   \n",
       "1     75178  KINGSBOROUGH   BLD 06  10.0 - BLD 06      1864559    2012-12-01   \n",
       "124  111642  KINGSBOROUGH   BLD 06  10.0 - BLD 06      1864559    2013-01-01   \n",
       "125  111643  KINGSBOROUGH   BLD 06  10.0 - BLD 06      1864559    2013-01-01   \n",
       "180  111676  KINGSBOROUGH   BLD 06  10.0 - BLD 06      1864559    2013-02-01   \n",
       "181  111677  KINGSBOROUGH   BLD 06  10.0 - BLD 06      1864559    2013-02-01   \n",
       "178  111710  KINGSBOROUGH   BLD 06  10.0 - BLD 06      1864559    2013-03-01   \n",
       "179  111711  KINGSBOROUGH   BLD 06  10.0 - BLD 06      1864559    2013-03-01   \n",
       "176  111744  KINGSBOROUGH   BLD 06  10.0 - BLD 06      1864559    2013-04-01   \n",
       "177  111745  KINGSBOROUGH   BLD 06  10.0 - BLD 06      1864559    2013-04-01   \n",
       "\n",
       "    Service_Start_Date Service_End_Date  # days  Current_Charges  \\\n",
       "0           2012-11-21       2012-12-24    33.0              0.0   \n",
       "1           2012-11-21       2012-12-24    33.0              0.0   \n",
       "124         2012-12-24       2013-01-24    31.0              0.0   \n",
       "125         2012-12-24       2013-01-24    31.0              0.0   \n",
       "180         2013-01-24       2013-02-25    32.0              0.0   \n",
       "181         2013-01-24       2013-02-25    32.0              0.0   \n",
       "178         2013-02-25       2013-03-26    29.0              0.0   \n",
       "179         2013-02-25       2013-03-26    29.0              0.0   \n",
       "176         2013-03-26       2013-04-24    29.0              0.0   \n",
       "177         2013-03-26       2013-04-24    29.0              0.0   \n",
       "\n",
       "     Consumption_KWH  KWH_Charges  Consumption_KW  KW_Charges  Other_Charges  \n",
       "0                0.0          0.0            0.00        0.00           0.00  \n",
       "1                0.0          0.0           54.43     1109.09       -1109.09  \n",
       "124              0.0          0.0            0.00        0.00           0.00  \n",
       "125              0.0          0.0           52.08     1105.73       -1105.73  \n",
       "180              0.0          0.0            0.00        0.00           0.00  \n",
       "181              0.0          0.0           52.94     1166.15       -1166.15  \n",
       "178              0.0          0.0            0.00        0.00           0.00  \n",
       "179              0.0          0.0           50.93     1169.81       -1169.81  \n",
       "176              0.0          0.0            0.00        0.00           0.00  \n",
       "177              0.0          0.0           51.46     1146.50       -1146.50  "
      ]
     },
     "execution_count": 47,
     "metadata": {},
     "output_type": "execute_result"
    }
   ],
   "source": [
    "temp.head(10)"
   ]
  },
  {
   "cell_type": "markdown",
   "metadata": {},
   "source": [
    "Remove those rows from the dataset."
   ]
  },
  {
   "cell_type": "code",
   "execution_count": 48,
   "metadata": {},
   "outputs": [],
   "source": [
    "mask = ((df['Current_Charges'] == 0) & (df['KWH_Charges'] == 0) & (df['KW_Charges'] == 0) \\\n",
    "  & (df['Other_Charges'] == 0) & (df['Consumption_KWH'] == 0) & (df['Consumption_KW'] == 0))"
   ]
  },
  {
   "cell_type": "code",
   "execution_count": 49,
   "metadata": {},
   "outputs": [],
   "source": [
    "df_flags = pd.concat([df_flags, pd.DataFrame({'row':df[mask].row.values, 'flag':'All charges being zero'})])\n",
    "\n",
    "df = df[~mask]"
   ]
  },
  {
   "cell_type": "code",
   "execution_count": 50,
   "metadata": {},
   "outputs": [],
   "source": [
    "idx = df.groupby(['Building_ID', 'Meter_Number', 'Service_Start_Date', 'Service_End_Date']).count()['Account_Name'].reset_index()\n",
    "idx.columns = ['Building_ID', 'Meter_Number', 'Service_Start_Date', 'Service_End_Date', 'Counts']\n",
    "idx = idx[idx['Counts'] > 1]\n",
    "\n",
    "dupRows = idx.sort_values('Counts', ascending = False)\n",
    "\n",
    "temp = pd.merge(dupRows, df, on = \\\n",
    "         ['Building_ID', 'Meter_Number', 'Service_Start_Date', 'Service_End_Date'], how = 'inner')[cols]\\\n",
    "        .sort_values(['Building_ID', 'Meter_Number', 'Service_Start_Date', 'Service_End_Date'])"
   ]
  },
  {
   "cell_type": "markdown",
   "metadata": {},
   "source": [
    "Still 200 rows left, most of which seems to be due to rebilling and duplicated data entries."
   ]
  },
  {
   "cell_type": "code",
   "execution_count": 51,
   "metadata": {},
   "outputs": [
    {
     "data": {
      "text/plain": [
       "(200, 15)"
      ]
     },
     "execution_count": 51,
     "metadata": {},
     "output_type": "execute_result"
    }
   ],
   "source": [
    "temp.shape"
   ]
  },
  {
   "cell_type": "code",
   "execution_count": 52,
   "metadata": {},
   "outputs": [
    {
     "data": {
      "text/html": [
       "<div>\n",
       "<style scoped>\n",
       "    .dataframe tbody tr th:only-of-type {\n",
       "        vertical-align: middle;\n",
       "    }\n",
       "\n",
       "    .dataframe tbody tr th {\n",
       "        vertical-align: top;\n",
       "    }\n",
       "\n",
       "    .dataframe thead th {\n",
       "        text-align: right;\n",
       "    }\n",
       "</style>\n",
       "<table border=\"1\" class=\"dataframe\">\n",
       "  <thead>\n",
       "    <tr style=\"text-align: right;\">\n",
       "      <th></th>\n",
       "      <th>row</th>\n",
       "      <th>Account_Name</th>\n",
       "      <th>Location</th>\n",
       "      <th>Building_ID</th>\n",
       "      <th>Meter_Number</th>\n",
       "      <th>Revenue_Month</th>\n",
       "      <th>Service_Start_Date</th>\n",
       "      <th>Service_End_Date</th>\n",
       "      <th># days</th>\n",
       "      <th>Current_Charges</th>\n",
       "      <th>Consumption_KWH</th>\n",
       "      <th>KWH_Charges</th>\n",
       "      <th>Consumption_KW</th>\n",
       "      <th>KW_Charges</th>\n",
       "      <th>Other_Charges</th>\n",
       "    </tr>\n",
       "  </thead>\n",
       "  <tbody>\n",
       "    <tr>\n",
       "      <th>0</th>\n",
       "      <td>133599</td>\n",
       "      <td>WILLIAMSBURG</td>\n",
       "      <td>BLD 06</td>\n",
       "      <td>2.0 - BLD 06</td>\n",
       "      <td>5648698</td>\n",
       "      <td>2013-11-01</td>\n",
       "      <td>2013-10-23</td>\n",
       "      <td>2013-11-21</td>\n",
       "      <td>29.0</td>\n",
       "      <td>2877.11</td>\n",
       "      <td>20160.0</td>\n",
       "      <td>1039.85</td>\n",
       "      <td>48.0</td>\n",
       "      <td>856.14</td>\n",
       "      <td>981.12</td>\n",
       "    </tr>\n",
       "    <tr>\n",
       "      <th>1</th>\n",
       "      <td>133646</td>\n",
       "      <td>WILLIAMSBURG</td>\n",
       "      <td>BLD 06</td>\n",
       "      <td>2.0 - BLD 06</td>\n",
       "      <td>5648698</td>\n",
       "      <td>2013-11-01</td>\n",
       "      <td>2013-10-23</td>\n",
       "      <td>2013-11-21</td>\n",
       "      <td>29.0</td>\n",
       "      <td>2877.11</td>\n",
       "      <td>20160.0</td>\n",
       "      <td>1039.85</td>\n",
       "      <td>48.0</td>\n",
       "      <td>856.14</td>\n",
       "      <td>981.12</td>\n",
       "    </tr>\n",
       "    <tr>\n",
       "      <th>26</th>\n",
       "      <td>133623</td>\n",
       "      <td>WILLIAMSBURG</td>\n",
       "      <td>BLD 07</td>\n",
       "      <td>2.0 - BLD 07</td>\n",
       "      <td>6994237</td>\n",
       "      <td>2013-11-01</td>\n",
       "      <td>2013-10-23</td>\n",
       "      <td>2013-11-21</td>\n",
       "      <td>29.0</td>\n",
       "      <td>3128.25</td>\n",
       "      <td>21920.0</td>\n",
       "      <td>1130.63</td>\n",
       "      <td>34.4</td>\n",
       "      <td>613.56</td>\n",
       "      <td>1384.06</td>\n",
       "    </tr>\n",
       "    <tr>\n",
       "      <th>27</th>\n",
       "      <td>133635</td>\n",
       "      <td>WILLIAMSBURG</td>\n",
       "      <td>BLD 07</td>\n",
       "      <td>2.0 - BLD 07</td>\n",
       "      <td>6994237</td>\n",
       "      <td>2013-11-01</td>\n",
       "      <td>2013-10-23</td>\n",
       "      <td>2013-11-21</td>\n",
       "      <td>29.0</td>\n",
       "      <td>3128.25</td>\n",
       "      <td>21920.0</td>\n",
       "      <td>1130.63</td>\n",
       "      <td>34.4</td>\n",
       "      <td>613.56</td>\n",
       "      <td>1384.06</td>\n",
       "    </tr>\n",
       "    <tr>\n",
       "      <th>146</th>\n",
       "      <td>133628</td>\n",
       "      <td>WILLIAMSBURG</td>\n",
       "      <td>BLD 07</td>\n",
       "      <td>2.0 - BLD 07</td>\n",
       "      <td>7861523</td>\n",
       "      <td>2013-11-01</td>\n",
       "      <td>2013-10-23</td>\n",
       "      <td>2013-11-21</td>\n",
       "      <td>29.0</td>\n",
       "      <td>2854.29</td>\n",
       "      <td>20000.0</td>\n",
       "      <td>1031.60</td>\n",
       "      <td>56.0</td>\n",
       "      <td>998.83</td>\n",
       "      <td>823.86</td>\n",
       "    </tr>\n",
       "    <tr>\n",
       "      <th>147</th>\n",
       "      <td>133640</td>\n",
       "      <td>WILLIAMSBURG</td>\n",
       "      <td>BLD 07</td>\n",
       "      <td>2.0 - BLD 07</td>\n",
       "      <td>7861523</td>\n",
       "      <td>2013-11-01</td>\n",
       "      <td>2013-10-23</td>\n",
       "      <td>2013-11-21</td>\n",
       "      <td>29.0</td>\n",
       "      <td>2854.29</td>\n",
       "      <td>20000.0</td>\n",
       "      <td>1031.60</td>\n",
       "      <td>56.0</td>\n",
       "      <td>998.83</td>\n",
       "      <td>823.86</td>\n",
       "    </tr>\n",
       "    <tr>\n",
       "      <th>144</th>\n",
       "      <td>133597</td>\n",
       "      <td>WILLIAMSBURG</td>\n",
       "      <td>BLD 08</td>\n",
       "      <td>2.0 - BLD 08</td>\n",
       "      <td>5536455</td>\n",
       "      <td>2013-11-01</td>\n",
       "      <td>2013-10-23</td>\n",
       "      <td>2013-11-21</td>\n",
       "      <td>29.0</td>\n",
       "      <td>2945.59</td>\n",
       "      <td>20640.0</td>\n",
       "      <td>1064.61</td>\n",
       "      <td>52.8</td>\n",
       "      <td>941.75</td>\n",
       "      <td>939.23</td>\n",
       "    </tr>\n",
       "    <tr>\n",
       "      <th>145</th>\n",
       "      <td>133644</td>\n",
       "      <td>WILLIAMSBURG</td>\n",
       "      <td>BLD 08</td>\n",
       "      <td>2.0 - BLD 08</td>\n",
       "      <td>5536455</td>\n",
       "      <td>2013-11-01</td>\n",
       "      <td>2013-10-23</td>\n",
       "      <td>2013-11-21</td>\n",
       "      <td>29.0</td>\n",
       "      <td>2945.59</td>\n",
       "      <td>20640.0</td>\n",
       "      <td>1064.61</td>\n",
       "      <td>52.8</td>\n",
       "      <td>941.75</td>\n",
       "      <td>939.23</td>\n",
       "    </tr>\n",
       "    <tr>\n",
       "      <th>142</th>\n",
       "      <td>133602</td>\n",
       "      <td>WILLIAMSBURG</td>\n",
       "      <td>BLD 08</td>\n",
       "      <td>2.0 - BLD 08</td>\n",
       "      <td>5652433</td>\n",
       "      <td>2013-11-01</td>\n",
       "      <td>2013-10-23</td>\n",
       "      <td>2013-11-21</td>\n",
       "      <td>29.0</td>\n",
       "      <td>2346.23</td>\n",
       "      <td>16440.0</td>\n",
       "      <td>847.98</td>\n",
       "      <td>38.4</td>\n",
       "      <td>684.91</td>\n",
       "      <td>813.34</td>\n",
       "    </tr>\n",
       "    <tr>\n",
       "      <th>143</th>\n",
       "      <td>133649</td>\n",
       "      <td>WILLIAMSBURG</td>\n",
       "      <td>BLD 08</td>\n",
       "      <td>2.0 - BLD 08</td>\n",
       "      <td>5652433</td>\n",
       "      <td>2013-11-01</td>\n",
       "      <td>2013-10-23</td>\n",
       "      <td>2013-11-21</td>\n",
       "      <td>29.0</td>\n",
       "      <td>2346.23</td>\n",
       "      <td>16440.0</td>\n",
       "      <td>847.98</td>\n",
       "      <td>38.4</td>\n",
       "      <td>684.91</td>\n",
       "      <td>813.34</td>\n",
       "    </tr>\n",
       "    <tr>\n",
       "      <th>140</th>\n",
       "      <td>133595</td>\n",
       "      <td>WILLIAMSBURG</td>\n",
       "      <td>BLD 09</td>\n",
       "      <td>2.0 - BLD 09</td>\n",
       "      <td>3764301</td>\n",
       "      <td>2013-11-01</td>\n",
       "      <td>2013-10-23</td>\n",
       "      <td>2013-11-21</td>\n",
       "      <td>29.0</td>\n",
       "      <td>0.00</td>\n",
       "      <td>0.0</td>\n",
       "      <td>0.00</td>\n",
       "      <td>41.7</td>\n",
       "      <td>743.77</td>\n",
       "      <td>-743.77</td>\n",
       "    </tr>\n",
       "    <tr>\n",
       "      <th>141</th>\n",
       "      <td>133642</td>\n",
       "      <td>WILLIAMSBURG</td>\n",
       "      <td>BLD 09</td>\n",
       "      <td>2.0 - BLD 09</td>\n",
       "      <td>3764301</td>\n",
       "      <td>2013-11-01</td>\n",
       "      <td>2013-10-23</td>\n",
       "      <td>2013-11-21</td>\n",
       "      <td>29.0</td>\n",
       "      <td>0.00</td>\n",
       "      <td>0.0</td>\n",
       "      <td>0.00</td>\n",
       "      <td>41.7</td>\n",
       "      <td>743.77</td>\n",
       "      <td>-743.77</td>\n",
       "    </tr>\n",
       "    <tr>\n",
       "      <th>138</th>\n",
       "      <td>133608</td>\n",
       "      <td>WILLIAMSBURG</td>\n",
       "      <td>BLD 10</td>\n",
       "      <td>2.0 - BLD 10</td>\n",
       "      <td>6477751</td>\n",
       "      <td>2013-11-01</td>\n",
       "      <td>2013-10-23</td>\n",
       "      <td>2013-11-21</td>\n",
       "      <td>29.0</td>\n",
       "      <td>2968.41</td>\n",
       "      <td>20800.0</td>\n",
       "      <td>1072.86</td>\n",
       "      <td>56.0</td>\n",
       "      <td>998.83</td>\n",
       "      <td>896.72</td>\n",
       "    </tr>\n",
       "    <tr>\n",
       "      <th>139</th>\n",
       "      <td>133655</td>\n",
       "      <td>WILLIAMSBURG</td>\n",
       "      <td>BLD 10</td>\n",
       "      <td>2.0 - BLD 10</td>\n",
       "      <td>6477751</td>\n",
       "      <td>2013-11-01</td>\n",
       "      <td>2013-10-23</td>\n",
       "      <td>2013-11-21</td>\n",
       "      <td>29.0</td>\n",
       "      <td>2968.41</td>\n",
       "      <td>20800.0</td>\n",
       "      <td>1072.86</td>\n",
       "      <td>56.0</td>\n",
       "      <td>998.83</td>\n",
       "      <td>896.72</td>\n",
       "    </tr>\n",
       "    <tr>\n",
       "      <th>136</th>\n",
       "      <td>133617</td>\n",
       "      <td>WILLIAMSBURG</td>\n",
       "      <td>BLD 12</td>\n",
       "      <td>2.0 - BLD 12</td>\n",
       "      <td>6484313</td>\n",
       "      <td>2013-11-01</td>\n",
       "      <td>2013-10-23</td>\n",
       "      <td>2013-11-21</td>\n",
       "      <td>29.0</td>\n",
       "      <td>5023.57</td>\n",
       "      <td>35200.0</td>\n",
       "      <td>1815.62</td>\n",
       "      <td>83.2</td>\n",
       "      <td>1483.97</td>\n",
       "      <td>1723.98</td>\n",
       "    </tr>\n",
       "    <tr>\n",
       "      <th>137</th>\n",
       "      <td>133664</td>\n",
       "      <td>WILLIAMSBURG</td>\n",
       "      <td>BLD 12</td>\n",
       "      <td>2.0 - BLD 12</td>\n",
       "      <td>6484313</td>\n",
       "      <td>2013-11-01</td>\n",
       "      <td>2013-10-23</td>\n",
       "      <td>2013-11-21</td>\n",
       "      <td>29.0</td>\n",
       "      <td>5023.57</td>\n",
       "      <td>35200.0</td>\n",
       "      <td>1815.62</td>\n",
       "      <td>83.2</td>\n",
       "      <td>1483.97</td>\n",
       "      <td>1723.98</td>\n",
       "    </tr>\n",
       "    <tr>\n",
       "      <th>134</th>\n",
       "      <td>133627</td>\n",
       "      <td>WILLIAMSBURG</td>\n",
       "      <td>BLD 13</td>\n",
       "      <td>2.0 - BLD 13</td>\n",
       "      <td>7613456</td>\n",
       "      <td>2013-11-01</td>\n",
       "      <td>2013-10-23</td>\n",
       "      <td>2013-11-21</td>\n",
       "      <td>29.0</td>\n",
       "      <td>4087.36</td>\n",
       "      <td>28640.0</td>\n",
       "      <td>1477.25</td>\n",
       "      <td>73.6</td>\n",
       "      <td>1312.74</td>\n",
       "      <td>1297.37</td>\n",
       "    </tr>\n",
       "    <tr>\n",
       "      <th>135</th>\n",
       "      <td>133639</td>\n",
       "      <td>WILLIAMSBURG</td>\n",
       "      <td>BLD 13</td>\n",
       "      <td>2.0 - BLD 13</td>\n",
       "      <td>7613456</td>\n",
       "      <td>2013-11-01</td>\n",
       "      <td>2013-10-23</td>\n",
       "      <td>2013-11-21</td>\n",
       "      <td>29.0</td>\n",
       "      <td>4087.36</td>\n",
       "      <td>28640.0</td>\n",
       "      <td>1477.25</td>\n",
       "      <td>73.6</td>\n",
       "      <td>1312.74</td>\n",
       "      <td>1297.37</td>\n",
       "    </tr>\n",
       "    <tr>\n",
       "      <th>132</th>\n",
       "      <td>133613</td>\n",
       "      <td>WILLIAMSBURG</td>\n",
       "      <td>BLD 14</td>\n",
       "      <td>2.0 - BLD 14</td>\n",
       "      <td>6484285</td>\n",
       "      <td>2013-11-01</td>\n",
       "      <td>2013-10-23</td>\n",
       "      <td>2013-11-21</td>\n",
       "      <td>29.0</td>\n",
       "      <td>5982.61</td>\n",
       "      <td>41920.0</td>\n",
       "      <td>2162.23</td>\n",
       "      <td>70.4</td>\n",
       "      <td>1255.67</td>\n",
       "      <td>2564.71</td>\n",
       "    </tr>\n",
       "    <tr>\n",
       "      <th>133</th>\n",
       "      <td>133660</td>\n",
       "      <td>WILLIAMSBURG</td>\n",
       "      <td>BLD 14</td>\n",
       "      <td>2.0 - BLD 14</td>\n",
       "      <td>6484285</td>\n",
       "      <td>2013-11-01</td>\n",
       "      <td>2013-10-23</td>\n",
       "      <td>2013-11-21</td>\n",
       "      <td>29.0</td>\n",
       "      <td>5982.61</td>\n",
       "      <td>41920.0</td>\n",
       "      <td>2162.23</td>\n",
       "      <td>70.4</td>\n",
       "      <td>1255.67</td>\n",
       "      <td>2564.71</td>\n",
       "    </tr>\n",
       "  </tbody>\n",
       "</table>\n",
       "</div>"
      ],
      "text/plain": [
       "        row  Account_Name Location   Building_ID Meter_Number Revenue_Month  \\\n",
       "0    133599  WILLIAMSBURG   BLD 06  2.0 - BLD 06      5648698    2013-11-01   \n",
       "1    133646  WILLIAMSBURG   BLD 06  2.0 - BLD 06      5648698    2013-11-01   \n",
       "26   133623  WILLIAMSBURG   BLD 07  2.0 - BLD 07      6994237    2013-11-01   \n",
       "27   133635  WILLIAMSBURG   BLD 07  2.0 - BLD 07      6994237    2013-11-01   \n",
       "146  133628  WILLIAMSBURG   BLD 07  2.0 - BLD 07      7861523    2013-11-01   \n",
       "147  133640  WILLIAMSBURG   BLD 07  2.0 - BLD 07      7861523    2013-11-01   \n",
       "144  133597  WILLIAMSBURG   BLD 08  2.0 - BLD 08      5536455    2013-11-01   \n",
       "145  133644  WILLIAMSBURG   BLD 08  2.0 - BLD 08      5536455    2013-11-01   \n",
       "142  133602  WILLIAMSBURG   BLD 08  2.0 - BLD 08      5652433    2013-11-01   \n",
       "143  133649  WILLIAMSBURG   BLD 08  2.0 - BLD 08      5652433    2013-11-01   \n",
       "140  133595  WILLIAMSBURG   BLD 09  2.0 - BLD 09      3764301    2013-11-01   \n",
       "141  133642  WILLIAMSBURG   BLD 09  2.0 - BLD 09      3764301    2013-11-01   \n",
       "138  133608  WILLIAMSBURG   BLD 10  2.0 - BLD 10      6477751    2013-11-01   \n",
       "139  133655  WILLIAMSBURG   BLD 10  2.0 - BLD 10      6477751    2013-11-01   \n",
       "136  133617  WILLIAMSBURG   BLD 12  2.0 - BLD 12      6484313    2013-11-01   \n",
       "137  133664  WILLIAMSBURG   BLD 12  2.0 - BLD 12      6484313    2013-11-01   \n",
       "134  133627  WILLIAMSBURG   BLD 13  2.0 - BLD 13      7613456    2013-11-01   \n",
       "135  133639  WILLIAMSBURG   BLD 13  2.0 - BLD 13      7613456    2013-11-01   \n",
       "132  133613  WILLIAMSBURG   BLD 14  2.0 - BLD 14      6484285    2013-11-01   \n",
       "133  133660  WILLIAMSBURG   BLD 14  2.0 - BLD 14      6484285    2013-11-01   \n",
       "\n",
       "    Service_Start_Date Service_End_Date  # days  Current_Charges  \\\n",
       "0           2013-10-23       2013-11-21    29.0          2877.11   \n",
       "1           2013-10-23       2013-11-21    29.0          2877.11   \n",
       "26          2013-10-23       2013-11-21    29.0          3128.25   \n",
       "27          2013-10-23       2013-11-21    29.0          3128.25   \n",
       "146         2013-10-23       2013-11-21    29.0          2854.29   \n",
       "147         2013-10-23       2013-11-21    29.0          2854.29   \n",
       "144         2013-10-23       2013-11-21    29.0          2945.59   \n",
       "145         2013-10-23       2013-11-21    29.0          2945.59   \n",
       "142         2013-10-23       2013-11-21    29.0          2346.23   \n",
       "143         2013-10-23       2013-11-21    29.0          2346.23   \n",
       "140         2013-10-23       2013-11-21    29.0             0.00   \n",
       "141         2013-10-23       2013-11-21    29.0             0.00   \n",
       "138         2013-10-23       2013-11-21    29.0          2968.41   \n",
       "139         2013-10-23       2013-11-21    29.0          2968.41   \n",
       "136         2013-10-23       2013-11-21    29.0          5023.57   \n",
       "137         2013-10-23       2013-11-21    29.0          5023.57   \n",
       "134         2013-10-23       2013-11-21    29.0          4087.36   \n",
       "135         2013-10-23       2013-11-21    29.0          4087.36   \n",
       "132         2013-10-23       2013-11-21    29.0          5982.61   \n",
       "133         2013-10-23       2013-11-21    29.0          5982.61   \n",
       "\n",
       "     Consumption_KWH  KWH_Charges  Consumption_KW  KW_Charges  Other_Charges  \n",
       "0            20160.0      1039.85            48.0      856.14         981.12  \n",
       "1            20160.0      1039.85            48.0      856.14         981.12  \n",
       "26           21920.0      1130.63            34.4      613.56        1384.06  \n",
       "27           21920.0      1130.63            34.4      613.56        1384.06  \n",
       "146          20000.0      1031.60            56.0      998.83         823.86  \n",
       "147          20000.0      1031.60            56.0      998.83         823.86  \n",
       "144          20640.0      1064.61            52.8      941.75         939.23  \n",
       "145          20640.0      1064.61            52.8      941.75         939.23  \n",
       "142          16440.0       847.98            38.4      684.91         813.34  \n",
       "143          16440.0       847.98            38.4      684.91         813.34  \n",
       "140              0.0         0.00            41.7      743.77        -743.77  \n",
       "141              0.0         0.00            41.7      743.77        -743.77  \n",
       "138          20800.0      1072.86            56.0      998.83         896.72  \n",
       "139          20800.0      1072.86            56.0      998.83         896.72  \n",
       "136          35200.0      1815.62            83.2     1483.97        1723.98  \n",
       "137          35200.0      1815.62            83.2     1483.97        1723.98  \n",
       "134          28640.0      1477.25            73.6     1312.74        1297.37  \n",
       "135          28640.0      1477.25            73.6     1312.74        1297.37  \n",
       "132          41920.0      2162.23            70.4     1255.67        2564.71  \n",
       "133          41920.0      2162.23            70.4     1255.67        2564.71  "
      ]
     },
     "execution_count": 52,
     "metadata": {},
     "output_type": "execute_result"
    }
   ],
   "source": [
    "temp.head(20)"
   ]
  },
  {
   "cell_type": "markdown",
   "metadata": {},
   "source": [
    "Identify the index of rows and delete them from the working dataframe df."
   ]
  },
  {
   "cell_type": "code",
   "execution_count": 53,
   "metadata": {},
   "outputs": [],
   "source": [
    "mask = df['row'].isin(temp['row'].values)\n",
    "\n",
    "df = df[~mask]"
   ]
  },
  {
   "cell_type": "markdown",
   "metadata": {},
   "source": [
    "For each group of duplicated rows, add the row with the smallest index back to the working dataframe df."
   ]
  },
  {
   "cell_type": "code",
   "execution_count": 54,
   "metadata": {},
   "outputs": [],
   "source": [
    "tempB = temp.groupby(list(temp.columns[1:])).agg({'row': 'min'}).reset_index()\n",
    "cols = tempB.columns\n",
    "cols = cols[0:-1].insert(0, cols[-1])\n",
    "tempB = tempB[cols]\n",
    "\n",
    "df = df.append(tempB)"
   ]
  },
  {
   "cell_type": "markdown",
   "metadata": {},
   "source": [
    "Add flags to the df_flag dataframe."
   ]
  },
  {
   "cell_type": "code",
   "execution_count": 55,
   "metadata": {},
   "outputs": [],
   "source": [
    "merged = temp.merge(tempB, indicator=True, how='outer')\n",
    "df_flags = pd.concat([df_flags, pd.DataFrame({'row':merged.loc[merged['_merge'] == 'left_only'].row.values, \\\n",
    "                                              'flag':'Duplicated rows'})])"
   ]
  },
  {
   "cell_type": "markdown",
   "metadata": {},
   "source": [
    "Check again which combinations of the 4 fields (Building_ID, Meter_Number, Service_Start_Date, Service_End_Date) has multiple rows."
   ]
  },
  {
   "cell_type": "code",
   "execution_count": 56,
   "metadata": {},
   "outputs": [
    {
     "data": {
      "text/html": [
       "<div>\n",
       "<style scoped>\n",
       "    .dataframe tbody tr th:only-of-type {\n",
       "        vertical-align: middle;\n",
       "    }\n",
       "\n",
       "    .dataframe tbody tr th {\n",
       "        vertical-align: top;\n",
       "    }\n",
       "\n",
       "    .dataframe thead th {\n",
       "        text-align: right;\n",
       "    }\n",
       "</style>\n",
       "<table border=\"1\" class=\"dataframe\">\n",
       "  <thead>\n",
       "    <tr style=\"text-align: right;\">\n",
       "      <th></th>\n",
       "      <th>row</th>\n",
       "      <th>Account_Name</th>\n",
       "      <th>Location</th>\n",
       "      <th>Building_ID</th>\n",
       "      <th>Meter_Number</th>\n",
       "      <th>Revenue_Month</th>\n",
       "      <th>Service_Start_Date</th>\n",
       "      <th>Service_End_Date</th>\n",
       "      <th># days</th>\n",
       "      <th>Current_Charges</th>\n",
       "      <th>Consumption_KWH</th>\n",
       "      <th>KWH_Charges</th>\n",
       "      <th>Consumption_KW</th>\n",
       "      <th>KW_Charges</th>\n",
       "      <th>Other_Charges</th>\n",
       "    </tr>\n",
       "  </thead>\n",
       "  <tbody>\n",
       "    <tr>\n",
       "      <th>0</th>\n",
       "      <td>56871</td>\n",
       "      <td>THROGGS NECK</td>\n",
       "      <td>BLD 11</td>\n",
       "      <td>63.0 - BLD 11</td>\n",
       "      <td>8125318</td>\n",
       "      <td>2011-10-01</td>\n",
       "      <td>2011-09-22</td>\n",
       "      <td>2011-10-24</td>\n",
       "      <td>32.0</td>\n",
       "      <td>1306.02</td>\n",
       "      <td>12880.0</td>\n",
       "      <td>858.84</td>\n",
       "      <td>0.0</td>\n",
       "      <td>0.0</td>\n",
       "      <td>447.18</td>\n",
       "    </tr>\n",
       "    <tr>\n",
       "      <th>1</th>\n",
       "      <td>56872</td>\n",
       "      <td>THROGGS NECK</td>\n",
       "      <td>BLD 11</td>\n",
       "      <td>63.0 - BLD 11</td>\n",
       "      <td>8125318</td>\n",
       "      <td>2011-10-01</td>\n",
       "      <td>2011-09-22</td>\n",
       "      <td>2011-10-24</td>\n",
       "      <td>32.0</td>\n",
       "      <td>2693.18</td>\n",
       "      <td>26560.0</td>\n",
       "      <td>1771.02</td>\n",
       "      <td>0.0</td>\n",
       "      <td>0.0</td>\n",
       "      <td>922.16</td>\n",
       "    </tr>\n",
       "  </tbody>\n",
       "</table>\n",
       "</div>"
      ],
      "text/plain": [
       "     row  Account_Name Location    Building_ID Meter_Number Revenue_Month  \\\n",
       "0  56871  THROGGS NECK   BLD 11  63.0 - BLD 11      8125318    2011-10-01   \n",
       "1  56872  THROGGS NECK   BLD 11  63.0 - BLD 11      8125318    2011-10-01   \n",
       "\n",
       "  Service_Start_Date Service_End_Date  # days  Current_Charges  \\\n",
       "0         2011-09-22       2011-10-24    32.0          1306.02   \n",
       "1         2011-09-22       2011-10-24    32.0          2693.18   \n",
       "\n",
       "   Consumption_KWH  KWH_Charges  Consumption_KW  KW_Charges  Other_Charges  \n",
       "0          12880.0       858.84             0.0         0.0         447.18  \n",
       "1          26560.0      1771.02             0.0         0.0         922.16  "
      ]
     },
     "execution_count": 56,
     "metadata": {},
     "output_type": "execute_result"
    }
   ],
   "source": [
    "idx = df.groupby(['Building_ID', 'Meter_Number', 'Service_Start_Date', 'Service_End_Date']).count()['Account_Name'].reset_index()\n",
    "idx.columns = ['Building_ID', 'Meter_Number', 'Service_Start_Date', 'Service_End_Date', 'Counts']\n",
    "idx = idx[idx['Counts'] > 1]\n",
    "\n",
    "dupRows = idx.sort_values('Counts', ascending = False)\n",
    "\n",
    "temp = pd.merge(dupRows, df, on = \\\n",
    "         ['Building_ID', 'Meter_Number', 'Service_Start_Date', 'Service_End_Date'], how = 'inner')[cols]\\\n",
    "        .sort_values(['Building_ID', 'Meter_Number', 'Service_Start_Date', 'Service_End_Date'])\n",
    "\n",
    "temp"
   ]
  },
  {
   "cell_type": "markdown",
   "metadata": {},
   "source": [
    "Only 2 rows left, caused by rebilling (same account, same billing window)."
   ]
  },
  {
   "cell_type": "code",
   "execution_count": 57,
   "metadata": {},
   "outputs": [],
   "source": [
    "mask = df['row'].isin(temp['row'].values)\n",
    "df_flags = pd.concat([df_flags, pd.DataFrame({'row':df[mask].row.values, 'flag':'rebill - same billing period'})])\n",
    "df = df[~mask]"
   ]
  },
  {
   "cell_type": "markdown",
   "metadata": {},
   "source": [
    "Remove unnecessary columns and reorder the remaining."
   ]
  },
  {
   "cell_type": "code",
   "execution_count": 58,
   "metadata": {},
   "outputs": [],
   "source": [
    "cols = ['row', 'Account_Name', 'Location', 'Building_ID', 'Meter_Number',\n",
    "       'Revenue_Month', 'Service_Start_Date', 'Service_End_Date',\n",
    "       '# days', 'Consumption_KWH', 'KWH_Charges', 'Consumption_KW','KW_Charges', \n",
    "        'Other_Charges', 'Current_Charges']\n",
    "\n",
    "df = df[cols]"
   ]
  },
  {
   "cell_type": "markdown",
   "metadata": {},
   "source": [
    "More than 25% of the values for all numerical variables except \"Curent Charges\" are 0 (as indicated by the 25th percentile values of these variables). We need to investigate the cause of this."
   ]
  },
  {
   "cell_type": "code",
   "execution_count": 59,
   "metadata": {},
   "outputs": [
    {
     "data": {
      "text/html": [
       "<div>\n",
       "<style scoped>\n",
       "    .dataframe tbody tr th:only-of-type {\n",
       "        vertical-align: middle;\n",
       "    }\n",
       "\n",
       "    .dataframe tbody tr th {\n",
       "        vertical-align: top;\n",
       "    }\n",
       "\n",
       "    .dataframe thead th {\n",
       "        text-align: right;\n",
       "    }\n",
       "</style>\n",
       "<table border=\"1\" class=\"dataframe\">\n",
       "  <thead>\n",
       "    <tr style=\"text-align: right;\">\n",
       "      <th></th>\n",
       "      <th>Consumption_KWH</th>\n",
       "      <th>Consumption_KW</th>\n",
       "      <th>Current_Charges</th>\n",
       "      <th>KWH_Charges</th>\n",
       "      <th>KW_Charges</th>\n",
       "      <th>Other_Charges</th>\n",
       "    </tr>\n",
       "  </thead>\n",
       "  <tbody>\n",
       "    <tr>\n",
       "      <th>count</th>\n",
       "      <td>2.593130e+05</td>\n",
       "      <td>259313.000000</td>\n",
       "      <td>259313.000000</td>\n",
       "      <td>259313.000000</td>\n",
       "      <td>259313.000000</td>\n",
       "      <td>259313.000000</td>\n",
       "    </tr>\n",
       "    <tr>\n",
       "      <th>mean</th>\n",
       "      <td>3.280033e+04</td>\n",
       "      <td>68.732254</td>\n",
       "      <td>4543.306841</td>\n",
       "      <td>1686.000630</td>\n",
       "      <td>1092.581876</td>\n",
       "      <td>1684.240735</td>\n",
       "    </tr>\n",
       "    <tr>\n",
       "      <th>std</th>\n",
       "      <td>5.319530e+04</td>\n",
       "      <td>122.580708</td>\n",
       "      <td>6643.774008</td>\n",
       "      <td>2928.751687</td>\n",
       "      <td>1812.127834</td>\n",
       "      <td>3637.524167</td>\n",
       "    </tr>\n",
       "    <tr>\n",
       "      <th>min</th>\n",
       "      <td>0.000000e+00</td>\n",
       "      <td>0.000000</td>\n",
       "      <td>-243.150000</td>\n",
       "      <td>0.000000</td>\n",
       "      <td>0.000000</td>\n",
       "      <td>-59396.430000</td>\n",
       "    </tr>\n",
       "    <tr>\n",
       "      <th>25%</th>\n",
       "      <td>0.000000e+00</td>\n",
       "      <td>0.000000</td>\n",
       "      <td>412.460000</td>\n",
       "      <td>0.000000</td>\n",
       "      <td>0.000000</td>\n",
       "      <td>0.000000</td>\n",
       "    </tr>\n",
       "    <tr>\n",
       "      <th>50%</th>\n",
       "      <td>1.200000e+04</td>\n",
       "      <td>32.800000</td>\n",
       "      <td>2574.230000</td>\n",
       "      <td>586.820000</td>\n",
       "      <td>468.720000</td>\n",
       "      <td>916.180000</td>\n",
       "    </tr>\n",
       "    <tr>\n",
       "      <th>75%</th>\n",
       "      <td>4.848000e+04</td>\n",
       "      <td>99.200000</td>\n",
       "      <td>6092.670000</td>\n",
       "      <td>2376.260000</td>\n",
       "      <td>1610.760000</td>\n",
       "      <td>2654.430000</td>\n",
       "    </tr>\n",
       "    <tr>\n",
       "      <th>max</th>\n",
       "      <td>1.779600e+06</td>\n",
       "      <td>16135.460000</td>\n",
       "      <td>329800.370000</td>\n",
       "      <td>195575.860000</td>\n",
       "      <td>78782.960000</td>\n",
       "      <td>134224.510000</td>\n",
       "    </tr>\n",
       "  </tbody>\n",
       "</table>\n",
       "</div>"
      ],
      "text/plain": [
       "       Consumption_KWH  Consumption_KW  Current_Charges    KWH_Charges  \\\n",
       "count     2.593130e+05   259313.000000    259313.000000  259313.000000   \n",
       "mean      3.280033e+04       68.732254      4543.306841    1686.000630   \n",
       "std       5.319530e+04      122.580708      6643.774008    2928.751687   \n",
       "min       0.000000e+00        0.000000      -243.150000       0.000000   \n",
       "25%       0.000000e+00        0.000000       412.460000       0.000000   \n",
       "50%       1.200000e+04       32.800000      2574.230000     586.820000   \n",
       "75%       4.848000e+04       99.200000      6092.670000    2376.260000   \n",
       "max       1.779600e+06    16135.460000    329800.370000  195575.860000   \n",
       "\n",
       "          KW_Charges  Other_Charges  \n",
       "count  259313.000000  259313.000000  \n",
       "mean     1092.581876    1684.240735  \n",
       "std      1812.127834    3637.524167  \n",
       "min         0.000000  -59396.430000  \n",
       "25%         0.000000       0.000000  \n",
       "50%       468.720000     916.180000  \n",
       "75%      1610.760000    2654.430000  \n",
       "max     78782.960000  134224.510000  "
      ]
     },
     "execution_count": 59,
     "metadata": {},
     "output_type": "execute_result"
    }
   ],
   "source": [
    "df[[\"Consumption_KWH\",  \"Consumption_KW\", \"Current_Charges\", \"KWH_Charges\", \"KW_Charges\", \"Other_Charges\"]].describe()"
   ]
  },
  {
   "cell_type": "markdown",
   "metadata": {},
   "source": [
    "After exploring the dataset, we noticed a few issues:\n",
    "1. lots of rows have zero values in all numerical fields of charges and consumptions\n",
    "2. lots of accounts only have non-zero values in kw_charges or kwh_charges (it suggests for some accounts the billing of KWH_Charges and KW_Charge are separated, making the account to be KWH_only or KW_only effectively)\n",
    "3. lots of rows where current_charges != sum of kwh_charges, kw_charges and other_charges\n",
    "4. charges and energy usage values are not consistent (e.g. kw_charges == 0 whereas kw > 0)"
   ]
  },
  {
   "cell_type": "markdown",
   "metadata": {},
   "source": [
    "We will create a set of metrics to indicate the dataset's degree of cleanliness and start to solve these data quality issues in the next step."
   ]
  },
  {
   "cell_type": "markdown",
   "metadata": {},
   "source": [
    "### 2.8 Calculate Data Cleanliness Metrics regarding zero-values and meter types - Initial Check"
   ]
  },
  {
   "cell_type": "code",
   "execution_count": 60,
   "metadata": {},
   "outputs": [
    {
     "name": "stdout",
     "output_type": "stream",
     "text": [
      "perc of kw_only accounts: 28.46%\n",
      "perc of kwh_only accounts: 36.40%\n",
      "perc of kwh_and_kw accounts: 35.13%\n",
      "perc of buildings with both kw_only and kwh_only accounts: 52.79%\n",
      "\n",
      "\n",
      "perc of rows - current charges of zero: 16.61%\n",
      "perc of rows - kw charges of zero: 41.13%\n",
      "perc of rows - kwh charges of zero: 33.03%\n",
      "perc of rows - usage/charge inconsistency: 4.45%\n",
      "perc of rows - sum of charges inconsistency: 29.34%\n"
     ]
    }
   ],
   "source": [
    "pysql = lambda q: pdsql.sqldf(q, globals())\n",
    "str1 = \"select Building_ID, Meter_Number \\\n",
    "        , sum(case when KWH_Charges == 0 and KW_Charges > 0 then 1 else 0 end) as count_kw_only \\\n",
    "        , sum(case when KW_Charges == 0 and KWH_Charges > 0 then 1 else 0 end) as count_kwh_only \\\n",
    "        , sum(Current_Charges) as total_current_charges \\\n",
    "        , count(*) as count \\\n",
    "        from df \\\n",
    "        group by df.Building_ID, df.Meter_Number\"\n",
    "df_meter_type = pysql(str1)\n",
    "\n",
    "\n",
    "df_meter_type['kwh_only'] = ((df_meter_type['count_kwh_only']/df_meter_type['count']) > 0.9) & (df_meter_type['count_kw_only'] == 0)\n",
    "df_meter_type['kw_only'] = ((df_meter_type['count_kw_only']/df_meter_type['count']) > 0.9) & (df_meter_type['count_kwh_only'] == 0)\n",
    "\n",
    "#### check the meters\n",
    "\n",
    "print(\"perc of kw_only accounts:\", \"{:.2%}\".format(df_meter_type[(df_meter_type['kw_only'] == 1) & (df_meter_type['kwh_only'] == 0)].shape[0] / df_meter_type.shape[0]))\n",
    "\n",
    "print(\"perc of kwh_only accounts:\", \"{:.2%}\".format(df_meter_type[(df_meter_type['kwh_only'] == 1) & (df_meter_type['kw_only'] == 0)].shape[0] / df_meter_type.shape[0]))\n",
    "\n",
    "print(\"perc of kwh_and_kw accounts:\", \"{:.2%}\".format(df_meter_type[(df_meter_type['kwh_only'] == 0) & (df_meter_type['kw_only'] == 0)].shape[0] / df_meter_type.shape[0]))\n",
    "\n",
    "\n",
    "#### check the building_ids\n",
    "\n",
    "a = df_meter_type[df_meter_type['kwh_only'] == 1].groupby(['Building_ID']).agg('count').reset_index().iloc[:, 0:2]\n",
    "b =  df_meter_type[df_meter_type['kw_only'] == 1].groupby(['Building_ID']).agg('count').reset_index().iloc[:, 0:2]\n",
    "a.columns = ['Building_ID', 'Count']\n",
    "b.columns = ['Building_ID', 'Count']\n",
    "\n",
    "print(\"perc of buildings with both kw_only and kwh_only accounts:\", \\\n",
    "     \"{:.2%}\".format(pd.merge(a, b, on = 'Building_ID', how = 'inner').shape[0] \\\n",
    "/ df_meter_type.groupby(['Building_ID']).agg('count').reset_index().shape[0]))\n",
    "\n",
    "print(\"\\n\")\n",
    "\n",
    "#### Check the statistics of zero-value rows:\n",
    "\n",
    "print(\"perc of rows - current charges of zero:\", \"{:.2%}\".format(df[df['Current_Charges'] == 0].shape[0] / df.shape[0]))\n",
    "\n",
    "print(\"perc of rows - kw charges of zero:\", \"{:.2%}\".format(df[df['KW_Charges'] == 0].shape[0] / df.shape[0]))\n",
    "\n",
    "print(\"perc of rows - kwh charges of zero:\", \"{:.2%}\".format(df[df['KWH_Charges'] == 0].shape[0] / df.shape[0]))\n",
    "\n",
    "print(\"perc of rows - usage/charge inconsistency:\", \\\n",
    "      \"{:.2%}\".format(df[((df['KWH_Charges'] == 0) ^ (df['Consumption_KWH'] == 0)) \\\n",
    "   | ((df['KW_Charges'] == 0) ^ (df['Consumption_KW'] == 0)) ].shape[0]\\\n",
    "    /df.shape[0]))\n",
    "\n",
    "print(\"perc of rows - sum of charges inconsistency:\", \\\n",
    "     \"{:.2%}\".format(1 - df[df['Current_Charges'] == df['KWH_Charges'] + df['KW_Charges'] + df['Other_Charges']].shape[0]\\\n",
    "    /df.shape[0]))"
   ]
  },
  {
   "cell_type": "code",
   "execution_count": null,
   "metadata": {},
   "outputs": [],
   "source": []
  },
  {
   "cell_type": "markdown",
   "metadata": {},
   "source": [
    "## Step 3 - Resolve the data quality issues"
   ]
  },
  {
   "cell_type": "markdown",
   "metadata": {},
   "source": [
    "The high percentage of rows with zero kwh or kw charges might be caused by the kw_only and kwh_only accounts. Handling them is the main task of this section. But first let's look at a few smaller issues."
   ]
  },
  {
   "cell_type": "markdown",
   "metadata": {},
   "source": [
    "### 3.1 Handle issues regarding the current_charges field"
   ]
  },
  {
   "cell_type": "markdown",
   "metadata": {},
   "source": [
    "When current_charges == 0, all kwh_charges == 0 (as indicated by the NaN correlation coefficients with all other variables) and kw_charges seems to be negatively correlated with other_charges."
   ]
  },
  {
   "cell_type": "code",
   "execution_count": 61,
   "metadata": {},
   "outputs": [
    {
     "data": {
      "text/html": [
       "<div>\n",
       "<style scoped>\n",
       "    .dataframe tbody tr th:only-of-type {\n",
       "        vertical-align: middle;\n",
       "    }\n",
       "\n",
       "    .dataframe tbody tr th {\n",
       "        vertical-align: top;\n",
       "    }\n",
       "\n",
       "    .dataframe thead th {\n",
       "        text-align: right;\n",
       "    }\n",
       "</style>\n",
       "<table border=\"1\" class=\"dataframe\">\n",
       "  <thead>\n",
       "    <tr style=\"text-align: right;\">\n",
       "      <th></th>\n",
       "      <th>KWH_Charges</th>\n",
       "      <th>KW_Charges</th>\n",
       "      <th>KWH_Charges</th>\n",
       "      <th>Other_Charges</th>\n",
       "    </tr>\n",
       "  </thead>\n",
       "  <tbody>\n",
       "    <tr>\n",
       "      <th>KWH_Charges</th>\n",
       "      <td>NaN</td>\n",
       "      <td>NaN</td>\n",
       "      <td>NaN</td>\n",
       "      <td>NaN</td>\n",
       "    </tr>\n",
       "    <tr>\n",
       "      <th>KW_Charges</th>\n",
       "      <td>NaN</td>\n",
       "      <td>1.000000</td>\n",
       "      <td>NaN</td>\n",
       "      <td>-0.694394</td>\n",
       "    </tr>\n",
       "    <tr>\n",
       "      <th>KWH_Charges</th>\n",
       "      <td>NaN</td>\n",
       "      <td>NaN</td>\n",
       "      <td>NaN</td>\n",
       "      <td>NaN</td>\n",
       "    </tr>\n",
       "    <tr>\n",
       "      <th>Other_Charges</th>\n",
       "      <td>NaN</td>\n",
       "      <td>-0.694394</td>\n",
       "      <td>NaN</td>\n",
       "      <td>1.000000</td>\n",
       "    </tr>\n",
       "  </tbody>\n",
       "</table>\n",
       "</div>"
      ],
      "text/plain": [
       "               KWH_Charges  KW_Charges  KWH_Charges  Other_Charges\n",
       "KWH_Charges            NaN         NaN          NaN            NaN\n",
       "KW_Charges             NaN    1.000000          NaN      -0.694394\n",
       "KWH_Charges            NaN         NaN          NaN            NaN\n",
       "Other_Charges          NaN   -0.694394          NaN       1.000000"
      ]
     },
     "execution_count": 61,
     "metadata": {},
     "output_type": "execute_result"
    }
   ],
   "source": [
    "df[df['Current_Charges'] == 0][['KWH_Charges', 'KW_Charges', 'KWH_Charges', 'Other_Charges']].corr()"
   ]
  },
  {
   "cell_type": "markdown",
   "metadata": {},
   "source": [
    "When current_charges is 0, 82.3% of the time kw_charges == - other_charges and kw_charges == other_charges otherwise."
   ]
  },
  {
   "cell_type": "code",
   "execution_count": 62,
   "metadata": {},
   "outputs": [],
   "source": [
    "mask = (df['Other_Charges'] + df['KW_Charges'] == 0) & (df['Current_Charges'] == 0) & (df['KWH_Charges'] == 0)"
   ]
  },
  {
   "cell_type": "code",
   "execution_count": 63,
   "metadata": {},
   "outputs": [
    {
     "name": "stdout",
     "output_type": "stream",
     "text": [
      "82.30%\n"
     ]
    }
   ],
   "source": [
    "print(\"{:.2%}\".format(df[mask].shape[0]/df[df['Current_Charges'] == 0].shape[0]))"
   ]
  },
  {
   "cell_type": "code",
   "execution_count": 64,
   "metadata": {},
   "outputs": [
    {
     "data": {
      "text/plain": [
       "1.0"
      ]
     },
     "execution_count": 64,
     "metadata": {},
     "output_type": "execute_result"
    }
   ],
   "source": [
    "df[(df['Current_Charges'] == 0) & ((df['Other_Charges'] == df['KW_Charges']) \\\n",
    "        | (df['Other_Charges'] + df['KW_Charges'] == 0))].shape[0] / \\\n",
    "df[df['Current_Charges'] == 0].shape[0]"
   ]
  },
  {
   "cell_type": "markdown",
   "metadata": {},
   "source": [
    "Correct the rows where Other_Charges == KW_Charges with Other_Charges = -KW_Charges"
   ]
  },
  {
   "cell_type": "code",
   "execution_count": 65,
   "metadata": {},
   "outputs": [],
   "source": [
    "mask = (df['Current_Charges'] == 0) & ((df['Other_Charges'] == df['KW_Charges']) & (df['KW_Charges'] != 0))"
   ]
  },
  {
   "cell_type": "code",
   "execution_count": 66,
   "metadata": {},
   "outputs": [],
   "source": [
    "df.loc[mask, 'Other_Charges'] = df.loc[mask, 'KW_Charges'] * (-1)"
   ]
  },
  {
   "cell_type": "markdown",
   "metadata": {},
   "source": [
    "Now when current_charges is zero, kwh_charge is zero, and kw_charges and other_charge either have a sum of zero or both being zero."
   ]
  },
  {
   "cell_type": "code",
   "execution_count": 67,
   "metadata": {},
   "outputs": [
    {
     "data": {
      "text/html": [
       "<div>\n",
       "<style scoped>\n",
       "    .dataframe tbody tr th:only-of-type {\n",
       "        vertical-align: middle;\n",
       "    }\n",
       "\n",
       "    .dataframe tbody tr th {\n",
       "        vertical-align: top;\n",
       "    }\n",
       "\n",
       "    .dataframe thead th {\n",
       "        text-align: right;\n",
       "    }\n",
       "</style>\n",
       "<table border=\"1\" class=\"dataframe\">\n",
       "  <thead>\n",
       "    <tr style=\"text-align: right;\">\n",
       "      <th></th>\n",
       "      <th>Current_Charges</th>\n",
       "      <th>KW_Charges</th>\n",
       "      <th>KWH_Charges</th>\n",
       "      <th>Other_Charges</th>\n",
       "    </tr>\n",
       "  </thead>\n",
       "  <tbody>\n",
       "    <tr>\n",
       "      <th>Current_Charges</th>\n",
       "      <td>NaN</td>\n",
       "      <td>NaN</td>\n",
       "      <td>NaN</td>\n",
       "      <td>NaN</td>\n",
       "    </tr>\n",
       "    <tr>\n",
       "      <th>KW_Charges</th>\n",
       "      <td>NaN</td>\n",
       "      <td>1.0</td>\n",
       "      <td>NaN</td>\n",
       "      <td>-1.0</td>\n",
       "    </tr>\n",
       "    <tr>\n",
       "      <th>KWH_Charges</th>\n",
       "      <td>NaN</td>\n",
       "      <td>NaN</td>\n",
       "      <td>NaN</td>\n",
       "      <td>NaN</td>\n",
       "    </tr>\n",
       "    <tr>\n",
       "      <th>Other_Charges</th>\n",
       "      <td>NaN</td>\n",
       "      <td>-1.0</td>\n",
       "      <td>NaN</td>\n",
       "      <td>1.0</td>\n",
       "    </tr>\n",
       "  </tbody>\n",
       "</table>\n",
       "</div>"
      ],
      "text/plain": [
       "                 Current_Charges  KW_Charges  KWH_Charges  Other_Charges\n",
       "Current_Charges              NaN         NaN          NaN            NaN\n",
       "KW_Charges                   NaN         1.0          NaN           -1.0\n",
       "KWH_Charges                  NaN         NaN          NaN            NaN\n",
       "Other_Charges                NaN        -1.0          NaN            1.0"
      ]
     },
     "execution_count": 67,
     "metadata": {},
     "output_type": "execute_result"
    }
   ],
   "source": [
    "df[df['Current_Charges'] == 0][['Current_Charges', 'KW_Charges', 'KWH_Charges', 'Other_Charges']].corr()"
   ]
  },
  {
   "cell_type": "markdown",
   "metadata": {},
   "source": [
    "Update the flag in df_flags:"
   ]
  },
  {
   "cell_type": "code",
   "execution_count": 68,
   "metadata": {},
   "outputs": [],
   "source": [
    "df_flags = pd.concat([df_flags, pd.DataFrame({'row':df[mask].row.values, 'flag':'Sign of Other_Charges is incorrect'})])"
   ]
  },
  {
   "cell_type": "markdown",
   "metadata": {},
   "source": [
    "This lowers the percentage of sum of charges inconsistency a little bit."
   ]
  },
  {
   "cell_type": "code",
   "execution_count": 69,
   "metadata": {},
   "outputs": [
    {
     "name": "stdout",
     "output_type": "stream",
     "text": [
      "perc of rows - sum of charges inconsistency: 26.40%\n"
     ]
    }
   ],
   "source": [
    "print(\"perc of rows - sum of charges inconsistency:\", \\\n",
    "     \"{:.2%}\".format(1 - df[df['Current_Charges'] == df['KWH_Charges'] + df['KW_Charges'] + df['Other_Charges']].shape[0]\\\n",
    "    /df.shape[0]))"
   ]
  },
  {
   "cell_type": "markdown",
   "metadata": {},
   "source": [
    "When Current_Charges is negative. Both KWH and KW charges are non-negative, mostly be caused by negative other_charges values."
   ]
  },
  {
   "cell_type": "code",
   "execution_count": 70,
   "metadata": {},
   "outputs": [
    {
     "data": {
      "text/plain": [
       "(103, 15)"
      ]
     },
     "execution_count": 70,
     "metadata": {},
     "output_type": "execute_result"
    }
   ],
   "source": [
    "df[df['Current_Charges'] < 0].shape"
   ]
  },
  {
   "cell_type": "code",
   "execution_count": 71,
   "metadata": {},
   "outputs": [
    {
     "data": {
      "text/html": [
       "<div>\n",
       "<style scoped>\n",
       "    .dataframe tbody tr th:only-of-type {\n",
       "        vertical-align: middle;\n",
       "    }\n",
       "\n",
       "    .dataframe tbody tr th {\n",
       "        vertical-align: top;\n",
       "    }\n",
       "\n",
       "    .dataframe thead th {\n",
       "        text-align: right;\n",
       "    }\n",
       "</style>\n",
       "<table border=\"1\" class=\"dataframe\">\n",
       "  <thead>\n",
       "    <tr style=\"text-align: right;\">\n",
       "      <th></th>\n",
       "      <th>Current_Charges</th>\n",
       "      <th>KW_Charges</th>\n",
       "      <th>KWH_Charges</th>\n",
       "      <th>Other_Charges</th>\n",
       "    </tr>\n",
       "  </thead>\n",
       "  <tbody>\n",
       "    <tr>\n",
       "      <th>Current_Charges</th>\n",
       "      <td>1.000000</td>\n",
       "      <td>0.231555</td>\n",
       "      <td>-0.664964</td>\n",
       "      <td>-0.078367</td>\n",
       "    </tr>\n",
       "    <tr>\n",
       "      <th>KW_Charges</th>\n",
       "      <td>0.231555</td>\n",
       "      <td>1.000000</td>\n",
       "      <td>-0.399655</td>\n",
       "      <td>0.000617</td>\n",
       "    </tr>\n",
       "    <tr>\n",
       "      <th>KWH_Charges</th>\n",
       "      <td>-0.664964</td>\n",
       "      <td>-0.399655</td>\n",
       "      <td>1.000000</td>\n",
       "      <td>-0.006223</td>\n",
       "    </tr>\n",
       "    <tr>\n",
       "      <th>Other_Charges</th>\n",
       "      <td>-0.078367</td>\n",
       "      <td>0.000617</td>\n",
       "      <td>-0.006223</td>\n",
       "      <td>1.000000</td>\n",
       "    </tr>\n",
       "  </tbody>\n",
       "</table>\n",
       "</div>"
      ],
      "text/plain": [
       "                 Current_Charges  KW_Charges  KWH_Charges  Other_Charges\n",
       "Current_Charges         1.000000    0.231555    -0.664964      -0.078367\n",
       "KW_Charges              0.231555    1.000000    -0.399655       0.000617\n",
       "KWH_Charges            -0.664964   -0.399655     1.000000      -0.006223\n",
       "Other_Charges          -0.078367    0.000617    -0.006223       1.000000"
      ]
     },
     "execution_count": 71,
     "metadata": {},
     "output_type": "execute_result"
    }
   ],
   "source": [
    "df[df['Current_Charges'] < 0][['Current_Charges', 'KW_Charges', 'KWH_Charges', 'Other_Charges']].corr()"
   ]
  },
  {
   "cell_type": "code",
   "execution_count": 72,
   "metadata": {},
   "outputs": [
    {
     "data": {
      "text/html": [
       "<div>\n",
       "<style scoped>\n",
       "    .dataframe tbody tr th:only-of-type {\n",
       "        vertical-align: middle;\n",
       "    }\n",
       "\n",
       "    .dataframe tbody tr th {\n",
       "        vertical-align: top;\n",
       "    }\n",
       "\n",
       "    .dataframe thead th {\n",
       "        text-align: right;\n",
       "    }\n",
       "</style>\n",
       "<table border=\"1\" class=\"dataframe\">\n",
       "  <thead>\n",
       "    <tr style=\"text-align: right;\">\n",
       "      <th></th>\n",
       "      <th>Current_Charges</th>\n",
       "      <th>KW_Charges</th>\n",
       "      <th>KWH_Charges</th>\n",
       "      <th>Other_Charges</th>\n",
       "    </tr>\n",
       "  </thead>\n",
       "  <tbody>\n",
       "    <tr>\n",
       "      <th>count</th>\n",
       "      <td>103.000000</td>\n",
       "      <td>103.000000</td>\n",
       "      <td>103.000000</td>\n",
       "      <td>103.000000</td>\n",
       "    </tr>\n",
       "    <tr>\n",
       "      <th>mean</th>\n",
       "      <td>-17.578932</td>\n",
       "      <td>1670.446408</td>\n",
       "      <td>8.597670</td>\n",
       "      <td>-339.931650</td>\n",
       "    </tr>\n",
       "    <tr>\n",
       "      <th>std</th>\n",
       "      <td>34.371892</td>\n",
       "      <td>892.339819</td>\n",
       "      <td>38.354575</td>\n",
       "      <td>1877.520472</td>\n",
       "    </tr>\n",
       "    <tr>\n",
       "      <th>min</th>\n",
       "      <td>-243.150000</td>\n",
       "      <td>0.000000</td>\n",
       "      <td>0.000000</td>\n",
       "      <td>-4354.640000</td>\n",
       "    </tr>\n",
       "    <tr>\n",
       "      <th>25%</th>\n",
       "      <td>-14.140000</td>\n",
       "      <td>1097.610000</td>\n",
       "      <td>0.000000</td>\n",
       "      <td>-2042.915000</td>\n",
       "    </tr>\n",
       "    <tr>\n",
       "      <th>50%</th>\n",
       "      <td>-9.950000</td>\n",
       "      <td>1883.280000</td>\n",
       "      <td>0.000000</td>\n",
       "      <td>-626.160000</td>\n",
       "    </tr>\n",
       "    <tr>\n",
       "      <th>75%</th>\n",
       "      <td>-5.560000</td>\n",
       "      <td>2363.565000</td>\n",
       "      <td>0.000000</td>\n",
       "      <td>1722.430000</td>\n",
       "    </tr>\n",
       "    <tr>\n",
       "      <th>max</th>\n",
       "      <td>-0.180000</td>\n",
       "      <td>4340.940000</td>\n",
       "      <td>187.810000</td>\n",
       "      <td>3234.020000</td>\n",
       "    </tr>\n",
       "  </tbody>\n",
       "</table>\n",
       "</div>"
      ],
      "text/plain": [
       "       Current_Charges   KW_Charges  KWH_Charges  Other_Charges\n",
       "count       103.000000   103.000000   103.000000     103.000000\n",
       "mean        -17.578932  1670.446408     8.597670    -339.931650\n",
       "std          34.371892   892.339819    38.354575    1877.520472\n",
       "min        -243.150000     0.000000     0.000000   -4354.640000\n",
       "25%         -14.140000  1097.610000     0.000000   -2042.915000\n",
       "50%          -9.950000  1883.280000     0.000000    -626.160000\n",
       "75%          -5.560000  2363.565000     0.000000    1722.430000\n",
       "max          -0.180000  4340.940000   187.810000    3234.020000"
      ]
     },
     "execution_count": 72,
     "metadata": {},
     "output_type": "execute_result"
    }
   ],
   "source": [
    "df[df['Current_Charges'] < 0][['Current_Charges', 'KW_Charges', 'KWH_Charges', 'Other_Charges']].describe()"
   ]
  },
  {
   "cell_type": "markdown",
   "metadata": {},
   "source": [
    "### 3.2 Other data quality checking work on fields regarding charges."
   ]
  },
  {
   "cell_type": "markdown",
   "metadata": {
    "collapsed": true
   },
   "source": [
    "Per discussion with the domain knowledge expert, we decided to convert the bills from revenue month to calendar month and focus on the prorated the KWH_Consumption values only (other numerical fields are harder to prorate). Therefore we'll consider the data quality issues in the charges fields in future iterations. Example data quality issues to investigate include:\n",
    "   - Cases where other == kw and kwh == 0\n",
    "   - Cases where other == current and (kw!=0 or kwh != 0)\n",
    "   - Negative values in KWH, KW charges\n",
    "   - Inconsistency between consumption & charges\n",
    "   - KW charge is offset by negative \"other charge\"\n",
    "   - Meter accounts that only have non-zero values in either KW  or KWH  charges"
   ]
  },
  {
   "cell_type": "markdown",
   "metadata": {},
   "source": [
    "#### Other background info from the domain knowledge expert"
   ]
  },
  {
   "cell_type": "markdown",
   "metadata": {},
   "source": [
    "1. Why would \"Consumption_KW\" be zero?\n",
    "    - KW and KWH should be both positive, unless there are some related bills that already covers it\n",
    "    - Maybe the bills of one account was separated into multiple meters\n",
    "2. What's the \"Other Charges\" field?\n",
    "    - negative values to adjust for the payments from previous months\n",
    "    - taxes, fee for meter-reading, little fees charged by utilities and states (e.g. system benefit charge), credit (state got a better deal after charging the clients)"
   ]
  },
  {
   "cell_type": "markdown",
   "metadata": {},
   "source": [
    "### 3.3 Clean other fields based on inputs by the domain knowledge expert \n",
    "- multiple account names for the same building_id\n",
    "- meter number switch for the same account over the years"
   ]
  },
  {
   "cell_type": "markdown",
   "metadata": {},
   "source": [
    "#### 3.3.1 multipe names for same building_id"
   ]
  },
  {
   "cell_type": "code",
   "execution_count": 73,
   "metadata": {},
   "outputs": [
    {
     "data": {
      "text/plain": [
       "1    2036\n",
       "2       4\n",
       "7       1\n",
       "3       1\n",
       "Name: Account_Name, dtype: int64"
      ]
     },
     "execution_count": 73,
     "metadata": {},
     "output_type": "execute_result"
    }
   ],
   "source": [
    "df_id_per_name = df[['Building_ID', 'Account_Name']].groupby('Building_ID')['Account_Name'].nunique()\n",
    "df_id_per_name.value_counts()"
   ]
  },
  {
   "cell_type": "markdown",
   "metadata": {},
   "source": [
    "Only 6 Building_ID's have multiple account names. It's safe to remove them all from the working dataframe."
   ]
  },
  {
   "cell_type": "code",
   "execution_count": 74,
   "metadata": {},
   "outputs": [],
   "source": [
    "mask = df['Building_ID'].isin(df_id_per_name[df_id_per_name > 1].index.values)"
   ]
  },
  {
   "cell_type": "code",
   "execution_count": 75,
   "metadata": {},
   "outputs": [],
   "source": [
    "df_flags = pd.concat([df_flags, pd.DataFrame({'row':df[mask].row.values, 'flag':'multiple account_name for same building_id'})])\n",
    "df = df[~mask]"
   ]
  },
  {
   "cell_type": "markdown",
   "metadata": {},
   "source": [
    "#### 3.3.2 Meter number merging"
   ]
  },
  {
   "cell_type": "markdown",
   "metadata": {},
   "source": [
    "There are Building_ID's whose meter number changed over the years, so we need to find the mapping and merge the meter numbers."
   ]
  },
  {
   "cell_type": "markdown",
   "metadata": {},
   "source": [
    "First, we connect two meters in the same building if their span of revenue months are adjacent to each other."
   ]
  },
  {
   "cell_type": "code",
   "execution_count": 76,
   "metadata": {},
   "outputs": [],
   "source": [
    "a = df.groupby(['Building_ID']).agg({'Meter_Number': 'nunique'}).reset_index()\n",
    "\n",
    "a = a[a[\"Meter_Number\"]>1]\n",
    "\n",
    "a.columns = ['Building_ID', 'Counts']\n",
    "\n",
    "a = pd.merge(a, df, on = 'Building_ID', how = 'inner')[['Building_ID', 'Meter_Number', \"Revenue_Month\"]]\\\n",
    ".groupby(['Building_ID', 'Meter_Number']).agg({'Revenue_Month': ['max','min']}).reset_index()\n",
    "\n",
    "a.columns = a.columns.get_level_values(0)\n",
    "\n",
    "a.columns = ['Building_ID', 'Meter_Number', 'Max_Month', 'Min_Month']\n",
    "\n",
    "a['Max_Month_Next'] = a['Max_Month'].map(lambda x: x + relativedelta(months=+1))\n",
    "a['Min_Month_Prior'] = a['Min_Month'].map(lambda x: x - relativedelta(months=+1))"
   ]
  },
  {
   "cell_type": "code",
   "execution_count": 77,
   "metadata": {},
   "outputs": [
    {
     "data": {
      "text/html": [
       "<div>\n",
       "<style scoped>\n",
       "    .dataframe tbody tr th:only-of-type {\n",
       "        vertical-align: middle;\n",
       "    }\n",
       "\n",
       "    .dataframe tbody tr th {\n",
       "        vertical-align: top;\n",
       "    }\n",
       "\n",
       "    .dataframe thead th {\n",
       "        text-align: right;\n",
       "    }\n",
       "</style>\n",
       "<table border=\"1\" class=\"dataframe\">\n",
       "  <thead>\n",
       "    <tr style=\"text-align: right;\">\n",
       "      <th></th>\n",
       "      <th>Building_ID</th>\n",
       "      <th>Meter_Number</th>\n",
       "      <th>Max_Month</th>\n",
       "      <th>Min_Month</th>\n",
       "      <th>Max_Month_Next</th>\n",
       "      <th>Min_Month_Prior</th>\n",
       "    </tr>\n",
       "  </thead>\n",
       "  <tbody>\n",
       "    <tr>\n",
       "      <th>0</th>\n",
       "      <td>1.0 - BLD 01</td>\n",
       "      <td>7836716</td>\n",
       "      <td>2018-06-01</td>\n",
       "      <td>2010-01-01</td>\n",
       "      <td>2018-07-01</td>\n",
       "      <td>2009-12-01</td>\n",
       "    </tr>\n",
       "    <tr>\n",
       "      <th>1</th>\n",
       "      <td>1.0 - BLD 01</td>\n",
       "      <td>7838586</td>\n",
       "      <td>2018-06-01</td>\n",
       "      <td>2010-01-01</td>\n",
       "      <td>2018-07-01</td>\n",
       "      <td>2009-12-01</td>\n",
       "    </tr>\n",
       "    <tr>\n",
       "      <th>2</th>\n",
       "      <td>1.0 - BLD 04</td>\n",
       "      <td>6255947</td>\n",
       "      <td>2014-04-01</td>\n",
       "      <td>2010-01-01</td>\n",
       "      <td>2014-05-01</td>\n",
       "      <td>2009-12-01</td>\n",
       "    </tr>\n",
       "    <tr>\n",
       "      <th>3</th>\n",
       "      <td>1.0 - BLD 04</td>\n",
       "      <td>7381828</td>\n",
       "      <td>2018-06-01</td>\n",
       "      <td>2014-05-01</td>\n",
       "      <td>2018-07-01</td>\n",
       "      <td>2014-04-01</td>\n",
       "    </tr>\n",
       "    <tr>\n",
       "      <th>4</th>\n",
       "      <td>1.0 - BLD 04</td>\n",
       "      <td>8638820</td>\n",
       "      <td>2017-06-01</td>\n",
       "      <td>2016-07-01</td>\n",
       "      <td>2017-07-01</td>\n",
       "      <td>2016-06-01</td>\n",
       "    </tr>\n",
       "  </tbody>\n",
       "</table>\n",
       "</div>"
      ],
      "text/plain": [
       "    Building_ID Meter_Number  Max_Month  Min_Month Max_Month_Next  \\\n",
       "0  1.0 - BLD 01      7836716 2018-06-01 2010-01-01     2018-07-01   \n",
       "1  1.0 - BLD 01      7838586 2018-06-01 2010-01-01     2018-07-01   \n",
       "2  1.0 - BLD 04      6255947 2014-04-01 2010-01-01     2014-05-01   \n",
       "3  1.0 - BLD 04      7381828 2018-06-01 2014-05-01     2018-07-01   \n",
       "4  1.0 - BLD 04      8638820 2017-06-01 2016-07-01     2017-07-01   \n",
       "\n",
       "  Min_Month_Prior  \n",
       "0      2009-12-01  \n",
       "1      2009-12-01  \n",
       "2      2009-12-01  \n",
       "3      2014-04-01  \n",
       "4      2016-06-01  "
      ]
     },
     "execution_count": 77,
     "metadata": {},
     "output_type": "execute_result"
    }
   ],
   "source": [
    "a.head()"
   ]
  },
  {
   "cell_type": "code",
   "execution_count": 78,
   "metadata": {},
   "outputs": [],
   "source": [
    "str1 = \"select l.Building_ID, l.Meter_Number as Meter_Number_E, r.Meter_Number as Meter_Number_L \\\n",
    "        , l.Min_Month as Min_E, l.Max_Month as Max_E, r.Min_Month as Min_L, r.Max_Month as Max_L\\\n",
    "        from a l join a r on l.Building_ID = r.Building_ID and l.Meter_Number != r.Meter_Number \\\n",
    "        where l.Max_Month == r.Min_Month_Prior\"\n",
    "a = pysql(str1)"
   ]
  },
  {
   "cell_type": "markdown",
   "metadata": {},
   "source": [
    "It seems for the same building, not only do the meter numbers change in later months, but also there can be multiple meter numbers for the same month. For instance, in Building '10.0 - BLD 05', both meter '1010026' and '8010026' has data in 2010-01 and they only differ in the first digit."
   ]
  },
  {
   "cell_type": "code",
   "execution_count": 79,
   "metadata": {},
   "outputs": [
    {
     "data": {
      "text/html": [
       "<div>\n",
       "<style scoped>\n",
       "    .dataframe tbody tr th:only-of-type {\n",
       "        vertical-align: middle;\n",
       "    }\n",
       "\n",
       "    .dataframe tbody tr th {\n",
       "        vertical-align: top;\n",
       "    }\n",
       "\n",
       "    .dataframe thead th {\n",
       "        text-align: right;\n",
       "    }\n",
       "</style>\n",
       "<table border=\"1\" class=\"dataframe\">\n",
       "  <thead>\n",
       "    <tr style=\"text-align: right;\">\n",
       "      <th></th>\n",
       "      <th>Building_ID</th>\n",
       "      <th>Meter_Number_E</th>\n",
       "      <th>Meter_Number_L</th>\n",
       "      <th>Min_E</th>\n",
       "      <th>Max_E</th>\n",
       "      <th>Min_L</th>\n",
       "      <th>Max_L</th>\n",
       "    </tr>\n",
       "  </thead>\n",
       "  <tbody>\n",
       "    <tr>\n",
       "      <th>0</th>\n",
       "      <td>1.0 - BLD 04</td>\n",
       "      <td>6255947</td>\n",
       "      <td>7381828</td>\n",
       "      <td>2010-01-01 00:00:00.000000</td>\n",
       "      <td>2014-04-01 00:00:00.000000</td>\n",
       "      <td>2014-05-01 00:00:00.000000</td>\n",
       "      <td>2018-06-01 00:00:00.000000</td>\n",
       "    </tr>\n",
       "    <tr>\n",
       "      <th>1</th>\n",
       "      <td>10.0 - BLD 05</td>\n",
       "      <td>1010026</td>\n",
       "      <td>1163877</td>\n",
       "      <td>2010-01-01 00:00:00.000000</td>\n",
       "      <td>2010-01-01 00:00:00.000000</td>\n",
       "      <td>2010-02-01 00:00:00.000000</td>\n",
       "      <td>2018-05-01 00:00:00.000000</td>\n",
       "    </tr>\n",
       "    <tr>\n",
       "      <th>2</th>\n",
       "      <td>10.0 - BLD 05</td>\n",
       "      <td>8010026</td>\n",
       "      <td>8163877</td>\n",
       "      <td>2010-01-01 00:00:00.000000</td>\n",
       "      <td>2011-09-01 00:00:00.000000</td>\n",
       "      <td>2011-10-01 00:00:00.000000</td>\n",
       "      <td>2018-03-01 00:00:00.000000</td>\n",
       "    </tr>\n",
       "    <tr>\n",
       "      <th>3</th>\n",
       "      <td>10.0 - BLD 06</td>\n",
       "      <td>7864559</td>\n",
       "      <td>8163892</td>\n",
       "      <td>2010-01-01 00:00:00.000000</td>\n",
       "      <td>2011-09-01 00:00:00.000000</td>\n",
       "      <td>2011-10-01 00:00:00.000000</td>\n",
       "      <td>2018-03-01 00:00:00.000000</td>\n",
       "    </tr>\n",
       "    <tr>\n",
       "      <th>4</th>\n",
       "      <td>10.0 - BLD 09</td>\n",
       "      <td>1009984</td>\n",
       "      <td>1125376</td>\n",
       "      <td>2010-01-01 00:00:00.000000</td>\n",
       "      <td>2011-09-01 00:00:00.000000</td>\n",
       "      <td>2011-10-01 00:00:00.000000</td>\n",
       "      <td>2018-05-01 00:00:00.000000</td>\n",
       "    </tr>\n",
       "    <tr>\n",
       "      <th>5</th>\n",
       "      <td>10.0 - BLD 09</td>\n",
       "      <td>1009984</td>\n",
       "      <td>8125376</td>\n",
       "      <td>2010-01-01 00:00:00.000000</td>\n",
       "      <td>2011-09-01 00:00:00.000000</td>\n",
       "      <td>2011-10-01 00:00:00.000000</td>\n",
       "      <td>2018-03-01 00:00:00.000000</td>\n",
       "    </tr>\n",
       "    <tr>\n",
       "      <th>6</th>\n",
       "      <td>10.0 - BLD 09</td>\n",
       "      <td>8009984</td>\n",
       "      <td>1125376</td>\n",
       "      <td>2010-01-01 00:00:00.000000</td>\n",
       "      <td>2011-09-01 00:00:00.000000</td>\n",
       "      <td>2011-10-01 00:00:00.000000</td>\n",
       "      <td>2018-05-01 00:00:00.000000</td>\n",
       "    </tr>\n",
       "    <tr>\n",
       "      <th>7</th>\n",
       "      <td>10.0 - BLD 09</td>\n",
       "      <td>8009984</td>\n",
       "      <td>8125376</td>\n",
       "      <td>2010-01-01 00:00:00.000000</td>\n",
       "      <td>2011-09-01 00:00:00.000000</td>\n",
       "      <td>2011-10-01 00:00:00.000000</td>\n",
       "      <td>2018-03-01 00:00:00.000000</td>\n",
       "    </tr>\n",
       "    <tr>\n",
       "      <th>8</th>\n",
       "      <td>10.0 - BLD 11</td>\n",
       "      <td>7424010</td>\n",
       "      <td>7864545</td>\n",
       "      <td>2010-01-01 00:00:00.000000</td>\n",
       "      <td>2010-01-01 00:00:00.000000</td>\n",
       "      <td>2010-02-01 00:00:00.000000</td>\n",
       "      <td>2018-03-01 00:00:00.000000</td>\n",
       "    </tr>\n",
       "    <tr>\n",
       "      <th>9</th>\n",
       "      <td>10.0 - BLD 13</td>\n",
       "      <td>1864535</td>\n",
       "      <td>1301063</td>\n",
       "      <td>2010-01-01 00:00:00.000000</td>\n",
       "      <td>2011-09-01 00:00:00.000000</td>\n",
       "      <td>2011-10-01 00:00:00.000000</td>\n",
       "      <td>2018-05-01 00:00:00.000000</td>\n",
       "    </tr>\n",
       "  </tbody>\n",
       "</table>\n",
       "</div>"
      ],
      "text/plain": [
       "     Building_ID Meter_Number_E Meter_Number_L                       Min_E  \\\n",
       "0   1.0 - BLD 04        6255947        7381828  2010-01-01 00:00:00.000000   \n",
       "1  10.0 - BLD 05        1010026        1163877  2010-01-01 00:00:00.000000   \n",
       "2  10.0 - BLD 05        8010026        8163877  2010-01-01 00:00:00.000000   \n",
       "3  10.0 - BLD 06        7864559        8163892  2010-01-01 00:00:00.000000   \n",
       "4  10.0 - BLD 09        1009984        1125376  2010-01-01 00:00:00.000000   \n",
       "5  10.0 - BLD 09        1009984        8125376  2010-01-01 00:00:00.000000   \n",
       "6  10.0 - BLD 09        8009984        1125376  2010-01-01 00:00:00.000000   \n",
       "7  10.0 - BLD 09        8009984        8125376  2010-01-01 00:00:00.000000   \n",
       "8  10.0 - BLD 11        7424010        7864545  2010-01-01 00:00:00.000000   \n",
       "9  10.0 - BLD 13        1864535        1301063  2010-01-01 00:00:00.000000   \n",
       "\n",
       "                        Max_E                       Min_L  \\\n",
       "0  2014-04-01 00:00:00.000000  2014-05-01 00:00:00.000000   \n",
       "1  2010-01-01 00:00:00.000000  2010-02-01 00:00:00.000000   \n",
       "2  2011-09-01 00:00:00.000000  2011-10-01 00:00:00.000000   \n",
       "3  2011-09-01 00:00:00.000000  2011-10-01 00:00:00.000000   \n",
       "4  2011-09-01 00:00:00.000000  2011-10-01 00:00:00.000000   \n",
       "5  2011-09-01 00:00:00.000000  2011-10-01 00:00:00.000000   \n",
       "6  2011-09-01 00:00:00.000000  2011-10-01 00:00:00.000000   \n",
       "7  2011-09-01 00:00:00.000000  2011-10-01 00:00:00.000000   \n",
       "8  2010-01-01 00:00:00.000000  2010-02-01 00:00:00.000000   \n",
       "9  2011-09-01 00:00:00.000000  2011-10-01 00:00:00.000000   \n",
       "\n",
       "                        Max_L  \n",
       "0  2018-06-01 00:00:00.000000  \n",
       "1  2018-05-01 00:00:00.000000  \n",
       "2  2018-03-01 00:00:00.000000  \n",
       "3  2018-03-01 00:00:00.000000  \n",
       "4  2018-05-01 00:00:00.000000  \n",
       "5  2018-03-01 00:00:00.000000  \n",
       "6  2018-05-01 00:00:00.000000  \n",
       "7  2018-03-01 00:00:00.000000  \n",
       "8  2018-03-01 00:00:00.000000  \n",
       "9  2018-05-01 00:00:00.000000  "
      ]
     },
     "execution_count": 79,
     "metadata": {},
     "output_type": "execute_result"
    }
   ],
   "source": [
    "a.head(10)"
   ]
  },
  {
   "cell_type": "markdown",
   "metadata": {},
   "source": [
    "By looking at one example account, it seems there are separated meter_numbers for KWH and KW charges for the same account. This may explain the existence of accounts with only non-zero values in kw or kwh charges. We'll merge these meter_numbers first, since it will most likely eliminate the case of many-to-many mapping between meter_numbers in different years."
   ]
  },
  {
   "cell_type": "code",
   "execution_count": 80,
   "metadata": {},
   "outputs": [
    {
     "data": {
      "text/html": [
       "<div>\n",
       "<style scoped>\n",
       "    .dataframe tbody tr th:only-of-type {\n",
       "        vertical-align: middle;\n",
       "    }\n",
       "\n",
       "    .dataframe tbody tr th {\n",
       "        vertical-align: top;\n",
       "    }\n",
       "\n",
       "    .dataframe thead th {\n",
       "        text-align: right;\n",
       "    }\n",
       "</style>\n",
       "<table border=\"1\" class=\"dataframe\">\n",
       "  <thead>\n",
       "    <tr style=\"text-align: right;\">\n",
       "      <th></th>\n",
       "      <th>row</th>\n",
       "      <th>Account_Name</th>\n",
       "      <th>Location</th>\n",
       "      <th>Building_ID</th>\n",
       "      <th>Meter_Number</th>\n",
       "      <th>Revenue_Month</th>\n",
       "      <th>Service_Start_Date</th>\n",
       "      <th>Service_End_Date</th>\n",
       "      <th># days</th>\n",
       "      <th>Consumption_KWH</th>\n",
       "      <th>KWH_Charges</th>\n",
       "      <th>Consumption_KW</th>\n",
       "      <th>KW_Charges</th>\n",
       "      <th>Other_Charges</th>\n",
       "      <th>Current_Charges</th>\n",
       "    </tr>\n",
       "  </thead>\n",
       "  <tbody>\n",
       "    <tr>\n",
       "      <th>42678</th>\n",
       "      <td>42678</td>\n",
       "      <td>KINGSBOROUGH</td>\n",
       "      <td>BLD 09</td>\n",
       "      <td>10.0 - BLD 09</td>\n",
       "      <td>1125376</td>\n",
       "      <td>2011-10-01</td>\n",
       "      <td>2011-09-22</td>\n",
       "      <td>2011-10-24</td>\n",
       "      <td>32.0</td>\n",
       "      <td>0.0</td>\n",
       "      <td>0.00</td>\n",
       "      <td>67.01</td>\n",
       "      <td>581.65</td>\n",
       "      <td>316.95</td>\n",
       "      <td>898.60</td>\n",
       "    </tr>\n",
       "    <tr>\n",
       "      <th>42703</th>\n",
       "      <td>42703</td>\n",
       "      <td>KINGSBOROUGH</td>\n",
       "      <td>BLD 09</td>\n",
       "      <td>10.0 - BLD 09</td>\n",
       "      <td>8125376</td>\n",
       "      <td>2011-10-01</td>\n",
       "      <td>2011-09-22</td>\n",
       "      <td>2011-10-24</td>\n",
       "      <td>32.0</td>\n",
       "      <td>33520.0</td>\n",
       "      <td>2235.11</td>\n",
       "      <td>0.00</td>\n",
       "      <td>0.00</td>\n",
       "      <td>1218.02</td>\n",
       "      <td>3453.13</td>\n",
       "    </tr>\n",
       "    <tr>\n",
       "      <th>42712</th>\n",
       "      <td>42712</td>\n",
       "      <td>KINGSBOROUGH</td>\n",
       "      <td>BLD 09</td>\n",
       "      <td>10.0 - BLD 09</td>\n",
       "      <td>1125376</td>\n",
       "      <td>2011-11-01</td>\n",
       "      <td>2011-10-24</td>\n",
       "      <td>2011-11-22</td>\n",
       "      <td>29.0</td>\n",
       "      <td>0.0</td>\n",
       "      <td>0.00</td>\n",
       "      <td>51.55</td>\n",
       "      <td>447.45</td>\n",
       "      <td>245.48</td>\n",
       "      <td>692.93</td>\n",
       "    </tr>\n",
       "    <tr>\n",
       "      <th>42737</th>\n",
       "      <td>42737</td>\n",
       "      <td>KINGSBOROUGH</td>\n",
       "      <td>BLD 09</td>\n",
       "      <td>10.0 - BLD 09</td>\n",
       "      <td>8125376</td>\n",
       "      <td>2011-11-01</td>\n",
       "      <td>2011-10-24</td>\n",
       "      <td>2011-11-22</td>\n",
       "      <td>29.0</td>\n",
       "      <td>27840.0</td>\n",
       "      <td>1856.37</td>\n",
       "      <td>0.00</td>\n",
       "      <td>0.00</td>\n",
       "      <td>1018.46</td>\n",
       "      <td>2874.83</td>\n",
       "    </tr>\n",
       "    <tr>\n",
       "      <th>42746</th>\n",
       "      <td>42746</td>\n",
       "      <td>KINGSBOROUGH</td>\n",
       "      <td>BLD 09</td>\n",
       "      <td>10.0 - BLD 09</td>\n",
       "      <td>1125376</td>\n",
       "      <td>2011-12-01</td>\n",
       "      <td>2011-11-22</td>\n",
       "      <td>2011-12-23</td>\n",
       "      <td>31.0</td>\n",
       "      <td>0.0</td>\n",
       "      <td>0.00</td>\n",
       "      <td>50.69</td>\n",
       "      <td>439.99</td>\n",
       "      <td>196.83</td>\n",
       "      <td>636.82</td>\n",
       "    </tr>\n",
       "    <tr>\n",
       "      <th>42771</th>\n",
       "      <td>42771</td>\n",
       "      <td>KINGSBOROUGH</td>\n",
       "      <td>BLD 09</td>\n",
       "      <td>10.0 - BLD 09</td>\n",
       "      <td>8125376</td>\n",
       "      <td>2011-12-01</td>\n",
       "      <td>2011-11-22</td>\n",
       "      <td>2011-12-23</td>\n",
       "      <td>31.0</td>\n",
       "      <td>28720.0</td>\n",
       "      <td>1915.05</td>\n",
       "      <td>0.00</td>\n",
       "      <td>0.00</td>\n",
       "      <td>856.75</td>\n",
       "      <td>2771.80</td>\n",
       "    </tr>\n",
       "    <tr>\n",
       "      <th>74790</th>\n",
       "      <td>74790</td>\n",
       "      <td>KINGSBOROUGH</td>\n",
       "      <td>BLD 09</td>\n",
       "      <td>10.0 - BLD 09</td>\n",
       "      <td>1125376</td>\n",
       "      <td>2012-01-01</td>\n",
       "      <td>2011-12-23</td>\n",
       "      <td>2012-01-25</td>\n",
       "      <td>33.0</td>\n",
       "      <td>0.0</td>\n",
       "      <td>0.00</td>\n",
       "      <td>49.20</td>\n",
       "      <td>1012.56</td>\n",
       "      <td>-1012.56</td>\n",
       "      <td>0.00</td>\n",
       "    </tr>\n",
       "    <tr>\n",
       "      <th>74815</th>\n",
       "      <td>74815</td>\n",
       "      <td>KINGSBOROUGH</td>\n",
       "      <td>BLD 09</td>\n",
       "      <td>10.0 - BLD 09</td>\n",
       "      <td>8125376</td>\n",
       "      <td>2012-01-01</td>\n",
       "      <td>2011-12-23</td>\n",
       "      <td>2012-01-25</td>\n",
       "      <td>33.0</td>\n",
       "      <td>31120.0</td>\n",
       "      <td>1707.24</td>\n",
       "      <td>0.00</td>\n",
       "      <td>0.00</td>\n",
       "      <td>2562.84</td>\n",
       "      <td>4270.08</td>\n",
       "    </tr>\n",
       "    <tr>\n",
       "      <th>74824</th>\n",
       "      <td>74824</td>\n",
       "      <td>KINGSBOROUGH</td>\n",
       "      <td>BLD 09</td>\n",
       "      <td>10.0 - BLD 09</td>\n",
       "      <td>1125376</td>\n",
       "      <td>2012-02-01</td>\n",
       "      <td>2012-01-25</td>\n",
       "      <td>2012-02-24</td>\n",
       "      <td>30.0</td>\n",
       "      <td>0.0</td>\n",
       "      <td>0.00</td>\n",
       "      <td>49.58</td>\n",
       "      <td>1080.87</td>\n",
       "      <td>-1080.87</td>\n",
       "      <td>0.00</td>\n",
       "    </tr>\n",
       "    <tr>\n",
       "      <th>74849</th>\n",
       "      <td>74849</td>\n",
       "      <td>KINGSBOROUGH</td>\n",
       "      <td>BLD 09</td>\n",
       "      <td>10.0 - BLD 09</td>\n",
       "      <td>8125376</td>\n",
       "      <td>2012-02-01</td>\n",
       "      <td>2012-01-25</td>\n",
       "      <td>2012-02-24</td>\n",
       "      <td>30.0</td>\n",
       "      <td>28320.0</td>\n",
       "      <td>1553.64</td>\n",
       "      <td>0.00</td>\n",
       "      <td>0.00</td>\n",
       "      <td>2249.54</td>\n",
       "      <td>3803.18</td>\n",
       "    </tr>\n",
       "    <tr>\n",
       "      <th>74862</th>\n",
       "      <td>74862</td>\n",
       "      <td>KINGSBOROUGH</td>\n",
       "      <td>BLD 09</td>\n",
       "      <td>10.0 - BLD 09</td>\n",
       "      <td>1125376</td>\n",
       "      <td>2012-03-01</td>\n",
       "      <td>2012-02-24</td>\n",
       "      <td>2012-03-26</td>\n",
       "      <td>31.0</td>\n",
       "      <td>0.0</td>\n",
       "      <td>0.00</td>\n",
       "      <td>50.74</td>\n",
       "      <td>1099.89</td>\n",
       "      <td>-1099.89</td>\n",
       "      <td>0.00</td>\n",
       "    </tr>\n",
       "    <tr>\n",
       "      <th>74887</th>\n",
       "      <td>74887</td>\n",
       "      <td>KINGSBOROUGH</td>\n",
       "      <td>BLD 09</td>\n",
       "      <td>10.0 - BLD 09</td>\n",
       "      <td>8125376</td>\n",
       "      <td>2012-03-01</td>\n",
       "      <td>2012-02-24</td>\n",
       "      <td>2012-03-26</td>\n",
       "      <td>31.0</td>\n",
       "      <td>29120.0</td>\n",
       "      <td>1597.52</td>\n",
       "      <td>0.00</td>\n",
       "      <td>0.00</td>\n",
       "      <td>2444.46</td>\n",
       "      <td>4041.98</td>\n",
       "    </tr>\n",
       "    <tr>\n",
       "      <th>74892</th>\n",
       "      <td>74892</td>\n",
       "      <td>KINGSBOROUGH</td>\n",
       "      <td>BLD 09</td>\n",
       "      <td>10.0 - BLD 09</td>\n",
       "      <td>1125376</td>\n",
       "      <td>2012-04-01</td>\n",
       "      <td>2012-03-26</td>\n",
       "      <td>2012-04-24</td>\n",
       "      <td>29.0</td>\n",
       "      <td>0.0</td>\n",
       "      <td>0.00</td>\n",
       "      <td>49.20</td>\n",
       "      <td>1046.83</td>\n",
       "      <td>-1046.83</td>\n",
       "      <td>0.00</td>\n",
       "    </tr>\n",
       "    <tr>\n",
       "      <th>74917</th>\n",
       "      <td>74917</td>\n",
       "      <td>KINGSBOROUGH</td>\n",
       "      <td>BLD 09</td>\n",
       "      <td>10.0 - BLD 09</td>\n",
       "      <td>8125376</td>\n",
       "      <td>2012-04-01</td>\n",
       "      <td>2012-03-26</td>\n",
       "      <td>2012-04-24</td>\n",
       "      <td>29.0</td>\n",
       "      <td>26240.0</td>\n",
       "      <td>1439.53</td>\n",
       "      <td>0.00</td>\n",
       "      <td>0.00</td>\n",
       "      <td>2332.89</td>\n",
       "      <td>3772.42</td>\n",
       "    </tr>\n",
       "    <tr>\n",
       "      <th>74926</th>\n",
       "      <td>74926</td>\n",
       "      <td>KINGSBOROUGH</td>\n",
       "      <td>BLD 09</td>\n",
       "      <td>10.0 - BLD 09</td>\n",
       "      <td>1125376</td>\n",
       "      <td>2012-05-01</td>\n",
       "      <td>2012-04-24</td>\n",
       "      <td>2012-05-23</td>\n",
       "      <td>29.0</td>\n",
       "      <td>0.0</td>\n",
       "      <td>0.00</td>\n",
       "      <td>53.62</td>\n",
       "      <td>1067.41</td>\n",
       "      <td>-1067.41</td>\n",
       "      <td>0.00</td>\n",
       "    </tr>\n",
       "    <tr>\n",
       "      <th>74951</th>\n",
       "      <td>74951</td>\n",
       "      <td>KINGSBOROUGH</td>\n",
       "      <td>BLD 09</td>\n",
       "      <td>10.0 - BLD 09</td>\n",
       "      <td>8125376</td>\n",
       "      <td>2012-05-01</td>\n",
       "      <td>2012-04-24</td>\n",
       "      <td>2012-05-23</td>\n",
       "      <td>29.0</td>\n",
       "      <td>26960.0</td>\n",
       "      <td>1479.03</td>\n",
       "      <td>0.00</td>\n",
       "      <td>0.00</td>\n",
       "      <td>2316.48</td>\n",
       "      <td>3795.51</td>\n",
       "    </tr>\n",
       "    <tr>\n",
       "      <th>74960</th>\n",
       "      <td>74960</td>\n",
       "      <td>KINGSBOROUGH</td>\n",
       "      <td>BLD 09</td>\n",
       "      <td>10.0 - BLD 09</td>\n",
       "      <td>1125376</td>\n",
       "      <td>2012-06-01</td>\n",
       "      <td>2012-05-23</td>\n",
       "      <td>2012-06-22</td>\n",
       "      <td>30.0</td>\n",
       "      <td>0.0</td>\n",
       "      <td>0.00</td>\n",
       "      <td>67.20</td>\n",
       "      <td>1143.74</td>\n",
       "      <td>672.17</td>\n",
       "      <td>1815.91</td>\n",
       "    </tr>\n",
       "    <tr>\n",
       "      <th>74994</th>\n",
       "      <td>74994</td>\n",
       "      <td>KINGSBOROUGH</td>\n",
       "      <td>BLD 09</td>\n",
       "      <td>10.0 - BLD 09</td>\n",
       "      <td>1125376</td>\n",
       "      <td>2012-07-01</td>\n",
       "      <td>2012-06-22</td>\n",
       "      <td>2012-07-24</td>\n",
       "      <td>32.0</td>\n",
       "      <td>0.0</td>\n",
       "      <td>0.00</td>\n",
       "      <td>132.62</td>\n",
       "      <td>2257.19</td>\n",
       "      <td>1429.45</td>\n",
       "      <td>3686.64</td>\n",
       "    </tr>\n",
       "    <tr>\n",
       "      <th>75028</th>\n",
       "      <td>75028</td>\n",
       "      <td>KINGSBOROUGH</td>\n",
       "      <td>BLD 09</td>\n",
       "      <td>10.0 - BLD 09</td>\n",
       "      <td>1125376</td>\n",
       "      <td>2012-08-01</td>\n",
       "      <td>2012-07-24</td>\n",
       "      <td>2012-08-22</td>\n",
       "      <td>29.0</td>\n",
       "      <td>0.0</td>\n",
       "      <td>0.00</td>\n",
       "      <td>123.98</td>\n",
       "      <td>2110.14</td>\n",
       "      <td>731.81</td>\n",
       "      <td>2841.95</td>\n",
       "    </tr>\n",
       "    <tr>\n",
       "      <th>75062</th>\n",
       "      <td>75062</td>\n",
       "      <td>KINGSBOROUGH</td>\n",
       "      <td>BLD 09</td>\n",
       "      <td>10.0 - BLD 09</td>\n",
       "      <td>1125376</td>\n",
       "      <td>2012-09-01</td>\n",
       "      <td>2012-08-22</td>\n",
       "      <td>2012-09-21</td>\n",
       "      <td>30.0</td>\n",
       "      <td>0.0</td>\n",
       "      <td>0.00</td>\n",
       "      <td>80.16</td>\n",
       "      <td>1364.32</td>\n",
       "      <td>506.00</td>\n",
       "      <td>1870.32</td>\n",
       "    </tr>\n",
       "    <tr>\n",
       "      <th>75096</th>\n",
       "      <td>75096</td>\n",
       "      <td>KINGSBOROUGH</td>\n",
       "      <td>BLD 09</td>\n",
       "      <td>10.0 - BLD 09</td>\n",
       "      <td>1125376</td>\n",
       "      <td>2012-10-01</td>\n",
       "      <td>2012-09-21</td>\n",
       "      <td>2012-10-23</td>\n",
       "      <td>32.0</td>\n",
       "      <td>0.0</td>\n",
       "      <td>0.00</td>\n",
       "      <td>57.12</td>\n",
       "      <td>1095.56</td>\n",
       "      <td>-1095.56</td>\n",
       "      <td>0.00</td>\n",
       "    </tr>\n",
       "    <tr>\n",
       "      <th>75121</th>\n",
       "      <td>75121</td>\n",
       "      <td>KINGSBOROUGH</td>\n",
       "      <td>BLD 09</td>\n",
       "      <td>10.0 - BLD 09</td>\n",
       "      <td>8125376</td>\n",
       "      <td>2012-10-01</td>\n",
       "      <td>2012-09-21</td>\n",
       "      <td>2012-10-23</td>\n",
       "      <td>32.0</td>\n",
       "      <td>32640.0</td>\n",
       "      <td>1790.63</td>\n",
       "      <td>0.00</td>\n",
       "      <td>0.00</td>\n",
       "      <td>2498.59</td>\n",
       "      <td>4289.22</td>\n",
       "    </tr>\n",
       "    <tr>\n",
       "      <th>75130</th>\n",
       "      <td>75130</td>\n",
       "      <td>KINGSBOROUGH</td>\n",
       "      <td>BLD 09</td>\n",
       "      <td>10.0 - BLD 09</td>\n",
       "      <td>1125376</td>\n",
       "      <td>2012-11-01</td>\n",
       "      <td>2012-10-23</td>\n",
       "      <td>2012-11-21</td>\n",
       "      <td>29.0</td>\n",
       "      <td>0.0</td>\n",
       "      <td>0.00</td>\n",
       "      <td>55.73</td>\n",
       "      <td>1162.59</td>\n",
       "      <td>-1162.59</td>\n",
       "      <td>0.00</td>\n",
       "    </tr>\n",
       "    <tr>\n",
       "      <th>75164</th>\n",
       "      <td>75164</td>\n",
       "      <td>KINGSBOROUGH</td>\n",
       "      <td>BLD 09</td>\n",
       "      <td>10.0 - BLD 09</td>\n",
       "      <td>1125376</td>\n",
       "      <td>2012-12-01</td>\n",
       "      <td>2012-11-21</td>\n",
       "      <td>2012-12-24</td>\n",
       "      <td>33.0</td>\n",
       "      <td>0.0</td>\n",
       "      <td>0.00</td>\n",
       "      <td>51.89</td>\n",
       "      <td>1057.33</td>\n",
       "      <td>-1057.33</td>\n",
       "      <td>0.00</td>\n",
       "    </tr>\n",
       "    <tr>\n",
       "      <th>75189</th>\n",
       "      <td>75189</td>\n",
       "      <td>KINGSBOROUGH</td>\n",
       "      <td>BLD 09</td>\n",
       "      <td>10.0 - BLD 09</td>\n",
       "      <td>8125376</td>\n",
       "      <td>2012-12-01</td>\n",
       "      <td>2012-11-21</td>\n",
       "      <td>2012-12-24</td>\n",
       "      <td>33.0</td>\n",
       "      <td>30320.0</td>\n",
       "      <td>1663.36</td>\n",
       "      <td>0.00</td>\n",
       "      <td>0.00</td>\n",
       "      <td>2490.14</td>\n",
       "      <td>4153.50</td>\n",
       "    </tr>\n",
       "    <tr>\n",
       "      <th>111630</th>\n",
       "      <td>111630</td>\n",
       "      <td>KINGSBOROUGH</td>\n",
       "      <td>BLD 09</td>\n",
       "      <td>10.0 - BLD 09</td>\n",
       "      <td>1125376</td>\n",
       "      <td>2013-01-01</td>\n",
       "      <td>2012-12-24</td>\n",
       "      <td>2013-01-24</td>\n",
       "      <td>31.0</td>\n",
       "      <td>0.0</td>\n",
       "      <td>0.00</td>\n",
       "      <td>49.01</td>\n",
       "      <td>1040.55</td>\n",
       "      <td>-1040.55</td>\n",
       "      <td>0.00</td>\n",
       "    </tr>\n",
       "    <tr>\n",
       "      <th>111654</th>\n",
       "      <td>111654</td>\n",
       "      <td>KINGSBOROUGH</td>\n",
       "      <td>BLD 09</td>\n",
       "      <td>10.0 - BLD 09</td>\n",
       "      <td>8125376</td>\n",
       "      <td>2013-01-01</td>\n",
       "      <td>2012-12-24</td>\n",
       "      <td>2013-01-24</td>\n",
       "      <td>31.0</td>\n",
       "      <td>27200.0</td>\n",
       "      <td>1492.19</td>\n",
       "      <td>0.00</td>\n",
       "      <td>0.00</td>\n",
       "      <td>2309.35</td>\n",
       "      <td>3801.54</td>\n",
       "    </tr>\n",
       "    <tr>\n",
       "      <th>111663</th>\n",
       "      <td>111663</td>\n",
       "      <td>KINGSBOROUGH</td>\n",
       "      <td>BLD 09</td>\n",
       "      <td>10.0 - BLD 09</td>\n",
       "      <td>1125376</td>\n",
       "      <td>2013-02-01</td>\n",
       "      <td>2013-01-24</td>\n",
       "      <td>2013-02-25</td>\n",
       "      <td>32.0</td>\n",
       "      <td>0.0</td>\n",
       "      <td>0.00</td>\n",
       "      <td>46.61</td>\n",
       "      <td>1026.71</td>\n",
       "      <td>-1026.71</td>\n",
       "      <td>0.00</td>\n",
       "    </tr>\n",
       "    <tr>\n",
       "      <th>111688</th>\n",
       "      <td>111688</td>\n",
       "      <td>KINGSBOROUGH</td>\n",
       "      <td>BLD 09</td>\n",
       "      <td>10.0 - BLD 09</td>\n",
       "      <td>8125376</td>\n",
       "      <td>2013-02-01</td>\n",
       "      <td>2013-01-24</td>\n",
       "      <td>2013-02-25</td>\n",
       "      <td>32.0</td>\n",
       "      <td>26560.0</td>\n",
       "      <td>1457.08</td>\n",
       "      <td>0.00</td>\n",
       "      <td>0.00</td>\n",
       "      <td>2304.99</td>\n",
       "      <td>3762.07</td>\n",
       "    </tr>\n",
       "    <tr>\n",
       "      <th>111697</th>\n",
       "      <td>111697</td>\n",
       "      <td>KINGSBOROUGH</td>\n",
       "      <td>BLD 09</td>\n",
       "      <td>10.0 - BLD 09</td>\n",
       "      <td>1125376</td>\n",
       "      <td>2013-03-01</td>\n",
       "      <td>2013-02-25</td>\n",
       "      <td>2013-03-26</td>\n",
       "      <td>29.0</td>\n",
       "      <td>0.0</td>\n",
       "      <td>0.00</td>\n",
       "      <td>47.52</td>\n",
       "      <td>1091.48</td>\n",
       "      <td>-1091.48</td>\n",
       "      <td>0.00</td>\n",
       "    </tr>\n",
       "  </tbody>\n",
       "</table>\n",
       "</div>"
      ],
      "text/plain": [
       "           row  Account_Name Location    Building_ID Meter_Number  \\\n",
       "42678    42678  KINGSBOROUGH   BLD 09  10.0 - BLD 09      1125376   \n",
       "42703    42703  KINGSBOROUGH   BLD 09  10.0 - BLD 09      8125376   \n",
       "42712    42712  KINGSBOROUGH   BLD 09  10.0 - BLD 09      1125376   \n",
       "42737    42737  KINGSBOROUGH   BLD 09  10.0 - BLD 09      8125376   \n",
       "42746    42746  KINGSBOROUGH   BLD 09  10.0 - BLD 09      1125376   \n",
       "42771    42771  KINGSBOROUGH   BLD 09  10.0 - BLD 09      8125376   \n",
       "74790    74790  KINGSBOROUGH   BLD 09  10.0 - BLD 09      1125376   \n",
       "74815    74815  KINGSBOROUGH   BLD 09  10.0 - BLD 09      8125376   \n",
       "74824    74824  KINGSBOROUGH   BLD 09  10.0 - BLD 09      1125376   \n",
       "74849    74849  KINGSBOROUGH   BLD 09  10.0 - BLD 09      8125376   \n",
       "74862    74862  KINGSBOROUGH   BLD 09  10.0 - BLD 09      1125376   \n",
       "74887    74887  KINGSBOROUGH   BLD 09  10.0 - BLD 09      8125376   \n",
       "74892    74892  KINGSBOROUGH   BLD 09  10.0 - BLD 09      1125376   \n",
       "74917    74917  KINGSBOROUGH   BLD 09  10.0 - BLD 09      8125376   \n",
       "74926    74926  KINGSBOROUGH   BLD 09  10.0 - BLD 09      1125376   \n",
       "74951    74951  KINGSBOROUGH   BLD 09  10.0 - BLD 09      8125376   \n",
       "74960    74960  KINGSBOROUGH   BLD 09  10.0 - BLD 09      1125376   \n",
       "74994    74994  KINGSBOROUGH   BLD 09  10.0 - BLD 09      1125376   \n",
       "75028    75028  KINGSBOROUGH   BLD 09  10.0 - BLD 09      1125376   \n",
       "75062    75062  KINGSBOROUGH   BLD 09  10.0 - BLD 09      1125376   \n",
       "75096    75096  KINGSBOROUGH   BLD 09  10.0 - BLD 09      1125376   \n",
       "75121    75121  KINGSBOROUGH   BLD 09  10.0 - BLD 09      8125376   \n",
       "75130    75130  KINGSBOROUGH   BLD 09  10.0 - BLD 09      1125376   \n",
       "75164    75164  KINGSBOROUGH   BLD 09  10.0 - BLD 09      1125376   \n",
       "75189    75189  KINGSBOROUGH   BLD 09  10.0 - BLD 09      8125376   \n",
       "111630  111630  KINGSBOROUGH   BLD 09  10.0 - BLD 09      1125376   \n",
       "111654  111654  KINGSBOROUGH   BLD 09  10.0 - BLD 09      8125376   \n",
       "111663  111663  KINGSBOROUGH   BLD 09  10.0 - BLD 09      1125376   \n",
       "111688  111688  KINGSBOROUGH   BLD 09  10.0 - BLD 09      8125376   \n",
       "111697  111697  KINGSBOROUGH   BLD 09  10.0 - BLD 09      1125376   \n",
       "\n",
       "       Revenue_Month Service_Start_Date Service_End_Date  # days  \\\n",
       "42678     2011-10-01         2011-09-22       2011-10-24    32.0   \n",
       "42703     2011-10-01         2011-09-22       2011-10-24    32.0   \n",
       "42712     2011-11-01         2011-10-24       2011-11-22    29.0   \n",
       "42737     2011-11-01         2011-10-24       2011-11-22    29.0   \n",
       "42746     2011-12-01         2011-11-22       2011-12-23    31.0   \n",
       "42771     2011-12-01         2011-11-22       2011-12-23    31.0   \n",
       "74790     2012-01-01         2011-12-23       2012-01-25    33.0   \n",
       "74815     2012-01-01         2011-12-23       2012-01-25    33.0   \n",
       "74824     2012-02-01         2012-01-25       2012-02-24    30.0   \n",
       "74849     2012-02-01         2012-01-25       2012-02-24    30.0   \n",
       "74862     2012-03-01         2012-02-24       2012-03-26    31.0   \n",
       "74887     2012-03-01         2012-02-24       2012-03-26    31.0   \n",
       "74892     2012-04-01         2012-03-26       2012-04-24    29.0   \n",
       "74917     2012-04-01         2012-03-26       2012-04-24    29.0   \n",
       "74926     2012-05-01         2012-04-24       2012-05-23    29.0   \n",
       "74951     2012-05-01         2012-04-24       2012-05-23    29.0   \n",
       "74960     2012-06-01         2012-05-23       2012-06-22    30.0   \n",
       "74994     2012-07-01         2012-06-22       2012-07-24    32.0   \n",
       "75028     2012-08-01         2012-07-24       2012-08-22    29.0   \n",
       "75062     2012-09-01         2012-08-22       2012-09-21    30.0   \n",
       "75096     2012-10-01         2012-09-21       2012-10-23    32.0   \n",
       "75121     2012-10-01         2012-09-21       2012-10-23    32.0   \n",
       "75130     2012-11-01         2012-10-23       2012-11-21    29.0   \n",
       "75164     2012-12-01         2012-11-21       2012-12-24    33.0   \n",
       "75189     2012-12-01         2012-11-21       2012-12-24    33.0   \n",
       "111630    2013-01-01         2012-12-24       2013-01-24    31.0   \n",
       "111654    2013-01-01         2012-12-24       2013-01-24    31.0   \n",
       "111663    2013-02-01         2013-01-24       2013-02-25    32.0   \n",
       "111688    2013-02-01         2013-01-24       2013-02-25    32.0   \n",
       "111697    2013-03-01         2013-02-25       2013-03-26    29.0   \n",
       "\n",
       "        Consumption_KWH  KWH_Charges  Consumption_KW  KW_Charges  \\\n",
       "42678               0.0         0.00           67.01      581.65   \n",
       "42703           33520.0      2235.11            0.00        0.00   \n",
       "42712               0.0         0.00           51.55      447.45   \n",
       "42737           27840.0      1856.37            0.00        0.00   \n",
       "42746               0.0         0.00           50.69      439.99   \n",
       "42771           28720.0      1915.05            0.00        0.00   \n",
       "74790               0.0         0.00           49.20     1012.56   \n",
       "74815           31120.0      1707.24            0.00        0.00   \n",
       "74824               0.0         0.00           49.58     1080.87   \n",
       "74849           28320.0      1553.64            0.00        0.00   \n",
       "74862               0.0         0.00           50.74     1099.89   \n",
       "74887           29120.0      1597.52            0.00        0.00   \n",
       "74892               0.0         0.00           49.20     1046.83   \n",
       "74917           26240.0      1439.53            0.00        0.00   \n",
       "74926               0.0         0.00           53.62     1067.41   \n",
       "74951           26960.0      1479.03            0.00        0.00   \n",
       "74960               0.0         0.00           67.20     1143.74   \n",
       "74994               0.0         0.00          132.62     2257.19   \n",
       "75028               0.0         0.00          123.98     2110.14   \n",
       "75062               0.0         0.00           80.16     1364.32   \n",
       "75096               0.0         0.00           57.12     1095.56   \n",
       "75121           32640.0      1790.63            0.00        0.00   \n",
       "75130               0.0         0.00           55.73     1162.59   \n",
       "75164               0.0         0.00           51.89     1057.33   \n",
       "75189           30320.0      1663.36            0.00        0.00   \n",
       "111630              0.0         0.00           49.01     1040.55   \n",
       "111654          27200.0      1492.19            0.00        0.00   \n",
       "111663              0.0         0.00           46.61     1026.71   \n",
       "111688          26560.0      1457.08            0.00        0.00   \n",
       "111697              0.0         0.00           47.52     1091.48   \n",
       "\n",
       "        Other_Charges  Current_Charges  \n",
       "42678          316.95           898.60  \n",
       "42703         1218.02          3453.13  \n",
       "42712          245.48           692.93  \n",
       "42737         1018.46          2874.83  \n",
       "42746          196.83           636.82  \n",
       "42771          856.75          2771.80  \n",
       "74790        -1012.56             0.00  \n",
       "74815         2562.84          4270.08  \n",
       "74824        -1080.87             0.00  \n",
       "74849         2249.54          3803.18  \n",
       "74862        -1099.89             0.00  \n",
       "74887         2444.46          4041.98  \n",
       "74892        -1046.83             0.00  \n",
       "74917         2332.89          3772.42  \n",
       "74926        -1067.41             0.00  \n",
       "74951         2316.48          3795.51  \n",
       "74960          672.17          1815.91  \n",
       "74994         1429.45          3686.64  \n",
       "75028          731.81          2841.95  \n",
       "75062          506.00          1870.32  \n",
       "75096        -1095.56             0.00  \n",
       "75121         2498.59          4289.22  \n",
       "75130        -1162.59             0.00  \n",
       "75164        -1057.33             0.00  \n",
       "75189         2490.14          4153.50  \n",
       "111630       -1040.55             0.00  \n",
       "111654        2309.35          3801.54  \n",
       "111663       -1026.71             0.00  \n",
       "111688        2304.99          3762.07  \n",
       "111697       -1091.48             0.00  "
      ]
     },
     "execution_count": 80,
     "metadata": {},
     "output_type": "execute_result"
    }
   ],
   "source": [
    "mask = (df['Building_ID'] == '10.0 - BLD 09') & (df['Meter_Number'].isin(['8125376', '1125376']))\n",
    "df[mask].head(30)"
   ]
  },
  {
   "cell_type": "markdown",
   "metadata": {},
   "source": [
    "#### 3.3.3 Identify accounts that have separated meters for KW and KWH charges and combine the meters"
   ]
  },
  {
   "cell_type": "markdown",
   "metadata": {},
   "source": [
    "There are many cases where under the same Building_ID, two meter numbers differ only in the first digit and share the same service date ranges. Usually the larger meter number has zero values in all KW_Charges and the smaller one has zero values in all KWH_Charges. It seems reasonable to merge them."
   ]
  },
  {
   "cell_type": "code",
   "execution_count": 81,
   "metadata": {},
   "outputs": [],
   "source": [
    "temp = df.groupby(['Building_ID', 'Meter_Number']).agg('count').reset_index()[['Building_ID', 'Meter_Number']]"
   ]
  },
  {
   "cell_type": "code",
   "execution_count": 82,
   "metadata": {},
   "outputs": [],
   "source": [
    "pysql = lambda q: pdsql.sqldf(q, globals())\n",
    "str1 = \"select distinct l.Building_ID, l.Meter_Number, r.Meter_Number\\\n",
    "        from temp l join temp r on l.Building_ID = r.Building_ID and l.Meter_Number > r.Meter_Number \\\n",
    "        where substr(l.Meter_Number, 2, length(l.Meter_number)) == substr(r.Meter_Number, 2, length(r.Meter_number))\"\n",
    "df_meter_mapping = pysql(str1)\n",
    "\n",
    "df_meter_mapping.columns = ['Building_ID', 'Meter_Number_L', 'Meter_Number_S']"
   ]
  },
  {
   "cell_type": "markdown",
   "metadata": {},
   "source": [
    "26.7% of the meter numbers can be mapped to another."
   ]
  },
  {
   "cell_type": "code",
   "execution_count": 83,
   "metadata": {},
   "outputs": [
    {
     "data": {
      "text/plain": [
       "0.267853488847964"
      ]
     },
     "execution_count": 83,
     "metadata": {},
     "output_type": "execute_result"
    }
   ],
   "source": [
    "str1 = \"select count (distinct Meter_Number_S) as count_redudant_meters\\\n",
    "        from df_meter_mapping\"\n",
    "str2 = \"select count (distinct Meter_Number) as count_meters\\\n",
    "        from temp\"\n",
    "pysql(str1)['count_redudant_meters'][0]/pysql(str2)['count_meters'][0]"
   ]
  },
  {
   "cell_type": "code",
   "execution_count": 84,
   "metadata": {},
   "outputs": [
    {
     "data": {
      "text/html": [
       "<div>\n",
       "<style scoped>\n",
       "    .dataframe tbody tr th:only-of-type {\n",
       "        vertical-align: middle;\n",
       "    }\n",
       "\n",
       "    .dataframe tbody tr th {\n",
       "        vertical-align: top;\n",
       "    }\n",
       "\n",
       "    .dataframe thead th {\n",
       "        text-align: right;\n",
       "    }\n",
       "</style>\n",
       "<table border=\"1\" class=\"dataframe\">\n",
       "  <thead>\n",
       "    <tr style=\"text-align: right;\">\n",
       "      <th></th>\n",
       "      <th>Building_ID</th>\n",
       "      <th>Meter_Number_L</th>\n",
       "      <th>Meter_Number_S</th>\n",
       "    </tr>\n",
       "  </thead>\n",
       "  <tbody>\n",
       "    <tr>\n",
       "      <th>0</th>\n",
       "      <td>10.0 - BLD 01</td>\n",
       "      <td>7864550</td>\n",
       "      <td>1864550</td>\n",
       "    </tr>\n",
       "    <tr>\n",
       "      <th>1</th>\n",
       "      <td>10.0 - BLD 02</td>\n",
       "      <td>7864551</td>\n",
       "      <td>1864551</td>\n",
       "    </tr>\n",
       "    <tr>\n",
       "      <th>2</th>\n",
       "      <td>10.0 - BLD 03</td>\n",
       "      <td>8010023</td>\n",
       "      <td>1010023</td>\n",
       "    </tr>\n",
       "    <tr>\n",
       "      <th>3</th>\n",
       "      <td>10.0 - BLD 04</td>\n",
       "      <td>7864536</td>\n",
       "      <td>1864536</td>\n",
       "    </tr>\n",
       "    <tr>\n",
       "      <th>4</th>\n",
       "      <td>10.0 - BLD 05</td>\n",
       "      <td>8010026</td>\n",
       "      <td>1010026</td>\n",
       "    </tr>\n",
       "  </tbody>\n",
       "</table>\n",
       "</div>"
      ],
      "text/plain": [
       "     Building_ID Meter_Number_L Meter_Number_S\n",
       "0  10.0 - BLD 01        7864550        1864550\n",
       "1  10.0 - BLD 02        7864551        1864551\n",
       "2  10.0 - BLD 03        8010023        1010023\n",
       "3  10.0 - BLD 04        7864536        1864536\n",
       "4  10.0 - BLD 05        8010026        1010026"
      ]
     },
     "execution_count": 84,
     "metadata": {},
     "output_type": "execute_result"
    }
   ],
   "source": [
    "df_meter_mapping.head()"
   ]
  },
  {
   "cell_type": "markdown",
   "metadata": {},
   "source": [
    "Check if the two meters correspond to KWH_Charges and KW_Charges respectively, by joining with the df_meter_type table we just obtained above."
   ]
  },
  {
   "cell_type": "code",
   "execution_count": 85,
   "metadata": {},
   "outputs": [],
   "source": [
    "temp = pd.merge(df_meter_mapping, df_meter_type, left_on = ['Building_ID', 'Meter_Number_S']\\\n",
    "         , right_on = ['Building_ID', 'Meter_Number'], how = 'left')\\\n",
    "        [['Building_ID', 'Meter_Number_S', 'count_kwh_only', 'count_kw_only', 'count', 'kwh_only', 'kw_only', 'Meter_Number_L']]\n",
    "\n",
    "temp.columns = ['Building_ID', 'Meter_Number_S', 'count_kwh_only_s', 'count_kw_only_s', 'count_s', 'kwh_only_s', 'kw_only_s',\n",
    "       'Meter_Number_L']\n",
    "\n",
    "temp = pd.merge(temp, df_meter_type, left_on = ['Building_ID', 'Meter_Number_L']\\\n",
    "         , right_on = ['Building_ID', 'Meter_Number'], how = 'left')\\\n",
    "        [['Building_ID', 'Meter_Number_S', 'count_kwh_only_s', 'count_kw_only_s', 'count_s', 'kwh_only_s', 'kw_only_s', 'Meter_Number_L', 'count_kwh_only', 'count_kw_only', 'count', 'kwh_only', 'kw_only']]\n",
    "\n",
    "temp.columns = ['Building_ID', 'Meter_Number_S', 'count_kwh_only_s', 'count_kw_only_s', 'count_s', 'kwh_only_s', 'kw_only_s',\n",
    "       'Meter_Number_L', 'count_kwh_only_l', 'count_kw_only_l', 'count_l', 'kwh_only_l', 'kw_only_l']"
   ]
  },
  {
   "cell_type": "code",
   "execution_count": 86,
   "metadata": {},
   "outputs": [
    {
     "data": {
      "text/html": [
       "<div>\n",
       "<style scoped>\n",
       "    .dataframe tbody tr th:only-of-type {\n",
       "        vertical-align: middle;\n",
       "    }\n",
       "\n",
       "    .dataframe tbody tr th {\n",
       "        vertical-align: top;\n",
       "    }\n",
       "\n",
       "    .dataframe thead th {\n",
       "        text-align: right;\n",
       "    }\n",
       "</style>\n",
       "<table border=\"1\" class=\"dataframe\">\n",
       "  <thead>\n",
       "    <tr style=\"text-align: right;\">\n",
       "      <th></th>\n",
       "      <th>Building_ID</th>\n",
       "      <th>Meter_Number_S</th>\n",
       "      <th>count_kwh_only_s</th>\n",
       "      <th>count_kw_only_s</th>\n",
       "      <th>count_s</th>\n",
       "      <th>kwh_only_s</th>\n",
       "      <th>kw_only_s</th>\n",
       "      <th>Meter_Number_L</th>\n",
       "      <th>count_kwh_only_l</th>\n",
       "      <th>count_kw_only_l</th>\n",
       "      <th>count_l</th>\n",
       "      <th>kwh_only_l</th>\n",
       "      <th>kw_only_l</th>\n",
       "    </tr>\n",
       "  </thead>\n",
       "  <tbody>\n",
       "    <tr>\n",
       "      <th>0</th>\n",
       "      <td>10.0 - BLD 01</td>\n",
       "      <td>1864550</td>\n",
       "      <td>0</td>\n",
       "      <td>98</td>\n",
       "      <td>99</td>\n",
       "      <td>False</td>\n",
       "      <td>True</td>\n",
       "      <td>7864550</td>\n",
       "      <td>97</td>\n",
       "      <td>0</td>\n",
       "      <td>97</td>\n",
       "      <td>True</td>\n",
       "      <td>False</td>\n",
       "    </tr>\n",
       "    <tr>\n",
       "      <th>1</th>\n",
       "      <td>10.0 - BLD 02</td>\n",
       "      <td>1864551</td>\n",
       "      <td>0</td>\n",
       "      <td>98</td>\n",
       "      <td>99</td>\n",
       "      <td>False</td>\n",
       "      <td>True</td>\n",
       "      <td>7864551</td>\n",
       "      <td>95</td>\n",
       "      <td>0</td>\n",
       "      <td>95</td>\n",
       "      <td>True</td>\n",
       "      <td>False</td>\n",
       "    </tr>\n",
       "    <tr>\n",
       "      <th>2</th>\n",
       "      <td>10.0 - BLD 03</td>\n",
       "      <td>1010023</td>\n",
       "      <td>0</td>\n",
       "      <td>98</td>\n",
       "      <td>99</td>\n",
       "      <td>False</td>\n",
       "      <td>True</td>\n",
       "      <td>8010023</td>\n",
       "      <td>97</td>\n",
       "      <td>0</td>\n",
       "      <td>97</td>\n",
       "      <td>True</td>\n",
       "      <td>False</td>\n",
       "    </tr>\n",
       "    <tr>\n",
       "      <th>3</th>\n",
       "      <td>10.0 - BLD 04</td>\n",
       "      <td>1864536</td>\n",
       "      <td>0</td>\n",
       "      <td>98</td>\n",
       "      <td>99</td>\n",
       "      <td>False</td>\n",
       "      <td>True</td>\n",
       "      <td>7864536</td>\n",
       "      <td>97</td>\n",
       "      <td>0</td>\n",
       "      <td>97</td>\n",
       "      <td>True</td>\n",
       "      <td>False</td>\n",
       "    </tr>\n",
       "    <tr>\n",
       "      <th>4</th>\n",
       "      <td>10.0 - BLD 05</td>\n",
       "      <td>1010026</td>\n",
       "      <td>0</td>\n",
       "      <td>0</td>\n",
       "      <td>1</td>\n",
       "      <td>False</td>\n",
       "      <td>False</td>\n",
       "      <td>8010026</td>\n",
       "      <td>21</td>\n",
       "      <td>0</td>\n",
       "      <td>21</td>\n",
       "      <td>True</td>\n",
       "      <td>False</td>\n",
       "    </tr>\n",
       "    <tr>\n",
       "      <th>5</th>\n",
       "      <td>10.0 - BLD 05</td>\n",
       "      <td>1163877</td>\n",
       "      <td>0</td>\n",
       "      <td>98</td>\n",
       "      <td>98</td>\n",
       "      <td>False</td>\n",
       "      <td>True</td>\n",
       "      <td>8163877</td>\n",
       "      <td>74</td>\n",
       "      <td>0</td>\n",
       "      <td>74</td>\n",
       "      <td>True</td>\n",
       "      <td>False</td>\n",
       "    </tr>\n",
       "    <tr>\n",
       "      <th>6</th>\n",
       "      <td>10.0 - BLD 06</td>\n",
       "      <td>1864559</td>\n",
       "      <td>0</td>\n",
       "      <td>65</td>\n",
       "      <td>66</td>\n",
       "      <td>False</td>\n",
       "      <td>True</td>\n",
       "      <td>7864559</td>\n",
       "      <td>21</td>\n",
       "      <td>0</td>\n",
       "      <td>21</td>\n",
       "      <td>True</td>\n",
       "      <td>False</td>\n",
       "    </tr>\n",
       "    <tr>\n",
       "      <th>7</th>\n",
       "      <td>10.0 - BLD 06</td>\n",
       "      <td>1163892</td>\n",
       "      <td>0</td>\n",
       "      <td>19</td>\n",
       "      <td>19</td>\n",
       "      <td>False</td>\n",
       "      <td>True</td>\n",
       "      <td>8163892</td>\n",
       "      <td>77</td>\n",
       "      <td>0</td>\n",
       "      <td>77</td>\n",
       "      <td>True</td>\n",
       "      <td>False</td>\n",
       "    </tr>\n",
       "    <tr>\n",
       "      <th>8</th>\n",
       "      <td>10.0 - BLD 07</td>\n",
       "      <td>1010032</td>\n",
       "      <td>0</td>\n",
       "      <td>98</td>\n",
       "      <td>99</td>\n",
       "      <td>False</td>\n",
       "      <td>True</td>\n",
       "      <td>8010032</td>\n",
       "      <td>97</td>\n",
       "      <td>0</td>\n",
       "      <td>97</td>\n",
       "      <td>True</td>\n",
       "      <td>False</td>\n",
       "    </tr>\n",
       "    <tr>\n",
       "      <th>9</th>\n",
       "      <td>10.0 - BLD 08</td>\n",
       "      <td>1864549</td>\n",
       "      <td>0</td>\n",
       "      <td>98</td>\n",
       "      <td>99</td>\n",
       "      <td>False</td>\n",
       "      <td>True</td>\n",
       "      <td>7864549</td>\n",
       "      <td>96</td>\n",
       "      <td>0</td>\n",
       "      <td>96</td>\n",
       "      <td>True</td>\n",
       "      <td>False</td>\n",
       "    </tr>\n",
       "    <tr>\n",
       "      <th>10</th>\n",
       "      <td>10.0 - BLD 09</td>\n",
       "      <td>1009984</td>\n",
       "      <td>0</td>\n",
       "      <td>20</td>\n",
       "      <td>21</td>\n",
       "      <td>False</td>\n",
       "      <td>True</td>\n",
       "      <td>8009984</td>\n",
       "      <td>21</td>\n",
       "      <td>0</td>\n",
       "      <td>21</td>\n",
       "      <td>True</td>\n",
       "      <td>False</td>\n",
       "    </tr>\n",
       "    <tr>\n",
       "      <th>11</th>\n",
       "      <td>10.0 - BLD 09</td>\n",
       "      <td>1125376</td>\n",
       "      <td>0</td>\n",
       "      <td>78</td>\n",
       "      <td>78</td>\n",
       "      <td>False</td>\n",
       "      <td>True</td>\n",
       "      <td>8125376</td>\n",
       "      <td>72</td>\n",
       "      <td>0</td>\n",
       "      <td>72</td>\n",
       "      <td>True</td>\n",
       "      <td>False</td>\n",
       "    </tr>\n",
       "    <tr>\n",
       "      <th>12</th>\n",
       "      <td>10.0 - BLD 10</td>\n",
       "      <td>1010020</td>\n",
       "      <td>0</td>\n",
       "      <td>98</td>\n",
       "      <td>99</td>\n",
       "      <td>False</td>\n",
       "      <td>True</td>\n",
       "      <td>8010020</td>\n",
       "      <td>97</td>\n",
       "      <td>0</td>\n",
       "      <td>97</td>\n",
       "      <td>True</td>\n",
       "      <td>False</td>\n",
       "    </tr>\n",
       "    <tr>\n",
       "      <th>13</th>\n",
       "      <td>10.0 - BLD 11</td>\n",
       "      <td>1864545</td>\n",
       "      <td>0</td>\n",
       "      <td>98</td>\n",
       "      <td>99</td>\n",
       "      <td>False</td>\n",
       "      <td>True</td>\n",
       "      <td>7864545</td>\n",
       "      <td>95</td>\n",
       "      <td>0</td>\n",
       "      <td>95</td>\n",
       "      <td>True</td>\n",
       "      <td>False</td>\n",
       "    </tr>\n",
       "    <tr>\n",
       "      <th>14</th>\n",
       "      <td>10.0 - BLD 13</td>\n",
       "      <td>1864535</td>\n",
       "      <td>0</td>\n",
       "      <td>20</td>\n",
       "      <td>21</td>\n",
       "      <td>False</td>\n",
       "      <td>True</td>\n",
       "      <td>7864535</td>\n",
       "      <td>21</td>\n",
       "      <td>0</td>\n",
       "      <td>21</td>\n",
       "      <td>True</td>\n",
       "      <td>False</td>\n",
       "    </tr>\n",
       "    <tr>\n",
       "      <th>15</th>\n",
       "      <td>10.0 - BLD 13</td>\n",
       "      <td>1301063</td>\n",
       "      <td>0</td>\n",
       "      <td>78</td>\n",
       "      <td>78</td>\n",
       "      <td>False</td>\n",
       "      <td>True</td>\n",
       "      <td>8301063</td>\n",
       "      <td>72</td>\n",
       "      <td>0</td>\n",
       "      <td>72</td>\n",
       "      <td>True</td>\n",
       "      <td>False</td>\n",
       "    </tr>\n",
       "    <tr>\n",
       "      <th>16</th>\n",
       "      <td>10.0 - BLD 14</td>\n",
       "      <td>1864555</td>\n",
       "      <td>0</td>\n",
       "      <td>20</td>\n",
       "      <td>21</td>\n",
       "      <td>False</td>\n",
       "      <td>True</td>\n",
       "      <td>7864555</td>\n",
       "      <td>21</td>\n",
       "      <td>0</td>\n",
       "      <td>21</td>\n",
       "      <td>True</td>\n",
       "      <td>False</td>\n",
       "    </tr>\n",
       "    <tr>\n",
       "      <th>17</th>\n",
       "      <td>10.0 - BLD 14</td>\n",
       "      <td>1301067</td>\n",
       "      <td>0</td>\n",
       "      <td>78</td>\n",
       "      <td>78</td>\n",
       "      <td>False</td>\n",
       "      <td>True</td>\n",
       "      <td>8301067</td>\n",
       "      <td>77</td>\n",
       "      <td>0</td>\n",
       "      <td>77</td>\n",
       "      <td>True</td>\n",
       "      <td>False</td>\n",
       "    </tr>\n",
       "    <tr>\n",
       "      <th>18</th>\n",
       "      <td>10.0 - BLD 15</td>\n",
       "      <td>1864540</td>\n",
       "      <td>0</td>\n",
       "      <td>98</td>\n",
       "      <td>99</td>\n",
       "      <td>False</td>\n",
       "      <td>True</td>\n",
       "      <td>7864540</td>\n",
       "      <td>95</td>\n",
       "      <td>0</td>\n",
       "      <td>95</td>\n",
       "      <td>True</td>\n",
       "      <td>False</td>\n",
       "    </tr>\n",
       "    <tr>\n",
       "      <th>19</th>\n",
       "      <td>10.0 - BLD 16</td>\n",
       "      <td>1864543</td>\n",
       "      <td>0</td>\n",
       "      <td>98</td>\n",
       "      <td>99</td>\n",
       "      <td>False</td>\n",
       "      <td>True</td>\n",
       "      <td>7864543</td>\n",
       "      <td>97</td>\n",
       "      <td>0</td>\n",
       "      <td>97</td>\n",
       "      <td>True</td>\n",
       "      <td>False</td>\n",
       "    </tr>\n",
       "  </tbody>\n",
       "</table>\n",
       "</div>"
      ],
      "text/plain": [
       "      Building_ID Meter_Number_S  count_kwh_only_s  count_kw_only_s  count_s  \\\n",
       "0   10.0 - BLD 01        1864550                 0               98       99   \n",
       "1   10.0 - BLD 02        1864551                 0               98       99   \n",
       "2   10.0 - BLD 03        1010023                 0               98       99   \n",
       "3   10.0 - BLD 04        1864536                 0               98       99   \n",
       "4   10.0 - BLD 05        1010026                 0                0        1   \n",
       "5   10.0 - BLD 05        1163877                 0               98       98   \n",
       "6   10.0 - BLD 06        1864559                 0               65       66   \n",
       "7   10.0 - BLD 06        1163892                 0               19       19   \n",
       "8   10.0 - BLD 07        1010032                 0               98       99   \n",
       "9   10.0 - BLD 08        1864549                 0               98       99   \n",
       "10  10.0 - BLD 09        1009984                 0               20       21   \n",
       "11  10.0 - BLD 09        1125376                 0               78       78   \n",
       "12  10.0 - BLD 10        1010020                 0               98       99   \n",
       "13  10.0 - BLD 11        1864545                 0               98       99   \n",
       "14  10.0 - BLD 13        1864535                 0               20       21   \n",
       "15  10.0 - BLD 13        1301063                 0               78       78   \n",
       "16  10.0 - BLD 14        1864555                 0               20       21   \n",
       "17  10.0 - BLD 14        1301067                 0               78       78   \n",
       "18  10.0 - BLD 15        1864540                 0               98       99   \n",
       "19  10.0 - BLD 16        1864543                 0               98       99   \n",
       "\n",
       "    kwh_only_s  kw_only_s Meter_Number_L  count_kwh_only_l  count_kw_only_l  \\\n",
       "0        False       True        7864550                97                0   \n",
       "1        False       True        7864551                95                0   \n",
       "2        False       True        8010023                97                0   \n",
       "3        False       True        7864536                97                0   \n",
       "4        False      False        8010026                21                0   \n",
       "5        False       True        8163877                74                0   \n",
       "6        False       True        7864559                21                0   \n",
       "7        False       True        8163892                77                0   \n",
       "8        False       True        8010032                97                0   \n",
       "9        False       True        7864549                96                0   \n",
       "10       False       True        8009984                21                0   \n",
       "11       False       True        8125376                72                0   \n",
       "12       False       True        8010020                97                0   \n",
       "13       False       True        7864545                95                0   \n",
       "14       False       True        7864535                21                0   \n",
       "15       False       True        8301063                72                0   \n",
       "16       False       True        7864555                21                0   \n",
       "17       False       True        8301067                77                0   \n",
       "18       False       True        7864540                95                0   \n",
       "19       False       True        7864543                97                0   \n",
       "\n",
       "    count_l  kwh_only_l  kw_only_l  \n",
       "0        97        True      False  \n",
       "1        95        True      False  \n",
       "2        97        True      False  \n",
       "3        97        True      False  \n",
       "4        21        True      False  \n",
       "5        74        True      False  \n",
       "6        21        True      False  \n",
       "7        77        True      False  \n",
       "8        97        True      False  \n",
       "9        96        True      False  \n",
       "10       21        True      False  \n",
       "11       72        True      False  \n",
       "12       97        True      False  \n",
       "13       95        True      False  \n",
       "14       21        True      False  \n",
       "15       72        True      False  \n",
       "16       21        True      False  \n",
       "17       77        True      False  \n",
       "18       95        True      False  \n",
       "19       97        True      False  "
      ]
     },
     "execution_count": 86,
     "metadata": {},
     "output_type": "execute_result"
    }
   ],
   "source": [
    "temp.head(20)"
   ]
  },
  {
   "cell_type": "markdown",
   "metadata": {},
   "source": [
    "Nearly all the \"small\" meter_numbers are kw_only meters (they only have non-zero values in kw charges), and all the \"larger\" meter_numbers are kwh_only mters (they only have non-zero values in kwh charges). Therefore it looks reasonable to map them to the \"large\" corresponding meter_numbers."
   ]
  },
  {
   "cell_type": "markdown",
   "metadata": {},
   "source": [
    "The indicator field \"kwh_only_l\" means the \"larger\" meter_number only has non-zero values in KWH charges."
   ]
  },
  {
   "cell_type": "code",
   "execution_count": 87,
   "metadata": {},
   "outputs": [
    {
     "data": {
      "text/plain": [
       "0.060351413292589765"
      ]
     },
     "execution_count": 87,
     "metadata": {},
     "output_type": "execute_result"
    }
   ],
   "source": [
    "temp[(temp['kwh_only_l'] == False) & (temp['kw_only_l'] == False)].Meter_Number_S.nunique() / temp.Meter_Number_S.nunique()"
   ]
  },
  {
   "cell_type": "code",
   "execution_count": 88,
   "metadata": {},
   "outputs": [
    {
     "data": {
      "text/plain": [
       "0.9396485867074102"
      ]
     },
     "execution_count": 88,
     "metadata": {},
     "output_type": "execute_result"
    }
   ],
   "source": [
    "temp[(temp['kwh_only_l'] == True) & (temp['kw_only_l'] == False)].Meter_Number_S.nunique() / temp.Meter_Number_S.nunique()"
   ]
  },
  {
   "cell_type": "code",
   "execution_count": 89,
   "metadata": {},
   "outputs": [
    {
     "data": {
      "text/plain": [
       "0.0"
      ]
     },
     "execution_count": 89,
     "metadata": {},
     "output_type": "execute_result"
    }
   ],
   "source": [
    "temp[(temp['kwh_only_l'] == False) & (temp['kw_only_l'] == True)].Meter_Number_S.nunique() / temp.Meter_Number_S.nunique()"
   ]
  },
  {
   "cell_type": "code",
   "execution_count": 90,
   "metadata": {},
   "outputs": [
    {
     "data": {
      "text/plain": [
       "0.0015278838808250573"
      ]
     },
     "execution_count": 90,
     "metadata": {},
     "output_type": "execute_result"
    }
   ],
   "source": [
    "temp[(temp['kwh_only_s'] == False) & (temp['kw_only_s'] == False)].Meter_Number_S.nunique() / temp.Meter_Number_S.nunique()"
   ]
  },
  {
   "cell_type": "code",
   "execution_count": 91,
   "metadata": {},
   "outputs": [
    {
     "data": {
      "text/plain": [
       "0.0"
      ]
     },
     "execution_count": 91,
     "metadata": {},
     "output_type": "execute_result"
    }
   ],
   "source": [
    "temp[(temp['kwh_only_s'] == True) & (temp['kw_only_s'] == False)].Meter_Number_S.nunique() / temp.Meter_Number_S.nunique()"
   ]
  },
  {
   "cell_type": "code",
   "execution_count": 92,
   "metadata": {},
   "outputs": [
    {
     "data": {
      "text/plain": [
       "0.998472116119175"
      ]
     },
     "execution_count": 92,
     "metadata": {},
     "output_type": "execute_result"
    }
   ],
   "source": [
    "temp[(temp['kwh_only_s'] == False) & (temp['kw_only_s'] == True)].Meter_Number_S.nunique() / temp.Meter_Number_S.nunique()"
   ]
  },
  {
   "cell_type": "markdown",
   "metadata": {},
   "source": [
    "Merge the meter numbers."
   ]
  },
  {
   "cell_type": "code",
   "execution_count": 93,
   "metadata": {},
   "outputs": [],
   "source": [
    "temp = pd.merge(df, df_meter_mapping, left_on = ['Building_ID', 'Meter_Number'], right_on = ['Building_ID','Meter_Number_S'], how = 'left')\n",
    "# Meter_Number_New is the original Meter_Number if the it's not mapped to another Meter_Number, and the corresponding Meter_Number_L otherwise\n",
    "temp['Meter_Number_New'] = temp['Meter_Number_L'].combine_first(temp['Meter_Number']) \n",
    "\n",
    "df = temp\n",
    "del(temp)"
   ]
  },
  {
   "cell_type": "code",
   "execution_count": 94,
   "metadata": {},
   "outputs": [],
   "source": [
    "mask = df.Meter_Number.isin(df_meter_mapping.Meter_Number_S.values)\n",
    "df_flags = pd.concat([df_flags, pd.DataFrame({'row':df[mask].row.values, 'flag':'meter_number mapped to another one with similar pattern'})])"
   ]
  },
  {
   "cell_type": "markdown",
   "metadata": {},
   "source": [
    "26.8 % of meter_numbers can be mapped to another one."
   ]
  },
  {
   "cell_type": "code",
   "execution_count": 95,
   "metadata": {},
   "outputs": [
    {
     "data": {
      "text/plain": [
       "0.267853488847964"
      ]
     },
     "execution_count": 95,
     "metadata": {},
     "output_type": "execute_result"
    }
   ],
   "source": [
    "df_meter_mapping.Meter_Number_S.nunique()/df.Meter_Number.nunique()"
   ]
  },
  {
   "cell_type": "markdown",
   "metadata": {},
   "source": [
    "Reorder the columns of the working dataframe."
   ]
  },
  {
   "cell_type": "code",
   "execution_count": 96,
   "metadata": {},
   "outputs": [
    {
     "data": {
      "text/plain": [
       "Index(['row', 'Account_Name', 'Location', 'Building_ID', 'Meter_Number',\n",
       "       'Revenue_Month', 'Service_Start_Date', 'Service_End_Date', '# days',\n",
       "       'Consumption_KWH', 'KWH_Charges', 'Consumption_KW', 'KW_Charges',\n",
       "       'Other_Charges', 'Current_Charges', 'Meter_Number_L', 'Meter_Number_S',\n",
       "       'Meter_Number_New'],\n",
       "      dtype='object')"
      ]
     },
     "execution_count": 96,
     "metadata": {},
     "output_type": "execute_result"
    }
   ],
   "source": [
    "df.columns"
   ]
  },
  {
   "cell_type": "code",
   "execution_count": 97,
   "metadata": {},
   "outputs": [],
   "source": [
    "df.drop(['Meter_Number', 'Meter_Number_L', 'Meter_Number_S'], axis = 1, inplace = True)\n",
    "\n",
    "df.columns = ['row', 'Account_Name', 'Location', 'Building_ID',\n",
    "       'Revenue_Month', 'Service_Start_Date', 'Service_End_Date', '# days',\n",
    "       'Consumption_KWH', 'KWH_Charges', 'Consumption_KW', 'KW_Charges', \n",
    "       'Other_Charges', 'Current_Charges', 'Meter_Number']\n",
    "\n",
    "col_ordered = ['row', 'Account_Name', 'Location', 'Building_ID', 'Meter_Number',\n",
    "       'Revenue_Month', 'Service_Start_Date', 'Service_End_Date', '# days',\n",
    "       'Consumption_KWH', 'KWH_Charges', 'Consumption_KW', 'KW_Charges', \n",
    "       'Other_Charges', 'Current_Charges']\n",
    "\n",
    "df = df[col_ordered]"
   ]
  },
  {
   "cell_type": "markdown",
   "metadata": {},
   "source": [
    "#### 3.3.4 Identify meter number switches over time for the same account"
   ]
  },
  {
   "cell_type": "code",
   "execution_count": 98,
   "metadata": {},
   "outputs": [],
   "source": [
    "a = df.groupby(['Building_ID']).agg({'Meter_Number': 'nunique'}).reset_index()\n",
    "\n",
    "a = a[a[\"Meter_Number\"]>1]\n",
    "\n",
    "a.columns = ['Building_ID', 'Counts']\n",
    "\n",
    "a = pd.merge(a, df, on = 'Building_ID', how = 'inner')[['Building_ID', 'Meter_Number', \"Revenue_Month\"]]\\\n",
    ".groupby(['Building_ID', 'Meter_Number']).agg({'Revenue_Month': ['max','min']}).reset_index()\n",
    "\n",
    "a.columns = a.columns.get_level_values(0)\n",
    "\n",
    "a.columns = ['Building_ID', 'Meter_Number', 'Max_Month', 'Min_Month']\n",
    "\n",
    "a['Max_Month_Next'] = a['Max_Month'].map(lambda x: x + relativedelta(months=+1))\n",
    "a['Min_Month_Prior'] = a['Min_Month'].map(lambda x: x - relativedelta(months=+1))"
   ]
  },
  {
   "cell_type": "code",
   "execution_count": 99,
   "metadata": {},
   "outputs": [],
   "source": [
    "str1 = \"select l.Building_ID, l.Meter_Number as Meter_Number_E, r.Meter_Number as Meter_Number_L \\\n",
    "        , l.Min_Month as Min_E, l.Max_Month as Max_E, r.Min_Month as Min_L, r.Max_Month as Max_L\\\n",
    "        from a l join a r on l.Building_ID = r.Building_ID and l.Meter_Number != r.Meter_Number \\\n",
    "        where l.Max_Month == r.Min_Month_Prior\"\n",
    "a = pysql(str1)"
   ]
  },
  {
   "cell_type": "markdown",
   "metadata": {},
   "source": [
    "This time for each building, there is only one change of meter_number over the years."
   ]
  },
  {
   "cell_type": "code",
   "execution_count": 100,
   "metadata": {},
   "outputs": [
    {
     "data": {
      "text/html": [
       "<div>\n",
       "<style scoped>\n",
       "    .dataframe tbody tr th:only-of-type {\n",
       "        vertical-align: middle;\n",
       "    }\n",
       "\n",
       "    .dataframe tbody tr th {\n",
       "        vertical-align: top;\n",
       "    }\n",
       "\n",
       "    .dataframe thead th {\n",
       "        text-align: right;\n",
       "    }\n",
       "</style>\n",
       "<table border=\"1\" class=\"dataframe\">\n",
       "  <thead>\n",
       "    <tr style=\"text-align: right;\">\n",
       "      <th></th>\n",
       "      <th>Building_ID</th>\n",
       "      <th>Meter_Number_E</th>\n",
       "      <th>Meter_Number_L</th>\n",
       "      <th>Min_E</th>\n",
       "      <th>Max_E</th>\n",
       "      <th>Min_L</th>\n",
       "      <th>Max_L</th>\n",
       "    </tr>\n",
       "  </thead>\n",
       "  <tbody>\n",
       "    <tr>\n",
       "      <th>0</th>\n",
       "      <td>1.0 - BLD 04</td>\n",
       "      <td>6255947</td>\n",
       "      <td>7381828</td>\n",
       "      <td>2010-01-01 00:00:00.000000</td>\n",
       "      <td>2014-04-01 00:00:00.000000</td>\n",
       "      <td>2014-05-01 00:00:00.000000</td>\n",
       "      <td>2018-06-01 00:00:00.000000</td>\n",
       "    </tr>\n",
       "    <tr>\n",
       "      <th>1</th>\n",
       "      <td>10.0 - BLD 09</td>\n",
       "      <td>8009984</td>\n",
       "      <td>8125376</td>\n",
       "      <td>2010-01-01 00:00:00.000000</td>\n",
       "      <td>2011-09-01 00:00:00.000000</td>\n",
       "      <td>2011-10-01 00:00:00.000000</td>\n",
       "      <td>2018-05-01 00:00:00.000000</td>\n",
       "    </tr>\n",
       "    <tr>\n",
       "      <th>2</th>\n",
       "      <td>10.0 - BLD 13</td>\n",
       "      <td>7864535</td>\n",
       "      <td>8301063</td>\n",
       "      <td>2010-01-01 00:00:00.000000</td>\n",
       "      <td>2011-09-01 00:00:00.000000</td>\n",
       "      <td>2011-10-01 00:00:00.000000</td>\n",
       "      <td>2018-05-01 00:00:00.000000</td>\n",
       "    </tr>\n",
       "    <tr>\n",
       "      <th>3</th>\n",
       "      <td>10.0 - BLD 14</td>\n",
       "      <td>7864555</td>\n",
       "      <td>8301067</td>\n",
       "      <td>2010-01-01 00:00:00.000000</td>\n",
       "      <td>2011-09-01 00:00:00.000000</td>\n",
       "      <td>2011-10-01 00:00:00.000000</td>\n",
       "      <td>2018-05-01 00:00:00.000000</td>\n",
       "    </tr>\n",
       "    <tr>\n",
       "      <th>4</th>\n",
       "      <td>10.0 - BLD 16</td>\n",
       "      <td>8074933</td>\n",
       "      <td>8163879</td>\n",
       "      <td>2010-01-01 00:00:00.000000</td>\n",
       "      <td>2010-01-01 00:00:00.000000</td>\n",
       "      <td>2010-02-01 00:00:00.000000</td>\n",
       "      <td>2018-03-01 00:00:00.000000</td>\n",
       "    </tr>\n",
       "    <tr>\n",
       "      <th>5</th>\n",
       "      <td>103.0 - BLD 04</td>\n",
       "      <td>6938100</td>\n",
       "      <td>8743232</td>\n",
       "      <td>2010-01-01 00:00:00.000000</td>\n",
       "      <td>2014-11-01 00:00:00.000000</td>\n",
       "      <td>2014-12-01 00:00:00.000000</td>\n",
       "      <td>2018-06-01 00:00:00.000000</td>\n",
       "    </tr>\n",
       "    <tr>\n",
       "      <th>6</th>\n",
       "      <td>11.0 - CLASON POINT GARDENS BLD 03</td>\n",
       "      <td>8322351</td>\n",
       "      <td>7402447</td>\n",
       "      <td>2013-02-01 00:00:00.000000</td>\n",
       "      <td>2016-02-01 00:00:00.000000</td>\n",
       "      <td>2016-03-01 00:00:00.000000</td>\n",
       "      <td>2018-06-01 00:00:00.000000</td>\n",
       "    </tr>\n",
       "    <tr>\n",
       "      <th>7</th>\n",
       "      <td>11.0 - CLASON POINT GARDENS BLD 13</td>\n",
       "      <td>8322342</td>\n",
       "      <td>8096758</td>\n",
       "      <td>2013-02-01 00:00:00.000000</td>\n",
       "      <td>2016-05-01 00:00:00.000000</td>\n",
       "      <td>2016-06-01 00:00:00.000000</td>\n",
       "      <td>2018-06-01 00:00:00.000000</td>\n",
       "    </tr>\n",
       "    <tr>\n",
       "      <th>8</th>\n",
       "      <td>11.0 - CLASON POINT GARDENS BLD 44</td>\n",
       "      <td>6689019</td>\n",
       "      <td>8362632</td>\n",
       "      <td>2010-08-01 00:00:00.000000</td>\n",
       "      <td>2013-02-01 00:00:00.000000</td>\n",
       "      <td>2013-03-01 00:00:00.000000</td>\n",
       "      <td>2018-06-01 00:00:00.000000</td>\n",
       "    </tr>\n",
       "    <tr>\n",
       "      <th>9</th>\n",
       "      <td>111.0 - BLD 01</td>\n",
       "      <td>7250619</td>\n",
       "      <td>8809141</td>\n",
       "      <td>2010-04-01 00:00:00.000000</td>\n",
       "      <td>2016-09-01 00:00:00.000000</td>\n",
       "      <td>2016-10-01 00:00:00.000000</td>\n",
       "      <td>2018-06-01 00:00:00.000000</td>\n",
       "    </tr>\n",
       "  </tbody>\n",
       "</table>\n",
       "</div>"
      ],
      "text/plain": [
       "                          Building_ID Meter_Number_E Meter_Number_L  \\\n",
       "0                        1.0 - BLD 04        6255947        7381828   \n",
       "1                       10.0 - BLD 09        8009984        8125376   \n",
       "2                       10.0 - BLD 13        7864535        8301063   \n",
       "3                       10.0 - BLD 14        7864555        8301067   \n",
       "4                       10.0 - BLD 16        8074933        8163879   \n",
       "5                      103.0 - BLD 04        6938100        8743232   \n",
       "6  11.0 - CLASON POINT GARDENS BLD 03        8322351        7402447   \n",
       "7  11.0 - CLASON POINT GARDENS BLD 13        8322342        8096758   \n",
       "8  11.0 - CLASON POINT GARDENS BLD 44        6689019        8362632   \n",
       "9                      111.0 - BLD 01        7250619        8809141   \n",
       "\n",
       "                        Min_E                       Max_E  \\\n",
       "0  2010-01-01 00:00:00.000000  2014-04-01 00:00:00.000000   \n",
       "1  2010-01-01 00:00:00.000000  2011-09-01 00:00:00.000000   \n",
       "2  2010-01-01 00:00:00.000000  2011-09-01 00:00:00.000000   \n",
       "3  2010-01-01 00:00:00.000000  2011-09-01 00:00:00.000000   \n",
       "4  2010-01-01 00:00:00.000000  2010-01-01 00:00:00.000000   \n",
       "5  2010-01-01 00:00:00.000000  2014-11-01 00:00:00.000000   \n",
       "6  2013-02-01 00:00:00.000000  2016-02-01 00:00:00.000000   \n",
       "7  2013-02-01 00:00:00.000000  2016-05-01 00:00:00.000000   \n",
       "8  2010-08-01 00:00:00.000000  2013-02-01 00:00:00.000000   \n",
       "9  2010-04-01 00:00:00.000000  2016-09-01 00:00:00.000000   \n",
       "\n",
       "                        Min_L                       Max_L  \n",
       "0  2014-05-01 00:00:00.000000  2018-06-01 00:00:00.000000  \n",
       "1  2011-10-01 00:00:00.000000  2018-05-01 00:00:00.000000  \n",
       "2  2011-10-01 00:00:00.000000  2018-05-01 00:00:00.000000  \n",
       "3  2011-10-01 00:00:00.000000  2018-05-01 00:00:00.000000  \n",
       "4  2010-02-01 00:00:00.000000  2018-03-01 00:00:00.000000  \n",
       "5  2014-12-01 00:00:00.000000  2018-06-01 00:00:00.000000  \n",
       "6  2016-03-01 00:00:00.000000  2018-06-01 00:00:00.000000  \n",
       "7  2016-06-01 00:00:00.000000  2018-06-01 00:00:00.000000  \n",
       "8  2013-03-01 00:00:00.000000  2018-06-01 00:00:00.000000  \n",
       "9  2016-10-01 00:00:00.000000  2018-06-01 00:00:00.000000  "
      ]
     },
     "execution_count": 100,
     "metadata": {},
     "output_type": "execute_result"
    }
   ],
   "source": [
    "a.head(10)"
   ]
  },
  {
   "cell_type": "markdown",
   "metadata": {},
   "source": [
    "Quantify the percentage of these buildings."
   ]
  },
  {
   "cell_type": "code",
   "execution_count": 101,
   "metadata": {},
   "outputs": [],
   "source": [
    "df_meter_switch = pd.DataFrame(a['Building_ID'].value_counts() > 1).reset_index()\n",
    "df_meter_switch.columns = ['Building_ID', 'Multipe_Switch']\n",
    "\n",
    "df_single_meter_switch = df_meter_switch[df_meter_switch['Multipe_Switch'] == False]\n",
    "df_multiple_meter_switch = df_meter_switch[df_meter_switch['Multipe_Switch'] == True]"
   ]
  },
  {
   "cell_type": "code",
   "execution_count": 102,
   "metadata": {},
   "outputs": [
    {
     "data": {
      "text/plain": [
       "(560, 2)"
      ]
     },
     "execution_count": 102,
     "metadata": {},
     "output_type": "execute_result"
    }
   ],
   "source": [
    "df_meter_switch.shape"
   ]
  },
  {
   "cell_type": "code",
   "execution_count": 103,
   "metadata": {},
   "outputs": [
    {
     "data": {
      "text/plain": [
       "(51, 2)"
      ]
     },
     "execution_count": 103,
     "metadata": {},
     "output_type": "execute_result"
    }
   ],
   "source": [
    "df_multiple_meter_switch.shape"
   ]
  },
  {
   "cell_type": "code",
   "execution_count": 104,
   "metadata": {},
   "outputs": [],
   "source": [
    "df_meter_switch = pd.merge(a, df_single_meter_switch, on = 'Building_ID', how = 'inner')[['Building_ID', 'Meter_Number_E', 'Meter_Number_L']]"
   ]
  },
  {
   "cell_type": "code",
   "execution_count": 105,
   "metadata": {},
   "outputs": [],
   "source": [
    "del(a)"
   ]
  },
  {
   "cell_type": "markdown",
   "metadata": {},
   "source": [
    "14.2% of the meters can be mapped to another meter in this way."
   ]
  },
  {
   "cell_type": "code",
   "execution_count": 106,
   "metadata": {},
   "outputs": [
    {
     "data": {
      "text/plain": [
       "0.14221849678681195"
      ]
     },
     "execution_count": 106,
     "metadata": {},
     "output_type": "execute_result"
    }
   ],
   "source": [
    "df_meter_switch['Meter_Number_E'].count() / df['Meter_Number'].nunique()"
   ]
  },
  {
   "cell_type": "markdown",
   "metadata": {},
   "source": [
    "Merge the meter numbers."
   ]
  },
  {
   "cell_type": "code",
   "execution_count": 107,
   "metadata": {},
   "outputs": [],
   "source": [
    "temp = pd.merge(df, df_meter_switch, left_on = ['Building_ID', 'Meter_Number'], right_on = ['Building_ID', 'Meter_Number_E'], how = 'left')\n",
    "temp['Meter_Number_New'] = temp['Meter_Number_L'].combine_first(temp['Meter_Number'])\n",
    "df = temp\n",
    "\n",
    "df.drop(['Meter_Number', 'Meter_Number_L', 'Meter_Number_E'], axis = 1, inplace = True)"
   ]
  },
  {
   "cell_type": "code",
   "execution_count": 108,
   "metadata": {},
   "outputs": [
    {
     "data": {
      "text/html": [
       "<div>\n",
       "<style scoped>\n",
       "    .dataframe tbody tr th:only-of-type {\n",
       "        vertical-align: middle;\n",
       "    }\n",
       "\n",
       "    .dataframe tbody tr th {\n",
       "        vertical-align: top;\n",
       "    }\n",
       "\n",
       "    .dataframe thead th {\n",
       "        text-align: right;\n",
       "    }\n",
       "</style>\n",
       "<table border=\"1\" class=\"dataframe\">\n",
       "  <thead>\n",
       "    <tr style=\"text-align: right;\">\n",
       "      <th></th>\n",
       "      <th>row</th>\n",
       "      <th>Account_Name</th>\n",
       "      <th>Location</th>\n",
       "      <th>Building_ID</th>\n",
       "      <th>Revenue_Month</th>\n",
       "      <th>Service_Start_Date</th>\n",
       "      <th>Service_End_Date</th>\n",
       "      <th># days</th>\n",
       "      <th>Consumption_KWH</th>\n",
       "      <th>KWH_Charges</th>\n",
       "      <th>Consumption_KW</th>\n",
       "      <th>KW_Charges</th>\n",
       "      <th>Other_Charges</th>\n",
       "      <th>Current_Charges</th>\n",
       "      <th>Meter_Number_New</th>\n",
       "    </tr>\n",
       "  </thead>\n",
       "  <tbody>\n",
       "    <tr>\n",
       "      <th>0</th>\n",
       "      <td>0</td>\n",
       "      <td>ADAMS</td>\n",
       "      <td>BLD 05</td>\n",
       "      <td>118.0 - BLD 05</td>\n",
       "      <td>2010-01-01</td>\n",
       "      <td>2009-12-24</td>\n",
       "      <td>2010-01-26</td>\n",
       "      <td>33.0</td>\n",
       "      <td>128800.0</td>\n",
       "      <td>7387.97</td>\n",
       "      <td>216.0</td>\n",
       "      <td>2808.0</td>\n",
       "      <td>5200.85</td>\n",
       "      <td>15396.82</td>\n",
       "      <td>7223256</td>\n",
       "    </tr>\n",
       "    <tr>\n",
       "      <th>1</th>\n",
       "      <td>1</td>\n",
       "      <td>ADAMS</td>\n",
       "      <td>BLD 05</td>\n",
       "      <td>118.0 - BLD 05</td>\n",
       "      <td>2010-02-01</td>\n",
       "      <td>2010-01-26</td>\n",
       "      <td>2010-02-25</td>\n",
       "      <td>30.0</td>\n",
       "      <td>115200.0</td>\n",
       "      <td>6607.87</td>\n",
       "      <td>224.0</td>\n",
       "      <td>2912.0</td>\n",
       "      <td>5036.47</td>\n",
       "      <td>14556.34</td>\n",
       "      <td>7223256</td>\n",
       "    </tr>\n",
       "    <tr>\n",
       "      <th>2</th>\n",
       "      <td>2</td>\n",
       "      <td>ADAMS</td>\n",
       "      <td>BLD 05</td>\n",
       "      <td>118.0 - BLD 05</td>\n",
       "      <td>2010-03-01</td>\n",
       "      <td>2010-02-25</td>\n",
       "      <td>2010-03-26</td>\n",
       "      <td>29.0</td>\n",
       "      <td>103200.0</td>\n",
       "      <td>5919.55</td>\n",
       "      <td>216.0</td>\n",
       "      <td>2808.0</td>\n",
       "      <td>5177.43</td>\n",
       "      <td>13904.98</td>\n",
       "      <td>7223256</td>\n",
       "    </tr>\n",
       "    <tr>\n",
       "      <th>3</th>\n",
       "      <td>3</td>\n",
       "      <td>ADAMS</td>\n",
       "      <td>BLD 05</td>\n",
       "      <td>118.0 - BLD 05</td>\n",
       "      <td>2010-04-01</td>\n",
       "      <td>2010-03-26</td>\n",
       "      <td>2010-04-26</td>\n",
       "      <td>31.0</td>\n",
       "      <td>105600.0</td>\n",
       "      <td>6057.22</td>\n",
       "      <td>208.0</td>\n",
       "      <td>2704.0</td>\n",
       "      <td>6002.82</td>\n",
       "      <td>14764.04</td>\n",
       "      <td>7223256</td>\n",
       "    </tr>\n",
       "    <tr>\n",
       "      <th>4</th>\n",
       "      <td>4</td>\n",
       "      <td>ADAMS</td>\n",
       "      <td>BLD 05</td>\n",
       "      <td>118.0 - BLD 05</td>\n",
       "      <td>2010-05-01</td>\n",
       "      <td>2010-04-26</td>\n",
       "      <td>2010-05-24</td>\n",
       "      <td>28.0</td>\n",
       "      <td>97600.0</td>\n",
       "      <td>5598.34</td>\n",
       "      <td>216.0</td>\n",
       "      <td>2808.0</td>\n",
       "      <td>5323.20</td>\n",
       "      <td>13729.54</td>\n",
       "      <td>7223256</td>\n",
       "    </tr>\n",
       "  </tbody>\n",
       "</table>\n",
       "</div>"
      ],
      "text/plain": [
       "   row Account_Name Location     Building_ID Revenue_Month Service_Start_Date  \\\n",
       "0    0        ADAMS   BLD 05  118.0 - BLD 05    2010-01-01         2009-12-24   \n",
       "1    1        ADAMS   BLD 05  118.0 - BLD 05    2010-02-01         2010-01-26   \n",
       "2    2        ADAMS   BLD 05  118.0 - BLD 05    2010-03-01         2010-02-25   \n",
       "3    3        ADAMS   BLD 05  118.0 - BLD 05    2010-04-01         2010-03-26   \n",
       "4    4        ADAMS   BLD 05  118.0 - BLD 05    2010-05-01         2010-04-26   \n",
       "\n",
       "  Service_End_Date  # days  Consumption_KWH  KWH_Charges  Consumption_KW  \\\n",
       "0       2010-01-26    33.0         128800.0      7387.97           216.0   \n",
       "1       2010-02-25    30.0         115200.0      6607.87           224.0   \n",
       "2       2010-03-26    29.0         103200.0      5919.55           216.0   \n",
       "3       2010-04-26    31.0         105600.0      6057.22           208.0   \n",
       "4       2010-05-24    28.0          97600.0      5598.34           216.0   \n",
       "\n",
       "   KW_Charges  Other_Charges  Current_Charges Meter_Number_New  \n",
       "0      2808.0        5200.85         15396.82          7223256  \n",
       "1      2912.0        5036.47         14556.34          7223256  \n",
       "2      2808.0        5177.43         13904.98          7223256  \n",
       "3      2704.0        6002.82         14764.04          7223256  \n",
       "4      2808.0        5323.20         13729.54          7223256  "
      ]
     },
     "execution_count": 108,
     "metadata": {},
     "output_type": "execute_result"
    }
   ],
   "source": [
    "df.head()"
   ]
  },
  {
   "cell_type": "markdown",
   "metadata": {},
   "source": [
    "Rename the meter_number column and reorder the columns."
   ]
  },
  {
   "cell_type": "code",
   "execution_count": 109,
   "metadata": {},
   "outputs": [],
   "source": [
    "df.columns = ['row', 'Account_Name', 'Location', 'Building_ID',\n",
    "       'Revenue_Month', 'Service_Start_Date', 'Service_End_Date', '# days',\n",
    "       'Consumption_KWH', 'KWH_Charges', 'Consumption_KW', 'KW_Charges',\n",
    "       'Other_Charges', 'Current_Charges', 'Meter_Number']\n",
    "col_ordered = ['row', 'Account_Name', 'Location', 'Building_ID', 'Meter_Number',\n",
    "       'Revenue_Month', 'Service_Start_Date', 'Service_End_Date', '# days',\n",
    "       'Consumption_KWH', 'KWH_Charges', 'Consumption_KW', 'KW_Charges',\n",
    "       'Other_Charges', 'Current_Charges']\n",
    "df = df[col_ordered]"
   ]
  },
  {
   "cell_type": "markdown",
   "metadata": {},
   "source": [
    "Log the corresponding rows in df_flags."
   ]
  },
  {
   "cell_type": "code",
   "execution_count": 110,
   "metadata": {},
   "outputs": [],
   "source": [
    "mask = df.Meter_Number.isin(df_meter_switch.Meter_Number_E.values)\n",
    "df_flags = pd.concat([df_flags, pd.DataFrame({'row':df[mask].row.values, 'flag':'meter_number switched to another for the same building_id'})])"
   ]
  },
  {
   "cell_type": "markdown",
   "metadata": {},
   "source": [
    "Log the rows whose Building_ID has a many-to-many meter_number switch over the years."
   ]
  },
  {
   "cell_type": "code",
   "execution_count": 111,
   "metadata": {},
   "outputs": [],
   "source": [
    "mask = df['Building_ID'].isin(df_multiple_meter_switch.Building_ID.values)\n",
    "\n",
    "df_flags = pd.concat([df_flags, pd.DataFrame({'row':df[mask].row.values, 'flag':'many_to_many meter_number switch over years for the building_id'})])"
   ]
  },
  {
   "cell_type": "markdown",
   "metadata": {},
   "source": [
    "### 3.4 Consolidate data back to Building-Meter-Service_Date_Range level\n",
    "After combinging the meter numbers in the 2 steps above, there are cases where 2 rows exist for the same combination of account id and billing window (1 row for KW charge, 1 row for KWH charge)."
   ]
  },
  {
   "cell_type": "code",
   "execution_count": 112,
   "metadata": {},
   "outputs": [],
   "source": [
    "idx = df.groupby(['Building_ID', 'Meter_Number', 'Service_Start_Date', 'Service_End_Date']).agg(['count'])['Account_Name'].reset_index()"
   ]
  },
  {
   "cell_type": "code",
   "execution_count": 113,
   "metadata": {},
   "outputs": [
    {
     "data": {
      "text/plain": [
       "1    109987\n",
       "2     73572\n",
       "Name: count, dtype: int64"
      ]
     },
     "execution_count": 113,
     "metadata": {},
     "output_type": "execute_result"
    }
   ],
   "source": [
    "idx['count'].value_counts()"
   ]
  },
  {
   "cell_type": "markdown",
   "metadata": {},
   "source": [
    "Remove the multiple rows by aggregating at building, meter, revenue month, service_date_range level. And since the \"Location\" field has many null values, we can't aggregate by it."
   ]
  },
  {
   "cell_type": "code",
   "execution_count": 114,
   "metadata": {},
   "outputs": [
    {
     "data": {
      "text/plain": [
       "row                      0\n",
       "Account_Name             0\n",
       "Location              5565\n",
       "Building_ID              0\n",
       "Meter_Number             0\n",
       "Revenue_Month            0\n",
       "Service_Start_Date       0\n",
       "Service_End_Date         0\n",
       "# days                   0\n",
       "Consumption_KWH          0\n",
       "KWH_Charges              0\n",
       "Consumption_KW           0\n",
       "KW_Charges               0\n",
       "Other_Charges            0\n",
       "Current_Charges          0\n",
       "dtype: int64"
      ]
     },
     "execution_count": 114,
     "metadata": {},
     "output_type": "execute_result"
    }
   ],
   "source": [
    "df.isnull().sum()"
   ]
  },
  {
   "cell_type": "code",
   "execution_count": 115,
   "metadata": {},
   "outputs": [],
   "source": [
    "df = df.groupby(['Account_Name', 'Building_ID', 'Meter_Number',\n",
    "       'Revenue_Month', 'Service_Start_Date',\n",
    "       'Service_End_Date', '# days']).\\\n",
    "    agg({'Consumption_KW': 'sum', 'KW_Charges': 'sum', 'Consumption_KWH': 'sum', 'KWH_Charges': 'sum', 'Other_Charges': 'sum', 'Current_Charges': 'sum', 'row':'min'}).reset_index()"
   ]
  },
  {
   "cell_type": "code",
   "execution_count": 116,
   "metadata": {},
   "outputs": [],
   "source": [
    "df.loc[:, 'Building_Meter'] = df['Building_ID'] + '_' + df['Meter_Number']"
   ]
  },
  {
   "cell_type": "markdown",
   "metadata": {},
   "source": [
    "Reorder the columns."
   ]
  },
  {
   "cell_type": "code",
   "execution_count": 117,
   "metadata": {},
   "outputs": [],
   "source": [
    "cols = ['row', 'Account_Name', 'Building_ID', 'Meter_Number', 'Building_Meter', \n",
    "       'Revenue_Month', 'Service_Start_Date', 'Service_End_Date', '# days', \n",
    "        'Consumption_KW', 'KW_Charges','Consumption_KWH', 'KWH_Charges', \n",
    "        'Other_Charges', 'Current_Charges'\n",
    "       ]\n",
    "df = df[cols]"
   ]
  },
  {
   "cell_type": "code",
   "execution_count": null,
   "metadata": {},
   "outputs": [],
   "source": []
  },
  {
   "cell_type": "markdown",
   "metadata": {},
   "source": [
    "## Step 4 - Identify overlapping bills"
   ]
  },
  {
   "cell_type": "markdown",
   "metadata": {},
   "source": [
    "- Input: df\n",
    "- Output: \n",
    "    1. df (cleaned version of the dataset, each row is a bill uniquely determined by the Building_ID, Meter_Number, Service_Start_Date and Service_End_Date and no overlapping/duplication of billing windows)\n",
    "    2. df_flags (a dataframe that logs all the rows of data quality issues)\n",
    "    3. updated values of the data cleanliness metrics"
   ]
  },
  {
   "cell_type": "code",
   "execution_count": 118,
   "metadata": {},
   "outputs": [],
   "source": [
    "str1 = \"select l.Building_ID, l.row as row_L, r.row as row_R \\\n",
    "        from df l join df r on l.Building_ID = r.Building_ID and l.Meter_Number = r.Meter_Number \\\n",
    "        and l.row != r.row and l.Service_Start_Date <= r.Service_Start_Date \\\n",
    "        and l.Service_End_Date > r.Service_Start_Date \\\n",
    "        \"\n",
    "a = pysql(str1)"
   ]
  },
  {
   "cell_type": "code",
   "execution_count": 119,
   "metadata": {},
   "outputs": [],
   "source": [
    "temp = df[(df['row'].isin(a.row_L)) | (df['row'].isin(a.row_R))]"
   ]
  },
  {
   "cell_type": "code",
   "execution_count": 120,
   "metadata": {},
   "outputs": [
    {
     "data": {
      "text/plain": [
       "RED HOOK EAST/RED HOOK WEST          54\n",
       "OCEAN BAY APARTMENTS (OCEANSIDE)     12\n",
       "MORRISANIA AIR RIGHTS                 4\n",
       "TWIN PARKS WEST (SITES 1 & 2)         2\n",
       "FHA REPOSSESSED HOUSES (GROUP IX)     2\n",
       "CASSIDY-LAFAYETTE                     2\n",
       "LEHMAN VILLAGE                        2\n",
       "Name: Account_Name, dtype: int64"
      ]
     },
     "execution_count": 120,
     "metadata": {},
     "output_type": "execute_result"
    }
   ],
   "source": [
    "temp.Account_Name.value_counts()"
   ]
  },
  {
   "cell_type": "markdown",
   "metadata": {},
   "source": [
    "Look at one example."
   ]
  },
  {
   "cell_type": "code",
   "execution_count": 121,
   "metadata": {},
   "outputs": [
    {
     "data": {
      "text/html": [
       "<div>\n",
       "<style scoped>\n",
       "    .dataframe tbody tr th:only-of-type {\n",
       "        vertical-align: middle;\n",
       "    }\n",
       "\n",
       "    .dataframe tbody tr th {\n",
       "        vertical-align: top;\n",
       "    }\n",
       "\n",
       "    .dataframe thead th {\n",
       "        text-align: right;\n",
       "    }\n",
       "</style>\n",
       "<table border=\"1\" class=\"dataframe\">\n",
       "  <thead>\n",
       "    <tr style=\"text-align: right;\">\n",
       "      <th></th>\n",
       "      <th>row</th>\n",
       "      <th>Account_Name</th>\n",
       "      <th>Building_ID</th>\n",
       "      <th>Meter_Number</th>\n",
       "      <th>Building_Meter</th>\n",
       "      <th>Revenue_Month</th>\n",
       "      <th>Service_Start_Date</th>\n",
       "      <th>Service_End_Date</th>\n",
       "      <th># days</th>\n",
       "      <th>Consumption_KW</th>\n",
       "      <th>KW_Charges</th>\n",
       "      <th>Consumption_KWH</th>\n",
       "      <th>KWH_Charges</th>\n",
       "      <th>Other_Charges</th>\n",
       "      <th>Current_Charges</th>\n",
       "    </tr>\n",
       "  </thead>\n",
       "  <tbody>\n",
       "    <tr>\n",
       "      <th>124490</th>\n",
       "      <td>50783</td>\n",
       "      <td>RED HOOK EAST/RED HOOK WEST</td>\n",
       "      <td>4.0 - RED HOOK EAST BLD 05</td>\n",
       "      <td>6505127</td>\n",
       "      <td>4.0 - RED HOOK EAST BLD 05_6505127</td>\n",
       "      <td>2011-01-01</td>\n",
       "      <td>2010-12-23</td>\n",
       "      <td>2011-01-25</td>\n",
       "      <td>33.0</td>\n",
       "      <td>86.4</td>\n",
       "      <td>1123.20</td>\n",
       "      <td>47520.0</td>\n",
       "      <td>2725.75</td>\n",
       "      <td>2511.59</td>\n",
       "      <td>6360.54</td>\n",
       "    </tr>\n",
       "    <tr>\n",
       "      <th>124491</th>\n",
       "      <td>50749</td>\n",
       "      <td>RED HOOK EAST/RED HOOK WEST</td>\n",
       "      <td>4.0 - RED HOOK EAST BLD 05</td>\n",
       "      <td>6505127</td>\n",
       "      <td>4.0 - RED HOOK EAST BLD 05_6505127</td>\n",
       "      <td>2011-03-01</td>\n",
       "      <td>2010-12-23</td>\n",
       "      <td>2011-03-25</td>\n",
       "      <td>92.0</td>\n",
       "      <td>81.6</td>\n",
       "      <td>1072.22</td>\n",
       "      <td>39360.0</td>\n",
       "      <td>2282.49</td>\n",
       "      <td>2279.74</td>\n",
       "      <td>5634.45</td>\n",
       "    </tr>\n",
       "  </tbody>\n",
       "</table>\n",
       "</div>"
      ],
      "text/plain": [
       "          row                 Account_Name                 Building_ID  \\\n",
       "124490  50783  RED HOOK EAST/RED HOOK WEST  4.0 - RED HOOK EAST BLD 05   \n",
       "124491  50749  RED HOOK EAST/RED HOOK WEST  4.0 - RED HOOK EAST BLD 05   \n",
       "\n",
       "       Meter_Number                      Building_Meter Revenue_Month  \\\n",
       "124490      6505127  4.0 - RED HOOK EAST BLD 05_6505127    2011-01-01   \n",
       "124491      6505127  4.0 - RED HOOK EAST BLD 05_6505127    2011-03-01   \n",
       "\n",
       "       Service_Start_Date Service_End_Date  # days  Consumption_KW  \\\n",
       "124490         2010-12-23       2011-01-25    33.0            86.4   \n",
       "124491         2010-12-23       2011-03-25    92.0            81.6   \n",
       "\n",
       "        KW_Charges  Consumption_KWH  KWH_Charges  Other_Charges  \\\n",
       "124490     1123.20          47520.0      2725.75        2511.59   \n",
       "124491     1072.22          39360.0      2282.49        2279.74   \n",
       "\n",
       "        Current_Charges  \n",
       "124490          6360.54  \n",
       "124491          5634.45  "
      ]
     },
     "execution_count": 121,
     "metadata": {},
     "output_type": "execute_result"
    }
   ],
   "source": [
    "temp[temp['Building_Meter'] == '4.0 - RED HOOK EAST BLD 05_6505127']"
   ]
  },
  {
   "cell_type": "code",
   "execution_count": 122,
   "metadata": {},
   "outputs": [
    {
     "data": {
      "text/plain": [
       "0.012674683132921676"
      ]
     },
     "execution_count": 122,
     "metadata": {},
     "output_type": "execute_result"
    }
   ],
   "source": [
    "temp[['Building_ID', 'Meter_Number']].drop_duplicates().shape[0]/df[['Building_ID', 'Meter_Number']].drop_duplicates().shape[0]"
   ]
  },
  {
   "cell_type": "markdown",
   "metadata": {},
   "source": [
    "Only 7 buildings (1.27% of accounts) have overlapping billing periods. We'll just exclude them from the working dataset for now."
   ]
  },
  {
   "cell_type": "code",
   "execution_count": 123,
   "metadata": {},
   "outputs": [],
   "source": [
    "mask = df.row.isin(temp.row.values)\n",
    "df_flags = pd.concat([df_flags, pd.DataFrame({'row':df[mask].row.values, 'flag':'overlapping billing periods'})])\n",
    "df = df[~mask]"
   ]
  },
  {
   "cell_type": "markdown",
   "metadata": {},
   "source": [
    "### Calculate Metrics regarding zero-values and meter types - 2nd time"
   ]
  },
  {
   "cell_type": "code",
   "execution_count": 124,
   "metadata": {},
   "outputs": [
    {
     "name": "stdout",
     "output_type": "stream",
     "text": [
      "perc of kw_only accounts: 2.50%\n",
      "perc of kwh_only accounts: 16.44%\n",
      "perc of kwh_and_kw accounts: 81.05%\n",
      "perc of buildings with both kw_only and kwh_only accounts: 0.34%\n",
      "\n",
      "\n",
      "perc of rows - current charges of zero: 2.42%\n",
      "perc of rows - kw charges of zero: 17.66%\n",
      "perc of rows - kwh charges of zero: 5.98%\n",
      "perc of rows - usage/charge inconsistency: 6.28%\n",
      "perc of rows - sum of charges inconsistency: 34.14%\n"
     ]
    }
   ],
   "source": [
    "pysql = lambda q: pdsql.sqldf(q, globals())\n",
    "str1 = \"select Building_ID, Meter_Number \\\n",
    "        , sum(case when KWH_Charges == 0 and KW_Charges > 0 then 1 else 0 end) as count_kw_only \\\n",
    "        , sum(case when KW_Charges == 0 and KWH_Charges > 0 then 1 else 0 end) as count_kwh_only \\\n",
    "        , sum(Current_Charges) as total_current_charges \\\n",
    "        , count(*) as count \\\n",
    "        from df \\\n",
    "        group by df.Building_ID, df.Meter_Number\"\n",
    "df_meter_type = pysql(str1)\n",
    "\n",
    "\n",
    "df_meter_type['kwh_only'] = ((df_meter_type['count_kwh_only']/df_meter_type['count']) > 0.9) & (df_meter_type['count_kw_only'] == 0)\n",
    "df_meter_type['kw_only'] = ((df_meter_type['count_kw_only']/df_meter_type['count']) > 0.9) & (df_meter_type['count_kwh_only'] == 0)\n",
    "\n",
    "#### check the meters\n",
    "\n",
    "print(\"perc of kw_only accounts:\", \"{:.2%}\".format(df_meter_type[(df_meter_type['kw_only'] == 1) & (df_meter_type['kwh_only'] == 0)].shape[0] / df_meter_type.shape[0]))\n",
    "\n",
    "print(\"perc of kwh_only accounts:\", \"{:.2%}\".format(df_meter_type[(df_meter_type['kwh_only'] == 1) & (df_meter_type['kw_only'] == 0)].shape[0] / df_meter_type.shape[0]))\n",
    "\n",
    "print(\"perc of kwh_and_kw accounts:\", \"{:.2%}\".format(df_meter_type[(df_meter_type['kwh_only'] == 0) & (df_meter_type['kw_only'] == 0)].shape[0] / df_meter_type.shape[0]))\n",
    "\n",
    "\n",
    "#### check the building_ids\n",
    "\n",
    "a = df_meter_type[df_meter_type['kwh_only'] == 1].groupby(['Building_ID']).agg('count').reset_index().iloc[:, 0:2]\n",
    "b =  df_meter_type[df_meter_type['kw_only'] == 1].groupby(['Building_ID']).agg('count').reset_index().iloc[:, 0:2]\n",
    "a.columns = ['Building_ID', 'Count']\n",
    "b.columns = ['Building_ID', 'Count']\n",
    "\n",
    "print(\"perc of buildings with both kw_only and kwh_only accounts:\", \\\n",
    "     \"{:.2%}\".format(pd.merge(a, b, on = 'Building_ID', how = 'inner').shape[0] \\\n",
    "/ df_meter_type.groupby(['Building_ID']).agg('count').reset_index().shape[0]))\n",
    "\n",
    "print(\"\\n\")\n",
    "\n",
    "#### Check the statistics of zero-value rows:\n",
    "\n",
    "print(\"perc of rows - current charges of zero:\", \"{:.2%}\".format(df[df['Current_Charges'] == 0].shape[0] / df.shape[0]))\n",
    "\n",
    "print(\"perc of rows - kw charges of zero:\", \"{:.2%}\".format(df[df['KW_Charges'] == 0].shape[0] / df.shape[0]))\n",
    "\n",
    "print(\"perc of rows - kwh charges of zero:\", \"{:.2%}\".format(df[df['KWH_Charges'] == 0].shape[0] / df.shape[0]))\n",
    "\n",
    "print(\"perc of rows - usage/charge inconsistency:\", \\\n",
    "      \"{:.2%}\".format(df[((df['KWH_Charges'] == 0) ^ (df['Consumption_KWH'] == 0)) \\\n",
    "   | ((df['KW_Charges'] == 0) ^ (df['Consumption_KW'] == 0)) ].shape[0]\\\n",
    "    /df.shape[0]))\n",
    "\n",
    "print(\"perc of rows - sum of charges inconsistency:\", \\\n",
    "     \"{:.2%}\".format(1 - df[df['Current_Charges'] == df['KWH_Charges'] + df['KW_Charges'] + df['Other_Charges']].shape[0]\\\n",
    "    /df.shape[0]))"
   ]
  },
  {
   "cell_type": "markdown",
   "metadata": {},
   "source": [
    "Comparing to initial check, all metrics have significant improvement except for the \"usage/charge inconsistency\" and \"sum of charges inconsistency\". However the charges fields are not in our current focus areas."
   ]
  },
  {
   "cell_type": "markdown",
   "metadata": {},
   "source": [
    "Metrics from the initial check:"
   ]
  },
  {
   "cell_type": "code",
   "execution_count": null,
   "metadata": {},
   "outputs": [],
   "source": [
    "# perc of kw_only accounts: 28.46%\n",
    "# perc of kwh_only accounts: 36.40%\n",
    "# perc of kwh_and_kw accounts: 35.13%\n",
    "# perc of buildings with both kw_only and kwh_only accounts: 52.79%\n",
    "\n",
    "\n",
    "# perc of rows - current charges of zero: 16.61%\n",
    "# perc of rows - kw charges of zero: 41.13%\n",
    "# perc of rows - kwh charges of zero: 33.03%\n",
    "# perc of rows - usage/charge inconsistency: 4.45%\n",
    "# perc of rows - sum of charges inconsistency: 29.34%"
   ]
  },
  {
   "cell_type": "code",
   "execution_count": null,
   "metadata": {},
   "outputs": [],
   "source": []
  },
  {
   "cell_type": "markdown",
   "metadata": {},
   "source": [
    "## Step 5 - Prorate the bills to calendar months"
   ]
  },
  {
   "cell_type": "markdown",
   "metadata": {},
   "source": [
    "- Input: df\n",
    "- Outputs: \n",
    "    1. df_prorated\n",
    "    2. df_with_calendar_month"
   ]
  },
  {
   "cell_type": "markdown",
   "metadata": {},
   "source": [
    "Since we want to prorate the Consumption_KWH value, let remove the accounts that only has zero value in the Consumption_KWH field."
   ]
  },
  {
   "cell_type": "code",
   "execution_count": 125,
   "metadata": {},
   "outputs": [],
   "source": [
    "a = df.groupby(\"Building_Meter\").agg({'Consumption_KWH':'sum'}).reset_index()\n",
    "KW_Only_Accounts = a[a['Consumption_KWH'] == 0].Building_Meter.values\n",
    "\n",
    "mask = df['Building_Meter'].isin(KW_Only_Accounts)\n",
    "df = df[~mask]"
   ]
  },
  {
   "cell_type": "markdown",
   "metadata": {},
   "source": [
    "We need to find the corresponding calendar months for each bill. Like the revenue_month field, each calendar month is represented by its 1st day."
   ]
  },
  {
   "cell_type": "markdown",
   "metadata": {},
   "source": [
    "For each bill, add the corresponding calendar month for both the start and end date of the billing window, both of which should be mapped to the bill. Here we assume the Service_Start_Date is included in the billing window whereas Service_End_Date is not."
   ]
  },
  {
   "cell_type": "code",
   "execution_count": 126,
   "metadata": {},
   "outputs": [],
   "source": [
    "df['Start_Date_Month'] = df['Service_Start_Date'].apply(\\\n",
    "  lambda x: pd.to_datetime('-'.join([str(x.year), str(x.month)])))\n",
    "\n",
    "df['End_Date_Month'] = df['Service_End_Date'].apply(\\\n",
    "  lambda x: pd.to_datetime('-'.join([str((x + relativedelta(days=-1)).year), str((x + relativedelta(days=-1)).month)])))"
   ]
  },
  {
   "cell_type": "markdown",
   "metadata": {},
   "source": [
    "Create a dataframe of the relevant columns to work on the mapping between row number to the calendar month."
   ]
  },
  {
   "cell_type": "code",
   "execution_count": 127,
   "metadata": {},
   "outputs": [],
   "source": [
    "cols = ['row', 'Start_Date_Month', 'End_Date_Month']\n",
    "temp = df[cols]"
   ]
  },
  {
   "cell_type": "markdown",
   "metadata": {},
   "source": [
    "Create a new data frame to store the mapping. The dataframe will have 3 columns: 'row' (identifier of the bill), 'Start_Date_Month' and 'End_Date_Month'. We'll collapse the last 2 columns into 1 in order to get the associated calendar month for each bill."
   ]
  },
  {
   "cell_type": "code",
   "execution_count": 128,
   "metadata": {},
   "outputs": [],
   "source": [
    "df_month_row_mapping = temp.copy()"
   ]
  },
  {
   "cell_type": "markdown",
   "metadata": {},
   "source": [
    "There are cases where the billing window is longer than one calendar month. \n",
    "\n",
    "- So for each bill, check if the billing window is longer than one month;\n",
    "If so, save the Start_Date_Month in df_month_row_mapping and then replace it with its subsequent month until the billing window is less than one month."
   ]
  },
  {
   "cell_type": "code",
   "execution_count": 129,
   "metadata": {},
   "outputs": [
    {
     "name": "stderr",
     "output_type": "stream",
     "text": [
      "/Users/feiwang/miniconda3/envs/capstone/lib/python3.6/site-packages/pandas/core/indexing.py:362: SettingWithCopyWarning:\n",
      "\n",
      "\n",
      "A value is trying to be set on a copy of a slice from a DataFrame.\n",
      "Try using .loc[row_indexer,col_indexer] = value instead\n",
      "\n",
      "See the caveats in the documentation: http://pandas.pydata.org/pandas-docs/stable/indexing.html#indexing-view-versus-copy\n",
      "\n",
      "/Users/feiwang/miniconda3/envs/capstone/lib/python3.6/site-packages/pandas/core/indexing.py:543: SettingWithCopyWarning:\n",
      "\n",
      "\n",
      "A value is trying to be set on a copy of a slice from a DataFrame.\n",
      "Try using .loc[row_indexer,col_indexer] = value instead\n",
      "\n",
      "See the caveats in the documentation: http://pandas.pydata.org/pandas-docs/stable/indexing.html#indexing-view-versus-copy\n",
      "\n"
     ]
    }
   ],
   "source": [
    "while (temp.shape[0] > 0):\n",
    "    temp.loc[:, 'Start_Date_Month_Next'] = \\\n",
    "    temp['Start_Date_Month'].map(lambda x: x + relativedelta(months=+1))\n",
    "\n",
    "    temp.loc[:, 'Ind'] = \\\n",
    "    temp.apply(lambda x: 1 if x['Start_Date_Month_Next'] < x['End_Date_Month'] else 0, axis = 1)\n",
    "\n",
    "\n",
    "    mask = temp['Ind'] == 1\n",
    "    temp = temp.loc[mask,['row', 'Start_Date_Month_Next', 'End_Date_Month']].copy()\n",
    "    temp.columns = cols\n",
    "\n",
    "    df_month_row_mapping = pd.concat([df_month_row_mapping, temp])"
   ]
  },
  {
   "cell_type": "markdown",
   "metadata": {},
   "source": [
    "Collapse the  'Start_Date_Month' and 'End_Date_Month' columns into one column that contains all corresponding calendar months of a given bill."
   ]
  },
  {
   "cell_type": "code",
   "execution_count": 130,
   "metadata": {},
   "outputs": [],
   "source": [
    "temp = pd.melt(df_month_row_mapping, id_vars = df_month_row_mapping.columns[0:-2].values, value_vars = df_month_row_mapping[cols].columns[-2:])\n",
    "temp.drop('variable', axis = 1, inplace = True)"
   ]
  },
  {
   "cell_type": "markdown",
   "metadata": {},
   "source": [
    "Handle cases where both services start and end dates correspond to the same bill_month."
   ]
  },
  {
   "cell_type": "code",
   "execution_count": 131,
   "metadata": {},
   "outputs": [],
   "source": [
    "temp = temp.drop_duplicates()\n",
    "temp.columns  = ['row', 'Month']"
   ]
  },
  {
   "cell_type": "markdown",
   "metadata": {},
   "source": [
    "Calculate how many days in the bill_month is contained in the billing period. Still assuming the Service_Start_Date is included in the billing window whereas Service_End_Date is not."
   ]
  },
  {
   "cell_type": "code",
   "execution_count": 132,
   "metadata": {},
   "outputs": [],
   "source": [
    "temp = pd.merge(temp, df, on = 'row', how = 'left')"
   ]
  },
  {
   "cell_type": "code",
   "execution_count": 133,
   "metadata": {},
   "outputs": [],
   "source": [
    "temp.loc[:, 'Prorated_Days'] = \\\n",
    "temp.apply(lambda x: \\\n",
    "       (min(x['Month'] + relativedelta(months = 1), x['Service_End_Date']) \\\n",
    "        - max(x['Service_Start_Date'], x['Month']))\\\n",
    "       .days, axis = 1) "
   ]
  },
  {
   "cell_type": "markdown",
   "metadata": {},
   "source": [
    "Some bills has zero prorated_days since the bill's start & end dates are the same, probably due to data entry error."
   ]
  },
  {
   "cell_type": "code",
   "execution_count": 134,
   "metadata": {},
   "outputs": [
    {
     "data": {
      "text/html": [
       "<div>\n",
       "<style scoped>\n",
       "    .dataframe tbody tr th:only-of-type {\n",
       "        vertical-align: middle;\n",
       "    }\n",
       "\n",
       "    .dataframe tbody tr th {\n",
       "        vertical-align: top;\n",
       "    }\n",
       "\n",
       "    .dataframe thead th {\n",
       "        text-align: right;\n",
       "    }\n",
       "</style>\n",
       "<table border=\"1\" class=\"dataframe\">\n",
       "  <thead>\n",
       "    <tr style=\"text-align: right;\">\n",
       "      <th></th>\n",
       "      <th>row</th>\n",
       "      <th>Month</th>\n",
       "      <th>Account_Name</th>\n",
       "      <th>Building_ID</th>\n",
       "      <th>Meter_Number</th>\n",
       "      <th>Building_Meter</th>\n",
       "      <th>Revenue_Month</th>\n",
       "      <th>Service_Start_Date</th>\n",
       "      <th>Service_End_Date</th>\n",
       "      <th># days</th>\n",
       "      <th>Consumption_KW</th>\n",
       "      <th>KW_Charges</th>\n",
       "      <th>Consumption_KWH</th>\n",
       "      <th>KWH_Charges</th>\n",
       "      <th>Other_Charges</th>\n",
       "      <th>Current_Charges</th>\n",
       "      <th>Start_Date_Month</th>\n",
       "      <th>End_Date_Month</th>\n",
       "      <th>Prorated_Days</th>\n",
       "    </tr>\n",
       "  </thead>\n",
       "  <tbody>\n",
       "  </tbody>\n",
       "</table>\n",
       "</div>"
      ],
      "text/plain": [
       "Empty DataFrame\n",
       "Columns: [row, Month, Account_Name, Building_ID, Meter_Number, Building_Meter, Revenue_Month, Service_Start_Date, Service_End_Date, # days, Consumption_KW, KW_Charges, Consumption_KWH, KWH_Charges, Other_Charges, Current_Charges, Start_Date_Month, End_Date_Month, Prorated_Days]\n",
       "Index: []"
      ]
     },
     "execution_count": 134,
     "metadata": {},
     "output_type": "execute_result"
    }
   ],
   "source": [
    "mask = temp['Prorated_Days'] == 0\n",
    "temp[mask]"
   ]
  },
  {
   "cell_type": "code",
   "execution_count": 135,
   "metadata": {},
   "outputs": [],
   "source": [
    "temp = temp[~mask]"
   ]
  },
  {
   "cell_type": "markdown",
   "metadata": {},
   "source": [
    "Calculate the prorated kwh consumption values based on the prorated days."
   ]
  },
  {
   "cell_type": "code",
   "execution_count": 136,
   "metadata": {},
   "outputs": [],
   "source": [
    "temp.loc[:, 'Prorated_KWH'] = \\\n",
    "temp.apply(lambda x: (x['Consumption_KWH'] / x['# days'] )* x['Prorated_Days'], axis = 1)"
   ]
  },
  {
   "cell_type": "markdown",
   "metadata": {},
   "source": [
    "Save a dataframe that contains the full dataset as well as the corresponding calendar month for each bill. This dataframe will be useful to calculate the gaps days per account per month later. Note this dataframe has more rows than the original dataset since one bill may correspond to multiple calendar months."
   ]
  },
  {
   "cell_type": "code",
   "execution_count": 137,
   "metadata": {},
   "outputs": [],
   "source": [
    "df_with_calendar_month = temp.copy()"
   ]
  },
  {
   "cell_type": "code",
   "execution_count": 138,
   "metadata": {},
   "outputs": [],
   "source": [
    "cols = ['row', 'Account_Name', 'Building_ID',\n",
    "       'Meter_Number', 'Building_Meter', 'Revenue_Month',\n",
    "       'Service_Start_Date', 'Service_End_Date', '# days', 'Consumption_KW',\n",
    "       'KW_Charges', 'Consumption_KWH', 'KWH_Charges', 'Other_Charges',\n",
    "       'Current_Charges', 'Month', 'Prorated_Days', 'Prorated_KWH']\n",
    "\n",
    "df_with_calendar_month = df_with_calendar_month[cols]"
   ]
  },
  {
   "cell_type": "markdown",
   "metadata": {},
   "source": [
    "Aggregate the data to Account-Month level by summing up the prorated kwh consupmtion values per bill_month."
   ]
  },
  {
   "cell_type": "code",
   "execution_count": 139,
   "metadata": {},
   "outputs": [],
   "source": [
    "df_prorated = \\\n",
    "df_with_calendar_month.groupby(['Building_Meter','Month']).agg({'Prorated_KWH':'sum', 'Prorated_Days':'sum'}).reset_index()"
   ]
  },
  {
   "cell_type": "markdown",
   "metadata": {},
   "source": [
    "So far for each account we've only been working on the calendar months that the accounts has billing records. We also need to map the account id to the calendar months where it should have data but were not logged or reported."
   ]
  },
  {
   "cell_type": "markdown",
   "metadata": {},
   "source": [
    "Create a dataframe that maps the account (Building_Meter) with all the calendar months that it should have bills."
   ]
  },
  {
   "cell_type": "markdown",
   "metadata": {},
   "source": [
    "Find all unique accounts (Building_Meter) and months in the dataset."
   ]
  },
  {
   "cell_type": "code",
   "execution_count": 140,
   "metadata": {},
   "outputs": [],
   "source": [
    "meters = df_with_calendar_month.Building_Meter.value_counts().index.values\n",
    "df_meter_month = pd.DataFrame()\n",
    "\n",
    "end = df_with_calendar_month['Month'].max()\n",
    "start = df_with_calendar_month['Month'].min()\n",
    "diff = (end.year - start.year) * 12 + end.month - start.month\n",
    "# list of unique months\n",
    "months = [start + relativedelta(months=x) for x in range(0, diff + 1)]"
   ]
  },
  {
   "cell_type": "markdown",
   "metadata": {},
   "source": [
    "Create a reference table with all the calendar months and the corresponding # of days in the month. "
   ]
  },
  {
   "cell_type": "code",
   "execution_count": 141,
   "metadata": {},
   "outputs": [],
   "source": [
    "month_days = [(x + relativedelta(months = 1) - x).days for x in months]\n",
    "df_month_days = pd.DataFrame({'Month':months,  'Month_#_Days':month_days})"
   ]
  },
  {
   "cell_type": "markdown",
   "metadata": {},
   "source": [
    "Now we can map the account (Building_Meter) to all the calendar months that it should have billing data (Here we assumed the account should have data in all months between the first and last calendar month that it has billing data of)."
   ]
  },
  {
   "cell_type": "code",
   "execution_count": 142,
   "metadata": {},
   "outputs": [],
   "source": [
    "df_meter_month = pd.DataFrame()\n",
    "\n",
    "for j in range(len(meters)):\n",
    "    mask = (df_with_calendar_month['Building_Meter'] == meters[j])\n",
    "    start = df_with_calendar_month[mask]['Month'].min()\n",
    "    end = df_with_calendar_month[mask]['Month'].max()\n",
    "    start_index = months.index(start)\n",
    "    end_index = months.index(end)\n",
    "    \n",
    "    temp_df = pd.DataFrame({'Building_Meter':meters[j], 'Month':months[start_index:end_index + 1]})\n",
    "    temp_df.loc[:, 'Month_Type'] = 'Month_In_The_Middle'\n",
    "    temp_df.loc[0, 'Month_Type'] = 'First_Month'\n",
    "    temp_df.loc[temp_df.shape[0]-1, 'Month_Type'] = 'Last_Month'\n",
    "    df_meter_month = pd.concat([df_meter_month, temp_df])"
   ]
  },
  {
   "cell_type": "code",
   "execution_count": 143,
   "metadata": {},
   "outputs": [],
   "source": [
    "df_meter_month = pd.merge(df_meter_month, df_month_days, on = ['Month'], how = 'left')"
   ]
  },
  {
   "cell_type": "markdown",
   "metadata": {},
   "source": [
    "Left join account_meter mapping table to get all months for each account."
   ]
  },
  {
   "cell_type": "code",
   "execution_count": 144,
   "metadata": {},
   "outputs": [],
   "source": [
    "df_prorated = pd.merge(df_meter_month, df_prorated, on = ['Building_Meter', 'Month'], how = 'left')"
   ]
  },
  {
   "cell_type": "markdown",
   "metadata": {},
   "source": [
    "For months that the account didn't have data, fill in with zeros."
   ]
  },
  {
   "cell_type": "code",
   "execution_count": 145,
   "metadata": {},
   "outputs": [],
   "source": [
    "mask = df_prorated['Prorated_Days'].isnull()\n",
    "df_prorated.loc[mask, 'Prorated_KWH'] = 0\n",
    "df_prorated.loc[mask, 'Prorated_Days'] = 0"
   ]
  },
  {
   "cell_type": "code",
   "execution_count": null,
   "metadata": {},
   "outputs": [],
   "source": []
  },
  {
   "cell_type": "markdown",
   "metadata": {},
   "source": [
    "## Step 6 - Identify the billing gaps per calendar month"
   ]
  },
  {
   "cell_type": "markdown",
   "metadata": {},
   "source": [
    "- Input: df_with_calendar_month\n",
    "- Output: df_gaps"
   ]
  },
  {
   "cell_type": "markdown",
   "metadata": {},
   "source": [
    "#### Goals:\n",
    "1. For each account, identify the months with no data\n",
    "2. For each account, identify months with >3 days of billing gap"
   ]
  },
  {
   "cell_type": "markdown",
   "metadata": {},
   "source": [
    "Create a dataframe to sum all prorated days from different bills per account per month."
   ]
  },
  {
   "cell_type": "code",
   "execution_count": 146,
   "metadata": {},
   "outputs": [],
   "source": [
    "df_gaps = df_with_calendar_month.groupby(['Building_Meter','Month'])\\\n",
    "            .agg({'Prorated_Days':'sum'}).reset_index()\n",
    "\n",
    "df_gaps.columns = ['Building_Meter', 'Month', 'Prorated_Days']"
   ]
  },
  {
   "cell_type": "markdown",
   "metadata": {},
   "source": [
    "Left join account_meter mapping table to get all months for each account."
   ]
  },
  {
   "cell_type": "code",
   "execution_count": 147,
   "metadata": {},
   "outputs": [],
   "source": [
    "df_gaps = pd.merge(df_meter_month, df_gaps, on = ['Building_Meter', 'Month'], how = 'left')"
   ]
  },
  {
   "cell_type": "markdown",
   "metadata": {},
   "source": [
    "Calculate the gap days per month for each account."
   ]
  },
  {
   "cell_type": "code",
   "execution_count": 148,
   "metadata": {},
   "outputs": [],
   "source": [
    "mask = df_gaps['Prorated_Days'].isnull()\n",
    "df_gaps.loc[mask, 'Prorated_Days'] = 0\n",
    "\n",
    "df_gaps.loc[:,'Gap_Days'] = df_gaps.apply(lambda x: x['Month_#_Days'] - x['Prorated_Days'], axis = 1)"
   ]
  },
  {
   "cell_type": "markdown",
   "metadata": {},
   "source": [
    "#### Edge case consideration\n",
    "- If the month is the first month of an account, it's legitmate to have a few days with no data at the beginning of the month. Similarly, the last month may have a few days with no data at the end of it."
   ]
  },
  {
   "cell_type": "code",
   "execution_count": 149,
   "metadata": {},
   "outputs": [],
   "source": [
    "df_meter_min_max_service_date = df_with_calendar_month.groupby(['Building_Meter']).agg({'Service_Start_Date':'min', 'Service_End_Date':'max'}).reset_index()\n",
    "df_meter_min_max_service_date.columns = ['Building_Meter', 'First_Service_Date', 'Last_Service_Date']"
   ]
  },
  {
   "cell_type": "code",
   "execution_count": 150,
   "metadata": {},
   "outputs": [],
   "source": [
    "temp = pd.merge(df_meter_min_max_service_date[['Building_Meter', 'First_Service_Date']], \\\n",
    "        df_meter_month[df_meter_month['Month_Type'] == 'First_Month'], on = 'Building_Meter', how = 'inner')\n",
    "\n",
    "temp['Gap_Days_To_Exclude'] = temp.apply(lambda x: (x['First_Service_Date'] - x['Month']).days, axis = 1)\n",
    "\n",
    "df_Meter_First_Month_Gaps_To_Exclude = temp[['Building_Meter', 'Month', 'Gap_Days_To_Exclude']]"
   ]
  },
  {
   "cell_type": "code",
   "execution_count": 151,
   "metadata": {},
   "outputs": [],
   "source": [
    "temp = pd.merge(df_meter_min_max_service_date[['Building_Meter', 'Last_Service_Date']], \\\n",
    "        df_meter_month[df_meter_month['Month_Type'] == 'Last_Month'], on = 'Building_Meter', how = 'inner')\n",
    "\n",
    "temp['Gap_Days_To_Exclude'] = temp.apply(lambda x: (x['Month'] + relativedelta(months=+1) - x['Last_Service_Date']).days, axis = 1)\n",
    "df_Meter_Last_Month_Gaps_To_Exclude = temp[['Building_Meter', 'Month', 'Gap_Days_To_Exclude']]"
   ]
  },
  {
   "cell_type": "code",
   "execution_count": 152,
   "metadata": {},
   "outputs": [],
   "source": [
    "df_gaps_first_month = \\\n",
    "pd.merge(df_gaps[df_gaps['Month_Type'] == 'First_Month']\\\n",
    "         , df_Meter_First_Month_Gaps_To_Exclude, on = ['Building_Meter', 'Month'], how = 'inner')"
   ]
  },
  {
   "cell_type": "code",
   "execution_count": 153,
   "metadata": {},
   "outputs": [],
   "source": [
    "df_gaps_last_month = \\\n",
    "pd.merge(df_gaps[df_gaps['Month_Type'] == 'Last_Month']\\\n",
    "         , df_Meter_Last_Month_Gaps_To_Exclude, on = ['Building_Meter', 'Month'], how = 'inner')"
   ]
  },
  {
   "cell_type": "code",
   "execution_count": 154,
   "metadata": {},
   "outputs": [],
   "source": [
    "df_gaps_first_month['Gap_Days_New'] = \\\n",
    "df_gaps_first_month.apply(lambda x: x['Gap_Days'] - x['Gap_Days_To_Exclude'], axis = 1)\n",
    "\n",
    "df_gaps_last_month['Gap_Days_New'] = \\\n",
    "df_gaps_last_month.apply(lambda x: x['Gap_Days'] - x['Gap_Days_To_Exclude'], axis = 1)"
   ]
  },
  {
   "cell_type": "markdown",
   "metadata": {},
   "source": [
    "Update the # of gap days of the first and last month for each account."
   ]
  },
  {
   "cell_type": "code",
   "execution_count": 155,
   "metadata": {},
   "outputs": [],
   "source": [
    "df_gaps = \\\n",
    "pd.merge(df_gaps, df_gaps_first_month[['Building_Meter', 'Month', 'Gap_Days_New']], \\\n",
    "         on = ['Building_Meter', 'Month'], how = 'left')\n",
    "\n",
    "mask = df_gaps['Gap_Days_New'].isnull()\n",
    "df_gaps.loc[~mask, 'Gap_Days'] = df_gaps.loc[~mask, 'Gap_Days_New']\n",
    "\n",
    "df_gaps.drop('Gap_Days_New', axis = 1, inplace = True)"
   ]
  },
  {
   "cell_type": "code",
   "execution_count": 156,
   "metadata": {},
   "outputs": [],
   "source": [
    "df_gaps = \\\n",
    "pd.merge(df_gaps, df_gaps_last_month[['Building_Meter', 'Month', 'Gap_Days_New']], \\\n",
    "         on = ['Building_Meter', 'Month'], how = 'left')\n",
    "\n",
    "mask = df_gaps['Gap_Days_New'].isnull()\n",
    "df_gaps.loc[~mask, 'Gap_Days'] = df_gaps.loc[~mask, 'Gap_Days_New']\n",
    "\n",
    "df_gaps.drop('Gap_Days_New', axis = 1, inplace = True)"
   ]
  },
  {
   "cell_type": "markdown",
   "metadata": {},
   "source": [
    "#### Flag the accounts that have more than 3 days of gap in a month."
   ]
  },
  {
   "cell_type": "code",
   "execution_count": 157,
   "metadata": {},
   "outputs": [],
   "source": [
    "df_gaps['Gap_Type'] = 'No Gap'\n",
    "\n",
    "mask = (df_gaps['Gap_Days'] > 3)\n",
    "df_gaps.loc[mask, 'Gap_Type'] = 'Gap more than 3 days'\n",
    "\n",
    "mask = (df_gaps['Gap_Days'] == df_gaps['Month_#_Days'])\n",
    "df_gaps.loc[mask, 'Gap_Type'] = 'Full Month Gap'"
   ]
  },
  {
   "cell_type": "code",
   "execution_count": null,
   "metadata": {},
   "outputs": [],
   "source": []
  },
  {
   "cell_type": "markdown",
   "metadata": {},
   "source": [
    "## Step 7 - Impute the KWH Consumption values"
   ]
  },
  {
   "cell_type": "markdown",
   "metadata": {},
   "source": [
    "- Inputs: df_gaps, df_prorated\n",
    "- Output: df_prorated_kwh_imputed"
   ]
  },
  {
   "cell_type": "markdown",
   "metadata": {},
   "source": [
    "#### Impute the KWH Consumption values per account per month. \n",
    "\n",
    "It's essentially a weighted sum of prorated KWH consumptions from different bills per account, per calendar month."
   ]
  },
  {
   "cell_type": "code",
   "execution_count": 158,
   "metadata": {},
   "outputs": [],
   "source": [
    "df_prorated_kwh_imputed = pd.merge(df_gaps[['Building_Meter', 'Month', 'Month_Type', 'Month_#_Days', \\\n",
    "       'Prorated_Days', 'Gap_Days', 'Gap_Type']], df_prorated[['Building_Meter', 'Month', 'Prorated_KWH']], \\\n",
    "        on = ['Building_Meter', 'Month'], how = 'inner')"
   ]
  },
  {
   "cell_type": "code",
   "execution_count": 161,
   "metadata": {},
   "outputs": [],
   "source": [
    "mask = df_prorated_kwh_imputed['Prorated_Days'] > 0\n",
    "\n",
    "df_prorated_kwh_imputed.loc[mask, 'Imputed_KWH'] = \\\n",
    "df_prorated_kwh_imputed.loc[mask].apply(lambda x: x['Prorated_KWH']*x['Month_#_Days']/x['Prorated_Days'], axis = 1)\n",
    "\n",
    "df_prorated_kwh_imputed.loc[~mask, 'Imputed_KWH'] = 0"
   ]
  },
  {
   "cell_type": "markdown",
   "metadata": {},
   "source": [
    "#### Show some samples of the final dataset."
   ]
  },
  {
   "cell_type": "code",
   "execution_count": 162,
   "metadata": {},
   "outputs": [
    {
     "data": {
      "text/html": [
       "<div>\n",
       "<style scoped>\n",
       "    .dataframe tbody tr th:only-of-type {\n",
       "        vertical-align: middle;\n",
       "    }\n",
       "\n",
       "    .dataframe tbody tr th {\n",
       "        vertical-align: top;\n",
       "    }\n",
       "\n",
       "    .dataframe thead th {\n",
       "        text-align: right;\n",
       "    }\n",
       "</style>\n",
       "<table border=\"1\" class=\"dataframe\">\n",
       "  <thead>\n",
       "    <tr style=\"text-align: right;\">\n",
       "      <th></th>\n",
       "      <th>Building_Meter</th>\n",
       "      <th>Month</th>\n",
       "      <th>Month_Type</th>\n",
       "      <th>Month_#_Days</th>\n",
       "      <th>Prorated_Days</th>\n",
       "      <th>Gap_Days</th>\n",
       "      <th>Gap_Type</th>\n",
       "      <th>Prorated_KWH</th>\n",
       "      <th>Imputed_KWH</th>\n",
       "    </tr>\n",
       "  </thead>\n",
       "  <tbody>\n",
       "    <tr>\n",
       "      <th>0</th>\n",
       "      <td>165.0 - BLD 04_99273488</td>\n",
       "      <td>2009-12-01</td>\n",
       "      <td>First_Month</td>\n",
       "      <td>31</td>\n",
       "      <td>9.0</td>\n",
       "      <td>0.0</td>\n",
       "      <td>No Gap</td>\n",
       "      <td>19694.117647</td>\n",
       "      <td>67835.294118</td>\n",
       "    </tr>\n",
       "    <tr>\n",
       "      <th>1</th>\n",
       "      <td>165.0 - BLD 04_99273488</td>\n",
       "      <td>2010-01-01</td>\n",
       "      <td>Month_In_The_Middle</td>\n",
       "      <td>31</td>\n",
       "      <td>31.0</td>\n",
       "      <td>0.0</td>\n",
       "      <td>No Gap</td>\n",
       "      <td>68283.025210</td>\n",
       "      <td>68283.025210</td>\n",
       "    </tr>\n",
       "    <tr>\n",
       "      <th>2</th>\n",
       "      <td>165.0 - BLD 04_99273488</td>\n",
       "      <td>2010-02-01</td>\n",
       "      <td>Month_In_The_Middle</td>\n",
       "      <td>28</td>\n",
       "      <td>28.0</td>\n",
       "      <td>0.0</td>\n",
       "      <td>No Gap</td>\n",
       "      <td>61071.133005</td>\n",
       "      <td>61071.133005</td>\n",
       "    </tr>\n",
       "    <tr>\n",
       "      <th>3</th>\n",
       "      <td>165.0 - BLD 04_99273488</td>\n",
       "      <td>2010-03-01</td>\n",
       "      <td>Month_In_The_Middle</td>\n",
       "      <td>31</td>\n",
       "      <td>31.0</td>\n",
       "      <td>0.0</td>\n",
       "      <td>No Gap</td>\n",
       "      <td>58011.118077</td>\n",
       "      <td>58011.118077</td>\n",
       "    </tr>\n",
       "    <tr>\n",
       "      <th>4</th>\n",
       "      <td>165.0 - BLD 04_99273488</td>\n",
       "      <td>2010-04-01</td>\n",
       "      <td>Month_In_The_Middle</td>\n",
       "      <td>30</td>\n",
       "      <td>30.0</td>\n",
       "      <td>0.0</td>\n",
       "      <td>No Gap</td>\n",
       "      <td>55164.054336</td>\n",
       "      <td>55164.054336</td>\n",
       "    </tr>\n",
       "  </tbody>\n",
       "</table>\n",
       "</div>"
      ],
      "text/plain": [
       "            Building_Meter      Month           Month_Type  Month_#_Days  \\\n",
       "0  165.0 - BLD 04_99273488 2009-12-01          First_Month            31   \n",
       "1  165.0 - BLD 04_99273488 2010-01-01  Month_In_The_Middle            31   \n",
       "2  165.0 - BLD 04_99273488 2010-02-01  Month_In_The_Middle            28   \n",
       "3  165.0 - BLD 04_99273488 2010-03-01  Month_In_The_Middle            31   \n",
       "4  165.0 - BLD 04_99273488 2010-04-01  Month_In_The_Middle            30   \n",
       "\n",
       "   Prorated_Days  Gap_Days Gap_Type  Prorated_KWH   Imputed_KWH  \n",
       "0            9.0       0.0   No Gap  19694.117647  67835.294118  \n",
       "1           31.0       0.0   No Gap  68283.025210  68283.025210  \n",
       "2           28.0       0.0   No Gap  61071.133005  61071.133005  \n",
       "3           31.0       0.0   No Gap  58011.118077  58011.118077  \n",
       "4           30.0       0.0   No Gap  55164.054336  55164.054336  "
      ]
     },
     "execution_count": 162,
     "metadata": {},
     "output_type": "execute_result"
    }
   ],
   "source": [
    "df_prorated_kwh_imputed.head()"
   ]
  },
  {
   "cell_type": "markdown",
   "metadata": {},
   "source": [
    "#### Example plot of the difference between KWH consumptions per revenue month and imputed KWH consumptions per calendar month. \n",
    "\n",
    "Here we can see the imputed KWH consumptions time series is a bit smoother than the original one of which it's a weighted sum. Also in the imputed KWH version we were able to capture the month where the account has no billing data at all (Jun 2012 in this case)."
   ]
  },
  {
   "cell_type": "code",
   "execution_count": 163,
   "metadata": {},
   "outputs": [
    {
     "data": {
      "application/vnd.plotly.v1+json": {
       "config": {
        "linkText": "Export to plot.ly",
        "plotlyServerURL": "https://plot.ly",
        "showLink": false
       },
       "data": [
        {
         "name": "KWH Consumption by Revenue Month",
         "type": "scatter",
         "uid": "8478eff3-6fc6-4722-a869-d9e4b0cc00df",
         "x": [
          "2010-01-01",
          "2010-02-01",
          "2010-03-01",
          "2010-04-01",
          "2010-05-01",
          "2010-06-01",
          "2010-07-01",
          "2010-08-01",
          "2010-09-01",
          "2010-10-01",
          "2010-11-01",
          "2010-12-01",
          "2011-01-01",
          "2011-02-01",
          "2011-03-01",
          "2011-04-01",
          "2011-05-01",
          "2011-06-01",
          "2011-07-01",
          "2011-08-01",
          "2011-09-01",
          "2011-10-01",
          "2011-11-01",
          "2011-12-01",
          "2012-01-01",
          "2012-02-01",
          "2012-03-01",
          "2012-04-01",
          "2012-05-01",
          "2012-06-01",
          "2012-09-01",
          "2012-10-01",
          "2012-11-01",
          "2012-12-01",
          "2013-01-01",
          "2013-02-01",
          "2013-03-01",
          "2013-04-01",
          "2013-05-01",
          "2013-07-01",
          "2013-09-01",
          "2013-11-01",
          "2014-01-01",
          "2014-02-01",
          "2014-03-01",
          "2014-04-01",
          "2014-05-01",
          "2014-06-01",
          "2014-07-01",
          "2014-08-01",
          "2014-09-01",
          "2014-10-01",
          "2014-11-01",
          "2014-12-01",
          "2015-01-01",
          "2015-02-01",
          "2015-03-01",
          "2015-04-01",
          "2015-05-01",
          "2015-06-01",
          "2015-07-01",
          "2015-08-01",
          "2015-09-01",
          "2015-10-01",
          "2015-11-01",
          "2015-12-01",
          "2016-02-01",
          "2016-03-01",
          "2016-04-01",
          "2016-05-01",
          "2016-06-01",
          "2016-07-01",
          "2016-08-01",
          "2016-09-01",
          "2016-10-01",
          "2016-11-01",
          "2016-12-01",
          "2017-01-01",
          "2017-02-01",
          "2017-03-01",
          "2017-05-01",
          "2017-07-01",
          "2017-08-01",
          "2017-09-01",
          "2017-10-01",
          "2017-11-01",
          "2018-01-01",
          "2018-02-01",
          "2018-03-01",
          "2018-05-01",
          "2018-06-01"
         ],
         "y": [
          17280,
          15120,
          14080,
          12400,
          11280,
          11520,
          11440,
          11040,
          11600,
          12000,
          15600,
          17040,
          17680,
          16240,
          14960,
          14400,
          10960,
          10720,
          11360,
          11120,
          11680,
          12000,
          13360,
          14400,
          16160,
          14000,
          13760,
          11600,
          10160,
          10240,
          12320,
          12800,
          13520,
          14880,
          14080,
          16320,
          14560,
          13120,
          9120,
          8080,
          9280,
          11200,
          15120,
          16080,
          14480,
          13520,
          11360,
          11200,
          11200,
          9840,
          10320,
          9840,
          12720,
          15680,
          13520,
          13840,
          12960,
          13760,
          10560,
          10080,
          10800,
          11920,
          10720,
          12880,
          14320,
          16000,
          22960,
          14960,
          16720,
          15280,
          12720,
          13600,
          12880,
          12480,
          13520,
          14720,
          19280,
          18080,
          20640,
          16240,
          12640,
          13120,
          11840,
          12320,
          13040,
          12640,
          18000,
          17840,
          15200,
          13200,
          12640
         ],
         "yaxis": "y"
        },
        {
         "name": "Prorated & Imputed KWH Consumption by Calendar Month",
         "type": "scatter",
         "uid": "afd38d47-a475-429a-a745-97cefa26ddd1",
         "x": [
          "2009-12-01",
          "2010-01-01",
          "2010-02-01",
          "2010-03-01",
          "2010-04-01",
          "2010-05-01",
          "2010-06-01",
          "2010-07-01",
          "2010-08-01",
          "2010-09-01",
          "2010-10-01",
          "2010-11-01",
          "2010-12-01",
          "2011-01-01",
          "2011-02-01",
          "2011-03-01",
          "2011-04-01",
          "2011-05-01",
          "2011-06-01",
          "2011-07-01",
          "2011-08-01",
          "2011-09-01",
          "2011-10-01",
          "2011-11-01",
          "2011-12-01",
          "2012-01-01",
          "2012-02-01",
          "2012-03-01",
          "2012-04-01",
          "2012-05-01",
          "2012-06-01",
          "2012-07-01",
          "2012-08-01",
          "2012-09-01",
          "2012-10-01",
          "2012-11-01",
          "2012-12-01",
          "2013-01-01",
          "2013-02-01",
          "2013-03-01",
          "2013-04-01",
          "2013-05-01",
          "2013-06-01",
          "2013-07-01",
          "2013-08-01",
          "2013-09-01",
          "2013-10-01",
          "2013-11-01",
          "2013-12-01",
          "2014-01-01",
          "2014-02-01",
          "2014-03-01",
          "2014-04-01",
          "2014-05-01",
          "2014-06-01",
          "2014-07-01",
          "2014-08-01",
          "2014-09-01",
          "2014-10-01",
          "2014-11-01",
          "2014-12-01",
          "2015-01-01",
          "2015-02-01",
          "2015-03-01",
          "2015-04-01",
          "2015-05-01",
          "2015-06-01",
          "2015-07-01",
          "2015-08-01",
          "2015-09-01",
          "2015-10-01",
          "2015-11-01",
          "2015-12-01",
          "2016-01-01",
          "2016-02-01",
          "2016-03-01",
          "2016-04-01",
          "2016-05-01",
          "2016-06-01",
          "2016-07-01",
          "2016-08-01",
          "2016-09-01",
          "2016-10-01",
          "2016-11-01",
          "2016-12-01",
          "2017-01-01",
          "2017-02-01",
          "2017-03-01",
          "2017-04-01",
          "2017-05-01",
          "2017-06-01",
          "2017-07-01",
          "2017-08-01",
          "2017-09-01",
          "2017-10-01",
          "2017-11-01",
          "2017-12-01",
          "2018-01-01",
          "2018-02-01",
          "2018-03-01",
          "2018-04-01",
          "2018-05-01",
          "2018-06-01"
         ],
         "y": [
          16232.727272727272,
          16114.90909090909,
          14038.068965517241,
          14537.931034482759,
          12014.285714285714,
          12337.714285714284,
          11498.666666666666,
          11594.494623655912,
          11314.83870967742,
          11720,
          13432.258064516129,
          15514.83870967742,
          16914.72140762463,
          16647.515151515152,
          15029.977011494255,
          15632.30255839822,
          13415.973303670744,
          11551.080459770114,
          10701.333333333332,
          11204.137931034482,
          11939.862068965516,
          11551,
          12310.51724137931,
          13855.127919911012,
          14626.627565982406,
          15019.39393939394,
          13396.559139784946,
          13496.774193548386,
          11652.41379310345,
          10779.586206896553,
          10240,
          0,
          12730.666666666668,
          12213.333333333334,
          12995.862068965518,
          13833.228840125392,
          14004.457478005867,
          14526.451612903225,
          14248.275862068966,
          15266.206896551725,
          12606.896551724138,
          9748.965517241379,
          8080,
          8349.333333333332,
          8990,
          8700,
          11972.413793103447,
          11586.206896551725,
          15120,
          15238.064516129032,
          14057.241379310344,
          15280,
          13464.827586206897,
          11767.931034482759,
          10663.333333333332,
          11301.149425287356,
          10350.517241379312,
          9719,
          11163.586206896553,
          13523.9289446186,
          14206.060606060606,
          13010.424242424242,
          12859.58620689655,
          14019.310344827585,
          13223.103448275862,
          10335.517241379312,
          10514.48275862069,
          11356.129032258064,
          11702.537634408602,
          11296,
          13602.75268817204,
          14291.612903225807,
          16000,
          23725.333333333332,
          20947.310344827587,
          16156.173526140155,
          16105.895439377085,
          15510.620689655172,
          12728,
          13308.965517241379,
          13515.03448275862,
          12538.5,
          13778.189655172413,
          16256.729699666295,
          18613.48973607038,
          17965.090909090908,
          18443.354838709678,
          16240,
          13542.857142857143,
          13994.285714285716,
          12300,
          12696.206896551725,
          12680.459770114943,
          12288.333333333334,
          12887.758620689656,
          13075.862068965518,
          16909.09090909091,
          17302.78787878788,
          16024.602150537636,
          15200,
          13655.172413793103,
          13805.793103448275,
          12640
         ],
         "yaxis": "y"
        }
       ],
       "layout": {
        "legend": {
         "x": -0.05,
         "y": 1.4
        },
        "margin": {
         "b": 100,
         "l": 80,
         "pad": 4,
         "r": 50,
         "t": 200
        },
        "title": {
         "text": "KWH Consumptions over time"
        },
        "yaxis": {
         "tickformat": ","
        }
       }
      },
      "text/html": [
       "<div id=\"28ed66a7-a2ac-4dc4-9c82-04ae991a8f85\" style=\"height: 525px; width: 100%;\" class=\"plotly-graph-div\"></div><script type=\"text/javascript\">require([\"plotly\"], function(Plotly) { window.PLOTLYENV=window.PLOTLYENV || {};window.PLOTLYENV.BASE_URL=\"https://plot.ly\";Plotly.newPlot(\"28ed66a7-a2ac-4dc4-9c82-04ae991a8f85\", [{\"name\": \"KWH Consumption by Revenue Month\", \"x\": [\"2010-01-01\", \"2010-02-01\", \"2010-03-01\", \"2010-04-01\", \"2010-05-01\", \"2010-06-01\", \"2010-07-01\", \"2010-08-01\", \"2010-09-01\", \"2010-10-01\", \"2010-11-01\", \"2010-12-01\", \"2011-01-01\", \"2011-02-01\", \"2011-03-01\", \"2011-04-01\", \"2011-05-01\", \"2011-06-01\", \"2011-07-01\", \"2011-08-01\", \"2011-09-01\", \"2011-10-01\", \"2011-11-01\", \"2011-12-01\", \"2012-01-01\", \"2012-02-01\", \"2012-03-01\", \"2012-04-01\", \"2012-05-01\", \"2012-06-01\", \"2012-09-01\", \"2012-10-01\", \"2012-11-01\", \"2012-12-01\", \"2013-01-01\", \"2013-02-01\", \"2013-03-01\", \"2013-04-01\", \"2013-05-01\", \"2013-07-01\", \"2013-09-01\", \"2013-11-01\", \"2014-01-01\", \"2014-02-01\", \"2014-03-01\", \"2014-04-01\", \"2014-05-01\", \"2014-06-01\", \"2014-07-01\", \"2014-08-01\", \"2014-09-01\", \"2014-10-01\", \"2014-11-01\", \"2014-12-01\", \"2015-01-01\", \"2015-02-01\", \"2015-03-01\", \"2015-04-01\", \"2015-05-01\", \"2015-06-01\", \"2015-07-01\", \"2015-08-01\", \"2015-09-01\", \"2015-10-01\", \"2015-11-01\", \"2015-12-01\", \"2016-02-01\", \"2016-03-01\", \"2016-04-01\", \"2016-05-01\", \"2016-06-01\", \"2016-07-01\", \"2016-08-01\", \"2016-09-01\", \"2016-10-01\", \"2016-11-01\", \"2016-12-01\", \"2017-01-01\", \"2017-02-01\", \"2017-03-01\", \"2017-05-01\", \"2017-07-01\", \"2017-08-01\", \"2017-09-01\", \"2017-10-01\", \"2017-11-01\", \"2018-01-01\", \"2018-02-01\", \"2018-03-01\", \"2018-05-01\", \"2018-06-01\"], \"y\": [17280.0, 15120.0, 14080.0, 12400.0, 11280.0, 11520.0, 11440.0, 11040.0, 11600.0, 12000.0, 15600.0, 17040.0, 17680.0, 16240.0, 14960.0, 14400.0, 10960.0, 10720.0, 11360.0, 11120.0, 11680.0, 12000.0, 13360.0, 14400.0, 16160.0, 14000.0, 13760.0, 11600.0, 10160.0, 10240.0, 12320.0, 12800.0, 13520.0, 14880.0, 14080.0, 16320.0, 14560.0, 13120.0, 9120.0, 8080.0, 9280.0, 11200.0, 15120.0, 16080.0, 14480.0, 13520.0, 11360.0, 11200.0, 11200.0, 9840.0, 10320.0, 9840.0, 12720.0, 15680.0, 13520.0, 13840.0, 12960.0, 13760.0, 10560.0, 10080.0, 10800.0, 11920.0, 10720.0, 12880.0, 14320.0, 16000.0, 22960.0, 14960.0, 16720.0, 15280.0, 12720.0, 13600.0, 12880.0, 12480.0, 13520.0, 14720.0, 19280.0, 18080.0, 20640.0, 16240.0, 12640.0, 13120.0, 11840.0, 12320.0, 13040.0, 12640.0, 18000.0, 17840.0, 15200.0, 13200.0, 12640.0], \"yaxis\": \"y\", \"type\": \"scatter\", \"uid\": \"8478eff3-6fc6-4722-a869-d9e4b0cc00df\"}, {\"name\": \"Prorated & Imputed KWH Consumption by Calendar Month\", \"x\": [\"2009-12-01\", \"2010-01-01\", \"2010-02-01\", \"2010-03-01\", \"2010-04-01\", \"2010-05-01\", \"2010-06-01\", \"2010-07-01\", \"2010-08-01\", \"2010-09-01\", \"2010-10-01\", \"2010-11-01\", \"2010-12-01\", \"2011-01-01\", \"2011-02-01\", \"2011-03-01\", \"2011-04-01\", \"2011-05-01\", \"2011-06-01\", \"2011-07-01\", \"2011-08-01\", \"2011-09-01\", \"2011-10-01\", \"2011-11-01\", \"2011-12-01\", \"2012-01-01\", \"2012-02-01\", \"2012-03-01\", \"2012-04-01\", \"2012-05-01\", \"2012-06-01\", \"2012-07-01\", \"2012-08-01\", \"2012-09-01\", \"2012-10-01\", \"2012-11-01\", \"2012-12-01\", \"2013-01-01\", \"2013-02-01\", \"2013-03-01\", \"2013-04-01\", \"2013-05-01\", \"2013-06-01\", \"2013-07-01\", \"2013-08-01\", \"2013-09-01\", \"2013-10-01\", \"2013-11-01\", \"2013-12-01\", \"2014-01-01\", \"2014-02-01\", \"2014-03-01\", \"2014-04-01\", \"2014-05-01\", \"2014-06-01\", \"2014-07-01\", \"2014-08-01\", \"2014-09-01\", \"2014-10-01\", \"2014-11-01\", \"2014-12-01\", \"2015-01-01\", \"2015-02-01\", \"2015-03-01\", \"2015-04-01\", \"2015-05-01\", \"2015-06-01\", \"2015-07-01\", \"2015-08-01\", \"2015-09-01\", \"2015-10-01\", \"2015-11-01\", \"2015-12-01\", \"2016-01-01\", \"2016-02-01\", \"2016-03-01\", \"2016-04-01\", \"2016-05-01\", \"2016-06-01\", \"2016-07-01\", \"2016-08-01\", \"2016-09-01\", \"2016-10-01\", \"2016-11-01\", \"2016-12-01\", \"2017-01-01\", \"2017-02-01\", \"2017-03-01\", \"2017-04-01\", \"2017-05-01\", \"2017-06-01\", \"2017-07-01\", \"2017-08-01\", \"2017-09-01\", \"2017-10-01\", \"2017-11-01\", \"2017-12-01\", \"2018-01-01\", \"2018-02-01\", \"2018-03-01\", \"2018-04-01\", \"2018-05-01\", \"2018-06-01\"], \"y\": [16232.727272727272, 16114.90909090909, 14038.068965517241, 14537.931034482759, 12014.285714285714, 12337.714285714284, 11498.666666666666, 11594.494623655912, 11314.83870967742, 11720.0, 13432.258064516129, 15514.83870967742, 16914.72140762463, 16647.515151515152, 15029.977011494255, 15632.30255839822, 13415.973303670744, 11551.080459770114, 10701.333333333332, 11204.137931034482, 11939.862068965516, 11551.0, 12310.51724137931, 13855.127919911012, 14626.627565982406, 15019.39393939394, 13396.559139784946, 13496.774193548386, 11652.41379310345, 10779.586206896553, 10240.0, 0.0, 12730.666666666668, 12213.333333333334, 12995.862068965518, 13833.228840125392, 14004.457478005867, 14526.451612903225, 14248.275862068966, 15266.206896551725, 12606.896551724138, 9748.965517241379, 8080.0, 8349.333333333332, 8990.0, 8700.0, 11972.413793103447, 11586.206896551725, 15120.0, 15238.064516129032, 14057.241379310344, 15280.0, 13464.827586206897, 11767.931034482759, 10663.333333333332, 11301.149425287356, 10350.517241379312, 9719.0, 11163.586206896553, 13523.9289446186, 14206.060606060606, 13010.424242424242, 12859.58620689655, 14019.310344827585, 13223.103448275862, 10335.517241379312, 10514.48275862069, 11356.129032258064, 11702.537634408602, 11296.0, 13602.75268817204, 14291.612903225807, 16000.0, 23725.333333333332, 20947.310344827587, 16156.173526140155, 16105.895439377085, 15510.620689655172, 12728.0, 13308.965517241379, 13515.03448275862, 12538.5, 13778.189655172413, 16256.729699666295, 18613.48973607038, 17965.090909090908, 18443.354838709678, 16240.0, 13542.857142857143, 13994.285714285716, 12300.0, 12696.206896551725, 12680.459770114943, 12288.333333333334, 12887.758620689656, 13075.862068965518, 16909.09090909091, 17302.78787878788, 16024.602150537636, 15200.0, 13655.172413793103, 13805.793103448275, 12640.0], \"yaxis\": \"y\", \"type\": \"scatter\", \"uid\": \"afd38d47-a475-429a-a745-97cefa26ddd1\"}], {\"legend\": {\"x\": -0.05, \"y\": 1.4}, \"margin\": {\"b\": 100, \"l\": 80, \"pad\": 4, \"r\": 50, \"t\": 200}, \"title\": {\"text\": \"KWH Consumptions over time\"}, \"yaxis\": {\"tickformat\": \",\"}}, {\"showLink\": false, \"linkText\": \"Export to plot.ly\", \"plotlyServerURL\": \"https://plot.ly\"})});</script><script type=\"text/javascript\">window.addEventListener(\"resize\", function(){window._Plotly.Plots.resize(document.getElementById(\"28ed66a7-a2ac-4dc4-9c82-04ae991a8f85\"));});</script>"
      ],
      "text/vnd.plotly.v1+html": [
       "<div id=\"28ed66a7-a2ac-4dc4-9c82-04ae991a8f85\" style=\"height: 525px; width: 100%;\" class=\"plotly-graph-div\"></div><script type=\"text/javascript\">require([\"plotly\"], function(Plotly) { window.PLOTLYENV=window.PLOTLYENV || {};window.PLOTLYENV.BASE_URL=\"https://plot.ly\";Plotly.newPlot(\"28ed66a7-a2ac-4dc4-9c82-04ae991a8f85\", [{\"name\": \"KWH Consumption by Revenue Month\", \"x\": [\"2010-01-01\", \"2010-02-01\", \"2010-03-01\", \"2010-04-01\", \"2010-05-01\", \"2010-06-01\", \"2010-07-01\", \"2010-08-01\", \"2010-09-01\", \"2010-10-01\", \"2010-11-01\", \"2010-12-01\", \"2011-01-01\", \"2011-02-01\", \"2011-03-01\", \"2011-04-01\", \"2011-05-01\", \"2011-06-01\", \"2011-07-01\", \"2011-08-01\", \"2011-09-01\", \"2011-10-01\", \"2011-11-01\", \"2011-12-01\", \"2012-01-01\", \"2012-02-01\", \"2012-03-01\", \"2012-04-01\", \"2012-05-01\", \"2012-06-01\", \"2012-09-01\", \"2012-10-01\", \"2012-11-01\", \"2012-12-01\", \"2013-01-01\", \"2013-02-01\", \"2013-03-01\", \"2013-04-01\", \"2013-05-01\", \"2013-07-01\", \"2013-09-01\", \"2013-11-01\", \"2014-01-01\", \"2014-02-01\", \"2014-03-01\", \"2014-04-01\", \"2014-05-01\", \"2014-06-01\", \"2014-07-01\", \"2014-08-01\", \"2014-09-01\", \"2014-10-01\", \"2014-11-01\", \"2014-12-01\", \"2015-01-01\", \"2015-02-01\", \"2015-03-01\", \"2015-04-01\", \"2015-05-01\", \"2015-06-01\", \"2015-07-01\", \"2015-08-01\", \"2015-09-01\", \"2015-10-01\", \"2015-11-01\", \"2015-12-01\", \"2016-02-01\", \"2016-03-01\", \"2016-04-01\", \"2016-05-01\", \"2016-06-01\", \"2016-07-01\", \"2016-08-01\", \"2016-09-01\", \"2016-10-01\", \"2016-11-01\", \"2016-12-01\", \"2017-01-01\", \"2017-02-01\", \"2017-03-01\", \"2017-05-01\", \"2017-07-01\", \"2017-08-01\", \"2017-09-01\", \"2017-10-01\", \"2017-11-01\", \"2018-01-01\", \"2018-02-01\", \"2018-03-01\", \"2018-05-01\", \"2018-06-01\"], \"y\": [17280.0, 15120.0, 14080.0, 12400.0, 11280.0, 11520.0, 11440.0, 11040.0, 11600.0, 12000.0, 15600.0, 17040.0, 17680.0, 16240.0, 14960.0, 14400.0, 10960.0, 10720.0, 11360.0, 11120.0, 11680.0, 12000.0, 13360.0, 14400.0, 16160.0, 14000.0, 13760.0, 11600.0, 10160.0, 10240.0, 12320.0, 12800.0, 13520.0, 14880.0, 14080.0, 16320.0, 14560.0, 13120.0, 9120.0, 8080.0, 9280.0, 11200.0, 15120.0, 16080.0, 14480.0, 13520.0, 11360.0, 11200.0, 11200.0, 9840.0, 10320.0, 9840.0, 12720.0, 15680.0, 13520.0, 13840.0, 12960.0, 13760.0, 10560.0, 10080.0, 10800.0, 11920.0, 10720.0, 12880.0, 14320.0, 16000.0, 22960.0, 14960.0, 16720.0, 15280.0, 12720.0, 13600.0, 12880.0, 12480.0, 13520.0, 14720.0, 19280.0, 18080.0, 20640.0, 16240.0, 12640.0, 13120.0, 11840.0, 12320.0, 13040.0, 12640.0, 18000.0, 17840.0, 15200.0, 13200.0, 12640.0], \"yaxis\": \"y\", \"type\": \"scatter\", \"uid\": \"8478eff3-6fc6-4722-a869-d9e4b0cc00df\"}, {\"name\": \"Prorated & Imputed KWH Consumption by Calendar Month\", \"x\": [\"2009-12-01\", \"2010-01-01\", \"2010-02-01\", \"2010-03-01\", \"2010-04-01\", \"2010-05-01\", \"2010-06-01\", \"2010-07-01\", \"2010-08-01\", \"2010-09-01\", \"2010-10-01\", \"2010-11-01\", \"2010-12-01\", \"2011-01-01\", \"2011-02-01\", \"2011-03-01\", \"2011-04-01\", \"2011-05-01\", \"2011-06-01\", \"2011-07-01\", \"2011-08-01\", \"2011-09-01\", \"2011-10-01\", \"2011-11-01\", \"2011-12-01\", \"2012-01-01\", \"2012-02-01\", \"2012-03-01\", \"2012-04-01\", \"2012-05-01\", \"2012-06-01\", \"2012-07-01\", \"2012-08-01\", \"2012-09-01\", \"2012-10-01\", \"2012-11-01\", \"2012-12-01\", \"2013-01-01\", \"2013-02-01\", \"2013-03-01\", \"2013-04-01\", \"2013-05-01\", \"2013-06-01\", \"2013-07-01\", \"2013-08-01\", \"2013-09-01\", \"2013-10-01\", \"2013-11-01\", \"2013-12-01\", \"2014-01-01\", \"2014-02-01\", \"2014-03-01\", \"2014-04-01\", \"2014-05-01\", \"2014-06-01\", \"2014-07-01\", \"2014-08-01\", \"2014-09-01\", \"2014-10-01\", \"2014-11-01\", \"2014-12-01\", \"2015-01-01\", \"2015-02-01\", \"2015-03-01\", \"2015-04-01\", \"2015-05-01\", \"2015-06-01\", \"2015-07-01\", \"2015-08-01\", \"2015-09-01\", \"2015-10-01\", \"2015-11-01\", \"2015-12-01\", \"2016-01-01\", \"2016-02-01\", \"2016-03-01\", \"2016-04-01\", \"2016-05-01\", \"2016-06-01\", \"2016-07-01\", \"2016-08-01\", \"2016-09-01\", \"2016-10-01\", \"2016-11-01\", \"2016-12-01\", \"2017-01-01\", \"2017-02-01\", \"2017-03-01\", \"2017-04-01\", \"2017-05-01\", \"2017-06-01\", \"2017-07-01\", \"2017-08-01\", \"2017-09-01\", \"2017-10-01\", \"2017-11-01\", \"2017-12-01\", \"2018-01-01\", \"2018-02-01\", \"2018-03-01\", \"2018-04-01\", \"2018-05-01\", \"2018-06-01\"], \"y\": [16232.727272727272, 16114.90909090909, 14038.068965517241, 14537.931034482759, 12014.285714285714, 12337.714285714284, 11498.666666666666, 11594.494623655912, 11314.83870967742, 11720.0, 13432.258064516129, 15514.83870967742, 16914.72140762463, 16647.515151515152, 15029.977011494255, 15632.30255839822, 13415.973303670744, 11551.080459770114, 10701.333333333332, 11204.137931034482, 11939.862068965516, 11551.0, 12310.51724137931, 13855.127919911012, 14626.627565982406, 15019.39393939394, 13396.559139784946, 13496.774193548386, 11652.41379310345, 10779.586206896553, 10240.0, 0.0, 12730.666666666668, 12213.333333333334, 12995.862068965518, 13833.228840125392, 14004.457478005867, 14526.451612903225, 14248.275862068966, 15266.206896551725, 12606.896551724138, 9748.965517241379, 8080.0, 8349.333333333332, 8990.0, 8700.0, 11972.413793103447, 11586.206896551725, 15120.0, 15238.064516129032, 14057.241379310344, 15280.0, 13464.827586206897, 11767.931034482759, 10663.333333333332, 11301.149425287356, 10350.517241379312, 9719.0, 11163.586206896553, 13523.9289446186, 14206.060606060606, 13010.424242424242, 12859.58620689655, 14019.310344827585, 13223.103448275862, 10335.517241379312, 10514.48275862069, 11356.129032258064, 11702.537634408602, 11296.0, 13602.75268817204, 14291.612903225807, 16000.0, 23725.333333333332, 20947.310344827587, 16156.173526140155, 16105.895439377085, 15510.620689655172, 12728.0, 13308.965517241379, 13515.03448275862, 12538.5, 13778.189655172413, 16256.729699666295, 18613.48973607038, 17965.090909090908, 18443.354838709678, 16240.0, 13542.857142857143, 13994.285714285716, 12300.0, 12696.206896551725, 12680.459770114943, 12288.333333333334, 12887.758620689656, 13075.862068965518, 16909.09090909091, 17302.78787878788, 16024.602150537636, 15200.0, 13655.172413793103, 13805.793103448275, 12640.0], \"yaxis\": \"y\", \"type\": \"scatter\", \"uid\": \"afd38d47-a475-429a-a745-97cefa26ddd1\"}], {\"legend\": {\"x\": -0.05, \"y\": 1.4}, \"margin\": {\"b\": 100, \"l\": 80, \"pad\": 4, \"r\": 50, \"t\": 200}, \"title\": {\"text\": \"KWH Consumptions over time\"}, \"yaxis\": {\"tickformat\": \",\"}}, {\"showLink\": false, \"linkText\": \"Export to plot.ly\", \"plotlyServerURL\": \"https://plot.ly\"})});</script><script type=\"text/javascript\">window.addEventListener(\"resize\", function(){window._Plotly.Plots.resize(document.getElementById(\"28ed66a7-a2ac-4dc4-9c82-04ae991a8f85\"));});</script>"
      ]
     },
     "metadata": {},
     "output_type": "display_data"
    }
   ],
   "source": [
    "temp = df[df['Building_Meter'] == '341.0 - BLD 04_7835072']\n",
    "trace1 = go.Scatter(\n",
    "    x = temp.Revenue_Month,\n",
    "    y = temp.Consumption_KWH,\n",
    "    name = 'KWH Consumption by Revenue Month',\n",
    "    yaxis = 'y'\n",
    ")\n",
    "\n",
    "temp = df_prorated_kwh_imputed[df_prorated_kwh_imputed['Building_Meter'] == '341.0 - BLD 04_7835072']\n",
    "trace2 = go.Scatter(\n",
    "    x = temp.Month,\n",
    "    y = temp.Imputed_KWH,\n",
    "    name = 'Prorated & Imputed KWH Consumption by Calendar Month',\n",
    "    yaxis = 'y'\n",
    ")\n",
    "\n",
    "data = [trace1, trace2]\n",
    "\n",
    "layout = go.Layout(\n",
    "    title='KWH Consumptions over time',\n",
    "    margin=go.layout.Margin(\n",
    "        l=80,\n",
    "        r=50,\n",
    "        b=100,\n",
    "        t=200,\n",
    "        pad=4\n",
    "    ),\n",
    "    yaxis=dict(\n",
    "#         title='KWH Consumption',\n",
    "        tickformat=\",\",\n",
    "    ),\n",
    "    legend=dict(x = -0.05, y=1.4)\n",
    ")\n",
    "\n",
    "fig = go.Figure(data=data, layout=layout)\n",
    "iplot(fig)"
   ]
  },
  {
   "cell_type": "markdown",
   "metadata": {},
   "source": [
    "#### Trendline of % of accounts with billing gaps (entire month or 3+ days of gap) by revenue month"
   ]
  },
  {
   "cell_type": "code",
   "execution_count": 164,
   "metadata": {},
   "outputs": [],
   "source": [
    "temp = df_gaps.groupby(['Month']).agg({'Building_Meter':'nunique'}).reset_index()\n",
    "\n",
    "\n",
    "mask = df_gaps['Gap_Type'] == 'Gap more than 3 days'\n",
    "a = df_gaps[mask].groupby(['Month']).agg({'Building_Meter':'nunique'}).reset_index()\n",
    "\n",
    "mask = df_gaps['Gap_Type'] == 'Full Month Gap'\n",
    "b = df_gaps[mask].groupby(['Month']).agg({'Building_Meter':'nunique'}).reset_index()\n",
    "\n",
    "temp = pd.merge(temp, a, on = 'Month', how = 'left')\n",
    "temp = pd.merge(temp, b, on = 'Month', how = 'left')\n",
    "\n",
    "temp = temp.fillna(0)\n",
    "\n",
    "temp.columns = ['Month', 'meters_count', 'meters_3DayGap_count', 'meters_1MonthGap_count']\n",
    "\n",
    "temp['meters_no_data_perc'] = \\\n",
    "temp.apply(lambda x: round(x['meters_1MonthGap_count']/x['meters_count'], 4), axis = 1)\n",
    "\n",
    "temp['meters_no_data_or_long_gap_perc'] = \\\n",
    "temp.apply(lambda x: round((x['meters_1MonthGap_count'] + x['meters_3DayGap_count'])/x['meters_count'], 4), axis = 1)"
   ]
  },
  {
   "cell_type": "code",
   "execution_count": 167,
   "metadata": {},
   "outputs": [],
   "source": [
    "df_data_completeness_by_month = temp.copy()"
   ]
  },
  {
   "cell_type": "code",
   "execution_count": 168,
   "metadata": {},
   "outputs": [
    {
     "data": {
      "application/vnd.plotly.v1+json": {
       "config": {
        "linkText": "Export to plot.ly",
        "plotlyServerURL": "https://plot.ly",
        "showLink": false
       },
       "data": [
        {
         "marker": {
          "color": "rgba(204,204,204,1)"
         },
         "name": "# of Accounts that should have data in the month",
         "type": "bar",
         "uid": "9219293f-cc34-4a05-9a0c-c1847fea4590",
         "x": [
          "2009-12-01",
          "2010-01-01",
          "2010-02-01",
          "2010-03-01",
          "2010-04-01",
          "2010-05-01",
          "2010-06-01",
          "2010-07-01",
          "2010-08-01",
          "2010-09-01",
          "2010-10-01",
          "2010-11-01",
          "2010-12-01",
          "2011-01-01",
          "2011-02-01",
          "2011-03-01",
          "2011-04-01",
          "2011-05-01",
          "2011-06-01",
          "2011-07-01",
          "2011-08-01",
          "2011-09-01",
          "2011-10-01",
          "2011-11-01",
          "2011-12-01",
          "2012-01-01",
          "2012-02-01",
          "2012-03-01",
          "2012-04-01",
          "2012-05-01",
          "2012-06-01",
          "2012-07-01",
          "2012-08-01",
          "2012-09-01",
          "2012-10-01",
          "2012-11-01",
          "2012-12-01",
          "2013-01-01",
          "2013-02-01",
          "2013-03-01",
          "2013-04-01",
          "2013-05-01",
          "2013-06-01",
          "2013-07-01",
          "2013-08-01",
          "2013-09-01",
          "2013-10-01",
          "2013-11-01",
          "2013-12-01",
          "2014-01-01",
          "2014-02-01",
          "2014-03-01",
          "2014-04-01",
          "2014-05-01",
          "2014-06-01",
          "2014-07-01",
          "2014-08-01",
          "2014-09-01",
          "2014-10-01",
          "2014-11-01",
          "2014-12-01",
          "2015-01-01",
          "2015-02-01",
          "2015-03-01",
          "2015-04-01",
          "2015-05-01",
          "2015-06-01",
          "2015-07-01",
          "2015-08-01",
          "2015-09-01",
          "2015-10-01",
          "2015-11-01",
          "2015-12-01",
          "2016-01-01",
          "2016-02-01",
          "2016-03-01",
          "2016-04-01",
          "2016-05-01",
          "2016-06-01",
          "2016-07-01",
          "2016-08-01",
          "2016-09-01",
          "2016-10-01",
          "2016-11-01",
          "2016-12-01",
          "2017-01-01",
          "2017-02-01",
          "2017-03-01",
          "2017-04-01",
          "2017-05-01",
          "2017-06-01",
          "2017-07-01",
          "2017-08-01",
          "2017-09-01",
          "2017-10-01",
          "2017-11-01",
          "2017-12-01",
          "2018-01-01",
          "2018-02-01",
          "2018-03-01",
          "2018-04-01",
          "2018-05-01",
          "2018-06-01"
         ],
         "y": [
          1558,
          1731,
          1827,
          1857,
          1846,
          1876,
          1927,
          1936,
          1924,
          1919,
          1918,
          1919,
          1867,
          1870,
          1886,
          1984,
          1997,
          1974,
          1965,
          1965,
          1941,
          1906,
          1968,
          1988,
          2004,
          2051,
          2084,
          2074,
          2081,
          2082,
          2068,
          2060,
          2059,
          2059,
          2058,
          2054,
          2051,
          2074,
          2094,
          2152,
          2148,
          2148,
          2151,
          2151,
          2161,
          2160,
          2169,
          2168,
          2164,
          2170,
          2139,
          2150,
          2146,
          2146,
          2150,
          2159,
          2161,
          2158,
          2151,
          2154,
          2161,
          2119,
          2119,
          2117,
          2120,
          2128,
          2143,
          2142,
          2142,
          2101,
          2098,
          2096,
          2093,
          2097,
          2101,
          2105,
          2102,
          2102,
          2102,
          2090,
          2090,
          2091,
          2087,
          2089,
          2087,
          2083,
          2084,
          2081,
          2081,
          2080,
          2075,
          2075,
          2068,
          2066,
          2056,
          2050,
          2047,
          2034,
          1932,
          1811,
          1667,
          1305,
          1186
         ],
         "yaxis": "y"
        },
        {
         "name": "% of Accounts with no data",
         "type": "scatter",
         "uid": "c3db0fc5-bab3-4f68-972b-a697b1209ffa",
         "x": [
          "2009-12-01",
          "2010-01-01",
          "2010-02-01",
          "2010-03-01",
          "2010-04-01",
          "2010-05-01",
          "2010-06-01",
          "2010-07-01",
          "2010-08-01",
          "2010-09-01",
          "2010-10-01",
          "2010-11-01",
          "2010-12-01",
          "2011-01-01",
          "2011-02-01",
          "2011-03-01",
          "2011-04-01",
          "2011-05-01",
          "2011-06-01",
          "2011-07-01",
          "2011-08-01",
          "2011-09-01",
          "2011-10-01",
          "2011-11-01",
          "2011-12-01",
          "2012-01-01",
          "2012-02-01",
          "2012-03-01",
          "2012-04-01",
          "2012-05-01",
          "2012-06-01",
          "2012-07-01",
          "2012-08-01",
          "2012-09-01",
          "2012-10-01",
          "2012-11-01",
          "2012-12-01",
          "2013-01-01",
          "2013-02-01",
          "2013-03-01",
          "2013-04-01",
          "2013-05-01",
          "2013-06-01",
          "2013-07-01",
          "2013-08-01",
          "2013-09-01",
          "2013-10-01",
          "2013-11-01",
          "2013-12-01",
          "2014-01-01",
          "2014-02-01",
          "2014-03-01",
          "2014-04-01",
          "2014-05-01",
          "2014-06-01",
          "2014-07-01",
          "2014-08-01",
          "2014-09-01",
          "2014-10-01",
          "2014-11-01",
          "2014-12-01",
          "2015-01-01",
          "2015-02-01",
          "2015-03-01",
          "2015-04-01",
          "2015-05-01",
          "2015-06-01",
          "2015-07-01",
          "2015-08-01",
          "2015-09-01",
          "2015-10-01",
          "2015-11-01",
          "2015-12-01",
          "2016-01-01",
          "2016-02-01",
          "2016-03-01",
          "2016-04-01",
          "2016-05-01",
          "2016-06-01",
          "2016-07-01",
          "2016-08-01",
          "2016-09-01",
          "2016-10-01",
          "2016-11-01",
          "2016-12-01",
          "2017-01-01",
          "2017-02-01",
          "2017-03-01",
          "2017-04-01",
          "2017-05-01",
          "2017-06-01",
          "2017-07-01",
          "2017-08-01",
          "2017-09-01",
          "2017-10-01",
          "2017-11-01",
          "2017-12-01",
          "2018-01-01",
          "2018-02-01",
          "2018-03-01",
          "2018-04-01",
          "2018-05-01",
          "2018-06-01"
         ],
         "y": [
          0,
          0,
          0.0717,
          0.0765,
          0.0986,
          0.1317,
          0.123,
          0.1255,
          0.17,
          0.1626,
          0.1319,
          0.112,
          0.0953,
          0.1588,
          0.1882,
          0.124,
          0.1142,
          0.0942,
          0.1237,
          0.1186,
          0.0541,
          0.0331,
          0.0462,
          0.0684,
          0.0803,
          0.0795,
          0.0657,
          0.0776,
          0.0577,
          0.0538,
          0.0691,
          0.1087,
          0.0578,
          0.0505,
          0.0525,
          0.0643,
          0.0561,
          0.0545,
          0.0635,
          0.0493,
          0.0284,
          0.0484,
          0.047,
          0.0474,
          0.0759,
          0.0634,
          0.0622,
          0.0807,
          0.0804,
          0.0571,
          0.0617,
          0.0749,
          0.0447,
          0.0363,
          0.0335,
          0.0259,
          0.0241,
          0.0218,
          0.0126,
          0.0093,
          0.0106,
          0.0099,
          0.009,
          0.0076,
          0.0057,
          0.0221,
          0.0443,
          0.0532,
          0.0868,
          0.1295,
          0.0891,
          0.1007,
          0.2408,
          0.1316,
          0.0961,
          0.0817,
          0.0685,
          0.0742,
          0.0647,
          0.0727,
          0.0751,
          0.0942,
          0.1054,
          0.0933,
          0.0954,
          0.0869,
          0.0931,
          0.0581,
          0.0408,
          0.0413,
          0.0371,
          0.0516,
          0.0595,
          0.029,
          0.0243,
          0.1654,
          0.0147,
          0.0103,
          0.0145,
          0.0099,
          0.0132,
          0,
          0
         ],
         "yaxis": "y2"
        },
        {
         "name": "% of Accounts with no data or 3+ days of gap",
         "type": "scatter",
         "uid": "3c222091-80aa-4d52-9fbd-1a4cb4283d55",
         "x": [
          "2009-12-01",
          "2010-01-01",
          "2010-02-01",
          "2010-03-01",
          "2010-04-01",
          "2010-05-01",
          "2010-06-01",
          "2010-07-01",
          "2010-08-01",
          "2010-09-01",
          "2010-10-01",
          "2010-11-01",
          "2010-12-01",
          "2011-01-01",
          "2011-02-01",
          "2011-03-01",
          "2011-04-01",
          "2011-05-01",
          "2011-06-01",
          "2011-07-01",
          "2011-08-01",
          "2011-09-01",
          "2011-10-01",
          "2011-11-01",
          "2011-12-01",
          "2012-01-01",
          "2012-02-01",
          "2012-03-01",
          "2012-04-01",
          "2012-05-01",
          "2012-06-01",
          "2012-07-01",
          "2012-08-01",
          "2012-09-01",
          "2012-10-01",
          "2012-11-01",
          "2012-12-01",
          "2013-01-01",
          "2013-02-01",
          "2013-03-01",
          "2013-04-01",
          "2013-05-01",
          "2013-06-01",
          "2013-07-01",
          "2013-08-01",
          "2013-09-01",
          "2013-10-01",
          "2013-11-01",
          "2013-12-01",
          "2014-01-01",
          "2014-02-01",
          "2014-03-01",
          "2014-04-01",
          "2014-05-01",
          "2014-06-01",
          "2014-07-01",
          "2014-08-01",
          "2014-09-01",
          "2014-10-01",
          "2014-11-01",
          "2014-12-01",
          "2015-01-01",
          "2015-02-01",
          "2015-03-01",
          "2015-04-01",
          "2015-05-01",
          "2015-06-01",
          "2015-07-01",
          "2015-08-01",
          "2015-09-01",
          "2015-10-01",
          "2015-11-01",
          "2015-12-01",
          "2016-01-01",
          "2016-02-01",
          "2016-03-01",
          "2016-04-01",
          "2016-05-01",
          "2016-06-01",
          "2016-07-01",
          "2016-08-01",
          "2016-09-01",
          "2016-10-01",
          "2016-11-01",
          "2016-12-01",
          "2017-01-01",
          "2017-02-01",
          "2017-03-01",
          "2017-04-01",
          "2017-05-01",
          "2017-06-01",
          "2017-07-01",
          "2017-08-01",
          "2017-09-01",
          "2017-10-01",
          "2017-11-01",
          "2017-12-01",
          "2018-01-01",
          "2018-02-01",
          "2018-03-01",
          "2018-04-01",
          "2018-05-01",
          "2018-06-01"
         ],
         "y": [
          0,
          0.1508,
          0.1954,
          0.2219,
          0.266,
          0.2468,
          0.2828,
          0.3347,
          0.3228,
          0.2892,
          0.2795,
          0.2939,
          0.3176,
          0.3193,
          0.3144,
          0.2883,
          0.2524,
          0.2867,
          0.3252,
          0.2901,
          0.205,
          0.1506,
          0.1367,
          0.168,
          0.1841,
          0.1555,
          0.1516,
          0.1673,
          0.1523,
          0.1676,
          0.4342,
          0.4063,
          0.2137,
          0.1656,
          0.1647,
          0.1728,
          0.1516,
          0.1316,
          0.1251,
          0.1152,
          0.122,
          0.1341,
          0.1399,
          0.1358,
          0.1402,
          0.1532,
          0.1595,
          0.1804,
          0.1862,
          0.1558,
          0.1234,
          0.1116,
          0.117,
          0.0867,
          0.087,
          0.1149,
          0.0847,
          0.0436,
          0.0428,
          0.0283,
          0.0379,
          0.0467,
          0.0359,
          0.0288,
          0.0443,
          0.0728,
          0.0821,
          0.1125,
          0.212,
          0.2442,
          0.1949,
          0.3077,
          0.4295,
          0.3796,
          0.3051,
          0.2751,
          0.107,
          0.1047,
          0.1356,
          0.1364,
          0.1483,
          0.1535,
          0.1548,
          0.1637,
          0.1481,
          0.1608,
          0.1636,
          0.1591,
          0.1221,
          0.0923,
          0.1065,
          0.187,
          0.1939,
          0.1142,
          0.2067,
          0.2527,
          0.2501,
          0.0698,
          0.0828,
          0.0834,
          0.234,
          0.2483,
          0
         ],
         "yaxis": "y2"
        }
       ],
       "layout": {
        "legend": {
         "x": -0.05,
         "y": -0.4
        },
        "title": {
         "text": "Trend Line of Data Incompleteness"
        },
        "yaxis": {
         "tickformat": ",",
         "title": {
          "text": "# of Accounts that should have data in the month"
         }
        },
        "yaxis2": {
         "overlaying": "y",
         "side": "right",
         "tickformat": ".1%",
         "title": {
          "text": "% of Accounts missing data"
         }
        }
       }
      },
      "text/html": [
       "<div id=\"bf2a80f9-05f8-4bcf-9b61-d9bb011f1952\" style=\"height: 525px; width: 100%;\" class=\"plotly-graph-div\"></div><script type=\"text/javascript\">require([\"plotly\"], function(Plotly) { window.PLOTLYENV=window.PLOTLYENV || {};window.PLOTLYENV.BASE_URL=\"https://plot.ly\";Plotly.newPlot(\"bf2a80f9-05f8-4bcf-9b61-d9bb011f1952\", [{\"marker\": {\"color\": \"rgba(204,204,204,1)\"}, \"name\": \"# of Accounts that should have data in the month\", \"x\": [\"2009-12-01\", \"2010-01-01\", \"2010-02-01\", \"2010-03-01\", \"2010-04-01\", \"2010-05-01\", \"2010-06-01\", \"2010-07-01\", \"2010-08-01\", \"2010-09-01\", \"2010-10-01\", \"2010-11-01\", \"2010-12-01\", \"2011-01-01\", \"2011-02-01\", \"2011-03-01\", \"2011-04-01\", \"2011-05-01\", \"2011-06-01\", \"2011-07-01\", \"2011-08-01\", \"2011-09-01\", \"2011-10-01\", \"2011-11-01\", \"2011-12-01\", \"2012-01-01\", \"2012-02-01\", \"2012-03-01\", \"2012-04-01\", \"2012-05-01\", \"2012-06-01\", \"2012-07-01\", \"2012-08-01\", \"2012-09-01\", \"2012-10-01\", \"2012-11-01\", \"2012-12-01\", \"2013-01-01\", \"2013-02-01\", \"2013-03-01\", \"2013-04-01\", \"2013-05-01\", \"2013-06-01\", \"2013-07-01\", \"2013-08-01\", \"2013-09-01\", \"2013-10-01\", \"2013-11-01\", \"2013-12-01\", \"2014-01-01\", \"2014-02-01\", \"2014-03-01\", \"2014-04-01\", \"2014-05-01\", \"2014-06-01\", \"2014-07-01\", \"2014-08-01\", \"2014-09-01\", \"2014-10-01\", \"2014-11-01\", \"2014-12-01\", \"2015-01-01\", \"2015-02-01\", \"2015-03-01\", \"2015-04-01\", \"2015-05-01\", \"2015-06-01\", \"2015-07-01\", \"2015-08-01\", \"2015-09-01\", \"2015-10-01\", \"2015-11-01\", \"2015-12-01\", \"2016-01-01\", \"2016-02-01\", \"2016-03-01\", \"2016-04-01\", \"2016-05-01\", \"2016-06-01\", \"2016-07-01\", \"2016-08-01\", \"2016-09-01\", \"2016-10-01\", \"2016-11-01\", \"2016-12-01\", \"2017-01-01\", \"2017-02-01\", \"2017-03-01\", \"2017-04-01\", \"2017-05-01\", \"2017-06-01\", \"2017-07-01\", \"2017-08-01\", \"2017-09-01\", \"2017-10-01\", \"2017-11-01\", \"2017-12-01\", \"2018-01-01\", \"2018-02-01\", \"2018-03-01\", \"2018-04-01\", \"2018-05-01\", \"2018-06-01\"], \"y\": [1558, 1731, 1827, 1857, 1846, 1876, 1927, 1936, 1924, 1919, 1918, 1919, 1867, 1870, 1886, 1984, 1997, 1974, 1965, 1965, 1941, 1906, 1968, 1988, 2004, 2051, 2084, 2074, 2081, 2082, 2068, 2060, 2059, 2059, 2058, 2054, 2051, 2074, 2094, 2152, 2148, 2148, 2151, 2151, 2161, 2160, 2169, 2168, 2164, 2170, 2139, 2150, 2146, 2146, 2150, 2159, 2161, 2158, 2151, 2154, 2161, 2119, 2119, 2117, 2120, 2128, 2143, 2142, 2142, 2101, 2098, 2096, 2093, 2097, 2101, 2105, 2102, 2102, 2102, 2090, 2090, 2091, 2087, 2089, 2087, 2083, 2084, 2081, 2081, 2080, 2075, 2075, 2068, 2066, 2056, 2050, 2047, 2034, 1932, 1811, 1667, 1305, 1186], \"yaxis\": \"y\", \"type\": \"bar\", \"uid\": \"9219293f-cc34-4a05-9a0c-c1847fea4590\"}, {\"name\": \"% of Accounts with no data\", \"x\": [\"2009-12-01\", \"2010-01-01\", \"2010-02-01\", \"2010-03-01\", \"2010-04-01\", \"2010-05-01\", \"2010-06-01\", \"2010-07-01\", \"2010-08-01\", \"2010-09-01\", \"2010-10-01\", \"2010-11-01\", \"2010-12-01\", \"2011-01-01\", \"2011-02-01\", \"2011-03-01\", \"2011-04-01\", \"2011-05-01\", \"2011-06-01\", \"2011-07-01\", \"2011-08-01\", \"2011-09-01\", \"2011-10-01\", \"2011-11-01\", \"2011-12-01\", \"2012-01-01\", \"2012-02-01\", \"2012-03-01\", \"2012-04-01\", \"2012-05-01\", \"2012-06-01\", \"2012-07-01\", \"2012-08-01\", \"2012-09-01\", \"2012-10-01\", \"2012-11-01\", \"2012-12-01\", \"2013-01-01\", \"2013-02-01\", \"2013-03-01\", \"2013-04-01\", \"2013-05-01\", \"2013-06-01\", \"2013-07-01\", \"2013-08-01\", \"2013-09-01\", \"2013-10-01\", \"2013-11-01\", \"2013-12-01\", \"2014-01-01\", \"2014-02-01\", \"2014-03-01\", \"2014-04-01\", \"2014-05-01\", \"2014-06-01\", \"2014-07-01\", \"2014-08-01\", \"2014-09-01\", \"2014-10-01\", \"2014-11-01\", \"2014-12-01\", \"2015-01-01\", \"2015-02-01\", \"2015-03-01\", \"2015-04-01\", \"2015-05-01\", \"2015-06-01\", \"2015-07-01\", \"2015-08-01\", \"2015-09-01\", \"2015-10-01\", \"2015-11-01\", \"2015-12-01\", \"2016-01-01\", \"2016-02-01\", \"2016-03-01\", \"2016-04-01\", \"2016-05-01\", \"2016-06-01\", \"2016-07-01\", \"2016-08-01\", \"2016-09-01\", \"2016-10-01\", \"2016-11-01\", \"2016-12-01\", \"2017-01-01\", \"2017-02-01\", \"2017-03-01\", \"2017-04-01\", \"2017-05-01\", \"2017-06-01\", \"2017-07-01\", \"2017-08-01\", \"2017-09-01\", \"2017-10-01\", \"2017-11-01\", \"2017-12-01\", \"2018-01-01\", \"2018-02-01\", \"2018-03-01\", \"2018-04-01\", \"2018-05-01\", \"2018-06-01\"], \"y\": [0.0, 0.0, 0.0717, 0.0765, 0.0986, 0.1317, 0.123, 0.1255, 0.17, 0.1626, 0.1319, 0.112, 0.0953, 0.1588, 0.1882, 0.124, 0.1142, 0.0942, 0.1237, 0.1186, 0.0541, 0.0331, 0.0462, 0.0684, 0.0803, 0.0795, 0.0657, 0.0776, 0.0577, 0.0538, 0.0691, 0.1087, 0.0578, 0.0505, 0.0525, 0.0643, 0.0561, 0.0545, 0.0635, 0.0493, 0.0284, 0.0484, 0.047, 0.0474, 0.0759, 0.0634, 0.0622, 0.0807, 0.0804, 0.0571, 0.0617, 0.0749, 0.0447, 0.0363, 0.0335, 0.0259, 0.0241, 0.0218, 0.0126, 0.0093, 0.0106, 0.0099, 0.009, 0.0076, 0.0057, 0.0221, 0.0443, 0.0532, 0.0868, 0.1295, 0.0891, 0.1007, 0.2408, 0.1316, 0.0961, 0.0817, 0.0685, 0.0742, 0.0647, 0.0727, 0.0751, 0.0942, 0.1054, 0.0933, 0.0954, 0.0869, 0.0931, 0.0581, 0.0408, 0.0413, 0.0371, 0.0516, 0.0595, 0.029, 0.0243, 0.1654, 0.0147, 0.0103, 0.0145, 0.0099, 0.0132, 0.0, 0.0], \"yaxis\": \"y2\", \"type\": \"scatter\", \"uid\": \"c3db0fc5-bab3-4f68-972b-a697b1209ffa\"}, {\"name\": \"% of Accounts with no data or 3+ days of gap\", \"x\": [\"2009-12-01\", \"2010-01-01\", \"2010-02-01\", \"2010-03-01\", \"2010-04-01\", \"2010-05-01\", \"2010-06-01\", \"2010-07-01\", \"2010-08-01\", \"2010-09-01\", \"2010-10-01\", \"2010-11-01\", \"2010-12-01\", \"2011-01-01\", \"2011-02-01\", \"2011-03-01\", \"2011-04-01\", \"2011-05-01\", \"2011-06-01\", \"2011-07-01\", \"2011-08-01\", \"2011-09-01\", \"2011-10-01\", \"2011-11-01\", \"2011-12-01\", \"2012-01-01\", \"2012-02-01\", \"2012-03-01\", \"2012-04-01\", \"2012-05-01\", \"2012-06-01\", \"2012-07-01\", \"2012-08-01\", \"2012-09-01\", \"2012-10-01\", \"2012-11-01\", \"2012-12-01\", \"2013-01-01\", \"2013-02-01\", \"2013-03-01\", \"2013-04-01\", \"2013-05-01\", \"2013-06-01\", \"2013-07-01\", \"2013-08-01\", \"2013-09-01\", \"2013-10-01\", \"2013-11-01\", \"2013-12-01\", \"2014-01-01\", \"2014-02-01\", \"2014-03-01\", \"2014-04-01\", \"2014-05-01\", \"2014-06-01\", \"2014-07-01\", \"2014-08-01\", \"2014-09-01\", \"2014-10-01\", \"2014-11-01\", \"2014-12-01\", \"2015-01-01\", \"2015-02-01\", \"2015-03-01\", \"2015-04-01\", \"2015-05-01\", \"2015-06-01\", \"2015-07-01\", \"2015-08-01\", \"2015-09-01\", \"2015-10-01\", \"2015-11-01\", \"2015-12-01\", \"2016-01-01\", \"2016-02-01\", \"2016-03-01\", \"2016-04-01\", \"2016-05-01\", \"2016-06-01\", \"2016-07-01\", \"2016-08-01\", \"2016-09-01\", \"2016-10-01\", \"2016-11-01\", \"2016-12-01\", \"2017-01-01\", \"2017-02-01\", \"2017-03-01\", \"2017-04-01\", \"2017-05-01\", \"2017-06-01\", \"2017-07-01\", \"2017-08-01\", \"2017-09-01\", \"2017-10-01\", \"2017-11-01\", \"2017-12-01\", \"2018-01-01\", \"2018-02-01\", \"2018-03-01\", \"2018-04-01\", \"2018-05-01\", \"2018-06-01\"], \"y\": [0.0, 0.1508, 0.1954, 0.2219, 0.266, 0.2468, 0.2828, 0.3347, 0.3228, 0.2892, 0.2795, 0.2939, 0.3176, 0.3193, 0.3144, 0.2883, 0.2524, 0.2867, 0.3252, 0.2901, 0.205, 0.1506, 0.1367, 0.168, 0.1841, 0.1555, 0.1516, 0.1673, 0.1523, 0.1676, 0.4342, 0.4063, 0.2137, 0.1656, 0.1647, 0.1728, 0.1516, 0.1316, 0.1251, 0.1152, 0.122, 0.1341, 0.1399, 0.1358, 0.1402, 0.1532, 0.1595, 0.1804, 0.1862, 0.1558, 0.1234, 0.1116, 0.117, 0.0867, 0.087, 0.1149, 0.0847, 0.0436, 0.0428, 0.0283, 0.0379, 0.0467, 0.0359, 0.0288, 0.0443, 0.0728, 0.0821, 0.1125, 0.212, 0.2442, 0.1949, 0.3077, 0.4295, 0.3796, 0.3051, 0.2751, 0.107, 0.1047, 0.1356, 0.1364, 0.1483, 0.1535, 0.1548, 0.1637, 0.1481, 0.1608, 0.1636, 0.1591, 0.1221, 0.0923, 0.1065, 0.187, 0.1939, 0.1142, 0.2067, 0.2527, 0.2501, 0.0698, 0.0828, 0.0834, 0.234, 0.2483, 0.0], \"yaxis\": \"y2\", \"type\": \"scatter\", \"uid\": \"3c222091-80aa-4d52-9fbd-1a4cb4283d55\"}], {\"legend\": {\"x\": -0.05, \"y\": -0.4}, \"title\": {\"text\": \"Trend Line of Data Incompleteness\"}, \"yaxis\": {\"tickformat\": \",\", \"title\": {\"text\": \"# of Accounts that should have data in the month\"}}, \"yaxis2\": {\"overlaying\": \"y\", \"side\": \"right\", \"tickformat\": \".1%\", \"title\": {\"text\": \"% of Accounts missing data\"}}}, {\"showLink\": false, \"linkText\": \"Export to plot.ly\", \"plotlyServerURL\": \"https://plot.ly\"})});</script><script type=\"text/javascript\">window.addEventListener(\"resize\", function(){window._Plotly.Plots.resize(document.getElementById(\"bf2a80f9-05f8-4bcf-9b61-d9bb011f1952\"));});</script>"
      ],
      "text/vnd.plotly.v1+html": [
       "<div id=\"bf2a80f9-05f8-4bcf-9b61-d9bb011f1952\" style=\"height: 525px; width: 100%;\" class=\"plotly-graph-div\"></div><script type=\"text/javascript\">require([\"plotly\"], function(Plotly) { window.PLOTLYENV=window.PLOTLYENV || {};window.PLOTLYENV.BASE_URL=\"https://plot.ly\";Plotly.newPlot(\"bf2a80f9-05f8-4bcf-9b61-d9bb011f1952\", [{\"marker\": {\"color\": \"rgba(204,204,204,1)\"}, \"name\": \"# of Accounts that should have data in the month\", \"x\": [\"2009-12-01\", \"2010-01-01\", \"2010-02-01\", \"2010-03-01\", \"2010-04-01\", \"2010-05-01\", \"2010-06-01\", \"2010-07-01\", \"2010-08-01\", \"2010-09-01\", \"2010-10-01\", \"2010-11-01\", \"2010-12-01\", \"2011-01-01\", \"2011-02-01\", \"2011-03-01\", \"2011-04-01\", \"2011-05-01\", \"2011-06-01\", \"2011-07-01\", \"2011-08-01\", \"2011-09-01\", \"2011-10-01\", \"2011-11-01\", \"2011-12-01\", \"2012-01-01\", \"2012-02-01\", \"2012-03-01\", \"2012-04-01\", \"2012-05-01\", \"2012-06-01\", \"2012-07-01\", \"2012-08-01\", \"2012-09-01\", \"2012-10-01\", \"2012-11-01\", \"2012-12-01\", \"2013-01-01\", \"2013-02-01\", \"2013-03-01\", \"2013-04-01\", \"2013-05-01\", \"2013-06-01\", \"2013-07-01\", \"2013-08-01\", \"2013-09-01\", \"2013-10-01\", \"2013-11-01\", \"2013-12-01\", \"2014-01-01\", \"2014-02-01\", \"2014-03-01\", \"2014-04-01\", \"2014-05-01\", \"2014-06-01\", \"2014-07-01\", \"2014-08-01\", \"2014-09-01\", \"2014-10-01\", \"2014-11-01\", \"2014-12-01\", \"2015-01-01\", \"2015-02-01\", \"2015-03-01\", \"2015-04-01\", \"2015-05-01\", \"2015-06-01\", \"2015-07-01\", \"2015-08-01\", \"2015-09-01\", \"2015-10-01\", \"2015-11-01\", \"2015-12-01\", \"2016-01-01\", \"2016-02-01\", \"2016-03-01\", \"2016-04-01\", \"2016-05-01\", \"2016-06-01\", \"2016-07-01\", \"2016-08-01\", \"2016-09-01\", \"2016-10-01\", \"2016-11-01\", \"2016-12-01\", \"2017-01-01\", \"2017-02-01\", \"2017-03-01\", \"2017-04-01\", \"2017-05-01\", \"2017-06-01\", \"2017-07-01\", \"2017-08-01\", \"2017-09-01\", \"2017-10-01\", \"2017-11-01\", \"2017-12-01\", \"2018-01-01\", \"2018-02-01\", \"2018-03-01\", \"2018-04-01\", \"2018-05-01\", \"2018-06-01\"], \"y\": [1558, 1731, 1827, 1857, 1846, 1876, 1927, 1936, 1924, 1919, 1918, 1919, 1867, 1870, 1886, 1984, 1997, 1974, 1965, 1965, 1941, 1906, 1968, 1988, 2004, 2051, 2084, 2074, 2081, 2082, 2068, 2060, 2059, 2059, 2058, 2054, 2051, 2074, 2094, 2152, 2148, 2148, 2151, 2151, 2161, 2160, 2169, 2168, 2164, 2170, 2139, 2150, 2146, 2146, 2150, 2159, 2161, 2158, 2151, 2154, 2161, 2119, 2119, 2117, 2120, 2128, 2143, 2142, 2142, 2101, 2098, 2096, 2093, 2097, 2101, 2105, 2102, 2102, 2102, 2090, 2090, 2091, 2087, 2089, 2087, 2083, 2084, 2081, 2081, 2080, 2075, 2075, 2068, 2066, 2056, 2050, 2047, 2034, 1932, 1811, 1667, 1305, 1186], \"yaxis\": \"y\", \"type\": \"bar\", \"uid\": \"9219293f-cc34-4a05-9a0c-c1847fea4590\"}, {\"name\": \"% of Accounts with no data\", \"x\": [\"2009-12-01\", \"2010-01-01\", \"2010-02-01\", \"2010-03-01\", \"2010-04-01\", \"2010-05-01\", \"2010-06-01\", \"2010-07-01\", \"2010-08-01\", \"2010-09-01\", \"2010-10-01\", \"2010-11-01\", \"2010-12-01\", \"2011-01-01\", \"2011-02-01\", \"2011-03-01\", \"2011-04-01\", \"2011-05-01\", \"2011-06-01\", \"2011-07-01\", \"2011-08-01\", \"2011-09-01\", \"2011-10-01\", \"2011-11-01\", \"2011-12-01\", \"2012-01-01\", \"2012-02-01\", \"2012-03-01\", \"2012-04-01\", \"2012-05-01\", \"2012-06-01\", \"2012-07-01\", \"2012-08-01\", \"2012-09-01\", \"2012-10-01\", \"2012-11-01\", \"2012-12-01\", \"2013-01-01\", \"2013-02-01\", \"2013-03-01\", \"2013-04-01\", \"2013-05-01\", \"2013-06-01\", \"2013-07-01\", \"2013-08-01\", \"2013-09-01\", \"2013-10-01\", \"2013-11-01\", \"2013-12-01\", \"2014-01-01\", \"2014-02-01\", \"2014-03-01\", \"2014-04-01\", \"2014-05-01\", \"2014-06-01\", \"2014-07-01\", \"2014-08-01\", \"2014-09-01\", \"2014-10-01\", \"2014-11-01\", \"2014-12-01\", \"2015-01-01\", \"2015-02-01\", \"2015-03-01\", \"2015-04-01\", \"2015-05-01\", \"2015-06-01\", \"2015-07-01\", \"2015-08-01\", \"2015-09-01\", \"2015-10-01\", \"2015-11-01\", \"2015-12-01\", \"2016-01-01\", \"2016-02-01\", \"2016-03-01\", \"2016-04-01\", \"2016-05-01\", \"2016-06-01\", \"2016-07-01\", \"2016-08-01\", \"2016-09-01\", \"2016-10-01\", \"2016-11-01\", \"2016-12-01\", \"2017-01-01\", \"2017-02-01\", \"2017-03-01\", \"2017-04-01\", \"2017-05-01\", \"2017-06-01\", \"2017-07-01\", \"2017-08-01\", \"2017-09-01\", \"2017-10-01\", \"2017-11-01\", \"2017-12-01\", \"2018-01-01\", \"2018-02-01\", \"2018-03-01\", \"2018-04-01\", \"2018-05-01\", \"2018-06-01\"], \"y\": [0.0, 0.0, 0.0717, 0.0765, 0.0986, 0.1317, 0.123, 0.1255, 0.17, 0.1626, 0.1319, 0.112, 0.0953, 0.1588, 0.1882, 0.124, 0.1142, 0.0942, 0.1237, 0.1186, 0.0541, 0.0331, 0.0462, 0.0684, 0.0803, 0.0795, 0.0657, 0.0776, 0.0577, 0.0538, 0.0691, 0.1087, 0.0578, 0.0505, 0.0525, 0.0643, 0.0561, 0.0545, 0.0635, 0.0493, 0.0284, 0.0484, 0.047, 0.0474, 0.0759, 0.0634, 0.0622, 0.0807, 0.0804, 0.0571, 0.0617, 0.0749, 0.0447, 0.0363, 0.0335, 0.0259, 0.0241, 0.0218, 0.0126, 0.0093, 0.0106, 0.0099, 0.009, 0.0076, 0.0057, 0.0221, 0.0443, 0.0532, 0.0868, 0.1295, 0.0891, 0.1007, 0.2408, 0.1316, 0.0961, 0.0817, 0.0685, 0.0742, 0.0647, 0.0727, 0.0751, 0.0942, 0.1054, 0.0933, 0.0954, 0.0869, 0.0931, 0.0581, 0.0408, 0.0413, 0.0371, 0.0516, 0.0595, 0.029, 0.0243, 0.1654, 0.0147, 0.0103, 0.0145, 0.0099, 0.0132, 0.0, 0.0], \"yaxis\": \"y2\", \"type\": \"scatter\", \"uid\": \"c3db0fc5-bab3-4f68-972b-a697b1209ffa\"}, {\"name\": \"% of Accounts with no data or 3+ days of gap\", \"x\": [\"2009-12-01\", \"2010-01-01\", \"2010-02-01\", \"2010-03-01\", \"2010-04-01\", \"2010-05-01\", \"2010-06-01\", \"2010-07-01\", \"2010-08-01\", \"2010-09-01\", \"2010-10-01\", \"2010-11-01\", \"2010-12-01\", \"2011-01-01\", \"2011-02-01\", \"2011-03-01\", \"2011-04-01\", \"2011-05-01\", \"2011-06-01\", \"2011-07-01\", \"2011-08-01\", \"2011-09-01\", \"2011-10-01\", \"2011-11-01\", \"2011-12-01\", \"2012-01-01\", \"2012-02-01\", \"2012-03-01\", \"2012-04-01\", \"2012-05-01\", \"2012-06-01\", \"2012-07-01\", \"2012-08-01\", \"2012-09-01\", \"2012-10-01\", \"2012-11-01\", \"2012-12-01\", \"2013-01-01\", \"2013-02-01\", \"2013-03-01\", \"2013-04-01\", \"2013-05-01\", \"2013-06-01\", \"2013-07-01\", \"2013-08-01\", \"2013-09-01\", \"2013-10-01\", \"2013-11-01\", \"2013-12-01\", \"2014-01-01\", \"2014-02-01\", \"2014-03-01\", \"2014-04-01\", \"2014-05-01\", \"2014-06-01\", \"2014-07-01\", \"2014-08-01\", \"2014-09-01\", \"2014-10-01\", \"2014-11-01\", \"2014-12-01\", \"2015-01-01\", \"2015-02-01\", \"2015-03-01\", \"2015-04-01\", \"2015-05-01\", \"2015-06-01\", \"2015-07-01\", \"2015-08-01\", \"2015-09-01\", \"2015-10-01\", \"2015-11-01\", \"2015-12-01\", \"2016-01-01\", \"2016-02-01\", \"2016-03-01\", \"2016-04-01\", \"2016-05-01\", \"2016-06-01\", \"2016-07-01\", \"2016-08-01\", \"2016-09-01\", \"2016-10-01\", \"2016-11-01\", \"2016-12-01\", \"2017-01-01\", \"2017-02-01\", \"2017-03-01\", \"2017-04-01\", \"2017-05-01\", \"2017-06-01\", \"2017-07-01\", \"2017-08-01\", \"2017-09-01\", \"2017-10-01\", \"2017-11-01\", \"2017-12-01\", \"2018-01-01\", \"2018-02-01\", \"2018-03-01\", \"2018-04-01\", \"2018-05-01\", \"2018-06-01\"], \"y\": [0.0, 0.1508, 0.1954, 0.2219, 0.266, 0.2468, 0.2828, 0.3347, 0.3228, 0.2892, 0.2795, 0.2939, 0.3176, 0.3193, 0.3144, 0.2883, 0.2524, 0.2867, 0.3252, 0.2901, 0.205, 0.1506, 0.1367, 0.168, 0.1841, 0.1555, 0.1516, 0.1673, 0.1523, 0.1676, 0.4342, 0.4063, 0.2137, 0.1656, 0.1647, 0.1728, 0.1516, 0.1316, 0.1251, 0.1152, 0.122, 0.1341, 0.1399, 0.1358, 0.1402, 0.1532, 0.1595, 0.1804, 0.1862, 0.1558, 0.1234, 0.1116, 0.117, 0.0867, 0.087, 0.1149, 0.0847, 0.0436, 0.0428, 0.0283, 0.0379, 0.0467, 0.0359, 0.0288, 0.0443, 0.0728, 0.0821, 0.1125, 0.212, 0.2442, 0.1949, 0.3077, 0.4295, 0.3796, 0.3051, 0.2751, 0.107, 0.1047, 0.1356, 0.1364, 0.1483, 0.1535, 0.1548, 0.1637, 0.1481, 0.1608, 0.1636, 0.1591, 0.1221, 0.0923, 0.1065, 0.187, 0.1939, 0.1142, 0.2067, 0.2527, 0.2501, 0.0698, 0.0828, 0.0834, 0.234, 0.2483, 0.0], \"yaxis\": \"y2\", \"type\": \"scatter\", \"uid\": \"3c222091-80aa-4d52-9fbd-1a4cb4283d55\"}], {\"legend\": {\"x\": -0.05, \"y\": -0.4}, \"title\": {\"text\": \"Trend Line of Data Incompleteness\"}, \"yaxis\": {\"tickformat\": \",\", \"title\": {\"text\": \"# of Accounts that should have data in the month\"}}, \"yaxis2\": {\"overlaying\": \"y\", \"side\": \"right\", \"tickformat\": \".1%\", \"title\": {\"text\": \"% of Accounts missing data\"}}}, {\"showLink\": false, \"linkText\": \"Export to plot.ly\", \"plotlyServerURL\": \"https://plot.ly\"})});</script><script type=\"text/javascript\">window.addEventListener(\"resize\", function(){window._Plotly.Plots.resize(document.getElementById(\"bf2a80f9-05f8-4bcf-9b61-d9bb011f1952\"));});</script>"
      ]
     },
     "metadata": {},
     "output_type": "display_data"
    }
   ],
   "source": [
    "# Create a trace\n",
    "trace1 = go.Bar(\n",
    "    x = df_data_completeness_by_month.Month,\n",
    "    y = df_data_completeness_by_month.meters_count,\n",
    "    name = '# of Accounts that should have data in the month', \n",
    "    marker=dict(\n",
    "        color='rgba(204,204,204,1)'\n",
    "    ),\n",
    "    yaxis= 'y'\n",
    ")\n",
    "\n",
    "trace2 = go.Scatter(\n",
    "    x = df_data_completeness_by_month.Month,\n",
    "    y = df_data_completeness_by_month.meters_no_data_perc,\n",
    "    name = '% of Accounts with no data',\n",
    "    yaxis = 'y2'\n",
    ")\n",
    "\n",
    "trace3 = go.Scatter(\n",
    "    x = df_data_completeness_by_month.Month,\n",
    "    y = df_data_completeness_by_month.meters_no_data_or_long_gap_perc,\n",
    "    name = '% of Accounts with no data or 3+ days of gap', \n",
    "    yaxis= 'y2'\n",
    ")\n",
    "\n",
    "data = [trace1, trace2, trace3]\n",
    "\n",
    "layout = go.Layout(\n",
    "    title='Trend Line of Data Incompleteness',\n",
    "    yaxis=dict(\n",
    "        title='# of Accounts that should have data in the month',\n",
    "        tickformat=\",\",\n",
    "    ),\n",
    "    yaxis2=dict(\n",
    "        title='% of Accounts missing data',\n",
    "        tickformat=\".1%\",\n",
    "        side='right',\n",
    "        overlaying='y',\n",
    "    ), \n",
    "    legend=dict(x = -0.05, y= -0.4)\n",
    ")\n",
    "fig = go.Figure(data=data, layout=layout)\n",
    "iplot(fig)"
   ]
  },
  {
   "cell_type": "markdown",
   "metadata": {},
   "source": [
    "#### Hypotheses on data incompleteness over time:"
   ]
  },
  {
   "cell_type": "markdown",
   "metadata": {},
   "source": [
    "1. Starting from 2015, does data quality get better? less meters are missing data? (Government required companies to submit utility data since that time)\n",
    "    - No.\n",
    "2. January are more likely to miss data. Why? Check if that's true. \n",
    "    - No."
   ]
  },
  {
   "cell_type": "code",
   "execution_count": null,
   "metadata": {},
   "outputs": [],
   "source": []
  },
  {
   "cell_type": "markdown",
   "metadata": {},
   "source": [
    "### Save the output files"
   ]
  },
  {
   "cell_type": "code",
   "execution_count": 207,
   "metadata": {},
   "outputs": [],
   "source": [
    "mask = df_prorated_kwh_imputed['Imputed_KWH'] == 0\n",
    "\n",
    "df_prorated_kwh_imputed.loc[mask, 'Imputed_KWH'] = np.nan\n",
    "\n",
    "df_prorated_kwh_imputed.to_pickle(\"../output/NYCHA_Prorated_KWH\")\n",
    "\n",
    "df_prorated_kwh_imputed.to_csv('../output/NYCHA_Prorated_KWH.csv')"
   ]
  },
  {
   "cell_type": "code",
   "execution_count": null,
   "metadata": {},
   "outputs": [],
   "source": []
  },
  {
   "cell_type": "markdown",
   "metadata": {},
   "source": [
    "### Save the data of accounts with more than 50 valid data points for anomaly detection analysis"
   ]
  },
  {
   "cell_type": "code",
   "execution_count": 209,
   "metadata": {},
   "outputs": [],
   "source": [
    "df_prorated_kwh_imputed.loc[:, 'NA_KWH'] = df_prorated_kwh_imputed.apply(lambda x: True if np.isnan(x['Imputed_KWH']) else False, axis = 1)\n",
    "\n",
    "tmp1 = df_prorated_kwh_imputed.groupby('Building_Meter').agg('count').reset_index().iloc[:, 0:2]\n",
    "\n",
    "tmp1.columns = ['Building_Meter', 'month_count']\n",
    "\n",
    "tmp2 = df_prorated_kwh_imputed.groupby('Building_Meter').agg({'NA_KWH':'sum'}).reset_index().iloc[:, 0:2]\n",
    "\n",
    "tmp2.columns = ['Building_Meter', 'month_na_count']\n",
    "\n",
    "tmp = tmp1.merge(tmp2, on = 'Building_Meter', how = 'inner')\n",
    "\n",
    "mask = tmp['month_count'] - tmp['month_na_count'] >= 50\n",
    "\n",
    "df_prorated_kwh_imputed_valid_50plus = df_prorated_kwh_imputed.merge(tmp[mask][['Building_Meter']], on = 'Building_Meter', how = 'inner')[['Building_Meter', 'Month', 'Imputed_KWH']]\n",
    "df_prorated_kwh_imputed_valid_50plus.columns = ['Account', 'Month', 'Value']"
   ]
  },
  {
   "cell_type": "code",
   "execution_count": 217,
   "metadata": {},
   "outputs": [],
   "source": [
    "df_prorated_kwh_imputed_valid_50plus.to_csv('../output/NYCHA_TS.csv')"
   ]
  },
  {
   "cell_type": "code",
   "execution_count": null,
   "metadata": {},
   "outputs": [],
   "source": []
  },
  {
   "cell_type": "markdown",
   "metadata": {},
   "source": [
    "## Next Steps:"
   ]
  },
  {
   "cell_type": "markdown",
   "metadata": {},
   "source": [
    "Check data anomalies in the following order:\n",
    "- KWH (consumption) .. only compare where there are months of data (ignore the gap month), or we can also use usage per day and then exclude the days with no consumption(instead of using the pro-rated value)\n",
    "- KWH_Charges\n",
    "- KW (capacity) consumption and charges (difference in daytime vs. nightime, summer vs. winter, whole summer is at capacity, we will have really high charges for summer capacity use) (Later Metrics defined below)"
   ]
  },
  {
   "cell_type": "markdown",
   "metadata": {},
   "source": [
    "Other metrics to consider later:\n",
    "\n",
    "1. Total capacity (kW) for all the meters for the month (building level aggregate)\n",
    "2. Max kW value for the month (both building level and account level)\n",
    "3. Max kW for each meter for the previous 12 months\n",
    "4. Sum of the Max kW for each individual meter\n",
    "5. The variance of Total Charge (sum of KWH_charge and KW_charge) at both account level and building level\n",
    "6. Average total charges (sum of kwh_charges and kw_charges per account per month)"
   ]
  }
 ],
 "metadata": {
  "kernelspec": {
   "display_name": "Python 3",
   "language": "python",
   "name": "python3"
  },
  "language_info": {
   "codemirror_mode": {
    "name": "ipython",
    "version": 3
   },
   "file_extension": ".py",
   "mimetype": "text/x-python",
   "name": "python",
   "nbconvert_exporter": "python",
   "pygments_lexer": "ipython3",
   "version": "3.6.7"
  }
 },
 "nbformat": 4,
 "nbformat_minor": 2
}
