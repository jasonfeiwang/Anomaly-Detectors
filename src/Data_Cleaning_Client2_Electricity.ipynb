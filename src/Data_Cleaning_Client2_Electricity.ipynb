{
 "cells": [
  {
   "cell_type": "markdown",
   "metadata": {},
   "source": [
    "# Objectives"
   ]
  },
  {
   "cell_type": "markdown",
   "metadata": {},
   "source": [
    "Clean up the electricity billing data from Client 2 and output the prorated consumption and charge values by account and calendar month.\n",
    "\n",
    "- Input: raw data\n",
    "- Outupt: \n",
    "    - df_cleaned\n",
    "    - df_prorated\n",
    "    - df_mapping\n",
    "    - prorated_ts\n",
    "    - prorated_ts.csv"
   ]
  },
  {
   "cell_type": "markdown",
   "metadata": {},
   "source": [
    "# Step 1: Load packages and Data"
   ]
  },
  {
   "cell_type": "code",
   "execution_count": 27,
   "metadata": {},
   "outputs": [
    {
     "data": {
      "text/html": [
       "<script type=\"text/javascript\">window.PlotlyConfig = {MathJaxConfig: 'local'};</script><script type=\"text/javascript\">if (window.MathJax) {MathJax.Hub.Config({SVG: {font: \"STIX-Web\"}});}</script><script>requirejs.config({paths: { 'plotly': ['https://cdn.plot.ly/plotly-latest.min']},});if(!window._Plotly) {require(['plotly'],function(plotly) {window._Plotly=plotly;});}</script>"
      ],
      "text/vnd.plotly.v1+html": [
       "<script type=\"text/javascript\">window.PlotlyConfig = {MathJaxConfig: 'local'};</script><script type=\"text/javascript\">if (window.MathJax) {MathJax.Hub.Config({SVG: {font: \"STIX-Web\"}});}</script><script>requirejs.config({paths: { 'plotly': ['https://cdn.plot.ly/plotly-latest.min']},});if(!window._Plotly) {require(['plotly'],function(plotly) {window._Plotly=plotly;});}</script>"
      ]
     },
     "metadata": {},
     "output_type": "display_data"
    }
   ],
   "source": [
    "import pandas as pd\n",
    "import numpy as np\n",
    "import pandasql as pdsql\n",
    "import math\n",
    "\n",
    "from datetime import timedelta, datetime\n",
    "from dateutil.relativedelta import *\n",
    "\n",
    "import plotly.plotly as py\n",
    "import plotly.graph_objs as go\n",
    "from plotly.offline import init_notebook_mode, iplot\n",
    "# initiate notebook for offline plot\n",
    "init_notebook_mode(connected=True)         "
   ]
  },
  {
   "cell_type": "markdown",
   "metadata": {},
   "source": [
    "### Specify the output directory of the resulting datasets"
   ]
  },
  {
   "cell_type": "code",
   "execution_count": 28,
   "metadata": {},
   "outputs": [],
   "source": [
    "output_directory = '../output/client2/electricity/'"
   ]
  },
  {
   "cell_type": "code",
   "execution_count": 29,
   "metadata": {},
   "outputs": [],
   "source": [
    "file_name = \"/Users/feiwang/Desktop/capstone/anomalyDetectors/data/Client 2 - Data for UW team.xlsx\"\n",
    "xl_file = pd.ExcelFile(file_name)\n",
    "\n",
    "dfs = {sheet_name: xl_file.parse(sheet_name) \n",
    "          for sheet_name in xl_file.sheet_names}\n",
    "\n",
    "df_orig = dfs['Sheet1']"
   ]
  },
  {
   "cell_type": "markdown",
   "metadata": {},
   "source": [
    "### Add a row_id in the original dataset for debugging"
   ]
  },
  {
   "cell_type": "code",
   "execution_count": 30,
   "metadata": {},
   "outputs": [],
   "source": [
    "df_orig = df_orig.reset_index()\n",
    "df_orig.rename(columns = {'index':'row_id'}, inplace = True)"
   ]
  },
  {
   "cell_type": "markdown",
   "metadata": {},
   "source": [
    "### Create a data frame to log the rows with data quality issues."
   ]
  },
  {
   "cell_type": "code",
   "execution_count": 31,
   "metadata": {},
   "outputs": [],
   "source": [
    "df_flags = pd.DataFrame(columns = ['row_id', 'flag'])"
   ]
  },
  {
   "cell_type": "markdown",
   "metadata": {},
   "source": [
    "### Create a working dataframe and only focus on electricity bills"
   ]
  },
  {
   "cell_type": "code",
   "execution_count": 32,
   "metadata": {},
   "outputs": [],
   "source": [
    "df = df_orig.copy()"
   ]
  },
  {
   "cell_type": "code",
   "execution_count": 33,
   "metadata": {},
   "outputs": [],
   "source": [
    "df.rename(columns = {'Building ID':'Building_ID', 'Meter_ID':'Meter_Number', 'Cost':'Charge', \\\n",
    "                    'Start Date':'Service_Start_Date', 'End Date':'Service_End_Date', 'Units.1':'Units'},\\\n",
    "          inplace = True)"
   ]
  },
  {
   "cell_type": "code",
   "execution_count": 34,
   "metadata": {},
   "outputs": [],
   "source": [
    "mask = df.Fuel == 'Electricity'\n",
    "df = df[mask]"
   ]
  },
  {
   "cell_type": "code",
   "execution_count": null,
   "metadata": {},
   "outputs": [],
   "source": []
  },
  {
   "cell_type": "markdown",
   "metadata": {},
   "source": [
    "# Step 2: Data Cleaning & Exploration"
   ]
  },
  {
   "cell_type": "markdown",
   "metadata": {},
   "source": [
    "## Part I: Cleaning (necessary data cleaning work before prorating of consumption and charge values to calendar months)"
   ]
  },
  {
   "cell_type": "markdown",
   "metadata": {},
   "source": [
    "### 1. Remove the two columns on demand and its units since we only care about consumption & charges"
   ]
  },
  {
   "cell_type": "code",
   "execution_count": 35,
   "metadata": {},
   "outputs": [
    {
     "data": {
      "text/html": [
       "<div>\n",
       "<style scoped>\n",
       "    .dataframe tbody tr th:only-of-type {\n",
       "        vertical-align: middle;\n",
       "    }\n",
       "\n",
       "    .dataframe tbody tr th {\n",
       "        vertical-align: top;\n",
       "    }\n",
       "\n",
       "    .dataframe thead th {\n",
       "        text-align: right;\n",
       "    }\n",
       "</style>\n",
       "<table border=\"1\" class=\"dataframe\">\n",
       "  <thead>\n",
       "    <tr style=\"text-align: right;\">\n",
       "      <th></th>\n",
       "      <th>row_id</th>\n",
       "      <th>Building_ID</th>\n",
       "      <th>Fuel</th>\n",
       "      <th>Meter_Number</th>\n",
       "      <th>Account_Name</th>\n",
       "      <th>Service_Start_Date</th>\n",
       "      <th>Service_End_Date</th>\n",
       "      <th>Consumption</th>\n",
       "      <th>Units</th>\n",
       "      <th>Charge</th>\n",
       "      <th>Currency</th>\n",
       "      <th>Demand</th>\n",
       "      <th>Units</th>\n",
       "      <th>Vendor</th>\n",
       "      <th>Invoice Number</th>\n",
       "    </tr>\n",
       "  </thead>\n",
       "  <tbody>\n",
       "    <tr>\n",
       "      <th>0</th>\n",
       "      <td>0</td>\n",
       "      <td>47068</td>\n",
       "      <td>Electricity</td>\n",
       "      <td>MN10000</td>\n",
       "      <td>AN100</td>\n",
       "      <td>2015-12-08</td>\n",
       "      <td>2016-01-06</td>\n",
       "      <td>69828.0</td>\n",
       "      <td>kWh</td>\n",
       "      <td>4124.60</td>\n",
       "      <td>USD</td>\n",
       "      <td>180.0</td>\n",
       "      <td>Kw</td>\n",
       "      <td>V1</td>\n",
       "      <td>IN1</td>\n",
       "    </tr>\n",
       "    <tr>\n",
       "      <th>1</th>\n",
       "      <td>1</td>\n",
       "      <td>47068</td>\n",
       "      <td>Electricity</td>\n",
       "      <td>MN10000</td>\n",
       "      <td>AN100</td>\n",
       "      <td>2016-01-07</td>\n",
       "      <td>2016-02-04</td>\n",
       "      <td>69395.0</td>\n",
       "      <td>kWh</td>\n",
       "      <td>4501.79</td>\n",
       "      <td>USD</td>\n",
       "      <td>164.0</td>\n",
       "      <td>Kw</td>\n",
       "      <td>V1</td>\n",
       "      <td>IN2</td>\n",
       "    </tr>\n",
       "    <tr>\n",
       "      <th>2</th>\n",
       "      <td>2</td>\n",
       "      <td>47068</td>\n",
       "      <td>Electricity</td>\n",
       "      <td>MN10000</td>\n",
       "      <td>AN100</td>\n",
       "      <td>2016-02-05</td>\n",
       "      <td>2016-03-07</td>\n",
       "      <td>79178.0</td>\n",
       "      <td>kWh</td>\n",
       "      <td>4979.07</td>\n",
       "      <td>USD</td>\n",
       "      <td>176.0</td>\n",
       "      <td>Kw</td>\n",
       "      <td>V1</td>\n",
       "      <td>IN3</td>\n",
       "    </tr>\n",
       "    <tr>\n",
       "      <th>3</th>\n",
       "      <td>3</td>\n",
       "      <td>47068</td>\n",
       "      <td>Electricity</td>\n",
       "      <td>MN10000</td>\n",
       "      <td>AN100</td>\n",
       "      <td>2016-03-08</td>\n",
       "      <td>2016-04-05</td>\n",
       "      <td>74855.0</td>\n",
       "      <td>kWh</td>\n",
       "      <td>5291.78</td>\n",
       "      <td>USD</td>\n",
       "      <td>185.0</td>\n",
       "      <td>Kw</td>\n",
       "      <td>V1</td>\n",
       "      <td>IN4</td>\n",
       "    </tr>\n",
       "    <tr>\n",
       "      <th>4</th>\n",
       "      <td>4</td>\n",
       "      <td>47068</td>\n",
       "      <td>Electricity</td>\n",
       "      <td>MN10000</td>\n",
       "      <td>AN100</td>\n",
       "      <td>2016-04-06</td>\n",
       "      <td>2016-05-05</td>\n",
       "      <td>78745.0</td>\n",
       "      <td>kWh</td>\n",
       "      <td>5950.15</td>\n",
       "      <td>USD</td>\n",
       "      <td>205.0</td>\n",
       "      <td>Kw</td>\n",
       "      <td>V1</td>\n",
       "      <td>IN5</td>\n",
       "    </tr>\n",
       "  </tbody>\n",
       "</table>\n",
       "</div>"
      ],
      "text/plain": [
       "   row_id  Building_ID         Fuel Meter_Number Account_Name  \\\n",
       "0       0        47068  Electricity      MN10000        AN100   \n",
       "1       1        47068  Electricity      MN10000        AN100   \n",
       "2       2        47068  Electricity      MN10000        AN100   \n",
       "3       3        47068  Electricity      MN10000        AN100   \n",
       "4       4        47068  Electricity      MN10000        AN100   \n",
       "\n",
       "  Service_Start_Date Service_End_Date  Consumption Units   Charge Currency  \\\n",
       "0         2015-12-08       2016-01-06      69828.0   kWh  4124.60      USD   \n",
       "1         2016-01-07       2016-02-04      69395.0   kWh  4501.79      USD   \n",
       "2         2016-02-05       2016-03-07      79178.0   kWh  4979.07      USD   \n",
       "3         2016-03-08       2016-04-05      74855.0   kWh  5291.78      USD   \n",
       "4         2016-04-06       2016-05-05      78745.0   kWh  5950.15      USD   \n",
       "\n",
       "   Demand Units Vendor Invoice Number  \n",
       "0   180.0    Kw     V1            IN1  \n",
       "1   164.0    Kw     V1            IN2  \n",
       "2   176.0    Kw     V1            IN3  \n",
       "3   185.0    Kw     V1            IN4  \n",
       "4   205.0    Kw     V1            IN5  "
      ]
     },
     "execution_count": 35,
     "metadata": {},
     "output_type": "execute_result"
    }
   ],
   "source": [
    "df.head()"
   ]
  },
  {
   "cell_type": "code",
   "execution_count": 36,
   "metadata": {},
   "outputs": [],
   "source": [
    "df = pd.concat([df.iloc[:, 0:11], df.iloc[:, 13:15]], axis = 1)"
   ]
  },
  {
   "cell_type": "markdown",
   "metadata": {},
   "source": [
    "### 2. Remove rows with missing values in Building_ID, Meter_Number, Service_Start_Date, Service_End_Date, Consumption or Charge (we need these columns to do value proration)"
   ]
  },
  {
   "cell_type": "code",
   "execution_count": 37,
   "metadata": {},
   "outputs": [
    {
     "data": {
      "text/plain": [
       "row_id                  0\n",
       "Building_ID             0\n",
       "Fuel                    0\n",
       "Meter_Number           58\n",
       "Account_Name          450\n",
       "Service_Start_Date      0\n",
       "Service_End_Date        0\n",
       "Consumption             0\n",
       "Units                   0\n",
       "Charge                  0\n",
       "Currency                0\n",
       "Vendor                  0\n",
       "Invoice Number        450\n",
       "dtype: int64"
      ]
     },
     "execution_count": 37,
     "metadata": {},
     "output_type": "execute_result"
    }
   ],
   "source": [
    "df.isna().sum()"
   ]
  },
  {
   "cell_type": "markdown",
   "metadata": {},
   "source": [
    "#### Remove rows that have no meter_number"
   ]
  },
  {
   "cell_type": "code",
   "execution_count": 38,
   "metadata": {},
   "outputs": [],
   "source": [
    "mask = df.Meter_Number.isnull()\n",
    "\n",
    "df_flags = pd.concat([df_flags, pd.DataFrame({'row_id':df.loc[mask, ].row_id.values, 'flag':'Missing Meter_Number value, rows removed'})])\n",
    "\n",
    "df = df[~mask]\n",
    "df = df.reset_index(drop=True)"
   ]
  },
  {
   "cell_type": "markdown",
   "metadata": {},
   "source": [
    "### 3. Ensure correct data types for the six columns"
   ]
  },
  {
   "cell_type": "code",
   "execution_count": 39,
   "metadata": {},
   "outputs": [
    {
     "name": "stdout",
     "output_type": "stream",
     "text": [
      "<class 'pandas.core.frame.DataFrame'>\n",
      "RangeIndex: 2520 entries, 0 to 2519\n",
      "Data columns (total 13 columns):\n",
      "row_id                2520 non-null int64\n",
      "Building_ID           2520 non-null int64\n",
      "Fuel                  2520 non-null object\n",
      "Meter_Number          2520 non-null object\n",
      "Account_Name          2128 non-null object\n",
      "Service_Start_Date    2520 non-null datetime64[ns]\n",
      "Service_End_Date      2520 non-null datetime64[ns]\n",
      "Consumption           2520 non-null float64\n",
      "Units                 2520 non-null object\n",
      "Charge                2520 non-null float64\n",
      "Currency              2520 non-null object\n",
      "Vendor                2520 non-null object\n",
      "Invoice Number        2128 non-null object\n",
      "dtypes: datetime64[ns](2), float64(2), int64(2), object(7)\n",
      "memory usage: 256.0+ KB\n"
     ]
    }
   ],
   "source": [
    "df.info()"
   ]
  },
  {
   "cell_type": "markdown",
   "metadata": {},
   "source": [
    "### 4. Ensure each Meter_number is mapped to only one Building_ID"
   ]
  },
  {
   "cell_type": "code",
   "execution_count": 40,
   "metadata": {},
   "outputs": [],
   "source": [
    "tmp = df.groupby(['Meter_Number']).agg({'Building_ID':'nunique'}).reset_index()"
   ]
  },
  {
   "cell_type": "code",
   "execution_count": 41,
   "metadata": {},
   "outputs": [
    {
     "data": {
      "text/html": [
       "<div>\n",
       "<style scoped>\n",
       "    .dataframe tbody tr th:only-of-type {\n",
       "        vertical-align: middle;\n",
       "    }\n",
       "\n",
       "    .dataframe tbody tr th {\n",
       "        vertical-align: top;\n",
       "    }\n",
       "\n",
       "    .dataframe thead th {\n",
       "        text-align: right;\n",
       "    }\n",
       "</style>\n",
       "<table border=\"1\" class=\"dataframe\">\n",
       "  <thead>\n",
       "    <tr style=\"text-align: right;\">\n",
       "      <th></th>\n",
       "      <th>Meter_Number</th>\n",
       "      <th>Building_ID</th>\n",
       "    </tr>\n",
       "  </thead>\n",
       "  <tbody>\n",
       "    <tr>\n",
       "      <th>16</th>\n",
       "      <td>MN10042</td>\n",
       "      <td>8</td>\n",
       "    </tr>\n",
       "  </tbody>\n",
       "</table>\n",
       "</div>"
      ],
      "text/plain": [
       "   Meter_Number  Building_ID\n",
       "16      MN10042            8"
      ]
     },
     "execution_count": 41,
     "metadata": {},
     "output_type": "execute_result"
    }
   ],
   "source": [
    "tmp[tmp['Building_ID'] != 1]"
   ]
  },
  {
   "cell_type": "code",
   "execution_count": 42,
   "metadata": {},
   "outputs": [],
   "source": [
    "mask = df.Meter_Number.isin(tmp[tmp['Building_ID'] != 1].Meter_Number.values)\n",
    "\n",
    "df_flags = pd.concat([df_flags, pd.DataFrame({'row_id':df.loc[mask, ].row_id.values, 'flag':'Meter_Number corresponds to multipel building_id, rows removed'})])\n",
    "\n",
    "df = df[~mask]\n",
    "df = df.reset_index(drop=True)"
   ]
  },
  {
   "cell_type": "markdown",
   "metadata": {},
   "source": [
    "### 5. Check if there needs Meter_Number merging under the same Building_ID "
   ]
  },
  {
   "cell_type": "code",
   "execution_count": 43,
   "metadata": {},
   "outputs": [],
   "source": [
    "tmp = df.groupby(['Building_ID', 'Meter_Number']).agg({'Service_Start_Date':'min', 'Service_End_Date':'max'}).reset_index()\n",
    "\n",
    "tmp.rename(columns = {'Service_Start_Date':'Min_Start_Date', 'Service_End_Date':'Max_End_Date'}, inplace = True)\n",
    "\n",
    "tmp.loc[:, 'Service_Duration'] = tmp.apply(lambda x: (x['Max_End_Date'] - x['Min_Start_Date']).days, axis = 1)\n",
    "\n",
    "df_duration = tmp.copy()\n",
    "del(tmp)"
   ]
  },
  {
   "cell_type": "code",
   "execution_count": 44,
   "metadata": {},
   "outputs": [],
   "source": [
    "tmp = pd.merge(df_duration, df_duration, on = 'Building_ID', how = 'inner')\\\n",
    "    [['Building_ID', 'Meter_Number_x', 'Meter_Number_y', 'Min_Start_Date_x', 'Max_End_Date_x', 'Min_Start_Date_y', 'Max_End_Date_y']]\n",
    "\n",
    "mask = tmp['Meter_Number_x'] != tmp['Meter_Number_y']\n",
    "tmp = tmp[mask]"
   ]
  },
  {
   "cell_type": "code",
   "execution_count": 45,
   "metadata": {},
   "outputs": [],
   "source": [
    "tmp.loc[:, 'date_diff'] = tmp.apply(lambda x: (x['Min_Start_Date_x'] - x['Max_End_Date_y']).days, axis = 1)"
   ]
  },
  {
   "cell_type": "code",
   "execution_count": 46,
   "metadata": {},
   "outputs": [
    {
     "data": {
      "text/html": [
       "<div>\n",
       "<style scoped>\n",
       "    .dataframe tbody tr th:only-of-type {\n",
       "        vertical-align: middle;\n",
       "    }\n",
       "\n",
       "    .dataframe tbody tr th {\n",
       "        vertical-align: top;\n",
       "    }\n",
       "\n",
       "    .dataframe thead th {\n",
       "        text-align: right;\n",
       "    }\n",
       "</style>\n",
       "<table border=\"1\" class=\"dataframe\">\n",
       "  <thead>\n",
       "    <tr style=\"text-align: right;\">\n",
       "      <th></th>\n",
       "      <th>Building_ID</th>\n",
       "      <th>Meter_Number_x</th>\n",
       "      <th>Meter_Number_y</th>\n",
       "      <th>Min_Start_Date_x</th>\n",
       "      <th>Max_End_Date_x</th>\n",
       "      <th>Min_Start_Date_y</th>\n",
       "      <th>Max_End_Date_y</th>\n",
       "      <th>date_diff</th>\n",
       "    </tr>\n",
       "  </thead>\n",
       "  <tbody>\n",
       "    <tr>\n",
       "      <th>177</th>\n",
       "      <td>47094</td>\n",
       "      <td>MN10103</td>\n",
       "      <td>MN10101</td>\n",
       "      <td>2017-01-25</td>\n",
       "      <td>2018-12-23</td>\n",
       "      <td>2015-12-25</td>\n",
       "      <td>2017-01-25</td>\n",
       "      <td>0</td>\n",
       "    </tr>\n",
       "    <tr>\n",
       "      <th>178</th>\n",
       "      <td>47094</td>\n",
       "      <td>MN10103</td>\n",
       "      <td>MN10102</td>\n",
       "      <td>2017-01-25</td>\n",
       "      <td>2018-12-23</td>\n",
       "      <td>2015-12-24</td>\n",
       "      <td>2017-01-24</td>\n",
       "      <td>1</td>\n",
       "    </tr>\n",
       "    <tr>\n",
       "      <th>182</th>\n",
       "      <td>47094</td>\n",
       "      <td>MN10104</td>\n",
       "      <td>MN10101</td>\n",
       "      <td>2017-01-26</td>\n",
       "      <td>2018-12-23</td>\n",
       "      <td>2015-12-25</td>\n",
       "      <td>2017-01-25</td>\n",
       "      <td>1</td>\n",
       "    </tr>\n",
       "    <tr>\n",
       "      <th>220</th>\n",
       "      <td>47123</td>\n",
       "      <td>MN10140</td>\n",
       "      <td>MN10139</td>\n",
       "      <td>2018-06-01</td>\n",
       "      <td>2018-11-30</td>\n",
       "      <td>2016-01-01</td>\n",
       "      <td>2018-05-31</td>\n",
       "      <td>1</td>\n",
       "    </tr>\n",
       "    <tr>\n",
       "      <th>268</th>\n",
       "      <td>277107</td>\n",
       "      <td>MN10166</td>\n",
       "      <td>MN10165</td>\n",
       "      <td>2016-10-13</td>\n",
       "      <td>2017-01-12</td>\n",
       "      <td>2016-08-14</td>\n",
       "      <td>2016-10-12</td>\n",
       "      <td>1</td>\n",
       "    </tr>\n",
       "  </tbody>\n",
       "</table>\n",
       "</div>"
      ],
      "text/plain": [
       "     Building_ID Meter_Number_x Meter_Number_y Min_Start_Date_x  \\\n",
       "177        47094        MN10103        MN10101       2017-01-25   \n",
       "178        47094        MN10103        MN10102       2017-01-25   \n",
       "182        47094        MN10104        MN10101       2017-01-26   \n",
       "220        47123        MN10140        MN10139       2018-06-01   \n",
       "268       277107        MN10166        MN10165       2016-10-13   \n",
       "\n",
       "    Max_End_Date_x Min_Start_Date_y Max_End_Date_y  date_diff  \n",
       "177     2018-12-23       2015-12-25     2017-01-25          0  \n",
       "178     2018-12-23       2015-12-24     2017-01-24          1  \n",
       "182     2018-12-23       2015-12-25     2017-01-25          1  \n",
       "220     2018-11-30       2016-01-01     2018-05-31          1  \n",
       "268     2017-01-12       2016-08-14     2016-10-12          1  "
      ]
     },
     "execution_count": 46,
     "metadata": {},
     "output_type": "execute_result"
    }
   ],
   "source": [
    "mask = (tmp.date_diff >= -1) & (tmp.date_diff <= 1)\n",
    "df_meter_mapping = tmp[mask]\n",
    "df_meter_mapping"
   ]
  },
  {
   "cell_type": "markdown",
   "metadata": {},
   "source": [
    "#### Manually map the meter_numbers"
   ]
  },
  {
   "cell_type": "code",
   "execution_count": 47,
   "metadata": {},
   "outputs": [],
   "source": [
    "mask = (df.Building_ID == 47094) & (df.Meter_Number == 'MN10103')\n",
    "df.loc[mask, 'Meter_Number'] = 'MN10102'"
   ]
  },
  {
   "cell_type": "code",
   "execution_count": 48,
   "metadata": {},
   "outputs": [],
   "source": [
    "mask = (df.Building_ID == 47094) & (df.Meter_Number == 'MN10104')\n",
    "df.loc[mask, 'Meter_Number'] = 'MN10101'"
   ]
  },
  {
   "cell_type": "code",
   "execution_count": 49,
   "metadata": {},
   "outputs": [],
   "source": [
    "mask = (df.Building_ID == 47123) & (df.Meter_Number == 'MN10140')\n",
    "df.loc[mask, 'Meter_Number'] = 'MN10139'"
   ]
  },
  {
   "cell_type": "code",
   "execution_count": 50,
   "metadata": {},
   "outputs": [],
   "source": [
    "mask = (df.Building_ID == 277107) & (df.Meter_Number == 'MN10166')\n",
    "df.loc[mask, 'Meter_Number'] = 'MN10165'"
   ]
  },
  {
   "cell_type": "markdown",
   "metadata": {},
   "source": [
    "### 6. Ensure the service dates columns are correct"
   ]
  },
  {
   "cell_type": "code",
   "execution_count": 51,
   "metadata": {},
   "outputs": [],
   "source": [
    "mask = df['Service_Start_Date'] >= df['Service_End_Date']\n",
    "df_flags = pd.concat([df_flags, pd.DataFrame({'row_id':df.loc[mask, ].row_id.values, 'flag':'incorrect service dates, rows removed'})])\n",
    "df = df[~mask]\n",
    "df = df.reset_index(drop=True)"
   ]
  },
  {
   "cell_type": "markdown",
   "metadata": {},
   "source": [
    "### 7. Assign an Account ID for each row"
   ]
  },
  {
   "cell_type": "code",
   "execution_count": 52,
   "metadata": {},
   "outputs": [],
   "source": [
    "df.loc[:, 'Account'] = df.apply(lambda x: str(x['Building_ID']) + '-' + str(x['Meter_Number']), axis = 1)"
   ]
  },
  {
   "cell_type": "code",
   "execution_count": null,
   "metadata": {},
   "outputs": [],
   "source": []
  },
  {
   "cell_type": "markdown",
   "metadata": {},
   "source": [
    "## Part II: Exploration (potential data issues that do not prohibit data proration, and which we hope can be detected automatically later via our anomalty detection rules)"
   ]
  },
  {
   "cell_type": "markdown",
   "metadata": {},
   "source": [
    "### 1. Check the currency column"
   ]
  },
  {
   "cell_type": "markdown",
   "metadata": {},
   "source": [
    "#### There is no currency value with typo or caption variation"
   ]
  },
  {
   "cell_type": "code",
   "execution_count": 53,
   "metadata": {},
   "outputs": [
    {
     "data": {
      "text/plain": [
       "USD    2125\n",
       "Name: Currency, dtype: int64"
      ]
     },
     "execution_count": 53,
     "metadata": {},
     "output_type": "execute_result"
    }
   ],
   "source": [
    "df.Currency.value_counts()"
   ]
  },
  {
   "cell_type": "markdown",
   "metadata": {},
   "source": [
    "### 2. Check the Unit column"
   ]
  },
  {
   "cell_type": "markdown",
   "metadata": {},
   "source": [
    "#### There is no unit value with typo or caption variation"
   ]
  },
  {
   "cell_type": "code",
   "execution_count": 54,
   "metadata": {},
   "outputs": [
    {
     "data": {
      "text/plain": [
       "kWh     2119\n",
       "each       6\n",
       "Name: Units, dtype: int64"
      ]
     },
     "execution_count": 54,
     "metadata": {},
     "output_type": "execute_result"
    }
   ],
   "source": [
    "df.Units.value_counts()"
   ]
  },
  {
   "cell_type": "markdown",
   "metadata": {},
   "source": [
    "### 3. Check rows that have 0 in either consumption or cost column"
   ]
  },
  {
   "cell_type": "markdown",
   "metadata": {},
   "source": [
    "- 26% of the rows have either 0 value in consumption or cost column\n",
    "- Shall we remove them? No\n",
    "    - sometimes there is legitimate reasons (the consumption is below a certain threshold and thus there was no charge)\n",
    "    - hope our anomaly detection rules can find them without our manual effort of data cleaning"
   ]
  },
  {
   "cell_type": "code",
   "execution_count": 55,
   "metadata": {},
   "outputs": [],
   "source": [
    "mask1 = df.Consumption == 0\n",
    "mask2 = df.Charge == 0"
   ]
  },
  {
   "cell_type": "code",
   "execution_count": 56,
   "metadata": {},
   "outputs": [
    {
     "data": {
      "text/plain": [
       "0.00611764705882353"
      ]
     },
     "execution_count": 56,
     "metadata": {},
     "output_type": "execute_result"
    }
   ],
   "source": [
    "df[mask1 & mask2].shape[0]/df.shape[0]"
   ]
  },
  {
   "cell_type": "code",
   "execution_count": 57,
   "metadata": {},
   "outputs": [
    {
     "data": {
      "text/plain": [
       "0.25694117647058823"
      ]
     },
     "execution_count": 57,
     "metadata": {},
     "output_type": "execute_result"
    }
   ],
   "source": [
    "df[mask1 & ~mask2].shape[0]/df.shape[0]"
   ]
  },
  {
   "cell_type": "code",
   "execution_count": 58,
   "metadata": {},
   "outputs": [
    {
     "data": {
      "text/plain": [
       "0.0"
      ]
     },
     "execution_count": 58,
     "metadata": {},
     "output_type": "execute_result"
    }
   ],
   "source": [
    "df[~mask1 & mask2].shape[0]/df.shape[0]"
   ]
  },
  {
   "cell_type": "code",
   "execution_count": 59,
   "metadata": {},
   "outputs": [
    {
     "data": {
      "text/plain": [
       "0.7369411764705882"
      ]
     },
     "execution_count": 59,
     "metadata": {},
     "output_type": "execute_result"
    }
   ],
   "source": [
    "df[~mask1 & ~mask2].shape[0]/df.shape[0]"
   ]
  },
  {
   "cell_type": "markdown",
   "metadata": {},
   "source": [
    "### Even though there are multiple typs of unit, they seem to belong to distinct accounts (except for \"each\" and \"ccf\"), therefore we don't need to do unit conversion since we only compare values within each account"
   ]
  },
  {
   "cell_type": "code",
   "execution_count": 60,
   "metadata": {},
   "outputs": [
    {
     "data": {
      "text/plain": [
       "(285, 27)"
      ]
     },
     "execution_count": 60,
     "metadata": {},
     "output_type": "execute_result"
    }
   ],
   "source": [
    "pd.merge(df[df['Units'] == 'kWh'], df[df['Units'] == 'each'], on = ['Account'], how = 'inner').shape"
   ]
  },
  {
   "cell_type": "code",
   "execution_count": 61,
   "metadata": {},
   "outputs": [
    {
     "data": {
      "text/html": [
       "<div>\n",
       "<style scoped>\n",
       "    .dataframe tbody tr th:only-of-type {\n",
       "        vertical-align: middle;\n",
       "    }\n",
       "\n",
       "    .dataframe tbody tr th {\n",
       "        vertical-align: top;\n",
       "    }\n",
       "\n",
       "    .dataframe thead th {\n",
       "        text-align: right;\n",
       "    }\n",
       "</style>\n",
       "<table border=\"1\" class=\"dataframe\">\n",
       "  <thead>\n",
       "    <tr style=\"text-align: right;\">\n",
       "      <th></th>\n",
       "      <th>row_id_x</th>\n",
       "      <th>Building_ID_x</th>\n",
       "      <th>Fuel_x</th>\n",
       "      <th>Meter_Number_x</th>\n",
       "      <th>Account_Name_x</th>\n",
       "      <th>Service_Start_Date_x</th>\n",
       "      <th>Service_End_Date_x</th>\n",
       "      <th>Consumption_x</th>\n",
       "      <th>Units_x</th>\n",
       "      <th>Charge_x</th>\n",
       "      <th>...</th>\n",
       "      <th>Meter_Number_y</th>\n",
       "      <th>Account_Name_y</th>\n",
       "      <th>Service_Start_Date_y</th>\n",
       "      <th>Service_End_Date_y</th>\n",
       "      <th>Consumption_y</th>\n",
       "      <th>Units_y</th>\n",
       "      <th>Charge_y</th>\n",
       "      <th>Currency_y</th>\n",
       "      <th>Vendor_y</th>\n",
       "      <th>Invoice Number_y</th>\n",
       "    </tr>\n",
       "  </thead>\n",
       "  <tbody>\n",
       "    <tr>\n",
       "      <th>0</th>\n",
       "      <td>501</td>\n",
       "      <td>47071</td>\n",
       "      <td>Electricity</td>\n",
       "      <td>MN10022</td>\n",
       "      <td>AN122</td>\n",
       "      <td>2015-12-08</td>\n",
       "      <td>2016-01-06</td>\n",
       "      <td>61919.0</td>\n",
       "      <td>kWh</td>\n",
       "      <td>3310.04</td>\n",
       "      <td>...</td>\n",
       "      <td>MN10022</td>\n",
       "      <td>AN122</td>\n",
       "      <td>2018-08-07</td>\n",
       "      <td>2018-09-05</td>\n",
       "      <td>0.0</td>\n",
       "      <td>each</td>\n",
       "      <td>0.0</td>\n",
       "      <td>USD</td>\n",
       "      <td>V1</td>\n",
       "      <td>IN442</td>\n",
       "    </tr>\n",
       "    <tr>\n",
       "      <th>1</th>\n",
       "      <td>502</td>\n",
       "      <td>47071</td>\n",
       "      <td>Electricity</td>\n",
       "      <td>MN10022</td>\n",
       "      <td>AN122</td>\n",
       "      <td>2016-01-07</td>\n",
       "      <td>2016-02-04</td>\n",
       "      <td>62896.0</td>\n",
       "      <td>kWh</td>\n",
       "      <td>4368.76</td>\n",
       "      <td>...</td>\n",
       "      <td>MN10022</td>\n",
       "      <td>AN122</td>\n",
       "      <td>2018-08-07</td>\n",
       "      <td>2018-09-05</td>\n",
       "      <td>0.0</td>\n",
       "      <td>each</td>\n",
       "      <td>0.0</td>\n",
       "      <td>USD</td>\n",
       "      <td>V1</td>\n",
       "      <td>IN442</td>\n",
       "    </tr>\n",
       "    <tr>\n",
       "      <th>2</th>\n",
       "      <td>503</td>\n",
       "      <td>47071</td>\n",
       "      <td>Electricity</td>\n",
       "      <td>MN10022</td>\n",
       "      <td>AN122</td>\n",
       "      <td>2016-02-05</td>\n",
       "      <td>2016-03-07</td>\n",
       "      <td>71934.0</td>\n",
       "      <td>kWh</td>\n",
       "      <td>4907.62</td>\n",
       "      <td>...</td>\n",
       "      <td>MN10022</td>\n",
       "      <td>AN122</td>\n",
       "      <td>2018-08-07</td>\n",
       "      <td>2018-09-05</td>\n",
       "      <td>0.0</td>\n",
       "      <td>each</td>\n",
       "      <td>0.0</td>\n",
       "      <td>USD</td>\n",
       "      <td>V1</td>\n",
       "      <td>IN442</td>\n",
       "    </tr>\n",
       "    <tr>\n",
       "      <th>3</th>\n",
       "      <td>504</td>\n",
       "      <td>47071</td>\n",
       "      <td>Electricity</td>\n",
       "      <td>MN10022</td>\n",
       "      <td>AN122</td>\n",
       "      <td>2016-03-08</td>\n",
       "      <td>2016-04-05</td>\n",
       "      <td>67226.0</td>\n",
       "      <td>kWh</td>\n",
       "      <td>5185.98</td>\n",
       "      <td>...</td>\n",
       "      <td>MN10022</td>\n",
       "      <td>AN122</td>\n",
       "      <td>2018-08-07</td>\n",
       "      <td>2018-09-05</td>\n",
       "      <td>0.0</td>\n",
       "      <td>each</td>\n",
       "      <td>0.0</td>\n",
       "      <td>USD</td>\n",
       "      <td>V1</td>\n",
       "      <td>IN442</td>\n",
       "    </tr>\n",
       "    <tr>\n",
       "      <th>4</th>\n",
       "      <td>505</td>\n",
       "      <td>47071</td>\n",
       "      <td>Electricity</td>\n",
       "      <td>MN10022</td>\n",
       "      <td>AN122</td>\n",
       "      <td>2016-04-06</td>\n",
       "      <td>2016-05-05</td>\n",
       "      <td>70542.0</td>\n",
       "      <td>kWh</td>\n",
       "      <td>5469.73</td>\n",
       "      <td>...</td>\n",
       "      <td>MN10022</td>\n",
       "      <td>AN122</td>\n",
       "      <td>2018-08-07</td>\n",
       "      <td>2018-09-05</td>\n",
       "      <td>0.0</td>\n",
       "      <td>each</td>\n",
       "      <td>0.0</td>\n",
       "      <td>USD</td>\n",
       "      <td>V1</td>\n",
       "      <td>IN442</td>\n",
       "    </tr>\n",
       "  </tbody>\n",
       "</table>\n",
       "<p>5 rows × 27 columns</p>\n",
       "</div>"
      ],
      "text/plain": [
       "   row_id_x  Building_ID_x       Fuel_x Meter_Number_x Account_Name_x  \\\n",
       "0       501          47071  Electricity        MN10022          AN122   \n",
       "1       502          47071  Electricity        MN10022          AN122   \n",
       "2       503          47071  Electricity        MN10022          AN122   \n",
       "3       504          47071  Electricity        MN10022          AN122   \n",
       "4       505          47071  Electricity        MN10022          AN122   \n",
       "\n",
       "  Service_Start_Date_x Service_End_Date_x  Consumption_x Units_x  Charge_x  \\\n",
       "0           2015-12-08         2016-01-06        61919.0     kWh   3310.04   \n",
       "1           2016-01-07         2016-02-04        62896.0     kWh   4368.76   \n",
       "2           2016-02-05         2016-03-07        71934.0     kWh   4907.62   \n",
       "3           2016-03-08         2016-04-05        67226.0     kWh   5185.98   \n",
       "4           2016-04-06         2016-05-05        70542.0     kWh   5469.73   \n",
       "\n",
       "   ... Meter_Number_y Account_Name_y Service_Start_Date_y Service_End_Date_y  \\\n",
       "0  ...        MN10022          AN122           2018-08-07         2018-09-05   \n",
       "1  ...        MN10022          AN122           2018-08-07         2018-09-05   \n",
       "2  ...        MN10022          AN122           2018-08-07         2018-09-05   \n",
       "3  ...        MN10022          AN122           2018-08-07         2018-09-05   \n",
       "4  ...        MN10022          AN122           2018-08-07         2018-09-05   \n",
       "\n",
       "   Consumption_y  Units_y Charge_y Currency_y Vendor_y Invoice Number_y  \n",
       "0            0.0     each      0.0        USD       V1            IN442  \n",
       "1            0.0     each      0.0        USD       V1            IN442  \n",
       "2            0.0     each      0.0        USD       V1            IN442  \n",
       "3            0.0     each      0.0        USD       V1            IN442  \n",
       "4            0.0     each      0.0        USD       V1            IN442  \n",
       "\n",
       "[5 rows x 27 columns]"
      ]
     },
     "execution_count": 61,
     "metadata": {},
     "output_type": "execute_result"
    }
   ],
   "source": [
    "pd.merge(df[df['Units'] == 'kWh'], df[df['Units'] == 'each'], on = ['Account'], how = 'inner').head()"
   ]
  },
  {
   "cell_type": "markdown",
   "metadata": {},
   "source": [
    "only the last month in the data has the \"each\" unit"
   ]
  },
  {
   "cell_type": "code",
   "execution_count": 62,
   "metadata": {
    "scrolled": true
   },
   "outputs": [
    {
     "data": {
      "text/html": [
       "<div>\n",
       "<style scoped>\n",
       "    .dataframe tbody tr th:only-of-type {\n",
       "        vertical-align: middle;\n",
       "    }\n",
       "\n",
       "    .dataframe tbody tr th {\n",
       "        vertical-align: top;\n",
       "    }\n",
       "\n",
       "    .dataframe thead th {\n",
       "        text-align: right;\n",
       "    }\n",
       "</style>\n",
       "<table border=\"1\" class=\"dataframe\">\n",
       "  <thead>\n",
       "    <tr style=\"text-align: right;\">\n",
       "      <th></th>\n",
       "      <th>row_id</th>\n",
       "      <th>Building_ID</th>\n",
       "      <th>Fuel</th>\n",
       "      <th>Meter_Number</th>\n",
       "      <th>Account_Name</th>\n",
       "      <th>Service_Start_Date</th>\n",
       "      <th>Service_End_Date</th>\n",
       "      <th>Consumption</th>\n",
       "      <th>Units</th>\n",
       "      <th>Charge</th>\n",
       "      <th>Currency</th>\n",
       "      <th>Vendor</th>\n",
       "      <th>Invoice Number</th>\n",
       "      <th>Account</th>\n",
       "    </tr>\n",
       "  </thead>\n",
       "  <tbody>\n",
       "    <tr>\n",
       "      <th>342</th>\n",
       "      <td>501</td>\n",
       "      <td>47071</td>\n",
       "      <td>Electricity</td>\n",
       "      <td>MN10022</td>\n",
       "      <td>AN122</td>\n",
       "      <td>2015-12-08</td>\n",
       "      <td>2016-01-06</td>\n",
       "      <td>61919.0</td>\n",
       "      <td>kWh</td>\n",
       "      <td>3310.040000</td>\n",
       "      <td>USD</td>\n",
       "      <td>V1</td>\n",
       "      <td>IN407</td>\n",
       "      <td>47071-MN10022</td>\n",
       "    </tr>\n",
       "    <tr>\n",
       "      <th>343</th>\n",
       "      <td>502</td>\n",
       "      <td>47071</td>\n",
       "      <td>Electricity</td>\n",
       "      <td>MN10022</td>\n",
       "      <td>AN122</td>\n",
       "      <td>2016-01-07</td>\n",
       "      <td>2016-02-04</td>\n",
       "      <td>62896.0</td>\n",
       "      <td>kWh</td>\n",
       "      <td>4368.760000</td>\n",
       "      <td>USD</td>\n",
       "      <td>V1</td>\n",
       "      <td>IN408</td>\n",
       "      <td>47071-MN10022</td>\n",
       "    </tr>\n",
       "    <tr>\n",
       "      <th>344</th>\n",
       "      <td>503</td>\n",
       "      <td>47071</td>\n",
       "      <td>Electricity</td>\n",
       "      <td>MN10022</td>\n",
       "      <td>AN122</td>\n",
       "      <td>2016-02-05</td>\n",
       "      <td>2016-03-07</td>\n",
       "      <td>71934.0</td>\n",
       "      <td>kWh</td>\n",
       "      <td>4907.620000</td>\n",
       "      <td>USD</td>\n",
       "      <td>V1</td>\n",
       "      <td>IN409</td>\n",
       "      <td>47071-MN10022</td>\n",
       "    </tr>\n",
       "    <tr>\n",
       "      <th>345</th>\n",
       "      <td>504</td>\n",
       "      <td>47071</td>\n",
       "      <td>Electricity</td>\n",
       "      <td>MN10022</td>\n",
       "      <td>AN122</td>\n",
       "      <td>2016-03-08</td>\n",
       "      <td>2016-04-05</td>\n",
       "      <td>67226.0</td>\n",
       "      <td>kWh</td>\n",
       "      <td>5185.980000</td>\n",
       "      <td>USD</td>\n",
       "      <td>V1</td>\n",
       "      <td>IN410</td>\n",
       "      <td>47071-MN10022</td>\n",
       "    </tr>\n",
       "    <tr>\n",
       "      <th>346</th>\n",
       "      <td>505</td>\n",
       "      <td>47071</td>\n",
       "      <td>Electricity</td>\n",
       "      <td>MN10022</td>\n",
       "      <td>AN122</td>\n",
       "      <td>2016-04-06</td>\n",
       "      <td>2016-05-05</td>\n",
       "      <td>70542.0</td>\n",
       "      <td>kWh</td>\n",
       "      <td>5469.730000</td>\n",
       "      <td>USD</td>\n",
       "      <td>V1</td>\n",
       "      <td>IN411</td>\n",
       "      <td>47071-MN10022</td>\n",
       "    </tr>\n",
       "    <tr>\n",
       "      <th>347</th>\n",
       "      <td>506</td>\n",
       "      <td>47071</td>\n",
       "      <td>Electricity</td>\n",
       "      <td>MN10022</td>\n",
       "      <td>AN122</td>\n",
       "      <td>2016-05-06</td>\n",
       "      <td>2016-06-06</td>\n",
       "      <td>71300.0</td>\n",
       "      <td>kWh</td>\n",
       "      <td>6594.970000</td>\n",
       "      <td>USD</td>\n",
       "      <td>V1</td>\n",
       "      <td>IN412</td>\n",
       "      <td>47071-MN10022</td>\n",
       "    </tr>\n",
       "    <tr>\n",
       "      <th>348</th>\n",
       "      <td>507</td>\n",
       "      <td>47071</td>\n",
       "      <td>Electricity</td>\n",
       "      <td>MN10022</td>\n",
       "      <td>AN122</td>\n",
       "      <td>2016-06-07</td>\n",
       "      <td>2016-07-06</td>\n",
       "      <td>69585.0</td>\n",
       "      <td>kWh</td>\n",
       "      <td>6730.580000</td>\n",
       "      <td>USD</td>\n",
       "      <td>V1</td>\n",
       "      <td>IN413</td>\n",
       "      <td>47071-MN10022</td>\n",
       "    </tr>\n",
       "    <tr>\n",
       "      <th>349</th>\n",
       "      <td>508</td>\n",
       "      <td>47071</td>\n",
       "      <td>Electricity</td>\n",
       "      <td>MN10022</td>\n",
       "      <td>AN122</td>\n",
       "      <td>2016-07-07</td>\n",
       "      <td>2016-08-07</td>\n",
       "      <td>71831.0</td>\n",
       "      <td>kWh</td>\n",
       "      <td>6674.700000</td>\n",
       "      <td>USD</td>\n",
       "      <td>V1</td>\n",
       "      <td>IN414</td>\n",
       "      <td>47071-MN10022</td>\n",
       "    </tr>\n",
       "    <tr>\n",
       "      <th>350</th>\n",
       "      <td>509</td>\n",
       "      <td>47071</td>\n",
       "      <td>Electricity</td>\n",
       "      <td>MN10022</td>\n",
       "      <td>AN122</td>\n",
       "      <td>2016-08-08</td>\n",
       "      <td>2016-09-06</td>\n",
       "      <td>62121.0</td>\n",
       "      <td>kWh</td>\n",
       "      <td>5927.540000</td>\n",
       "      <td>USD</td>\n",
       "      <td>V1</td>\n",
       "      <td>IN415</td>\n",
       "      <td>47071-MN10022</td>\n",
       "    </tr>\n",
       "    <tr>\n",
       "      <th>351</th>\n",
       "      <td>510</td>\n",
       "      <td>47071</td>\n",
       "      <td>Electricity</td>\n",
       "      <td>MN10022</td>\n",
       "      <td>AN122</td>\n",
       "      <td>2016-09-07</td>\n",
       "      <td>2016-10-05</td>\n",
       "      <td>59579.0</td>\n",
       "      <td>kWh</td>\n",
       "      <td>5844.350000</td>\n",
       "      <td>USD</td>\n",
       "      <td>V1</td>\n",
       "      <td>IN416</td>\n",
       "      <td>47071-MN10022</td>\n",
       "    </tr>\n",
       "    <tr>\n",
       "      <th>352</th>\n",
       "      <td>511</td>\n",
       "      <td>47071</td>\n",
       "      <td>Electricity</td>\n",
       "      <td>MN10022</td>\n",
       "      <td>AN122</td>\n",
       "      <td>2016-10-06</td>\n",
       "      <td>2016-11-03</td>\n",
       "      <td>52675.0</td>\n",
       "      <td>kWh</td>\n",
       "      <td>5252.230000</td>\n",
       "      <td>USD</td>\n",
       "      <td>V1</td>\n",
       "      <td>IN417</td>\n",
       "      <td>47071-MN10022</td>\n",
       "    </tr>\n",
       "    <tr>\n",
       "      <th>353</th>\n",
       "      <td>512</td>\n",
       "      <td>47071</td>\n",
       "      <td>Electricity</td>\n",
       "      <td>MN10022</td>\n",
       "      <td>AN122</td>\n",
       "      <td>2016-11-04</td>\n",
       "      <td>2016-12-05</td>\n",
       "      <td>59241.0</td>\n",
       "      <td>kWh</td>\n",
       "      <td>4544.910000</td>\n",
       "      <td>USD</td>\n",
       "      <td>V1</td>\n",
       "      <td>IN418</td>\n",
       "      <td>47071-MN10022</td>\n",
       "    </tr>\n",
       "    <tr>\n",
       "      <th>354</th>\n",
       "      <td>513</td>\n",
       "      <td>47071</td>\n",
       "      <td>Electricity</td>\n",
       "      <td>MN10022</td>\n",
       "      <td>AN122</td>\n",
       "      <td>2016-12-06</td>\n",
       "      <td>2017-01-06</td>\n",
       "      <td>55545.0</td>\n",
       "      <td>kWh</td>\n",
       "      <td>4196.020000</td>\n",
       "      <td>USD</td>\n",
       "      <td>V1</td>\n",
       "      <td>IN419</td>\n",
       "      <td>47071-MN10022</td>\n",
       "    </tr>\n",
       "    <tr>\n",
       "      <th>355</th>\n",
       "      <td>514</td>\n",
       "      <td>47071</td>\n",
       "      <td>Electricity</td>\n",
       "      <td>MN10022</td>\n",
       "      <td>AN122</td>\n",
       "      <td>2017-01-07</td>\n",
       "      <td>2017-02-05</td>\n",
       "      <td>52135.0</td>\n",
       "      <td>kWh</td>\n",
       "      <td>4035.930000</td>\n",
       "      <td>USD</td>\n",
       "      <td>V1</td>\n",
       "      <td>IN420</td>\n",
       "      <td>47071-MN10022</td>\n",
       "    </tr>\n",
       "    <tr>\n",
       "      <th>356</th>\n",
       "      <td>515</td>\n",
       "      <td>47071</td>\n",
       "      <td>Electricity</td>\n",
       "      <td>MN10022</td>\n",
       "      <td>AN122</td>\n",
       "      <td>2017-01-07</td>\n",
       "      <td>2017-02-05</td>\n",
       "      <td>0.0</td>\n",
       "      <td>kWh</td>\n",
       "      <td>3847.620000</td>\n",
       "      <td>USD</td>\n",
       "      <td>V1</td>\n",
       "      <td>IN421</td>\n",
       "      <td>47071-MN10022</td>\n",
       "    </tr>\n",
       "    <tr>\n",
       "      <th>357</th>\n",
       "      <td>516</td>\n",
       "      <td>47071</td>\n",
       "      <td>Electricity</td>\n",
       "      <td>MN10022</td>\n",
       "      <td>AN122</td>\n",
       "      <td>2017-02-06</td>\n",
       "      <td>2017-03-07</td>\n",
       "      <td>49004.0</td>\n",
       "      <td>kWh</td>\n",
       "      <td>3754.971174</td>\n",
       "      <td>USD</td>\n",
       "      <td>V1</td>\n",
       "      <td>IN422</td>\n",
       "      <td>47071-MN10022</td>\n",
       "    </tr>\n",
       "    <tr>\n",
       "      <th>358</th>\n",
       "      <td>517</td>\n",
       "      <td>47071</td>\n",
       "      <td>Electricity</td>\n",
       "      <td>MN10022</td>\n",
       "      <td>AN122</td>\n",
       "      <td>2017-02-06</td>\n",
       "      <td>2017-03-08</td>\n",
       "      <td>0.0</td>\n",
       "      <td>kWh</td>\n",
       "      <td>3616.138826</td>\n",
       "      <td>USD</td>\n",
       "      <td>V1</td>\n",
       "      <td>IN422</td>\n",
       "      <td>47071-MN10022</td>\n",
       "    </tr>\n",
       "    <tr>\n",
       "      <th>359</th>\n",
       "      <td>518</td>\n",
       "      <td>47071</td>\n",
       "      <td>Electricity</td>\n",
       "      <td>MN10022</td>\n",
       "      <td>AN122</td>\n",
       "      <td>2017-03-08</td>\n",
       "      <td>2017-04-05</td>\n",
       "      <td>48968.0</td>\n",
       "      <td>kWh</td>\n",
       "      <td>4130.949899</td>\n",
       "      <td>USD</td>\n",
       "      <td>V1</td>\n",
       "      <td>IN423</td>\n",
       "      <td>47071-MN10022</td>\n",
       "    </tr>\n",
       "    <tr>\n",
       "      <th>360</th>\n",
       "      <td>519</td>\n",
       "      <td>47071</td>\n",
       "      <td>Electricity</td>\n",
       "      <td>MN10022</td>\n",
       "      <td>AN122</td>\n",
       "      <td>2017-03-09</td>\n",
       "      <td>2017-04-05</td>\n",
       "      <td>0.0</td>\n",
       "      <td>kWh</td>\n",
       "      <td>3613.550101</td>\n",
       "      <td>USD</td>\n",
       "      <td>V1</td>\n",
       "      <td>IN423</td>\n",
       "      <td>47071-MN10022</td>\n",
       "    </tr>\n",
       "    <tr>\n",
       "      <th>361</th>\n",
       "      <td>520</td>\n",
       "      <td>47071</td>\n",
       "      <td>Electricity</td>\n",
       "      <td>MN10022</td>\n",
       "      <td>AN122</td>\n",
       "      <td>2017-04-06</td>\n",
       "      <td>2017-05-08</td>\n",
       "      <td>0.0</td>\n",
       "      <td>kWh</td>\n",
       "      <td>3995.700000</td>\n",
       "      <td>USD</td>\n",
       "      <td>V1</td>\n",
       "      <td>IN424</td>\n",
       "      <td>47071-MN10022</td>\n",
       "    </tr>\n",
       "    <tr>\n",
       "      <th>362</th>\n",
       "      <td>521</td>\n",
       "      <td>47071</td>\n",
       "      <td>Electricity</td>\n",
       "      <td>MN10022</td>\n",
       "      <td>AN122</td>\n",
       "      <td>2017-04-06</td>\n",
       "      <td>2017-05-08</td>\n",
       "      <td>54142.0</td>\n",
       "      <td>kWh</td>\n",
       "      <td>4574.920000</td>\n",
       "      <td>USD</td>\n",
       "      <td>V1</td>\n",
       "      <td>IN425</td>\n",
       "      <td>47071-MN10022</td>\n",
       "    </tr>\n",
       "    <tr>\n",
       "      <th>363</th>\n",
       "      <td>522</td>\n",
       "      <td>47071</td>\n",
       "      <td>Electricity</td>\n",
       "      <td>MN10022</td>\n",
       "      <td>AN122</td>\n",
       "      <td>2017-05-09</td>\n",
       "      <td>2017-06-06</td>\n",
       "      <td>49689.0</td>\n",
       "      <td>kWh</td>\n",
       "      <td>5383.452970</td>\n",
       "      <td>USD</td>\n",
       "      <td>V1</td>\n",
       "      <td>IN426</td>\n",
       "      <td>47071-MN10022</td>\n",
       "    </tr>\n",
       "    <tr>\n",
       "      <th>364</th>\n",
       "      <td>523</td>\n",
       "      <td>47071</td>\n",
       "      <td>Electricity</td>\n",
       "      <td>MN10022</td>\n",
       "      <td>AN122</td>\n",
       "      <td>2017-05-09</td>\n",
       "      <td>2017-06-07</td>\n",
       "      <td>0.0</td>\n",
       "      <td>kWh</td>\n",
       "      <td>3658.017030</td>\n",
       "      <td>USD</td>\n",
       "      <td>V1</td>\n",
       "      <td>IN426</td>\n",
       "      <td>47071-MN10022</td>\n",
       "    </tr>\n",
       "    <tr>\n",
       "      <th>365</th>\n",
       "      <td>524</td>\n",
       "      <td>47071</td>\n",
       "      <td>Electricity</td>\n",
       "      <td>MN10022</td>\n",
       "      <td>AN122</td>\n",
       "      <td>2017-06-07</td>\n",
       "      <td>2017-07-06</td>\n",
       "      <td>51654.0</td>\n",
       "      <td>kWh</td>\n",
       "      <td>5793.819869</td>\n",
       "      <td>USD</td>\n",
       "      <td>V1</td>\n",
       "      <td>IN427</td>\n",
       "      <td>47071-MN10022</td>\n",
       "    </tr>\n",
       "    <tr>\n",
       "      <th>366</th>\n",
       "      <td>525</td>\n",
       "      <td>47071</td>\n",
       "      <td>Electricity</td>\n",
       "      <td>MN10022</td>\n",
       "      <td>AN122</td>\n",
       "      <td>2017-06-08</td>\n",
       "      <td>2017-07-07</td>\n",
       "      <td>0.0</td>\n",
       "      <td>kWh</td>\n",
       "      <td>3802.570131</td>\n",
       "      <td>USD</td>\n",
       "      <td>V1</td>\n",
       "      <td>IN427</td>\n",
       "      <td>47071-MN10022</td>\n",
       "    </tr>\n",
       "    <tr>\n",
       "      <th>367</th>\n",
       "      <td>526</td>\n",
       "      <td>47071</td>\n",
       "      <td>Electricity</td>\n",
       "      <td>MN10022</td>\n",
       "      <td>AN122</td>\n",
       "      <td>2017-07-07</td>\n",
       "      <td>2017-08-07</td>\n",
       "      <td>55394.0</td>\n",
       "      <td>kWh</td>\n",
       "      <td>5728.324257</td>\n",
       "      <td>USD</td>\n",
       "      <td>V1</td>\n",
       "      <td>IN428</td>\n",
       "      <td>47071-MN10022</td>\n",
       "    </tr>\n",
       "    <tr>\n",
       "      <th>368</th>\n",
       "      <td>527</td>\n",
       "      <td>47071</td>\n",
       "      <td>Electricity</td>\n",
       "      <td>MN10022</td>\n",
       "      <td>AN122</td>\n",
       "      <td>2017-07-07</td>\n",
       "      <td>2017-08-07</td>\n",
       "      <td>-55394.0</td>\n",
       "      <td>kWh</td>\n",
       "      <td>-5727.982552</td>\n",
       "      <td>USD</td>\n",
       "      <td>V1</td>\n",
       "      <td>IN429</td>\n",
       "      <td>47071-MN10022</td>\n",
       "    </tr>\n",
       "    <tr>\n",
       "      <th>369</th>\n",
       "      <td>528</td>\n",
       "      <td>47071</td>\n",
       "      <td>Electricity</td>\n",
       "      <td>MN10022</td>\n",
       "      <td>AN122</td>\n",
       "      <td>2017-07-08</td>\n",
       "      <td>2017-08-07</td>\n",
       "      <td>0.0</td>\n",
       "      <td>kWh</td>\n",
       "      <td>4078.205743</td>\n",
       "      <td>USD</td>\n",
       "      <td>V1</td>\n",
       "      <td>IN428</td>\n",
       "      <td>47071-MN10022</td>\n",
       "    </tr>\n",
       "    <tr>\n",
       "      <th>370</th>\n",
       "      <td>529</td>\n",
       "      <td>47071</td>\n",
       "      <td>Electricity</td>\n",
       "      <td>MN10022</td>\n",
       "      <td>AN122</td>\n",
       "      <td>2017-07-08</td>\n",
       "      <td>2017-08-07</td>\n",
       "      <td>0.0</td>\n",
       "      <td>kWh</td>\n",
       "      <td>-3838.057448</td>\n",
       "      <td>USD</td>\n",
       "      <td>V1</td>\n",
       "      <td>IN429</td>\n",
       "      <td>47071-MN10022</td>\n",
       "    </tr>\n",
       "    <tr>\n",
       "      <th>371</th>\n",
       "      <td>530</td>\n",
       "      <td>47071</td>\n",
       "      <td>Electricity</td>\n",
       "      <td>MN10022</td>\n",
       "      <td>AN122</td>\n",
       "      <td>2017-08-08</td>\n",
       "      <td>2017-09-06</td>\n",
       "      <td>56717.0</td>\n",
       "      <td>kWh</td>\n",
       "      <td>6235.654067</td>\n",
       "      <td>USD</td>\n",
       "      <td>V1</td>\n",
       "      <td>IN430</td>\n",
       "      <td>47071-MN10022</td>\n",
       "    </tr>\n",
       "    <tr>\n",
       "      <th>...</th>\n",
       "      <td>...</td>\n",
       "      <td>...</td>\n",
       "      <td>...</td>\n",
       "      <td>...</td>\n",
       "      <td>...</td>\n",
       "      <td>...</td>\n",
       "      <td>...</td>\n",
       "      <td>...</td>\n",
       "      <td>...</td>\n",
       "      <td>...</td>\n",
       "      <td>...</td>\n",
       "      <td>...</td>\n",
       "      <td>...</td>\n",
       "      <td>...</td>\n",
       "    </tr>\n",
       "    <tr>\n",
       "      <th>374</th>\n",
       "      <td>533</td>\n",
       "      <td>47071</td>\n",
       "      <td>Electricity</td>\n",
       "      <td>MN10022</td>\n",
       "      <td>AN122</td>\n",
       "      <td>2017-09-08</td>\n",
       "      <td>2017-10-06</td>\n",
       "      <td>0.0</td>\n",
       "      <td>kWh</td>\n",
       "      <td>4073.981876</td>\n",
       "      <td>USD</td>\n",
       "      <td>V1</td>\n",
       "      <td>IN431</td>\n",
       "      <td>47071-MN10022</td>\n",
       "    </tr>\n",
       "    <tr>\n",
       "      <th>375</th>\n",
       "      <td>534</td>\n",
       "      <td>47071</td>\n",
       "      <td>Electricity</td>\n",
       "      <td>MN10022</td>\n",
       "      <td>AN122</td>\n",
       "      <td>2017-10-06</td>\n",
       "      <td>2017-11-05</td>\n",
       "      <td>51395.0</td>\n",
       "      <td>kWh</td>\n",
       "      <td>4784.033473</td>\n",
       "      <td>USD</td>\n",
       "      <td>V1</td>\n",
       "      <td>IN432</td>\n",
       "      <td>47071-MN10022</td>\n",
       "    </tr>\n",
       "    <tr>\n",
       "      <th>376</th>\n",
       "      <td>535</td>\n",
       "      <td>47071</td>\n",
       "      <td>Electricity</td>\n",
       "      <td>MN10022</td>\n",
       "      <td>AN122</td>\n",
       "      <td>2017-10-07</td>\n",
       "      <td>2017-11-06</td>\n",
       "      <td>0.0</td>\n",
       "      <td>kWh</td>\n",
       "      <td>3784.196527</td>\n",
       "      <td>USD</td>\n",
       "      <td>V1</td>\n",
       "      <td>IN432</td>\n",
       "      <td>47071-MN10022</td>\n",
       "    </tr>\n",
       "    <tr>\n",
       "      <th>377</th>\n",
       "      <td>536</td>\n",
       "      <td>47071</td>\n",
       "      <td>Electricity</td>\n",
       "      <td>MN10022</td>\n",
       "      <td>AN122</td>\n",
       "      <td>2017-11-06</td>\n",
       "      <td>2017-12-05</td>\n",
       "      <td>47558.0</td>\n",
       "      <td>kWh</td>\n",
       "      <td>3833.784145</td>\n",
       "      <td>USD</td>\n",
       "      <td>V1</td>\n",
       "      <td>IN433</td>\n",
       "      <td>47071-MN10022</td>\n",
       "    </tr>\n",
       "    <tr>\n",
       "      <th>378</th>\n",
       "      <td>537</td>\n",
       "      <td>47071</td>\n",
       "      <td>Electricity</td>\n",
       "      <td>MN10022</td>\n",
       "      <td>AN122</td>\n",
       "      <td>2017-11-07</td>\n",
       "      <td>2017-12-06</td>\n",
       "      <td>0.0</td>\n",
       "      <td>kWh</td>\n",
       "      <td>3502.115855</td>\n",
       "      <td>USD</td>\n",
       "      <td>V1</td>\n",
       "      <td>IN433</td>\n",
       "      <td>47071-MN10022</td>\n",
       "    </tr>\n",
       "    <tr>\n",
       "      <th>379</th>\n",
       "      <td>538</td>\n",
       "      <td>47071</td>\n",
       "      <td>Electricity</td>\n",
       "      <td>MN10022</td>\n",
       "      <td>AN122</td>\n",
       "      <td>2017-12-06</td>\n",
       "      <td>2018-01-05</td>\n",
       "      <td>47146.0</td>\n",
       "      <td>kWh</td>\n",
       "      <td>3893.172797</td>\n",
       "      <td>USD</td>\n",
       "      <td>V1</td>\n",
       "      <td>IN434</td>\n",
       "      <td>47071-MN10022</td>\n",
       "    </tr>\n",
       "    <tr>\n",
       "      <th>380</th>\n",
       "      <td>539</td>\n",
       "      <td>47071</td>\n",
       "      <td>Electricity</td>\n",
       "      <td>MN10022</td>\n",
       "      <td>AN122</td>\n",
       "      <td>2017-12-07</td>\n",
       "      <td>2018-01-05</td>\n",
       "      <td>0.0</td>\n",
       "      <td>kWh</td>\n",
       "      <td>3471.687203</td>\n",
       "      <td>USD</td>\n",
       "      <td>V1</td>\n",
       "      <td>IN434</td>\n",
       "      <td>47071-MN10022</td>\n",
       "    </tr>\n",
       "    <tr>\n",
       "      <th>381</th>\n",
       "      <td>540</td>\n",
       "      <td>47071</td>\n",
       "      <td>Electricity</td>\n",
       "      <td>MN10022</td>\n",
       "      <td>AN122</td>\n",
       "      <td>2018-01-06</td>\n",
       "      <td>2018-02-04</td>\n",
       "      <td>42208.0</td>\n",
       "      <td>kWh</td>\n",
       "      <td>3624.420843</td>\n",
       "      <td>USD</td>\n",
       "      <td>V1</td>\n",
       "      <td>IN435</td>\n",
       "      <td>47071-MN10022</td>\n",
       "    </tr>\n",
       "    <tr>\n",
       "      <th>382</th>\n",
       "      <td>541</td>\n",
       "      <td>47071</td>\n",
       "      <td>Electricity</td>\n",
       "      <td>MN10022</td>\n",
       "      <td>AN122</td>\n",
       "      <td>2018-01-06</td>\n",
       "      <td>2018-02-05</td>\n",
       "      <td>0.0</td>\n",
       "      <td>kWh</td>\n",
       "      <td>3107.989157</td>\n",
       "      <td>USD</td>\n",
       "      <td>V1</td>\n",
       "      <td>IN435</td>\n",
       "      <td>47071-MN10022</td>\n",
       "    </tr>\n",
       "    <tr>\n",
       "      <th>383</th>\n",
       "      <td>542</td>\n",
       "      <td>47071</td>\n",
       "      <td>Electricity</td>\n",
       "      <td>MN10022</td>\n",
       "      <td>AN122</td>\n",
       "      <td>2018-02-05</td>\n",
       "      <td>2018-03-06</td>\n",
       "      <td>48151.0</td>\n",
       "      <td>kWh</td>\n",
       "      <td>3813.626558</td>\n",
       "      <td>USD</td>\n",
       "      <td>V1</td>\n",
       "      <td>IN436</td>\n",
       "      <td>47071-MN10022</td>\n",
       "    </tr>\n",
       "    <tr>\n",
       "      <th>384</th>\n",
       "      <td>543</td>\n",
       "      <td>47071</td>\n",
       "      <td>Electricity</td>\n",
       "      <td>MN10022</td>\n",
       "      <td>AN122</td>\n",
       "      <td>2018-02-06</td>\n",
       "      <td>2018-03-07</td>\n",
       "      <td>0.0</td>\n",
       "      <td>kWh</td>\n",
       "      <td>3545.843442</td>\n",
       "      <td>USD</td>\n",
       "      <td>V1</td>\n",
       "      <td>IN436</td>\n",
       "      <td>47071-MN10022</td>\n",
       "    </tr>\n",
       "    <tr>\n",
       "      <th>385</th>\n",
       "      <td>544</td>\n",
       "      <td>47071</td>\n",
       "      <td>Electricity</td>\n",
       "      <td>MN10022</td>\n",
       "      <td>AN122</td>\n",
       "      <td>2018-03-07</td>\n",
       "      <td>2018-04-04</td>\n",
       "      <td>45304.0</td>\n",
       "      <td>kWh</td>\n",
       "      <td>3379.994092</td>\n",
       "      <td>USD</td>\n",
       "      <td>V1</td>\n",
       "      <td>IN437</td>\n",
       "      <td>47071-MN10022</td>\n",
       "    </tr>\n",
       "    <tr>\n",
       "      <th>386</th>\n",
       "      <td>545</td>\n",
       "      <td>47071</td>\n",
       "      <td>Electricity</td>\n",
       "      <td>MN10022</td>\n",
       "      <td>AN122</td>\n",
       "      <td>2018-03-08</td>\n",
       "      <td>2018-04-05</td>\n",
       "      <td>0.0</td>\n",
       "      <td>kWh</td>\n",
       "      <td>3336.305908</td>\n",
       "      <td>USD</td>\n",
       "      <td>V1</td>\n",
       "      <td>IN437</td>\n",
       "      <td>47071-MN10022</td>\n",
       "    </tr>\n",
       "    <tr>\n",
       "      <th>387</th>\n",
       "      <td>546</td>\n",
       "      <td>47071</td>\n",
       "      <td>Electricity</td>\n",
       "      <td>MN10022</td>\n",
       "      <td>AN122</td>\n",
       "      <td>2018-04-05</td>\n",
       "      <td>2018-05-06</td>\n",
       "      <td>51887.0</td>\n",
       "      <td>kWh</td>\n",
       "      <td>3978.177644</td>\n",
       "      <td>USD</td>\n",
       "      <td>V1</td>\n",
       "      <td>IN438</td>\n",
       "      <td>47071-MN10022</td>\n",
       "    </tr>\n",
       "    <tr>\n",
       "      <th>388</th>\n",
       "      <td>547</td>\n",
       "      <td>47071</td>\n",
       "      <td>Electricity</td>\n",
       "      <td>MN10022</td>\n",
       "      <td>AN122</td>\n",
       "      <td>2018-04-06</td>\n",
       "      <td>2018-05-07</td>\n",
       "      <td>0.0</td>\n",
       "      <td>kWh</td>\n",
       "      <td>3821.042356</td>\n",
       "      <td>USD</td>\n",
       "      <td>V1</td>\n",
       "      <td>IN438</td>\n",
       "      <td>47071-MN10022</td>\n",
       "    </tr>\n",
       "    <tr>\n",
       "      <th>389</th>\n",
       "      <td>548</td>\n",
       "      <td>47071</td>\n",
       "      <td>Electricity</td>\n",
       "      <td>MN10022</td>\n",
       "      <td>AN122</td>\n",
       "      <td>2018-05-07</td>\n",
       "      <td>2018-06-05</td>\n",
       "      <td>45292.0</td>\n",
       "      <td>kWh</td>\n",
       "      <td>5263.745776</td>\n",
       "      <td>USD</td>\n",
       "      <td>V1</td>\n",
       "      <td>IN439</td>\n",
       "      <td>47071-MN10022</td>\n",
       "    </tr>\n",
       "    <tr>\n",
       "      <th>390</th>\n",
       "      <td>549</td>\n",
       "      <td>47071</td>\n",
       "      <td>Electricity</td>\n",
       "      <td>MN10022</td>\n",
       "      <td>AN122</td>\n",
       "      <td>2018-05-08</td>\n",
       "      <td>2018-06-06</td>\n",
       "      <td>0.0</td>\n",
       "      <td>kWh</td>\n",
       "      <td>3334.074224</td>\n",
       "      <td>USD</td>\n",
       "      <td>V1</td>\n",
       "      <td>IN439</td>\n",
       "      <td>47071-MN10022</td>\n",
       "    </tr>\n",
       "    <tr>\n",
       "      <th>391</th>\n",
       "      <td>550</td>\n",
       "      <td>47071</td>\n",
       "      <td>Electricity</td>\n",
       "      <td>MN10022</td>\n",
       "      <td>AN122</td>\n",
       "      <td>2018-06-06</td>\n",
       "      <td>2018-07-06</td>\n",
       "      <td>34041.0</td>\n",
       "      <td>kWh</td>\n",
       "      <td>3921.676577</td>\n",
       "      <td>USD</td>\n",
       "      <td>V1</td>\n",
       "      <td>IN440</td>\n",
       "      <td>47071-MN10022</td>\n",
       "    </tr>\n",
       "    <tr>\n",
       "      <th>392</th>\n",
       "      <td>551</td>\n",
       "      <td>47071</td>\n",
       "      <td>Electricity</td>\n",
       "      <td>MN10022</td>\n",
       "      <td>AN122</td>\n",
       "      <td>2018-06-07</td>\n",
       "      <td>2018-07-06</td>\n",
       "      <td>0.0</td>\n",
       "      <td>kWh</td>\n",
       "      <td>2506.173423</td>\n",
       "      <td>USD</td>\n",
       "      <td>V1</td>\n",
       "      <td>IN440</td>\n",
       "      <td>47071-MN10022</td>\n",
       "    </tr>\n",
       "    <tr>\n",
       "      <th>393</th>\n",
       "      <td>552</td>\n",
       "      <td>47071</td>\n",
       "      <td>Electricity</td>\n",
       "      <td>MN10022</td>\n",
       "      <td>AN122</td>\n",
       "      <td>2018-07-07</td>\n",
       "      <td>2018-08-05</td>\n",
       "      <td>39131.0</td>\n",
       "      <td>kWh</td>\n",
       "      <td>4342.101528</td>\n",
       "      <td>USD</td>\n",
       "      <td>V1</td>\n",
       "      <td>IN441</td>\n",
       "      <td>47071-MN10022</td>\n",
       "    </tr>\n",
       "    <tr>\n",
       "      <th>394</th>\n",
       "      <td>553</td>\n",
       "      <td>47071</td>\n",
       "      <td>Electricity</td>\n",
       "      <td>MN10022</td>\n",
       "      <td>AN122</td>\n",
       "      <td>2018-07-07</td>\n",
       "      <td>2018-08-06</td>\n",
       "      <td>0.0</td>\n",
       "      <td>kWh</td>\n",
       "      <td>2880.888472</td>\n",
       "      <td>USD</td>\n",
       "      <td>V1</td>\n",
       "      <td>IN441</td>\n",
       "      <td>47071-MN10022</td>\n",
       "    </tr>\n",
       "    <tr>\n",
       "      <th>395</th>\n",
       "      <td>554</td>\n",
       "      <td>47071</td>\n",
       "      <td>Electricity</td>\n",
       "      <td>MN10022</td>\n",
       "      <td>AN122</td>\n",
       "      <td>2018-08-06</td>\n",
       "      <td>2018-09-05</td>\n",
       "      <td>39348.0</td>\n",
       "      <td>kWh</td>\n",
       "      <td>4255.011969</td>\n",
       "      <td>USD</td>\n",
       "      <td>V1</td>\n",
       "      <td>IN442</td>\n",
       "      <td>47071-MN10022</td>\n",
       "    </tr>\n",
       "    <tr>\n",
       "      <th>396</th>\n",
       "      <td>555</td>\n",
       "      <td>47071</td>\n",
       "      <td>Electricity</td>\n",
       "      <td>MN10022</td>\n",
       "      <td>AN122</td>\n",
       "      <td>2018-08-07</td>\n",
       "      <td>2018-09-06</td>\n",
       "      <td>0.0</td>\n",
       "      <td>kWh</td>\n",
       "      <td>2896.928031</td>\n",
       "      <td>USD</td>\n",
       "      <td>V1</td>\n",
       "      <td>IN442</td>\n",
       "      <td>47071-MN10022</td>\n",
       "    </tr>\n",
       "    <tr>\n",
       "      <th>397</th>\n",
       "      <td>556</td>\n",
       "      <td>47071</td>\n",
       "      <td>Electricity</td>\n",
       "      <td>MN10022</td>\n",
       "      <td>AN122</td>\n",
       "      <td>2018-09-06</td>\n",
       "      <td>2018-10-04</td>\n",
       "      <td>36017.0</td>\n",
       "      <td>kWh</td>\n",
       "      <td>4192.116870</td>\n",
       "      <td>USD</td>\n",
       "      <td>V1</td>\n",
       "      <td>IN443</td>\n",
       "      <td>47071-MN10022</td>\n",
       "    </tr>\n",
       "    <tr>\n",
       "      <th>398</th>\n",
       "      <td>557</td>\n",
       "      <td>47071</td>\n",
       "      <td>Electricity</td>\n",
       "      <td>MN10022</td>\n",
       "      <td>AN122</td>\n",
       "      <td>2018-09-07</td>\n",
       "      <td>2018-10-05</td>\n",
       "      <td>0.0</td>\n",
       "      <td>kWh</td>\n",
       "      <td>2651.533130</td>\n",
       "      <td>USD</td>\n",
       "      <td>V1</td>\n",
       "      <td>IN443</td>\n",
       "      <td>47071-MN10022</td>\n",
       "    </tr>\n",
       "    <tr>\n",
       "      <th>399</th>\n",
       "      <td>558</td>\n",
       "      <td>47071</td>\n",
       "      <td>Electricity</td>\n",
       "      <td>MN10022</td>\n",
       "      <td>AN122</td>\n",
       "      <td>2018-10-05</td>\n",
       "      <td>2018-11-05</td>\n",
       "      <td>38811.0</td>\n",
       "      <td>kWh</td>\n",
       "      <td>4050.479071</td>\n",
       "      <td>USD</td>\n",
       "      <td>V1</td>\n",
       "      <td>IN444</td>\n",
       "      <td>47071-MN10022</td>\n",
       "    </tr>\n",
       "    <tr>\n",
       "      <th>400</th>\n",
       "      <td>559</td>\n",
       "      <td>47071</td>\n",
       "      <td>Electricity</td>\n",
       "      <td>MN10022</td>\n",
       "      <td>AN122</td>\n",
       "      <td>2018-10-06</td>\n",
       "      <td>2018-11-05</td>\n",
       "      <td>0.0</td>\n",
       "      <td>kWh</td>\n",
       "      <td>2857.500929</td>\n",
       "      <td>USD</td>\n",
       "      <td>V1</td>\n",
       "      <td>IN444</td>\n",
       "      <td>47071-MN10022</td>\n",
       "    </tr>\n",
       "    <tr>\n",
       "      <th>401</th>\n",
       "      <td>560</td>\n",
       "      <td>47071</td>\n",
       "      <td>Electricity</td>\n",
       "      <td>MN10022</td>\n",
       "      <td>AN122</td>\n",
       "      <td>2018-11-06</td>\n",
       "      <td>2018-12-05</td>\n",
       "      <td>34651.0</td>\n",
       "      <td>kWh</td>\n",
       "      <td>2888.630855</td>\n",
       "      <td>USD</td>\n",
       "      <td>V1</td>\n",
       "      <td>IN445</td>\n",
       "      <td>47071-MN10022</td>\n",
       "    </tr>\n",
       "    <tr>\n",
       "      <th>402</th>\n",
       "      <td>561</td>\n",
       "      <td>47071</td>\n",
       "      <td>Electricity</td>\n",
       "      <td>MN10022</td>\n",
       "      <td>AN122</td>\n",
       "      <td>2018-11-06</td>\n",
       "      <td>2018-12-06</td>\n",
       "      <td>0.0</td>\n",
       "      <td>kWh</td>\n",
       "      <td>2551.799145</td>\n",
       "      <td>USD</td>\n",
       "      <td>V1</td>\n",
       "      <td>IN445</td>\n",
       "      <td>47071-MN10022</td>\n",
       "    </tr>\n",
       "    <tr>\n",
       "      <th>416</th>\n",
       "      <td>575</td>\n",
       "      <td>47071</td>\n",
       "      <td>Electricity</td>\n",
       "      <td>MN10022</td>\n",
       "      <td>AN122</td>\n",
       "      <td>2018-08-07</td>\n",
       "      <td>2018-09-05</td>\n",
       "      <td>0.0</td>\n",
       "      <td>each</td>\n",
       "      <td>0.000000</td>\n",
       "      <td>USD</td>\n",
       "      <td>V1</td>\n",
       "      <td>IN442</td>\n",
       "      <td>47071-MN10022</td>\n",
       "    </tr>\n",
       "  </tbody>\n",
       "</table>\n",
       "<p>62 rows × 14 columns</p>\n",
       "</div>"
      ],
      "text/plain": [
       "     row_id  Building_ID         Fuel Meter_Number Account_Name  \\\n",
       "342     501        47071  Electricity      MN10022        AN122   \n",
       "343     502        47071  Electricity      MN10022        AN122   \n",
       "344     503        47071  Electricity      MN10022        AN122   \n",
       "345     504        47071  Electricity      MN10022        AN122   \n",
       "346     505        47071  Electricity      MN10022        AN122   \n",
       "347     506        47071  Electricity      MN10022        AN122   \n",
       "348     507        47071  Electricity      MN10022        AN122   \n",
       "349     508        47071  Electricity      MN10022        AN122   \n",
       "350     509        47071  Electricity      MN10022        AN122   \n",
       "351     510        47071  Electricity      MN10022        AN122   \n",
       "352     511        47071  Electricity      MN10022        AN122   \n",
       "353     512        47071  Electricity      MN10022        AN122   \n",
       "354     513        47071  Electricity      MN10022        AN122   \n",
       "355     514        47071  Electricity      MN10022        AN122   \n",
       "356     515        47071  Electricity      MN10022        AN122   \n",
       "357     516        47071  Electricity      MN10022        AN122   \n",
       "358     517        47071  Electricity      MN10022        AN122   \n",
       "359     518        47071  Electricity      MN10022        AN122   \n",
       "360     519        47071  Electricity      MN10022        AN122   \n",
       "361     520        47071  Electricity      MN10022        AN122   \n",
       "362     521        47071  Electricity      MN10022        AN122   \n",
       "363     522        47071  Electricity      MN10022        AN122   \n",
       "364     523        47071  Electricity      MN10022        AN122   \n",
       "365     524        47071  Electricity      MN10022        AN122   \n",
       "366     525        47071  Electricity      MN10022        AN122   \n",
       "367     526        47071  Electricity      MN10022        AN122   \n",
       "368     527        47071  Electricity      MN10022        AN122   \n",
       "369     528        47071  Electricity      MN10022        AN122   \n",
       "370     529        47071  Electricity      MN10022        AN122   \n",
       "371     530        47071  Electricity      MN10022        AN122   \n",
       "..      ...          ...          ...          ...          ...   \n",
       "374     533        47071  Electricity      MN10022        AN122   \n",
       "375     534        47071  Electricity      MN10022        AN122   \n",
       "376     535        47071  Electricity      MN10022        AN122   \n",
       "377     536        47071  Electricity      MN10022        AN122   \n",
       "378     537        47071  Electricity      MN10022        AN122   \n",
       "379     538        47071  Electricity      MN10022        AN122   \n",
       "380     539        47071  Electricity      MN10022        AN122   \n",
       "381     540        47071  Electricity      MN10022        AN122   \n",
       "382     541        47071  Electricity      MN10022        AN122   \n",
       "383     542        47071  Electricity      MN10022        AN122   \n",
       "384     543        47071  Electricity      MN10022        AN122   \n",
       "385     544        47071  Electricity      MN10022        AN122   \n",
       "386     545        47071  Electricity      MN10022        AN122   \n",
       "387     546        47071  Electricity      MN10022        AN122   \n",
       "388     547        47071  Electricity      MN10022        AN122   \n",
       "389     548        47071  Electricity      MN10022        AN122   \n",
       "390     549        47071  Electricity      MN10022        AN122   \n",
       "391     550        47071  Electricity      MN10022        AN122   \n",
       "392     551        47071  Electricity      MN10022        AN122   \n",
       "393     552        47071  Electricity      MN10022        AN122   \n",
       "394     553        47071  Electricity      MN10022        AN122   \n",
       "395     554        47071  Electricity      MN10022        AN122   \n",
       "396     555        47071  Electricity      MN10022        AN122   \n",
       "397     556        47071  Electricity      MN10022        AN122   \n",
       "398     557        47071  Electricity      MN10022        AN122   \n",
       "399     558        47071  Electricity      MN10022        AN122   \n",
       "400     559        47071  Electricity      MN10022        AN122   \n",
       "401     560        47071  Electricity      MN10022        AN122   \n",
       "402     561        47071  Electricity      MN10022        AN122   \n",
       "416     575        47071  Electricity      MN10022        AN122   \n",
       "\n",
       "    Service_Start_Date Service_End_Date  Consumption Units       Charge  \\\n",
       "342         2015-12-08       2016-01-06      61919.0   kWh  3310.040000   \n",
       "343         2016-01-07       2016-02-04      62896.0   kWh  4368.760000   \n",
       "344         2016-02-05       2016-03-07      71934.0   kWh  4907.620000   \n",
       "345         2016-03-08       2016-04-05      67226.0   kWh  5185.980000   \n",
       "346         2016-04-06       2016-05-05      70542.0   kWh  5469.730000   \n",
       "347         2016-05-06       2016-06-06      71300.0   kWh  6594.970000   \n",
       "348         2016-06-07       2016-07-06      69585.0   kWh  6730.580000   \n",
       "349         2016-07-07       2016-08-07      71831.0   kWh  6674.700000   \n",
       "350         2016-08-08       2016-09-06      62121.0   kWh  5927.540000   \n",
       "351         2016-09-07       2016-10-05      59579.0   kWh  5844.350000   \n",
       "352         2016-10-06       2016-11-03      52675.0   kWh  5252.230000   \n",
       "353         2016-11-04       2016-12-05      59241.0   kWh  4544.910000   \n",
       "354         2016-12-06       2017-01-06      55545.0   kWh  4196.020000   \n",
       "355         2017-01-07       2017-02-05      52135.0   kWh  4035.930000   \n",
       "356         2017-01-07       2017-02-05          0.0   kWh  3847.620000   \n",
       "357         2017-02-06       2017-03-07      49004.0   kWh  3754.971174   \n",
       "358         2017-02-06       2017-03-08          0.0   kWh  3616.138826   \n",
       "359         2017-03-08       2017-04-05      48968.0   kWh  4130.949899   \n",
       "360         2017-03-09       2017-04-05          0.0   kWh  3613.550101   \n",
       "361         2017-04-06       2017-05-08          0.0   kWh  3995.700000   \n",
       "362         2017-04-06       2017-05-08      54142.0   kWh  4574.920000   \n",
       "363         2017-05-09       2017-06-06      49689.0   kWh  5383.452970   \n",
       "364         2017-05-09       2017-06-07          0.0   kWh  3658.017030   \n",
       "365         2017-06-07       2017-07-06      51654.0   kWh  5793.819869   \n",
       "366         2017-06-08       2017-07-07          0.0   kWh  3802.570131   \n",
       "367         2017-07-07       2017-08-07      55394.0   kWh  5728.324257   \n",
       "368         2017-07-07       2017-08-07     -55394.0   kWh -5727.982552   \n",
       "369         2017-07-08       2017-08-07          0.0   kWh  4078.205743   \n",
       "370         2017-07-08       2017-08-07          0.0   kWh -3838.057448   \n",
       "371         2017-08-08       2017-09-06      56717.0   kWh  6235.654067   \n",
       "..                 ...              ...          ...   ...          ...   \n",
       "374         2017-09-08       2017-10-06          0.0   kWh  4073.981876   \n",
       "375         2017-10-06       2017-11-05      51395.0   kWh  4784.033473   \n",
       "376         2017-10-07       2017-11-06          0.0   kWh  3784.196527   \n",
       "377         2017-11-06       2017-12-05      47558.0   kWh  3833.784145   \n",
       "378         2017-11-07       2017-12-06          0.0   kWh  3502.115855   \n",
       "379         2017-12-06       2018-01-05      47146.0   kWh  3893.172797   \n",
       "380         2017-12-07       2018-01-05          0.0   kWh  3471.687203   \n",
       "381         2018-01-06       2018-02-04      42208.0   kWh  3624.420843   \n",
       "382         2018-01-06       2018-02-05          0.0   kWh  3107.989157   \n",
       "383         2018-02-05       2018-03-06      48151.0   kWh  3813.626558   \n",
       "384         2018-02-06       2018-03-07          0.0   kWh  3545.843442   \n",
       "385         2018-03-07       2018-04-04      45304.0   kWh  3379.994092   \n",
       "386         2018-03-08       2018-04-05          0.0   kWh  3336.305908   \n",
       "387         2018-04-05       2018-05-06      51887.0   kWh  3978.177644   \n",
       "388         2018-04-06       2018-05-07          0.0   kWh  3821.042356   \n",
       "389         2018-05-07       2018-06-05      45292.0   kWh  5263.745776   \n",
       "390         2018-05-08       2018-06-06          0.0   kWh  3334.074224   \n",
       "391         2018-06-06       2018-07-06      34041.0   kWh  3921.676577   \n",
       "392         2018-06-07       2018-07-06          0.0   kWh  2506.173423   \n",
       "393         2018-07-07       2018-08-05      39131.0   kWh  4342.101528   \n",
       "394         2018-07-07       2018-08-06          0.0   kWh  2880.888472   \n",
       "395         2018-08-06       2018-09-05      39348.0   kWh  4255.011969   \n",
       "396         2018-08-07       2018-09-06          0.0   kWh  2896.928031   \n",
       "397         2018-09-06       2018-10-04      36017.0   kWh  4192.116870   \n",
       "398         2018-09-07       2018-10-05          0.0   kWh  2651.533130   \n",
       "399         2018-10-05       2018-11-05      38811.0   kWh  4050.479071   \n",
       "400         2018-10-06       2018-11-05          0.0   kWh  2857.500929   \n",
       "401         2018-11-06       2018-12-05      34651.0   kWh  2888.630855   \n",
       "402         2018-11-06       2018-12-06          0.0   kWh  2551.799145   \n",
       "416         2018-08-07       2018-09-05          0.0  each     0.000000   \n",
       "\n",
       "    Currency Vendor Invoice Number        Account  \n",
       "342      USD     V1          IN407  47071-MN10022  \n",
       "343      USD     V1          IN408  47071-MN10022  \n",
       "344      USD     V1          IN409  47071-MN10022  \n",
       "345      USD     V1          IN410  47071-MN10022  \n",
       "346      USD     V1          IN411  47071-MN10022  \n",
       "347      USD     V1          IN412  47071-MN10022  \n",
       "348      USD     V1          IN413  47071-MN10022  \n",
       "349      USD     V1          IN414  47071-MN10022  \n",
       "350      USD     V1          IN415  47071-MN10022  \n",
       "351      USD     V1          IN416  47071-MN10022  \n",
       "352      USD     V1          IN417  47071-MN10022  \n",
       "353      USD     V1          IN418  47071-MN10022  \n",
       "354      USD     V1          IN419  47071-MN10022  \n",
       "355      USD     V1          IN420  47071-MN10022  \n",
       "356      USD     V1          IN421  47071-MN10022  \n",
       "357      USD     V1          IN422  47071-MN10022  \n",
       "358      USD     V1          IN422  47071-MN10022  \n",
       "359      USD     V1          IN423  47071-MN10022  \n",
       "360      USD     V1          IN423  47071-MN10022  \n",
       "361      USD     V1          IN424  47071-MN10022  \n",
       "362      USD     V1          IN425  47071-MN10022  \n",
       "363      USD     V1          IN426  47071-MN10022  \n",
       "364      USD     V1          IN426  47071-MN10022  \n",
       "365      USD     V1          IN427  47071-MN10022  \n",
       "366      USD     V1          IN427  47071-MN10022  \n",
       "367      USD     V1          IN428  47071-MN10022  \n",
       "368      USD     V1          IN429  47071-MN10022  \n",
       "369      USD     V1          IN428  47071-MN10022  \n",
       "370      USD     V1          IN429  47071-MN10022  \n",
       "371      USD     V1          IN430  47071-MN10022  \n",
       "..       ...    ...            ...            ...  \n",
       "374      USD     V1          IN431  47071-MN10022  \n",
       "375      USD     V1          IN432  47071-MN10022  \n",
       "376      USD     V1          IN432  47071-MN10022  \n",
       "377      USD     V1          IN433  47071-MN10022  \n",
       "378      USD     V1          IN433  47071-MN10022  \n",
       "379      USD     V1          IN434  47071-MN10022  \n",
       "380      USD     V1          IN434  47071-MN10022  \n",
       "381      USD     V1          IN435  47071-MN10022  \n",
       "382      USD     V1          IN435  47071-MN10022  \n",
       "383      USD     V1          IN436  47071-MN10022  \n",
       "384      USD     V1          IN436  47071-MN10022  \n",
       "385      USD     V1          IN437  47071-MN10022  \n",
       "386      USD     V1          IN437  47071-MN10022  \n",
       "387      USD     V1          IN438  47071-MN10022  \n",
       "388      USD     V1          IN438  47071-MN10022  \n",
       "389      USD     V1          IN439  47071-MN10022  \n",
       "390      USD     V1          IN439  47071-MN10022  \n",
       "391      USD     V1          IN440  47071-MN10022  \n",
       "392      USD     V1          IN440  47071-MN10022  \n",
       "393      USD     V1          IN441  47071-MN10022  \n",
       "394      USD     V1          IN441  47071-MN10022  \n",
       "395      USD     V1          IN442  47071-MN10022  \n",
       "396      USD     V1          IN442  47071-MN10022  \n",
       "397      USD     V1          IN443  47071-MN10022  \n",
       "398      USD     V1          IN443  47071-MN10022  \n",
       "399      USD     V1          IN444  47071-MN10022  \n",
       "400      USD     V1          IN444  47071-MN10022  \n",
       "401      USD     V1          IN445  47071-MN10022  \n",
       "402      USD     V1          IN445  47071-MN10022  \n",
       "416      USD     V1          IN442  47071-MN10022  \n",
       "\n",
       "[62 rows x 14 columns]"
      ]
     },
     "execution_count": 62,
     "metadata": {},
     "output_type": "execute_result"
    }
   ],
   "source": [
    "mask = (df['Building_ID'] == 47071) & (df['Meter_Number'] == 'MN10022')\n",
    "df[mask]"
   ]
  },
  {
   "cell_type": "code",
   "execution_count": null,
   "metadata": {},
   "outputs": [],
   "source": []
  },
  {
   "cell_type": "markdown",
   "metadata": {},
   "source": [
    "### Check the overlapping of service periods"
   ]
  },
  {
   "cell_type": "code",
   "execution_count": 63,
   "metadata": {},
   "outputs": [],
   "source": [
    "# order by dataframe and assign a row number\n",
    "df = df.sort_values(by = ['Building_ID', 'Meter_Number', 'Service_Start_Date', 'Service_End_Date'], ascending=[True, True, True, True]).copy()\n",
    "df = df.reset_index(drop=True)\n",
    "df = df.reset_index()\n",
    "df.rename(columns = {'index':'row_number'}, inplace = True)\n",
    "\n",
    "prev = df.loc[:, ['row_number', 'Building_ID', 'Meter_Number', 'Service_Start_Date', 'Service_End_Date', 'Consumption', 'Charge']]\n",
    "\n",
    "prev.loc[:, 'row_number'] = prev['row_number'].map(lambda x: x + 1)\n",
    "\n",
    "\n",
    "tmp = df[['row_number', 'row_id', 'Building_ID', 'Meter_Number', 'Service_Start_Date', 'Service_End_Date', 'Consumption', 'Charge']]\\\n",
    ".merge(prev, on = ['row_number', 'Building_ID', 'Meter_Number'], how = 'left')\n",
    "\n",
    "tmp.columns = ['row_number', 'row_id', 'Building_ID', 'Meter_Number', 'Service_Start_Date',\n",
    "       'Service_End_Date', 'Consumption', 'Current_Charges', 'Service_Start_Date_Prev', 'Service_End_Date_Prev', 'Consumption_Prev', 'Current_Charges_Prev']\n",
    "\n",
    "tmp.loc[:, 'Diff_Prev'] = tmp.apply(lambda x: (x['Service_Start_Date'] - x['Service_End_Date_Prev']).days, axis = 1)"
   ]
  },
  {
   "cell_type": "code",
   "execution_count": 64,
   "metadata": {},
   "outputs": [],
   "source": [
    "rows = list(tmp[tmp.Diff_Prev < -2].row_number.values)"
   ]
  },
  {
   "cell_type": "markdown",
   "metadata": {},
   "source": [
    "### We have lots of bills with overlapping billing periods (17%)"
   ]
  },
  {
   "cell_type": "code",
   "execution_count": 107,
   "metadata": {},
   "outputs": [
    {
     "data": {
      "text/plain": [
       "0.1708235294117647"
      ]
     },
     "execution_count": 107,
     "metadata": {},
     "output_type": "execute_result"
    }
   ],
   "source": [
    "len(rows)/df.shape[0]"
   ]
  },
  {
   "cell_type": "markdown",
   "metadata": {},
   "source": [
    "### Manually check the rows that have overlapping billing periods with other rows"
   ]
  },
  {
   "cell_type": "code",
   "execution_count": 66,
   "metadata": {},
   "outputs": [],
   "source": [
    "# i = 7825\n",
    "# df[df.row_number.isin(range(i - 2, i + 3))]"
   ]
  },
  {
   "cell_type": "code",
   "execution_count": 67,
   "metadata": {},
   "outputs": [],
   "source": [
    "# mask = df.row_number == 2874\n",
    "# df_flags = pd.concat([df_flags, pd.DataFrame({'row_id':df.loc[mask, ].row_id.values, 'flag':'Bill range overlap with others, rows removed'})])\n",
    "# df = df[~mask]"
   ]
  },
  {
   "cell_type": "markdown",
   "metadata": {},
   "source": [
    "### Drop the row_number field after we finish matching the adjacent rows"
   ]
  },
  {
   "cell_type": "code",
   "execution_count": 68,
   "metadata": {},
   "outputs": [],
   "source": [
    "df.drop('row_number', axis = 1, inplace = True)"
   ]
  },
  {
   "cell_type": "markdown",
   "metadata": {},
   "source": [
    "### Save a copy of the cleaned version of the dataset"
   ]
  },
  {
   "cell_type": "code",
   "execution_count": 69,
   "metadata": {},
   "outputs": [],
   "source": [
    "df_cleaned = df.copy()"
   ]
  },
  {
   "cell_type": "code",
   "execution_count": null,
   "metadata": {},
   "outputs": [],
   "source": []
  },
  {
   "cell_type": "markdown",
   "metadata": {},
   "source": [
    "# Step 4: Prorate the bills to calendar months"
   ]
  },
  {
   "cell_type": "markdown",
   "metadata": {},
   "source": [
    "### Check if the service_end_date is inclusive for each bill"
   ]
  },
  {
   "cell_type": "code",
   "execution_count": 70,
   "metadata": {},
   "outputs": [],
   "source": [
    "# order by dataframe and assign a row number\n",
    "df = df.sort_values(by = ['Building_ID', 'Meter_Number', 'Service_Start_Date', 'Service_End_Date'], ascending=[True, True, True, True]).copy()\n",
    "df = df.reset_index(drop=True)\n",
    "df = df.reset_index()\n",
    "df.rename(columns = {'index':'row_number'}, inplace = True)"
   ]
  },
  {
   "cell_type": "code",
   "execution_count": 71,
   "metadata": {},
   "outputs": [],
   "source": [
    "cols = ['row_number', 'row_id', 'Account', \\\n",
    "        'Service_Start_Date', 'Service_End_Date', 'Consumption', 'Charge']\n",
    "df = df[cols]"
   ]
  },
  {
   "cell_type": "code",
   "execution_count": 72,
   "metadata": {},
   "outputs": [],
   "source": [
    "df_next = df.loc[:, ['row_number', 'Account', 'Service_Start_Date', 'Service_End_Date']]\n",
    "df_next.loc[:, 'row_number'] = df_next.row_number.map(lambda x: x - 1)\n",
    "\n",
    "tmp = df.merge(df_next, on = ['row_number', 'Account'], how = 'left')"
   ]
  },
  {
   "cell_type": "code",
   "execution_count": 74,
   "metadata": {},
   "outputs": [],
   "source": [
    "tmp.columns = ['row_number', 'row_id', 'Account',\n",
    "       'Service_Start_Date', 'Service_End_Date', 'Consumption', 'Charge',\n",
    "       'Service_Start_Date_Next', 'Service_End_Date_Next']\n",
    "\n",
    "tmp.loc[:, 'Diff_Next'] = tmp.apply(lambda x: (x['Service_Start_Date_Next'] - x['Service_End_Date']).days, axis = 1)"
   ]
  },
  {
   "cell_type": "code",
   "execution_count": 75,
   "metadata": {},
   "outputs": [],
   "source": [
    "df = tmp.copy()\n",
    "del(tmp)"
   ]
  },
  {
   "cell_type": "markdown",
   "metadata": {},
   "source": [
    "### Most cases, the start_date of the next bill is 1 day after the end_date of the previous bill (end_date is inclusive)"
   ]
  },
  {
   "cell_type": "code",
   "execution_count": 76,
   "metadata": {},
   "outputs": [
    {
     "data": {
      "text/plain": [
       "-364.0       1\n",
       "-91.0        1\n",
       "-59.0        3\n",
       "-32.0        1\n",
       "-31.0       30\n",
       "-30.0       69\n",
       "-29.0      115\n",
       "-28.0       93\n",
       "-27.0       43\n",
       "-26.0        2\n",
       "-13.0        3\n",
       "-7.0         1\n",
       "-6.0         1\n",
       " 0.0       200\n",
       " 1.0      1490\n",
       " 2.0         1\n",
       " 30.0        1\n",
       "Name: Diff_Next, dtype: int64"
      ]
     },
     "execution_count": 76,
     "metadata": {},
     "output_type": "execute_result"
    }
   ],
   "source": [
    "df.Diff_Next.value_counts().sort_index()"
   ]
  },
  {
   "cell_type": "markdown",
   "metadata": {},
   "source": [
    "### Add the month associated with service_start_date and service_end_date"
   ]
  },
  {
   "cell_type": "code",
   "execution_count": 77,
   "metadata": {},
   "outputs": [],
   "source": [
    "df['Start_Date_Month'] = df['Service_Start_Date'].apply(\\\n",
    "  lambda x: pd.to_datetime('-'.join([str(x.year), str(x.month)])))\n",
    "\n",
    "df['End_Date_Month'] = df.apply(\\\n",
    "  lambda x: pd.to_datetime('-'.join([str(x['Service_End_Date'].year), str(x['Service_End_Date'].month)]))\\\n",
    "            if x['Diff_Next'] == 1 else pd.to_datetime('-'.join([str((x['Service_End_Date'] + relativedelta(days=-1)).year), str((x['Service_End_Date'] + relativedelta(days=-1)).month)]))\\\n",
    "            ,axis = 1)"
   ]
  },
  {
   "cell_type": "markdown",
   "metadata": {},
   "source": [
    "### Create a dataframe of the relevant columns to work on the mapping between row_id to the calendar month"
   ]
  },
  {
   "cell_type": "code",
   "execution_count": 78,
   "metadata": {},
   "outputs": [],
   "source": [
    "cols = ['row_id', 'Start_Date_Month', 'End_Date_Month']\n",
    "temp = df[cols]"
   ]
  },
  {
   "cell_type": "markdown",
   "metadata": {},
   "source": [
    "Create a new data frame to store the mapping. The dataframe will have 3 columns: 'row_id' (identifier of the bill), 'Start_Date_Month' and 'End_Date_Month'. We'll collapse the last 2 columns into 1 in order to get the associated calendar month for each bill."
   ]
  },
  {
   "cell_type": "markdown",
   "metadata": {},
   "source": [
    "First, save all the row-month mapping between row_id and its start_date_month and end_date_month to the new dataframe"
   ]
  },
  {
   "cell_type": "code",
   "execution_count": 79,
   "metadata": {},
   "outputs": [],
   "source": [
    "df_month_row_mapping = temp.copy()"
   ]
  },
  {
   "cell_type": "markdown",
   "metadata": {},
   "source": [
    "Second, there are cases where the billing window is longer than one calendar month. \n",
    "\n",
    "- So for each bill, check if the billing window is longer than one month;\n",
    "If so, save the Start_Date_Month in df_month_row_mapping and then replace it with its subsequent month until the billing window is less than one month."
   ]
  },
  {
   "cell_type": "code",
   "execution_count": 80,
   "metadata": {},
   "outputs": [
    {
     "name": "stderr",
     "output_type": "stream",
     "text": [
      "/Users/feiwang/miniconda3/envs/uwcapstone/lib/python3.7/site-packages/pandas/core/indexing.py:362: SettingWithCopyWarning:\n",
      "\n",
      "\n",
      "A value is trying to be set on a copy of a slice from a DataFrame.\n",
      "Try using .loc[row_indexer,col_indexer] = value instead\n",
      "\n",
      "See the caveats in the documentation: http://pandas.pydata.org/pandas-docs/stable/indexing.html#indexing-view-versus-copy\n",
      "\n",
      "/Users/feiwang/miniconda3/envs/uwcapstone/lib/python3.7/site-packages/pandas/core/indexing.py:543: SettingWithCopyWarning:\n",
      "\n",
      "\n",
      "A value is trying to be set on a copy of a slice from a DataFrame.\n",
      "Try using .loc[row_indexer,col_indexer] = value instead\n",
      "\n",
      "See the caveats in the documentation: http://pandas.pydata.org/pandas-docs/stable/indexing.html#indexing-view-versus-copy\n",
      "\n"
     ]
    }
   ],
   "source": [
    "while (temp.shape[0] > 0):\n",
    "    temp.loc[:, 'Start_Date_Month_Next'] = \\\n",
    "    temp['Start_Date_Month'].map(lambda x: x + relativedelta(months=+1))\n",
    "\n",
    "    temp.loc[:, 'Ind'] = \\\n",
    "    temp.apply(lambda x: 1 if x['Start_Date_Month_Next'] < x['End_Date_Month'] else 0, axis = 1)\n",
    "\n",
    "\n",
    "    mask = temp['Ind'] == 1\n",
    "    temp = temp.loc[mask,['row_id', 'Start_Date_Month_Next', 'End_Date_Month']].copy()\n",
    "    temp.columns = ['row_id', 'Start_Date_Month', 'End_Date_Month']\n",
    "\n",
    "    df_month_row_mapping = pd.concat([df_month_row_mapping, temp])"
   ]
  },
  {
   "cell_type": "markdown",
   "metadata": {},
   "source": [
    "Collapse the  'Start_Date_Month' and 'End_Date_Month' columns into one column that contains all corresponding calendar months of a given bill."
   ]
  },
  {
   "cell_type": "code",
   "execution_count": 81,
   "metadata": {},
   "outputs": [],
   "source": [
    "temp = pd.melt(df_month_row_mapping, id_vars = df_month_row_mapping.columns[0:-2].values, value_vars = df_month_row_mapping[cols].columns[-2:])\n",
    "temp.drop('variable', axis = 1, inplace = True)\n",
    "\n",
    "temp = temp.drop_duplicates()\n",
    "temp.columns  = ['row_id', 'Month']"
   ]
  },
  {
   "cell_type": "markdown",
   "metadata": {},
   "source": [
    "Add calendar month to each bill."
   ]
  },
  {
   "cell_type": "code",
   "execution_count": 82,
   "metadata": {},
   "outputs": [],
   "source": [
    "temp = pd.merge(temp, df, on = 'row_id', how = 'left')"
   ]
  },
  {
   "cell_type": "markdown",
   "metadata": {},
   "source": [
    "For each bill, calculate the number of days prorated into the corresponding calendar month."
   ]
  },
  {
   "cell_type": "code",
   "execution_count": 83,
   "metadata": {},
   "outputs": [],
   "source": [
    "temp.loc[:, 'Prorated_Days'] = \\\n",
    "temp.apply(lambda x: \\\n",
    "       (min(x['Month'] + relativedelta(months = 1), (x['Service_End_Date'] + relativedelta(days=1))) \\\n",
    "        - max(x['Service_Start_Date'], x['Month'])).days if x['Diff_Next'] == 1\\\n",
    "       else (min(x['Month'] + relativedelta(months = 1), x['Service_End_Date']) \\\n",
    "        - max(x['Service_Start_Date'], x['Month'])).days\\\n",
    "       , axis = 1) "
   ]
  },
  {
   "cell_type": "markdown",
   "metadata": {},
   "source": [
    "For each bill, calculate the number of days covered by the bill."
   ]
  },
  {
   "cell_type": "code",
   "execution_count": 84,
   "metadata": {},
   "outputs": [],
   "source": [
    "temp.loc[:, 'Bill_Duration'] = \\\n",
    "temp.apply(lambda x: (x['Service_End_Date'] + relativedelta(days=1) - x['Service_Start_Date']).days\\\n",
    "       if x['Diff_Next'] == 1\\\n",
    "       else (x['Service_End_Date'] - x['Service_Start_Date']).days\\\n",
    "       , axis = 1) "
   ]
  },
  {
   "cell_type": "markdown",
   "metadata": {},
   "source": [
    "Calculate the prorated consumption and charge values based on the prorated days and bill duration."
   ]
  },
  {
   "cell_type": "code",
   "execution_count": 87,
   "metadata": {},
   "outputs": [],
   "source": [
    "temp.loc[:, 'Prorated_Consumption'] = \\\n",
    "temp.apply(lambda x: (x['Consumption'] / x['Bill_Duration'] )* x['Prorated_Days'], axis = 1)"
   ]
  },
  {
   "cell_type": "code",
   "execution_count": 88,
   "metadata": {},
   "outputs": [],
   "source": [
    "temp.loc[:, 'Prorated_Charge'] = \\\n",
    "temp.apply(lambda x: (x['Charge'] / x['Bill_Duration'] )* x['Prorated_Days'], axis = 1)"
   ]
  },
  {
   "cell_type": "markdown",
   "metadata": {},
   "source": [
    "Save a dataframe that contains the full dataset as well as the corresponding calendar month for each bill. This dataframe will be useful to calculate the prorated consumption and charge values per account-month. Note this dataframe has more rows than the original dataset since one bill may correspond to multiple calendar months."
   ]
  },
  {
   "cell_type": "code",
   "execution_count": 89,
   "metadata": {},
   "outputs": [],
   "source": [
    "df_with_calendar_month = temp.copy()"
   ]
  },
  {
   "cell_type": "markdown",
   "metadata": {},
   "source": [
    "Aggregate the data to Account-Month level by summing up the prorated kwh consupmtion values per calendar_month."
   ]
  },
  {
   "cell_type": "code",
   "execution_count": 90,
   "metadata": {},
   "outputs": [],
   "source": [
    "df_prorated = \\\n",
    "df_with_calendar_month.groupby(['Account','Month']).\\\n",
    "    agg({'Prorated_Consumption':'sum', 'Prorated_Charge':'sum', 'Prorated_Days':'sum'}).reset_index()"
   ]
  },
  {
   "cell_type": "markdown",
   "metadata": {},
   "source": [
    "### Create a mapping table between the individual bill and account_month instance"
   ]
  },
  {
   "cell_type": "code",
   "execution_count": 91,
   "metadata": {},
   "outputs": [],
   "source": [
    "df_prorated = df_prorated.reset_index()\n",
    "\n",
    "# add row_id to the df_prorated dataset\n",
    "df_prorated.rename(columns = {'index':'row_id'}, inplace = True)\n",
    "\n",
    "df_mapping = pd.merge(df_with_calendar_month, df_prorated, on = ['Account', 'Month'], how = 'inner')[['row_id_x', 'row_id_y']]\n",
    "df_mapping.rename(columns = {'row_id_x':'row_id_account_month', 'row_id_y':'row_id_bill'}, inplace = True)"
   ]
  },
  {
   "cell_type": "markdown",
   "metadata": {},
   "source": [
    "So far for each account we've only been working on the calendar months that the accounts has billing records. We also need to map the account id to the calendar months where it should have data but were not logged or reported."
   ]
  },
  {
   "cell_type": "markdown",
   "metadata": {},
   "source": [
    "### Create a dataframe that maps the account with all the calendar months that it should have bills"
   ]
  },
  {
   "cell_type": "markdown",
   "metadata": {},
   "source": [
    "Find all unique accounts (Building_Meter) and months in the dataset."
   ]
  },
  {
   "cell_type": "code",
   "execution_count": 92,
   "metadata": {},
   "outputs": [],
   "source": [
    "accounts = df_with_calendar_month.Account.value_counts().index.values\n",
    "\n",
    "end = df_with_calendar_month['Month'].max()\n",
    "start = df_with_calendar_month['Month'].min()\n",
    "diff = (end.year - start.year) * 12 + end.month - start.month\n",
    "# list of unique months\n",
    "months = [start + relativedelta(months=x) for x in range(0, diff + 1)]"
   ]
  },
  {
   "cell_type": "markdown",
   "metadata": {},
   "source": [
    "Create a reference table with all the calendar months and the corresponding # of days in the month. "
   ]
  },
  {
   "cell_type": "code",
   "execution_count": 93,
   "metadata": {},
   "outputs": [],
   "source": [
    "month_days = [(x + relativedelta(months = 1) - x).days for x in months]\n",
    "df_month_days = pd.DataFrame({'Month':months,  'Month_#_Days':month_days})"
   ]
  },
  {
   "cell_type": "markdown",
   "metadata": {},
   "source": [
    "Now we can map the account (Building_Meter) to all the calendar months that it should have billing data (Here we assumed the account should have data in all months between the first and last calendar month that it has billing data of)."
   ]
  },
  {
   "cell_type": "code",
   "execution_count": 94,
   "metadata": {},
   "outputs": [],
   "source": [
    "df_account_month = pd.DataFrame()\n",
    "\n",
    "for j in range(len(accounts)):\n",
    "    mask = (df_with_calendar_month['Account'] == accounts[j])\n",
    "    start = df_with_calendar_month[mask]['Month'].min()\n",
    "    end = df_with_calendar_month[mask]['Month'].max()\n",
    "    start_index = months.index(start)\n",
    "    end_index = months.index(end)\n",
    "    \n",
    "    temp_df = pd.DataFrame({'Account':accounts[j], 'Month':months[start_index:end_index + 1]})\n",
    "    temp_df.loc[:, 'Month_Type'] = 'Month_In_The_Middle'\n",
    "    temp_df.loc[0, 'Month_Type'] = 'First_Month'\n",
    "    temp_df.loc[temp_df.shape[0]-1, 'Month_Type'] = 'Last_Month'\n",
    "    df_account_month = pd.concat([df_account_month, temp_df])"
   ]
  },
  {
   "cell_type": "code",
   "execution_count": 95,
   "metadata": {},
   "outputs": [],
   "source": [
    "df_account_month = pd.merge(df_account_month, df_month_days, on = ['Month'], how = 'left')"
   ]
  },
  {
   "cell_type": "markdown",
   "metadata": {},
   "source": [
    "Left join account_meter mapping table to get all months for each account."
   ]
  },
  {
   "cell_type": "code",
   "execution_count": 96,
   "metadata": {},
   "outputs": [],
   "source": [
    "df_prorated = pd.merge(df_account_month, df_prorated, on = ['Account', 'Month'], how = 'left')"
   ]
  },
  {
   "cell_type": "markdown",
   "metadata": {},
   "source": [
    "For months that the account didn't have data, fill in with NA's."
   ]
  },
  {
   "cell_type": "code",
   "execution_count": 97,
   "metadata": {},
   "outputs": [],
   "source": [
    "mask = df_prorated['Prorated_Days'].isnull()\n",
    "df_prorated.loc[mask, 'Prorated_Consumption'] = np.nan\n",
    "df_prorated.loc[mask, 'Prorated_Charge'] = np.nan\n",
    "df_prorated.loc[mask, 'NA_Ind'] = True"
   ]
  },
  {
   "cell_type": "code",
   "execution_count": null,
   "metadata": {},
   "outputs": [],
   "source": []
  },
  {
   "cell_type": "markdown",
   "metadata": {},
   "source": [
    "## Step 5: Save the datasets"
   ]
  },
  {
   "cell_type": "code",
   "execution_count": 98,
   "metadata": {},
   "outputs": [],
   "source": [
    "df_mapping.to_pickle(output_directory + 'df_mapping')\n",
    "df_prorated.to_pickle(output_directory + 'df_prorated')\n",
    "df_cleaned.to_pickle(output_directory + 'df_cleaned')\n",
    "df_orig.to_pickle(output_directory + 'df_orig')"
   ]
  },
  {
   "cell_type": "markdown",
   "metadata": {},
   "source": [
    "#### Find the accounts that have no month with missing data for anomaly analysis."
   ]
  },
  {
   "cell_type": "code",
   "execution_count": 104,
   "metadata": {},
   "outputs": [],
   "source": [
    "tmp = pd.merge(\n",
    "    df_prorated.groupby(['Account']).agg({'Month':'count'}).reset_index()\\\n",
    "    , df_prorated.groupby(['Account']).agg({'NA_Ind':'sum'}).reset_index()\\\n",
    "    , on = 'Account', how = 'inner')\n",
    "\n",
    "tmp.rename(columns = {'Month':'Count', 'NA_Ind':'NA_Count'}, inplace = True)\n",
    "mask = (tmp['NA_Count'] == 0) & (tmp['Count'] >= 24)"
   ]
  },
  {
   "cell_type": "code",
   "execution_count": 105,
   "metadata": {},
   "outputs": [],
   "source": [
    "mask = df_prorated.Account.isin(tmp[mask].Account.values)\n",
    "df_prorated[mask][['Account', 'Month', 'Prorated_Consumption', 'Prorated_Charge']].to_pickle(output_directory + 'electricity_prorated_ts')\n",
    "df_prorated[mask][['Account', 'Month', 'Prorated_Consumption', 'Prorated_Charge']].to_csv(output_directory + 'electricity_prorated_ts.csv')"
   ]
  }
 ],
 "metadata": {
  "kernelspec": {
   "display_name": "Python 3",
   "language": "python",
   "name": "python3"
  },
  "language_info": {
   "codemirror_mode": {
    "name": "ipython",
    "version": 3
   },
   "file_extension": ".py",
   "mimetype": "text/x-python",
   "name": "python",
   "nbconvert_exporter": "python",
   "pygments_lexer": "ipython3",
   "version": "3.7.2"
  }
 },
 "nbformat": 4,
 "nbformat_minor": 2
}
