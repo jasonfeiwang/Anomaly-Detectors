{
 "cells": [
  {
   "cell_type": "markdown",
   "metadata": {},
   "source": [
    "## Objectives"
   ]
  },
  {
   "cell_type": "markdown",
   "metadata": {},
   "source": [
    "This notebook contains codes to detect outliers in a given dataset of energy consumption values, using the time series decomposition method. It loops through all the accounts and labels whether the value associated to each month is an anomaly or not.\n",
    "- Input: a csv file that contains the three columns needed: Account (account id), Month (calendar month), Value (numerical column to detect outliers from)\n",
    "- Output: an R tibble (data frame) of the original dataset together with an outlier indicator column and outlier rank column\n",
    "- Note: most of the codes in this notebook is also contained in the Decomposition_Demo.ipynb notebook. The purpose of this notebook is present all the codes needed for automatic anomaly detection in one place."
   ]
  },
  {
   "cell_type": "markdown",
   "metadata": {},
   "source": [
    "## System Setup"
   ]
  },
  {
   "cell_type": "markdown",
   "metadata": {},
   "source": [
    "This notebook includes R codes and we will need the following R packages:\n",
    "- \"tidyverse\" package for data manipulation\n",
    "- \"Anomalize\" package for STL time series decomposition\n",
    "- \"ggQC\" package for drawing of XmR charts"
   ]
  },
  {
   "cell_type": "markdown",
   "metadata": {},
   "source": [
    "## Load packages"
   ]
  },
  {
   "cell_type": "code",
   "execution_count": 130,
   "metadata": {
    "scrolled": false
   },
   "outputs": [],
   "source": [
    "library(tidyverse)\n",
    "library(anomalize)\n",
    "library(ggQC)"
   ]
  },
  {
   "cell_type": "markdown",
   "metadata": {},
   "source": [
    "## Read in dataset"
   ]
  },
  {
   "cell_type": "code",
   "execution_count": 131,
   "metadata": {},
   "outputs": [
    {
     "name": "stderr",
     "output_type": "stream",
     "text": [
      "Warning message:\n",
      "“Missing column names filled in: 'X1' [1]”Parsed with column specification:\n",
      "cols(\n",
      "  X1 = col_double(),\n",
      "  Account = col_character(),\n",
      "  Month = col_date(format = \"\"),\n",
      "  Prorated_Consumption = col_double(),\n",
      "  Prorated_Charge = col_double()\n",
      ")\n"
     ]
    }
   ],
   "source": [
    "# read in the csv file which contains the prorated consumption (and/or charge) values for the energy accounts\n",
    "# tb_all = read_csv(\"../output/client2/natural_gas/natural_gas_prorated_ts.csv\")\n",
    "tb_all = read_csv(\"../output/client1/electricity_prorated_ts.csv\")\n",
    "\n",
    "\n",
    "# filter out unnecessary columns\n",
    "tb_all = select(tb_all, c('Account', 'Month', 'Prorated_Consumption', 'Prorated_Charge'))"
   ]
  },
  {
   "cell_type": "code",
   "execution_count": 132,
   "metadata": {},
   "outputs": [
    {
     "data": {
      "text/html": [
       "<table>\n",
       "<thead><tr><th scope=col>Account</th><th scope=col>Month</th><th scope=col>Prorated_Consumption</th><th scope=col>Prorated_Charge</th></tr></thead>\n",
       "<tbody>\n",
       "\t<tr><td>Building_Code-B15-Account_ID-1038</td><td>2014-12-01                       </td><td> 13410.57                        </td><td> 116.4843                        </td></tr>\n",
       "\t<tr><td>Building_Code-B15-Account_ID-1038</td><td>2015-01-01                       </td><td>208371.43                        </td><td>1808.8974                        </td></tr>\n",
       "\t<tr><td>Building_Code-B15-Account_ID-1038</td><td>2015-02-01                       </td><td>193331.29                        </td><td>1676.3237                        </td></tr>\n",
       "\t<tr><td>Building_Code-B15-Account_ID-1038</td><td>2015-03-01                       </td><td>240831.13                        </td><td>2116.4588                        </td></tr>\n",
       "\t<tr><td>Building_Code-B15-Account_ID-1038</td><td>2015-04-01                       </td><td>253343.09                        </td><td>2239.0405                        </td></tr>\n",
       "\t<tr><td>Building_Code-B15-Account_ID-1038</td><td>2015-05-01                       </td><td>325959.70                        </td><td>2898.0553                        </td></tr>\n",
       "</tbody>\n",
       "</table>\n"
      ],
      "text/latex": [
       "\\begin{tabular}{r|llll}\n",
       " Account & Month & Prorated\\_Consumption & Prorated\\_Charge\\\\\n",
       "\\hline\n",
       "\t Building\\_Code-B15-Account\\_ID-1038 & 2014-12-01                            &  13410.57                             &  116.4843                            \\\\\n",
       "\t Building\\_Code-B15-Account\\_ID-1038 & 2015-01-01                            & 208371.43                             & 1808.8974                            \\\\\n",
       "\t Building\\_Code-B15-Account\\_ID-1038 & 2015-02-01                            & 193331.29                             & 1676.3237                            \\\\\n",
       "\t Building\\_Code-B15-Account\\_ID-1038 & 2015-03-01                            & 240831.13                             & 2116.4588                            \\\\\n",
       "\t Building\\_Code-B15-Account\\_ID-1038 & 2015-04-01                            & 253343.09                             & 2239.0405                            \\\\\n",
       "\t Building\\_Code-B15-Account\\_ID-1038 & 2015-05-01                            & 325959.70                             & 2898.0553                            \\\\\n",
       "\\end{tabular}\n"
      ],
      "text/markdown": [
       "\n",
       "| Account | Month | Prorated_Consumption | Prorated_Charge |\n",
       "|---|---|---|---|\n",
       "| Building_Code-B15-Account_ID-1038 | 2014-12-01                        |  13410.57                         |  116.4843                         |\n",
       "| Building_Code-B15-Account_ID-1038 | 2015-01-01                        | 208371.43                         | 1808.8974                         |\n",
       "| Building_Code-B15-Account_ID-1038 | 2015-02-01                        | 193331.29                         | 1676.3237                         |\n",
       "| Building_Code-B15-Account_ID-1038 | 2015-03-01                        | 240831.13                         | 2116.4588                         |\n",
       "| Building_Code-B15-Account_ID-1038 | 2015-04-01                        | 253343.09                         | 2239.0405                         |\n",
       "| Building_Code-B15-Account_ID-1038 | 2015-05-01                        | 325959.70                         | 2898.0553                         |\n",
       "\n"
      ],
      "text/plain": [
       "  Account                           Month      Prorated_Consumption\n",
       "1 Building_Code-B15-Account_ID-1038 2014-12-01  13410.57           \n",
       "2 Building_Code-B15-Account_ID-1038 2015-01-01 208371.43           \n",
       "3 Building_Code-B15-Account_ID-1038 2015-02-01 193331.29           \n",
       "4 Building_Code-B15-Account_ID-1038 2015-03-01 240831.13           \n",
       "5 Building_Code-B15-Account_ID-1038 2015-04-01 253343.09           \n",
       "6 Building_Code-B15-Account_ID-1038 2015-05-01 325959.70           \n",
       "  Prorated_Charge\n",
       "1  116.4843      \n",
       "2 1808.8974      \n",
       "3 1676.3237      \n",
       "4 2116.4588      \n",
       "5 2239.0405      \n",
       "6 2898.0553      "
      ]
     },
     "metadata": {},
     "output_type": "display_data"
    }
   ],
   "source": [
    "head(tb_all)"
   ]
  },
  {
   "cell_type": "markdown",
   "metadata": {},
   "source": [
    "### Specify metric type (consumption or charge)"
   ]
  },
  {
   "cell_type": "code",
   "execution_count": 133,
   "metadata": {},
   "outputs": [],
   "source": [
    "tb_all = select(tb_all, c('Account', 'Month', 'Prorated_Charge'))\n",
    "tb_all = rename(tb_all, Value = Prorated_Charge)"
   ]
  },
  {
   "cell_type": "markdown",
   "metadata": {},
   "source": [
    "### Get the list of account_id's in the input file"
   ]
  },
  {
   "cell_type": "code",
   "execution_count": 134,
   "metadata": {},
   "outputs": [],
   "source": [
    "accounts = tb_all %>% group_by(Account) \n",
    "accounts <- accounts %>% summarise(counts = n(), na_counts = sum(is.na(Value)))\n",
    "\n",
    "# calculate the percentage of months of missing value\n",
    "accounts <- mutate(accounts, na_perc = na_counts/counts)"
   ]
  },
  {
   "cell_type": "markdown",
   "metadata": {},
   "source": [
    "### Fill the missing values in the \"Value\" column with 0"
   ]
  },
  {
   "cell_type": "code",
   "execution_count": 135,
   "metadata": {},
   "outputs": [],
   "source": [
    "tb_all <- mutate(tb_all, Value = ifelse(is.na(Value), 0, Value))"
   ]
  },
  {
   "cell_type": "markdown",
   "metadata": {},
   "source": [
    "## Loop through all accounts to apply STL decomposition and ourlier detection methods"
   ]
  },
  {
   "cell_type": "markdown",
   "metadata": {},
   "source": [
    "### Define a function to calculate the deviation of a residual from the limit values - This will be used to rank the outliers detected based on its deviation from the boundary values"
   ]
  },
  {
   "cell_type": "code",
   "execution_count": 136,
   "metadata": {},
   "outputs": [],
   "source": [
    "cal_dev <- function(residual, upper, lower) {\n",
    "  if (residual < lower) {\n",
    "    return(lower - residual)\n",
    "  } else if (residual > upper) {\n",
    "    return(residual - upper)\n",
    "  } else {\n",
    "    return (NA)\n",
    "  }\n",
    "}"
   ]
  },
  {
   "cell_type": "markdown",
   "metadata": {},
   "source": [
    "### Loop through all the accounts\n",
    "- apply STL decomposition to an account's time series values\n",
    "- detect outliers by appling three methods applied to the residual component from the STL decomposition\n",
    "- assign anomaly label and anomaly rank to each of the outlier detected from a \"voted\" result from the step above\n",
    "    - If IQR_6X methods outputs it as an anomaly, then label is as an outlier\n",
    "    - If IQR_6X methods outputs it as a normal value, but both other two methods output it as an outlier, label it as an outlier"
   ]
  },
  {
   "cell_type": "code",
   "execution_count": 137,
   "metadata": {},
   "outputs": [],
   "source": [
    "results_stl <- vector(\"list\", length(accounts$Account)) \n",
    "\n",
    "start.time <- Sys.time()\n",
    "\n",
    "for (i in 1:length(accounts$Account)) {\n",
    "    # select the data for the input account\n",
    "    ts = select(filter(tb_all, Account == accounts$Account[[i]]), 'Month', 'Value')\n",
    "    \n",
    "    # apply STL decomposition\n",
    "    ts_anomalized <- ts %>%\n",
    "        time_decompose(Value, merge = TRUE, method = 'stl', message = FALSE)\n",
    "    \n",
    "    # rename and reorder the columns of the resulting dataframe\n",
    "    ts_anomalized$Account = accounts$Account[[i]]\n",
    "    ts_anomalized$Missing_Value = ts_anomalized$Value == 0\n",
    "    ts_anomalized <- rename(ts_anomalized, Calendar_Month = Month, Total = Value, Trend = trend, Seasonal = season\n",
    "       , Residual = remainder)\n",
    "    ts_anomalized <- ts_anomalized[, c('Account', 'Calendar_Month', 'Missing_Value', 'Total', 'Trend', 'Seasonal', 'Residual')]\n",
    "\n",
    "\n",
    "    # Calculate residuals\n",
    "    iqr_3X <- ts_anomalized %>%\n",
    "            anomalize(Residual, method = 'iqr', alpha = 0.05)\n",
    "\n",
    "    iqr_3X <- iqr_3X[, c('Account', 'Calendar_Month', 'Residual', 'Residual_l1', 'Residual_l2', 'anomaly')]\n",
    "    iqr_3X <- rename(iqr_3X, Lower = Residual_l1, Upper = Residual_l2, Anomaly = anomaly)\n",
    "    iqr_3X <- mutate(iqr_3X, Anomaly = ifelse(Anomaly == \"Yes\", TRUE, FALSE))\n",
    "\n",
    "    iqr_6X <- ts_anomalized %>%\n",
    "            anomalize(Residual, method = 'iqr', alpha = 0.025)\n",
    "\n",
    "    iqr_6X <- iqr_6X[, c('Account', 'Calendar_Month', 'Residual', 'Residual_l1', 'Residual_l2', 'anomaly')]\n",
    "    iqr_6X <- rename(iqr_6X, Lower = Residual_l1, Upper = Residual_l2, Anomaly = anomaly)\n",
    "    iqr_6X <- mutate(iqr_6X, Anomaly = ifelse(Anomaly == \"Yes\", TRUE, FALSE))\n",
    "\n",
    "    ctrl_limits <- QC_Lines(data = ts_anomalized$Residual, method = \"XmR\")  \n",
    "    ctrl_limits <- ctrl_limits[, c('xBar_one_LCL', 'xBar_one_UCL')]\n",
    "    ctrl_limits <- rename(ctrl_limits, Lower= xBar_one_LCL, Upper = xBar_one_UCL)\n",
    "    xmr_mean <- cbind(ts_anomalized[, c('Account', 'Calendar_Month', 'Residual')], ctrl_limits)\n",
    "    \n",
    "    \n",
    "    # Add deviation from limit, rank of outlier and outlier indicator\n",
    "    iqr_3X$Dev <- mapply(cal_dev, iqr_3X$Residual, iqr_3X$Upper, iqr_3X$Lower)\n",
    "    iqr_3X <- arrange(iqr_3X, desc(Dev))\n",
    "    iqr_3X$Rank = seq(1:nrow(iqr_3X))\n",
    "    if (sum(is.na(iqr_3X$Dev)) > 0) {\n",
    "       iqr_3X[is.na(iqr_3X$Dev), ]$Rank <- NA\n",
    "    }\n",
    "\n",
    "    iqr_6X$Dev <- mapply(cal_dev, iqr_6X$Residual, iqr_6X$Upper, iqr_6X$Lower)\n",
    "    iqr_6X <- arrange(iqr_6X, desc(Dev))\n",
    "    iqr_6X$Rank = seq(1:nrow(iqr_6X))\n",
    "    if (sum(is.na(iqr_6X$Dev)) > 0) {\n",
    "        iqr_6X[is.na(iqr_6X$Dev), ]$Rank <- NA\n",
    "    }\n",
    "\n",
    "    xmr_mean$Dev <- mapply(cal_dev, xmr_mean$Residual, xmr_mean$Upper, xmr_mean$Lower)\n",
    "    xmr_mean <- arrange(xmr_mean, desc(Dev))\n",
    "    xmr_mean$Rank = seq(1:nrow(xmr_mean))\n",
    "    if (sum(is.na(xmr_mean$Dev)) > 0) {\n",
    "        xmr_mean[is.na(xmr_mean$Dev), ]$Rank <- NA\n",
    "    }\n",
    "    xmr_mean <- mutate(xmr_mean, Anomaly = ifelse(is.na(Dev), FALSE, TRUE))\n",
    "    \n",
    "    \n",
    "    # rename the columns\n",
    "    iqr_3X <- rename(iqr_3X, Lower_3X = Lower, Upper_3X = Upper, Anomaly_3X = Anomaly, Dev_3X = Dev, Rank_3X = Rank)\n",
    "    iqr_6X <- rename(iqr_6X, Lower_6X = Lower, Upper_6X = Upper, Anomaly_6X = Anomaly, Dev_6X = Dev, Rank_6X = Rank)\n",
    "    xmr_mean <- rename(xmr_mean, Lower_xmr = Lower, Upper_xmr = Upper, Anomaly_xmr = Anomaly, Dev_xmr = Dev, Rank_xmr = Rank)\n",
    "\n",
    "    \n",
    "    # Combine the results of 3 methods\n",
    "    result <- \n",
    "    ts_anomalized[c('Account', 'Calendar_Month', 'Missing_Value', 'Total', 'Trend', 'Seasonal', 'Residual')] %>% \n",
    "        inner_join(iqr_3X[, -3], by = c('Account', 'Calendar_Month')) %>%\n",
    "        inner_join(iqr_6X[, -3], by = c('Account', 'Calendar_Month')) %>%\n",
    "        inner_join(xmr_mean[, -3], by = c('Account', 'Calendar_Month')) \n",
    "\n",
    "    # considered as an outlier if \n",
    "    #     1) STL_6X outputs it as an outliers OR\n",
    "    #     2) STL_6X outputs it as a normal point but both other two methods output it as an outlier\n",
    "    result <- mutate(result\n",
    "        , Anomaly_Voted = ifelse(((Anomaly_6X == TRUE) | ((Anomaly_6X == FALSE) & (Anomaly_xmr == TRUE & Anomaly_3X == TRUE))), TRUE, FALSE)\n",
    "    )\n",
    "\n",
    "    # weighted rank of the outlier\n",
    "    results_stl[[i]] <- \n",
    "        mutate(result, Rank_Weighted = ifelse(is.na(Rank_6X), (Rank_3X + Rank_xmr)/2, Rank_6X))\n",
    "\n",
    "}\n",
    "\n",
    "end.time <- Sys.time()\n",
    "time.taken.stl <- end.time - start.time"
   ]
  },
  {
   "cell_type": "markdown",
   "metadata": {},
   "source": [
    "## Calculate average runtime per account"
   ]
  },
  {
   "cell_type": "code",
   "execution_count": 138,
   "metadata": {},
   "outputs": [
    {
     "data": {
      "text/plain": [
       "Time difference of 0.09235124 secs"
      ]
     },
     "metadata": {},
     "output_type": "display_data"
    }
   ],
   "source": [
    "time.taken.stl/length(accounts$Account)"
   ]
  },
  {
   "cell_type": "markdown",
   "metadata": {},
   "source": [
    "## Get a combined data frame of the original data with anomaly indicator and anomaly rank columns"
   ]
  },
  {
   "cell_type": "code",
   "execution_count": 139,
   "metadata": {},
   "outputs": [],
   "source": [
    "result = tibble()\n",
    "\n",
    "for (i in 1:length(accounts$Account)) {\n",
    "    tmp = select(results_stl[[i]] , c('Account', 'Calendar_Month', 'Total', 'Anomaly_Voted', 'Rank_Weighted'))\n",
    "    tmp = rename(tmp, Value = Total, Month = Calendar_Month, Anomaly = Anomaly_Voted, Anomaly_Rank = Rank_Weighted)\n",
    "    result = rbind(result, tmp)\n",
    "    }"
   ]
  },
  {
   "cell_type": "markdown",
   "metadata": {},
   "source": [
    "## Save the output"
   ]
  },
  {
   "cell_type": "markdown",
   "metadata": {},
   "source": [
    "The user can then output the result to any desired directory"
   ]
  },
  {
   "cell_type": "code",
   "execution_count": 140,
   "metadata": {},
   "outputs": [],
   "source": [
    "write.table(result , file = \"../output/client1/anomaly_detection_decomposition_client1_electricity_charge.csv\")"
   ]
  }
 ],
 "metadata": {
  "kernelspec": {
   "display_name": "R",
   "language": "R",
   "name": "ir"
  },
  "language_info": {
   "codemirror_mode": "r",
   "file_extension": ".r",
   "mimetype": "text/x-r-source",
   "name": "R",
   "pygments_lexer": "r",
   "version": "3.5.2"
  }
 },
 "nbformat": 4,
 "nbformat_minor": 2
}
