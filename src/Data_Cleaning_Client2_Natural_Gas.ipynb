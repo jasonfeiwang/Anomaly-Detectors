{
 "cells": [
  {
   "cell_type": "markdown",
   "metadata": {},
   "source": [
    "# Objectives"
   ]
  },
  {
   "cell_type": "markdown",
   "metadata": {},
   "source": [
    "Clean up the natural gas billing data from Client 2 and output the prorated consumption and charge values by account and calendar month.\n",
    "\n",
    "- Input: raw data\n",
    "- Outupt: \n",
    "    - df_cleaned\n",
    "    - df_prorated\n",
    "    - df_mapping\n",
    "    - prorated_ts\n",
    "    - prorated_ts.csv"
   ]
  },
  {
   "cell_type": "markdown",
   "metadata": {},
   "source": [
    "# Step 1: Load packages and Data"
   ]
  },
  {
   "cell_type": "code",
   "execution_count": 1,
   "metadata": {},
   "outputs": [
    {
     "data": {
      "text/html": [
       "<script type=\"text/javascript\">window.PlotlyConfig = {MathJaxConfig: 'local'};</script><script type=\"text/javascript\">if (window.MathJax) {MathJax.Hub.Config({SVG: {font: \"STIX-Web\"}});}</script><script>requirejs.config({paths: { 'plotly': ['https://cdn.plot.ly/plotly-latest.min']},});if(!window._Plotly) {require(['plotly'],function(plotly) {window._Plotly=plotly;});}</script>"
      ],
      "text/vnd.plotly.v1+html": [
       "<script type=\"text/javascript\">window.PlotlyConfig = {MathJaxConfig: 'local'};</script><script type=\"text/javascript\">if (window.MathJax) {MathJax.Hub.Config({SVG: {font: \"STIX-Web\"}});}</script><script>requirejs.config({paths: { 'plotly': ['https://cdn.plot.ly/plotly-latest.min']},});if(!window._Plotly) {require(['plotly'],function(plotly) {window._Plotly=plotly;});}</script>"
      ]
     },
     "metadata": {},
     "output_type": "display_data"
    }
   ],
   "source": [
    "import pandas as pd\n",
    "import numpy as np\n",
    "import pandasql as pdsql\n",
    "import math\n",
    "\n",
    "from datetime import timedelta, datetime\n",
    "from dateutil.relativedelta import *\n",
    "\n",
    "import plotly.plotly as py\n",
    "import plotly.graph_objs as go\n",
    "from plotly.offline import init_notebook_mode, iplot\n",
    "# initiate notebook for offline plot\n",
    "init_notebook_mode(connected=True)         "
   ]
  },
  {
   "cell_type": "markdown",
   "metadata": {},
   "source": [
    "### Specify the output directory of the resulting datasets"
   ]
  },
  {
   "cell_type": "code",
   "execution_count": 2,
   "metadata": {},
   "outputs": [],
   "source": [
    "output_directory = '../output/client2/natural_gas/'"
   ]
  },
  {
   "cell_type": "code",
   "execution_count": 3,
   "metadata": {},
   "outputs": [],
   "source": [
    "file_name = \"/Users/feiwang/Desktop/capstone/anomalyDetectors/data/Client 2 - Data for UW team.xlsx\"\n",
    "xl_file = pd.ExcelFile(file_name)\n",
    "\n",
    "dfs = {sheet_name: xl_file.parse(sheet_name) \n",
    "          for sheet_name in xl_file.sheet_names}\n",
    "\n",
    "df_orig = dfs['Sheet1']"
   ]
  },
  {
   "cell_type": "markdown",
   "metadata": {},
   "source": [
    "### Add a row_id in the original dataset for debugging"
   ]
  },
  {
   "cell_type": "code",
   "execution_count": 4,
   "metadata": {},
   "outputs": [],
   "source": [
    "df_orig = df_orig.reset_index()\n",
    "df_orig.rename(columns = {'index':'row_id'}, inplace = True)"
   ]
  },
  {
   "cell_type": "markdown",
   "metadata": {},
   "source": [
    "### Create a data frame to log the rows with data quality issues."
   ]
  },
  {
   "cell_type": "code",
   "execution_count": 5,
   "metadata": {},
   "outputs": [],
   "source": [
    "df_flags = pd.DataFrame(columns = ['row_id', 'flag'])"
   ]
  },
  {
   "cell_type": "markdown",
   "metadata": {},
   "source": [
    "### Create a working dataframe and only focus on electricity bills"
   ]
  },
  {
   "cell_type": "code",
   "execution_count": 6,
   "metadata": {},
   "outputs": [],
   "source": [
    "df = df_orig.copy()"
   ]
  },
  {
   "cell_type": "code",
   "execution_count": 7,
   "metadata": {},
   "outputs": [],
   "source": [
    "df.rename(columns = {'Building ID':'Building_ID', 'Meter_ID':'Meter_Number', 'Cost':'Charge', \\\n",
    "                    'Start Date':'Service_Start_Date', 'End Date':'Service_End_Date', 'Units.1':'Units'},\\\n",
    "          inplace = True)"
   ]
  },
  {
   "cell_type": "code",
   "execution_count": 10,
   "metadata": {},
   "outputs": [],
   "source": [
    "mask = df.Fuel == 'Natural Gas'\n",
    "df = df[mask]"
   ]
  },
  {
   "cell_type": "code",
   "execution_count": null,
   "metadata": {},
   "outputs": [],
   "source": []
  },
  {
   "cell_type": "markdown",
   "metadata": {},
   "source": [
    "# Step 2: Data Cleaning & Exploration"
   ]
  },
  {
   "cell_type": "markdown",
   "metadata": {},
   "source": [
    "## Part I: Cleaning (necessary data cleaning work before prorating of consumption and charge values to calendar months)"
   ]
  },
  {
   "cell_type": "markdown",
   "metadata": {},
   "source": [
    "### 1. Remove the two columns on demand and its units since we only care about consumption & charges"
   ]
  },
  {
   "cell_type": "code",
   "execution_count": 11,
   "metadata": {},
   "outputs": [
    {
     "data": {
      "text/html": [
       "<div>\n",
       "<style scoped>\n",
       "    .dataframe tbody tr th:only-of-type {\n",
       "        vertical-align: middle;\n",
       "    }\n",
       "\n",
       "    .dataframe tbody tr th {\n",
       "        vertical-align: top;\n",
       "    }\n",
       "\n",
       "    .dataframe thead th {\n",
       "        text-align: right;\n",
       "    }\n",
       "</style>\n",
       "<table border=\"1\" class=\"dataframe\">\n",
       "  <thead>\n",
       "    <tr style=\"text-align: right;\">\n",
       "      <th></th>\n",
       "      <th>row_id</th>\n",
       "      <th>Building_ID</th>\n",
       "      <th>Fuel</th>\n",
       "      <th>Meter_Number</th>\n",
       "      <th>Account_Name</th>\n",
       "      <th>Service_Start_Date</th>\n",
       "      <th>Service_End_Date</th>\n",
       "      <th>Consumption</th>\n",
       "      <th>Units</th>\n",
       "      <th>Charge</th>\n",
       "      <th>Currency</th>\n",
       "      <th>Demand</th>\n",
       "      <th>Units</th>\n",
       "      <th>Vendor</th>\n",
       "      <th>Invoice Number</th>\n",
       "    </tr>\n",
       "  </thead>\n",
       "  <tbody>\n",
       "    <tr>\n",
       "      <th>70</th>\n",
       "      <td>70</td>\n",
       "      <td>47068</td>\n",
       "      <td>Natural Gas</td>\n",
       "      <td>MN10002</td>\n",
       "      <td>AN102</td>\n",
       "      <td>2015-12-09</td>\n",
       "      <td>2016-01-07</td>\n",
       "      <td>1750.0</td>\n",
       "      <td>therms</td>\n",
       "      <td>1137.62</td>\n",
       "      <td>USD</td>\n",
       "      <td>0.0</td>\n",
       "      <td>kW</td>\n",
       "      <td>V1</td>\n",
       "      <td>IN51</td>\n",
       "    </tr>\n",
       "    <tr>\n",
       "      <th>71</th>\n",
       "      <td>71</td>\n",
       "      <td>47068</td>\n",
       "      <td>Natural Gas</td>\n",
       "      <td>MN10002</td>\n",
       "      <td>AN102</td>\n",
       "      <td>2016-01-08</td>\n",
       "      <td>2016-02-05</td>\n",
       "      <td>927.9</td>\n",
       "      <td>therms</td>\n",
       "      <td>662.08</td>\n",
       "      <td>USD</td>\n",
       "      <td>0.0</td>\n",
       "      <td>kW</td>\n",
       "      <td>V1</td>\n",
       "      <td>IN52</td>\n",
       "    </tr>\n",
       "    <tr>\n",
       "      <th>72</th>\n",
       "      <td>72</td>\n",
       "      <td>47068</td>\n",
       "      <td>Natural Gas</td>\n",
       "      <td>MN10002</td>\n",
       "      <td>AN102</td>\n",
       "      <td>2016-02-06</td>\n",
       "      <td>2016-03-08</td>\n",
       "      <td>413.0</td>\n",
       "      <td>therms</td>\n",
       "      <td>327.38</td>\n",
       "      <td>USD</td>\n",
       "      <td>0.0</td>\n",
       "      <td>kW</td>\n",
       "      <td>V1</td>\n",
       "      <td>IN53</td>\n",
       "    </tr>\n",
       "    <tr>\n",
       "      <th>73</th>\n",
       "      <td>73</td>\n",
       "      <td>47068</td>\n",
       "      <td>Natural Gas</td>\n",
       "      <td>MN10002</td>\n",
       "      <td>AN102</td>\n",
       "      <td>2016-03-09</td>\n",
       "      <td>2016-04-06</td>\n",
       "      <td>1151.0</td>\n",
       "      <td>therms</td>\n",
       "      <td>779.35</td>\n",
       "      <td>USD</td>\n",
       "      <td>0.0</td>\n",
       "      <td>kW</td>\n",
       "      <td>V1</td>\n",
       "      <td>IN54</td>\n",
       "    </tr>\n",
       "    <tr>\n",
       "      <th>74</th>\n",
       "      <td>74</td>\n",
       "      <td>47068</td>\n",
       "      <td>Natural Gas</td>\n",
       "      <td>MN10002</td>\n",
       "      <td>AN102</td>\n",
       "      <td>2016-04-07</td>\n",
       "      <td>2016-05-06</td>\n",
       "      <td>694.0</td>\n",
       "      <td>therms</td>\n",
       "      <td>423.47</td>\n",
       "      <td>USD</td>\n",
       "      <td>0.0</td>\n",
       "      <td>kW</td>\n",
       "      <td>V1</td>\n",
       "      <td>IN55</td>\n",
       "    </tr>\n",
       "  </tbody>\n",
       "</table>\n",
       "</div>"
      ],
      "text/plain": [
       "    row_id  Building_ID         Fuel Meter_Number Account_Name  \\\n",
       "70      70        47068  Natural Gas      MN10002        AN102   \n",
       "71      71        47068  Natural Gas      MN10002        AN102   \n",
       "72      72        47068  Natural Gas      MN10002        AN102   \n",
       "73      73        47068  Natural Gas      MN10002        AN102   \n",
       "74      74        47068  Natural Gas      MN10002        AN102   \n",
       "\n",
       "   Service_Start_Date Service_End_Date  Consumption   Units   Charge Currency  \\\n",
       "70         2015-12-09       2016-01-07       1750.0  therms  1137.62      USD   \n",
       "71         2016-01-08       2016-02-05        927.9  therms   662.08      USD   \n",
       "72         2016-02-06       2016-03-08        413.0  therms   327.38      USD   \n",
       "73         2016-03-09       2016-04-06       1151.0  therms   779.35      USD   \n",
       "74         2016-04-07       2016-05-06        694.0  therms   423.47      USD   \n",
       "\n",
       "    Demand Units Vendor Invoice Number  \n",
       "70     0.0    kW     V1           IN51  \n",
       "71     0.0    kW     V1           IN52  \n",
       "72     0.0    kW     V1           IN53  \n",
       "73     0.0    kW     V1           IN54  \n",
       "74     0.0    kW     V1           IN55  "
      ]
     },
     "execution_count": 11,
     "metadata": {},
     "output_type": "execute_result"
    }
   ],
   "source": [
    "df.head()"
   ]
  },
  {
   "cell_type": "code",
   "execution_count": 12,
   "metadata": {},
   "outputs": [],
   "source": [
    "df = pd.concat([df.iloc[:, 0:11], df.iloc[:, 13:15]], axis = 1)"
   ]
  },
  {
   "cell_type": "markdown",
   "metadata": {},
   "source": [
    "### 2. Remove rows with missing values in Building_ID, Meter_Number, Service_Start_Date, Service_End_Date, Consumption or Charge (we need these columns to do value proration)"
   ]
  },
  {
   "cell_type": "code",
   "execution_count": 13,
   "metadata": {},
   "outputs": [
    {
     "data": {
      "text/plain": [
       "row_id                0\n",
       "Building_ID           0\n",
       "Fuel                  0\n",
       "Meter_Number          0\n",
       "Account_Name          0\n",
       "Service_Start_Date    0\n",
       "Service_End_Date      0\n",
       "Consumption           0\n",
       "Units                 0\n",
       "Charge                0\n",
       "Currency              0\n",
       "Vendor                0\n",
       "Invoice Number        0\n",
       "dtype: int64"
      ]
     },
     "execution_count": 13,
     "metadata": {},
     "output_type": "execute_result"
    }
   ],
   "source": [
    "df.isna().sum()"
   ]
  },
  {
   "cell_type": "markdown",
   "metadata": {},
   "source": [
    "### 3. Ensure correct data types for the six columns"
   ]
  },
  {
   "cell_type": "code",
   "execution_count": 14,
   "metadata": {},
   "outputs": [
    {
     "name": "stdout",
     "output_type": "stream",
     "text": [
      "<class 'pandas.core.frame.DataFrame'>\n",
      "Int64Index: 1637 entries, 70 to 4588\n",
      "Data columns (total 13 columns):\n",
      "row_id                1637 non-null int64\n",
      "Building_ID           1637 non-null int64\n",
      "Fuel                  1637 non-null object\n",
      "Meter_Number          1637 non-null object\n",
      "Account_Name          1637 non-null object\n",
      "Service_Start_Date    1637 non-null datetime64[ns]\n",
      "Service_End_Date      1637 non-null datetime64[ns]\n",
      "Consumption           1637 non-null float64\n",
      "Units                 1637 non-null object\n",
      "Charge                1637 non-null float64\n",
      "Currency              1637 non-null object\n",
      "Vendor                1637 non-null object\n",
      "Invoice Number        1637 non-null object\n",
      "dtypes: datetime64[ns](2), float64(2), int64(2), object(7)\n",
      "memory usage: 179.0+ KB\n"
     ]
    }
   ],
   "source": [
    "df.info()"
   ]
  },
  {
   "cell_type": "markdown",
   "metadata": {},
   "source": [
    "### 4. Ensure each Meter_number is mapped to only one Building_ID"
   ]
  },
  {
   "cell_type": "code",
   "execution_count": 15,
   "metadata": {},
   "outputs": [],
   "source": [
    "tmp = df.groupby(['Meter_Number']).agg({'Building_ID':'nunique'}).reset_index()"
   ]
  },
  {
   "cell_type": "code",
   "execution_count": 16,
   "metadata": {},
   "outputs": [
    {
     "data": {
      "text/html": [
       "<div>\n",
       "<style scoped>\n",
       "    .dataframe tbody tr th:only-of-type {\n",
       "        vertical-align: middle;\n",
       "    }\n",
       "\n",
       "    .dataframe tbody tr th {\n",
       "        vertical-align: top;\n",
       "    }\n",
       "\n",
       "    .dataframe thead th {\n",
       "        text-align: right;\n",
       "    }\n",
       "</style>\n",
       "<table border=\"1\" class=\"dataframe\">\n",
       "  <thead>\n",
       "    <tr style=\"text-align: right;\">\n",
       "      <th></th>\n",
       "      <th>Meter_Number</th>\n",
       "      <th>Building_ID</th>\n",
       "    </tr>\n",
       "  </thead>\n",
       "  <tbody>\n",
       "    <tr>\n",
       "      <th>42</th>\n",
       "      <td>MN10070</td>\n",
       "      <td>2</td>\n",
       "    </tr>\n",
       "  </tbody>\n",
       "</table>\n",
       "</div>"
      ],
      "text/plain": [
       "   Meter_Number  Building_ID\n",
       "42      MN10070            2"
      ]
     },
     "execution_count": 16,
     "metadata": {},
     "output_type": "execute_result"
    }
   ],
   "source": [
    "tmp[tmp['Building_ID'] != 1]"
   ]
  },
  {
   "cell_type": "code",
   "execution_count": 21,
   "metadata": {},
   "outputs": [],
   "source": [
    "mask = df.Meter_Number.isin(tmp[tmp['Building_ID'] != 1].Meter_Number.values)\n",
    "\n",
    "df_flags = pd.concat([df_flags, pd.DataFrame({'row_id':df.loc[mask, ].row_id.values, 'flag':'Meter_Number corresponds to multipel building_id, rows removed'})])\n",
    "\n",
    "df = df[~mask]\n",
    "df = df.reset_index(drop=True)"
   ]
  },
  {
   "cell_type": "markdown",
   "metadata": {},
   "source": [
    "### 5. Check if there needs Meter_Number merging under the same Building_ID "
   ]
  },
  {
   "cell_type": "code",
   "execution_count": 22,
   "metadata": {},
   "outputs": [],
   "source": [
    "tmp = df.groupby(['Building_ID', 'Meter_Number']).agg({'Service_Start_Date':'min', 'Service_End_Date':'max'}).reset_index()\n",
    "\n",
    "tmp.rename(columns = {'Service_Start_Date':'Min_Start_Date', 'Service_End_Date':'Max_End_Date'}, inplace = True)\n",
    "\n",
    "tmp.loc[:, 'Service_Duration'] = tmp.apply(lambda x: (x['Max_End_Date'] - x['Min_Start_Date']).days, axis = 1)\n",
    "\n",
    "df_duration = tmp.copy()\n",
    "del(tmp)"
   ]
  },
  {
   "cell_type": "code",
   "execution_count": 23,
   "metadata": {},
   "outputs": [],
   "source": [
    "tmp = pd.merge(df_duration, df_duration, on = 'Building_ID', how = 'inner')\\\n",
    "    [['Building_ID', 'Meter_Number_x', 'Meter_Number_y', 'Min_Start_Date_x', 'Max_End_Date_x', 'Min_Start_Date_y', 'Max_End_Date_y']]\n",
    "\n",
    "mask = tmp['Meter_Number_x'] != tmp['Meter_Number_y']\n",
    "tmp = tmp[mask]"
   ]
  },
  {
   "cell_type": "code",
   "execution_count": 24,
   "metadata": {},
   "outputs": [],
   "source": [
    "tmp.loc[:, 'date_diff'] = tmp.apply(lambda x: (x['Min_Start_Date_x'] - x['Max_End_Date_y']).days, axis = 1)"
   ]
  },
  {
   "cell_type": "code",
   "execution_count": 26,
   "metadata": {},
   "outputs": [],
   "source": [
    "mask = (tmp.date_diff >= -1) & (tmp.date_diff <= 1)\n",
    "df_meter_mapping = tmp[mask]"
   ]
  },
  {
   "cell_type": "markdown",
   "metadata": {},
   "source": [
    "### Find the one-to-one Meter_Number mappings, merge them in the df dataset"
   ]
  },
  {
   "cell_type": "code",
   "execution_count": 36,
   "metadata": {},
   "outputs": [],
   "source": [
    "tmp = df_meter_mapping.groupby('Meter_Number_x').count().reset_index().iloc[:, 0:2]\n",
    "tmp = tmp.rename(columns = {'Building_ID':'Count'})\n",
    "mask = df_meter_mapping.Meter_Number_x.isin(tmp[tmp.Count == 1].Meter_Number_x.values)"
   ]
  },
  {
   "cell_type": "code",
   "execution_count": 52,
   "metadata": {},
   "outputs": [],
   "source": [
    "df = df.merge(df_meter_mapping[mask][['Building_ID', 'Meter_Number_x', 'Meter_Number_y']]\\\n",
    "         , left_on = ['Building_ID', 'Meter_Number'], right_on = ['Building_ID', 'Meter_Number_x']\\\n",
    "         , how = 'left')\n",
    "\n",
    "df.loc[~df['Meter_Number_y'].isnull(), 'Meter_Number'] = df.loc[~df['Meter_Number_y'].isnull(), 'Meter_Number_y'] \n",
    "\n",
    "df.drop(['Meter_Number_x', 'Meter_Number_y'], axis = 1, inplace = True)"
   ]
  },
  {
   "cell_type": "markdown",
   "metadata": {},
   "source": [
    "### For the many-to-many Meter_Number mappings, manually check them one-by-one and do the merging"
   ]
  },
  {
   "cell_type": "code",
   "execution_count": 57,
   "metadata": {
    "collapsed": true
   },
   "outputs": [
    {
     "data": {
      "text/html": [
       "<div>\n",
       "<style scoped>\n",
       "    .dataframe tbody tr th:only-of-type {\n",
       "        vertical-align: middle;\n",
       "    }\n",
       "\n",
       "    .dataframe tbody tr th {\n",
       "        vertical-align: top;\n",
       "    }\n",
       "\n",
       "    .dataframe thead th {\n",
       "        text-align: right;\n",
       "    }\n",
       "</style>\n",
       "<table border=\"1\" class=\"dataframe\">\n",
       "  <thead>\n",
       "    <tr style=\"text-align: right;\">\n",
       "      <th></th>\n",
       "      <th>Building_ID</th>\n",
       "      <th>Meter_Number_x</th>\n",
       "      <th>Meter_Number_y</th>\n",
       "      <th>Min_Start_Date_x</th>\n",
       "      <th>Max_End_Date_x</th>\n",
       "      <th>Min_Start_Date_y</th>\n",
       "      <th>Max_End_Date_y</th>\n",
       "      <th>date_diff</th>\n",
       "    </tr>\n",
       "  </thead>\n",
       "  <tbody>\n",
       "    <tr>\n",
       "      <th>225</th>\n",
       "      <td>47092</td>\n",
       "      <td>MN10089</td>\n",
       "      <td>MN10086</td>\n",
       "      <td>2017-01-26</td>\n",
       "      <td>2018-12-24</td>\n",
       "      <td>2016-01-27</td>\n",
       "      <td>2017-01-25</td>\n",
       "      <td>1</td>\n",
       "    </tr>\n",
       "    <tr>\n",
       "      <th>226</th>\n",
       "      <td>47092</td>\n",
       "      <td>MN10089</td>\n",
       "      <td>MN10087</td>\n",
       "      <td>2017-01-26</td>\n",
       "      <td>2018-12-24</td>\n",
       "      <td>2015-12-25</td>\n",
       "      <td>2017-01-25</td>\n",
       "      <td>1</td>\n",
       "    </tr>\n",
       "    <tr>\n",
       "      <th>245</th>\n",
       "      <td>47093</td>\n",
       "      <td>MN10098</td>\n",
       "      <td>MN10096</td>\n",
       "      <td>2017-01-26</td>\n",
       "      <td>2018-12-24</td>\n",
       "      <td>2015-12-25</td>\n",
       "      <td>2017-01-25</td>\n",
       "      <td>1</td>\n",
       "    </tr>\n",
       "    <tr>\n",
       "      <th>246</th>\n",
       "      <td>47093</td>\n",
       "      <td>MN10098</td>\n",
       "      <td>MN10097</td>\n",
       "      <td>2017-01-26</td>\n",
       "      <td>2018-12-24</td>\n",
       "      <td>2016-04-03</td>\n",
       "      <td>2017-01-25</td>\n",
       "      <td>1</td>\n",
       "    </tr>\n",
       "    <tr>\n",
       "      <th>250</th>\n",
       "      <td>47093</td>\n",
       "      <td>MN10099</td>\n",
       "      <td>MN10096</td>\n",
       "      <td>2017-01-26</td>\n",
       "      <td>2018-12-24</td>\n",
       "      <td>2015-12-25</td>\n",
       "      <td>2017-01-25</td>\n",
       "      <td>1</td>\n",
       "    </tr>\n",
       "    <tr>\n",
       "      <th>251</th>\n",
       "      <td>47093</td>\n",
       "      <td>MN10099</td>\n",
       "      <td>MN10097</td>\n",
       "      <td>2017-01-26</td>\n",
       "      <td>2018-12-24</td>\n",
       "      <td>2016-04-03</td>\n",
       "      <td>2017-01-25</td>\n",
       "      <td>1</td>\n",
       "    </tr>\n",
       "    <tr>\n",
       "      <th>317</th>\n",
       "      <td>47094</td>\n",
       "      <td>MN10111</td>\n",
       "      <td>MN10108</td>\n",
       "      <td>2017-01-26</td>\n",
       "      <td>2018-12-24</td>\n",
       "      <td>2015-12-25</td>\n",
       "      <td>2017-01-25</td>\n",
       "      <td>1</td>\n",
       "    </tr>\n",
       "    <tr>\n",
       "      <th>319</th>\n",
       "      <td>47094</td>\n",
       "      <td>MN10111</td>\n",
       "      <td>MN10110</td>\n",
       "      <td>2017-01-26</td>\n",
       "      <td>2018-12-24</td>\n",
       "      <td>2016-01-28</td>\n",
       "      <td>2017-01-25</td>\n",
       "      <td>1</td>\n",
       "    </tr>\n",
       "    <tr>\n",
       "      <th>327</th>\n",
       "      <td>47094</td>\n",
       "      <td>MN10112</td>\n",
       "      <td>MN10108</td>\n",
       "      <td>2017-01-26</td>\n",
       "      <td>2018-12-24</td>\n",
       "      <td>2015-12-25</td>\n",
       "      <td>2017-01-25</td>\n",
       "      <td>1</td>\n",
       "    </tr>\n",
       "    <tr>\n",
       "      <th>329</th>\n",
       "      <td>47094</td>\n",
       "      <td>MN10112</td>\n",
       "      <td>MN10110</td>\n",
       "      <td>2017-01-26</td>\n",
       "      <td>2018-12-24</td>\n",
       "      <td>2016-01-28</td>\n",
       "      <td>2017-01-25</td>\n",
       "      <td>1</td>\n",
       "    </tr>\n",
       "    <tr>\n",
       "      <th>337</th>\n",
       "      <td>47094</td>\n",
       "      <td>MN10113</td>\n",
       "      <td>MN10108</td>\n",
       "      <td>2017-01-26</td>\n",
       "      <td>2018-12-24</td>\n",
       "      <td>2015-12-25</td>\n",
       "      <td>2017-01-25</td>\n",
       "      <td>1</td>\n",
       "    </tr>\n",
       "    <tr>\n",
       "      <th>339</th>\n",
       "      <td>47094</td>\n",
       "      <td>MN10113</td>\n",
       "      <td>MN10110</td>\n",
       "      <td>2017-01-26</td>\n",
       "      <td>2018-12-24</td>\n",
       "      <td>2016-01-28</td>\n",
       "      <td>2017-01-25</td>\n",
       "      <td>1</td>\n",
       "    </tr>\n",
       "    <tr>\n",
       "      <th>370</th>\n",
       "      <td>47095</td>\n",
       "      <td>MN10123</td>\n",
       "      <td>MN10121</td>\n",
       "      <td>2017-01-26</td>\n",
       "      <td>2018-12-24</td>\n",
       "      <td>2015-12-25</td>\n",
       "      <td>2017-01-25</td>\n",
       "      <td>1</td>\n",
       "    </tr>\n",
       "    <tr>\n",
       "      <th>371</th>\n",
       "      <td>47095</td>\n",
       "      <td>MN10123</td>\n",
       "      <td>MN10122</td>\n",
       "      <td>2017-01-26</td>\n",
       "      <td>2018-12-24</td>\n",
       "      <td>2016-01-27</td>\n",
       "      <td>2017-01-25</td>\n",
       "      <td>1</td>\n",
       "    </tr>\n",
       "    <tr>\n",
       "      <th>375</th>\n",
       "      <td>47095</td>\n",
       "      <td>MN10124</td>\n",
       "      <td>MN10121</td>\n",
       "      <td>2017-01-26</td>\n",
       "      <td>2018-12-24</td>\n",
       "      <td>2015-12-25</td>\n",
       "      <td>2017-01-25</td>\n",
       "      <td>1</td>\n",
       "    </tr>\n",
       "    <tr>\n",
       "      <th>376</th>\n",
       "      <td>47095</td>\n",
       "      <td>MN10124</td>\n",
       "      <td>MN10122</td>\n",
       "      <td>2017-01-26</td>\n",
       "      <td>2018-12-24</td>\n",
       "      <td>2016-01-27</td>\n",
       "      <td>2017-01-25</td>\n",
       "      <td>1</td>\n",
       "    </tr>\n",
       "  </tbody>\n",
       "</table>\n",
       "</div>"
      ],
      "text/plain": [
       "     Building_ID Meter_Number_x Meter_Number_y Min_Start_Date_x  \\\n",
       "225        47092        MN10089        MN10086       2017-01-26   \n",
       "226        47092        MN10089        MN10087       2017-01-26   \n",
       "245        47093        MN10098        MN10096       2017-01-26   \n",
       "246        47093        MN10098        MN10097       2017-01-26   \n",
       "250        47093        MN10099        MN10096       2017-01-26   \n",
       "251        47093        MN10099        MN10097       2017-01-26   \n",
       "317        47094        MN10111        MN10108       2017-01-26   \n",
       "319        47094        MN10111        MN10110       2017-01-26   \n",
       "327        47094        MN10112        MN10108       2017-01-26   \n",
       "329        47094        MN10112        MN10110       2017-01-26   \n",
       "337        47094        MN10113        MN10108       2017-01-26   \n",
       "339        47094        MN10113        MN10110       2017-01-26   \n",
       "370        47095        MN10123        MN10121       2017-01-26   \n",
       "371        47095        MN10123        MN10122       2017-01-26   \n",
       "375        47095        MN10124        MN10121       2017-01-26   \n",
       "376        47095        MN10124        MN10122       2017-01-26   \n",
       "\n",
       "    Max_End_Date_x Min_Start_Date_y Max_End_Date_y  date_diff  \n",
       "225     2018-12-24       2016-01-27     2017-01-25          1  \n",
       "226     2018-12-24       2015-12-25     2017-01-25          1  \n",
       "245     2018-12-24       2015-12-25     2017-01-25          1  \n",
       "246     2018-12-24       2016-04-03     2017-01-25          1  \n",
       "250     2018-12-24       2015-12-25     2017-01-25          1  \n",
       "251     2018-12-24       2016-04-03     2017-01-25          1  \n",
       "317     2018-12-24       2015-12-25     2017-01-25          1  \n",
       "319     2018-12-24       2016-01-28     2017-01-25          1  \n",
       "327     2018-12-24       2015-12-25     2017-01-25          1  \n",
       "329     2018-12-24       2016-01-28     2017-01-25          1  \n",
       "337     2018-12-24       2015-12-25     2017-01-25          1  \n",
       "339     2018-12-24       2016-01-28     2017-01-25          1  \n",
       "370     2018-12-24       2015-12-25     2017-01-25          1  \n",
       "371     2018-12-24       2016-01-27     2017-01-25          1  \n",
       "375     2018-12-24       2015-12-25     2017-01-25          1  \n",
       "376     2018-12-24       2016-01-27     2017-01-25          1  "
      ]
     },
     "execution_count": 57,
     "metadata": {},
     "output_type": "execute_result"
    }
   ],
   "source": [
    "df_meter_mapping[~mask]"
   ]
  },
  {
   "cell_type": "code",
   "execution_count": 58,
   "metadata": {},
   "outputs": [],
   "source": [
    "mask = (df.Building_ID == 47093) & (df.Meter_Number == 'MN10098')\n",
    "df.loc[mask, 'Meter_Number'] = 'MN10096'"
   ]
  },
  {
   "cell_type": "code",
   "execution_count": 59,
   "metadata": {},
   "outputs": [],
   "source": [
    "mask = (df.Building_ID == 47093) & (df.Meter_Number == 'MN10099')\n",
    "df.loc[mask, 'Meter_Number'] = 'MN10097'"
   ]
  },
  {
   "cell_type": "code",
   "execution_count": 60,
   "metadata": {},
   "outputs": [],
   "source": [
    "mask = (df.Building_ID == 47095) & (df.Meter_Number == 'MN10123')\n",
    "df.loc[mask, 'Meter_Number'] = 'MN10121'"
   ]
  },
  {
   "cell_type": "code",
   "execution_count": 61,
   "metadata": {},
   "outputs": [],
   "source": [
    "mask = (df.Building_ID == 47095) & (df.Meter_Number == 'MN10124')\n",
    "df.loc[mask, 'Meter_Number'] = 'MN10122'"
   ]
  },
  {
   "cell_type": "markdown",
   "metadata": {},
   "source": [
    "### 6. Ensure the service dates columns are correct"
   ]
  },
  {
   "cell_type": "code",
   "execution_count": 62,
   "metadata": {},
   "outputs": [],
   "source": [
    "mask = df['Service_Start_Date'] >= df['Service_End_Date']\n",
    "df_flags = pd.concat([df_flags, pd.DataFrame({'row_id':df.loc[mask, ].row_id.values, 'flag':'incorrect service dates, rows removed'})])\n",
    "df = df[~mask]\n",
    "df = df.reset_index(drop=True)"
   ]
  },
  {
   "cell_type": "markdown",
   "metadata": {},
   "source": [
    "### 7. Assign an Account ID for each row"
   ]
  },
  {
   "cell_type": "code",
   "execution_count": 63,
   "metadata": {},
   "outputs": [],
   "source": [
    "df.loc[:, 'Account'] = df.apply(lambda x: str(x['Building_ID']) + '-' + str(x['Meter_Number']), axis = 1)"
   ]
  },
  {
   "cell_type": "code",
   "execution_count": null,
   "metadata": {},
   "outputs": [],
   "source": []
  },
  {
   "cell_type": "markdown",
   "metadata": {},
   "source": [
    "## Part II: Exploration (potential data issues that do not prohibit data proration, and which we hope can be detected automatically later via our anomalty detection rules)"
   ]
  },
  {
   "cell_type": "markdown",
   "metadata": {},
   "source": [
    "### 1. Check the currency column"
   ]
  },
  {
   "cell_type": "code",
   "execution_count": 64,
   "metadata": {},
   "outputs": [
    {
     "data": {
      "text/plain": [
       "USD    1610\n",
       "Name: Currency, dtype: int64"
      ]
     },
     "execution_count": 64,
     "metadata": {},
     "output_type": "execute_result"
    }
   ],
   "source": [
    "df.Currency.value_counts()"
   ]
  },
  {
   "cell_type": "markdown",
   "metadata": {},
   "source": [
    "### 2. Check the Unit column"
   ]
  },
  {
   "cell_type": "markdown",
   "metadata": {},
   "source": [
    "#### There is no unit value with typo or caption variation"
   ]
  },
  {
   "cell_type": "code",
   "execution_count": 65,
   "metadata": {},
   "outputs": [
    {
     "data": {
      "text/plain": [
       "therms    1208\n",
       "Dth        249\n",
       "ccf         46\n",
       "MMBtu       46\n",
       "m3          39\n",
       "each        22\n",
       "Name: Units, dtype: int64"
      ]
     },
     "execution_count": 65,
     "metadata": {},
     "output_type": "execute_result"
    }
   ],
   "source": [
    "df.Units.value_counts()"
   ]
  },
  {
   "cell_type": "markdown",
   "metadata": {},
   "source": [
    "### 3. Check rows that have 0 in either consumption or cost column"
   ]
  },
  {
   "cell_type": "markdown",
   "metadata": {},
   "source": [
    "- 33% of the rows have either 0 value in consumption or cost column\n",
    "- Shall we remove them? No\n",
    "    - sometimes there is legitimate reasons (the consumption is below a certain threshold and thus there was no charge)\n",
    "    - hope our anomaly detection rules can find them without our manual effort of data cleaning"
   ]
  },
  {
   "cell_type": "code",
   "execution_count": 66,
   "metadata": {},
   "outputs": [],
   "source": [
    "mask1 = df.Consumption == 0\n",
    "mask2 = df.Charge == 0"
   ]
  },
  {
   "cell_type": "code",
   "execution_count": 67,
   "metadata": {},
   "outputs": [
    {
     "data": {
      "text/plain": [
       "0.0055900621118012426"
      ]
     },
     "execution_count": 67,
     "metadata": {},
     "output_type": "execute_result"
    }
   ],
   "source": [
    "df[mask1 & mask2].shape[0]/df.shape[0]"
   ]
  },
  {
   "cell_type": "code",
   "execution_count": 68,
   "metadata": {},
   "outputs": [
    {
     "data": {
      "text/plain": [
       "0.3279503105590062"
      ]
     },
     "execution_count": 68,
     "metadata": {},
     "output_type": "execute_result"
    }
   ],
   "source": [
    "df[mask1 & ~mask2].shape[0]/df.shape[0]"
   ]
  },
  {
   "cell_type": "code",
   "execution_count": 69,
   "metadata": {},
   "outputs": [
    {
     "data": {
      "text/plain": [
       "0.0"
      ]
     },
     "execution_count": 69,
     "metadata": {},
     "output_type": "execute_result"
    }
   ],
   "source": [
    "df[~mask1 & mask2].shape[0]/df.shape[0]"
   ]
  },
  {
   "cell_type": "code",
   "execution_count": 70,
   "metadata": {},
   "outputs": [
    {
     "data": {
      "text/plain": [
       "0.6664596273291925"
      ]
     },
     "execution_count": 70,
     "metadata": {},
     "output_type": "execute_result"
    }
   ],
   "source": [
    "df[~mask1 & ~mask2].shape[0]/df.shape[0]"
   ]
  },
  {
   "cell_type": "code",
   "execution_count": null,
   "metadata": {},
   "outputs": [],
   "source": []
  },
  {
   "cell_type": "markdown",
   "metadata": {},
   "source": [
    "### Check the overlapping of service periods"
   ]
  },
  {
   "cell_type": "code",
   "execution_count": 71,
   "metadata": {},
   "outputs": [],
   "source": [
    "# order by dataframe and assign a row number\n",
    "df = df.sort_values(by = ['Building_ID', 'Meter_Number', 'Service_Start_Date', 'Service_End_Date'], ascending=[True, True, True, True]).copy()\n",
    "df = df.reset_index(drop=True)\n",
    "df = df.reset_index()\n",
    "df.rename(columns = {'index':'row_number'}, inplace = True)\n",
    "\n",
    "prev = df.loc[:, ['row_number', 'Building_ID', 'Meter_Number', 'Service_Start_Date', 'Service_End_Date', 'Consumption', 'Charge']]\n",
    "\n",
    "prev.loc[:, 'row_number'] = prev['row_number'].map(lambda x: x + 1)\n",
    "\n",
    "\n",
    "tmp = df[['row_number', 'row_id', 'Building_ID', 'Meter_Number', 'Service_Start_Date', 'Service_End_Date', 'Consumption', 'Charge']]\\\n",
    ".merge(prev, on = ['row_number', 'Building_ID', 'Meter_Number'], how = 'left')\n",
    "\n",
    "tmp.columns = ['row_number', 'row_id', 'Building_ID', 'Meter_Number', 'Service_Start_Date',\n",
    "       'Service_End_Date', 'Consumption', 'Current_Charges', 'Service_Start_Date_Prev', 'Service_End_Date_Prev', 'Consumption_Prev', 'Current_Charges_Prev']\n",
    "\n",
    "tmp.loc[:, 'Diff_Prev'] = tmp.apply(lambda x: (x['Service_Start_Date'] - x['Service_End_Date_Prev']).days, axis = 1)"
   ]
  },
  {
   "cell_type": "code",
   "execution_count": 72,
   "metadata": {},
   "outputs": [],
   "source": [
    "rows = list(tmp[tmp.Diff_Prev < -2].row_number.values)"
   ]
  },
  {
   "cell_type": "markdown",
   "metadata": {},
   "source": [
    "### We have some bills with overlapping billing periods (2.9%)"
   ]
  },
  {
   "cell_type": "code",
   "execution_count": 73,
   "metadata": {},
   "outputs": [
    {
     "data": {
      "text/plain": [
       "0.029192546583850933"
      ]
     },
     "execution_count": 73,
     "metadata": {},
     "output_type": "execute_result"
    }
   ],
   "source": [
    "len(rows)/df.shape[0]"
   ]
  },
  {
   "cell_type": "markdown",
   "metadata": {},
   "source": [
    "### Drop the row_number field after we finish matching the adjacent rows"
   ]
  },
  {
   "cell_type": "code",
   "execution_count": 74,
   "metadata": {},
   "outputs": [],
   "source": [
    "df.drop('row_number', axis = 1, inplace = True)"
   ]
  },
  {
   "cell_type": "markdown",
   "metadata": {},
   "source": [
    "### Save a copy of the cleaned version of the dataset"
   ]
  },
  {
   "cell_type": "code",
   "execution_count": 75,
   "metadata": {},
   "outputs": [],
   "source": [
    "df_cleaned = df.copy()"
   ]
  },
  {
   "cell_type": "code",
   "execution_count": null,
   "metadata": {},
   "outputs": [],
   "source": []
  },
  {
   "cell_type": "markdown",
   "metadata": {},
   "source": [
    "# Step 4: Prorate the bills to calendar months"
   ]
  },
  {
   "cell_type": "markdown",
   "metadata": {},
   "source": [
    "### Check if the service_end_date is inclusive for each bill"
   ]
  },
  {
   "cell_type": "code",
   "execution_count": 76,
   "metadata": {},
   "outputs": [],
   "source": [
    "# order by dataframe and assign a row number\n",
    "df = df.sort_values(by = ['Building_ID', 'Meter_Number', 'Service_Start_Date', 'Service_End_Date'], ascending=[True, True, True, True]).copy()\n",
    "df = df.reset_index(drop=True)\n",
    "df = df.reset_index()\n",
    "df.rename(columns = {'index':'row_number'}, inplace = True)"
   ]
  },
  {
   "cell_type": "code",
   "execution_count": 77,
   "metadata": {},
   "outputs": [],
   "source": [
    "cols = ['row_number', 'row_id', 'Account', \\\n",
    "        'Service_Start_Date', 'Service_End_Date', 'Consumption', 'Charge']\n",
    "df = df[cols]"
   ]
  },
  {
   "cell_type": "code",
   "execution_count": 78,
   "metadata": {},
   "outputs": [],
   "source": [
    "df_next = df.loc[:, ['row_number', 'Account', 'Service_Start_Date', 'Service_End_Date']]\n",
    "df_next.loc[:, 'row_number'] = df_next.row_number.map(lambda x: x - 1)\n",
    "\n",
    "tmp = df.merge(df_next, on = ['row_number', 'Account'], how = 'left')"
   ]
  },
  {
   "cell_type": "code",
   "execution_count": 79,
   "metadata": {},
   "outputs": [],
   "source": [
    "tmp.columns = ['row_number', 'row_id', 'Account', \n",
    "       'Service_Start_Date', 'Service_End_Date', 'Consumption', 'Charge',\n",
    "       'Service_Start_Date_Next', 'Service_End_Date_Next']\n",
    "\n",
    "tmp.loc[:, 'Diff_Next'] = tmp.apply(lambda x: (x['Service_Start_Date_Next'] - x['Service_End_Date']).days, axis = 1)"
   ]
  },
  {
   "cell_type": "code",
   "execution_count": 80,
   "metadata": {},
   "outputs": [],
   "source": [
    "df = tmp.copy()\n",
    "del(tmp)"
   ]
  },
  {
   "cell_type": "markdown",
   "metadata": {},
   "source": [
    "### Most cases, the start_date of the next bill is 1 day after the end_date of the previous bill (end_date is inclusive)"
   ]
  },
  {
   "cell_type": "code",
   "execution_count": 81,
   "metadata": {},
   "outputs": [
    {
     "data": {
      "text/plain": [
       "-89.0       1\n",
       "-58.0       9\n",
       "-30.0      10\n",
       "-29.0      16\n",
       "-28.0       8\n",
       "-27.0       2\n",
       "-6.0        1\n",
       " 0.0       15\n",
       " 1.0     1467\n",
       " 9.0        1\n",
       " 31.0       1\n",
       " 59.0       1\n",
       "Name: Diff_Next, dtype: int64"
      ]
     },
     "execution_count": 81,
     "metadata": {},
     "output_type": "execute_result"
    }
   ],
   "source": [
    "df.Diff_Next.value_counts().sort_index()"
   ]
  },
  {
   "cell_type": "markdown",
   "metadata": {},
   "source": [
    "### Add the month associated with service_start_date and service_end_date"
   ]
  },
  {
   "cell_type": "code",
   "execution_count": 82,
   "metadata": {},
   "outputs": [],
   "source": [
    "df['Start_Date_Month'] = df['Service_Start_Date'].apply(\\\n",
    "  lambda x: pd.to_datetime('-'.join([str(x.year), str(x.month)])))\n",
    "\n",
    "df['End_Date_Month'] = df.apply(\\\n",
    "  lambda x: pd.to_datetime('-'.join([str(x['Service_End_Date'].year), str(x['Service_End_Date'].month)]))\\\n",
    "            if x['Diff_Next'] == 1 else pd.to_datetime('-'.join([str((x['Service_End_Date'] + relativedelta(days=-1)).year), str((x['Service_End_Date'] + relativedelta(days=-1)).month)]))\\\n",
    "            ,axis = 1)"
   ]
  },
  {
   "cell_type": "markdown",
   "metadata": {},
   "source": [
    "### Create a dataframe of the relevant columns to work on the mapping between row_id to the calendar month"
   ]
  },
  {
   "cell_type": "code",
   "execution_count": 83,
   "metadata": {},
   "outputs": [],
   "source": [
    "cols = ['row_id', 'Start_Date_Month', 'End_Date_Month']\n",
    "temp = df[cols]"
   ]
  },
  {
   "cell_type": "markdown",
   "metadata": {},
   "source": [
    "Create a new data frame to store the mapping. The dataframe will have 3 columns: 'row_id' (identifier of the bill), 'Start_Date_Month' and 'End_Date_Month'. We'll collapse the last 2 columns into 1 in order to get the associated calendar month for each bill."
   ]
  },
  {
   "cell_type": "markdown",
   "metadata": {},
   "source": [
    "First, save all the row-month mapping between row_id and its start_date_month and end_date_month to the new dataframe"
   ]
  },
  {
   "cell_type": "code",
   "execution_count": 84,
   "metadata": {},
   "outputs": [],
   "source": [
    "df_month_row_mapping = temp.copy()"
   ]
  },
  {
   "cell_type": "markdown",
   "metadata": {},
   "source": [
    "Second, there are cases where the billing window is longer than one calendar month. \n",
    "\n",
    "- So for each bill, check if the billing window is longer than one month;\n",
    "If so, save the Start_Date_Month in df_month_row_mapping and then replace it with its subsequent month until the billing window is less than one month."
   ]
  },
  {
   "cell_type": "code",
   "execution_count": 85,
   "metadata": {},
   "outputs": [
    {
     "name": "stderr",
     "output_type": "stream",
     "text": [
      "/Users/feiwang/miniconda3/envs/uwcapstone/lib/python3.7/site-packages/pandas/core/indexing.py:362: SettingWithCopyWarning:\n",
      "\n",
      "\n",
      "A value is trying to be set on a copy of a slice from a DataFrame.\n",
      "Try using .loc[row_indexer,col_indexer] = value instead\n",
      "\n",
      "See the caveats in the documentation: http://pandas.pydata.org/pandas-docs/stable/indexing.html#indexing-view-versus-copy\n",
      "\n",
      "/Users/feiwang/miniconda3/envs/uwcapstone/lib/python3.7/site-packages/pandas/core/indexing.py:543: SettingWithCopyWarning:\n",
      "\n",
      "\n",
      "A value is trying to be set on a copy of a slice from a DataFrame.\n",
      "Try using .loc[row_indexer,col_indexer] = value instead\n",
      "\n",
      "See the caveats in the documentation: http://pandas.pydata.org/pandas-docs/stable/indexing.html#indexing-view-versus-copy\n",
      "\n"
     ]
    }
   ],
   "source": [
    "while (temp.shape[0] > 0):\n",
    "    temp.loc[:, 'Start_Date_Month_Next'] = \\\n",
    "    temp['Start_Date_Month'].map(lambda x: x + relativedelta(months=+1))\n",
    "\n",
    "    temp.loc[:, 'Ind'] = \\\n",
    "    temp.apply(lambda x: 1 if x['Start_Date_Month_Next'] < x['End_Date_Month'] else 0, axis = 1)\n",
    "\n",
    "\n",
    "    mask = temp['Ind'] == 1\n",
    "    temp = temp.loc[mask,['row_id', 'Start_Date_Month_Next', 'End_Date_Month']].copy()\n",
    "    temp.columns = ['row_id', 'Start_Date_Month', 'End_Date_Month']\n",
    "\n",
    "    df_month_row_mapping = pd.concat([df_month_row_mapping, temp])"
   ]
  },
  {
   "cell_type": "markdown",
   "metadata": {},
   "source": [
    "Collapse the  'Start_Date_Month' and 'End_Date_Month' columns into one column that contains all corresponding calendar months of a given bill."
   ]
  },
  {
   "cell_type": "code",
   "execution_count": 86,
   "metadata": {},
   "outputs": [],
   "source": [
    "temp = pd.melt(df_month_row_mapping, id_vars = df_month_row_mapping.columns[0:-2].values, value_vars = df_month_row_mapping[cols].columns[-2:])\n",
    "temp.drop('variable', axis = 1, inplace = True)\n",
    "\n",
    "temp = temp.drop_duplicates()\n",
    "temp.columns  = ['row_id', 'Month']"
   ]
  },
  {
   "cell_type": "markdown",
   "metadata": {},
   "source": [
    "Add calendar month to each bill."
   ]
  },
  {
   "cell_type": "code",
   "execution_count": 87,
   "metadata": {},
   "outputs": [],
   "source": [
    "temp = pd.merge(temp, df, on = 'row_id', how = 'left')"
   ]
  },
  {
   "cell_type": "markdown",
   "metadata": {},
   "source": [
    "For each bill, calculate the number of days prorated into the corresponding calendar month."
   ]
  },
  {
   "cell_type": "code",
   "execution_count": 88,
   "metadata": {},
   "outputs": [],
   "source": [
    "temp.loc[:, 'Prorated_Days'] = \\\n",
    "temp.apply(lambda x: \\\n",
    "       (min(x['Month'] + relativedelta(months = 1), (x['Service_End_Date'] + relativedelta(days=1))) \\\n",
    "        - max(x['Service_Start_Date'], x['Month'])).days if x['Diff_Next'] == 1\\\n",
    "       else (min(x['Month'] + relativedelta(months = 1), x['Service_End_Date']) \\\n",
    "        - max(x['Service_Start_Date'], x['Month'])).days\\\n",
    "       , axis = 1) "
   ]
  },
  {
   "cell_type": "markdown",
   "metadata": {},
   "source": [
    "For each bill, calculate the number of days covered by the bill."
   ]
  },
  {
   "cell_type": "code",
   "execution_count": 89,
   "metadata": {},
   "outputs": [],
   "source": [
    "temp.loc[:, 'Bill_Duration'] = \\\n",
    "temp.apply(lambda x: (x['Service_End_Date'] + relativedelta(days=1) - x['Service_Start_Date']).days\\\n",
    "       if x['Diff_Next'] == 1\\\n",
    "       else (x['Service_End_Date'] - x['Service_Start_Date']).days\\\n",
    "       , axis = 1) "
   ]
  },
  {
   "cell_type": "markdown",
   "metadata": {},
   "source": [
    "Calculate the prorated consumption and charge values based on the prorated days and bill duration."
   ]
  },
  {
   "cell_type": "code",
   "execution_count": 90,
   "metadata": {},
   "outputs": [],
   "source": [
    "temp.loc[:, 'Prorated_Consumption'] = \\\n",
    "temp.apply(lambda x: (x['Consumption'] / x['Bill_Duration'] )* x['Prorated_Days'], axis = 1)"
   ]
  },
  {
   "cell_type": "code",
   "execution_count": 91,
   "metadata": {},
   "outputs": [],
   "source": [
    "temp.loc[:, 'Prorated_Charge'] = \\\n",
    "temp.apply(lambda x: (x['Charge'] / x['Bill_Duration'] )* x['Prorated_Days'], axis = 1)"
   ]
  },
  {
   "cell_type": "markdown",
   "metadata": {},
   "source": [
    "Save a dataframe that contains the full dataset as well as the corresponding calendar month for each bill. This dataframe will be useful to calculate the prorated consumption and charge values per account-month. Note this dataframe has more rows than the original dataset since one bill may correspond to multiple calendar months."
   ]
  },
  {
   "cell_type": "code",
   "execution_count": 92,
   "metadata": {},
   "outputs": [],
   "source": [
    "df_with_calendar_month = temp.copy()"
   ]
  },
  {
   "cell_type": "markdown",
   "metadata": {},
   "source": [
    "Aggregate the data to Account-Month level by summing up the prorated kwh consupmtion values per calendar_month."
   ]
  },
  {
   "cell_type": "code",
   "execution_count": 93,
   "metadata": {},
   "outputs": [],
   "source": [
    "df_prorated = \\\n",
    "df_with_calendar_month.groupby(['Account','Month']).\\\n",
    "    agg({'Prorated_Consumption':'sum', 'Prorated_Charge':'sum', 'Prorated_Days':'sum'}).reset_index()"
   ]
  },
  {
   "cell_type": "markdown",
   "metadata": {},
   "source": [
    "### Create a mapping table between the individual bill and account_month instance"
   ]
  },
  {
   "cell_type": "code",
   "execution_count": 94,
   "metadata": {},
   "outputs": [],
   "source": [
    "df_prorated = df_prorated.reset_index()\n",
    "\n",
    "# add row_id to the df_prorated dataset\n",
    "df_prorated.rename(columns = {'index':'row_id'}, inplace = True)\n",
    "\n",
    "df_mapping = pd.merge(df_with_calendar_month, df_prorated, on = ['Account', 'Month'], how = 'inner')[['row_id_x', 'row_id_y']]\n",
    "df_mapping.rename(columns = {'row_id_x':'row_id_account_month', 'row_id_y':'row_id_bill'}, inplace = True)"
   ]
  },
  {
   "cell_type": "markdown",
   "metadata": {},
   "source": [
    "So far for each account we've only been working on the calendar months that the accounts has billing records. We also need to map the account id to the calendar months where it should have data but were not logged or reported."
   ]
  },
  {
   "cell_type": "markdown",
   "metadata": {},
   "source": [
    "### Create a dataframe that maps the account with all the calendar months that it should have bills"
   ]
  },
  {
   "cell_type": "markdown",
   "metadata": {},
   "source": [
    "Find all unique accounts (Building_Meter) and months in the dataset."
   ]
  },
  {
   "cell_type": "code",
   "execution_count": 95,
   "metadata": {},
   "outputs": [],
   "source": [
    "accounts = df_with_calendar_month.Account.value_counts().index.values\n",
    "\n",
    "end = df_with_calendar_month['Month'].max()\n",
    "start = df_with_calendar_month['Month'].min()\n",
    "diff = (end.year - start.year) * 12 + end.month - start.month\n",
    "# list of unique months\n",
    "months = [start + relativedelta(months=x) for x in range(0, diff + 1)]"
   ]
  },
  {
   "cell_type": "markdown",
   "metadata": {},
   "source": [
    "Create a reference table with all the calendar months and the corresponding # of days in the month. "
   ]
  },
  {
   "cell_type": "code",
   "execution_count": 96,
   "metadata": {},
   "outputs": [],
   "source": [
    "month_days = [(x + relativedelta(months = 1) - x).days for x in months]\n",
    "df_month_days = pd.DataFrame({'Month':months,  'Month_#_Days':month_days})"
   ]
  },
  {
   "cell_type": "markdown",
   "metadata": {},
   "source": [
    "Now we can map the account (Building_Meter) to all the calendar months that it should have billing data (Here we assumed the account should have data in all months between the first and last calendar month that it has billing data of)."
   ]
  },
  {
   "cell_type": "code",
   "execution_count": 97,
   "metadata": {},
   "outputs": [],
   "source": [
    "df_account_month = pd.DataFrame()\n",
    "\n",
    "for j in range(len(accounts)):\n",
    "    mask = (df_with_calendar_month['Account'] == accounts[j])\n",
    "    start = df_with_calendar_month[mask]['Month'].min()\n",
    "    end = df_with_calendar_month[mask]['Month'].max()\n",
    "    start_index = months.index(start)\n",
    "    end_index = months.index(end)\n",
    "    \n",
    "    temp_df = pd.DataFrame({'Account':accounts[j], 'Month':months[start_index:end_index + 1]})\n",
    "    temp_df.loc[:, 'Month_Type'] = 'Month_In_The_Middle'\n",
    "    temp_df.loc[0, 'Month_Type'] = 'First_Month'\n",
    "    temp_df.loc[temp_df.shape[0]-1, 'Month_Type'] = 'Last_Month'\n",
    "    df_account_month = pd.concat([df_account_month, temp_df])"
   ]
  },
  {
   "cell_type": "code",
   "execution_count": 98,
   "metadata": {},
   "outputs": [],
   "source": [
    "df_account_month = pd.merge(df_account_month, df_month_days, on = ['Month'], how = 'left')"
   ]
  },
  {
   "cell_type": "markdown",
   "metadata": {},
   "source": [
    "Left join account_meter mapping table to get all months for each account."
   ]
  },
  {
   "cell_type": "code",
   "execution_count": 99,
   "metadata": {},
   "outputs": [],
   "source": [
    "df_prorated = pd.merge(df_account_month, df_prorated, on = ['Account', 'Month'], how = 'left')"
   ]
  },
  {
   "cell_type": "markdown",
   "metadata": {},
   "source": [
    "For months that the account didn't have data, fill in with NA's."
   ]
  },
  {
   "cell_type": "code",
   "execution_count": 100,
   "metadata": {},
   "outputs": [],
   "source": [
    "mask = df_prorated['Prorated_Days'].isnull()\n",
    "df_prorated.loc[mask, 'Prorated_Consumption'] = np.nan\n",
    "df_prorated.loc[mask, 'Prorated_Charge'] = np.nan\n",
    "df_prorated.loc[mask, 'NA_Ind'] = True"
   ]
  },
  {
   "cell_type": "code",
   "execution_count": null,
   "metadata": {},
   "outputs": [],
   "source": []
  },
  {
   "cell_type": "markdown",
   "metadata": {},
   "source": [
    "## Step 5: Save the datasets"
   ]
  },
  {
   "cell_type": "code",
   "execution_count": 102,
   "metadata": {},
   "outputs": [],
   "source": [
    "df_mapping.to_pickle(output_directory + 'df_mapping')\n",
    "df_prorated.to_pickle(output_directory + 'df_prorated')\n",
    "df_cleaned.to_pickle(output_directory + 'df_cleaned')\n",
    "df_orig.to_pickle(output_directory + 'df_orig')"
   ]
  },
  {
   "cell_type": "markdown",
   "metadata": {},
   "source": [
    "#### Find the accounts that have no month with missing data and at least 2 years of monthly data for anomaly analysis."
   ]
  },
  {
   "cell_type": "code",
   "execution_count": 132,
   "metadata": {},
   "outputs": [],
   "source": [
    "tmp = pd.merge(\n",
    "    df_prorated.groupby(['Account']).agg({'Month':'count'}).reset_index()\\\n",
    "    , df_prorated.groupby(['Account']).agg({'NA_Ind':'sum'}).reset_index()\\\n",
    "    , on = 'Account', how = 'inner')\n",
    "\n",
    "tmp.rename(columns = {'Month':'Count', 'NA_Ind':'NA_Count'}, inplace = True)\n",
    "mask = (tmp['NA_Count'] == 0) & (tmp['Count'] >= 24)"
   ]
  },
  {
   "cell_type": "code",
   "execution_count": 133,
   "metadata": {},
   "outputs": [],
   "source": [
    "mask = df_prorated.Account.isin(tmp[mask].Account.values)\n",
    "df_prorated[mask][['Account', 'Month', 'Prorated_Consumption', 'Prorated_Charge']].to_pickle(output_directory + 'natural_gas_prorated_ts')\n",
    "df_prorated[mask][['Account', 'Month', 'Prorated_Consumption', 'Prorated_Charge']].to_csv(output_directory + 'natural_gas_prorated_ts.csv')"
   ]
  }
 ],
 "metadata": {
  "kernelspec": {
   "display_name": "Python 3",
   "language": "python",
   "name": "python3"
  },
  "language_info": {
   "codemirror_mode": {
    "name": "ipython",
    "version": 3
   },
   "file_extension": ".py",
   "mimetype": "text/x-python",
   "name": "python",
   "nbconvert_exporter": "python",
   "pygments_lexer": "ipython3",
   "version": "3.7.2"
  }
 },
 "nbformat": 4,
 "nbformat_minor": 2
}
