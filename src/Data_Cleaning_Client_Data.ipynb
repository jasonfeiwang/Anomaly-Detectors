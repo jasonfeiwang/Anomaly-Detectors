{
 "cells": [
  {
   "cell_type": "code",
   "execution_count": 1,
   "metadata": {},
   "outputs": [
    {
     "data": {
      "text/html": [
       "<script type=\"text/javascript\">window.PlotlyConfig = {MathJaxConfig: 'local'};</script><script type=\"text/javascript\">if (window.MathJax) {MathJax.Hub.Config({SVG: {font: \"STIX-Web\"}});}</script><script>requirejs.config({paths: { 'plotly': ['https://cdn.plot.ly/plotly-latest.min']},});if(!window._Plotly) {require(['plotly'],function(plotly) {window._Plotly=plotly;});}</script>"
      ],
      "text/vnd.plotly.v1+html": [
       "<script type=\"text/javascript\">window.PlotlyConfig = {MathJaxConfig: 'local'};</script><script type=\"text/javascript\">if (window.MathJax) {MathJax.Hub.Config({SVG: {font: \"STIX-Web\"}});}</script><script>requirejs.config({paths: { 'plotly': ['https://cdn.plot.ly/plotly-latest.min']},});if(!window._Plotly) {require(['plotly'],function(plotly) {window._Plotly=plotly;});}</script>"
      ]
     },
     "metadata": {},
     "output_type": "display_data"
    }
   ],
   "source": [
    "import pandas as pd\n",
    "import numpy as np\n",
    "import pandasql as pdsql\n",
    "import math\n",
    "\n",
    "from datetime import timedelta, datetime\n",
    "from dateutil.relativedelta import *\n",
    "\n",
    "import plotly.plotly as py\n",
    "import plotly.graph_objs as go\n",
    "from plotly.offline import init_notebook_mode, iplot\n",
    "# initiate notebook for offline plot\n",
    "init_notebook_mode(connected=True)         "
   ]
  },
  {
   "cell_type": "code",
   "execution_count": 2,
   "metadata": {},
   "outputs": [],
   "source": [
    "file_name = \"../data/Client 1 - Data for UW team.xlsx\"\n",
    "xl_file = pd.ExcelFile(file_name)\n",
    "\n",
    "dfs = {sheet_name: xl_file.parse(sheet_name) \n",
    "          for sheet_name in xl_file.sheet_names}"
   ]
  },
  {
   "cell_type": "code",
   "execution_count": 3,
   "metadata": {},
   "outputs": [],
   "source": [
    "df = dfs['Sheet1']"
   ]
  },
  {
   "cell_type": "code",
   "execution_count": 10,
   "metadata": {},
   "outputs": [
    {
     "data": {
      "text/plain": [
       "True    15312\n",
       "Name: Unit, dtype: int64"
      ]
     },
     "execution_count": 10,
     "metadata": {},
     "output_type": "execute_result"
    }
   ],
   "source": [
    "df.Unit.isna().value_counts()"
   ]
  },
  {
   "cell_type": "code",
   "execution_count": 20,
   "metadata": {
    "collapsed": true
   },
   "outputs": [
    {
     "ename": "IndexError",
     "evalue": "list index out of range",
     "output_type": "error",
     "traceback": [
      "\u001b[0;31m---------------------------------------------------------------------------\u001b[0m",
      "\u001b[0;31mIndexError\u001b[0m                                Traceback (most recent call last)",
      "\u001b[0;32m<ipython-input-20-dabd88375844>\u001b[0m in \u001b[0;36m<module>\u001b[0;34m\u001b[0m\n\u001b[0;32m----> 1\u001b[0;31m \u001b[0mdf\u001b[0m\u001b[0;34m[\u001b[0m\u001b[0;34m'Consumption'\u001b[0m\u001b[0;34m]\u001b[0m\u001b[0;34m.\u001b[0m\u001b[0mapply\u001b[0m\u001b[0;34m(\u001b[0m\u001b[0;32mlambda\u001b[0m \u001b[0mx\u001b[0m\u001b[0;34m:\u001b[0m \u001b[0mstr\u001b[0m\u001b[0;34m.\u001b[0m\u001b[0msplit\u001b[0m\u001b[0;34m(\u001b[0m\u001b[0mx\u001b[0m\u001b[0;34m)\u001b[0m\u001b[0;34m[\u001b[0m\u001b[0;36m1\u001b[0m\u001b[0;34m]\u001b[0m\u001b[0;34m)\u001b[0m\u001b[0;34m\u001b[0m\u001b[0;34m\u001b[0m\u001b[0m\n\u001b[0m",
      "\u001b[0;32m~/miniconda3/envs/capstone/lib/python3.6/site-packages/pandas/core/series.py\u001b[0m in \u001b[0;36mapply\u001b[0;34m(self, func, convert_dtype, args, **kwds)\u001b[0m\n\u001b[1;32m   3192\u001b[0m             \u001b[0;32melse\u001b[0m\u001b[0;34m:\u001b[0m\u001b[0;34m\u001b[0m\u001b[0;34m\u001b[0m\u001b[0m\n\u001b[1;32m   3193\u001b[0m                 \u001b[0mvalues\u001b[0m \u001b[0;34m=\u001b[0m \u001b[0mself\u001b[0m\u001b[0;34m.\u001b[0m\u001b[0mastype\u001b[0m\u001b[0;34m(\u001b[0m\u001b[0mobject\u001b[0m\u001b[0;34m)\u001b[0m\u001b[0;34m.\u001b[0m\u001b[0mvalues\u001b[0m\u001b[0;34m\u001b[0m\u001b[0;34m\u001b[0m\u001b[0m\n\u001b[0;32m-> 3194\u001b[0;31m                 \u001b[0mmapped\u001b[0m \u001b[0;34m=\u001b[0m \u001b[0mlib\u001b[0m\u001b[0;34m.\u001b[0m\u001b[0mmap_infer\u001b[0m\u001b[0;34m(\u001b[0m\u001b[0mvalues\u001b[0m\u001b[0;34m,\u001b[0m \u001b[0mf\u001b[0m\u001b[0;34m,\u001b[0m \u001b[0mconvert\u001b[0m\u001b[0;34m=\u001b[0m\u001b[0mconvert_dtype\u001b[0m\u001b[0;34m)\u001b[0m\u001b[0;34m\u001b[0m\u001b[0;34m\u001b[0m\u001b[0m\n\u001b[0m\u001b[1;32m   3195\u001b[0m \u001b[0;34m\u001b[0m\u001b[0m\n\u001b[1;32m   3196\u001b[0m         \u001b[0;32mif\u001b[0m \u001b[0mlen\u001b[0m\u001b[0;34m(\u001b[0m\u001b[0mmapped\u001b[0m\u001b[0;34m)\u001b[0m \u001b[0;32mand\u001b[0m \u001b[0misinstance\u001b[0m\u001b[0;34m(\u001b[0m\u001b[0mmapped\u001b[0m\u001b[0;34m[\u001b[0m\u001b[0;36m0\u001b[0m\u001b[0;34m]\u001b[0m\u001b[0;34m,\u001b[0m \u001b[0mSeries\u001b[0m\u001b[0;34m)\u001b[0m\u001b[0;34m:\u001b[0m\u001b[0;34m\u001b[0m\u001b[0;34m\u001b[0m\u001b[0m\n",
      "\u001b[0;32mpandas/_libs/src/inference.pyx\u001b[0m in \u001b[0;36mpandas._libs.lib.map_infer\u001b[0;34m()\u001b[0m\n",
      "\u001b[0;32m<ipython-input-20-dabd88375844>\u001b[0m in \u001b[0;36m<lambda>\u001b[0;34m(x)\u001b[0m\n\u001b[0;32m----> 1\u001b[0;31m \u001b[0mdf\u001b[0m\u001b[0;34m[\u001b[0m\u001b[0;34m'Consumption'\u001b[0m\u001b[0;34m]\u001b[0m\u001b[0;34m.\u001b[0m\u001b[0mapply\u001b[0m\u001b[0;34m(\u001b[0m\u001b[0;32mlambda\u001b[0m \u001b[0mx\u001b[0m\u001b[0;34m:\u001b[0m \u001b[0mstr\u001b[0m\u001b[0;34m.\u001b[0m\u001b[0msplit\u001b[0m\u001b[0;34m(\u001b[0m\u001b[0mx\u001b[0m\u001b[0;34m)\u001b[0m\u001b[0;34m[\u001b[0m\u001b[0;36m1\u001b[0m\u001b[0;34m]\u001b[0m\u001b[0;34m)\u001b[0m\u001b[0;34m\u001b[0m\u001b[0;34m\u001b[0m\u001b[0m\n\u001b[0m",
      "\u001b[0;31mIndexError\u001b[0m: list index out of range"
     ]
    }
   ],
   "source": [
    "df['Consumption'].apply(lambda x: str.split(x)[1])"
   ]
  },
  {
   "cell_type": "code",
   "execution_count": 32,
   "metadata": {},
   "outputs": [
    {
     "data": {
      "text/plain": [
       "'kWh'"
      ]
     },
     "execution_count": 32,
     "metadata": {},
     "output_type": "execute_result"
    }
   ],
   "source": [
    "str.split(df.Consumption[0])[1]"
   ]
  },
  {
   "cell_type": "code",
   "execution_count": 21,
   "metadata": {
    "collapsed": true
   },
   "outputs": [
    {
     "data": {
      "text/plain": [
       "0        2,815.17 kWh\n",
       "1        4,249.74 kWh\n",
       "2        3,713.58 kWh\n",
       "3        3,387.09 kWh\n",
       "4        4,858.77 kWh\n",
       "5        4,586.43 kWh\n",
       "6        3,818.04 kWh\n",
       "7        3,586.98 kWh\n",
       "8        3,307.62 kWh\n",
       "9        4,151.55 kWh\n",
       "10       3,148.35 kWh\n",
       "11       2,442.72 kWh\n",
       "12       4,620.27 kWh\n",
       "13       4,846.65 kWh\n",
       "14       3,354.00 kWh\n",
       "15       3,576.45 kWh\n",
       "16       4,455.81 kWh\n",
       "17       3,529.74 kWh\n",
       "18       4,071.33 kWh\n",
       "19       3,010.80 kWh\n",
       "20       3,217.62 kWh\n",
       "21       5,038.77 kWh\n",
       "22       3,673.05 kWh\n",
       "23       4,317.09 kWh\n",
       "24       5,174.22 kWh\n",
       "25       4,599.63 kWh\n",
       "26       3,368.79 kWh\n",
       "27       3,394.95 kWh\n",
       "28       2,915.70 kWh\n",
       "29       2,420.00 kWh\n",
       "             ...     \n",
       "15282      341.00 kWh\n",
       "15283      486.00 kWh\n",
       "15284      722.00 kWh\n",
       "15285       75.00 kWh\n",
       "15286      921.00 kWh\n",
       "15287    1,191.00 kWh\n",
       "15288       80.00 kWh\n",
       "15289       59.00 kWh\n",
       "15290       54.00 kWh\n",
       "15291       80.00 kWh\n",
       "15292      156.00 kWh\n",
       "15293      151.00 kWh\n",
       "15294      172.00 kWh\n",
       "15295      321.00 kWh\n",
       "15296    1,051.00 kWh\n",
       "15297      598.00 kWh\n",
       "15298      440.00 kWh\n",
       "15299      915.00 kWh\n",
       "15300    1,544.00 kWh\n",
       "15301      175.00 kWh\n",
       "15302        0.00 kWh\n",
       "15303    2,182.00 kWh\n",
       "15304      153.00 kWh\n",
       "15305      556.00 kWh\n",
       "15306      218.00 kWh\n",
       "15307        0.00 kWh\n",
       "15308       21.00 kWh\n",
       "15309        0.00 kWh\n",
       "15310       17.00 kWh\n",
       "15311       12.00 kWh\n",
       "Name: Consumption, Length: 15312, dtype: object"
      ]
     },
     "execution_count": 21,
     "metadata": {},
     "output_type": "execute_result"
    }
   ],
   "source": [
    "df.Consumption"
   ]
  },
  {
   "cell_type": "code",
   "execution_count": 13,
   "metadata": {},
   "outputs": [
    {
     "data": {
      "text/plain": [
       "'2,815.17\\xa0kWh'"
      ]
     },
     "execution_count": 13,
     "metadata": {},
     "output_type": "execute_result"
    }
   ],
   "source": []
  },
  {
   "cell_type": "code",
   "execution_count": 4,
   "metadata": {},
   "outputs": [
    {
     "data": {
      "text/html": [
       "<div>\n",
       "<style scoped>\n",
       "    .dataframe tbody tr th:only-of-type {\n",
       "        vertical-align: middle;\n",
       "    }\n",
       "\n",
       "    .dataframe tbody tr th {\n",
       "        vertical-align: top;\n",
       "    }\n",
       "\n",
       "    .dataframe thead th {\n",
       "        text-align: right;\n",
       "    }\n",
       "</style>\n",
       "<table border=\"1\" class=\"dataframe\">\n",
       "  <thead>\n",
       "    <tr style=\"text-align: right;\">\n",
       "      <th></th>\n",
       "      <th>Building Code</th>\n",
       "      <th>Meter Number Account Code</th>\n",
       "      <th>Service From</th>\n",
       "      <th>Service To</th>\n",
       "      <th>Consumption</th>\n",
       "      <th>Unit</th>\n",
       "      <th>Currency</th>\n",
       "      <th>Current charges</th>\n",
       "    </tr>\n",
       "  </thead>\n",
       "  <tbody>\n",
       "    <tr>\n",
       "      <th>0</th>\n",
       "      <td>Building_Code-B1</td>\n",
       "      <td>Account_ID-1000</td>\n",
       "      <td>2015-02-17</td>\n",
       "      <td>2015-03-17</td>\n",
       "      <td>2,815.17 kWh</td>\n",
       "      <td>NaN</td>\n",
       "      <td>USD</td>\n",
       "      <td>450.43</td>\n",
       "    </tr>\n",
       "    <tr>\n",
       "      <th>1</th>\n",
       "      <td>Building_Code-B1</td>\n",
       "      <td>Account_ID-1000</td>\n",
       "      <td>2015-05-15</td>\n",
       "      <td>2015-06-16</td>\n",
       "      <td>4,249.74 kWh</td>\n",
       "      <td>NaN</td>\n",
       "      <td>USD</td>\n",
       "      <td>276.23</td>\n",
       "    </tr>\n",
       "    <tr>\n",
       "      <th>2</th>\n",
       "      <td>Building_Code-B1</td>\n",
       "      <td>Account_ID-1000</td>\n",
       "      <td>2015-11-13</td>\n",
       "      <td>2015-12-15</td>\n",
       "      <td>3,713.58 kWh</td>\n",
       "      <td>NaN</td>\n",
       "      <td>USD</td>\n",
       "      <td>215.39</td>\n",
       "    </tr>\n",
       "    <tr>\n",
       "      <th>3</th>\n",
       "      <td>Building_Code-B1</td>\n",
       "      <td>Account_ID-1000</td>\n",
       "      <td>2015-12-15</td>\n",
       "      <td>2016-01-15</td>\n",
       "      <td>3,387.09 kWh</td>\n",
       "      <td>NaN</td>\n",
       "      <td>USD</td>\n",
       "      <td>230.32</td>\n",
       "    </tr>\n",
       "    <tr>\n",
       "      <th>4</th>\n",
       "      <td>Building_Code-B1</td>\n",
       "      <td>Account_ID-1000</td>\n",
       "      <td>2016-07-19</td>\n",
       "      <td>2016-08-17</td>\n",
       "      <td>4,858.77 kWh</td>\n",
       "      <td>NaN</td>\n",
       "      <td>USD</td>\n",
       "      <td>398.42</td>\n",
       "    </tr>\n",
       "  </tbody>\n",
       "</table>\n",
       "</div>"
      ],
      "text/plain": [
       "      Building Code Meter Number Account Code Service From Service To  \\\n",
       "0  Building_Code-B1           Account_ID-1000   2015-02-17 2015-03-17   \n",
       "1  Building_Code-B1           Account_ID-1000   2015-05-15 2015-06-16   \n",
       "2  Building_Code-B1           Account_ID-1000   2015-11-13 2015-12-15   \n",
       "3  Building_Code-B1           Account_ID-1000   2015-12-15 2016-01-15   \n",
       "4  Building_Code-B1           Account_ID-1000   2016-07-19 2016-08-17   \n",
       "\n",
       "    Consumption  Unit Currency  Current charges  \n",
       "0  2,815.17 kWh   NaN      USD           450.43  \n",
       "1  4,249.74 kWh   NaN      USD           276.23  \n",
       "2  3,713.58 kWh   NaN      USD           215.39  \n",
       "3  3,387.09 kWh   NaN      USD           230.32  \n",
       "4  4,858.77 kWh   NaN      USD           398.42  "
      ]
     },
     "execution_count": 4,
     "metadata": {},
     "output_type": "execute_result"
    }
   ],
   "source": [
    "df.head()"
   ]
  }
 ],
 "metadata": {
  "kernelspec": {
   "display_name": "Python 3",
   "language": "python",
   "name": "python3"
  },
  "language_info": {
   "codemirror_mode": {
    "name": "ipython",
    "version": 3
   },
   "file_extension": ".py",
   "mimetype": "text/x-python",
   "name": "python",
   "nbconvert_exporter": "python",
   "pygments_lexer": "ipython3",
   "version": "3.6.7"
  }
 },
 "nbformat": 4,
 "nbformat_minor": 2
}
