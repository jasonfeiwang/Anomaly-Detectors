{
 "cells": [
  {
   "cell_type": "markdown",
   "metadata": {},
   "source": [
    "## Load libraries"
   ]
  },
  {
   "cell_type": "code",
   "execution_count": 1,
   "metadata": {
    "collapsed": true
   },
   "outputs": [
    {
     "name": "stderr",
     "output_type": "stream",
     "text": [
      "── Attaching packages ─────────────────────────────────────── tidyverse 1.2.1 ──\n",
      "✔ ggplot2 3.1.0     ✔ purrr   0.2.5\n",
      "✔ tibble  2.0.1     ✔ dplyr   0.7.8\n",
      "✔ tidyr   0.8.2     ✔ stringr 1.3.1\n",
      "✔ readr   1.3.1     ✔ forcats 0.3.0\n",
      "── Conflicts ────────────────────────────────────────── tidyverse_conflicts() ──\n",
      "✖ dplyr::filter() masks stats::filter()\n",
      "✖ dplyr::lag()    masks stats::lag()\n",
      "\n",
      "Attaching package: ‘tibbletime’\n",
      "\n",
      "The following object is masked from ‘package:stats’:\n",
      "\n",
      "    filter\n",
      "\n"
     ]
    }
   ],
   "source": [
    "library(tidyverse)\n",
    "library(tibbletime)\n",
    "library(anomalize)\n",
    "# library(lubridate)"
   ]
  },
  {
   "cell_type": "markdown",
   "metadata": {},
   "source": [
    "## Load the Data"
   ]
  },
  {
   "cell_type": "code",
   "execution_count": 3,
   "metadata": {
    "collapsed": true
   },
   "outputs": [
    {
     "name": "stderr",
     "output_type": "stream",
     "text": [
      "Warning message:\n",
      "“Missing column names filled in: 'X1' [1]”Parsed with column specification:\n",
      "cols(\n",
      "  X1 = col_double(),\n",
      "  Account = col_character(),\n",
      "  Month = col_date(format = \"\"),\n",
      "  Value = col_double()\n",
      ")\n"
     ]
    }
   ],
   "source": [
    "tb_all = read_csv(\"../output/NYCHA_TS.csv\")\n",
    "tb_all = select(tb_all, c('Account', 'Month', 'Value'))"
   ]
  },
  {
   "cell_type": "code",
   "execution_count": 4,
   "metadata": {},
   "outputs": [
    {
     "data": {
      "text/html": [
       "<table>\n",
       "<thead><tr><th scope=col>Account</th><th scope=col>Month</th><th scope=col>Value</th></tr></thead>\n",
       "<tbody>\n",
       "\t<tr><td>165.0 - BLD 04_99273488</td><td>2009-12-01             </td><td>67835.29               </td></tr>\n",
       "\t<tr><td>165.0 - BLD 04_99273488</td><td>2010-01-01             </td><td>68283.03               </td></tr>\n",
       "\t<tr><td>165.0 - BLD 04_99273488</td><td>2010-02-01             </td><td>61071.13               </td></tr>\n",
       "\t<tr><td>165.0 - BLD 04_99273488</td><td>2010-03-01             </td><td>58011.12               </td></tr>\n",
       "\t<tr><td>165.0 - BLD 04_99273488</td><td>2010-04-01             </td><td>55164.05               </td></tr>\n",
       "\t<tr><td>165.0 - BLD 04_99273488</td><td>2010-05-01             </td><td>58416.55               </td></tr>\n",
       "</tbody>\n",
       "</table>\n"
      ],
      "text/latex": [
       "\\begin{tabular}{r|lll}\n",
       " Account & Month & Value\\\\\n",
       "\\hline\n",
       "\t 165.0 - BLD 04\\_99273488 & 2009-12-01                & 67835.29                 \\\\\n",
       "\t 165.0 - BLD 04\\_99273488 & 2010-01-01                & 68283.03                 \\\\\n",
       "\t 165.0 - BLD 04\\_99273488 & 2010-02-01                & 61071.13                 \\\\\n",
       "\t 165.0 - BLD 04\\_99273488 & 2010-03-01                & 58011.12                 \\\\\n",
       "\t 165.0 - BLD 04\\_99273488 & 2010-04-01                & 55164.05                 \\\\\n",
       "\t 165.0 - BLD 04\\_99273488 & 2010-05-01                & 58416.55                 \\\\\n",
       "\\end{tabular}\n"
      ],
      "text/markdown": [
       "\n",
       "| Account | Month | Value |\n",
       "|---|---|---|\n",
       "| 165.0 - BLD 04_99273488 | 2009-12-01              | 67835.29                |\n",
       "| 165.0 - BLD 04_99273488 | 2010-01-01              | 68283.03                |\n",
       "| 165.0 - BLD 04_99273488 | 2010-02-01              | 61071.13                |\n",
       "| 165.0 - BLD 04_99273488 | 2010-03-01              | 58011.12                |\n",
       "| 165.0 - BLD 04_99273488 | 2010-04-01              | 55164.05                |\n",
       "| 165.0 - BLD 04_99273488 | 2010-05-01              | 58416.55                |\n",
       "\n"
      ],
      "text/plain": [
       "  Account                 Month      Value   \n",
       "1 165.0 - BLD 04_99273488 2009-12-01 67835.29\n",
       "2 165.0 - BLD 04_99273488 2010-01-01 68283.03\n",
       "3 165.0 - BLD 04_99273488 2010-02-01 61071.13\n",
       "4 165.0 - BLD 04_99273488 2010-03-01 58011.12\n",
       "5 165.0 - BLD 04_99273488 2010-04-01 55164.05\n",
       "6 165.0 - BLD 04_99273488 2010-05-01 58416.55"
      ]
     },
     "metadata": {},
     "output_type": "display_data"
    }
   ],
   "source": [
    "head(tb_all)"
   ]
  },
  {
   "cell_type": "code",
   "execution_count": null,
   "metadata": {},
   "outputs": [],
   "source": []
  },
  {
   "cell_type": "markdown",
   "metadata": {},
   "source": [
    "## Explore the Anomalize package"
   ]
  },
  {
   "cell_type": "markdown",
   "metadata": {},
   "source": [
    "#### plotting configuration for the flagged anomalies"
   ]
  },
  {
   "cell_type": "code",
   "execution_count": null,
   "metadata": {},
   "outputs": [],
   "source": [
    "# ploting function for anomaly plots\n",
    "ggsetup <- function(data) {\n",
    "    data %>%\n",
    "        ggplot(aes(rank, value, color = outlier)) +\n",
    "        geom_point() +\n",
    "        geom_line(aes(y = limit_upper), color = \"red\", linetype = 2) +\n",
    "        geom_line(aes(y = limit_lower), color = \"red\", linetype = 2) +\n",
    "        geom_text(aes(label = index), vjust = -1.25) +\n",
    "        theme_bw() +\n",
    "        scale_color_manual(values = c(\"No\" = \"#2c3e50\", \"Yes\" = \"#e31a1c\")) +\n",
    "        expand_limits(y = 13) +\n",
    "        theme(legend.position = \"bottom\")\n",
    "}"
   ]
  },
  {
   "cell_type": "markdown",
   "metadata": {},
   "source": [
    "### Example 1 - Account with no missing data"
   ]
  },
  {
   "cell_type": "markdown",
   "metadata": {},
   "source": [
    "#### Method 1: STL + IQR"
   ]
  },
  {
   "cell_type": "code",
   "execution_count": null,
   "metadata": {},
   "outputs": [],
   "source": [
    "ts =  select(filter(tb_all, Building_Meter == '165.0 - BLD 03_90327795'), 'Building_Meter', 'Month', 'Imputed_KWH')\n",
    "\n",
    "ts_anomalized <- ts %>%\n",
    "    time_decompose(Imputed_KWH, method = \"STL\", merge = TRUE) %>%\n",
    "    anomalize(remainder, method = 'iqr', alpha = 0.05) %>%\n",
    "    time_recompose()\n",
    "\n",
    "# ts_anomalized %>% glimpse()\n",
    "\n",
    "ts_anomalized$Month_Value = format(ts_anomalized$Month,\"%m\")"
   ]
  },
  {
   "cell_type": "markdown",
   "metadata": {},
   "source": [
    "#### Plot the decomposed results with outliers"
   ]
  },
  {
   "cell_type": "code",
   "execution_count": null,
   "metadata": {},
   "outputs": [],
   "source": [
    "p1 <- ts_anomalized %>%\n",
    "    plot_anomaly_decomposition(alpha_dot = 0.5) +\n",
    "    ggtitle(\"Total, Seasonal, Trend & Residuals\") \n",
    "p1"
   ]
  },
  {
   "cell_type": "markdown",
   "metadata": {},
   "source": [
    "#### Plot the anomalies by its rank of deviation"
   ]
  },
  {
   "cell_type": "code",
   "execution_count": null,
   "metadata": {},
   "outputs": [],
   "source": [
    "outliers <- iqr(ts_anomalized$remainder, verbose = TRUE)$outlier_report\n",
    "outliers %>% \n",
    "    ggsetup() +\n",
    "    ggtitle(\"Interquartile Range Method - Top outlers sorted by rank\") "
   ]
  },
  {
   "cell_type": "code",
   "execution_count": null,
   "metadata": {},
   "outputs": [],
   "source": [
    "a <- ts_anomalized[filter(outliers, outlier == 'Yes')$index, c(1,2,4,6,5,7,8,9)]\n",
    "\n",
    "a <- rename(a, Calendar_Month = Month, Total = observed, Trend = trend, Seasonal = season\n",
    "       , Residual = remainder, Residual_Lower_Limit = remainder_l1, Residual_Upper_Limit = remainder_l2)\n",
    "\n",
    "a"
   ]
  },
  {
   "cell_type": "code",
   "execution_count": null,
   "metadata": {},
   "outputs": [],
   "source": [
    "a[, c(1,2,3,4,5,6)]"
   ]
  },
  {
   "cell_type": "code",
   "execution_count": null,
   "metadata": {},
   "outputs": [],
   "source": []
  },
  {
   "cell_type": "code",
   "execution_count": null,
   "metadata": {},
   "outputs": [],
   "source": []
  },
  {
   "cell_type": "code",
   "execution_count": null,
   "metadata": {},
   "outputs": [],
   "source": []
  },
  {
   "cell_type": "code",
   "execution_count": null,
   "metadata": {},
   "outputs": [],
   "source": []
  },
  {
   "cell_type": "markdown",
   "metadata": {},
   "source": [
    "#### Method 2: Twitter + GESD"
   ]
  },
  {
   "cell_type": "code",
   "execution_count": null,
   "metadata": {},
   "outputs": [],
   "source": [
    "ts =  select(filter(tb_all, Building_Meter == '165.0 - BLD 03_90327795'), 'Building_Meter', 'Month', 'Imputed_KWH')\n",
    "\n",
    "ts_anomalized <- ts %>%\n",
    "    time_decompose(Imputed_KWH, method = \"twitter\", merge = TRUE) %>%\n",
    "    anomalize(remainder, method = 'gesd') %>%\n",
    "    time_recompose()\n",
    "\n",
    "# ts_anomalized %>% glimpse()"
   ]
  },
  {
   "cell_type": "markdown",
   "metadata": {},
   "source": [
    "The Twitter decomposition method returns more outilers than the original STL method."
   ]
  },
  {
   "cell_type": "code",
   "execution_count": null,
   "metadata": {},
   "outputs": [],
   "source": [
    "p1 <- ts_anomalized %>%\n",
    "    plot_anomaly_decomposition(alpha_dot = 0.5) +\n",
    "    ggtitle(\"Total, Seasonal, Trend & Residuals\") \n",
    "\n",
    "p1"
   ]
  },
  {
   "cell_type": "markdown",
   "metadata": {},
   "source": [
    "#### Plot the anomalies by its rank of deviation"
   ]
  },
  {
   "cell_type": "code",
   "execution_count": null,
   "metadata": {},
   "outputs": [],
   "source": [
    "outliers <- gesd(ts_anomalized$remainder, alpha = 0.05,  verbose = TRUE)$outlier_report\n",
    "outliers %>% \n",
    "    ggsetup() +\n",
    "    ggtitle(\"Generalized ESD Method - Top outlers sorted by rank\") "
   ]
  },
  {
   "cell_type": "code",
   "execution_count": null,
   "metadata": {},
   "outputs": [],
   "source": [
    "b <- ts_anomalized[filter(outliers, outlier == 'Yes')$index, c(1,2,4,6,5,7)]\n",
    "\n",
    "b <- rename(b, Calendar_Month = Month, Total = observed, Trend = median_spans, Seasonal = season, Residual = remainder)"
   ]
  },
  {
   "cell_type": "code",
   "execution_count": null,
   "metadata": {},
   "outputs": [],
   "source": [
    "b[c(1,3,4,2,5,6),]"
   ]
  },
  {
   "cell_type": "markdown",
   "metadata": {},
   "source": [
    "## Questions:"
   ]
  },
  {
   "cell_type": "markdown",
   "metadata": {},
   "source": [
    "- Why does the GESD test return outliers in this order? \n",
    "- Does the Anomalize package implemented the GESD test as suggested in the Twitter paper, using MAD instead of Median?"
   ]
  },
  {
   "cell_type": "markdown",
   "metadata": {},
   "source": [
    "### Method 3: XmR chart"
   ]
  },
  {
   "cell_type": "code",
   "execution_count": null,
   "metadata": {},
   "outputs": [],
   "source": [
    "tb =  select(filter(tb_all, Building_Meter == '165.0 - BLD 03_90327795'), 'Month', 'Imputed_KWH')"
   ]
  },
  {
   "cell_type": "code",
   "execution_count": null,
   "metadata": {},
   "outputs": [],
   "source": [
    "ts_anomalized <- tb %>%\n",
    "  time_decompose(Imputed_KWH, method = \"STL\", merge = TRUE)\n",
    "ts_anomalized <- rename(ts_anomalized, Residual = remainder)\n"
   ]
  },
  {
   "cell_type": "code",
   "execution_count": null,
   "metadata": {},
   "outputs": [],
   "source": [
    "library(ggQC)\n",
    "library(gridExtra)"
   ]
  },
  {
   "cell_type": "code",
   "execution_count": null,
   "metadata": {},
   "outputs": [],
   "source": [
    "x_Plot <- ggplot(ts_anomalized, aes(x = Month, y = Residual)) + geom_point() + geom_line() + \n",
    "  stat_QC(method = 'XmR', auto.label = T, label.digits = 2, show.1n2.sigma = F) \n",
    "\n",
    "mR_Plot <- ggplot(ts_anomalized, aes(x = Month, y = Residual)) + stat_mR() + stat_QC_labels(method=\"mR\")\n",
    "\n",
    "grid.arrange(x_Plot, mR_Plot, nrow=2)"
   ]
  },
  {
   "cell_type": "code",
   "execution_count": null,
   "metadata": {},
   "outputs": [],
   "source": [
    "# summarize the control limits\n",
    "ctrl_limits <- QC_Lines(data = ts_anomalized$Residual, method = \"XmR\")     \n",
    "ts_anomalized <- cbind(ts_anomalized, ctrl_limits)\n",
    "\n",
    "cal_dev <- function(x) {\n",
    "  if (x$Residual < x$xBar_one_LCL) {\n",
    "    return(x$xBar_one_LCL - x$Residual)\n",
    "  } else if (x$Residual > x$xBar_one_UCL) {\n",
    "    return(x$Residual - x$xBar_one_UCL)\n",
    "  } else {\n",
    "    return (NA)\n",
    "  }\n",
    "}"
   ]
  },
  {
   "cell_type": "code",
   "execution_count": null,
   "metadata": {},
   "outputs": [],
   "source": [
    "dev <- rep(NA, nrow(ts_anomalized))\n",
    "for (i in 1:nrow(ts_anomalized)) {\n",
    "  dev[[i]] <- cal_dev(ts_anomalized[i, ])\n",
    "}\n",
    "ts_anomalized$Dev = dev"
   ]
  },
  {
   "cell_type": "code",
   "execution_count": null,
   "metadata": {},
   "outputs": [],
   "source": [
    "ts_anomalized"
   ]
  },
  {
   "cell_type": "code",
   "execution_count": null,
   "metadata": {},
   "outputs": [],
   "source": [
    "anomalies <- select(arrange(filter(ts_anomalized, !is.na(Dev)), desc(Dev)), c('Month', 'Imputed_KWH', 'trend', 'season', 'Residual'))\n",
    "rename(anomalies, Total = Imputed_KWH, Trend = trend, Seasonal = season)"
   ]
  },
  {
   "cell_type": "markdown",
   "metadata": {},
   "source": [
    "### Adjust the max_anoms parameter"
   ]
  },
  {
   "cell_type": "markdown",
   "metadata": {},
   "source": [
    "#### STL + IQR"
   ]
  },
  {
   "cell_type": "markdown",
   "metadata": {},
   "source": [
    "#### cap the max_anoms"
   ]
  },
  {
   "cell_type": "code",
   "execution_count": null,
   "metadata": {},
   "outputs": [],
   "source": [
    "ts =  select(filter(tb, Building_Meter == '165.0 - BLD 03_90327795'), 'Building_Meter', 'Month', 'Imputed_KWH')\n",
    "\n",
    "ts_anomalized <- ts %>%\n",
    "    time_decompose(Imputed_KWH, method = \"STL\", merge = TRUE) %>%\n",
    "    anomalize(remainder, method = 'iqr', max_anoms = (sum(ts$Imputed_KWH == 0) + 2)/nrow(ts)) %>%\n",
    "    time_recompose()\n",
    "\n",
    "# ts_anomalized %>% glimpse()"
   ]
  },
  {
   "cell_type": "markdown",
   "metadata": {},
   "source": [
    "By specifying the max number of outliers allowed, we get exactly the amount of outliers specified. The algorithm returns data points that have the largest absolute deviations in the residual component. "
   ]
  },
  {
   "cell_type": "code",
   "execution_count": null,
   "metadata": {},
   "outputs": [],
   "source": [
    "p1 <- ts_anomalized %>%\n",
    "    plot_anomaly_decomposition(alpha_dot = 0.5) +\n",
    "    ggtitle(\"Freq/Trend = 'auto'\")\n",
    "\n",
    "p1"
   ]
  },
  {
   "cell_type": "markdown",
   "metadata": {},
   "source": [
    "#### adjust the factors multiplied by IQR"
   ]
  },
  {
   "cell_type": "code",
   "execution_count": null,
   "metadata": {},
   "outputs": [],
   "source": [
    "ts =  select(filter(tb_all, Building_Meter == '165.0 - BLD 03_90327795'), 'Building_Meter', 'Month', 'Imputed_KWH')\n",
    "\n",
    "ts_anomalized <- ts %>%\n",
    "    time_decompose(Imputed_KWH, method = \"STL\", merge = TRUE) %>%\n",
    "    anomalize(remainder, method = 'iqr', alpha = 0.025) %>%\n",
    "    time_recompose()\n",
    "\n",
    "# ts_anomalized %>% glimpse()"
   ]
  },
  {
   "cell_type": "markdown",
   "metadata": {},
   "source": [
    "By specifying the max number of outliers allowed, we get exactly the amount of outliers specified. The algorithm returns data points that have the largest absolute deviations in the residual component. "
   ]
  },
  {
   "cell_type": "code",
   "execution_count": null,
   "metadata": {},
   "outputs": [],
   "source": [
    "p1 <- ts_anomalized %>%\n",
    "    plot_anomaly_decomposition(alpha_dot = 0.5) +\n",
    "    ggtitle(\"Freq/Trend = 'auto'\")\n",
    "\n",
    "p1"
   ]
  },
  {
   "cell_type": "code",
   "execution_count": null,
   "metadata": {},
   "outputs": [],
   "source": [
    "outliers <- iqr(ts_anomalized$remainder, verbose = TRUE, alpha = 0.025)$outlier_report\n",
    "outliers %>% \n",
    "    ggsetup() +\n",
    "    ggtitle(\"Interquartile Range Method (6X IQR) - Top outlers sorted by rank\") "
   ]
  },
  {
   "cell_type": "code",
   "execution_count": null,
   "metadata": {},
   "outputs": [],
   "source": []
  },
  {
   "cell_type": "markdown",
   "metadata": {},
   "source": [
    "### Example 2 - Account with three missing values in the middle"
   ]
  },
  {
   "cell_type": "markdown",
   "metadata": {},
   "source": [
    "#### Method: STL + IQR"
   ]
  },
  {
   "cell_type": "code",
   "execution_count": null,
   "metadata": {},
   "outputs": [],
   "source": [
    "ts =  select(filter(tb, Building_Meter == '164.0 - BLD 01_96973681'), 'Building_Meter', 'Month', 'Imputed_KWH')\n",
    "\n",
    "ts_anomalized <- ts %>%\n",
    "    time_decompose(Imputed_KWH, method = 'stl', merge = TRUE) %>%\n",
    "    anomalize(remainder, method = 'iqr') %>%\n",
    "    time_recompose()"
   ]
  },
  {
   "cell_type": "code",
   "execution_count": null,
   "metadata": {},
   "outputs": [],
   "source": [
    "filter(ts_anomalized, anomaly == 'Yes')"
   ]
  },
  {
   "cell_type": "code",
   "execution_count": null,
   "metadata": {},
   "outputs": [],
   "source": [
    "p1 <- ts_anomalized %>%\n",
    "    plot_anomaly_decomposition(alpha_dot = 0.5) +\n",
    "    ggtitle(\"Freq/Trend = 'Auto'\")\n",
    "\n",
    "p1"
   ]
  },
  {
   "cell_type": "markdown",
   "metadata": {},
   "source": [
    "#### Method: Twitter + GESD"
   ]
  },
  {
   "cell_type": "code",
   "execution_count": null,
   "metadata": {},
   "outputs": [],
   "source": [
    "ts =  select(filter(tb, Building_Meter == '164.0 - BLD 01_96973681'), 'Building_Meter', 'Month', 'Imputed_KWH')\n",
    "\n",
    "ts_anomalized <- ts %>%\n",
    "    time_decompose(Imputed_KWH, method = 'twitter', merge = TRUE) %>%\n",
    "    anomalize(remainder, method = 'gesd') %>%\n",
    "    time_recompose()"
   ]
  },
  {
   "cell_type": "code",
   "execution_count": null,
   "metadata": {},
   "outputs": [],
   "source": [
    "filter(ts_anomalized, anomaly == 'Yes')"
   ]
  },
  {
   "cell_type": "code",
   "execution_count": null,
   "metadata": {},
   "outputs": [],
   "source": [
    "p1 <- ts_anomalized %>%\n",
    "    plot_anomaly_decomposition(alpha_dot = 0.5) +\n",
    "    ggtitle(\"Freq/Trend = 'auto'\")\n",
    "\n",
    "p1"
   ]
  },
  {
   "cell_type": "code",
   "execution_count": null,
   "metadata": {},
   "outputs": [],
   "source": []
  },
  {
   "cell_type": "markdown",
   "metadata": {},
   "source": [
    "## Loop through all accounts (with at least 50 months of data)"
   ]
  },
  {
   "cell_type": "markdown",
   "metadata": {},
   "source": [
    "We can do the following parameters tuning for each account:\n",
    "- Twitter vs. STL decomposition method\n",
    "- IQR vs. GESD test on residuals\n",
    "- max_anom for the upper limit of number of outliers\n",
    "- others\n",
    "\n",
    "For now, we just use the default setting and same parameter configurations for all accounts."
   ]
  },
  {
   "cell_type": "markdown",
   "metadata": {},
   "source": [
    "Only consider accounts with more than 50 months of data"
   ]
  },
  {
   "cell_type": "code",
   "execution_count": null,
   "metadata": {},
   "outputs": [],
   "source": [
    "accounts = tb_all %>% group_by(Building_Meter) %>% summarise(counts = n(), na_counts = sum(Imputed_KWH == 0))\n",
    "accounts <- filter(accounts, counts - na_counts >= 50)\n",
    "accounts <- mutate(accounts, na_perc = na_counts/counts)\n",
    "dim(accounts)\n",
    "summary(accounts$na_perc)"
   ]
  },
  {
   "cell_type": "code",
   "execution_count": null,
   "metadata": {},
   "outputs": [],
   "source": []
  },
  {
   "cell_type": "markdown",
   "metadata": {},
   "source": [
    "#### STL + IQR method"
   ]
  },
  {
   "cell_type": "code",
   "execution_count": null,
   "metadata": {},
   "outputs": [],
   "source": [
    "results_stl <- vector(\"list\", length(accounts)) \n",
    "\n",
    "start.time <- Sys.time()\n",
    "\n",
    "for (i in 1:length(accounts$Building_Meter)) {\n",
    "# for (i in 1:2) {\n",
    "    ts = select(filter(tb_all, Building_Meter == accounts$Building_Meter[[i]]), 'Month', 'Imputed_KWH')\n",
    "    ts_anomalized <- ts %>%\n",
    "        time_decompose(Imputed_KWH, merge = TRUE, method = 'stl') %>%\n",
    "        anomalize(remainder, method = 'iqr', alpha = 0.025) %>%\n",
    "        time_recompose()\n",
    "    ts_anomalized$Account = accounts$Building_Meter[[i]]\n",
    "    results_stl[[i]] <- ts_anomalized\n",
    "}\n",
    "\n",
    "end.time <- Sys.time()\n",
    "time.taken.stl <- end.time - start.time"
   ]
  },
  {
   "cell_type": "code",
   "execution_count": null,
   "metadata": {},
   "outputs": [],
   "source": [
    "for (i in 1:length(results_stl)) {\n",
    "    results_stl[[i]]$missing_value = (results_stl[[i]]$Imputed_KWH == 0)\n",
    "}"
   ]
  },
  {
   "cell_type": "code",
   "execution_count": null,
   "metadata": {},
   "outputs": [],
   "source": []
  },
  {
   "cell_type": "code",
   "execution_count": null,
   "metadata": {},
   "outputs": [],
   "source": [
    "results_stl.025 <- results_stl"
   ]
  },
  {
   "cell_type": "code",
   "execution_count": null,
   "metadata": {},
   "outputs": [],
   "source": [
    "results_stl.05 <- results_stl"
   ]
  },
  {
   "cell_type": "code",
   "execution_count": null,
   "metadata": {},
   "outputs": [],
   "source": [
    "head(results_stl.025[[4]])"
   ]
  },
  {
   "cell_type": "code",
   "execution_count": null,
   "metadata": {},
   "outputs": [],
   "source": [
    "head(results_stl.05[[4]])"
   ]
  },
  {
   "cell_type": "code",
   "execution_count": null,
   "metadata": {},
   "outputs": [],
   "source": []
  },
  {
   "cell_type": "markdown",
   "metadata": {},
   "source": [
    "### Join the two data frames, add outlier indicator according to XmR, compare all three!\n",
    "### each of the 3 methods, output the outlier rank if outlier_ind == TRUE\n",
    "### try XmR using median instead of mean for the example account"
   ]
  },
  {
   "cell_type": "code",
   "execution_count": null,
   "metadata": {},
   "outputs": [],
   "source": [
    "for (i in 1:length(results_stl)) {\n",
    "    result_stl = join(select(results_stl.025[[i]], c('Month', 'Account', Imputed_KWH)))\n",
    "}"
   ]
  },
  {
   "cell_type": "code",
   "execution_count": null,
   "metadata": {},
   "outputs": [],
   "source": []
  },
  {
   "cell_type": "markdown",
   "metadata": {},
   "source": [
    "##### Summary of the % of anomalies detected"
   ]
  },
  {
   "cell_type": "code",
   "execution_count": null,
   "metadata": {},
   "outputs": [],
   "source": [
    "points = lapply(results_stl, function(i) nrow(i))\n",
    "anoamly_counts = lapply(results_stl, function(i) nrow(filter(i, anomaly == 'Yes')))\n",
    "na_counts = lapply(results_stl, function(i) nrow(filter(i, missing_value == TRUE)))\n",
    "anomaly_non_na_counts = lapply(results_stl, function(i) nrow(filter(i, (anomaly == 'Yes') & (missing_value == FALSE))))\n",
    "\n",
    "summary_stl = tibble('account' = accounts$Building_Meter, 'points' = unlist(points)\n",
    "                     , 'na' = unlist(na_counts)\n",
    "                     , 'anomalies' = unlist(anoamly_counts), 'anomalies_non_na' = unlist(anomaly_non_na_counts)\n",
    "                    )\n",
    "summary_stl <- mutate(summary_stl, na_perc = na/points)\n",
    "summary_stl = mutate(summary_stl, anom_perc = anomalies / points)\n",
    "summary_stl <- mutate(summary_stl, diff = na + anomalies_non_na - anomalies)\n",
    "summary(summary_stl$anom_perc)"
   ]
  },
  {
   "cell_type": "code",
   "execution_count": null,
   "metadata": {},
   "outputs": [],
   "source": [
    "head(summary_stl)"
   ]
  },
  {
   "cell_type": "code",
   "execution_count": null,
   "metadata": {},
   "outputs": [],
   "source": []
  },
  {
   "cell_type": "markdown",
   "metadata": {},
   "source": [
    "#### Twitter + GESD method"
   ]
  },
  {
   "cell_type": "code",
   "execution_count": null,
   "metadata": {},
   "outputs": [],
   "source": [
    "# results_twitter <- vector(\"list\", length(accounts)) \n",
    "\n",
    "# start.time <- Sys.time()\n",
    "\n",
    "# for (i in 1:length(accounts$Building_Meter)) {\n",
    "# # for (i in 1:2) {\n",
    "#     ts = select(filter(tb, Building_Meter == accounts$Building_Meter[[i]]), 'Month', 'Imputed_KWH')\n",
    "#     ts_anomalized <- ts %>%\n",
    "#         time_decompose(Imputed_KWH, merge = TRUE, method = 'twitter') %>%\n",
    "#         anomalize(remainder, method = 'gesd', alpha = 0.05) %>%\n",
    "# #         anomalize(remainder) %>%\n",
    "#         time_recompose()\n",
    "#     ts_anomalized$Account = accounts$Building_Meter[[i]]\n",
    "#     results_twitter[[i]] <- ts_anomalized\n",
    "# }\n",
    "\n",
    "# end.time <- Sys.time()\n",
    "# time.taken.twitter <- end.time - start.time"
   ]
  },
  {
   "cell_type": "code",
   "execution_count": null,
   "metadata": {},
   "outputs": [],
   "source": [
    "# for (i in 1:length(results_twitter)) {\n",
    "#     results_twitter[[i]]$missing_value = (results_stl[[i]]$observed == 0)\n",
    "# }"
   ]
  },
  {
   "cell_type": "markdown",
   "metadata": {},
   "source": [
    "##### Summary of the % of anomalies detected"
   ]
  },
  {
   "cell_type": "code",
   "execution_count": null,
   "metadata": {},
   "outputs": [],
   "source": [
    "# points = lapply(results_twitter, function(i) nrow(i))\n",
    "# anoamly_counts = lapply(results_twitter, function(i) nrow(filter(i, anomaly == 'Yes')))\n",
    "# na_counts = lapply(results_twitter, function(i) nrow(filter(i, missing_value == TRUE)))\n",
    "# anomaly_non_na_counts = lapply(results_twitter, function(i) nrow(filter(i, (anomaly == 'Yes') & (missing_value == FALSE))))\n",
    "\n",
    "# summary_twitter = tibble('account' = accounts$Building_Meter, 'points' = unlist(points)\n",
    "#                      , 'na' = unlist(na_counts)\n",
    "#                      , 'anomalies' = unlist(anoamly_counts), 'anomalies_non_na' = unlist(anomaly_non_na_counts)\n",
    "#                     )\n",
    "# summary_twitter = mutate(summary_twitter, anom_perc = anomalies / points)\n",
    "# summary_twitter <- mutate(summary_twitter, diff = na + anomalies_non_na - anomalies)\n",
    "# summary(summary_twitter$anom_perc)"
   ]
  },
  {
   "cell_type": "code",
   "execution_count": null,
   "metadata": {},
   "outputs": [],
   "source": [
    "# i = match('56.0 - BLD 18_8572092', accounts$Building_Meter)\n",
    "# results_twitter[[i]] %>% plot_anomalies()\n",
    "# # results_stl[[i]] %>% plot_anomalies(time_recomposed = TRUE)\n",
    "# # results_stl[[i]] %>% plot_anomaly_decomposition(alpha_dot = 0.5)\n",
    "    "
   ]
  },
  {
   "cell_type": "code",
   "execution_count": null,
   "metadata": {},
   "outputs": [],
   "source": [
    "# hist(summary_twitter$anom_perc,\n",
    "#       main=\"Frequency count of % of anomalies, Twitter + GESD, Alpha = 0.05\",\n",
    "#       xlab=\"% of anomalies detected\",\n",
    "#       ylab=\"Relative frequency\",\n",
    "#       breaks=50,\n",
    "#       col=\"lightblue\",\n",
    "#       freq=FALSE)                            # freq=FALSE means to plot density, not counts\n",
    "# #       xaxt=\"yes\")                              # xaxt=\"n\" means \"x axis tick marks == no\""
   ]
  },
  {
   "cell_type": "code",
   "execution_count": null,
   "metadata": {},
   "outputs": [],
   "source": []
  },
  {
   "cell_type": "markdown",
   "metadata": {},
   "source": [
    "#### Comparing results from the two approaches"
   ]
  },
  {
   "cell_type": "code",
   "execution_count": null,
   "metadata": {},
   "outputs": [],
   "source": [
    "# summary.default <- bind_cols(summary_stl, summary_twitter)\n",
    "\n",
    "# colnames(summary.default) <- c('account', 'points', 'anomalies_stl', 'anom_perc_stl', 'account', 'points1', 'anomalies_twitter', 'anom_perc_twitter')\n",
    "\n",
    "# summary.default <- summary.default[, c('account', 'points', 'anomalies_stl', 'anom_perc_stl', 'anomalies_twitter', 'anom_perc_twitter')]\n",
    "\n",
    "# summary.default <- mutate(summary.default, anom_perc_diff = (anomalies_stl - anomalies_twitter)/points)"
   ]
  },
  {
   "cell_type": "code",
   "execution_count": null,
   "metadata": {},
   "outputs": [],
   "source": [
    "# hist(summary.default$anom_perc_diff, breaks = 100)"
   ]
  },
  {
   "cell_type": "code",
   "execution_count": null,
   "metadata": {},
   "outputs": [],
   "source": [
    "# head(filter(summary, anom_perc_diff > 0) %>% arrange(desc(anom_perc_diff)), 10)"
   ]
  },
  {
   "cell_type": "code",
   "execution_count": null,
   "metadata": {},
   "outputs": [],
   "source": [
    "# head(filter(summary, anom_perc_diff < 0) %>% arrange(desc(-anom_perc_diff)), 10)"
   ]
  },
  {
   "cell_type": "code",
   "execution_count": null,
   "metadata": {},
   "outputs": [],
   "source": [
    "# i = match('30.0 - BLD 04_8095311', accounts$Building_Meter)\n",
    "# results_stl[[i]] %>%\n",
    "#     plot_anomaly_decomposition(alpha_dot = 0.5) +\n",
    "#     ggtitle(\"STL + IQR\")\n",
    "# summary_stl[i, ]\n",
    "\n",
    "# results_twitter[[i]] %>%\n",
    "#     plot_anomaly_decomposition(alpha_dot = 0.5) +\n",
    "#     ggtitle(\"Twitter + GESD\")\n",
    "# summary_twitter[i, ]\n",
    "# i = i + 1"
   ]
  },
  {
   "cell_type": "code",
   "execution_count": null,
   "metadata": {},
   "outputs": [],
   "source": []
  },
  {
   "cell_type": "code",
   "execution_count": null,
   "metadata": {},
   "outputs": [],
   "source": []
  },
  {
   "cell_type": "markdown",
   "metadata": {},
   "source": [
    "### Save the results into rdata files"
   ]
  },
  {
   "cell_type": "markdown",
   "metadata": {},
   "source": [
    "##### default setting version "
   ]
  },
  {
   "cell_type": "code",
   "execution_count": null,
   "metadata": {},
   "outputs": [],
   "source": [
    "# results_stl.default <- results_stl\n",
    "# time.taken.stl.default <- time.taken.stl\n",
    "\n",
    "# results_twitter.default <- results_twitter\n",
    "# time.taken.twitter.default <- time.taken.twitter\n",
    "\n",
    "# summary.default <- summary\n",
    "\n",
    "# save(results_stl.default, time.taken.stl.default, results_twitter.default, time.taken.twitter.default, summary.default\n",
    "#      , file = \"decomposition_results_default_setting.RData\")"
   ]
  },
  {
   "cell_type": "code",
   "execution_count": null,
   "metadata": {},
   "outputs": [],
   "source": [
    "# load('./decomposition_results_default_setting.RData')"
   ]
  },
  {
   "cell_type": "code",
   "execution_count": null,
   "metadata": {},
   "outputs": [],
   "source": []
  },
  {
   "cell_type": "markdown",
   "metadata": {},
   "source": [
    "##### alpha = 0.025 version "
   ]
  },
  {
   "cell_type": "code",
   "execution_count": null,
   "metadata": {},
   "outputs": [],
   "source": [
    "# results_stl.025 <- results_stl\n",
    "# time.taken.stl.025 <- time.taken.stl\n",
    "\n",
    "# results_twitter.025 <- results_twitter\n",
    "# time.taken.twitter.025 <- time.taken.twitter\n",
    "\n",
    "# summary.025 <- summary\n",
    "\n",
    "# save(results_stl.025, time.taken.stl.025, results_twitter.025, time.taken.twitter.025, summary.025\n",
    "#      , file = \"decomposition_results_025.RData\")"
   ]
  },
  {
   "cell_type": "code",
   "execution_count": null,
   "metadata": {},
   "outputs": [],
   "source": [
    "# load('./decomposition_results_025.RData')"
   ]
  },
  {
   "cell_type": "code",
   "execution_count": null,
   "metadata": {},
   "outputs": [],
   "source": []
  },
  {
   "cell_type": "markdown",
   "metadata": {},
   "source": [
    "### Plot the histogram of % of anomalies detected "
   ]
  },
  {
   "cell_type": "code",
   "execution_count": null,
   "metadata": {},
   "outputs": [],
   "source": [
    "head(summary_stl)"
   ]
  },
  {
   "cell_type": "code",
   "execution_count": null,
   "metadata": {},
   "outputs": [],
   "source": [
    "hist(summary_stl$anom_perc * 100,\n",
    "      main=\"Frequency count of % of anomalies, Decomposition\",\n",
    "      xlab=\"% of anomalies detected\",\n",
    "      ylab=\"Absolute frequency\",\n",
    "#       breaks=100,\n",
    "      col=\"lightblue\",\n",
    "      freq=TRUE,                            # freq=FALSE means to plot density, not counts\n",
    "      xaxt=\"n\")                              # xaxt=\"n\" means \"x axis tick marks == no\"\n",
    "axis(side=1, at=seq(0, 25, by = 1))                        "
   ]
  },
  {
   "cell_type": "code",
   "execution_count": null,
   "metadata": {},
   "outputs": [],
   "source": [
    "hist(filter(summary_stl, na_perc == 0)$anom_perc * 100,\n",
    "      main=\"Frequency count of % of anomalies, Decomposition\",\n",
    "      xlab=\"% of anomalies detected\",\n",
    "      ylab=\"Absolute frequency\",\n",
    "#       breaks=100,\n",
    "      col=\"lightblue\",\n",
    "      freq=TRUE,                            # freq=FALSE means to plot density, not counts\n",
    "      xaxt=\"n\")                              # xaxt=\"n\" means \"x axis tick marks == no\"\n",
    "axis(side=1, at=seq(0, 20, by=1))                        "
   ]
  },
  {
   "cell_type": "markdown",
   "metadata": {},
   "source": [
    "#### Misc testing"
   ]
  },
  {
   "cell_type": "code",
   "execution_count": null,
   "metadata": {},
   "outputs": [],
   "source": [
    "filter(summary_stl, account == '1.0 - BLD 03_7177432')"
   ]
  },
  {
   "cell_type": "code",
   "execution_count": null,
   "metadata": {},
   "outputs": [],
   "source": [
    "plot(results_stl[[4]]$Imputed_KWH)"
   ]
  },
  {
   "cell_type": "code",
   "execution_count": null,
   "metadata": {},
   "outputs": [],
   "source": [
    "hist(results_stl[[4]]$remainder)"
   ]
  },
  {
   "cell_type": "code",
   "execution_count": null,
   "metadata": {},
   "outputs": [],
   "source": [
    "x_Plot <- ggplot(results_stl[[4]], aes(x = Month, y = remainder)) + geom_point() + geom_line() + \n",
    "  stat_QC(method = 'XmR', auto.label = T, label.digits = 2, show.1n2.sigma = F) \n",
    "\n",
    "mR_Plot <- ggplot(results_stl[[4]], aes(x = Month, y = remainder)) + stat_mR() + stat_QC_labels(method=\"mR\")\n",
    "\n",
    "grid.arrange(x_Plot, mR_Plot, nrow=2)"
   ]
  },
  {
   "cell_type": "code",
   "execution_count": null,
   "metadata": {},
   "outputs": [],
   "source": [
    "outliers <- iqr(results_stl[[4]]$remainder, verbose = TRUE, alpha = 0.025)$outlier_report\n",
    "outliers %>% \n",
    "    ggsetup() +\n",
    "    ggtitle(\"Interquartile Range Method (6X of IQR) - Top outlers sorted by rank\") "
   ]
  },
  {
   "cell_type": "code",
   "execution_count": null,
   "metadata": {},
   "outputs": [],
   "source": [
    "outliers <- iqr(results_stl[[4]]$remainder, verbose = TRUE, alpha = 0.05)$outlier_report\n",
    "outliers %>% \n",
    "    ggsetup() +\n",
    "    ggtitle(\"Interquartile Range Method (3X of IQR) - Top outlers sorted by rank\") "
   ]
  },
  {
   "cell_type": "code",
   "execution_count": null,
   "metadata": {},
   "outputs": [],
   "source": [
    "results_stl[[4]]"
   ]
  },
  {
   "cell_type": "code",
   "execution_count": null,
   "metadata": {},
   "outputs": [],
   "source": [
    "i = match('56.0 - BLD 18_8572092', accounts$Building_Meter)\n",
    "results_stl[[4]] %>% plot_anomalies()\n",
    "# results_stl[[i]] %>% plot_anomalies(time_recomposed = TRUE)\n",
    "# results_stl[[i]] %>% plot_anomaly_decomposition(alpha_dot = 0.5)\n",
    "    "
   ]
  },
  {
   "cell_type": "code",
   "execution_count": null,
   "metadata": {},
   "outputs": [],
   "source": []
  },
  {
   "cell_type": "markdown",
   "metadata": {},
   "source": [
    "### Load in data from other 2 approaches"
   ]
  },
  {
   "cell_type": "markdown",
   "metadata": {},
   "source": [
    "### Prophet"
   ]
  },
  {
   "cell_type": "code",
   "execution_count": null,
   "metadata": {},
   "outputs": [],
   "source": [
    "summary_prophet = read_csv(\"../../output//histogram_prophet.csv\")\n",
    "\n",
    "summary_prophet <- select(summary_prophet, c('Build_id', 'Total_Count', 'Total_Anomalies', 'Percentage'))\n",
    "\n",
    "summary_prophet <- rename(summary_prophet, account = Build_id, points = Total_Count, anomalies = Total_Anomalies, anom_perc = Percentage)"
   ]
  },
  {
   "cell_type": "code",
   "execution_count": null,
   "metadata": {},
   "outputs": [],
   "source": [
    "summary_prophet <- inner_join(summary_prophet, accounts, by = c(\"account\" = \"Building_Meter\"))"
   ]
  },
  {
   "cell_type": "code",
   "execution_count": null,
   "metadata": {},
   "outputs": [],
   "source": [
    "head(summary_prophet)"
   ]
  },
  {
   "cell_type": "markdown",
   "metadata": {},
   "source": [
    "#### all 1,740 accounts are included in the 1,916 accounts"
   ]
  },
  {
   "cell_type": "code",
   "execution_count": null,
   "metadata": {},
   "outputs": [],
   "source": [
    "dim(summary_prophet)"
   ]
  },
  {
   "cell_type": "code",
   "execution_count": null,
   "metadata": {},
   "outputs": [],
   "source": []
  },
  {
   "cell_type": "code",
   "execution_count": null,
   "metadata": {},
   "outputs": [],
   "source": [
    "summary_prophet$anom_perc"
   ]
  },
  {
   "cell_type": "code",
   "execution_count": null,
   "metadata": {},
   "outputs": [],
   "source": []
  },
  {
   "cell_type": "code",
   "execution_count": null,
   "metadata": {},
   "outputs": [],
   "source": [
    "accounts"
   ]
  },
  {
   "cell_type": "code",
   "execution_count": null,
   "metadata": {},
   "outputs": [],
   "source": [
    "hist(c(summary_prophet$anom_perc, rep(0, nrow(accounts) - length(summary_prophet$anom_perc))), \n",
    "      main=\"Frequency count of % of anomalies, Prophet\",\n",
    "      xlab=\"% of anomalies detected\",\n",
    "      ylab=\"Absolute frequency\",\n",
    "#       breaks=100,\n",
    "      col=\"lightblue\",\n",
    "      freq=TRUE,                            # freq=FALSE means to plot density, not counts\n",
    "      xaxt=\"n\")                              # xaxt=\"n\" means \"x axis tick marks == no\"\n",
    "axis(side=1, at=seq(0, 10, by=1))"
   ]
  },
  {
   "cell_type": "code",
   "execution_count": null,
   "metadata": {},
   "outputs": [],
   "source": [
    "hist(filter(summary_prophet, na_perc == 0)$anom_perc,\n",
    "      main=\"Frequency count of % of anomalies, Prophet\",\n",
    "      xlab=\"% of anomalies detected\",\n",
    "      ylab=\"Absolute frequency\",\n",
    "#       breaks=100,\n",
    "      col=\"lightblue\",\n",
    "      freq=TRUE,                            # freq=FALSE means to plot density, not counts\n",
    "      xaxt=\"n\")                              # xaxt=\"n\" means \"x axis tick marks == no\"\n",
    "axis(side=1, at=seq(0, 10, by=1))"
   ]
  },
  {
   "cell_type": "code",
   "execution_count": null,
   "metadata": {},
   "outputs": [],
   "source": [
    "hist(summary_prophet$anomalies,\n",
    "      main=\"Frequency count of # of anomalies, Prophet\",\n",
    "      xlab=\"# of anomalies detected\",\n",
    "      ylab=\"Absolute frequency\",\n",
    "      breaks=10,\n",
    "      col=\"lightblue\",\n",
    "      freq=TRUE)                            # freq=FALSE means to plot density, not counts\n",
    "#       xaxt=\"yes\")                              # xaxt=\"n\" means \"x axis tick marks == no\""
   ]
  },
  {
   "cell_type": "code",
   "execution_count": null,
   "metadata": {},
   "outputs": [],
   "source": []
  },
  {
   "cell_type": "markdown",
   "metadata": {},
   "source": [
    "### Clustering"
   ]
  },
  {
   "cell_type": "code",
   "execution_count": null,
   "metadata": {},
   "outputs": [],
   "source": [
    "summary_clustering = read_csv(\"../../output/summary_clustering.csv\")\n",
    "\n",
    "summary_clustering <- rename(summary_clustering, account = Building_Meter, non_anomalies = 'FALSE', anomalies = 'TRUE', anom_perc = PCNT)\n",
    "\n",
    "summary_clustering <- mutate(summary_clustering, points = non_anomalies + anomalies)\n",
    "\n",
    "summary_clustering <- select(summary_clustering, c('account', 'points', 'anomalies', 'anom_perc'))\n",
    "\n",
    "summary_clustering <- mutate(summary_clustering, anom_perc = round(anom_perc * 100, 8))"
   ]
  },
  {
   "cell_type": "code",
   "execution_count": null,
   "metadata": {},
   "outputs": [],
   "source": [
    "summary_clustering <- inner_join(summary_clustering, accounts, by = c(\"account\" = \"Building_Meter\"))"
   ]
  },
  {
   "cell_type": "code",
   "execution_count": null,
   "metadata": {},
   "outputs": [],
   "source": [
    "hist(summary_clustering$anom_perc,\n",
    "      main=\"Frequency count of % of anomalies, Clustering\",\n",
    "      xlab=\"% of anomalies detected\",\n",
    "      ylab=\"Absolute frequency\",\n",
    "#       breaks=1000,\n",
    "      col=\"lightblue\",\n",
    "      freq=TRUE,                            # freq=FALSE means to plot density, not counts\n",
    "      xaxt=\"n\")                              # xaxt=\"n\" means \"x axis tick marks == no\"\n",
    "axis(side=1, at=seq(0, 20, by=1))                        "
   ]
  },
  {
   "cell_type": "code",
   "execution_count": null,
   "metadata": {},
   "outputs": [],
   "source": [
    "hist(filter(summary_clustering, na_perc == 0)$anom_perc,\n",
    "      main=\"Frequency count of % of anomalies, Clustering\",\n",
    "      xlab=\"% of anomalies detected\",\n",
    "      ylab=\"Absolute frequency\",\n",
    "#       breaks=1000,\n",
    "      col=\"lightblue\",\n",
    "      freq=TRUE,                            # freq=FALSE means to plot density, not counts\n",
    "      xaxt=\"n\")                              # xaxt=\"n\" means \"x axis tick marks == no\"\n",
    "axis(side=1, at=seq(0, 20, by=1))                        "
   ]
  },
  {
   "cell_type": "code",
   "execution_count": null,
   "metadata": {},
   "outputs": [],
   "source": [
    "filter(summary_clustering, is.na(anomalies))"
   ]
  },
  {
   "cell_type": "code",
   "execution_count": null,
   "metadata": {},
   "outputs": [],
   "source": []
  },
  {
   "cell_type": "code",
   "execution_count": null,
   "metadata": {},
   "outputs": [],
   "source": []
  },
  {
   "cell_type": "markdown",
   "metadata": {},
   "source": [
    "## Explor Missing Values per account"
   ]
  },
  {
   "cell_type": "code",
   "execution_count": null,
   "metadata": {},
   "outputs": [],
   "source": [
    "accounts = tb_all %>% group_by(Account) \n",
    "accounts <- accounts %>% summarise(counts = n(), na_counts = sum(is.na(Value)))\n",
    "accounts <- mutate(accounts, na_perc = na_counts/counts)\n",
    "dim(accounts)"
   ]
  },
  {
   "cell_type": "code",
   "execution_count": null,
   "metadata": {},
   "outputs": [],
   "source": [
    "hist(accounts$na_counts, breaks = 10000)"
   ]
  },
  {
   "cell_type": "code",
   "execution_count": null,
   "metadata": {},
   "outputs": [],
   "source": [
    "data.frame(accounts)"
   ]
  },
  {
   "cell_type": "code",
   "execution_count": null,
   "metadata": {},
   "outputs": [],
   "source": []
  },
  {
   "cell_type": "code",
   "execution_count": null,
   "metadata": {},
   "outputs": [],
   "source": []
  },
  {
   "cell_type": "code",
   "execution_count": null,
   "metadata": {},
   "outputs": [],
   "source": []
  },
  {
   "cell_type": "code",
   "execution_count": null,
   "metadata": {},
   "outputs": [],
   "source": []
  },
  {
   "cell_type": "markdown",
   "metadata": {},
   "source": [
    "## Consider the case of level shifts\n",
    "- Twitter + GESD is better than STL + IQR\n",
    "- Should consider change level detection prior to decomposition"
   ]
  },
  {
   "cell_type": "markdown",
   "metadata": {},
   "source": [
    "#### Level shift in the middle\n",
    "- STL + IQR will bypass the middle level shift (can't detect the level change)\n",
    "- Twitter + GESD treats all points at the shifted level as outliers"
   ]
  },
  {
   "cell_type": "code",
   "execution_count": null,
   "metadata": {},
   "outputs": [],
   "source": [
    "ts =  select(filter(tb, Building_Meter == '165.0 - BLD 03_90327795'), 'Building_Meter', 'Month', 'Imputed_KWH')\n",
    "\n",
    "idx_outliers <- seq(50, 70)\n",
    "ts$Imputed_KWH[idx_outliers] <- ts$Imputed_KWH[idx_outliers] + mean(ts$Imputed_KWH)/2\n",
    "\n",
    "ts_anomalized_twitter <- ts %>%\n",
    "    time_decompose(Imputed_KWH, method = \"Twitter\", merge = TRUE) %>%\n",
    "    anomalize(remainder, method = 'gesd', max_anoms = 20/nrow(ts) + (nrow(ts) - 20)/nrow(ts)) %>%\n",
    "    time_recompose()\n",
    "\n",
    "ts_anomalized_stl <- ts %>%\n",
    "    time_decompose(Imputed_KWH, method = \"STL\", merge = TRUE) %>%\n",
    "    anomalize(remainder, method = 'iqr', max_anoms = 20/nrow(ts) + (nrow(ts) - 20)/nrow(ts)) %>%\n",
    "    time_recompose()\n",
    "\n",
    "# ts_anomalized %>% glimpse()"
   ]
  },
  {
   "cell_type": "code",
   "execution_count": null,
   "metadata": {},
   "outputs": [],
   "source": [
    "ts_anomalized_stl %>%\n",
    "    plot_anomalies(alpha_dots = 1) + geom_line()"
   ]
  },
  {
   "cell_type": "code",
   "execution_count": null,
   "metadata": {},
   "outputs": [],
   "source": [
    "ts_anomalized_twitter %>%\n",
    "    plot_anomalies(alpha_dots = 1) + geom_line()"
   ]
  },
  {
   "cell_type": "markdown",
   "metadata": {},
   "source": [
    "#### Level shift in the end\n",
    "- neither method perform well\n",
    "- need to apply the decomposition on the two levels separately"
   ]
  },
  {
   "cell_type": "code",
   "execution_count": null,
   "metadata": {},
   "outputs": [],
   "source": [
    "ts =  select(filter(tb, Building_Meter == '165.0 - BLD 03_90327795'), 'Building_Meter', 'Month', 'Imputed_KWH')\n",
    "\n",
    "idx_outliers <- seq(50, length(ts))\n",
    "ts$Imputed_KWH[idx_outliers] <- ts$Imputed_KWH[idx_outliers] + mean(ts$Imputed_KWH)/2\n",
    "\n",
    "ts_anomalized_twitter <- ts %>%\n",
    "    time_decompose(Imputed_KWH, method = \"Twitter\", merge = TRUE) %>%\n",
    "    anomalize(remainder, method = 'gesd') %>%\n",
    "    time_recompose()\n",
    "\n",
    "ts_anomalized_stl <- ts %>%\n",
    "    time_decompose(Imputed_KWH, method = \"STL\", merge = TRUE) %>%\n",
    "    anomalize(remainder, method = 'iqr') %>%\n",
    "    time_recompose()\n",
    "\n",
    "# ts_anomalized %>% glimpse()"
   ]
  },
  {
   "cell_type": "code",
   "execution_count": null,
   "metadata": {},
   "outputs": [],
   "source": [
    "ts_anomalized_twitter %>%\n",
    "    plot_anomaly_decomposition(alpha_dot = 0.5)"
   ]
  },
  {
   "cell_type": "code",
   "execution_count": null,
   "metadata": {},
   "outputs": [],
   "source": [
    "ts_anomalized_stl %>%\n",
    "    plot_anomaly_decomposition(alpha_dot = 0.5)"
   ]
  },
  {
   "cell_type": "code",
   "execution_count": null,
   "metadata": {},
   "outputs": [],
   "source": []
  },
  {
   "cell_type": "markdown",
   "metadata": {},
   "source": [
    "## Testing the Anomalize package"
   ]
  },
  {
   "cell_type": "markdown",
   "metadata": {},
   "source": [
    "#### Test 1 - Test the IQR test function (No issue)"
   ]
  },
  {
   "cell_type": "code",
   "execution_count": null,
   "metadata": {},
   "outputs": [],
   "source": [
    "ts =  select(filter(tb, Building_Meter == '165.0 - BLD 03_90327795'), 'Building_Meter', 'Month', 'Imputed_KWH')\n",
    "\n",
    "ts_anomalized <- ts %>%\n",
    "    time_decompose(Imputed_KWH, method = \"STL\", merge = TRUE) %>%\n",
    "    anomalize(remainder, method = 'iqr') %>%\n",
    "    time_recompose()"
   ]
  },
  {
   "cell_type": "code",
   "execution_count": null,
   "metadata": {},
   "outputs": [],
   "source": [
    "filter(ts_anomalized, anomaly == 'Yes')"
   ]
  },
  {
   "cell_type": "code",
   "execution_count": null,
   "metadata": {},
   "outputs": [],
   "source": [
    "outliers <- iqr(ts_anomalized$remainder, alpha = 0.05, max_anoms = 0.2, verbose = TRUE)$outlier_report\n",
    "\n",
    "\n",
    "outliers"
   ]
  },
  {
   "cell_type": "code",
   "execution_count": null,
   "metadata": {},
   "outputs": [],
   "source": [
    "# ploting function for anomaly plots\n",
    "ggsetup <- function(data) {\n",
    "    data %>%\n",
    "        ggplot(aes(rank, value, color = outlier)) +\n",
    "        geom_point() +\n",
    "        geom_line(aes(y = limit_upper), color = \"red\", linetype = 2) +\n",
    "        geom_line(aes(y = limit_lower), color = \"red\", linetype = 2) +\n",
    "        geom_text(aes(label = index), vjust = -1.25) +\n",
    "        theme_bw() +\n",
    "        scale_color_manual(values = c(\"No\" = \"#2c3e50\", \"Yes\" = \"#e31a1c\")) +\n",
    "        expand_limits(y = 13) +\n",
    "        theme(legend.position = \"bottom\")\n",
    "}\n",
    "\n",
    "p4 <- outliers %>% \n",
    "    ggsetup() +\n",
    "    ggtitle(\"Top outlers sorted by rank\") \n",
    "\n",
    "p4"
   ]
  },
  {
   "cell_type": "markdown",
   "metadata": {},
   "source": [
    "#### End of test 1"
   ]
  },
  {
   "cell_type": "code",
   "execution_count": null,
   "metadata": {},
   "outputs": [],
   "source": []
  },
  {
   "cell_type": "markdown",
   "metadata": {},
   "source": [
    "#### Test 2-  Test the GESD function\n",
    "- remainder_l1, remainder_l2, recomposed_l1, recomposed_l2 values are incorrect in the time_recompose returned tibble (they should vary however in the ts_anomalize tibble they remain constant as the bounds for the first non-anomaly data point)\n",
    "- some remainder values fall within its reminder range but were still labeled as an anomaly (when STL + GESD is applied)"
   ]
  },
  {
   "cell_type": "code",
   "execution_count": null,
   "metadata": {},
   "outputs": [],
   "source": [
    "ts =  select(filter(tb, Building_Meter == '165.0 - BLD 03_90327795'), 'Building_Meter', 'Month', 'Imputed_KWH')\n",
    "\n",
    "ts_anomalized <- ts %>%\n",
    "    time_decompose(Imputed_KWH, method = \"STL\", merge = TRUE) %>%\n",
    "    anomalize(remainder, method = 'gesd') %>%\n",
    "    time_recompose()"
   ]
  },
  {
   "cell_type": "code",
   "execution_count": null,
   "metadata": {},
   "outputs": [],
   "source": [
    "ts_anomalized"
   ]
  },
  {
   "cell_type": "code",
   "execution_count": null,
   "metadata": {},
   "outputs": [],
   "source": [
    "outliers <- anomalize::gesd(ts_anomalized$remainder, alpha = 0.05, max_anoms = 0.2, verbose = TRUE)$outlier_report"
   ]
  },
  {
   "cell_type": "code",
   "execution_count": null,
   "metadata": {},
   "outputs": [],
   "source": [
    "filter(ts_anomalized, anomaly == 'Yes')"
   ]
  },
  {
   "cell_type": "code",
   "execution_count": null,
   "metadata": {},
   "outputs": [],
   "source": [
    "outliers"
   ]
  },
  {
   "cell_type": "code",
   "execution_count": null,
   "metadata": {},
   "outputs": [],
   "source": [
    "p4 <- outliers %>% \n",
    "    ggsetup() +\n",
    "    ggtitle(\"Top outlers sorted by rank\") \n",
    "\n",
    "p4"
   ]
  },
  {
   "cell_type": "markdown",
   "metadata": {},
   "source": [
    "#### End of test2"
   ]
  },
  {
   "cell_type": "code",
   "execution_count": null,
   "metadata": {},
   "outputs": [],
   "source": []
  },
  {
   "cell_type": "markdown",
   "metadata": {},
   "source": [
    "## Conclusions\n",
    "- The Twitter decomposition method works bette when a long-term trend is less dominant that the short-term seasonal component.\n",
    "- Check the characteristics of the time series to decide which decomposition algorithm to apply\n",
    "- Perform level-change, variance-change detections before applying the decomposition algorithm (need to learn the ecp or changepoint packages though)"
   ]
  },
  {
   "cell_type": "code",
   "execution_count": null,
   "metadata": {},
   "outputs": [],
   "source": []
  },
  {
   "cell_type": "code",
   "execution_count": null,
   "metadata": {},
   "outputs": [],
   "source": []
  },
  {
   "cell_type": "code",
   "execution_count": null,
   "metadata": {},
   "outputs": [],
   "source": [
    "findme"
   ]
  },
  {
   "cell_type": "code",
   "execution_count": null,
   "metadata": {},
   "outputs": [],
   "source": [
    "set.seed(1)\n",
    "sample <- data.frame(Month = seq(ISOdate(2000,1,1), by = \"month\", length = 5), Value = c(rnorm(5, 2000, 500)))\n",
    "sample[3, 'Value']<- 20000\n",
    "sample <- as_tibble(sample)"
   ]
  },
  {
   "cell_type": "code",
   "execution_count": null,
   "metadata": {},
   "outputs": [],
   "source": [
    "sample"
   ]
  },
  {
   "cell_type": "code",
   "execution_count": null,
   "metadata": {},
   "outputs": [],
   "source": [
    "outliers <- iqr(sample$Value, verbose = TRUE)$outlier_report\n",
    "outliers"
   ]
  },
  {
   "cell_type": "code",
   "execution_count": null,
   "metadata": {},
   "outputs": [],
   "source": []
  },
  {
   "cell_type": "code",
   "execution_count": null,
   "metadata": {},
   "outputs": [],
   "source": [
    "outliers <- iqr(sample$Value, verbose = TRUE)$outlier_report\n",
    "outliers %>% \n",
    "    ggsetup() +\n",
    "    ggtitle(\"Interquartile Range Method - Top outlers sorted by rank\") "
   ]
  },
  {
   "cell_type": "code",
   "execution_count": null,
   "metadata": {},
   "outputs": [],
   "source": [
    "outliers <- gesd(sample$Value, alpha = 0.05, max_anoms = 0.2, verbose = TRUE)$outlier_report\n",
    "outliers %>% \n",
    "    ggsetup() +\n",
    "    ggtitle(\"Generalized ESD Method - Top outlers sorted by rank\") "
   ]
  },
  {
   "cell_type": "code",
   "execution_count": null,
   "metadata": {},
   "outputs": [],
   "source": [
    "x_Plot <- ggplot(sample, aes(x = Month, y = Value)) + geom_point() + geom_line() + \n",
    "  stat_QC(method = 'XmR', auto.label = T, label.digits = 2, show.1n2.sigma = F) +\n",
    "  ggtitle(\"Statistical Control Chart\") \n",
    "\n",
    "mR_Plot <- ggplot(sample, aes(x = Month, y = Value)) + stat_mR() + stat_QC_labels(method=\"mR\")\n",
    "\n",
    "grid.arrange(x_Plot, mR_Plot, nrow=2)"
   ]
  },
  {
   "cell_type": "code",
   "execution_count": null,
   "metadata": {},
   "outputs": [],
   "source": [
    "QC_Lines(data = sample$Value, method = \"XmR\")     "
   ]
  }
 ],
 "metadata": {
  "kernelspec": {
   "display_name": "R",
   "language": "R",
   "name": "ir"
  },
  "language_info": {
   "codemirror_mode": "r",
   "file_extension": ".r",
   "mimetype": "text/x-r-source",
   "name": "R",
   "pygments_lexer": "r",
   "version": "3.5.2"
  }
 },
 "nbformat": 4,
 "nbformat_minor": 2
}
