{
 "cells": [
  {
   "cell_type": "markdown",
   "metadata": {},
   "source": [
    "# Step 1: Load packages and Data"
   ]
  },
  {
   "cell_type": "code",
   "execution_count": 1,
   "metadata": {},
   "outputs": [
    {
     "data": {
      "text/html": [
       "<script type=\"text/javascript\">window.PlotlyConfig = {MathJaxConfig: 'local'};</script><script type=\"text/javascript\">if (window.MathJax) {MathJax.Hub.Config({SVG: {font: \"STIX-Web\"}});}</script><script>requirejs.config({paths: { 'plotly': ['https://cdn.plot.ly/plotly-latest.min']},});if(!window._Plotly) {require(['plotly'],function(plotly) {window._Plotly=plotly;});}</script>"
      ],
      "text/vnd.plotly.v1+html": [
       "<script type=\"text/javascript\">window.PlotlyConfig = {MathJaxConfig: 'local'};</script><script type=\"text/javascript\">if (window.MathJax) {MathJax.Hub.Config({SVG: {font: \"STIX-Web\"}});}</script><script>requirejs.config({paths: { 'plotly': ['https://cdn.plot.ly/plotly-latest.min']},});if(!window._Plotly) {require(['plotly'],function(plotly) {window._Plotly=plotly;});}</script>"
      ]
     },
     "metadata": {},
     "output_type": "display_data"
    }
   ],
   "source": [
    "import pandas as pd\n",
    "import numpy as np\n",
    "import pandasql as pdsql\n",
    "import math\n",
    "\n",
    "from datetime import timedelta, datetime\n",
    "from dateutil.relativedelta import *\n",
    "\n",
    "import plotly.plotly as py\n",
    "import plotly.graph_objs as go\n",
    "from plotly.offline import init_notebook_mode, iplot\n",
    "# initiate notebook for offline plot\n",
    "init_notebook_mode(connected=True)         "
   ]
  },
  {
   "cell_type": "code",
   "execution_count": 4,
   "metadata": {},
   "outputs": [],
   "source": [
    "file_name = \"/Users/feiwang/Desktop/capstone/anomalyDetectors/data/Client 2 - Data for UW team.xlsx\"\n",
    "xl_file = pd.ExcelFile(file_name)\n",
    "\n",
    "dfs = {sheet_name: xl_file.parse(sheet_name) \n",
    "          for sheet_name in xl_file.sheet_names}\n",
    "\n",
    "df_orig = dfs['Sheet1']"
   ]
  },
  {
   "cell_type": "code",
   "execution_count": 5,
   "metadata": {},
   "outputs": [
    {
     "data": {
      "text/html": [
       "<div>\n",
       "<style scoped>\n",
       "    .dataframe tbody tr th:only-of-type {\n",
       "        vertical-align: middle;\n",
       "    }\n",
       "\n",
       "    .dataframe tbody tr th {\n",
       "        vertical-align: top;\n",
       "    }\n",
       "\n",
       "    .dataframe thead th {\n",
       "        text-align: right;\n",
       "    }\n",
       "</style>\n",
       "<table border=\"1\" class=\"dataframe\">\n",
       "  <thead>\n",
       "    <tr style=\"text-align: right;\">\n",
       "      <th></th>\n",
       "      <th>Building ID</th>\n",
       "      <th>Fuel</th>\n",
       "      <th>Meter_ID</th>\n",
       "      <th>Account_Name</th>\n",
       "      <th>Start Date</th>\n",
       "      <th>End Date</th>\n",
       "      <th>Consumption</th>\n",
       "      <th>Units</th>\n",
       "      <th>Cost</th>\n",
       "      <th>Currency</th>\n",
       "      <th>Demand</th>\n",
       "      <th>Units.1</th>\n",
       "      <th>Vendor</th>\n",
       "      <th>Invoice Number</th>\n",
       "    </tr>\n",
       "  </thead>\n",
       "  <tbody>\n",
       "    <tr>\n",
       "      <th>0</th>\n",
       "      <td>47068</td>\n",
       "      <td>Electricity</td>\n",
       "      <td>MN10000</td>\n",
       "      <td>AN100</td>\n",
       "      <td>2015-12-08</td>\n",
       "      <td>2016-01-06</td>\n",
       "      <td>69828.0</td>\n",
       "      <td>kWh</td>\n",
       "      <td>4124.60</td>\n",
       "      <td>USD</td>\n",
       "      <td>180.0</td>\n",
       "      <td>Kw</td>\n",
       "      <td>V1</td>\n",
       "      <td>IN1</td>\n",
       "    </tr>\n",
       "    <tr>\n",
       "      <th>1</th>\n",
       "      <td>47068</td>\n",
       "      <td>Electricity</td>\n",
       "      <td>MN10000</td>\n",
       "      <td>AN100</td>\n",
       "      <td>2016-01-07</td>\n",
       "      <td>2016-02-04</td>\n",
       "      <td>69395.0</td>\n",
       "      <td>kWh</td>\n",
       "      <td>4501.79</td>\n",
       "      <td>USD</td>\n",
       "      <td>164.0</td>\n",
       "      <td>Kw</td>\n",
       "      <td>V1</td>\n",
       "      <td>IN2</td>\n",
       "    </tr>\n",
       "    <tr>\n",
       "      <th>2</th>\n",
       "      <td>47068</td>\n",
       "      <td>Electricity</td>\n",
       "      <td>MN10000</td>\n",
       "      <td>AN100</td>\n",
       "      <td>2016-02-05</td>\n",
       "      <td>2016-03-07</td>\n",
       "      <td>79178.0</td>\n",
       "      <td>kWh</td>\n",
       "      <td>4979.07</td>\n",
       "      <td>USD</td>\n",
       "      <td>176.0</td>\n",
       "      <td>Kw</td>\n",
       "      <td>V1</td>\n",
       "      <td>IN3</td>\n",
       "    </tr>\n",
       "    <tr>\n",
       "      <th>3</th>\n",
       "      <td>47068</td>\n",
       "      <td>Electricity</td>\n",
       "      <td>MN10000</td>\n",
       "      <td>AN100</td>\n",
       "      <td>2016-03-08</td>\n",
       "      <td>2016-04-05</td>\n",
       "      <td>74855.0</td>\n",
       "      <td>kWh</td>\n",
       "      <td>5291.78</td>\n",
       "      <td>USD</td>\n",
       "      <td>185.0</td>\n",
       "      <td>Kw</td>\n",
       "      <td>V1</td>\n",
       "      <td>IN4</td>\n",
       "    </tr>\n",
       "    <tr>\n",
       "      <th>4</th>\n",
       "      <td>47068</td>\n",
       "      <td>Electricity</td>\n",
       "      <td>MN10000</td>\n",
       "      <td>AN100</td>\n",
       "      <td>2016-04-06</td>\n",
       "      <td>2016-05-05</td>\n",
       "      <td>78745.0</td>\n",
       "      <td>kWh</td>\n",
       "      <td>5950.15</td>\n",
       "      <td>USD</td>\n",
       "      <td>205.0</td>\n",
       "      <td>Kw</td>\n",
       "      <td>V1</td>\n",
       "      <td>IN5</td>\n",
       "    </tr>\n",
       "  </tbody>\n",
       "</table>\n",
       "</div>"
      ],
      "text/plain": [
       "   Building ID         Fuel Meter_ID Account_Name Start Date   End Date  \\\n",
       "0        47068  Electricity  MN10000        AN100 2015-12-08 2016-01-06   \n",
       "1        47068  Electricity  MN10000        AN100 2016-01-07 2016-02-04   \n",
       "2        47068  Electricity  MN10000        AN100 2016-02-05 2016-03-07   \n",
       "3        47068  Electricity  MN10000        AN100 2016-03-08 2016-04-05   \n",
       "4        47068  Electricity  MN10000        AN100 2016-04-06 2016-05-05   \n",
       "\n",
       "   Consumption Units     Cost Currency  Demand Units.1 Vendor Invoice Number  \n",
       "0      69828.0   kWh  4124.60      USD   180.0      Kw     V1            IN1  \n",
       "1      69395.0   kWh  4501.79      USD   164.0      Kw     V1            IN2  \n",
       "2      79178.0   kWh  4979.07      USD   176.0      Kw     V1            IN3  \n",
       "3      74855.0   kWh  5291.78      USD   185.0      Kw     V1            IN4  \n",
       "4      78745.0   kWh  5950.15      USD   205.0      Kw     V1            IN5  "
      ]
     },
     "execution_count": 5,
     "metadata": {},
     "output_type": "execute_result"
    }
   ],
   "source": [
    "df_orig.head()"
   ]
  },
  {
   "cell_type": "markdown",
   "metadata": {},
   "source": [
    "### Add a row_id"
   ]
  },
  {
   "cell_type": "code",
   "execution_count": 6,
   "metadata": {},
   "outputs": [],
   "source": [
    "df_orig = df_orig.reset_index()\n",
    "\n",
    "df_orig.rename(columns = {'index':'row_id'}, inplace = True)"
   ]
  },
  {
   "cell_type": "code",
   "execution_count": 7,
   "metadata": {},
   "outputs": [
    {
     "data": {
      "text/plain": [
       "Index(['row_id', 'Building ID', 'Fuel', 'Meter_ID', 'Account_Name',\n",
       "       'Start Date', 'End Date', 'Consumption', 'Units', 'Cost', 'Currency',\n",
       "       'Demand', 'Units.1', 'Vendor', 'Invoice Number'],\n",
       "      dtype='object')"
      ]
     },
     "execution_count": 7,
     "metadata": {},
     "output_type": "execute_result"
    }
   ],
   "source": [
    "df_orig.columns"
   ]
  },
  {
   "cell_type": "markdown",
   "metadata": {},
   "source": [
    "### Create a working dataframe"
   ]
  },
  {
   "cell_type": "code",
   "execution_count": 8,
   "metadata": {},
   "outputs": [],
   "source": [
    "df = df_orig.copy()"
   ]
  },
  {
   "cell_type": "code",
   "execution_count": 9,
   "metadata": {},
   "outputs": [],
   "source": [
    "df.rename(columns = {'Building ID':'Building_ID', 'Meter_ID':'Meter_Number',\\\n",
    "                    'Start Date':'Service_Start_Date', 'End Date':'Service_End_Date', 'Units.1':'Units'},\\\n",
    "          inplace = True)"
   ]
  },
  {
   "cell_type": "markdown",
   "metadata": {},
   "source": [
    "### Create a data frame to log the rows with data quality issues."
   ]
  },
  {
   "cell_type": "code",
   "execution_count": 10,
   "metadata": {},
   "outputs": [],
   "source": [
    "df_flags = pd.DataFrame(columns = ['row_id', 'flag'])"
   ]
  },
  {
   "cell_type": "markdown",
   "metadata": {},
   "source": [
    "# Step 2: Data Cleaning"
   ]
  },
  {
   "cell_type": "markdown",
   "metadata": {},
   "source": [
    "#### Remove the two columns on demand and its units"
   ]
  },
  {
   "cell_type": "code",
   "execution_count": 29,
   "metadata": {},
   "outputs": [],
   "source": [
    "df = pd.concat([df.iloc[:, 0:11], df.iloc[:, 13:15]], axis = 1)"
   ]
  },
  {
   "cell_type": "code",
   "execution_count": 30,
   "metadata": {},
   "outputs": [
    {
     "data": {
      "text/html": [
       "<div>\n",
       "<style scoped>\n",
       "    .dataframe tbody tr th:only-of-type {\n",
       "        vertical-align: middle;\n",
       "    }\n",
       "\n",
       "    .dataframe tbody tr th {\n",
       "        vertical-align: top;\n",
       "    }\n",
       "\n",
       "    .dataframe thead th {\n",
       "        text-align: right;\n",
       "    }\n",
       "</style>\n",
       "<table border=\"1\" class=\"dataframe\">\n",
       "  <thead>\n",
       "    <tr style=\"text-align: right;\">\n",
       "      <th></th>\n",
       "      <th>row_id</th>\n",
       "      <th>Building_ID</th>\n",
       "      <th>Fuel</th>\n",
       "      <th>Meter_Number</th>\n",
       "      <th>Account_Name</th>\n",
       "      <th>Service_Start_Date</th>\n",
       "      <th>Service_End_Date</th>\n",
       "      <th>Consumption</th>\n",
       "      <th>Units</th>\n",
       "      <th>Cost</th>\n",
       "      <th>Currency</th>\n",
       "      <th>Vendor</th>\n",
       "      <th>Invoice Number</th>\n",
       "    </tr>\n",
       "  </thead>\n",
       "  <tbody>\n",
       "    <tr>\n",
       "      <th>0</th>\n",
       "      <td>0</td>\n",
       "      <td>47068</td>\n",
       "      <td>Electricity</td>\n",
       "      <td>MN10000</td>\n",
       "      <td>AN100</td>\n",
       "      <td>2015-12-08</td>\n",
       "      <td>2016-01-06</td>\n",
       "      <td>69828.0</td>\n",
       "      <td>kWh</td>\n",
       "      <td>4124.60</td>\n",
       "      <td>USD</td>\n",
       "      <td>V1</td>\n",
       "      <td>IN1</td>\n",
       "    </tr>\n",
       "    <tr>\n",
       "      <th>1</th>\n",
       "      <td>1</td>\n",
       "      <td>47068</td>\n",
       "      <td>Electricity</td>\n",
       "      <td>MN10000</td>\n",
       "      <td>AN100</td>\n",
       "      <td>2016-01-07</td>\n",
       "      <td>2016-02-04</td>\n",
       "      <td>69395.0</td>\n",
       "      <td>kWh</td>\n",
       "      <td>4501.79</td>\n",
       "      <td>USD</td>\n",
       "      <td>V1</td>\n",
       "      <td>IN2</td>\n",
       "    </tr>\n",
       "    <tr>\n",
       "      <th>2</th>\n",
       "      <td>2</td>\n",
       "      <td>47068</td>\n",
       "      <td>Electricity</td>\n",
       "      <td>MN10000</td>\n",
       "      <td>AN100</td>\n",
       "      <td>2016-02-05</td>\n",
       "      <td>2016-03-07</td>\n",
       "      <td>79178.0</td>\n",
       "      <td>kWh</td>\n",
       "      <td>4979.07</td>\n",
       "      <td>USD</td>\n",
       "      <td>V1</td>\n",
       "      <td>IN3</td>\n",
       "    </tr>\n",
       "    <tr>\n",
       "      <th>3</th>\n",
       "      <td>3</td>\n",
       "      <td>47068</td>\n",
       "      <td>Electricity</td>\n",
       "      <td>MN10000</td>\n",
       "      <td>AN100</td>\n",
       "      <td>2016-03-08</td>\n",
       "      <td>2016-04-05</td>\n",
       "      <td>74855.0</td>\n",
       "      <td>kWh</td>\n",
       "      <td>5291.78</td>\n",
       "      <td>USD</td>\n",
       "      <td>V1</td>\n",
       "      <td>IN4</td>\n",
       "    </tr>\n",
       "    <tr>\n",
       "      <th>4</th>\n",
       "      <td>4</td>\n",
       "      <td>47068</td>\n",
       "      <td>Electricity</td>\n",
       "      <td>MN10000</td>\n",
       "      <td>AN100</td>\n",
       "      <td>2016-04-06</td>\n",
       "      <td>2016-05-05</td>\n",
       "      <td>78745.0</td>\n",
       "      <td>kWh</td>\n",
       "      <td>5950.15</td>\n",
       "      <td>USD</td>\n",
       "      <td>V1</td>\n",
       "      <td>IN5</td>\n",
       "    </tr>\n",
       "  </tbody>\n",
       "</table>\n",
       "</div>"
      ],
      "text/plain": [
       "   row_id  Building_ID         Fuel Meter_Number Account_Name  \\\n",
       "0       0        47068  Electricity      MN10000        AN100   \n",
       "1       1        47068  Electricity      MN10000        AN100   \n",
       "2       2        47068  Electricity      MN10000        AN100   \n",
       "3       3        47068  Electricity      MN10000        AN100   \n",
       "4       4        47068  Electricity      MN10000        AN100   \n",
       "\n",
       "  Service_Start_Date Service_End_Date  Consumption Units     Cost Currency  \\\n",
       "0         2015-12-08       2016-01-06      69828.0   kWh  4124.60      USD   \n",
       "1         2016-01-07       2016-02-04      69395.0   kWh  4501.79      USD   \n",
       "2         2016-02-05       2016-03-07      79178.0   kWh  4979.07      USD   \n",
       "3         2016-03-08       2016-04-05      74855.0   kWh  5291.78      USD   \n",
       "4         2016-04-06       2016-05-05      78745.0   kWh  5950.15      USD   \n",
       "\n",
       "  Vendor Invoice Number  \n",
       "0     V1            IN1  \n",
       "1     V1            IN2  \n",
       "2     V1            IN3  \n",
       "3     V1            IN4  \n",
       "4     V1            IN5  "
      ]
     },
     "execution_count": 30,
     "metadata": {},
     "output_type": "execute_result"
    }
   ],
   "source": [
    "df.head()"
   ]
  },
  {
   "cell_type": "markdown",
   "metadata": {},
   "source": [
    "### clean up the Unit column"
   ]
  },
  {
   "cell_type": "code",
   "execution_count": 32,
   "metadata": {
    "collapsed": true
   },
   "outputs": [
    {
     "data": {
      "text/plain": [
       "kWh       2745\n",
       "therms    1234\n",
       "Dth        250\n",
       "kBtu       159\n",
       "MMBtu       46\n",
       "ccf         46\n",
       "m3          39\n",
       "kwh         35\n",
       "gal         31\n",
       "each        28\n",
       "Name: Units, dtype: int64"
      ]
     },
     "execution_count": 32,
     "metadata": {},
     "output_type": "execute_result"
    }
   ],
   "source": [
    "df.Units.value_counts()"
   ]
  },
  {
   "cell_type": "code",
   "execution_count": 33,
   "metadata": {},
   "outputs": [],
   "source": [
    "mask = df.Units == 'kWh'\n",
    "df.loc[mask, 'Units'] = 'kwh'"
   ]
  },
  {
   "cell_type": "markdown",
   "metadata": {},
   "source": [
    "### check the missing values"
   ]
  },
  {
   "cell_type": "code",
   "execution_count": 36,
   "metadata": {},
   "outputs": [
    {
     "data": {
      "text/plain": [
       "row_id                  0\n",
       "Building_ID             0\n",
       "Fuel                    0\n",
       "Meter_Number          139\n",
       "Account_Name          848\n",
       "Service_Start_Date      0\n",
       "Service_End_Date        0\n",
       "Consumption             0\n",
       "Units                   0\n",
       "Cost                    0\n",
       "Currency                0\n",
       "Vendor                  0\n",
       "Invoice Number        848\n",
       "dtype: int64"
      ]
     },
     "execution_count": 36,
     "metadata": {},
     "output_type": "execute_result"
    }
   ],
   "source": [
    "df.isna().sum()"
   ]
  },
  {
   "cell_type": "code",
   "execution_count": 38,
   "metadata": {},
   "outputs": [],
   "source": [
    "mask = df.Meter_Number.isnull()\n",
    "df = df[~mask]\n",
    "df = df.reset_index(drop=True)"
   ]
  },
  {
   "cell_type": "code",
   "execution_count": 39,
   "metadata": {},
   "outputs": [
    {
     "data": {
      "text/plain": [
       "row_id                  0\n",
       "Building_ID             0\n",
       "Fuel                    0\n",
       "Meter_Number            0\n",
       "Account_Name          709\n",
       "Service_Start_Date      0\n",
       "Service_End_Date        0\n",
       "Consumption             0\n",
       "Units                   0\n",
       "Cost                    0\n",
       "Currency                0\n",
       "Vendor                  0\n",
       "Invoice Number        709\n",
       "dtype: int64"
      ]
     },
     "execution_count": 39,
     "metadata": {},
     "output_type": "execute_result"
    }
   ],
   "source": [
    "df.isna().sum()"
   ]
  },
  {
   "cell_type": "markdown",
   "metadata": {},
   "source": [
    "### Remove the rows that have 0 consumption value and no consumption unit"
   ]
  },
  {
   "cell_type": "code",
   "execution_count": 95,
   "metadata": {
    "scrolled": true
   },
   "outputs": [
    {
     "data": {
      "text/plain": [
       "83"
      ]
     },
     "execution_count": 95,
     "metadata": {},
     "output_type": "execute_result"
    }
   ],
   "source": [
    "mask = df_orig['Consumption'] == '0.00\\xa0'\n",
    "mask.sum()"
   ]
  },
  {
   "cell_type": "code",
   "execution_count": 96,
   "metadata": {},
   "outputs": [],
   "source": [
    "df_flags = pd.concat([df_flags, pd.DataFrame({'row_id':df.loc[mask, ].row_id.values, 'flag':'Consumption value is zero, Rows removed'})])"
   ]
  },
  {
   "cell_type": "code",
   "execution_count": 97,
   "metadata": {},
   "outputs": [],
   "source": [
    "df = df[~mask]\n",
    "df = df.reset_index(drop=True)"
   ]
  },
  {
   "cell_type": "code",
   "execution_count": 98,
   "metadata": {},
   "outputs": [
    {
     "name": "stdout",
     "output_type": "stream",
     "text": [
      "384.00 kWh  28.00 Therm ,  4 ,  4951\n",
      "632.00 kWh  3.00 Therm ,  4 ,  4952\n",
      "328.00 kWh  8.00 Therm ,  4 ,  4954\n",
      "363.00 kWh  58.00 Therm ,  4 ,  4957\n",
      "340.00 kWh  21.00 Therm ,  4 ,  4958\n",
      "288.00 kWh  40.00 Therm ,  4 ,  4962\n",
      "433.00 kWh  75.00 Therm ,  4 ,  4963\n",
      "501.00 kWh  144.00 Therm ,  4 ,  4964\n",
      "417.00 kWh  49.00 Therm ,  4 ,  4965\n",
      "676.00 kWh  2.00 Therm ,  4 ,  4966\n",
      "371.00 kWh  82.00 Therm ,  4 ,  4969\n",
      "402.00 kWh  127.00 Therm ,  4 ,  4970\n",
      "222.00 kWh  5.00 Therm ,  4 ,  4971\n",
      "376.00 kWh  84.00 Therm ,  4 ,  4973\n",
      "415.00 kWh  131.00 Therm ,  4 ,  4974\n",
      "155.00 kWh  151.00 Therm ,  4 ,  4975\n",
      "679.00 kWh  157.00 Therm ,  4 ,  4976\n",
      "395.00 kWh  28.00 Therm ,  4 ,  4977\n",
      "232.00 kWh  83.00 Therm ,  4 ,  4978\n",
      "484.00 kWh  182.00 Therm ,  4 ,  4979\n",
      "395.00 kWh  77.00 Therm ,  4 ,  4983\n",
      "411.00 kWh  113.00 Therm ,  4 ,  4984\n",
      "368.00 kWh  79.00 Therm ,  4 ,  4985\n"
     ]
    }
   ],
   "source": [
    "for i in range(len(df['Consumption'])):\n",
    "    if len(str.split(df['Consumption'][i])) != 2:\n",
    "        print (df['Consumption'][i], \", \", len(str.split(df['Consumption'][i])), \", \", df.index.values[i])"
   ]
  },
  {
   "cell_type": "code",
   "execution_count": 99,
   "metadata": {},
   "outputs": [
    {
     "data": {
      "text/plain": [
       "array(['Account_ID-1128'], dtype=object)"
      ]
     },
     "execution_count": 99,
     "metadata": {},
     "output_type": "execute_result"
    }
   ],
   "source": [
    "df.iloc[4951:4985, ].Meter_Number.unique()"
   ]
  },
  {
   "cell_type": "markdown",
   "metadata": {},
   "source": [
    "### All the rows that have multipe types of energy consumption values are under the same account 'Account_ID-1128'. Let's remove it from the dataset for now."
   ]
  },
  {
   "cell_type": "code",
   "execution_count": 100,
   "metadata": {},
   "outputs": [],
   "source": [
    "mask = df['Meter_Number'] == 'Account_ID-1128'\n",
    "df_flags = pd.concat([df_flags, pd.DataFrame({'row_id':df.loc[mask, ].row_id.values, 'flag':'The Account_ID contains rows with multiple types of consumptions, rows removed'})])\n",
    "df = df[~mask]\n",
    "df = df.reset_index(drop=True)"
   ]
  },
  {
   "cell_type": "markdown",
   "metadata": {},
   "source": [
    "### Check again the 'Consumption' field"
   ]
  },
  {
   "cell_type": "code",
   "execution_count": 101,
   "metadata": {},
   "outputs": [],
   "source": [
    "for i in range(len(df['Consumption'])):\n",
    "    if len(str.split(df['Consumption'][i])) != 2:\n",
    "        print (df['Consumption'][i], \", \", len(str.split(df['Consumption'][i])), \", \", df.index.values[i])"
   ]
  },
  {
   "cell_type": "code",
   "execution_count": 102,
   "metadata": {},
   "outputs": [],
   "source": [
    "df.loc[:, 'Unit'] = df[\"Consumption\"].map(lambda x: str.split(x.replace(\",\",\"\"))[1])\n",
    "\n",
    "df[\"Consumption\"] = df[\"Consumption\"].map(lambda x: str.split(x.replace(\",\",\"\"))[0])\n",
    "df[\"Consumption\"] = df[\"Consumption\"].astype(float, inplace = True)"
   ]
  },
  {
   "cell_type": "markdown",
   "metadata": {},
   "source": [
    "### Drop the \"Currency\" column"
   ]
  },
  {
   "cell_type": "code",
   "execution_count": 103,
   "metadata": {},
   "outputs": [
    {
     "data": {
      "text/plain": [
       "array(['USD'], dtype=object)"
      ]
     },
     "execution_count": 103,
     "metadata": {},
     "output_type": "execute_result"
    }
   ],
   "source": [
    "df.Currency.unique()"
   ]
  },
  {
   "cell_type": "code",
   "execution_count": 104,
   "metadata": {},
   "outputs": [],
   "source": [
    "df.drop('Currency', axis = 1, inplace = True)"
   ]
  },
  {
   "cell_type": "markdown",
   "metadata": {},
   "source": [
    "# Step 3: Focus on the kwh consumption data only"
   ]
  },
  {
   "cell_type": "code",
   "execution_count": 105,
   "metadata": {},
   "outputs": [],
   "source": [
    "mask = (df.Unit == 'kWh')\n",
    "df = df[mask].copy()"
   ]
  },
  {
   "cell_type": "markdown",
   "metadata": {},
   "source": [
    "### Clean up Meter_Number field"
   ]
  },
  {
   "cell_type": "code",
   "execution_count": 106,
   "metadata": {},
   "outputs": [],
   "source": [
    "df.loc[:, 'Meter_Length'] = df['Meter_Number'].map(lambda x: len(x))"
   ]
  },
  {
   "cell_type": "code",
   "execution_count": 107,
   "metadata": {
    "scrolled": true
   },
   "outputs": [
    {
     "data": {
      "text/plain": [
       "15    8706\n",
       "Name: Meter_Length, dtype: int64"
      ]
     },
     "execution_count": 107,
     "metadata": {},
     "output_type": "execute_result"
    }
   ],
   "source": [
    "df.loc[:, 'Meter_Length'].value_counts()"
   ]
  },
  {
   "cell_type": "code",
   "execution_count": 108,
   "metadata": {},
   "outputs": [],
   "source": [
    "df.drop('Meter_Length', axis = 1, inplace = True)"
   ]
  },
  {
   "cell_type": "markdown",
   "metadata": {},
   "source": [
    "## Find & removes rows/accounts with problems"
   ]
  },
  {
   "cell_type": "markdown",
   "metadata": {},
   "source": [
    "### Check consumption and current_charges columns"
   ]
  },
  {
   "cell_type": "code",
   "execution_count": 112,
   "metadata": {},
   "outputs": [],
   "source": [
    "mask = (df.Consumption == 0) & (df.Current_Charges == 0)\n",
    "df_flags = pd.concat([df_flags, pd.DataFrame({'row_id':df.loc[mask, ].row_id.values, 'flag':'Both consumption & charge values are zero, rows removed'})])\n",
    "df = df[~mask]"
   ]
  },
  {
   "cell_type": "markdown",
   "metadata": {},
   "source": [
    "### Check the overlapping of service periods"
   ]
  },
  {
   "cell_type": "code",
   "execution_count": 113,
   "metadata": {},
   "outputs": [],
   "source": [
    "# order by dataframe and assign a row number\n",
    "df = df.sort_values(by = ['Building_ID', 'Meter_Number', 'Service_Start_Date', 'Service_End_Date'], ascending=[True, True, True, True]).copy()\n",
    "df = df.reset_index(drop=True)\n",
    "df = df.reset_index()\n",
    "df.rename(columns = {'index':'row_number'}, inplace = True)\n",
    "\n",
    "prev = df.loc[:, ['row_number', 'Building_ID', 'Meter_Number', 'Service_Start_Date', 'Service_End_Date', 'Consumption', 'Current_Charges']]\n",
    "prev.loc[:, 'row_number'] = prev.row_number.map(lambda x: x + 1)\n",
    "\n",
    "tmp = df[['row_number', 'row_id', 'Building_ID', 'Meter_Number', 'Service_Start_Date', 'Service_End_Date', 'Consumption', 'Current_Charges']]\\\n",
    ".merge(prev, on = ['row_number', 'Building_ID', 'Meter_Number'], how = 'left')\n",
    "\n",
    "tmp.columns = ['row_number', 'row_id', 'Building_ID', 'Meter_Number', 'Service_Start_Date',\n",
    "       'Service_End_Date', 'Consumption', 'Current_Charges', 'Service_Start_Date_Prev', 'Service_End_Date_Prev', 'Consumption_Prev', 'Current_Charges_Prev']\n",
    "\n",
    "tmp.loc[:, 'Diff_Prev'] = tmp.apply(lambda x: (x['Service_Start_Date'] - x['Service_End_Date_Prev']).days, axis = 1)"
   ]
  },
  {
   "cell_type": "code",
   "execution_count": 117,
   "metadata": {},
   "outputs": [],
   "source": [
    "rows = list(tmp[tmp.Diff_Prev < -2].row_number.values)"
   ]
  },
  {
   "cell_type": "markdown",
   "metadata": {},
   "source": [
    "### Go through each row that overlaps with its previous row"
   ]
  },
  {
   "cell_type": "code",
   "execution_count": 118,
   "metadata": {},
   "outputs": [
    {
     "data": {
      "text/html": [
       "<div>\n",
       "<style scoped>\n",
       "    .dataframe tbody tr th:only-of-type {\n",
       "        vertical-align: middle;\n",
       "    }\n",
       "\n",
       "    .dataframe tbody tr th {\n",
       "        vertical-align: top;\n",
       "    }\n",
       "\n",
       "    .dataframe thead th {\n",
       "        text-align: right;\n",
       "    }\n",
       "</style>\n",
       "<table border=\"1\" class=\"dataframe\">\n",
       "  <thead>\n",
       "    <tr style=\"text-align: right;\">\n",
       "      <th></th>\n",
       "      <th>row_number</th>\n",
       "      <th>row_id</th>\n",
       "      <th>Building_ID</th>\n",
       "      <th>Meter_Number</th>\n",
       "      <th>Service_Start_Date</th>\n",
       "      <th>Service_End_Date</th>\n",
       "      <th>Consumption</th>\n",
       "      <th>Current_Charges</th>\n",
       "      <th>Service_Start_Date_Prev</th>\n",
       "      <th>Service_End_Date_Prev</th>\n",
       "      <th>Consumption_Prev</th>\n",
       "      <th>Current_Charges_Prev</th>\n",
       "      <th>Diff_Prev</th>\n",
       "    </tr>\n",
       "  </thead>\n",
       "  <tbody>\n",
       "    <tr>\n",
       "      <th>6127</th>\n",
       "      <td>6127</td>\n",
       "      <td>4319</td>\n",
       "      <td>Building_Code-B52</td>\n",
       "      <td>Account_ID-1130</td>\n",
       "      <td>2016-01-11</td>\n",
       "      <td>2016-02-09</td>\n",
       "      <td>152812.00</td>\n",
       "      <td>18601.49</td>\n",
       "      <td>2016-01-09</td>\n",
       "      <td>2017-02-08</td>\n",
       "      <td>127386.00</td>\n",
       "      <td>15969.26</td>\n",
       "      <td>-394.0</td>\n",
       "    </tr>\n",
       "    <tr>\n",
       "      <th>1892</th>\n",
       "      <td>1892</td>\n",
       "      <td>10263</td>\n",
       "      <td>Building_Code-B145</td>\n",
       "      <td>Account_ID-1327</td>\n",
       "      <td>2015-01-13</td>\n",
       "      <td>2015-02-11</td>\n",
       "      <td>14400.00</td>\n",
       "      <td>1333.79</td>\n",
       "      <td>2015-01-11</td>\n",
       "      <td>2016-01-13</td>\n",
       "      <td>16370.00</td>\n",
       "      <td>1437.18</td>\n",
       "      <td>-365.0</td>\n",
       "    </tr>\n",
       "    <tr>\n",
       "      <th>7826</th>\n",
       "      <td>7826</td>\n",
       "      <td>880</td>\n",
       "      <td>Building_Code-B9</td>\n",
       "      <td>Account_ID-1024</td>\n",
       "      <td>2018-04-25</td>\n",
       "      <td>2018-05-24</td>\n",
       "      <td>394400.00</td>\n",
       "      <td>66345.95</td>\n",
       "      <td>2018-03-27</td>\n",
       "      <td>2018-07-25</td>\n",
       "      <td>0.00</td>\n",
       "      <td>76118.54</td>\n",
       "      <td>-91.0</td>\n",
       "    </tr>\n",
       "    <tr>\n",
       "      <th>4275</th>\n",
       "      <td>4275</td>\n",
       "      <td>14449</td>\n",
       "      <td>Building_Code-B173</td>\n",
       "      <td>Account_ID-1434</td>\n",
       "      <td>2018-05-25</td>\n",
       "      <td>2018-06-25</td>\n",
       "      <td>0.00</td>\n",
       "      <td>313181.17</td>\n",
       "      <td>2018-05-24</td>\n",
       "      <td>2018-06-25</td>\n",
       "      <td>4881585.00</td>\n",
       "      <td>453164.71</td>\n",
       "      <td>-31.0</td>\n",
       "    </tr>\n",
       "    <tr>\n",
       "      <th>2280</th>\n",
       "      <td>2280</td>\n",
       "      <td>10689</td>\n",
       "      <td>Building_Code-B145</td>\n",
       "      <td>Account_ID-1350</td>\n",
       "      <td>2015-05-06</td>\n",
       "      <td>2015-06-04</td>\n",
       "      <td>5027.00</td>\n",
       "      <td>607.60</td>\n",
       "      <td>2015-05-06</td>\n",
       "      <td>2015-06-04</td>\n",
       "      <td>5027.00</td>\n",
       "      <td>607.60</td>\n",
       "      <td>-29.0</td>\n",
       "    </tr>\n",
       "    <tr>\n",
       "      <th>2874</th>\n",
       "      <td>2874</td>\n",
       "      <td>1707</td>\n",
       "      <td>Building_Code-B16</td>\n",
       "      <td>Account_ID-1051</td>\n",
       "      <td>2016-01-24</td>\n",
       "      <td>2016-02-21</td>\n",
       "      <td>827488.00</td>\n",
       "      <td>64787.79</td>\n",
       "      <td>2016-01-22</td>\n",
       "      <td>2016-02-22</td>\n",
       "      <td>988070.00</td>\n",
       "      <td>76423.42</td>\n",
       "      <td>-29.0</td>\n",
       "    </tr>\n",
       "    <tr>\n",
       "      <th>7825</th>\n",
       "      <td>7825</td>\n",
       "      <td>849</td>\n",
       "      <td>Building_Code-B9</td>\n",
       "      <td>Account_ID-1024</td>\n",
       "      <td>2018-03-27</td>\n",
       "      <td>2018-07-25</td>\n",
       "      <td>0.00</td>\n",
       "      <td>76118.54</td>\n",
       "      <td>2018-03-27</td>\n",
       "      <td>2018-04-25</td>\n",
       "      <td>404000.00</td>\n",
       "      <td>59512.01</td>\n",
       "      <td>-29.0</td>\n",
       "    </tr>\n",
       "    <tr>\n",
       "      <th>234</th>\n",
       "      <td>234</td>\n",
       "      <td>7761</td>\n",
       "      <td>Building_Code-B105</td>\n",
       "      <td>Account_ID-1246</td>\n",
       "      <td>2018-05-01</td>\n",
       "      <td>2018-05-31</td>\n",
       "      <td>1684800.00</td>\n",
       "      <td>102452.63</td>\n",
       "      <td>2018-04-13</td>\n",
       "      <td>2018-05-09</td>\n",
       "      <td>1033344.00</td>\n",
       "      <td>62514.43</td>\n",
       "      <td>-8.0</td>\n",
       "    </tr>\n",
       "    <tr>\n",
       "      <th>3797</th>\n",
       "      <td>3797</td>\n",
       "      <td>13791</td>\n",
       "      <td>Building_Code-B168</td>\n",
       "      <td>Account_ID-1420</td>\n",
       "      <td>2015-09-09</td>\n",
       "      <td>2015-10-19</td>\n",
       "      <td>35743.00</td>\n",
       "      <td>4583.79</td>\n",
       "      <td>2015-08-18</td>\n",
       "      <td>2015-09-17</td>\n",
       "      <td>30825.00</td>\n",
       "      <td>3710.10</td>\n",
       "      <td>-8.0</td>\n",
       "    </tr>\n",
       "    <tr>\n",
       "      <th>6237</th>\n",
       "      <td>6237</td>\n",
       "      <td>4465</td>\n",
       "      <td>Building_Code-B53</td>\n",
       "      <td>Account_ID-1135</td>\n",
       "      <td>2016-11-17</td>\n",
       "      <td>2016-12-18</td>\n",
       "      <td>1371700.80</td>\n",
       "      <td>72753.32</td>\n",
       "      <td>2016-10-19</td>\n",
       "      <td>2016-11-23</td>\n",
       "      <td>1233372.16</td>\n",
       "      <td>66634.59</td>\n",
       "      <td>-6.0</td>\n",
       "    </tr>\n",
       "    <tr>\n",
       "      <th>6517</th>\n",
       "      <td>6517</td>\n",
       "      <td>4932</td>\n",
       "      <td>Building_Code-B58</td>\n",
       "      <td>Account_ID-1147</td>\n",
       "      <td>2018-08-13</td>\n",
       "      <td>2018-09-18</td>\n",
       "      <td>691302.15</td>\n",
       "      <td>39813.46</td>\n",
       "      <td>2018-07-19</td>\n",
       "      <td>2018-08-19</td>\n",
       "      <td>756176.40</td>\n",
       "      <td>42445.12</td>\n",
       "      <td>-6.0</td>\n",
       "    </tr>\n",
       "    <tr>\n",
       "      <th>5316</th>\n",
       "      <td>5316</td>\n",
       "      <td>2847</td>\n",
       "      <td>Building_Code-B27</td>\n",
       "      <td>Account_ID-1092</td>\n",
       "      <td>2015-05-01</td>\n",
       "      <td>2015-06-02</td>\n",
       "      <td>6320.00</td>\n",
       "      <td>1681.05</td>\n",
       "      <td>2015-04-02</td>\n",
       "      <td>2015-05-04</td>\n",
       "      <td>4520.00</td>\n",
       "      <td>816.46</td>\n",
       "      <td>-3.0</td>\n",
       "    </tr>\n",
       "  </tbody>\n",
       "</table>\n",
       "</div>"
      ],
      "text/plain": [
       "      row_number  row_id         Building_ID     Meter_Number  \\\n",
       "6127        6127    4319   Building_Code-B52  Account_ID-1130   \n",
       "1892        1892   10263  Building_Code-B145  Account_ID-1327   \n",
       "7826        7826     880    Building_Code-B9  Account_ID-1024   \n",
       "4275        4275   14449  Building_Code-B173  Account_ID-1434   \n",
       "2280        2280   10689  Building_Code-B145  Account_ID-1350   \n",
       "2874        2874    1707   Building_Code-B16  Account_ID-1051   \n",
       "7825        7825     849    Building_Code-B9  Account_ID-1024   \n",
       "234          234    7761  Building_Code-B105  Account_ID-1246   \n",
       "3797        3797   13791  Building_Code-B168  Account_ID-1420   \n",
       "6237        6237    4465   Building_Code-B53  Account_ID-1135   \n",
       "6517        6517    4932   Building_Code-B58  Account_ID-1147   \n",
       "5316        5316    2847   Building_Code-B27  Account_ID-1092   \n",
       "\n",
       "     Service_Start_Date Service_End_Date  Consumption  Current_Charges  \\\n",
       "6127         2016-01-11       2016-02-09    152812.00         18601.49   \n",
       "1892         2015-01-13       2015-02-11     14400.00          1333.79   \n",
       "7826         2018-04-25       2018-05-24    394400.00         66345.95   \n",
       "4275         2018-05-25       2018-06-25         0.00        313181.17   \n",
       "2280         2015-05-06       2015-06-04      5027.00           607.60   \n",
       "2874         2016-01-24       2016-02-21    827488.00         64787.79   \n",
       "7825         2018-03-27       2018-07-25         0.00         76118.54   \n",
       "234          2018-05-01       2018-05-31   1684800.00        102452.63   \n",
       "3797         2015-09-09       2015-10-19     35743.00          4583.79   \n",
       "6237         2016-11-17       2016-12-18   1371700.80         72753.32   \n",
       "6517         2018-08-13       2018-09-18    691302.15         39813.46   \n",
       "5316         2015-05-01       2015-06-02      6320.00          1681.05   \n",
       "\n",
       "     Service_Start_Date_Prev Service_End_Date_Prev  Consumption_Prev  \\\n",
       "6127              2016-01-09            2017-02-08         127386.00   \n",
       "1892              2015-01-11            2016-01-13          16370.00   \n",
       "7826              2018-03-27            2018-07-25              0.00   \n",
       "4275              2018-05-24            2018-06-25        4881585.00   \n",
       "2280              2015-05-06            2015-06-04           5027.00   \n",
       "2874              2016-01-22            2016-02-22         988070.00   \n",
       "7825              2018-03-27            2018-04-25         404000.00   \n",
       "234               2018-04-13            2018-05-09        1033344.00   \n",
       "3797              2015-08-18            2015-09-17          30825.00   \n",
       "6237              2016-10-19            2016-11-23        1233372.16   \n",
       "6517              2018-07-19            2018-08-19         756176.40   \n",
       "5316              2015-04-02            2015-05-04           4520.00   \n",
       "\n",
       "      Current_Charges_Prev  Diff_Prev  \n",
       "6127              15969.26     -394.0  \n",
       "1892               1437.18     -365.0  \n",
       "7826              76118.54      -91.0  \n",
       "4275             453164.71      -31.0  \n",
       "2280                607.60      -29.0  \n",
       "2874              76423.42      -29.0  \n",
       "7825              59512.01      -29.0  \n",
       "234               62514.43       -8.0  \n",
       "3797               3710.10       -8.0  \n",
       "6237              66634.59       -6.0  \n",
       "6517              42445.12       -6.0  \n",
       "5316                816.46       -3.0  "
      ]
     },
     "execution_count": 118,
     "metadata": {},
     "output_type": "execute_result"
    }
   ],
   "source": [
    "tmp.loc[tmp['row_number'].isin(rows)].sort_values('Diff_Prev')"
   ]
  },
  {
   "cell_type": "markdown",
   "metadata": {},
   "source": [
    "### Manually remove the rows that have overlapping billing periods with other rows"
   ]
  },
  {
   "cell_type": "code",
   "execution_count": 132,
   "metadata": {},
   "outputs": [
    {
     "data": {
      "text/html": [
       "<div>\n",
       "<style scoped>\n",
       "    .dataframe tbody tr th:only-of-type {\n",
       "        vertical-align: middle;\n",
       "    }\n",
       "\n",
       "    .dataframe tbody tr th {\n",
       "        vertical-align: top;\n",
       "    }\n",
       "\n",
       "    .dataframe thead th {\n",
       "        text-align: right;\n",
       "    }\n",
       "</style>\n",
       "<table border=\"1\" class=\"dataframe\">\n",
       "  <thead>\n",
       "    <tr style=\"text-align: right;\">\n",
       "      <th></th>\n",
       "      <th>row_number</th>\n",
       "      <th>row_id</th>\n",
       "      <th>Building_ID</th>\n",
       "      <th>Meter_Number</th>\n",
       "      <th>Service_Start_Date</th>\n",
       "      <th>Service_End_Date</th>\n",
       "      <th>Consumption</th>\n",
       "      <th>Current_Charges</th>\n",
       "      <th>Unit</th>\n",
       "      <th>Service_Duration</th>\n",
       "    </tr>\n",
       "  </thead>\n",
       "  <tbody>\n",
       "    <tr>\n",
       "      <th>7823</th>\n",
       "      <td>7823</td>\n",
       "      <td>923</td>\n",
       "      <td>Building_Code-B9</td>\n",
       "      <td>Account_ID-1024</td>\n",
       "      <td>2018-02-26</td>\n",
       "      <td>2018-03-27</td>\n",
       "      <td>408000.0</td>\n",
       "      <td>61029.68</td>\n",
       "      <td>kWh</td>\n",
       "      <td>29</td>\n",
       "    </tr>\n",
       "    <tr>\n",
       "      <th>7824</th>\n",
       "      <td>7824</td>\n",
       "      <td>895</td>\n",
       "      <td>Building_Code-B9</td>\n",
       "      <td>Account_ID-1024</td>\n",
       "      <td>2018-03-27</td>\n",
       "      <td>2018-04-25</td>\n",
       "      <td>404000.0</td>\n",
       "      <td>59512.01</td>\n",
       "      <td>kWh</td>\n",
       "      <td>29</td>\n",
       "    </tr>\n",
       "    <tr>\n",
       "      <th>7826</th>\n",
       "      <td>7826</td>\n",
       "      <td>880</td>\n",
       "      <td>Building_Code-B9</td>\n",
       "      <td>Account_ID-1024</td>\n",
       "      <td>2018-04-25</td>\n",
       "      <td>2018-05-24</td>\n",
       "      <td>394400.0</td>\n",
       "      <td>66345.95</td>\n",
       "      <td>kWh</td>\n",
       "      <td>29</td>\n",
       "    </tr>\n",
       "    <tr>\n",
       "      <th>7827</th>\n",
       "      <td>7827</td>\n",
       "      <td>843</td>\n",
       "      <td>Building_Code-B9</td>\n",
       "      <td>Account_ID-1024</td>\n",
       "      <td>2018-05-24</td>\n",
       "      <td>2018-06-25</td>\n",
       "      <td>463200.0</td>\n",
       "      <td>76449.10</td>\n",
       "      <td>kWh</td>\n",
       "      <td>32</td>\n",
       "    </tr>\n",
       "  </tbody>\n",
       "</table>\n",
       "</div>"
      ],
      "text/plain": [
       "      row_number  row_id       Building_ID     Meter_Number  \\\n",
       "7823        7823     923  Building_Code-B9  Account_ID-1024   \n",
       "7824        7824     895  Building_Code-B9  Account_ID-1024   \n",
       "7826        7826     880  Building_Code-B9  Account_ID-1024   \n",
       "7827        7827     843  Building_Code-B9  Account_ID-1024   \n",
       "\n",
       "     Service_Start_Date Service_End_Date  Consumption  Current_Charges Unit  \\\n",
       "7823         2018-02-26       2018-03-27     408000.0         61029.68  kWh   \n",
       "7824         2018-03-27       2018-04-25     404000.0         59512.01  kWh   \n",
       "7826         2018-04-25       2018-05-24     394400.0         66345.95  kWh   \n",
       "7827         2018-05-24       2018-06-25     463200.0         76449.10  kWh   \n",
       "\n",
       "      Service_Duration  \n",
       "7823                29  \n",
       "7824                29  \n",
       "7826                29  \n",
       "7827                32  "
      ]
     },
     "execution_count": 132,
     "metadata": {},
     "output_type": "execute_result"
    }
   ],
   "source": [
    "i = 7825\n",
    "df[df.row_number.isin(range(i - 2, i + 3))]"
   ]
  },
  {
   "cell_type": "code",
   "execution_count": 131,
   "metadata": {},
   "outputs": [],
   "source": [
    "mask = df.row_number == 2874\n",
    "df_flags = pd.concat([df_flags, pd.DataFrame({'row_id':df.loc[mask, ].row_id.values, 'flag':'Bill range overlap with others, rows removed'})])\n",
    "df = df[~mask]"
   ]
  },
  {
   "cell_type": "markdown",
   "metadata": {},
   "source": [
    "### Drop the row_number field as it's no longer continuous"
   ]
  },
  {
   "cell_type": "code",
   "execution_count": 292,
   "metadata": {},
   "outputs": [],
   "source": [
    "df.drop('row_number', axis = 1, inplace = True)"
   ]
  },
  {
   "cell_type": "code",
   "execution_count": null,
   "metadata": {},
   "outputs": [],
   "source": []
  },
  {
   "cell_type": "markdown",
   "metadata": {},
   "source": [
    "### Check if it make sense to union the billing windows of different Meter_Numbers under the same Building_ID  - NOTHING"
   ]
  },
  {
   "cell_type": "code",
   "execution_count": 146,
   "metadata": {},
   "outputs": [],
   "source": [
    "tmp = df.groupby(['Building_ID', 'Meter_Number']).agg({'Service_Start_Date':'min', 'Service_End_Date':'max'}).reset_index()\n",
    "\n",
    "tmp.rename(columns = {'Service_Start_Date':'Min_Start_Date', 'Service_End_Date':'Max_End_Date'}, inplace = True)\n",
    "\n",
    "tmp.loc[:, 'Service_Duration'] = tmp.apply(lambda x: (x['Max_End_Date'] - x['Min_Start_Date']).days, axis = 1)\n",
    "\n",
    "df_duration = tmp.copy()\n",
    "del(tmp)"
   ]
  },
  {
   "cell_type": "code",
   "execution_count": 147,
   "metadata": {},
   "outputs": [
    {
     "data": {
      "text/html": [
       "<div>\n",
       "<style scoped>\n",
       "    .dataframe tbody tr th:only-of-type {\n",
       "        vertical-align: middle;\n",
       "    }\n",
       "\n",
       "    .dataframe tbody tr th {\n",
       "        vertical-align: top;\n",
       "    }\n",
       "\n",
       "    .dataframe thead th {\n",
       "        text-align: right;\n",
       "    }\n",
       "</style>\n",
       "<table border=\"1\" class=\"dataframe\">\n",
       "  <thead>\n",
       "    <tr style=\"text-align: right;\">\n",
       "      <th></th>\n",
       "      <th>Building_ID</th>\n",
       "      <th>Meter_Number</th>\n",
       "      <th>Min_Start_Date</th>\n",
       "      <th>Max_End_Date</th>\n",
       "      <th>Service_Duration</th>\n",
       "    </tr>\n",
       "  </thead>\n",
       "  <tbody>\n",
       "    <tr>\n",
       "      <th>0</th>\n",
       "      <td>Building_Code-B1</td>\n",
       "      <td>Account_ID-1000</td>\n",
       "      <td>2014-12-16</td>\n",
       "      <td>2017-12-31</td>\n",
       "      <td>1111</td>\n",
       "    </tr>\n",
       "  </tbody>\n",
       "</table>\n",
       "</div>"
      ],
      "text/plain": [
       "        Building_ID     Meter_Number Min_Start_Date Max_End_Date  \\\n",
       "0  Building_Code-B1  Account_ID-1000     2014-12-16   2017-12-31   \n",
       "\n",
       "   Service_Duration  \n",
       "0              1111  "
      ]
     },
     "execution_count": 147,
     "metadata": {},
     "output_type": "execute_result"
    }
   ],
   "source": [
    "mask = (df_duration.Building_ID == 'Building_Code-B1') & (df_duration.Meter_Number == 'Account_ID-1000')\n",
    "df_duration[mask]"
   ]
  },
  {
   "cell_type": "code",
   "execution_count": 148,
   "metadata": {},
   "outputs": [],
   "source": [
    "pysql = lambda q: pdsql.sqldf(q, globals())\n",
    "str1 = \"select distinct l.Building_ID, l.Meter_Number, r.Meter_Number\\\n",
    "        from df_duration l join df_duration r on l.Building_ID = r.Building_ID and l.Meter_Number != r.Meter_Number \\\n",
    "        and l.Max_End_Date = r.Min_Start_Date\"\n",
    "df_meter_mapping = pysql(str1)"
   ]
  },
  {
   "cell_type": "code",
   "execution_count": 149,
   "metadata": {},
   "outputs": [
    {
     "data": {
      "text/html": [
       "<div>\n",
       "<style scoped>\n",
       "    .dataframe tbody tr th:only-of-type {\n",
       "        vertical-align: middle;\n",
       "    }\n",
       "\n",
       "    .dataframe tbody tr th {\n",
       "        vertical-align: top;\n",
       "    }\n",
       "\n",
       "    .dataframe thead th {\n",
       "        text-align: right;\n",
       "    }\n",
       "</style>\n",
       "<table border=\"1\" class=\"dataframe\">\n",
       "  <thead>\n",
       "    <tr style=\"text-align: right;\">\n",
       "      <th></th>\n",
       "      <th>Building_ID</th>\n",
       "      <th>Meter_Number</th>\n",
       "      <th>Meter_Number</th>\n",
       "    </tr>\n",
       "  </thead>\n",
       "  <tbody>\n",
       "    <tr>\n",
       "      <th>0</th>\n",
       "      <td>Building_Code-B167</td>\n",
       "      <td>Account_ID-1407</td>\n",
       "      <td>Account_ID-1417</td>\n",
       "    </tr>\n",
       "    <tr>\n",
       "      <th>1</th>\n",
       "      <td>Building_Code-B167</td>\n",
       "      <td>Account_ID-1407</td>\n",
       "      <td>Account_ID-1418</td>\n",
       "    </tr>\n",
       "  </tbody>\n",
       "</table>\n",
       "</div>"
      ],
      "text/plain": [
       "          Building_ID     Meter_Number     Meter_Number\n",
       "0  Building_Code-B167  Account_ID-1407  Account_ID-1417\n",
       "1  Building_Code-B167  Account_ID-1407  Account_ID-1418"
      ]
     },
     "execution_count": 149,
     "metadata": {},
     "output_type": "execute_result"
    }
   ],
   "source": [
    "df_meter_mapping"
   ]
  },
  {
   "cell_type": "markdown",
   "metadata": {},
   "source": [
    "### Seems one account was splitted into 2 after 2017-01-04"
   ]
  },
  {
   "cell_type": "code",
   "execution_count": 150,
   "metadata": {},
   "outputs": [
    {
     "data": {
      "text/html": [
       "<div>\n",
       "<style scoped>\n",
       "    .dataframe tbody tr th:only-of-type {\n",
       "        vertical-align: middle;\n",
       "    }\n",
       "\n",
       "    .dataframe tbody tr th {\n",
       "        vertical-align: top;\n",
       "    }\n",
       "\n",
       "    .dataframe thead th {\n",
       "        text-align: right;\n",
       "    }\n",
       "</style>\n",
       "<table border=\"1\" class=\"dataframe\">\n",
       "  <thead>\n",
       "    <tr style=\"text-align: right;\">\n",
       "      <th></th>\n",
       "      <th>Building_ID</th>\n",
       "      <th>Meter_Number</th>\n",
       "      <th>Min_Start_Date</th>\n",
       "      <th>Max_End_Date</th>\n",
       "      <th>Service_Duration</th>\n",
       "    </tr>\n",
       "  </thead>\n",
       "  <tbody>\n",
       "    <tr>\n",
       "      <th>121</th>\n",
       "      <td>Building_Code-B167</td>\n",
       "      <td>Account_ID-1407</td>\n",
       "      <td>2015-01-05</td>\n",
       "      <td>2017-01-04</td>\n",
       "      <td>730</td>\n",
       "    </tr>\n",
       "    <tr>\n",
       "      <th>126</th>\n",
       "      <td>Building_Code-B167</td>\n",
       "      <td>Account_ID-1417</td>\n",
       "      <td>2017-01-04</td>\n",
       "      <td>2019-02-01</td>\n",
       "      <td>758</td>\n",
       "    </tr>\n",
       "    <tr>\n",
       "      <th>127</th>\n",
       "      <td>Building_Code-B167</td>\n",
       "      <td>Account_ID-1418</td>\n",
       "      <td>2017-01-04</td>\n",
       "      <td>2019-01-01</td>\n",
       "      <td>727</td>\n",
       "    </tr>\n",
       "  </tbody>\n",
       "</table>\n",
       "</div>"
      ],
      "text/plain": [
       "            Building_ID     Meter_Number Min_Start_Date Max_End_Date  \\\n",
       "121  Building_Code-B167  Account_ID-1407     2015-01-05   2017-01-04   \n",
       "126  Building_Code-B167  Account_ID-1417     2017-01-04   2019-02-01   \n",
       "127  Building_Code-B167  Account_ID-1418     2017-01-04   2019-01-01   \n",
       "\n",
       "     Service_Duration  \n",
       "121               730  \n",
       "126               758  \n",
       "127               727  "
      ]
     },
     "execution_count": 150,
     "metadata": {},
     "output_type": "execute_result"
    }
   ],
   "source": [
    "mask = df_duration.Meter_Number.isin(['Account_ID-1407', 'Account_ID-1417', 'Account_ID-1418'])\n",
    "df_duration[mask]"
   ]
  },
  {
   "cell_type": "code",
   "execution_count": null,
   "metadata": {},
   "outputs": [],
   "source": []
  },
  {
   "cell_type": "markdown",
   "metadata": {},
   "source": [
    "### 3. Find the % of days missing for each Meter_Number, check the ones with high %, check if there should be merging of Meter_Numbers "
   ]
  },
  {
   "cell_type": "code",
   "execution_count": null,
   "metadata": {},
   "outputs": [],
   "source": [
    "# # sort by building_id, meter number\n",
    "# df = df.sort_values(by = ['Building_ID', 'Meter_Number', 'Service_Start_Date'], ascending=[True, True, True])\n",
    "\n",
    "# def merge_dates(grp):\n",
    "#     # Find contiguous date groups, and get the first/last start/end date for each group.\n",
    "#     dt_groups = (grp['Service_Start_Date'] != grp['Service_End_Date'].shift()).cumsum()\n",
    "#     return grp.groupby(dt_groups).agg({'Service_Start_Date': 'first', 'Service_End_Date': ['last', 'count']})\n",
    "\n",
    "# # Perform a groupby and apply the merge_dates function, followed by formatting.\n",
    "# df_gap = df.groupby(['Building_ID', 'Meter_Number']).apply(merge_dates)\n",
    "\n",
    "# df_gap = df_gap.reset_index().drop('level_2', axis = 1)\n",
    "# df_gap = df_gap.reset_index()\n",
    "\n",
    "# df_gap.columns = ['rowNum', 'Building_ID', 'Meter_Number', \n",
    "#        'Service_Start_Date', 'Service_End_Date']\n",
    "\n",
    "# df_gap['nextRowNum'] = df_gap['rowNum'].map(lambda x: x+1)\n",
    "\n",
    "# # Join the dataframe with itself to find the gap between service ranges\n",
    "# df_gap = pd.merge(df_gap, df_gap[['Building_ID', 'Meter_Number', 'nextRowNum', 'Service_End_Date']],\\\n",
    "#         left_on = ['Building_ID', 'Meter_Number', 'rowNum'], right_on = ['Building_ID', 'Meter_Number', 'nextRowNum'], how = 'left')\n",
    "\n",
    "# # consecutive days of billing for the same meter number\n",
    "# df_gap['consecutive_days'] = \\\n",
    "# df_gap[['Service_End_Date_x', 'Service_Start_Date']].apply(lambda x: (x[0] - x[1]).days, axis = 1)\n",
    "\n",
    "# # number of days elapsed since the previous service range\n",
    "# df_gap['gap_days'] = \\\n",
    "# df_gap[['Service_Start_Date', 'Service_End_Date_y']].apply(lambda x: (x[0] - x[1]).days, axis = 1)\n",
    "\n",
    "\n",
    "# # Rename and reorder the columns\n",
    "# df_gap = df_gap[['Building_ID', 'Meter_Number', 'Service_Start_Date', 'Service_End_Date_x', 'consecutive_days', 'gap_days']]\n",
    "# df_gap.columns = ['Building_ID', 'Meter_Number', 'Service_Start_Date', 'Service_End_Date', 'consecutive_days', 'gap_days']\n",
    "\n",
    "# # The first consecutive period of billing days has no gap days and should be filled with 0\n",
    "# df_gap = df_gap.fillna(0)"
   ]
  },
  {
   "cell_type": "markdown",
   "metadata": {},
   "source": [
    "#### For some cases the service_end_date and start_date overlap with each other or has a 1 day gap, treat as no gap "
   ]
  },
  {
   "cell_type": "code",
   "execution_count": null,
   "metadata": {},
   "outputs": [],
   "source": [
    "# mask = (df_gap.gap_days == 1)|(df_gap.gap_days == -1)\n",
    "# df_gap.loc[mask, 'gap_days'] = 0\n",
    "\n",
    "# df_gap[mask].shape\n",
    "\n",
    "# mask = df_gap.gap_days < 0\n",
    "# df_gap[mask].sort_values('gap_days').sort_values(['Building_ID', 'Meter_Number'])\n",
    "\n",
    "# mask = (df_gap.Building_ID == 'Building_Code-B52') & (df_gap.Meter_Number == 'Account_ID-1130')\n",
    "# df_gap[mask]\n",
    "\n",
    "# mask = (df.Building_ID == 'Building_Code-B52') & (df.Meter_Number == 'Account_ID-1130')\n",
    "# df[mask]"
   ]
  },
  {
   "cell_type": "code",
   "execution_count": null,
   "metadata": {},
   "outputs": [],
   "source": []
  },
  {
   "cell_type": "markdown",
   "metadata": {},
   "source": [
    "### Assign Account_ID"
   ]
  },
  {
   "cell_type": "code",
   "execution_count": 164,
   "metadata": {},
   "outputs": [],
   "source": [
    "df.loc[:, 'Account'] = df.apply(lambda x: x['Building_ID'] + ' - ' + x['Meter_Number'], axis = 1)"
   ]
  },
  {
   "cell_type": "code",
   "execution_count": 165,
   "metadata": {},
   "outputs": [
    {
     "data": {
      "text/html": [
       "<div>\n",
       "<style scoped>\n",
       "    .dataframe tbody tr th:only-of-type {\n",
       "        vertical-align: middle;\n",
       "    }\n",
       "\n",
       "    .dataframe tbody tr th {\n",
       "        vertical-align: top;\n",
       "    }\n",
       "\n",
       "    .dataframe thead th {\n",
       "        text-align: right;\n",
       "    }\n",
       "</style>\n",
       "<table border=\"1\" class=\"dataframe\">\n",
       "  <thead>\n",
       "    <tr style=\"text-align: right;\">\n",
       "      <th></th>\n",
       "      <th>row_number</th>\n",
       "      <th>row_id</th>\n",
       "      <th>Building_ID</th>\n",
       "      <th>Meter_Number</th>\n",
       "      <th>Service_Start_Date</th>\n",
       "      <th>Service_End_Date</th>\n",
       "      <th>Consumption</th>\n",
       "      <th>Current_Charges</th>\n",
       "      <th>Unit</th>\n",
       "      <th>Service_Duration</th>\n",
       "      <th>Account</th>\n",
       "    </tr>\n",
       "  </thead>\n",
       "  <tbody>\n",
       "    <tr>\n",
       "      <th>0</th>\n",
       "      <td>0</td>\n",
       "      <td>30</td>\n",
       "      <td>Building_Code-B1</td>\n",
       "      <td>Account_ID-1000</td>\n",
       "      <td>2014-12-16</td>\n",
       "      <td>2015-01-16</td>\n",
       "      <td>2473.47</td>\n",
       "      <td>237.45</td>\n",
       "      <td>kWh</td>\n",
       "      <td>31</td>\n",
       "      <td>Building_Code-B1 - Account_ID-1000</td>\n",
       "    </tr>\n",
       "    <tr>\n",
       "      <th>1</th>\n",
       "      <td>1</td>\n",
       "      <td>19</td>\n",
       "      <td>Building_Code-B1</td>\n",
       "      <td>Account_ID-1000</td>\n",
       "      <td>2015-01-16</td>\n",
       "      <td>2015-02-17</td>\n",
       "      <td>3010.80</td>\n",
       "      <td>406.46</td>\n",
       "      <td>kWh</td>\n",
       "      <td>32</td>\n",
       "      <td>Building_Code-B1 - Account_ID-1000</td>\n",
       "    </tr>\n",
       "    <tr>\n",
       "      <th>2</th>\n",
       "      <td>2</td>\n",
       "      <td>0</td>\n",
       "      <td>Building_Code-B1</td>\n",
       "      <td>Account_ID-1000</td>\n",
       "      <td>2015-02-17</td>\n",
       "      <td>2015-03-17</td>\n",
       "      <td>2815.17</td>\n",
       "      <td>450.43</td>\n",
       "      <td>kWh</td>\n",
       "      <td>28</td>\n",
       "      <td>Building_Code-B1 - Account_ID-1000</td>\n",
       "    </tr>\n",
       "    <tr>\n",
       "      <th>3</th>\n",
       "      <td>3</td>\n",
       "      <td>31</td>\n",
       "      <td>Building_Code-B1</td>\n",
       "      <td>Account_ID-1000</td>\n",
       "      <td>2015-03-17</td>\n",
       "      <td>2015-04-17</td>\n",
       "      <td>3446.34</td>\n",
       "      <td>251.58</td>\n",
       "      <td>kWh</td>\n",
       "      <td>31</td>\n",
       "      <td>Building_Code-B1 - Account_ID-1000</td>\n",
       "    </tr>\n",
       "    <tr>\n",
       "      <th>4</th>\n",
       "      <td>4</td>\n",
       "      <td>20</td>\n",
       "      <td>Building_Code-B1</td>\n",
       "      <td>Account_ID-1000</td>\n",
       "      <td>2015-04-17</td>\n",
       "      <td>2015-05-15</td>\n",
       "      <td>3217.62</td>\n",
       "      <td>167.32</td>\n",
       "      <td>kWh</td>\n",
       "      <td>28</td>\n",
       "      <td>Building_Code-B1 - Account_ID-1000</td>\n",
       "    </tr>\n",
       "  </tbody>\n",
       "</table>\n",
       "</div>"
      ],
      "text/plain": [
       "   row_number  row_id       Building_ID     Meter_Number Service_Start_Date  \\\n",
       "0           0      30  Building_Code-B1  Account_ID-1000         2014-12-16   \n",
       "1           1      19  Building_Code-B1  Account_ID-1000         2015-01-16   \n",
       "2           2       0  Building_Code-B1  Account_ID-1000         2015-02-17   \n",
       "3           3      31  Building_Code-B1  Account_ID-1000         2015-03-17   \n",
       "4           4      20  Building_Code-B1  Account_ID-1000         2015-04-17   \n",
       "\n",
       "  Service_End_Date  Consumption  Current_Charges Unit  Service_Duration  \\\n",
       "0       2015-01-16      2473.47           237.45  kWh                31   \n",
       "1       2015-02-17      3010.80           406.46  kWh                32   \n",
       "2       2015-03-17      2815.17           450.43  kWh                28   \n",
       "3       2015-04-17      3446.34           251.58  kWh                31   \n",
       "4       2015-05-15      3217.62           167.32  kWh                28   \n",
       "\n",
       "                              Account  \n",
       "0  Building_Code-B1 - Account_ID-1000  \n",
       "1  Building_Code-B1 - Account_ID-1000  \n",
       "2  Building_Code-B1 - Account_ID-1000  \n",
       "3  Building_Code-B1 - Account_ID-1000  \n",
       "4  Building_Code-B1 - Account_ID-1000  "
      ]
     },
     "execution_count": 165,
     "metadata": {},
     "output_type": "execute_result"
    }
   ],
   "source": [
    "df.head()"
   ]
  },
  {
   "cell_type": "code",
   "execution_count": null,
   "metadata": {},
   "outputs": [],
   "source": []
  },
  {
   "cell_type": "markdown",
   "metadata": {},
   "source": [
    "# Step 4: Prorate the bills to calendar months"
   ]
  },
  {
   "cell_type": "markdown",
   "metadata": {},
   "source": [
    "### Save a copy of the cleaned version of the data frame containing all KWH related data"
   ]
  },
  {
   "cell_type": "code",
   "execution_count": 293,
   "metadata": {},
   "outputs": [],
   "source": [
    "df_kwh_clean = df.copy()"
   ]
  },
  {
   "cell_type": "code",
   "execution_count": 294,
   "metadata": {},
   "outputs": [],
   "source": [
    "df = df_kwh_clean.copy()"
   ]
  },
  {
   "cell_type": "code",
   "execution_count": 295,
   "metadata": {},
   "outputs": [
    {
     "data": {
      "text/html": [
       "<div>\n",
       "<style scoped>\n",
       "    .dataframe tbody tr th:only-of-type {\n",
       "        vertical-align: middle;\n",
       "    }\n",
       "\n",
       "    .dataframe tbody tr th {\n",
       "        vertical-align: top;\n",
       "    }\n",
       "\n",
       "    .dataframe thead th {\n",
       "        text-align: right;\n",
       "    }\n",
       "</style>\n",
       "<table border=\"1\" class=\"dataframe\">\n",
       "  <thead>\n",
       "    <tr style=\"text-align: right;\">\n",
       "      <th></th>\n",
       "      <th>row_id</th>\n",
       "      <th>Building_ID</th>\n",
       "      <th>Meter_Number</th>\n",
       "      <th>Service_Start_Date</th>\n",
       "      <th>Service_End_Date</th>\n",
       "      <th>Consumption</th>\n",
       "      <th>Current_Charges</th>\n",
       "      <th>Unit</th>\n",
       "      <th>Service_Duration</th>\n",
       "      <th>Account</th>\n",
       "    </tr>\n",
       "  </thead>\n",
       "  <tbody>\n",
       "    <tr>\n",
       "      <th>0</th>\n",
       "      <td>30</td>\n",
       "      <td>Building_Code-B1</td>\n",
       "      <td>Account_ID-1000</td>\n",
       "      <td>2014-12-16</td>\n",
       "      <td>2015-01-16</td>\n",
       "      <td>2473.47</td>\n",
       "      <td>237.45</td>\n",
       "      <td>kWh</td>\n",
       "      <td>31</td>\n",
       "      <td>Building_Code-B1 - Account_ID-1000</td>\n",
       "    </tr>\n",
       "    <tr>\n",
       "      <th>1</th>\n",
       "      <td>19</td>\n",
       "      <td>Building_Code-B1</td>\n",
       "      <td>Account_ID-1000</td>\n",
       "      <td>2015-01-16</td>\n",
       "      <td>2015-02-17</td>\n",
       "      <td>3010.80</td>\n",
       "      <td>406.46</td>\n",
       "      <td>kWh</td>\n",
       "      <td>32</td>\n",
       "      <td>Building_Code-B1 - Account_ID-1000</td>\n",
       "    </tr>\n",
       "    <tr>\n",
       "      <th>2</th>\n",
       "      <td>0</td>\n",
       "      <td>Building_Code-B1</td>\n",
       "      <td>Account_ID-1000</td>\n",
       "      <td>2015-02-17</td>\n",
       "      <td>2015-03-17</td>\n",
       "      <td>2815.17</td>\n",
       "      <td>450.43</td>\n",
       "      <td>kWh</td>\n",
       "      <td>28</td>\n",
       "      <td>Building_Code-B1 - Account_ID-1000</td>\n",
       "    </tr>\n",
       "    <tr>\n",
       "      <th>3</th>\n",
       "      <td>31</td>\n",
       "      <td>Building_Code-B1</td>\n",
       "      <td>Account_ID-1000</td>\n",
       "      <td>2015-03-17</td>\n",
       "      <td>2015-04-17</td>\n",
       "      <td>3446.34</td>\n",
       "      <td>251.58</td>\n",
       "      <td>kWh</td>\n",
       "      <td>31</td>\n",
       "      <td>Building_Code-B1 - Account_ID-1000</td>\n",
       "    </tr>\n",
       "    <tr>\n",
       "      <th>4</th>\n",
       "      <td>20</td>\n",
       "      <td>Building_Code-B1</td>\n",
       "      <td>Account_ID-1000</td>\n",
       "      <td>2015-04-17</td>\n",
       "      <td>2015-05-15</td>\n",
       "      <td>3217.62</td>\n",
       "      <td>167.32</td>\n",
       "      <td>kWh</td>\n",
       "      <td>28</td>\n",
       "      <td>Building_Code-B1 - Account_ID-1000</td>\n",
       "    </tr>\n",
       "  </tbody>\n",
       "</table>\n",
       "</div>"
      ],
      "text/plain": [
       "   row_id       Building_ID     Meter_Number Service_Start_Date  \\\n",
       "0      30  Building_Code-B1  Account_ID-1000         2014-12-16   \n",
       "1      19  Building_Code-B1  Account_ID-1000         2015-01-16   \n",
       "2       0  Building_Code-B1  Account_ID-1000         2015-02-17   \n",
       "3      31  Building_Code-B1  Account_ID-1000         2015-03-17   \n",
       "4      20  Building_Code-B1  Account_ID-1000         2015-04-17   \n",
       "\n",
       "  Service_End_Date  Consumption  Current_Charges Unit  Service_Duration  \\\n",
       "0       2015-01-16      2473.47           237.45  kWh                31   \n",
       "1       2015-02-17      3010.80           406.46  kWh                32   \n",
       "2       2015-03-17      2815.17           450.43  kWh                28   \n",
       "3       2015-04-17      3446.34           251.58  kWh                31   \n",
       "4       2015-05-15      3217.62           167.32  kWh                28   \n",
       "\n",
       "                              Account  \n",
       "0  Building_Code-B1 - Account_ID-1000  \n",
       "1  Building_Code-B1 - Account_ID-1000  \n",
       "2  Building_Code-B1 - Account_ID-1000  \n",
       "3  Building_Code-B1 - Account_ID-1000  \n",
       "4  Building_Code-B1 - Account_ID-1000  "
      ]
     },
     "execution_count": 295,
     "metadata": {},
     "output_type": "execute_result"
    }
   ],
   "source": [
    "df.head()"
   ]
  },
  {
   "cell_type": "markdown",
   "metadata": {},
   "source": [
    "### Check if the service_end_date is inclusive for each bill"
   ]
  },
  {
   "cell_type": "code",
   "execution_count": 296,
   "metadata": {},
   "outputs": [],
   "source": [
    "# order by dataframe and assign a row number\n",
    "df = df.sort_values(by = ['Building_ID', 'Meter_Number', 'Service_Start_Date', 'Service_End_Date'], ascending=[True, True, True, True]).copy()\n",
    "df = df.reset_index(drop=True)\n",
    "df = df.reset_index()\n",
    "df.rename(columns = {'index':'row_number'}, inplace = True)"
   ]
  },
  {
   "cell_type": "code",
   "execution_count": 311,
   "metadata": {},
   "outputs": [],
   "source": [
    "df_next = df.loc[:, ['row_number', 'Account', 'Service_Start_Date', 'Service_End_Date']]\n",
    "df_next.loc[:, 'row_number'] = df_next.row_number.map(lambda x: x - 1)\n",
    "\n",
    "tmp = df.merge(df_next, on = ['row_number', 'Account'], how = 'left')\n",
    "\n"
   ]
  },
  {
   "cell_type": "code",
   "execution_count": 315,
   "metadata": {},
   "outputs": [],
   "source": [
    "tmp.columns = ['row_number', 'row_id', 'Building_ID', 'Meter_Number',\n",
    "       'Service_Start_Date', 'Service_End_Date', 'Consumption',\n",
    "       'Current_Charges', 'Unit', 'Service_Duration', 'Account',\n",
    "       'Service_Start_Date_Next', 'Service_End_Date_Next']\n",
    "\n",
    "tmp.loc[:, 'Diff_Next'] = tmp.apply(lambda x: (x['Service_Start_Date_Next'] - x['Service_End_Date']).days, axis = 1)"
   ]
  },
  {
   "cell_type": "code",
   "execution_count": 320,
   "metadata": {},
   "outputs": [],
   "source": [
    "df = tmp.copy()\n",
    "del(tmp)"
   ]
  },
  {
   "cell_type": "markdown",
   "metadata": {},
   "source": [
    "### Most cases, the start_date of the next bill is the same as the end_date of the previous bill (end_date is non-inclusive)\n",
    "- But there are ~ 2,000 rows where next_start = previous_end + 1 day, meaning the previous_end_date is inclusive\n",
    "- Solution - for any bill, if end_date = next_start_date - 1, then its bill window includes its end_date; otherwise, not inclusive"
   ]
  },
  {
   "cell_type": "code",
   "execution_count": 321,
   "metadata": {
    "collapsed": true
   },
   "outputs": [
    {
     "data": {
      "text/plain": [
       "-8.0         2\n",
       "-6.0         2\n",
       "-3.0         1\n",
       "-2.0        10\n",
       "-1.0        11\n",
       " 0.0      5835\n",
       " 1.0      1978\n",
       " 2.0        13\n",
       " 3.0         5\n",
       " 4.0         2\n",
       " 6.0         1\n",
       " 9.0         1\n",
       " 10.0        2\n",
       " 27.0        3\n",
       " 28.0        9\n",
       " 29.0        8\n",
       " 30.0        5\n",
       " 31.0        6\n",
       " 32.0        4\n",
       " 34.0        1\n",
       " 60.0        1\n",
       " 61.0        5\n",
       " 62.0        2\n",
       " 90.0        1\n",
       " 92.0        1\n",
       " 120.0       1\n",
       " 182.0       1\n",
       " 184.0       1\n",
       " 213.0       1\n",
       " 334.0       1\n",
       "Name: Diff_Next, dtype: int64"
      ]
     },
     "execution_count": 321,
     "metadata": {},
     "output_type": "execute_result"
    }
   ],
   "source": [
    "df.Diff_Next.value_counts().sort_index()"
   ]
  },
  {
   "cell_type": "markdown",
   "metadata": {},
   "source": [
    "### Add the month associated with service_start_date and service_end_date"
   ]
  },
  {
   "cell_type": "code",
   "execution_count": 322,
   "metadata": {},
   "outputs": [],
   "source": [
    "df['Start_Date_Month'] = df['Service_Start_Date'].apply(\\\n",
    "  lambda x: pd.to_datetime('-'.join([str(x.year), str(x.month)])))\n",
    "\n",
    "df['End_Date_Month'] = df.apply(\\\n",
    "  lambda x: pd.to_datetime('-'.join([str(x['Service_End_Date'].year), str(x['Service_End_Date'].month)]))\\\n",
    "            if x['Diff_Next'] == 1 else pd.to_datetime('-'.join([str((x['Service_End_Date'] + relativedelta(days=-1)).year), str((x['Service_End_Date'] + relativedelta(days=-1)).month)]))\\\n",
    "            ,axis = 1)"
   ]
  },
  {
   "cell_type": "markdown",
   "metadata": {},
   "source": [
    "### Create a dataframe of the relevant columns to work on the mapping between row_id to the calendar month."
   ]
  },
  {
   "cell_type": "code",
   "execution_count": 325,
   "metadata": {},
   "outputs": [],
   "source": [
    "cols = ['row_id', 'Start_Date_Month', 'End_Date_Month']\n",
    "temp = df[cols]"
   ]
  },
  {
   "cell_type": "markdown",
   "metadata": {},
   "source": [
    "Create a new data frame to store the mapping. The dataframe will have 3 columns: 'row_id' (identifier of the bill), 'Start_Date_Month' and 'End_Date_Month'. We'll collapse the last 2 columns into 1 in order to get the associated calendar month for each bill."
   ]
  },
  {
   "cell_type": "markdown",
   "metadata": {},
   "source": [
    "First, save all the row-month mapping between row_id and its start_date_month and end_date_month to the new dataframe"
   ]
  },
  {
   "cell_type": "code",
   "execution_count": 326,
   "metadata": {},
   "outputs": [],
   "source": [
    "df_month_row_mapping = temp.copy()"
   ]
  },
  {
   "cell_type": "markdown",
   "metadata": {},
   "source": [
    "Second, there are cases where the billing window is longer than one calendar month. \n",
    "\n",
    "- So for each bill, check if the billing window is longer than one month;\n",
    "If so, save the Start_Date_Month in df_month_row_mapping and then replace it with its subsequent month until the billing window is less than one month."
   ]
  },
  {
   "cell_type": "code",
   "execution_count": 327,
   "metadata": {},
   "outputs": [],
   "source": [
    "while (temp.shape[0] > 0):\n",
    "    temp.loc[:, 'Start_Date_Month_Next'] = \\\n",
    "    temp['Start_Date_Month'].map(lambda x: x + relativedelta(months=+1))\n",
    "\n",
    "    temp.loc[:, 'Ind'] = \\\n",
    "    temp.apply(lambda x: 1 if x['Start_Date_Month_Next'] < x['End_Date_Month'] else 0, axis = 1)\n",
    "\n",
    "\n",
    "    mask = temp['Ind'] == 1\n",
    "    temp = temp.loc[mask,['row_id', 'Start_Date_Month_Next', 'End_Date_Month']].copy()\n",
    "    temp.columns = ['row_id', 'Start_Date_Month', 'End_Date_Month']\n",
    "\n",
    "    df_month_row_mapping = pd.concat([df_month_row_mapping, temp])"
   ]
  },
  {
   "cell_type": "markdown",
   "metadata": {},
   "source": [
    "Collapse the  'Start_Date_Month' and 'End_Date_Month' columns into one column that contains all corresponding calendar months of a given bill."
   ]
  },
  {
   "cell_type": "code",
   "execution_count": 328,
   "metadata": {},
   "outputs": [],
   "source": [
    "temp = pd.melt(df_month_row_mapping, id_vars = df_month_row_mapping.columns[0:-2].values, value_vars = df_month_row_mapping[cols].columns[-2:])\n",
    "temp.drop('variable', axis = 1, inplace = True)\n",
    "\n",
    "temp = temp.drop_duplicates()\n",
    "temp.columns  = ['row_id', 'Month']"
   ]
  },
  {
   "cell_type": "code",
   "execution_count": 330,
   "metadata": {},
   "outputs": [],
   "source": [
    "temp = pd.merge(temp, df, on = 'row_id', how = 'left')"
   ]
  },
  {
   "cell_type": "code",
   "execution_count": 332,
   "metadata": {},
   "outputs": [],
   "source": [
    "temp.loc[:, 'Prorated_Days'] = \\\n",
    "temp.apply(lambda x: \\\n",
    "       (min(x['Month'] + relativedelta(months = 1), (x['Service_End_Date'] + relativedelta(days=1))) \\\n",
    "        - max(x['Service_Start_Date'], x['Month'])).days if x['Diff_Next'] == 1\\\n",
    "       else (min(x['Month'] + relativedelta(months = 1), x['Service_End_Date']) \\\n",
    "        - max(x['Service_Start_Date'], x['Month'])).days\\\n",
    "       , axis = 1) "
   ]
  },
  {
   "cell_type": "code",
   "execution_count": 341,
   "metadata": {},
   "outputs": [],
   "source": [
    "temp.loc[:, 'Bill_Duration'] = \\\n",
    "temp.apply(lambda x: (x['Service_End_Date'] + relativedelta(days=1) - x['Service_Start_Date']).days\\\n",
    "       if x['Diff_Next'] == 1\\\n",
    "       else (x['Service_End_Date'] - x['Service_Start_Date']).days\\\n",
    "       , axis = 1) "
   ]
  },
  {
   "cell_type": "markdown",
   "metadata": {},
   "source": [
    "\n",
    "Calculate the prorated kwh consumption values based on the prorated days."
   ]
  },
  {
   "cell_type": "code",
   "execution_count": 345,
   "metadata": {},
   "outputs": [],
   "source": [
    "temp.loc[:, 'Prorated_KWH'] = \\\n",
    "temp.apply(lambda x: (x['Consumption'] / x['Bill_Duration'] )* x['Prorated_Days'], axis = 1)"
   ]
  },
  {
   "cell_type": "code",
   "execution_count": 348,
   "metadata": {},
   "outputs": [],
   "source": [
    "temp.loc[:, 'Prorated_Charges'] = \\\n",
    "temp.apply(lambda x: (x['Current_Charges'] / x['Bill_Duration'] )* x['Prorated_Days'], axis = 1)"
   ]
  },
  {
   "cell_type": "markdown",
   "metadata": {},
   "source": [
    "Save a dataframe that contains the full dataset as well as the corresponding calendar month for each bill. This dataframe will be useful to calculate the gaps days per account per month later. Note this dataframe has more rows than the original dataset since one bill may correspond to multiple calendar months."
   ]
  },
  {
   "cell_type": "code",
   "execution_count": 349,
   "metadata": {},
   "outputs": [],
   "source": [
    "df_with_calendar_month = temp.copy()"
   ]
  },
  {
   "cell_type": "code",
   "execution_count": 350,
   "metadata": {
    "scrolled": false
   },
   "outputs": [
    {
     "data": {
      "text/html": [
       "<div>\n",
       "<style scoped>\n",
       "    .dataframe tbody tr th:only-of-type {\n",
       "        vertical-align: middle;\n",
       "    }\n",
       "\n",
       "    .dataframe tbody tr th {\n",
       "        vertical-align: top;\n",
       "    }\n",
       "\n",
       "    .dataframe thead th {\n",
       "        text-align: right;\n",
       "    }\n",
       "</style>\n",
       "<table border=\"1\" class=\"dataframe\">\n",
       "  <thead>\n",
       "    <tr style=\"text-align: right;\">\n",
       "      <th></th>\n",
       "      <th>row_id</th>\n",
       "      <th>Month</th>\n",
       "      <th>row_number</th>\n",
       "      <th>Building_ID</th>\n",
       "      <th>Meter_Number</th>\n",
       "      <th>Service_Start_Date</th>\n",
       "      <th>Service_End_Date</th>\n",
       "      <th>Consumption</th>\n",
       "      <th>Current_Charges</th>\n",
       "      <th>Unit</th>\n",
       "      <th>Account</th>\n",
       "      <th>Service_Start_Date_Next</th>\n",
       "      <th>Service_End_Date_Next</th>\n",
       "      <th>Diff_Next</th>\n",
       "      <th>Start_Date_Month</th>\n",
       "      <th>End_Date_Month</th>\n",
       "      <th>Prorated_Days</th>\n",
       "      <th>Bill_Duration</th>\n",
       "      <th>Prorated_KWH</th>\n",
       "      <th>Prorated_Charges</th>\n",
       "    </tr>\n",
       "  </thead>\n",
       "  <tbody>\n",
       "    <tr>\n",
       "      <th>0</th>\n",
       "      <td>30</td>\n",
       "      <td>2014-12-01</td>\n",
       "      <td>0</td>\n",
       "      <td>Building_Code-B1</td>\n",
       "      <td>Account_ID-1000</td>\n",
       "      <td>2014-12-16</td>\n",
       "      <td>2015-01-16</td>\n",
       "      <td>2473.47</td>\n",
       "      <td>237.45</td>\n",
       "      <td>kWh</td>\n",
       "      <td>Building_Code-B1 - Account_ID-1000</td>\n",
       "      <td>2015-01-16</td>\n",
       "      <td>2015-02-17</td>\n",
       "      <td>0.0</td>\n",
       "      <td>2014-12-01</td>\n",
       "      <td>2015-01-01</td>\n",
       "      <td>16</td>\n",
       "      <td>31</td>\n",
       "      <td>1276.629677</td>\n",
       "      <td>122.554839</td>\n",
       "    </tr>\n",
       "    <tr>\n",
       "      <th>1</th>\n",
       "      <td>19</td>\n",
       "      <td>2015-01-01</td>\n",
       "      <td>1</td>\n",
       "      <td>Building_Code-B1</td>\n",
       "      <td>Account_ID-1000</td>\n",
       "      <td>2015-01-16</td>\n",
       "      <td>2015-02-17</td>\n",
       "      <td>3010.80</td>\n",
       "      <td>406.46</td>\n",
       "      <td>kWh</td>\n",
       "      <td>Building_Code-B1 - Account_ID-1000</td>\n",
       "      <td>2015-02-17</td>\n",
       "      <td>2015-03-17</td>\n",
       "      <td>0.0</td>\n",
       "      <td>2015-01-01</td>\n",
       "      <td>2015-02-01</td>\n",
       "      <td>16</td>\n",
       "      <td>32</td>\n",
       "      <td>1505.400000</td>\n",
       "      <td>203.230000</td>\n",
       "    </tr>\n",
       "    <tr>\n",
       "      <th>2</th>\n",
       "      <td>0</td>\n",
       "      <td>2015-02-01</td>\n",
       "      <td>2</td>\n",
       "      <td>Building_Code-B1</td>\n",
       "      <td>Account_ID-1000</td>\n",
       "      <td>2015-02-17</td>\n",
       "      <td>2015-03-17</td>\n",
       "      <td>2815.17</td>\n",
       "      <td>450.43</td>\n",
       "      <td>kWh</td>\n",
       "      <td>Building_Code-B1 - Account_ID-1000</td>\n",
       "      <td>2015-03-17</td>\n",
       "      <td>2015-04-17</td>\n",
       "      <td>0.0</td>\n",
       "      <td>2015-02-01</td>\n",
       "      <td>2015-03-01</td>\n",
       "      <td>12</td>\n",
       "      <td>28</td>\n",
       "      <td>1206.501429</td>\n",
       "      <td>193.041429</td>\n",
       "    </tr>\n",
       "    <tr>\n",
       "      <th>3</th>\n",
       "      <td>31</td>\n",
       "      <td>2015-03-01</td>\n",
       "      <td>3</td>\n",
       "      <td>Building_Code-B1</td>\n",
       "      <td>Account_ID-1000</td>\n",
       "      <td>2015-03-17</td>\n",
       "      <td>2015-04-17</td>\n",
       "      <td>3446.34</td>\n",
       "      <td>251.58</td>\n",
       "      <td>kWh</td>\n",
       "      <td>Building_Code-B1 - Account_ID-1000</td>\n",
       "      <td>2015-04-17</td>\n",
       "      <td>2015-05-15</td>\n",
       "      <td>0.0</td>\n",
       "      <td>2015-03-01</td>\n",
       "      <td>2015-04-01</td>\n",
       "      <td>15</td>\n",
       "      <td>31</td>\n",
       "      <td>1667.583871</td>\n",
       "      <td>121.732258</td>\n",
       "    </tr>\n",
       "    <tr>\n",
       "      <th>4</th>\n",
       "      <td>20</td>\n",
       "      <td>2015-04-01</td>\n",
       "      <td>4</td>\n",
       "      <td>Building_Code-B1</td>\n",
       "      <td>Account_ID-1000</td>\n",
       "      <td>2015-04-17</td>\n",
       "      <td>2015-05-15</td>\n",
       "      <td>3217.62</td>\n",
       "      <td>167.32</td>\n",
       "      <td>kWh</td>\n",
       "      <td>Building_Code-B1 - Account_ID-1000</td>\n",
       "      <td>2015-05-15</td>\n",
       "      <td>2015-06-16</td>\n",
       "      <td>0.0</td>\n",
       "      <td>2015-04-01</td>\n",
       "      <td>2015-05-01</td>\n",
       "      <td>14</td>\n",
       "      <td>28</td>\n",
       "      <td>1608.810000</td>\n",
       "      <td>83.660000</td>\n",
       "    </tr>\n",
       "  </tbody>\n",
       "</table>\n",
       "</div>"
      ],
      "text/plain": [
       "   row_id      Month  row_number       Building_ID     Meter_Number  \\\n",
       "0      30 2014-12-01           0  Building_Code-B1  Account_ID-1000   \n",
       "1      19 2015-01-01           1  Building_Code-B1  Account_ID-1000   \n",
       "2       0 2015-02-01           2  Building_Code-B1  Account_ID-1000   \n",
       "3      31 2015-03-01           3  Building_Code-B1  Account_ID-1000   \n",
       "4      20 2015-04-01           4  Building_Code-B1  Account_ID-1000   \n",
       "\n",
       "  Service_Start_Date Service_End_Date  Consumption  Current_Charges Unit  \\\n",
       "0         2014-12-16       2015-01-16      2473.47           237.45  kWh   \n",
       "1         2015-01-16       2015-02-17      3010.80           406.46  kWh   \n",
       "2         2015-02-17       2015-03-17      2815.17           450.43  kWh   \n",
       "3         2015-03-17       2015-04-17      3446.34           251.58  kWh   \n",
       "4         2015-04-17       2015-05-15      3217.62           167.32  kWh   \n",
       "\n",
       "                              Account Service_Start_Date_Next  \\\n",
       "0  Building_Code-B1 - Account_ID-1000              2015-01-16   \n",
       "1  Building_Code-B1 - Account_ID-1000              2015-02-17   \n",
       "2  Building_Code-B1 - Account_ID-1000              2015-03-17   \n",
       "3  Building_Code-B1 - Account_ID-1000              2015-04-17   \n",
       "4  Building_Code-B1 - Account_ID-1000              2015-05-15   \n",
       "\n",
       "  Service_End_Date_Next  Diff_Next Start_Date_Month End_Date_Month  \\\n",
       "0            2015-02-17        0.0       2014-12-01     2015-01-01   \n",
       "1            2015-03-17        0.0       2015-01-01     2015-02-01   \n",
       "2            2015-04-17        0.0       2015-02-01     2015-03-01   \n",
       "3            2015-05-15        0.0       2015-03-01     2015-04-01   \n",
       "4            2015-06-16        0.0       2015-04-01     2015-05-01   \n",
       "\n",
       "   Prorated_Days  Bill_Duration  Prorated_KWH  Prorated_Charges  \n",
       "0             16             31   1276.629677        122.554839  \n",
       "1             16             32   1505.400000        203.230000  \n",
       "2             12             28   1206.501429        193.041429  \n",
       "3             15             31   1667.583871        121.732258  \n",
       "4             14             28   1608.810000         83.660000  "
      ]
     },
     "execution_count": 350,
     "metadata": {},
     "output_type": "execute_result"
    }
   ],
   "source": [
    "df_with_calendar_month.head()"
   ]
  },
  {
   "cell_type": "markdown",
   "metadata": {},
   "source": [
    "Aggregate the data to Account-Month level by summing up the prorated kwh consupmtion values per calendar_month."
   ]
  },
  {
   "cell_type": "code",
   "execution_count": 351,
   "metadata": {},
   "outputs": [],
   "source": [
    "df_prorated = \\\n",
    "df_with_calendar_month.groupby(['Account','Month']).\\\n",
    "    agg({'Prorated_KWH':'sum', 'Prorated_Charges':'sum', 'Prorated_Days':'sum'}).reset_index()"
   ]
  },
  {
   "cell_type": "code",
   "execution_count": null,
   "metadata": {},
   "outputs": [],
   "source": []
  },
  {
   "cell_type": "markdown",
   "metadata": {},
   "source": [
    "So far for each account we've only been working on the calendar months that the accounts has billing records. We also need to map the account id to the calendar months where it should have data but were not logged or reported."
   ]
  },
  {
   "cell_type": "markdown",
   "metadata": {},
   "source": [
    "Create a dataframe that maps the account (Building_Meter) with all the calendar months that it should have bills."
   ]
  },
  {
   "cell_type": "markdown",
   "metadata": {},
   "source": [
    "Find all unique accounts (Building_Meter) and months in the dataset."
   ]
  },
  {
   "cell_type": "code",
   "execution_count": 357,
   "metadata": {},
   "outputs": [],
   "source": [
    "accounts = df_with_calendar_month.Account.value_counts().index.values\n",
    "\n",
    "end = df_with_calendar_month['Month'].max()\n",
    "start = df_with_calendar_month['Month'].min()\n",
    "diff = (end.year - start.year) * 12 + end.month - start.month\n",
    "# list of unique months\n",
    "months = [start + relativedelta(months=x) for x in range(0, diff + 1)]"
   ]
  },
  {
   "cell_type": "markdown",
   "metadata": {},
   "source": [
    "Create a reference table with all the calendar months and the corresponding # of days in the month. "
   ]
  },
  {
   "cell_type": "code",
   "execution_count": 360,
   "metadata": {},
   "outputs": [],
   "source": [
    "month_days = [(x + relativedelta(months = 1) - x).days for x in months]\n",
    "df_month_days = pd.DataFrame({'Month':months,  'Month_#_Days':month_days})"
   ]
  },
  {
   "cell_type": "markdown",
   "metadata": {},
   "source": [
    "Now we can map the account (Building_Meter) to all the calendar months that it should have billing data (Here we assumed the account should have data in all months between the first and last calendar month that it has billing data of)."
   ]
  },
  {
   "cell_type": "code",
   "execution_count": 362,
   "metadata": {},
   "outputs": [],
   "source": [
    "df_account_month = pd.DataFrame()\n",
    "\n",
    "for j in range(len(meters)):\n",
    "    mask = (df_with_calendar_month['Account'] == accounts[j])\n",
    "    start = df_with_calendar_month[mask]['Month'].min()\n",
    "    end = df_with_calendar_month[mask]['Month'].max()\n",
    "    start_index = months.index(start)\n",
    "    end_index = months.index(end)\n",
    "    \n",
    "    temp_df = pd.DataFrame({'Account':accounts[j], 'Month':months[start_index:end_index + 1]})\n",
    "    temp_df.loc[:, 'Month_Type'] = 'Month_In_The_Middle'\n",
    "    temp_df.loc[0, 'Month_Type'] = 'First_Month'\n",
    "    temp_df.loc[temp_df.shape[0]-1, 'Month_Type'] = 'Last_Month'\n",
    "    df_account_month = pd.concat([df_account_month, temp_df])"
   ]
  },
  {
   "cell_type": "code",
   "execution_count": 367,
   "metadata": {},
   "outputs": [],
   "source": [
    "df_account_month = pd.merge(df_account_month, df_month_days, on = ['Month'], how = 'left')"
   ]
  },
  {
   "cell_type": "markdown",
   "metadata": {},
   "source": [
    "Left join account_meter mapping table to get all months for each account."
   ]
  },
  {
   "cell_type": "code",
   "execution_count": null,
   "metadata": {},
   "outputs": [],
   "source": [
    "df_prorated = pd.merge(df_account_month, df_prorated, on = ['Building_Meter', 'Month'], how = 'left')"
   ]
  },
  {
   "cell_type": "markdown",
   "metadata": {},
   "source": [
    "For months that the account didn't have data, fill in with zeros."
   ]
  },
  {
   "cell_type": "code",
   "execution_count": null,
   "metadata": {},
   "outputs": [],
   "source": [
    "mask = df_prorated['Prorated_Days'].isnull()\n",
    "df_prorated.loc[mask, 'Prorated_KWH'] = 0\n",
    "df_prorated.loc[mask, 'Prorated_Days'] = 0"
   ]
  }
 ],
 "metadata": {
  "kernelspec": {
   "display_name": "Python 3",
   "language": "python",
   "name": "python3"
  },
  "language_info": {
   "codemirror_mode": {
    "name": "ipython",
    "version": 3
   },
   "file_extension": ".py",
   "mimetype": "text/x-python",
   "name": "python",
   "nbconvert_exporter": "python",
   "pygments_lexer": "ipython3",
   "version": "3.6.7"
  }
 },
 "nbformat": 4,
 "nbformat_minor": 2
}
